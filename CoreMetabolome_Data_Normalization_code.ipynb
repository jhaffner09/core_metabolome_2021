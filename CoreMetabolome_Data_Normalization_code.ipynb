{
 "cells": [
  {
   "cell_type": "code",
   "execution_count": 1,
   "metadata": {},
   "outputs": [],
   "source": [
    "setwd(\"E:/McCall_Lab/11.8.2019_UrbanizationRun2/Data_Repository/JupyterNotebook_Code/Normalization/test\")"
   ]
  },
  {
   "cell_type": "code",
   "execution_count": 2,
   "metadata": {},
   "outputs": [],
   "source": [
    "###Reading in data file.\n",
    "features <- read.csv(\"FBMN2_MSrun3_3X_filteredCorrectedBlanks.csv\")"
   ]
  },
  {
   "cell_type": "code",
   "execution_count": 3,
   "metadata": {},
   "outputs": [
    {
     "data": {
      "text/html": [
       "<table class=\"dataframe\">\n",
       "<caption>A data.frame: 6 × 106</caption>\n",
       "<thead>\n",
       "\t<tr><th></th><th scope=col>Features</th><th scope=col>BFTM22_03_BF3.mzXML</th><th scope=col>BFTM17_02_BF3.mzXML</th><th scope=col>BFTM13_01_BF3.mzXML</th><th scope=col>BFTM01_01_BF3.mzXML</th><th scope=col>BFTM23_02_BF3.mzXML</th><th scope=col>GU11.mzXML</th><th scope=col>BFTM10_01_BF3.mzXML</th><th scope=col>BFTM29_01_BF3.mzXML</th><th scope=col>BFTM09_02_BF3.mzXML</th><th scope=col>...</th><th scope=col>HCO65.mzXML</th><th scope=col>HCO64.mzXML</th><th scope=col>HCO74.mzXML</th><th scope=col>HCO70.mzXML</th><th scope=col>HCO53.mzXML</th><th scope=col>HCO17.mzXML</th><th scope=col>HCO72.mzXML</th><th scope=col>TM31.mzXML</th><th scope=col>HCO68.mzXML</th><th scope=col>HCO01.mzXML</th></tr>\n",
       "\t<tr><th></th><th scope=col>&lt;chr&gt;</th><th scope=col>&lt;dbl&gt;</th><th scope=col>&lt;dbl&gt;</th><th scope=col>&lt;dbl&gt;</th><th scope=col>&lt;dbl&gt;</th><th scope=col>&lt;dbl&gt;</th><th scope=col>&lt;dbl&gt;</th><th scope=col>&lt;dbl&gt;</th><th scope=col>&lt;dbl&gt;</th><th scope=col>&lt;dbl&gt;</th><th scope=col>...</th><th scope=col>&lt;dbl&gt;</th><th scope=col>&lt;dbl&gt;</th><th scope=col>&lt;dbl&gt;</th><th scope=col>&lt;dbl&gt;</th><th scope=col>&lt;dbl&gt;</th><th scope=col>&lt;dbl&gt;</th><th scope=col>&lt;dbl&gt;</th><th scope=col>&lt;dbl&gt;</th><th scope=col>&lt;dbl&gt;</th><th scope=col>&lt;dbl&gt;</th></tr>\n",
       "</thead>\n",
       "<tbody>\n",
       "\t<tr><th scope=row>1</th><td>132.102104639083_0.372004304029303</td><td>8.04e+09</td><td>4.58e+09</td><td>1.69e+10</td><td>2.15e+10</td><td>1.13e+10</td><td>1.70e+10</td><td>3.40e+10</td><td>1.28e+10</td><td>3.36e+10</td><td>...</td><td>2.76e+10</td><td>2.44e+10</td><td>2.11e+10</td><td>2.96e+10</td><td>1.87e+10</td><td>2.92e+10</td><td>2.96e+10</td><td>3.28e+10</td><td>2.30e+10</td><td>2.24e+10</td></tr>\n",
       "\t<tr><th scope=row>2</th><td>131.533704622707_12.156923992674  </td><td>1.20e+08</td><td>1.14e+08</td><td>1.14e+08</td><td>1.15e+08</td><td>1.17e+08</td><td>1.14e+08</td><td>1.11e+08</td><td>1.15e+08</td><td>1.13e+08</td><td>...</td><td>1.11e+08</td><td>1.09e+08</td><td>1.08e+08</td><td>1.11e+08</td><td>1.08e+08</td><td>1.12e+08</td><td>1.14e+08</td><td>1.07e+08</td><td>1.05e+08</td><td>1.13e+08</td></tr>\n",
       "\t<tr><th scope=row>3</th><td>132.102110295016_0.384313827838827</td><td>1.73e+10</td><td>1.42e+10</td><td>2.94e+10</td><td>3.17e+10</td><td>1.92e+10</td><td>2.63e+10</td><td>3.87e+10</td><td>2.02e+10</td><td>2.13e+10</td><td>...</td><td>1.65e+10</td><td>1.20e+10</td><td>1.18e+10</td><td>1.92e+10</td><td>3.08e+10</td><td>1.93e+10</td><td>2.96e+10</td><td>4.39e+10</td><td>3.30e+10</td><td>3.26e+10</td></tr>\n",
       "\t<tr><th scope=row>4</th><td>437.193346142153_5.70380036832412 </td><td>1.33e+08</td><td>1.29e+08</td><td>1.56e+08</td><td>1.23e+08</td><td>8.17e+07</td><td>4.96e+07</td><td>2.07e+08</td><td>1.23e+08</td><td>7.37e+07</td><td>...</td><td>3.94e+07</td><td>2.65e+08</td><td>5.12e+07</td><td>6.06e+07</td><td>2.25e+07</td><td>7.52e+07</td><td>4.57e+07</td><td>3.62e+07</td><td>2.50e+08</td><td>4.80e+07</td></tr>\n",
       "\t<tr><th scope=row>5</th><td>118.086554561322_0.32480934065934 </td><td>6.81e+09</td><td>6.79e+09</td><td>1.00e+10</td><td>1.10e+10</td><td>1.87e+09</td><td>9.08e+09</td><td>1.09e+10</td><td>6.69e+09</td><td>1.23e+10</td><td>...</td><td>8.22e+09</td><td>8.45e+09</td><td>7.24e+09</td><td>9.25e+09</td><td>1.03e+10</td><td>8.27e+09</td><td>8.04e+09</td><td>1.15e+10</td><td>9.30e+09</td><td>1.00e+10</td></tr>\n",
       "\t<tr><th scope=row>6</th><td>247.166752680726_12.0809026411657 </td><td>4.31e+07</td><td>4.34e+07</td><td>4.24e+07</td><td>4.47e+07</td><td>4.18e+07</td><td>4.35e+07</td><td>4.56e+07</td><td>4.37e+07</td><td>4.40e+07</td><td>...</td><td>4.21e+07</td><td>4.41e+07</td><td>4.75e+07</td><td>4.30e+07</td><td>4.11e+07</td><td>4.28e+07</td><td>4.34e+07</td><td>4.16e+07</td><td>4.20e+07</td><td>3.85e+07</td></tr>\n",
       "</tbody>\n",
       "</table>\n"
      ],
      "text/latex": [
       "A data.frame: 6 × 106\n",
       "\\begin{tabular}{r|lllllllllllllllllllll}\n",
       "  & Features & BFTM22\\_03\\_BF3.mzXML & BFTM17\\_02\\_BF3.mzXML & BFTM13\\_01\\_BF3.mzXML & BFTM01\\_01\\_BF3.mzXML & BFTM23\\_02\\_BF3.mzXML & GU11.mzXML & BFTM10\\_01\\_BF3.mzXML & BFTM29\\_01\\_BF3.mzXML & BFTM09\\_02\\_BF3.mzXML & ... & HCO65.mzXML & HCO64.mzXML & HCO74.mzXML & HCO70.mzXML & HCO53.mzXML & HCO17.mzXML & HCO72.mzXML & TM31.mzXML & HCO68.mzXML & HCO01.mzXML\\\\\n",
       "  & <chr> & <dbl> & <dbl> & <dbl> & <dbl> & <dbl> & <dbl> & <dbl> & <dbl> & <dbl> & ... & <dbl> & <dbl> & <dbl> & <dbl> & <dbl> & <dbl> & <dbl> & <dbl> & <dbl> & <dbl>\\\\\n",
       "\\hline\n",
       "\t1 & 132.102104639083\\_0.372004304029303 & 8.04e+09 & 4.58e+09 & 1.69e+10 & 2.15e+10 & 1.13e+10 & 1.70e+10 & 3.40e+10 & 1.28e+10 & 3.36e+10 & ... & 2.76e+10 & 2.44e+10 & 2.11e+10 & 2.96e+10 & 1.87e+10 & 2.92e+10 & 2.96e+10 & 3.28e+10 & 2.30e+10 & 2.24e+10\\\\\n",
       "\t2 & 131.533704622707\\_12.156923992674   & 1.20e+08 & 1.14e+08 & 1.14e+08 & 1.15e+08 & 1.17e+08 & 1.14e+08 & 1.11e+08 & 1.15e+08 & 1.13e+08 & ... & 1.11e+08 & 1.09e+08 & 1.08e+08 & 1.11e+08 & 1.08e+08 & 1.12e+08 & 1.14e+08 & 1.07e+08 & 1.05e+08 & 1.13e+08\\\\\n",
       "\t3 & 132.102110295016\\_0.384313827838827 & 1.73e+10 & 1.42e+10 & 2.94e+10 & 3.17e+10 & 1.92e+10 & 2.63e+10 & 3.87e+10 & 2.02e+10 & 2.13e+10 & ... & 1.65e+10 & 1.20e+10 & 1.18e+10 & 1.92e+10 & 3.08e+10 & 1.93e+10 & 2.96e+10 & 4.39e+10 & 3.30e+10 & 3.26e+10\\\\\n",
       "\t4 & 437.193346142153\\_5.70380036832412  & 1.33e+08 & 1.29e+08 & 1.56e+08 & 1.23e+08 & 8.17e+07 & 4.96e+07 & 2.07e+08 & 1.23e+08 & 7.37e+07 & ... & 3.94e+07 & 2.65e+08 & 5.12e+07 & 6.06e+07 & 2.25e+07 & 7.52e+07 & 4.57e+07 & 3.62e+07 & 2.50e+08 & 4.80e+07\\\\\n",
       "\t5 & 118.086554561322\\_0.32480934065934  & 6.81e+09 & 6.79e+09 & 1.00e+10 & 1.10e+10 & 1.87e+09 & 9.08e+09 & 1.09e+10 & 6.69e+09 & 1.23e+10 & ... & 8.22e+09 & 8.45e+09 & 7.24e+09 & 9.25e+09 & 1.03e+10 & 8.27e+09 & 8.04e+09 & 1.15e+10 & 9.30e+09 & 1.00e+10\\\\\n",
       "\t6 & 247.166752680726\\_12.0809026411657  & 4.31e+07 & 4.34e+07 & 4.24e+07 & 4.47e+07 & 4.18e+07 & 4.35e+07 & 4.56e+07 & 4.37e+07 & 4.40e+07 & ... & 4.21e+07 & 4.41e+07 & 4.75e+07 & 4.30e+07 & 4.11e+07 & 4.28e+07 & 4.34e+07 & 4.16e+07 & 4.20e+07 & 3.85e+07\\\\\n",
       "\\end{tabular}\n"
      ],
      "text/markdown": [
       "\n",
       "A data.frame: 6 × 106\n",
       "\n",
       "| <!--/--> | Features &lt;chr&gt; | BFTM22_03_BF3.mzXML &lt;dbl&gt; | BFTM17_02_BF3.mzXML &lt;dbl&gt; | BFTM13_01_BF3.mzXML &lt;dbl&gt; | BFTM01_01_BF3.mzXML &lt;dbl&gt; | BFTM23_02_BF3.mzXML &lt;dbl&gt; | GU11.mzXML &lt;dbl&gt; | BFTM10_01_BF3.mzXML &lt;dbl&gt; | BFTM29_01_BF3.mzXML &lt;dbl&gt; | BFTM09_02_BF3.mzXML &lt;dbl&gt; | ... ... | HCO65.mzXML &lt;dbl&gt; | HCO64.mzXML &lt;dbl&gt; | HCO74.mzXML &lt;dbl&gt; | HCO70.mzXML &lt;dbl&gt; | HCO53.mzXML &lt;dbl&gt; | HCO17.mzXML &lt;dbl&gt; | HCO72.mzXML &lt;dbl&gt; | TM31.mzXML &lt;dbl&gt; | HCO68.mzXML &lt;dbl&gt; | HCO01.mzXML &lt;dbl&gt; |\n",
       "|---|---|---|---|---|---|---|---|---|---|---|---|---|---|---|---|---|---|---|---|---|---|\n",
       "| 1 | 132.102104639083_0.372004304029303 | 8.04e+09 | 4.58e+09 | 1.69e+10 | 2.15e+10 | 1.13e+10 | 1.70e+10 | 3.40e+10 | 1.28e+10 | 3.36e+10 | ... | 2.76e+10 | 2.44e+10 | 2.11e+10 | 2.96e+10 | 1.87e+10 | 2.92e+10 | 2.96e+10 | 3.28e+10 | 2.30e+10 | 2.24e+10 |\n",
       "| 2 | 131.533704622707_12.156923992674   | 1.20e+08 | 1.14e+08 | 1.14e+08 | 1.15e+08 | 1.17e+08 | 1.14e+08 | 1.11e+08 | 1.15e+08 | 1.13e+08 | ... | 1.11e+08 | 1.09e+08 | 1.08e+08 | 1.11e+08 | 1.08e+08 | 1.12e+08 | 1.14e+08 | 1.07e+08 | 1.05e+08 | 1.13e+08 |\n",
       "| 3 | 132.102110295016_0.384313827838827 | 1.73e+10 | 1.42e+10 | 2.94e+10 | 3.17e+10 | 1.92e+10 | 2.63e+10 | 3.87e+10 | 2.02e+10 | 2.13e+10 | ... | 1.65e+10 | 1.20e+10 | 1.18e+10 | 1.92e+10 | 3.08e+10 | 1.93e+10 | 2.96e+10 | 4.39e+10 | 3.30e+10 | 3.26e+10 |\n",
       "| 4 | 437.193346142153_5.70380036832412  | 1.33e+08 | 1.29e+08 | 1.56e+08 | 1.23e+08 | 8.17e+07 | 4.96e+07 | 2.07e+08 | 1.23e+08 | 7.37e+07 | ... | 3.94e+07 | 2.65e+08 | 5.12e+07 | 6.06e+07 | 2.25e+07 | 7.52e+07 | 4.57e+07 | 3.62e+07 | 2.50e+08 | 4.80e+07 |\n",
       "| 5 | 118.086554561322_0.32480934065934  | 6.81e+09 | 6.79e+09 | 1.00e+10 | 1.10e+10 | 1.87e+09 | 9.08e+09 | 1.09e+10 | 6.69e+09 | 1.23e+10 | ... | 8.22e+09 | 8.45e+09 | 7.24e+09 | 9.25e+09 | 1.03e+10 | 8.27e+09 | 8.04e+09 | 1.15e+10 | 9.30e+09 | 1.00e+10 |\n",
       "| 6 | 247.166752680726_12.0809026411657  | 4.31e+07 | 4.34e+07 | 4.24e+07 | 4.47e+07 | 4.18e+07 | 4.35e+07 | 4.56e+07 | 4.37e+07 | 4.40e+07 | ... | 4.21e+07 | 4.41e+07 | 4.75e+07 | 4.30e+07 | 4.11e+07 | 4.28e+07 | 4.34e+07 | 4.16e+07 | 4.20e+07 | 3.85e+07 |\n",
       "\n"
      ],
      "text/plain": [
       "  Features                           BFTM22_03_BF3.mzXML BFTM17_02_BF3.mzXML\n",
       "1 132.102104639083_0.372004304029303 8.04e+09            4.58e+09           \n",
       "2 131.533704622707_12.156923992674   1.20e+08            1.14e+08           \n",
       "3 132.102110295016_0.384313827838827 1.73e+10            1.42e+10           \n",
       "4 437.193346142153_5.70380036832412  1.33e+08            1.29e+08           \n",
       "5 118.086554561322_0.32480934065934  6.81e+09            6.79e+09           \n",
       "6 247.166752680726_12.0809026411657  4.31e+07            4.34e+07           \n",
       "  BFTM13_01_BF3.mzXML BFTM01_01_BF3.mzXML BFTM23_02_BF3.mzXML GU11.mzXML\n",
       "1 1.69e+10            2.15e+10            1.13e+10            1.70e+10  \n",
       "2 1.14e+08            1.15e+08            1.17e+08            1.14e+08  \n",
       "3 2.94e+10            3.17e+10            1.92e+10            2.63e+10  \n",
       "4 1.56e+08            1.23e+08            8.17e+07            4.96e+07  \n",
       "5 1.00e+10            1.10e+10            1.87e+09            9.08e+09  \n",
       "6 4.24e+07            4.47e+07            4.18e+07            4.35e+07  \n",
       "  BFTM10_01_BF3.mzXML BFTM29_01_BF3.mzXML BFTM09_02_BF3.mzXML ... HCO65.mzXML\n",
       "1 3.40e+10            1.28e+10            3.36e+10            ... 2.76e+10   \n",
       "2 1.11e+08            1.15e+08            1.13e+08            ... 1.11e+08   \n",
       "3 3.87e+10            2.02e+10            2.13e+10            ... 1.65e+10   \n",
       "4 2.07e+08            1.23e+08            7.37e+07            ... 3.94e+07   \n",
       "5 1.09e+10            6.69e+09            1.23e+10            ... 8.22e+09   \n",
       "6 4.56e+07            4.37e+07            4.40e+07            ... 4.21e+07   \n",
       "  HCO64.mzXML HCO74.mzXML HCO70.mzXML HCO53.mzXML HCO17.mzXML HCO72.mzXML\n",
       "1 2.44e+10    2.11e+10    2.96e+10    1.87e+10    2.92e+10    2.96e+10   \n",
       "2 1.09e+08    1.08e+08    1.11e+08    1.08e+08    1.12e+08    1.14e+08   \n",
       "3 1.20e+10    1.18e+10    1.92e+10    3.08e+10    1.93e+10    2.96e+10   \n",
       "4 2.65e+08    5.12e+07    6.06e+07    2.25e+07    7.52e+07    4.57e+07   \n",
       "5 8.45e+09    7.24e+09    9.25e+09    1.03e+10    8.27e+09    8.04e+09   \n",
       "6 4.41e+07    4.75e+07    4.30e+07    4.11e+07    4.28e+07    4.34e+07   \n",
       "  TM31.mzXML HCO68.mzXML HCO01.mzXML\n",
       "1 3.28e+10   2.30e+10    2.24e+10   \n",
       "2 1.07e+08   1.05e+08    1.13e+08   \n",
       "3 4.39e+10   3.30e+10    3.26e+10   \n",
       "4 3.62e+07   2.50e+08    4.80e+07   \n",
       "5 1.15e+10   9.30e+09    1.00e+10   \n",
       "6 4.16e+07   4.20e+07    3.85e+07   "
      ]
     },
     "metadata": {},
     "output_type": "display_data"
    },
    {
     "data": {
      "text/html": [
       "<style>\n",
       ".list-inline {list-style: none; margin:0; padding: 0}\n",
       ".list-inline>li {display: inline-block}\n",
       ".list-inline>li:not(:last-child)::after {content: \"\\00b7\"; padding: 0 .5ex}\n",
       "</style>\n",
       "<ol class=list-inline><li>34088</li><li>106</li></ol>\n"
      ],
      "text/latex": [
       "\\begin{enumerate*}\n",
       "\\item 34088\n",
       "\\item 106\n",
       "\\end{enumerate*}\n"
      ],
      "text/markdown": [
       "1. 34088\n",
       "2. 106\n",
       "\n",
       "\n"
      ],
      "text/plain": [
       "[1] 34088   106"
      ]
     },
     "metadata": {},
     "output_type": "display_data"
    }
   ],
   "source": [
    "head(features)\n",
    "dim(features)"
   ]
  },
  {
   "cell_type": "code",
   "execution_count": 4,
   "metadata": {},
   "outputs": [],
   "source": [
    "###Transposing the data so samples become rows and metabolite features become columns.\n",
    "features_trans <- t(features[,2:ncol(features)])"
   ]
  },
  {
   "cell_type": "code",
   "execution_count": 5,
   "metadata": {},
   "outputs": [
    {
     "data": {
      "text/html": [
       "<table class=\"dataframe\">\n",
       "<caption>A matrix: 6 × 34088 of type dbl</caption>\n",
       "<tbody>\n",
       "\t<tr><th scope=row>BFTM22_03_BF3.mzXML</th><td>8.04e+09</td><td>1.20e+08</td><td>1.73e+10</td><td>1.33e+08</td><td>6.81e+09</td><td>43100000</td><td>18200000</td><td>9.02e+07</td><td>3.80e+07</td><td>3.10e+07</td><td>...</td><td>0</td><td>0</td><td>0</td><td>     0.0</td><td>0</td><td>0</td><td>0</td><td>0</td><td>0</td><td>0</td></tr>\n",
       "\t<tr><th scope=row>BFTM17_02_BF3.mzXML</th><td>4.58e+09</td><td>1.14e+08</td><td>1.42e+10</td><td>1.29e+08</td><td>6.79e+09</td><td>43400000</td><td>18700000</td><td>1.03e+08</td><td>1.44e+08</td><td>3.63e+07</td><td>...</td><td>0</td><td>0</td><td>0</td><td>     0.0</td><td>0</td><td>0</td><td>0</td><td>0</td><td>0</td><td>0</td></tr>\n",
       "\t<tr><th scope=row>BFTM13_01_BF3.mzXML</th><td>1.69e+10</td><td>1.14e+08</td><td>2.94e+10</td><td>1.56e+08</td><td>1.00e+10</td><td>42400000</td><td>19600000</td><td>9.54e+07</td><td>6.35e+07</td><td>4.93e+07</td><td>...</td><td>0</td><td>0</td><td>0</td><td>     0.0</td><td>0</td><td>0</td><td>0</td><td>0</td><td>0</td><td>0</td></tr>\n",
       "\t<tr><th scope=row>BFTM01_01_BF3.mzXML</th><td>2.15e+10</td><td>1.15e+08</td><td>3.17e+10</td><td>1.23e+08</td><td>1.10e+10</td><td>44700000</td><td>14900000</td><td>1.04e+08</td><td>6.36e+07</td><td>2.80e+07</td><td>...</td><td>0</td><td>0</td><td>0</td><td>     0.0</td><td>0</td><td>0</td><td>0</td><td>0</td><td>0</td><td>0</td></tr>\n",
       "\t<tr><th scope=row>BFTM23_02_BF3.mzXML</th><td>1.13e+10</td><td>1.17e+08</td><td>1.92e+10</td><td>8.17e+07</td><td>1.87e+09</td><td>41800000</td><td>14600000</td><td>6.43e+07</td><td>7.58e+07</td><td>5.58e+07</td><td>...</td><td>0</td><td>0</td><td>0</td><td>330622.2</td><td>0</td><td>0</td><td>0</td><td>0</td><td>0</td><td>0</td></tr>\n",
       "\t<tr><th scope=row>GU11.mzXML</th><td>1.70e+10</td><td>1.14e+08</td><td>2.63e+10</td><td>4.96e+07</td><td>9.08e+09</td><td>43500000</td><td>10800000</td><td>9.12e+07</td><td>4.80e+07</td><td>1.02e+08</td><td>...</td><td>0</td><td>0</td><td>0</td><td>651493.0</td><td>0</td><td>0</td><td>0</td><td>0</td><td>0</td><td>0</td></tr>\n",
       "</tbody>\n",
       "</table>\n"
      ],
      "text/latex": [
       "A matrix: 6 × 34088 of type dbl\n",
       "\\begin{tabular}{r|lllllllllllllllllllll}\n",
       "\tBFTM22\\_03\\_BF3.mzXML & 8.04e+09 & 1.20e+08 & 1.73e+10 & 1.33e+08 & 6.81e+09 & 43100000 & 18200000 & 9.02e+07 & 3.80e+07 & 3.10e+07 & ... & 0 & 0 & 0 &      0.0 & 0 & 0 & 0 & 0 & 0 & 0\\\\\n",
       "\tBFTM17\\_02\\_BF3.mzXML & 4.58e+09 & 1.14e+08 & 1.42e+10 & 1.29e+08 & 6.79e+09 & 43400000 & 18700000 & 1.03e+08 & 1.44e+08 & 3.63e+07 & ... & 0 & 0 & 0 &      0.0 & 0 & 0 & 0 & 0 & 0 & 0\\\\\n",
       "\tBFTM13\\_01\\_BF3.mzXML & 1.69e+10 & 1.14e+08 & 2.94e+10 & 1.56e+08 & 1.00e+10 & 42400000 & 19600000 & 9.54e+07 & 6.35e+07 & 4.93e+07 & ... & 0 & 0 & 0 &      0.0 & 0 & 0 & 0 & 0 & 0 & 0\\\\\n",
       "\tBFTM01\\_01\\_BF3.mzXML & 2.15e+10 & 1.15e+08 & 3.17e+10 & 1.23e+08 & 1.10e+10 & 44700000 & 14900000 & 1.04e+08 & 6.36e+07 & 2.80e+07 & ... & 0 & 0 & 0 &      0.0 & 0 & 0 & 0 & 0 & 0 & 0\\\\\n",
       "\tBFTM23\\_02\\_BF3.mzXML & 1.13e+10 & 1.17e+08 & 1.92e+10 & 8.17e+07 & 1.87e+09 & 41800000 & 14600000 & 6.43e+07 & 7.58e+07 & 5.58e+07 & ... & 0 & 0 & 0 & 330622.2 & 0 & 0 & 0 & 0 & 0 & 0\\\\\n",
       "\tGU11.mzXML & 1.70e+10 & 1.14e+08 & 2.63e+10 & 4.96e+07 & 9.08e+09 & 43500000 & 10800000 & 9.12e+07 & 4.80e+07 & 1.02e+08 & ... & 0 & 0 & 0 & 651493.0 & 0 & 0 & 0 & 0 & 0 & 0\\\\\n",
       "\\end{tabular}\n"
      ],
      "text/markdown": [
       "\n",
       "A matrix: 6 × 34088 of type dbl\n",
       "\n",
       "| BFTM22_03_BF3.mzXML | 8.04e+09 | 1.20e+08 | 1.73e+10 | 1.33e+08 | 6.81e+09 | 43100000 | 18200000 | 9.02e+07 | 3.80e+07 | 3.10e+07 | ... | 0 | 0 | 0 |      0.0 | 0 | 0 | 0 | 0 | 0 | 0 |\n",
       "| BFTM17_02_BF3.mzXML | 4.58e+09 | 1.14e+08 | 1.42e+10 | 1.29e+08 | 6.79e+09 | 43400000 | 18700000 | 1.03e+08 | 1.44e+08 | 3.63e+07 | ... | 0 | 0 | 0 |      0.0 | 0 | 0 | 0 | 0 | 0 | 0 |\n",
       "| BFTM13_01_BF3.mzXML | 1.69e+10 | 1.14e+08 | 2.94e+10 | 1.56e+08 | 1.00e+10 | 42400000 | 19600000 | 9.54e+07 | 6.35e+07 | 4.93e+07 | ... | 0 | 0 | 0 |      0.0 | 0 | 0 | 0 | 0 | 0 | 0 |\n",
       "| BFTM01_01_BF3.mzXML | 2.15e+10 | 1.15e+08 | 3.17e+10 | 1.23e+08 | 1.10e+10 | 44700000 | 14900000 | 1.04e+08 | 6.36e+07 | 2.80e+07 | ... | 0 | 0 | 0 |      0.0 | 0 | 0 | 0 | 0 | 0 | 0 |\n",
       "| BFTM23_02_BF3.mzXML | 1.13e+10 | 1.17e+08 | 1.92e+10 | 8.17e+07 | 1.87e+09 | 41800000 | 14600000 | 6.43e+07 | 7.58e+07 | 5.58e+07 | ... | 0 | 0 | 0 | 330622.2 | 0 | 0 | 0 | 0 | 0 | 0 |\n",
       "| GU11.mzXML | 1.70e+10 | 1.14e+08 | 2.63e+10 | 4.96e+07 | 9.08e+09 | 43500000 | 10800000 | 9.12e+07 | 4.80e+07 | 1.02e+08 | ... | 0 | 0 | 0 | 651493.0 | 0 | 0 | 0 | 0 | 0 | 0 |\n",
       "\n"
      ],
      "text/plain": [
       "                    [,1]     [,2]     [,3]     [,4]     [,5]     [,6]    \n",
       "BFTM22_03_BF3.mzXML 8.04e+09 1.20e+08 1.73e+10 1.33e+08 6.81e+09 43100000\n",
       "BFTM17_02_BF3.mzXML 4.58e+09 1.14e+08 1.42e+10 1.29e+08 6.79e+09 43400000\n",
       "BFTM13_01_BF3.mzXML 1.69e+10 1.14e+08 2.94e+10 1.56e+08 1.00e+10 42400000\n",
       "BFTM01_01_BF3.mzXML 2.15e+10 1.15e+08 3.17e+10 1.23e+08 1.10e+10 44700000\n",
       "BFTM23_02_BF3.mzXML 1.13e+10 1.17e+08 1.92e+10 8.17e+07 1.87e+09 41800000\n",
       "GU11.mzXML          1.70e+10 1.14e+08 2.63e+10 4.96e+07 9.08e+09 43500000\n",
       "                    [,7]     [,8]     [,9]     [,10]    [,11] [,12] [,13] [,14]\n",
       "BFTM22_03_BF3.mzXML 18200000 9.02e+07 3.80e+07 3.10e+07 ...   0     0     0    \n",
       "BFTM17_02_BF3.mzXML 18700000 1.03e+08 1.44e+08 3.63e+07 ...   0     0     0    \n",
       "BFTM13_01_BF3.mzXML 19600000 9.54e+07 6.35e+07 4.93e+07 ...   0     0     0    \n",
       "BFTM01_01_BF3.mzXML 14900000 1.04e+08 6.36e+07 2.80e+07 ...   0     0     0    \n",
       "BFTM23_02_BF3.mzXML 14600000 6.43e+07 7.58e+07 5.58e+07 ...   0     0     0    \n",
       "GU11.mzXML          10800000 9.12e+07 4.80e+07 1.02e+08 ...   0     0     0    \n",
       "                    [,15]    [,16] [,17] [,18] [,19] [,20] [,21]\n",
       "BFTM22_03_BF3.mzXML      0.0 0     0     0     0     0     0    \n",
       "BFTM17_02_BF3.mzXML      0.0 0     0     0     0     0     0    \n",
       "BFTM13_01_BF3.mzXML      0.0 0     0     0     0     0     0    \n",
       "BFTM01_01_BF3.mzXML      0.0 0     0     0     0     0     0    \n",
       "BFTM23_02_BF3.mzXML 330622.2 0     0     0     0     0     0    \n",
       "GU11.mzXML          651493.0 0     0     0     0     0     0    "
      ]
     },
     "metadata": {},
     "output_type": "display_data"
    }
   ],
   "source": [
    "###Making sure this step worked correctly.\n",
    "head(features_trans)"
   ]
  },
  {
   "cell_type": "code",
   "execution_count": 6,
   "metadata": {},
   "outputs": [],
   "source": [
    "###Saving as a new csv file.\n",
    "write.csv(features_trans, \"./FBMN2_Msrun3_3xFiltered_CorrectedBlanks_transposed.csv\")"
   ]
  },
  {
   "cell_type": "code",
   "execution_count": 7,
   "metadata": {},
   "outputs": [],
   "source": [
    "###Reading in this new file, making it a data frame, and binding it to a new name.\n",
    "features_df <- as.data.frame(features_trans)"
   ]
  },
  {
   "cell_type": "code",
   "execution_count": 8,
   "metadata": {},
   "outputs": [
    {
     "data": {
      "text/html": [
       "<table class=\"dataframe\">\n",
       "<caption>A data.frame: 6 × 34088</caption>\n",
       "<thead>\n",
       "\t<tr><th></th><th scope=col>V1</th><th scope=col>V2</th><th scope=col>V3</th><th scope=col>V4</th><th scope=col>V5</th><th scope=col>V6</th><th scope=col>V7</th><th scope=col>V8</th><th scope=col>V9</th><th scope=col>V10</th><th scope=col>...</th><th scope=col>V34079</th><th scope=col>V34080</th><th scope=col>V34081</th><th scope=col>V34082</th><th scope=col>V34083</th><th scope=col>V34084</th><th scope=col>V34085</th><th scope=col>V34086</th><th scope=col>V34087</th><th scope=col>V34088</th></tr>\n",
       "\t<tr><th></th><th scope=col>&lt;dbl&gt;</th><th scope=col>&lt;dbl&gt;</th><th scope=col>&lt;dbl&gt;</th><th scope=col>&lt;dbl&gt;</th><th scope=col>&lt;dbl&gt;</th><th scope=col>&lt;dbl&gt;</th><th scope=col>&lt;dbl&gt;</th><th scope=col>&lt;dbl&gt;</th><th scope=col>&lt;dbl&gt;</th><th scope=col>&lt;dbl&gt;</th><th scope=col>...</th><th scope=col>&lt;dbl&gt;</th><th scope=col>&lt;dbl&gt;</th><th scope=col>&lt;dbl&gt;</th><th scope=col>&lt;dbl&gt;</th><th scope=col>&lt;dbl&gt;</th><th scope=col>&lt;dbl&gt;</th><th scope=col>&lt;dbl&gt;</th><th scope=col>&lt;dbl&gt;</th><th scope=col>&lt;dbl&gt;</th><th scope=col>&lt;dbl&gt;</th></tr>\n",
       "</thead>\n",
       "<tbody>\n",
       "\t<tr><th scope=row>BFTM22_03_BF3.mzXML</th><td>8.04e+09</td><td>1.20e+08</td><td>1.73e+10</td><td>1.33e+08</td><td>6.81e+09</td><td>43100000</td><td>18200000</td><td>9.02e+07</td><td>3.80e+07</td><td>3.10e+07</td><td>...</td><td>0</td><td>0</td><td>0</td><td>     0.0</td><td>0</td><td>0</td><td>0</td><td>0</td><td>0</td><td>0</td></tr>\n",
       "\t<tr><th scope=row>BFTM17_02_BF3.mzXML</th><td>4.58e+09</td><td>1.14e+08</td><td>1.42e+10</td><td>1.29e+08</td><td>6.79e+09</td><td>43400000</td><td>18700000</td><td>1.03e+08</td><td>1.44e+08</td><td>3.63e+07</td><td>...</td><td>0</td><td>0</td><td>0</td><td>     0.0</td><td>0</td><td>0</td><td>0</td><td>0</td><td>0</td><td>0</td></tr>\n",
       "\t<tr><th scope=row>BFTM13_01_BF3.mzXML</th><td>1.69e+10</td><td>1.14e+08</td><td>2.94e+10</td><td>1.56e+08</td><td>1.00e+10</td><td>42400000</td><td>19600000</td><td>9.54e+07</td><td>6.35e+07</td><td>4.93e+07</td><td>...</td><td>0</td><td>0</td><td>0</td><td>     0.0</td><td>0</td><td>0</td><td>0</td><td>0</td><td>0</td><td>0</td></tr>\n",
       "\t<tr><th scope=row>BFTM01_01_BF3.mzXML</th><td>2.15e+10</td><td>1.15e+08</td><td>3.17e+10</td><td>1.23e+08</td><td>1.10e+10</td><td>44700000</td><td>14900000</td><td>1.04e+08</td><td>6.36e+07</td><td>2.80e+07</td><td>...</td><td>0</td><td>0</td><td>0</td><td>     0.0</td><td>0</td><td>0</td><td>0</td><td>0</td><td>0</td><td>0</td></tr>\n",
       "\t<tr><th scope=row>BFTM23_02_BF3.mzXML</th><td>1.13e+10</td><td>1.17e+08</td><td>1.92e+10</td><td>8.17e+07</td><td>1.87e+09</td><td>41800000</td><td>14600000</td><td>6.43e+07</td><td>7.58e+07</td><td>5.58e+07</td><td>...</td><td>0</td><td>0</td><td>0</td><td>330622.2</td><td>0</td><td>0</td><td>0</td><td>0</td><td>0</td><td>0</td></tr>\n",
       "\t<tr><th scope=row>GU11.mzXML</th><td>1.70e+10</td><td>1.14e+08</td><td>2.63e+10</td><td>4.96e+07</td><td>9.08e+09</td><td>43500000</td><td>10800000</td><td>9.12e+07</td><td>4.80e+07</td><td>1.02e+08</td><td>...</td><td>0</td><td>0</td><td>0</td><td>651493.0</td><td>0</td><td>0</td><td>0</td><td>0</td><td>0</td><td>0</td></tr>\n",
       "</tbody>\n",
       "</table>\n"
      ],
      "text/latex": [
       "A data.frame: 6 × 34088\n",
       "\\begin{tabular}{r|lllllllllllllllllllll}\n",
       "  & V1 & V2 & V3 & V4 & V5 & V6 & V7 & V8 & V9 & V10 & ... & V34079 & V34080 & V34081 & V34082 & V34083 & V34084 & V34085 & V34086 & V34087 & V34088\\\\\n",
       "  & <dbl> & <dbl> & <dbl> & <dbl> & <dbl> & <dbl> & <dbl> & <dbl> & <dbl> & <dbl> & ... & <dbl> & <dbl> & <dbl> & <dbl> & <dbl> & <dbl> & <dbl> & <dbl> & <dbl> & <dbl>\\\\\n",
       "\\hline\n",
       "\tBFTM22\\_03\\_BF3.mzXML & 8.04e+09 & 1.20e+08 & 1.73e+10 & 1.33e+08 & 6.81e+09 & 43100000 & 18200000 & 9.02e+07 & 3.80e+07 & 3.10e+07 & ... & 0 & 0 & 0 &      0.0 & 0 & 0 & 0 & 0 & 0 & 0\\\\\n",
       "\tBFTM17\\_02\\_BF3.mzXML & 4.58e+09 & 1.14e+08 & 1.42e+10 & 1.29e+08 & 6.79e+09 & 43400000 & 18700000 & 1.03e+08 & 1.44e+08 & 3.63e+07 & ... & 0 & 0 & 0 &      0.0 & 0 & 0 & 0 & 0 & 0 & 0\\\\\n",
       "\tBFTM13\\_01\\_BF3.mzXML & 1.69e+10 & 1.14e+08 & 2.94e+10 & 1.56e+08 & 1.00e+10 & 42400000 & 19600000 & 9.54e+07 & 6.35e+07 & 4.93e+07 & ... & 0 & 0 & 0 &      0.0 & 0 & 0 & 0 & 0 & 0 & 0\\\\\n",
       "\tBFTM01\\_01\\_BF3.mzXML & 2.15e+10 & 1.15e+08 & 3.17e+10 & 1.23e+08 & 1.10e+10 & 44700000 & 14900000 & 1.04e+08 & 6.36e+07 & 2.80e+07 & ... & 0 & 0 & 0 &      0.0 & 0 & 0 & 0 & 0 & 0 & 0\\\\\n",
       "\tBFTM23\\_02\\_BF3.mzXML & 1.13e+10 & 1.17e+08 & 1.92e+10 & 8.17e+07 & 1.87e+09 & 41800000 & 14600000 & 6.43e+07 & 7.58e+07 & 5.58e+07 & ... & 0 & 0 & 0 & 330622.2 & 0 & 0 & 0 & 0 & 0 & 0\\\\\n",
       "\tGU11.mzXML & 1.70e+10 & 1.14e+08 & 2.63e+10 & 4.96e+07 & 9.08e+09 & 43500000 & 10800000 & 9.12e+07 & 4.80e+07 & 1.02e+08 & ... & 0 & 0 & 0 & 651493.0 & 0 & 0 & 0 & 0 & 0 & 0\\\\\n",
       "\\end{tabular}\n"
      ],
      "text/markdown": [
       "\n",
       "A data.frame: 6 × 34088\n",
       "\n",
       "| <!--/--> | V1 &lt;dbl&gt; | V2 &lt;dbl&gt; | V3 &lt;dbl&gt; | V4 &lt;dbl&gt; | V5 &lt;dbl&gt; | V6 &lt;dbl&gt; | V7 &lt;dbl&gt; | V8 &lt;dbl&gt; | V9 &lt;dbl&gt; | V10 &lt;dbl&gt; | ... ... | V34079 &lt;dbl&gt; | V34080 &lt;dbl&gt; | V34081 &lt;dbl&gt; | V34082 &lt;dbl&gt; | V34083 &lt;dbl&gt; | V34084 &lt;dbl&gt; | V34085 &lt;dbl&gt; | V34086 &lt;dbl&gt; | V34087 &lt;dbl&gt; | V34088 &lt;dbl&gt; |\n",
       "|---|---|---|---|---|---|---|---|---|---|---|---|---|---|---|---|---|---|---|---|---|---|\n",
       "| BFTM22_03_BF3.mzXML | 8.04e+09 | 1.20e+08 | 1.73e+10 | 1.33e+08 | 6.81e+09 | 43100000 | 18200000 | 9.02e+07 | 3.80e+07 | 3.10e+07 | ... | 0 | 0 | 0 |      0.0 | 0 | 0 | 0 | 0 | 0 | 0 |\n",
       "| BFTM17_02_BF3.mzXML | 4.58e+09 | 1.14e+08 | 1.42e+10 | 1.29e+08 | 6.79e+09 | 43400000 | 18700000 | 1.03e+08 | 1.44e+08 | 3.63e+07 | ... | 0 | 0 | 0 |      0.0 | 0 | 0 | 0 | 0 | 0 | 0 |\n",
       "| BFTM13_01_BF3.mzXML | 1.69e+10 | 1.14e+08 | 2.94e+10 | 1.56e+08 | 1.00e+10 | 42400000 | 19600000 | 9.54e+07 | 6.35e+07 | 4.93e+07 | ... | 0 | 0 | 0 |      0.0 | 0 | 0 | 0 | 0 | 0 | 0 |\n",
       "| BFTM01_01_BF3.mzXML | 2.15e+10 | 1.15e+08 | 3.17e+10 | 1.23e+08 | 1.10e+10 | 44700000 | 14900000 | 1.04e+08 | 6.36e+07 | 2.80e+07 | ... | 0 | 0 | 0 |      0.0 | 0 | 0 | 0 | 0 | 0 | 0 |\n",
       "| BFTM23_02_BF3.mzXML | 1.13e+10 | 1.17e+08 | 1.92e+10 | 8.17e+07 | 1.87e+09 | 41800000 | 14600000 | 6.43e+07 | 7.58e+07 | 5.58e+07 | ... | 0 | 0 | 0 | 330622.2 | 0 | 0 | 0 | 0 | 0 | 0 |\n",
       "| GU11.mzXML | 1.70e+10 | 1.14e+08 | 2.63e+10 | 4.96e+07 | 9.08e+09 | 43500000 | 10800000 | 9.12e+07 | 4.80e+07 | 1.02e+08 | ... | 0 | 0 | 0 | 651493.0 | 0 | 0 | 0 | 0 | 0 | 0 |\n",
       "\n"
      ],
      "text/plain": [
       "                    V1       V2       V3       V4       V5       V6      \n",
       "BFTM22_03_BF3.mzXML 8.04e+09 1.20e+08 1.73e+10 1.33e+08 6.81e+09 43100000\n",
       "BFTM17_02_BF3.mzXML 4.58e+09 1.14e+08 1.42e+10 1.29e+08 6.79e+09 43400000\n",
       "BFTM13_01_BF3.mzXML 1.69e+10 1.14e+08 2.94e+10 1.56e+08 1.00e+10 42400000\n",
       "BFTM01_01_BF3.mzXML 2.15e+10 1.15e+08 3.17e+10 1.23e+08 1.10e+10 44700000\n",
       "BFTM23_02_BF3.mzXML 1.13e+10 1.17e+08 1.92e+10 8.17e+07 1.87e+09 41800000\n",
       "GU11.mzXML          1.70e+10 1.14e+08 2.63e+10 4.96e+07 9.08e+09 43500000\n",
       "                    V7       V8       V9       V10      ... V34079 V34080\n",
       "BFTM22_03_BF3.mzXML 18200000 9.02e+07 3.80e+07 3.10e+07 ... 0      0     \n",
       "BFTM17_02_BF3.mzXML 18700000 1.03e+08 1.44e+08 3.63e+07 ... 0      0     \n",
       "BFTM13_01_BF3.mzXML 19600000 9.54e+07 6.35e+07 4.93e+07 ... 0      0     \n",
       "BFTM01_01_BF3.mzXML 14900000 1.04e+08 6.36e+07 2.80e+07 ... 0      0     \n",
       "BFTM23_02_BF3.mzXML 14600000 6.43e+07 7.58e+07 5.58e+07 ... 0      0     \n",
       "GU11.mzXML          10800000 9.12e+07 4.80e+07 1.02e+08 ... 0      0     \n",
       "                    V34081 V34082   V34083 V34084 V34085 V34086 V34087 V34088\n",
       "BFTM22_03_BF3.mzXML 0           0.0 0      0      0      0      0      0     \n",
       "BFTM17_02_BF3.mzXML 0           0.0 0      0      0      0      0      0     \n",
       "BFTM13_01_BF3.mzXML 0           0.0 0      0      0      0      0      0     \n",
       "BFTM01_01_BF3.mzXML 0           0.0 0      0      0      0      0      0     \n",
       "BFTM23_02_BF3.mzXML 0      330622.2 0      0      0      0      0      0     \n",
       "GU11.mzXML          0      651493.0 0      0      0      0      0      0     "
      ]
     },
     "metadata": {},
     "output_type": "display_data"
    }
   ],
   "source": [
    "head(features_df)"
   ]
  },
  {
   "cell_type": "code",
   "execution_count": 9,
   "metadata": {},
   "outputs": [],
   "source": [
    "###Taking the first column from our original file and assigning it to the column names of the second file.\n",
    "colnames(features_df) <- features[,1]"
   ]
  },
  {
   "cell_type": "code",
   "execution_count": 10,
   "metadata": {},
   "outputs": [],
   "source": [
    "write.csv(features_df,\"./FBMN2_MSrun3_3xFiltered_CorrectedBlanks_transposed.csv\")"
   ]
  },
  {
   "cell_type": "code",
   "execution_count": 11,
   "metadata": {},
   "outputs": [],
   "source": [
    "###Taking this latest file and assigning it to a new name; this should contain the transposed file without any metadata.\n",
    "features_noMeta <- read.csv(\"FBMN2_MSrun3_3xFiltered_CorrectedBlanks_transposed.csv\",sep=',',dec='.',header=TRUE)"
   ]
  },
  {
   "cell_type": "code",
   "execution_count": 12,
   "metadata": {},
   "outputs": [
    {
     "data": {
      "text/html": [
       "<table class=\"dataframe\">\n",
       "<caption>A data.frame: 6 × 34089</caption>\n",
       "<thead>\n",
       "\t<tr><th></th><th scope=col>X</th><th scope=col>X132.102104639083_0.372004304029303</th><th scope=col>X131.533704622707_12.156923992674</th><th scope=col>X132.102110295016_0.384313827838827</th><th scope=col>X437.193346142153_5.70380036832412</th><th scope=col>X118.086554561322_0.32480934065934</th><th scope=col>X247.166752680726_12.0809026411657</th><th scope=col>X244.26347414023_5.42062692307692</th><th scope=col>X333.06299725787_3.78730472222222</th><th scope=col>X163.097900228246_11.7106996357012</th><th scope=col>...</th><th scope=col>X322.119506835937_0.921533333333333</th><th scope=col>X661.785034179687_11.9553833333333</th><th scope=col>X642.103546142578_11.5374</th><th scope=col>X605.357758348929_6.19966799410029</th><th scope=col>X493.499145507812_11.9291</th><th scope=col>X833.601801893446_11.786455050505</th><th scope=col>X483.514984130859_11.9680833333333</th><th scope=col>X661.448364257812_11.9415666666666</th><th scope=col>X603.496154785156_11.6444999999999</th><th scope=col>X642.103546142578_11.6032999999999</th></tr>\n",
       "\t<tr><th></th><th scope=col>&lt;chr&gt;</th><th scope=col>&lt;dbl&gt;</th><th scope=col>&lt;dbl&gt;</th><th scope=col>&lt;dbl&gt;</th><th scope=col>&lt;dbl&gt;</th><th scope=col>&lt;dbl&gt;</th><th scope=col>&lt;dbl&gt;</th><th scope=col>&lt;dbl&gt;</th><th scope=col>&lt;dbl&gt;</th><th scope=col>&lt;dbl&gt;</th><th scope=col>...</th><th scope=col>&lt;dbl&gt;</th><th scope=col>&lt;dbl&gt;</th><th scope=col>&lt;dbl&gt;</th><th scope=col>&lt;dbl&gt;</th><th scope=col>&lt;dbl&gt;</th><th scope=col>&lt;dbl&gt;</th><th scope=col>&lt;dbl&gt;</th><th scope=col>&lt;dbl&gt;</th><th scope=col>&lt;dbl&gt;</th><th scope=col>&lt;dbl&gt;</th></tr>\n",
       "</thead>\n",
       "<tbody>\n",
       "\t<tr><th scope=row>1</th><td>BFTM22_03_BF3.mzXML</td><td>8.04e+09</td><td>1.20e+08</td><td>1.73e+10</td><td>1.33e+08</td><td>6.81e+09</td><td>43100000</td><td>18200000</td><td>9.02e+07</td><td>3.80e+07</td><td>...</td><td>0</td><td>0</td><td>0</td><td>     0.0</td><td>0</td><td>0</td><td>0</td><td>0</td><td>0</td><td>0</td></tr>\n",
       "\t<tr><th scope=row>2</th><td>BFTM17_02_BF3.mzXML</td><td>4.58e+09</td><td>1.14e+08</td><td>1.42e+10</td><td>1.29e+08</td><td>6.79e+09</td><td>43400000</td><td>18700000</td><td>1.03e+08</td><td>1.44e+08</td><td>...</td><td>0</td><td>0</td><td>0</td><td>     0.0</td><td>0</td><td>0</td><td>0</td><td>0</td><td>0</td><td>0</td></tr>\n",
       "\t<tr><th scope=row>3</th><td>BFTM13_01_BF3.mzXML</td><td>1.69e+10</td><td>1.14e+08</td><td>2.94e+10</td><td>1.56e+08</td><td>1.00e+10</td><td>42400000</td><td>19600000</td><td>9.54e+07</td><td>6.35e+07</td><td>...</td><td>0</td><td>0</td><td>0</td><td>     0.0</td><td>0</td><td>0</td><td>0</td><td>0</td><td>0</td><td>0</td></tr>\n",
       "\t<tr><th scope=row>4</th><td>BFTM01_01_BF3.mzXML</td><td>2.15e+10</td><td>1.15e+08</td><td>3.17e+10</td><td>1.23e+08</td><td>1.10e+10</td><td>44700000</td><td>14900000</td><td>1.04e+08</td><td>6.36e+07</td><td>...</td><td>0</td><td>0</td><td>0</td><td>     0.0</td><td>0</td><td>0</td><td>0</td><td>0</td><td>0</td><td>0</td></tr>\n",
       "\t<tr><th scope=row>5</th><td>BFTM23_02_BF3.mzXML</td><td>1.13e+10</td><td>1.17e+08</td><td>1.92e+10</td><td>8.17e+07</td><td>1.87e+09</td><td>41800000</td><td>14600000</td><td>6.43e+07</td><td>7.58e+07</td><td>...</td><td>0</td><td>0</td><td>0</td><td>330622.2</td><td>0</td><td>0</td><td>0</td><td>0</td><td>0</td><td>0</td></tr>\n",
       "\t<tr><th scope=row>6</th><td>GU11.mzXML         </td><td>1.70e+10</td><td>1.14e+08</td><td>2.63e+10</td><td>4.96e+07</td><td>9.08e+09</td><td>43500000</td><td>10800000</td><td>9.12e+07</td><td>4.80e+07</td><td>...</td><td>0</td><td>0</td><td>0</td><td>651493.0</td><td>0</td><td>0</td><td>0</td><td>0</td><td>0</td><td>0</td></tr>\n",
       "</tbody>\n",
       "</table>\n"
      ],
      "text/latex": [
       "A data.frame: 6 × 34089\n",
       "\\begin{tabular}{r|lllllllllllllllllllll}\n",
       "  & X & X132.102104639083\\_0.372004304029303 & X131.533704622707\\_12.156923992674 & X132.102110295016\\_0.384313827838827 & X437.193346142153\\_5.70380036832412 & X118.086554561322\\_0.32480934065934 & X247.166752680726\\_12.0809026411657 & X244.26347414023\\_5.42062692307692 & X333.06299725787\\_3.78730472222222 & X163.097900228246\\_11.7106996357012 & ... & X322.119506835937\\_0.921533333333333 & X661.785034179687\\_11.9553833333333 & X642.103546142578\\_11.5374 & X605.357758348929\\_6.19966799410029 & X493.499145507812\\_11.9291 & X833.601801893446\\_11.786455050505 & X483.514984130859\\_11.9680833333333 & X661.448364257812\\_11.9415666666666 & X603.496154785156\\_11.6444999999999 & X642.103546142578\\_11.6032999999999\\\\\n",
       "  & <chr> & <dbl> & <dbl> & <dbl> & <dbl> & <dbl> & <dbl> & <dbl> & <dbl> & <dbl> & ... & <dbl> & <dbl> & <dbl> & <dbl> & <dbl> & <dbl> & <dbl> & <dbl> & <dbl> & <dbl>\\\\\n",
       "\\hline\n",
       "\t1 & BFTM22\\_03\\_BF3.mzXML & 8.04e+09 & 1.20e+08 & 1.73e+10 & 1.33e+08 & 6.81e+09 & 43100000 & 18200000 & 9.02e+07 & 3.80e+07 & ... & 0 & 0 & 0 &      0.0 & 0 & 0 & 0 & 0 & 0 & 0\\\\\n",
       "\t2 & BFTM17\\_02\\_BF3.mzXML & 4.58e+09 & 1.14e+08 & 1.42e+10 & 1.29e+08 & 6.79e+09 & 43400000 & 18700000 & 1.03e+08 & 1.44e+08 & ... & 0 & 0 & 0 &      0.0 & 0 & 0 & 0 & 0 & 0 & 0\\\\\n",
       "\t3 & BFTM13\\_01\\_BF3.mzXML & 1.69e+10 & 1.14e+08 & 2.94e+10 & 1.56e+08 & 1.00e+10 & 42400000 & 19600000 & 9.54e+07 & 6.35e+07 & ... & 0 & 0 & 0 &      0.0 & 0 & 0 & 0 & 0 & 0 & 0\\\\\n",
       "\t4 & BFTM01\\_01\\_BF3.mzXML & 2.15e+10 & 1.15e+08 & 3.17e+10 & 1.23e+08 & 1.10e+10 & 44700000 & 14900000 & 1.04e+08 & 6.36e+07 & ... & 0 & 0 & 0 &      0.0 & 0 & 0 & 0 & 0 & 0 & 0\\\\\n",
       "\t5 & BFTM23\\_02\\_BF3.mzXML & 1.13e+10 & 1.17e+08 & 1.92e+10 & 8.17e+07 & 1.87e+09 & 41800000 & 14600000 & 6.43e+07 & 7.58e+07 & ... & 0 & 0 & 0 & 330622.2 & 0 & 0 & 0 & 0 & 0 & 0\\\\\n",
       "\t6 & GU11.mzXML          & 1.70e+10 & 1.14e+08 & 2.63e+10 & 4.96e+07 & 9.08e+09 & 43500000 & 10800000 & 9.12e+07 & 4.80e+07 & ... & 0 & 0 & 0 & 651493.0 & 0 & 0 & 0 & 0 & 0 & 0\\\\\n",
       "\\end{tabular}\n"
      ],
      "text/markdown": [
       "\n",
       "A data.frame: 6 × 34089\n",
       "\n",
       "| <!--/--> | X &lt;chr&gt; | X132.102104639083_0.372004304029303 &lt;dbl&gt; | X131.533704622707_12.156923992674 &lt;dbl&gt; | X132.102110295016_0.384313827838827 &lt;dbl&gt; | X437.193346142153_5.70380036832412 &lt;dbl&gt; | X118.086554561322_0.32480934065934 &lt;dbl&gt; | X247.166752680726_12.0809026411657 &lt;dbl&gt; | X244.26347414023_5.42062692307692 &lt;dbl&gt; | X333.06299725787_3.78730472222222 &lt;dbl&gt; | X163.097900228246_11.7106996357012 &lt;dbl&gt; | ... ... | X322.119506835937_0.921533333333333 &lt;dbl&gt; | X661.785034179687_11.9553833333333 &lt;dbl&gt; | X642.103546142578_11.5374 &lt;dbl&gt; | X605.357758348929_6.19966799410029 &lt;dbl&gt; | X493.499145507812_11.9291 &lt;dbl&gt; | X833.601801893446_11.786455050505 &lt;dbl&gt; | X483.514984130859_11.9680833333333 &lt;dbl&gt; | X661.448364257812_11.9415666666666 &lt;dbl&gt; | X603.496154785156_11.6444999999999 &lt;dbl&gt; | X642.103546142578_11.6032999999999 &lt;dbl&gt; |\n",
       "|---|---|---|---|---|---|---|---|---|---|---|---|---|---|---|---|---|---|---|---|---|---|\n",
       "| 1 | BFTM22_03_BF3.mzXML | 8.04e+09 | 1.20e+08 | 1.73e+10 | 1.33e+08 | 6.81e+09 | 43100000 | 18200000 | 9.02e+07 | 3.80e+07 | ... | 0 | 0 | 0 |      0.0 | 0 | 0 | 0 | 0 | 0 | 0 |\n",
       "| 2 | BFTM17_02_BF3.mzXML | 4.58e+09 | 1.14e+08 | 1.42e+10 | 1.29e+08 | 6.79e+09 | 43400000 | 18700000 | 1.03e+08 | 1.44e+08 | ... | 0 | 0 | 0 |      0.0 | 0 | 0 | 0 | 0 | 0 | 0 |\n",
       "| 3 | BFTM13_01_BF3.mzXML | 1.69e+10 | 1.14e+08 | 2.94e+10 | 1.56e+08 | 1.00e+10 | 42400000 | 19600000 | 9.54e+07 | 6.35e+07 | ... | 0 | 0 | 0 |      0.0 | 0 | 0 | 0 | 0 | 0 | 0 |\n",
       "| 4 | BFTM01_01_BF3.mzXML | 2.15e+10 | 1.15e+08 | 3.17e+10 | 1.23e+08 | 1.10e+10 | 44700000 | 14900000 | 1.04e+08 | 6.36e+07 | ... | 0 | 0 | 0 |      0.0 | 0 | 0 | 0 | 0 | 0 | 0 |\n",
       "| 5 | BFTM23_02_BF3.mzXML | 1.13e+10 | 1.17e+08 | 1.92e+10 | 8.17e+07 | 1.87e+09 | 41800000 | 14600000 | 6.43e+07 | 7.58e+07 | ... | 0 | 0 | 0 | 330622.2 | 0 | 0 | 0 | 0 | 0 | 0 |\n",
       "| 6 | GU11.mzXML          | 1.70e+10 | 1.14e+08 | 2.63e+10 | 4.96e+07 | 9.08e+09 | 43500000 | 10800000 | 9.12e+07 | 4.80e+07 | ... | 0 | 0 | 0 | 651493.0 | 0 | 0 | 0 | 0 | 0 | 0 |\n",
       "\n"
      ],
      "text/plain": [
       "  X                   X132.102104639083_0.372004304029303\n",
       "1 BFTM22_03_BF3.mzXML 8.04e+09                           \n",
       "2 BFTM17_02_BF3.mzXML 4.58e+09                           \n",
       "3 BFTM13_01_BF3.mzXML 1.69e+10                           \n",
       "4 BFTM01_01_BF3.mzXML 2.15e+10                           \n",
       "5 BFTM23_02_BF3.mzXML 1.13e+10                           \n",
       "6 GU11.mzXML          1.70e+10                           \n",
       "  X131.533704622707_12.156923992674 X132.102110295016_0.384313827838827\n",
       "1 1.20e+08                          1.73e+10                           \n",
       "2 1.14e+08                          1.42e+10                           \n",
       "3 1.14e+08                          2.94e+10                           \n",
       "4 1.15e+08                          3.17e+10                           \n",
       "5 1.17e+08                          1.92e+10                           \n",
       "6 1.14e+08                          2.63e+10                           \n",
       "  X437.193346142153_5.70380036832412 X118.086554561322_0.32480934065934\n",
       "1 1.33e+08                           6.81e+09                          \n",
       "2 1.29e+08                           6.79e+09                          \n",
       "3 1.56e+08                           1.00e+10                          \n",
       "4 1.23e+08                           1.10e+10                          \n",
       "5 8.17e+07                           1.87e+09                          \n",
       "6 4.96e+07                           9.08e+09                          \n",
       "  X247.166752680726_12.0809026411657 X244.26347414023_5.42062692307692\n",
       "1 43100000                           18200000                         \n",
       "2 43400000                           18700000                         \n",
       "3 42400000                           19600000                         \n",
       "4 44700000                           14900000                         \n",
       "5 41800000                           14600000                         \n",
       "6 43500000                           10800000                         \n",
       "  X333.06299725787_3.78730472222222 X163.097900228246_11.7106996357012 ...\n",
       "1 9.02e+07                          3.80e+07                           ...\n",
       "2 1.03e+08                          1.44e+08                           ...\n",
       "3 9.54e+07                          6.35e+07                           ...\n",
       "4 1.04e+08                          6.36e+07                           ...\n",
       "5 6.43e+07                          7.58e+07                           ...\n",
       "6 9.12e+07                          4.80e+07                           ...\n",
       "  X322.119506835937_0.921533333333333 X661.785034179687_11.9553833333333\n",
       "1 0                                   0                                 \n",
       "2 0                                   0                                 \n",
       "3 0                                   0                                 \n",
       "4 0                                   0                                 \n",
       "5 0                                   0                                 \n",
       "6 0                                   0                                 \n",
       "  X642.103546142578_11.5374 X605.357758348929_6.19966799410029\n",
       "1 0                              0.0                          \n",
       "2 0                              0.0                          \n",
       "3 0                              0.0                          \n",
       "4 0                              0.0                          \n",
       "5 0                         330622.2                          \n",
       "6 0                         651493.0                          \n",
       "  X493.499145507812_11.9291 X833.601801893446_11.786455050505\n",
       "1 0                         0                                \n",
       "2 0                         0                                \n",
       "3 0                         0                                \n",
       "4 0                         0                                \n",
       "5 0                         0                                \n",
       "6 0                         0                                \n",
       "  X483.514984130859_11.9680833333333 X661.448364257812_11.9415666666666\n",
       "1 0                                  0                                 \n",
       "2 0                                  0                                 \n",
       "3 0                                  0                                 \n",
       "4 0                                  0                                 \n",
       "5 0                                  0                                 \n",
       "6 0                                  0                                 \n",
       "  X603.496154785156_11.6444999999999 X642.103546142578_11.6032999999999\n",
       "1 0                                  0                                 \n",
       "2 0                                  0                                 \n",
       "3 0                                  0                                 \n",
       "4 0                                  0                                 \n",
       "5 0                                  0                                 \n",
       "6 0                                  0                                 "
      ]
     },
     "metadata": {},
     "output_type": "display_data"
    },
    {
     "data": {
      "text/html": [
       "<style>\n",
       ".list-inline {list-style: none; margin:0; padding: 0}\n",
       ".list-inline>li {display: inline-block}\n",
       ".list-inline>li:not(:last-child)::after {content: \"\\00b7\"; padding: 0 .5ex}\n",
       "</style>\n",
       "<ol class=list-inline><li>105</li><li>34089</li></ol>\n"
      ],
      "text/latex": [
       "\\begin{enumerate*}\n",
       "\\item 105\n",
       "\\item 34089\n",
       "\\end{enumerate*}\n"
      ],
      "text/markdown": [
       "1. 105\n",
       "2. 34089\n",
       "\n",
       "\n"
      ],
      "text/plain": [
       "[1]   105 34089"
      ]
     },
     "metadata": {},
     "output_type": "display_data"
    }
   ],
   "source": [
    "head(features_noMeta)\n",
    "dim(features_noMeta)"
   ]
  },
  {
   "cell_type": "code",
   "execution_count": 13,
   "metadata": {},
   "outputs": [],
   "source": [
    "###Reading in the metadata file.\n",
    "metadata <- read.csv(\"FBMN2_MSrun3_metadata_forR_correctedBlanks.csv\")"
   ]
  },
  {
   "cell_type": "code",
   "execution_count": 14,
   "metadata": {},
   "outputs": [
    {
     "data": {
      "text/html": [
       "<table class=\"dataframe\">\n",
       "<caption>A data.frame: 6 × 4</caption>\n",
       "<thead>\n",
       "\t<tr><th></th><th scope=col>SampleID</th><th scope=col>ATTRIBUTE_SampleType</th><th scope=col>ATTRIBUTE_Population</th><th scope=col>ATTRIBUTE_Urbanization_Score</th></tr>\n",
       "\t<tr><th></th><th scope=col>&lt;chr&gt;</th><th scope=col>&lt;chr&gt;</th><th scope=col>&lt;chr&gt;</th><th scope=col>&lt;chr&gt;</th></tr>\n",
       "</thead>\n",
       "<tbody>\n",
       "\t<tr><th scope=row>1</th><td>BFTM22_03_BF3.mzXML</td><td>SAMPLE</td><td>Burkina Faso 3</td><td>(3) Rural Traditional</td></tr>\n",
       "\t<tr><th scope=row>2</th><td>BFTM17_02_BF3.mzXML</td><td>SAMPLE</td><td>Burkina Faso 3</td><td>(3) Rural Traditional</td></tr>\n",
       "\t<tr><th scope=row>3</th><td>BFTM13_01_BF3.mzXML</td><td>SAMPLE</td><td>Burkina Faso 3</td><td>(3) Rural Traditional</td></tr>\n",
       "\t<tr><th scope=row>4</th><td>BFTM01_01_BF3.mzXML</td><td>SAMPLE</td><td>Burkina Faso 3</td><td>(3) Rural Traditional</td></tr>\n",
       "\t<tr><th scope=row>5</th><td>BFTM23_02_BF3.mzXML</td><td>SAMPLE</td><td>Burkina Faso 3</td><td>(3) Rural Traditional</td></tr>\n",
       "\t<tr><th scope=row>6</th><td>GU11.mzXML         </td><td>SAMPLE</td><td>Guayabo       </td><td>(2) Rural Industrial </td></tr>\n",
       "</tbody>\n",
       "</table>\n"
      ],
      "text/latex": [
       "A data.frame: 6 × 4\n",
       "\\begin{tabular}{r|llll}\n",
       "  & SampleID & ATTRIBUTE\\_SampleType & ATTRIBUTE\\_Population & ATTRIBUTE\\_Urbanization\\_Score\\\\\n",
       "  & <chr> & <chr> & <chr> & <chr>\\\\\n",
       "\\hline\n",
       "\t1 & BFTM22\\_03\\_BF3.mzXML & SAMPLE & Burkina Faso 3 & (3) Rural Traditional\\\\\n",
       "\t2 & BFTM17\\_02\\_BF3.mzXML & SAMPLE & Burkina Faso 3 & (3) Rural Traditional\\\\\n",
       "\t3 & BFTM13\\_01\\_BF3.mzXML & SAMPLE & Burkina Faso 3 & (3) Rural Traditional\\\\\n",
       "\t4 & BFTM01\\_01\\_BF3.mzXML & SAMPLE & Burkina Faso 3 & (3) Rural Traditional\\\\\n",
       "\t5 & BFTM23\\_02\\_BF3.mzXML & SAMPLE & Burkina Faso 3 & (3) Rural Traditional\\\\\n",
       "\t6 & GU11.mzXML          & SAMPLE & Guayabo        & (2) Rural Industrial \\\\\n",
       "\\end{tabular}\n"
      ],
      "text/markdown": [
       "\n",
       "A data.frame: 6 × 4\n",
       "\n",
       "| <!--/--> | SampleID &lt;chr&gt; | ATTRIBUTE_SampleType &lt;chr&gt; | ATTRIBUTE_Population &lt;chr&gt; | ATTRIBUTE_Urbanization_Score &lt;chr&gt; |\n",
       "|---|---|---|---|---|\n",
       "| 1 | BFTM22_03_BF3.mzXML | SAMPLE | Burkina Faso 3 | (3) Rural Traditional |\n",
       "| 2 | BFTM17_02_BF3.mzXML | SAMPLE | Burkina Faso 3 | (3) Rural Traditional |\n",
       "| 3 | BFTM13_01_BF3.mzXML | SAMPLE | Burkina Faso 3 | (3) Rural Traditional |\n",
       "| 4 | BFTM01_01_BF3.mzXML | SAMPLE | Burkina Faso 3 | (3) Rural Traditional |\n",
       "| 5 | BFTM23_02_BF3.mzXML | SAMPLE | Burkina Faso 3 | (3) Rural Traditional |\n",
       "| 6 | GU11.mzXML          | SAMPLE | Guayabo        | (2) Rural Industrial  |\n",
       "\n"
      ],
      "text/plain": [
       "  SampleID            ATTRIBUTE_SampleType ATTRIBUTE_Population\n",
       "1 BFTM22_03_BF3.mzXML SAMPLE               Burkina Faso 3      \n",
       "2 BFTM17_02_BF3.mzXML SAMPLE               Burkina Faso 3      \n",
       "3 BFTM13_01_BF3.mzXML SAMPLE               Burkina Faso 3      \n",
       "4 BFTM01_01_BF3.mzXML SAMPLE               Burkina Faso 3      \n",
       "5 BFTM23_02_BF3.mzXML SAMPLE               Burkina Faso 3      \n",
       "6 GU11.mzXML          SAMPLE               Guayabo             \n",
       "  ATTRIBUTE_Urbanization_Score\n",
       "1 (3) Rural Traditional       \n",
       "2 (3) Rural Traditional       \n",
       "3 (3) Rural Traditional       \n",
       "4 (3) Rural Traditional       \n",
       "5 (3) Rural Traditional       \n",
       "6 (2) Rural Industrial        "
      ]
     },
     "metadata": {},
     "output_type": "display_data"
    }
   ],
   "source": [
    "head(metadata)"
   ]
  },
  {
   "cell_type": "code",
   "execution_count": 15,
   "metadata": {},
   "outputs": [
    {
     "data": {
      "text/html": [
       "<table class=\"dataframe\">\n",
       "<caption>A data.frame: 6 × 4</caption>\n",
       "<thead>\n",
       "\t<tr><th></th><th scope=col>SampleID</th><th scope=col>ATTRIBUTE_SampleType</th><th scope=col>ATTRIBUTE_Population</th><th scope=col>ATTRIBUTE_Urbanization_Score</th></tr>\n",
       "\t<tr><th></th><th scope=col>&lt;chr&gt;</th><th scope=col>&lt;chr&gt;</th><th scope=col>&lt;chr&gt;</th><th scope=col>&lt;chr&gt;</th></tr>\n",
       "</thead>\n",
       "<tbody>\n",
       "\t<tr><th scope=row>1</th><td>BFTM22_03_BF3.mzXML</td><td>SAMPLE</td><td>Burkina Faso 3</td><td>(3) Rural Traditional</td></tr>\n",
       "\t<tr><th scope=row>2</th><td>BFTM17_02_BF3.mzXML</td><td>SAMPLE</td><td>Burkina Faso 3</td><td>(3) Rural Traditional</td></tr>\n",
       "\t<tr><th scope=row>3</th><td>BFTM13_01_BF3.mzXML</td><td>SAMPLE</td><td>Burkina Faso 3</td><td>(3) Rural Traditional</td></tr>\n",
       "\t<tr><th scope=row>4</th><td>BFTM01_01_BF3.mzXML</td><td>SAMPLE</td><td>Burkina Faso 3</td><td>(3) Rural Traditional</td></tr>\n",
       "\t<tr><th scope=row>5</th><td>BFTM23_02_BF3.mzXML</td><td>SAMPLE</td><td>Burkina Faso 3</td><td>(3) Rural Traditional</td></tr>\n",
       "\t<tr><th scope=row>6</th><td>GU11.mzXML         </td><td>SAMPLE</td><td>Guayabo       </td><td>(2) Rural Industrial </td></tr>\n",
       "</tbody>\n",
       "</table>\n"
      ],
      "text/latex": [
       "A data.frame: 6 × 4\n",
       "\\begin{tabular}{r|llll}\n",
       "  & SampleID & ATTRIBUTE\\_SampleType & ATTRIBUTE\\_Population & ATTRIBUTE\\_Urbanization\\_Score\\\\\n",
       "  & <chr> & <chr> & <chr> & <chr>\\\\\n",
       "\\hline\n",
       "\t1 & BFTM22\\_03\\_BF3.mzXML & SAMPLE & Burkina Faso 3 & (3) Rural Traditional\\\\\n",
       "\t2 & BFTM17\\_02\\_BF3.mzXML & SAMPLE & Burkina Faso 3 & (3) Rural Traditional\\\\\n",
       "\t3 & BFTM13\\_01\\_BF3.mzXML & SAMPLE & Burkina Faso 3 & (3) Rural Traditional\\\\\n",
       "\t4 & BFTM01\\_01\\_BF3.mzXML & SAMPLE & Burkina Faso 3 & (3) Rural Traditional\\\\\n",
       "\t5 & BFTM23\\_02\\_BF3.mzXML & SAMPLE & Burkina Faso 3 & (3) Rural Traditional\\\\\n",
       "\t6 & GU11.mzXML          & SAMPLE & Guayabo        & (2) Rural Industrial \\\\\n",
       "\\end{tabular}\n"
      ],
      "text/markdown": [
       "\n",
       "A data.frame: 6 × 4\n",
       "\n",
       "| <!--/--> | SampleID &lt;chr&gt; | ATTRIBUTE_SampleType &lt;chr&gt; | ATTRIBUTE_Population &lt;chr&gt; | ATTRIBUTE_Urbanization_Score &lt;chr&gt; |\n",
       "|---|---|---|---|---|\n",
       "| 1 | BFTM22_03_BF3.mzXML | SAMPLE | Burkina Faso 3 | (3) Rural Traditional |\n",
       "| 2 | BFTM17_02_BF3.mzXML | SAMPLE | Burkina Faso 3 | (3) Rural Traditional |\n",
       "| 3 | BFTM13_01_BF3.mzXML | SAMPLE | Burkina Faso 3 | (3) Rural Traditional |\n",
       "| 4 | BFTM01_01_BF3.mzXML | SAMPLE | Burkina Faso 3 | (3) Rural Traditional |\n",
       "| 5 | BFTM23_02_BF3.mzXML | SAMPLE | Burkina Faso 3 | (3) Rural Traditional |\n",
       "| 6 | GU11.mzXML          | SAMPLE | Guayabo        | (2) Rural Industrial  |\n",
       "\n"
      ],
      "text/plain": [
       "  SampleID            ATTRIBUTE_SampleType ATTRIBUTE_Population\n",
       "1 BFTM22_03_BF3.mzXML SAMPLE               Burkina Faso 3      \n",
       "2 BFTM17_02_BF3.mzXML SAMPLE               Burkina Faso 3      \n",
       "3 BFTM13_01_BF3.mzXML SAMPLE               Burkina Faso 3      \n",
       "4 BFTM01_01_BF3.mzXML SAMPLE               Burkina Faso 3      \n",
       "5 BFTM23_02_BF3.mzXML SAMPLE               Burkina Faso 3      \n",
       "6 GU11.mzXML          SAMPLE               Guayabo             \n",
       "  ATTRIBUTE_Urbanization_Score\n",
       "1 (3) Rural Traditional       \n",
       "2 (3) Rural Traditional       \n",
       "3 (3) Rural Traditional       \n",
       "4 (3) Rural Traditional       \n",
       "5 (3) Rural Traditional       \n",
       "6 (2) Rural Industrial        "
      ]
     },
     "metadata": {},
     "output_type": "display_data"
    },
    {
     "data": {
      "text/html": [
       "<style>\n",
       ".list-inline {list-style: none; margin:0; padding: 0}\n",
       ".list-inline>li {display: inline-block}\n",
       ".list-inline>li:not(:last-child)::after {content: \"\\00b7\"; padding: 0 .5ex}\n",
       "</style>\n",
       "<ol class=list-inline><li>105</li><li>4</li></ol>\n"
      ],
      "text/latex": [
       "\\begin{enumerate*}\n",
       "\\item 105\n",
       "\\item 4\n",
       "\\end{enumerate*}\n"
      ],
      "text/markdown": [
       "1. 105\n",
       "2. 4\n",
       "\n",
       "\n"
      ],
      "text/plain": [
       "[1] 105   4"
      ]
     },
     "metadata": {},
     "output_type": "display_data"
    }
   ],
   "source": [
    "###Earlier versions of code added \"ï..\" to the SampleID column. If this happens, run \"colnames(metadata)[1] <- gsub('^...','',colnames(metadata)[1])\" to remove it.\n",
    "head(metadata)\n",
    "dim(metadata)"
   ]
  },
  {
   "cell_type": "code",
   "execution_count": 16,
   "metadata": {},
   "outputs": [],
   "source": [
    "###Adding the SampleID column to the first column.\n",
    "colnames(features_noMeta)[1] <- \"SampleID\""
   ]
  },
  {
   "cell_type": "code",
   "execution_count": 17,
   "metadata": {},
   "outputs": [],
   "source": [
    "###Merging the feature table (without metadata) with the metadata file, using their shared SampleID column.\n",
    "features_wMetadata <- merge(metadata, features_noMeta, by='SampleID')"
   ]
  },
  {
   "cell_type": "code",
   "execution_count": 18,
   "metadata": {},
   "outputs": [
    {
     "data": {
      "text/html": [
       "<table class=\"dataframe\">\n",
       "<caption>A data.frame: 6 × 34092</caption>\n",
       "<thead>\n",
       "\t<tr><th></th><th scope=col>SampleID</th><th scope=col>ATTRIBUTE_SampleType</th><th scope=col>ATTRIBUTE_Population</th><th scope=col>ATTRIBUTE_Urbanization_Score</th><th scope=col>X132.102104639083_0.372004304029303</th><th scope=col>X131.533704622707_12.156923992674</th><th scope=col>X132.102110295016_0.384313827838827</th><th scope=col>X437.193346142153_5.70380036832412</th><th scope=col>X118.086554561322_0.32480934065934</th><th scope=col>X247.166752680726_12.0809026411657</th><th scope=col>...</th><th scope=col>X322.119506835937_0.921533333333333</th><th scope=col>X661.785034179687_11.9553833333333</th><th scope=col>X642.103546142578_11.5374</th><th scope=col>X605.357758348929_6.19966799410029</th><th scope=col>X493.499145507812_11.9291</th><th scope=col>X833.601801893446_11.786455050505</th><th scope=col>X483.514984130859_11.9680833333333</th><th scope=col>X661.448364257812_11.9415666666666</th><th scope=col>X603.496154785156_11.6444999999999</th><th scope=col>X642.103546142578_11.6032999999999</th></tr>\n",
       "\t<tr><th></th><th scope=col>&lt;chr&gt;</th><th scope=col>&lt;chr&gt;</th><th scope=col>&lt;chr&gt;</th><th scope=col>&lt;chr&gt;</th><th scope=col>&lt;dbl&gt;</th><th scope=col>&lt;dbl&gt;</th><th scope=col>&lt;dbl&gt;</th><th scope=col>&lt;dbl&gt;</th><th scope=col>&lt;dbl&gt;</th><th scope=col>&lt;dbl&gt;</th><th scope=col>...</th><th scope=col>&lt;dbl&gt;</th><th scope=col>&lt;dbl&gt;</th><th scope=col>&lt;dbl&gt;</th><th scope=col>&lt;dbl&gt;</th><th scope=col>&lt;dbl&gt;</th><th scope=col>&lt;dbl&gt;</th><th scope=col>&lt;dbl&gt;</th><th scope=col>&lt;dbl&gt;</th><th scope=col>&lt;dbl&gt;</th><th scope=col>&lt;dbl&gt;</th></tr>\n",
       "</thead>\n",
       "<tbody>\n",
       "\t<tr><th scope=row>1</th><td>BFTM01_01_BF3.mzXML</td><td>SAMPLE</td><td>Burkina Faso 3</td><td>(3) Rural Traditional</td><td>2.15e+10</td><td>1.15e+08</td><td>3.17e+10</td><td>1.23e+08</td><td>1.10e+10</td><td>44700000</td><td>...</td><td>0</td><td>0</td><td>0</td><td>      0.0</td><td>0</td><td>0</td><td>0</td><td>0</td><td>0</td><td>0</td></tr>\n",
       "\t<tr><th scope=row>2</th><td>BFTM09_02_BF3.mzXML</td><td>SAMPLE</td><td>Burkina Faso 3</td><td>(3) Rural Traditional</td><td>3.36e+10</td><td>1.13e+08</td><td>2.13e+10</td><td>7.37e+07</td><td>1.23e+10</td><td>44000000</td><td>...</td><td>0</td><td>0</td><td>0</td><td> 807146.1</td><td>0</td><td>0</td><td>0</td><td>0</td><td>0</td><td>0</td></tr>\n",
       "\t<tr><th scope=row>3</th><td>BFTM10_01_BF3.mzXML</td><td>SAMPLE</td><td>Burkina Faso 3</td><td>(3) Rural Traditional</td><td>3.40e+10</td><td>1.11e+08</td><td>3.87e+10</td><td>2.07e+08</td><td>1.09e+10</td><td>45600000</td><td>...</td><td>0</td><td>0</td><td>0</td><td>1240538.4</td><td>0</td><td>0</td><td>0</td><td>0</td><td>0</td><td>0</td></tr>\n",
       "\t<tr><th scope=row>4</th><td>BFTM11_04_BF3.mzXML</td><td>SAMPLE</td><td>Burkina Faso 3</td><td>(3) Rural Traditional</td><td>4.77e+10</td><td>1.14e+08</td><td>4.77e+10</td><td>1.63e+08</td><td>1.33e+10</td><td>44800000</td><td>...</td><td>0</td><td>0</td><td>0</td><td>1052930.1</td><td>0</td><td>0</td><td>0</td><td>0</td><td>0</td><td>0</td></tr>\n",
       "\t<tr><th scope=row>5</th><td>BFTM13_01_BF3.mzXML</td><td>SAMPLE</td><td>Burkina Faso 3</td><td>(3) Rural Traditional</td><td>1.69e+10</td><td>1.14e+08</td><td>2.94e+10</td><td>1.56e+08</td><td>1.00e+10</td><td>42400000</td><td>...</td><td>0</td><td>0</td><td>0</td><td>      0.0</td><td>0</td><td>0</td><td>0</td><td>0</td><td>0</td><td>0</td></tr>\n",
       "\t<tr><th scope=row>6</th><td>BFTM17_02_BF3.mzXML</td><td>SAMPLE</td><td>Burkina Faso 3</td><td>(3) Rural Traditional</td><td>4.58e+09</td><td>1.14e+08</td><td>1.42e+10</td><td>1.29e+08</td><td>6.79e+09</td><td>43400000</td><td>...</td><td>0</td><td>0</td><td>0</td><td>      0.0</td><td>0</td><td>0</td><td>0</td><td>0</td><td>0</td><td>0</td></tr>\n",
       "</tbody>\n",
       "</table>\n"
      ],
      "text/latex": [
       "A data.frame: 6 × 34092\n",
       "\\begin{tabular}{r|lllllllllllllllllllll}\n",
       "  & SampleID & ATTRIBUTE\\_SampleType & ATTRIBUTE\\_Population & ATTRIBUTE\\_Urbanization\\_Score & X132.102104639083\\_0.372004304029303 & X131.533704622707\\_12.156923992674 & X132.102110295016\\_0.384313827838827 & X437.193346142153\\_5.70380036832412 & X118.086554561322\\_0.32480934065934 & X247.166752680726\\_12.0809026411657 & ... & X322.119506835937\\_0.921533333333333 & X661.785034179687\\_11.9553833333333 & X642.103546142578\\_11.5374 & X605.357758348929\\_6.19966799410029 & X493.499145507812\\_11.9291 & X833.601801893446\\_11.786455050505 & X483.514984130859\\_11.9680833333333 & X661.448364257812\\_11.9415666666666 & X603.496154785156\\_11.6444999999999 & X642.103546142578\\_11.6032999999999\\\\\n",
       "  & <chr> & <chr> & <chr> & <chr> & <dbl> & <dbl> & <dbl> & <dbl> & <dbl> & <dbl> & ... & <dbl> & <dbl> & <dbl> & <dbl> & <dbl> & <dbl> & <dbl> & <dbl> & <dbl> & <dbl>\\\\\n",
       "\\hline\n",
       "\t1 & BFTM01\\_01\\_BF3.mzXML & SAMPLE & Burkina Faso 3 & (3) Rural Traditional & 2.15e+10 & 1.15e+08 & 3.17e+10 & 1.23e+08 & 1.10e+10 & 44700000 & ... & 0 & 0 & 0 &       0.0 & 0 & 0 & 0 & 0 & 0 & 0\\\\\n",
       "\t2 & BFTM09\\_02\\_BF3.mzXML & SAMPLE & Burkina Faso 3 & (3) Rural Traditional & 3.36e+10 & 1.13e+08 & 2.13e+10 & 7.37e+07 & 1.23e+10 & 44000000 & ... & 0 & 0 & 0 &  807146.1 & 0 & 0 & 0 & 0 & 0 & 0\\\\\n",
       "\t3 & BFTM10\\_01\\_BF3.mzXML & SAMPLE & Burkina Faso 3 & (3) Rural Traditional & 3.40e+10 & 1.11e+08 & 3.87e+10 & 2.07e+08 & 1.09e+10 & 45600000 & ... & 0 & 0 & 0 & 1240538.4 & 0 & 0 & 0 & 0 & 0 & 0\\\\\n",
       "\t4 & BFTM11\\_04\\_BF3.mzXML & SAMPLE & Burkina Faso 3 & (3) Rural Traditional & 4.77e+10 & 1.14e+08 & 4.77e+10 & 1.63e+08 & 1.33e+10 & 44800000 & ... & 0 & 0 & 0 & 1052930.1 & 0 & 0 & 0 & 0 & 0 & 0\\\\\n",
       "\t5 & BFTM13\\_01\\_BF3.mzXML & SAMPLE & Burkina Faso 3 & (3) Rural Traditional & 1.69e+10 & 1.14e+08 & 2.94e+10 & 1.56e+08 & 1.00e+10 & 42400000 & ... & 0 & 0 & 0 &       0.0 & 0 & 0 & 0 & 0 & 0 & 0\\\\\n",
       "\t6 & BFTM17\\_02\\_BF3.mzXML & SAMPLE & Burkina Faso 3 & (3) Rural Traditional & 4.58e+09 & 1.14e+08 & 1.42e+10 & 1.29e+08 & 6.79e+09 & 43400000 & ... & 0 & 0 & 0 &       0.0 & 0 & 0 & 0 & 0 & 0 & 0\\\\\n",
       "\\end{tabular}\n"
      ],
      "text/markdown": [
       "\n",
       "A data.frame: 6 × 34092\n",
       "\n",
       "| <!--/--> | SampleID &lt;chr&gt; | ATTRIBUTE_SampleType &lt;chr&gt; | ATTRIBUTE_Population &lt;chr&gt; | ATTRIBUTE_Urbanization_Score &lt;chr&gt; | X132.102104639083_0.372004304029303 &lt;dbl&gt; | X131.533704622707_12.156923992674 &lt;dbl&gt; | X132.102110295016_0.384313827838827 &lt;dbl&gt; | X437.193346142153_5.70380036832412 &lt;dbl&gt; | X118.086554561322_0.32480934065934 &lt;dbl&gt; | X247.166752680726_12.0809026411657 &lt;dbl&gt; | ... ... | X322.119506835937_0.921533333333333 &lt;dbl&gt; | X661.785034179687_11.9553833333333 &lt;dbl&gt; | X642.103546142578_11.5374 &lt;dbl&gt; | X605.357758348929_6.19966799410029 &lt;dbl&gt; | X493.499145507812_11.9291 &lt;dbl&gt; | X833.601801893446_11.786455050505 &lt;dbl&gt; | X483.514984130859_11.9680833333333 &lt;dbl&gt; | X661.448364257812_11.9415666666666 &lt;dbl&gt; | X603.496154785156_11.6444999999999 &lt;dbl&gt; | X642.103546142578_11.6032999999999 &lt;dbl&gt; |\n",
       "|---|---|---|---|---|---|---|---|---|---|---|---|---|---|---|---|---|---|---|---|---|---|\n",
       "| 1 | BFTM01_01_BF3.mzXML | SAMPLE | Burkina Faso 3 | (3) Rural Traditional | 2.15e+10 | 1.15e+08 | 3.17e+10 | 1.23e+08 | 1.10e+10 | 44700000 | ... | 0 | 0 | 0 |       0.0 | 0 | 0 | 0 | 0 | 0 | 0 |\n",
       "| 2 | BFTM09_02_BF3.mzXML | SAMPLE | Burkina Faso 3 | (3) Rural Traditional | 3.36e+10 | 1.13e+08 | 2.13e+10 | 7.37e+07 | 1.23e+10 | 44000000 | ... | 0 | 0 | 0 |  807146.1 | 0 | 0 | 0 | 0 | 0 | 0 |\n",
       "| 3 | BFTM10_01_BF3.mzXML | SAMPLE | Burkina Faso 3 | (3) Rural Traditional | 3.40e+10 | 1.11e+08 | 3.87e+10 | 2.07e+08 | 1.09e+10 | 45600000 | ... | 0 | 0 | 0 | 1240538.4 | 0 | 0 | 0 | 0 | 0 | 0 |\n",
       "| 4 | BFTM11_04_BF3.mzXML | SAMPLE | Burkina Faso 3 | (3) Rural Traditional | 4.77e+10 | 1.14e+08 | 4.77e+10 | 1.63e+08 | 1.33e+10 | 44800000 | ... | 0 | 0 | 0 | 1052930.1 | 0 | 0 | 0 | 0 | 0 | 0 |\n",
       "| 5 | BFTM13_01_BF3.mzXML | SAMPLE | Burkina Faso 3 | (3) Rural Traditional | 1.69e+10 | 1.14e+08 | 2.94e+10 | 1.56e+08 | 1.00e+10 | 42400000 | ... | 0 | 0 | 0 |       0.0 | 0 | 0 | 0 | 0 | 0 | 0 |\n",
       "| 6 | BFTM17_02_BF3.mzXML | SAMPLE | Burkina Faso 3 | (3) Rural Traditional | 4.58e+09 | 1.14e+08 | 1.42e+10 | 1.29e+08 | 6.79e+09 | 43400000 | ... | 0 | 0 | 0 |       0.0 | 0 | 0 | 0 | 0 | 0 | 0 |\n",
       "\n"
      ],
      "text/plain": [
       "  SampleID            ATTRIBUTE_SampleType ATTRIBUTE_Population\n",
       "1 BFTM01_01_BF3.mzXML SAMPLE               Burkina Faso 3      \n",
       "2 BFTM09_02_BF3.mzXML SAMPLE               Burkina Faso 3      \n",
       "3 BFTM10_01_BF3.mzXML SAMPLE               Burkina Faso 3      \n",
       "4 BFTM11_04_BF3.mzXML SAMPLE               Burkina Faso 3      \n",
       "5 BFTM13_01_BF3.mzXML SAMPLE               Burkina Faso 3      \n",
       "6 BFTM17_02_BF3.mzXML SAMPLE               Burkina Faso 3      \n",
       "  ATTRIBUTE_Urbanization_Score X132.102104639083_0.372004304029303\n",
       "1 (3) Rural Traditional        2.15e+10                           \n",
       "2 (3) Rural Traditional        3.36e+10                           \n",
       "3 (3) Rural Traditional        3.40e+10                           \n",
       "4 (3) Rural Traditional        4.77e+10                           \n",
       "5 (3) Rural Traditional        1.69e+10                           \n",
       "6 (3) Rural Traditional        4.58e+09                           \n",
       "  X131.533704622707_12.156923992674 X132.102110295016_0.384313827838827\n",
       "1 1.15e+08                          3.17e+10                           \n",
       "2 1.13e+08                          2.13e+10                           \n",
       "3 1.11e+08                          3.87e+10                           \n",
       "4 1.14e+08                          4.77e+10                           \n",
       "5 1.14e+08                          2.94e+10                           \n",
       "6 1.14e+08                          1.42e+10                           \n",
       "  X437.193346142153_5.70380036832412 X118.086554561322_0.32480934065934\n",
       "1 1.23e+08                           1.10e+10                          \n",
       "2 7.37e+07                           1.23e+10                          \n",
       "3 2.07e+08                           1.09e+10                          \n",
       "4 1.63e+08                           1.33e+10                          \n",
       "5 1.56e+08                           1.00e+10                          \n",
       "6 1.29e+08                           6.79e+09                          \n",
       "  X247.166752680726_12.0809026411657 ... X322.119506835937_0.921533333333333\n",
       "1 44700000                           ... 0                                  \n",
       "2 44000000                           ... 0                                  \n",
       "3 45600000                           ... 0                                  \n",
       "4 44800000                           ... 0                                  \n",
       "5 42400000                           ... 0                                  \n",
       "6 43400000                           ... 0                                  \n",
       "  X661.785034179687_11.9553833333333 X642.103546142578_11.5374\n",
       "1 0                                  0                        \n",
       "2 0                                  0                        \n",
       "3 0                                  0                        \n",
       "4 0                                  0                        \n",
       "5 0                                  0                        \n",
       "6 0                                  0                        \n",
       "  X605.357758348929_6.19966799410029 X493.499145507812_11.9291\n",
       "1       0.0                          0                        \n",
       "2  807146.1                          0                        \n",
       "3 1240538.4                          0                        \n",
       "4 1052930.1                          0                        \n",
       "5       0.0                          0                        \n",
       "6       0.0                          0                        \n",
       "  X833.601801893446_11.786455050505 X483.514984130859_11.9680833333333\n",
       "1 0                                 0                                 \n",
       "2 0                                 0                                 \n",
       "3 0                                 0                                 \n",
       "4 0                                 0                                 \n",
       "5 0                                 0                                 \n",
       "6 0                                 0                                 \n",
       "  X661.448364257812_11.9415666666666 X603.496154785156_11.6444999999999\n",
       "1 0                                  0                                 \n",
       "2 0                                  0                                 \n",
       "3 0                                  0                                 \n",
       "4 0                                  0                                 \n",
       "5 0                                  0                                 \n",
       "6 0                                  0                                 \n",
       "  X642.103546142578_11.6032999999999\n",
       "1 0                                 \n",
       "2 0                                 \n",
       "3 0                                 \n",
       "4 0                                 \n",
       "5 0                                 \n",
       "6 0                                 "
      ]
     },
     "metadata": {},
     "output_type": "display_data"
    },
    {
     "data": {
      "text/html": [
       "<style>\n",
       ".list-inline {list-style: none; margin:0; padding: 0}\n",
       ".list-inline>li {display: inline-block}\n",
       ".list-inline>li:not(:last-child)::after {content: \"\\00b7\"; padding: 0 .5ex}\n",
       "</style>\n",
       "<ol class=list-inline><li>105</li><li>34092</li></ol>\n"
      ],
      "text/latex": [
       "\\begin{enumerate*}\n",
       "\\item 105\n",
       "\\item 34092\n",
       "\\end{enumerate*}\n"
      ],
      "text/markdown": [
       "1. 105\n",
       "2. 34092\n",
       "\n",
       "\n"
      ],
      "text/plain": [
       "[1]   105 34092"
      ]
     },
     "metadata": {},
     "output_type": "display_data"
    }
   ],
   "source": [
    "###Checking to make sure this step worked.\n",
    "head(features_wMetadata)\n",
    "dim(features_wMetadata)"
   ]
  },
  {
   "cell_type": "code",
   "execution_count": 19,
   "metadata": {},
   "outputs": [],
   "source": [
    "###Saving as a new csv.\n",
    "write.csv(features_wMetadata,\"FBMN2_MSrun3_3xFiltered_CorrectedBlanks_wMetadata_forClusterApp.csv\",row.names=FALSE)"
   ]
  },
  {
   "cell_type": "code",
   "execution_count": 20,
   "metadata": {},
   "outputs": [],
   "source": [
    "###Normalizing the whole feature table.\n",
    "norm <- t(apply(features_wMetadata[,5:34092],1,function(x) x/sum(x)))"
   ]
  },
  {
   "cell_type": "code",
   "execution_count": 21,
   "metadata": {},
   "outputs": [
    {
     "data": {
      "text/html": [
       "<table class=\"dataframe\">\n",
       "<caption>A matrix: 6 × 34088 of type dbl</caption>\n",
       "<thead>\n",
       "\t<tr><th scope=col>X132.102104639083_0.372004304029303</th><th scope=col>X131.533704622707_12.156923992674</th><th scope=col>X132.102110295016_0.384313827838827</th><th scope=col>X437.193346142153_5.70380036832412</th><th scope=col>X118.086554561322_0.32480934065934</th><th scope=col>X247.166752680726_12.0809026411657</th><th scope=col>X244.26347414023_5.42062692307692</th><th scope=col>X333.06299725787_3.78730472222222</th><th scope=col>X163.097900228246_11.7106996357012</th><th scope=col>X163.097899424995_11.1240732240437</th><th scope=col>...</th><th scope=col>X322.119506835937_0.921533333333333</th><th scope=col>X661.785034179687_11.9553833333333</th><th scope=col>X642.103546142578_11.5374</th><th scope=col>X605.357758348929_6.19966799410029</th><th scope=col>X493.499145507812_11.9291</th><th scope=col>X833.601801893446_11.786455050505</th><th scope=col>X483.514984130859_11.9680833333333</th><th scope=col>X661.448364257812_11.9415666666666</th><th scope=col>X603.496154785156_11.6444999999999</th><th scope=col>X642.103546142578_11.6032999999999</th></tr>\n",
       "</thead>\n",
       "<tbody>\n",
       "\t<tr><td>0.04263579</td><td>0.0002280519</td><td>0.06286301</td><td>0.0002439164</td><td>0.02181366</td><td>8.864279e-05</td><td>2.954760e-05</td><td>2.062383e-04</td><td>1.261226e-04</td><td>5.552568e-05</td><td>...</td><td>0</td><td>0</td><td>0</td><td>0.000000e+00</td><td>0</td><td>0</td><td>0</td><td>0</td><td>0</td><td>0</td></tr>\n",
       "\t<tr><td>0.06025735</td><td>0.0002026512</td><td>0.03819886</td><td>0.0001321716</td><td>0.02205850</td><td>7.890844e-05</td><td>2.761795e-05</td><td>8.213651e-05</td><td>6.169205e-05</td><td>1.221287e-04</td><td>...</td><td>0</td><td>0</td><td>0</td><td>1.447514e-06</td><td>0</td><td>0</td><td>0</td><td>0</td><td>0</td><td>0</td></tr>\n",
       "\t<tr><td>0.03933848</td><td>0.0001284286</td><td>0.04477645</td><td>0.0002395020</td><td>0.01261146</td><td>5.275985e-05</td><td>1.457838e-05</td><td>7.497452e-05</td><td>9.834621e-05</td><td>3.933848e-05</td><td>...</td><td>0</td><td>0</td><td>0</td><td>1.435321e-06</td><td>0</td><td>0</td><td>0</td><td>0</td><td>0</td><td>0</td></tr>\n",
       "\t<tr><td>0.05825590</td><td>0.0001392279</td><td>0.05825590</td><td>0.0001990715</td><td>0.01624326</td><td>5.471414e-05</td><td>1.465557e-05</td><td>9.123094e-05</td><td>6.533943e-05</td><td>6.765989e-05</td><td>...</td><td>0</td><td>0</td><td>0</td><td>1.285941e-06</td><td>0</td><td>0</td><td>0</td><td>0</td><td>0</td><td>0</td></tr>\n",
       "\t<tr><td>0.03172320</td><td>0.0002139908</td><td>0.05518711</td><td>0.0002928296</td><td>0.01877113</td><td>7.958957e-05</td><td>3.679141e-05</td><td>1.790765e-04</td><td>1.191966e-04</td><td>9.254165e-05</td><td>...</td><td>0</td><td>0</td><td>0</td><td>0.000000e+00</td><td>0</td><td>0</td><td>0</td><td>0</td><td>0</td><td>0</td></tr>\n",
       "\t<tr><td>0.01013732</td><td>0.0002523263</td><td>0.03143011</td><td>0.0002855271</td><td>0.01502891</td><td>9.606105e-05</td><td>4.139036e-05</td><td>2.279790e-04</td><td>3.187279e-04</td><td>8.034599e-05</td><td>...</td><td>0</td><td>0</td><td>0</td><td>0.000000e+00</td><td>0</td><td>0</td><td>0</td><td>0</td><td>0</td><td>0</td></tr>\n",
       "</tbody>\n",
       "</table>\n"
      ],
      "text/latex": [
       "A matrix: 6 × 34088 of type dbl\n",
       "\\begin{tabular}{lllllllllllllllllllll}\n",
       " X132.102104639083\\_0.372004304029303 & X131.533704622707\\_12.156923992674 & X132.102110295016\\_0.384313827838827 & X437.193346142153\\_5.70380036832412 & X118.086554561322\\_0.32480934065934 & X247.166752680726\\_12.0809026411657 & X244.26347414023\\_5.42062692307692 & X333.06299725787\\_3.78730472222222 & X163.097900228246\\_11.7106996357012 & X163.097899424995\\_11.1240732240437 & ... & X322.119506835937\\_0.921533333333333 & X661.785034179687\\_11.9553833333333 & X642.103546142578\\_11.5374 & X605.357758348929\\_6.19966799410029 & X493.499145507812\\_11.9291 & X833.601801893446\\_11.786455050505 & X483.514984130859\\_11.9680833333333 & X661.448364257812\\_11.9415666666666 & X603.496154785156\\_11.6444999999999 & X642.103546142578\\_11.6032999999999\\\\\n",
       "\\hline\n",
       "\t 0.04263579 & 0.0002280519 & 0.06286301 & 0.0002439164 & 0.02181366 & 8.864279e-05 & 2.954760e-05 & 2.062383e-04 & 1.261226e-04 & 5.552568e-05 & ... & 0 & 0 & 0 & 0.000000e+00 & 0 & 0 & 0 & 0 & 0 & 0\\\\\n",
       "\t 0.06025735 & 0.0002026512 & 0.03819886 & 0.0001321716 & 0.02205850 & 7.890844e-05 & 2.761795e-05 & 8.213651e-05 & 6.169205e-05 & 1.221287e-04 & ... & 0 & 0 & 0 & 1.447514e-06 & 0 & 0 & 0 & 0 & 0 & 0\\\\\n",
       "\t 0.03933848 & 0.0001284286 & 0.04477645 & 0.0002395020 & 0.01261146 & 5.275985e-05 & 1.457838e-05 & 7.497452e-05 & 9.834621e-05 & 3.933848e-05 & ... & 0 & 0 & 0 & 1.435321e-06 & 0 & 0 & 0 & 0 & 0 & 0\\\\\n",
       "\t 0.05825590 & 0.0001392279 & 0.05825590 & 0.0001990715 & 0.01624326 & 5.471414e-05 & 1.465557e-05 & 9.123094e-05 & 6.533943e-05 & 6.765989e-05 & ... & 0 & 0 & 0 & 1.285941e-06 & 0 & 0 & 0 & 0 & 0 & 0\\\\\n",
       "\t 0.03172320 & 0.0002139908 & 0.05518711 & 0.0002928296 & 0.01877113 & 7.958957e-05 & 3.679141e-05 & 1.790765e-04 & 1.191966e-04 & 9.254165e-05 & ... & 0 & 0 & 0 & 0.000000e+00 & 0 & 0 & 0 & 0 & 0 & 0\\\\\n",
       "\t 0.01013732 & 0.0002523263 & 0.03143011 & 0.0002855271 & 0.01502891 & 9.606105e-05 & 4.139036e-05 & 2.279790e-04 & 3.187279e-04 & 8.034599e-05 & ... & 0 & 0 & 0 & 0.000000e+00 & 0 & 0 & 0 & 0 & 0 & 0\\\\\n",
       "\\end{tabular}\n"
      ],
      "text/markdown": [
       "\n",
       "A matrix: 6 × 34088 of type dbl\n",
       "\n",
       "| X132.102104639083_0.372004304029303 | X131.533704622707_12.156923992674 | X132.102110295016_0.384313827838827 | X437.193346142153_5.70380036832412 | X118.086554561322_0.32480934065934 | X247.166752680726_12.0809026411657 | X244.26347414023_5.42062692307692 | X333.06299725787_3.78730472222222 | X163.097900228246_11.7106996357012 | X163.097899424995_11.1240732240437 | ... | X322.119506835937_0.921533333333333 | X661.785034179687_11.9553833333333 | X642.103546142578_11.5374 | X605.357758348929_6.19966799410029 | X493.499145507812_11.9291 | X833.601801893446_11.786455050505 | X483.514984130859_11.9680833333333 | X661.448364257812_11.9415666666666 | X603.496154785156_11.6444999999999 | X642.103546142578_11.6032999999999 |\n",
       "|---|---|---|---|---|---|---|---|---|---|---|---|---|---|---|---|---|---|---|---|---|\n",
       "| 0.04263579 | 0.0002280519 | 0.06286301 | 0.0002439164 | 0.02181366 | 8.864279e-05 | 2.954760e-05 | 2.062383e-04 | 1.261226e-04 | 5.552568e-05 | ... | 0 | 0 | 0 | 0.000000e+00 | 0 | 0 | 0 | 0 | 0 | 0 |\n",
       "| 0.06025735 | 0.0002026512 | 0.03819886 | 0.0001321716 | 0.02205850 | 7.890844e-05 | 2.761795e-05 | 8.213651e-05 | 6.169205e-05 | 1.221287e-04 | ... | 0 | 0 | 0 | 1.447514e-06 | 0 | 0 | 0 | 0 | 0 | 0 |\n",
       "| 0.03933848 | 0.0001284286 | 0.04477645 | 0.0002395020 | 0.01261146 | 5.275985e-05 | 1.457838e-05 | 7.497452e-05 | 9.834621e-05 | 3.933848e-05 | ... | 0 | 0 | 0 | 1.435321e-06 | 0 | 0 | 0 | 0 | 0 | 0 |\n",
       "| 0.05825590 | 0.0001392279 | 0.05825590 | 0.0001990715 | 0.01624326 | 5.471414e-05 | 1.465557e-05 | 9.123094e-05 | 6.533943e-05 | 6.765989e-05 | ... | 0 | 0 | 0 | 1.285941e-06 | 0 | 0 | 0 | 0 | 0 | 0 |\n",
       "| 0.03172320 | 0.0002139908 | 0.05518711 | 0.0002928296 | 0.01877113 | 7.958957e-05 | 3.679141e-05 | 1.790765e-04 | 1.191966e-04 | 9.254165e-05 | ... | 0 | 0 | 0 | 0.000000e+00 | 0 | 0 | 0 | 0 | 0 | 0 |\n",
       "| 0.01013732 | 0.0002523263 | 0.03143011 | 0.0002855271 | 0.01502891 | 9.606105e-05 | 4.139036e-05 | 2.279790e-04 | 3.187279e-04 | 8.034599e-05 | ... | 0 | 0 | 0 | 0.000000e+00 | 0 | 0 | 0 | 0 | 0 | 0 |\n",
       "\n"
      ],
      "text/plain": [
       "     X132.102104639083_0.372004304029303 X131.533704622707_12.156923992674\n",
       "[1,] 0.04263579                          0.0002280519                     \n",
       "[2,] 0.06025735                          0.0002026512                     \n",
       "[3,] 0.03933848                          0.0001284286                     \n",
       "[4,] 0.05825590                          0.0001392279                     \n",
       "[5,] 0.03172320                          0.0002139908                     \n",
       "[6,] 0.01013732                          0.0002523263                     \n",
       "     X132.102110295016_0.384313827838827 X437.193346142153_5.70380036832412\n",
       "[1,] 0.06286301                          0.0002439164                      \n",
       "[2,] 0.03819886                          0.0001321716                      \n",
       "[3,] 0.04477645                          0.0002395020                      \n",
       "[4,] 0.05825590                          0.0001990715                      \n",
       "[5,] 0.05518711                          0.0002928296                      \n",
       "[6,] 0.03143011                          0.0002855271                      \n",
       "     X118.086554561322_0.32480934065934 X247.166752680726_12.0809026411657\n",
       "[1,] 0.02181366                         8.864279e-05                      \n",
       "[2,] 0.02205850                         7.890844e-05                      \n",
       "[3,] 0.01261146                         5.275985e-05                      \n",
       "[4,] 0.01624326                         5.471414e-05                      \n",
       "[5,] 0.01877113                         7.958957e-05                      \n",
       "[6,] 0.01502891                         9.606105e-05                      \n",
       "     X244.26347414023_5.42062692307692 X333.06299725787_3.78730472222222\n",
       "[1,] 2.954760e-05                      2.062383e-04                     \n",
       "[2,] 2.761795e-05                      8.213651e-05                     \n",
       "[3,] 1.457838e-05                      7.497452e-05                     \n",
       "[4,] 1.465557e-05                      9.123094e-05                     \n",
       "[5,] 3.679141e-05                      1.790765e-04                     \n",
       "[6,] 4.139036e-05                      2.279790e-04                     \n",
       "     X163.097900228246_11.7106996357012 X163.097899424995_11.1240732240437 ...\n",
       "[1,] 1.261226e-04                       5.552568e-05                       ...\n",
       "[2,] 6.169205e-05                       1.221287e-04                       ...\n",
       "[3,] 9.834621e-05                       3.933848e-05                       ...\n",
       "[4,] 6.533943e-05                       6.765989e-05                       ...\n",
       "[5,] 1.191966e-04                       9.254165e-05                       ...\n",
       "[6,] 3.187279e-04                       8.034599e-05                       ...\n",
       "     X322.119506835937_0.921533333333333 X661.785034179687_11.9553833333333\n",
       "[1,] 0                                   0                                 \n",
       "[2,] 0                                   0                                 \n",
       "[3,] 0                                   0                                 \n",
       "[4,] 0                                   0                                 \n",
       "[5,] 0                                   0                                 \n",
       "[6,] 0                                   0                                 \n",
       "     X642.103546142578_11.5374 X605.357758348929_6.19966799410029\n",
       "[1,] 0                         0.000000e+00                      \n",
       "[2,] 0                         1.447514e-06                      \n",
       "[3,] 0                         1.435321e-06                      \n",
       "[4,] 0                         1.285941e-06                      \n",
       "[5,] 0                         0.000000e+00                      \n",
       "[6,] 0                         0.000000e+00                      \n",
       "     X493.499145507812_11.9291 X833.601801893446_11.786455050505\n",
       "[1,] 0                         0                                \n",
       "[2,] 0                         0                                \n",
       "[3,] 0                         0                                \n",
       "[4,] 0                         0                                \n",
       "[5,] 0                         0                                \n",
       "[6,] 0                         0                                \n",
       "     X483.514984130859_11.9680833333333 X661.448364257812_11.9415666666666\n",
       "[1,] 0                                  0                                 \n",
       "[2,] 0                                  0                                 \n",
       "[3,] 0                                  0                                 \n",
       "[4,] 0                                  0                                 \n",
       "[5,] 0                                  0                                 \n",
       "[6,] 0                                  0                                 \n",
       "     X603.496154785156_11.6444999999999 X642.103546142578_11.6032999999999\n",
       "[1,] 0                                  0                                 \n",
       "[2,] 0                                  0                                 \n",
       "[3,] 0                                  0                                 \n",
       "[4,] 0                                  0                                 \n",
       "[5,] 0                                  0                                 \n",
       "[6,] 0                                  0                                 "
      ]
     },
     "metadata": {},
     "output_type": "display_data"
    },
    {
     "data": {
      "text/html": [
       "<style>\n",
       ".list-inline {list-style: none; margin:0; padding: 0}\n",
       ".list-inline>li {display: inline-block}\n",
       ".list-inline>li:not(:last-child)::after {content: \"\\00b7\"; padding: 0 .5ex}\n",
       "</style>\n",
       "<ol class=list-inline><li>105</li><li>34088</li></ol>\n"
      ],
      "text/latex": [
       "\\begin{enumerate*}\n",
       "\\item 105\n",
       "\\item 34088\n",
       "\\end{enumerate*}\n"
      ],
      "text/markdown": [
       "1. 105\n",
       "2. 34088\n",
       "\n",
       "\n"
      ],
      "text/plain": [
       "[1]   105 34088"
      ]
     },
     "metadata": {},
     "output_type": "display_data"
    }
   ],
   "source": [
    "head(norm)\n",
    "dim(norm)"
   ]
  },
  {
   "cell_type": "code",
   "execution_count": 22,
   "metadata": {},
   "outputs": [],
   "source": [
    "###Binding the metadata columns to the normalized feature table.\n",
    "norm_wMetadata <- cbind(features_wMetadata[,1:4],norm)"
   ]
  },
  {
   "cell_type": "code",
   "execution_count": 23,
   "metadata": {},
   "outputs": [
    {
     "data": {
      "text/html": [
       "<table class=\"dataframe\">\n",
       "<caption>A data.frame: 6 × 34092</caption>\n",
       "<thead>\n",
       "\t<tr><th></th><th scope=col>SampleID</th><th scope=col>ATTRIBUTE_SampleType</th><th scope=col>ATTRIBUTE_Population</th><th scope=col>ATTRIBUTE_Urbanization_Score</th><th scope=col>X132.102104639083_0.372004304029303</th><th scope=col>X131.533704622707_12.156923992674</th><th scope=col>X132.102110295016_0.384313827838827</th><th scope=col>X437.193346142153_5.70380036832412</th><th scope=col>X118.086554561322_0.32480934065934</th><th scope=col>X247.166752680726_12.0809026411657</th><th scope=col>...</th><th scope=col>X322.119506835937_0.921533333333333</th><th scope=col>X661.785034179687_11.9553833333333</th><th scope=col>X642.103546142578_11.5374</th><th scope=col>X605.357758348929_6.19966799410029</th><th scope=col>X493.499145507812_11.9291</th><th scope=col>X833.601801893446_11.786455050505</th><th scope=col>X483.514984130859_11.9680833333333</th><th scope=col>X661.448364257812_11.9415666666666</th><th scope=col>X603.496154785156_11.6444999999999</th><th scope=col>X642.103546142578_11.6032999999999</th></tr>\n",
       "\t<tr><th></th><th scope=col>&lt;chr&gt;</th><th scope=col>&lt;chr&gt;</th><th scope=col>&lt;chr&gt;</th><th scope=col>&lt;chr&gt;</th><th scope=col>&lt;dbl&gt;</th><th scope=col>&lt;dbl&gt;</th><th scope=col>&lt;dbl&gt;</th><th scope=col>&lt;dbl&gt;</th><th scope=col>&lt;dbl&gt;</th><th scope=col>&lt;dbl&gt;</th><th scope=col>...</th><th scope=col>&lt;dbl&gt;</th><th scope=col>&lt;dbl&gt;</th><th scope=col>&lt;dbl&gt;</th><th scope=col>&lt;dbl&gt;</th><th scope=col>&lt;dbl&gt;</th><th scope=col>&lt;dbl&gt;</th><th scope=col>&lt;dbl&gt;</th><th scope=col>&lt;dbl&gt;</th><th scope=col>&lt;dbl&gt;</th><th scope=col>&lt;dbl&gt;</th></tr>\n",
       "</thead>\n",
       "<tbody>\n",
       "\t<tr><th scope=row>1</th><td>BFTM01_01_BF3.mzXML</td><td>SAMPLE</td><td>Burkina Faso 3</td><td>(3) Rural Traditional</td><td>0.04263579</td><td>0.0002280519</td><td>0.06286301</td><td>0.0002439164</td><td>0.02181366</td><td>8.864279e-05</td><td>...</td><td>0</td><td>0</td><td>0</td><td>0.000000e+00</td><td>0</td><td>0</td><td>0</td><td>0</td><td>0</td><td>0</td></tr>\n",
       "\t<tr><th scope=row>2</th><td>BFTM09_02_BF3.mzXML</td><td>SAMPLE</td><td>Burkina Faso 3</td><td>(3) Rural Traditional</td><td>0.06025735</td><td>0.0002026512</td><td>0.03819886</td><td>0.0001321716</td><td>0.02205850</td><td>7.890844e-05</td><td>...</td><td>0</td><td>0</td><td>0</td><td>1.447514e-06</td><td>0</td><td>0</td><td>0</td><td>0</td><td>0</td><td>0</td></tr>\n",
       "\t<tr><th scope=row>3</th><td>BFTM10_01_BF3.mzXML</td><td>SAMPLE</td><td>Burkina Faso 3</td><td>(3) Rural Traditional</td><td>0.03933848</td><td>0.0001284286</td><td>0.04477645</td><td>0.0002395020</td><td>0.01261146</td><td>5.275985e-05</td><td>...</td><td>0</td><td>0</td><td>0</td><td>1.435321e-06</td><td>0</td><td>0</td><td>0</td><td>0</td><td>0</td><td>0</td></tr>\n",
       "\t<tr><th scope=row>4</th><td>BFTM11_04_BF3.mzXML</td><td>SAMPLE</td><td>Burkina Faso 3</td><td>(3) Rural Traditional</td><td>0.05825590</td><td>0.0001392279</td><td>0.05825590</td><td>0.0001990715</td><td>0.01624326</td><td>5.471414e-05</td><td>...</td><td>0</td><td>0</td><td>0</td><td>1.285941e-06</td><td>0</td><td>0</td><td>0</td><td>0</td><td>0</td><td>0</td></tr>\n",
       "\t<tr><th scope=row>5</th><td>BFTM13_01_BF3.mzXML</td><td>SAMPLE</td><td>Burkina Faso 3</td><td>(3) Rural Traditional</td><td>0.03172320</td><td>0.0002139908</td><td>0.05518711</td><td>0.0002928296</td><td>0.01877113</td><td>7.958957e-05</td><td>...</td><td>0</td><td>0</td><td>0</td><td>0.000000e+00</td><td>0</td><td>0</td><td>0</td><td>0</td><td>0</td><td>0</td></tr>\n",
       "\t<tr><th scope=row>6</th><td>BFTM17_02_BF3.mzXML</td><td>SAMPLE</td><td>Burkina Faso 3</td><td>(3) Rural Traditional</td><td>0.01013732</td><td>0.0002523263</td><td>0.03143011</td><td>0.0002855271</td><td>0.01502891</td><td>9.606105e-05</td><td>...</td><td>0</td><td>0</td><td>0</td><td>0.000000e+00</td><td>0</td><td>0</td><td>0</td><td>0</td><td>0</td><td>0</td></tr>\n",
       "</tbody>\n",
       "</table>\n"
      ],
      "text/latex": [
       "A data.frame: 6 × 34092\n",
       "\\begin{tabular}{r|lllllllllllllllllllll}\n",
       "  & SampleID & ATTRIBUTE\\_SampleType & ATTRIBUTE\\_Population & ATTRIBUTE\\_Urbanization\\_Score & X132.102104639083\\_0.372004304029303 & X131.533704622707\\_12.156923992674 & X132.102110295016\\_0.384313827838827 & X437.193346142153\\_5.70380036832412 & X118.086554561322\\_0.32480934065934 & X247.166752680726\\_12.0809026411657 & ... & X322.119506835937\\_0.921533333333333 & X661.785034179687\\_11.9553833333333 & X642.103546142578\\_11.5374 & X605.357758348929\\_6.19966799410029 & X493.499145507812\\_11.9291 & X833.601801893446\\_11.786455050505 & X483.514984130859\\_11.9680833333333 & X661.448364257812\\_11.9415666666666 & X603.496154785156\\_11.6444999999999 & X642.103546142578\\_11.6032999999999\\\\\n",
       "  & <chr> & <chr> & <chr> & <chr> & <dbl> & <dbl> & <dbl> & <dbl> & <dbl> & <dbl> & ... & <dbl> & <dbl> & <dbl> & <dbl> & <dbl> & <dbl> & <dbl> & <dbl> & <dbl> & <dbl>\\\\\n",
       "\\hline\n",
       "\t1 & BFTM01\\_01\\_BF3.mzXML & SAMPLE & Burkina Faso 3 & (3) Rural Traditional & 0.04263579 & 0.0002280519 & 0.06286301 & 0.0002439164 & 0.02181366 & 8.864279e-05 & ... & 0 & 0 & 0 & 0.000000e+00 & 0 & 0 & 0 & 0 & 0 & 0\\\\\n",
       "\t2 & BFTM09\\_02\\_BF3.mzXML & SAMPLE & Burkina Faso 3 & (3) Rural Traditional & 0.06025735 & 0.0002026512 & 0.03819886 & 0.0001321716 & 0.02205850 & 7.890844e-05 & ... & 0 & 0 & 0 & 1.447514e-06 & 0 & 0 & 0 & 0 & 0 & 0\\\\\n",
       "\t3 & BFTM10\\_01\\_BF3.mzXML & SAMPLE & Burkina Faso 3 & (3) Rural Traditional & 0.03933848 & 0.0001284286 & 0.04477645 & 0.0002395020 & 0.01261146 & 5.275985e-05 & ... & 0 & 0 & 0 & 1.435321e-06 & 0 & 0 & 0 & 0 & 0 & 0\\\\\n",
       "\t4 & BFTM11\\_04\\_BF3.mzXML & SAMPLE & Burkina Faso 3 & (3) Rural Traditional & 0.05825590 & 0.0001392279 & 0.05825590 & 0.0001990715 & 0.01624326 & 5.471414e-05 & ... & 0 & 0 & 0 & 1.285941e-06 & 0 & 0 & 0 & 0 & 0 & 0\\\\\n",
       "\t5 & BFTM13\\_01\\_BF3.mzXML & SAMPLE & Burkina Faso 3 & (3) Rural Traditional & 0.03172320 & 0.0002139908 & 0.05518711 & 0.0002928296 & 0.01877113 & 7.958957e-05 & ... & 0 & 0 & 0 & 0.000000e+00 & 0 & 0 & 0 & 0 & 0 & 0\\\\\n",
       "\t6 & BFTM17\\_02\\_BF3.mzXML & SAMPLE & Burkina Faso 3 & (3) Rural Traditional & 0.01013732 & 0.0002523263 & 0.03143011 & 0.0002855271 & 0.01502891 & 9.606105e-05 & ... & 0 & 0 & 0 & 0.000000e+00 & 0 & 0 & 0 & 0 & 0 & 0\\\\\n",
       "\\end{tabular}\n"
      ],
      "text/markdown": [
       "\n",
       "A data.frame: 6 × 34092\n",
       "\n",
       "| <!--/--> | SampleID &lt;chr&gt; | ATTRIBUTE_SampleType &lt;chr&gt; | ATTRIBUTE_Population &lt;chr&gt; | ATTRIBUTE_Urbanization_Score &lt;chr&gt; | X132.102104639083_0.372004304029303 &lt;dbl&gt; | X131.533704622707_12.156923992674 &lt;dbl&gt; | X132.102110295016_0.384313827838827 &lt;dbl&gt; | X437.193346142153_5.70380036832412 &lt;dbl&gt; | X118.086554561322_0.32480934065934 &lt;dbl&gt; | X247.166752680726_12.0809026411657 &lt;dbl&gt; | ... ... | X322.119506835937_0.921533333333333 &lt;dbl&gt; | X661.785034179687_11.9553833333333 &lt;dbl&gt; | X642.103546142578_11.5374 &lt;dbl&gt; | X605.357758348929_6.19966799410029 &lt;dbl&gt; | X493.499145507812_11.9291 &lt;dbl&gt; | X833.601801893446_11.786455050505 &lt;dbl&gt; | X483.514984130859_11.9680833333333 &lt;dbl&gt; | X661.448364257812_11.9415666666666 &lt;dbl&gt; | X603.496154785156_11.6444999999999 &lt;dbl&gt; | X642.103546142578_11.6032999999999 &lt;dbl&gt; |\n",
       "|---|---|---|---|---|---|---|---|---|---|---|---|---|---|---|---|---|---|---|---|---|---|\n",
       "| 1 | BFTM01_01_BF3.mzXML | SAMPLE | Burkina Faso 3 | (3) Rural Traditional | 0.04263579 | 0.0002280519 | 0.06286301 | 0.0002439164 | 0.02181366 | 8.864279e-05 | ... | 0 | 0 | 0 | 0.000000e+00 | 0 | 0 | 0 | 0 | 0 | 0 |\n",
       "| 2 | BFTM09_02_BF3.mzXML | SAMPLE | Burkina Faso 3 | (3) Rural Traditional | 0.06025735 | 0.0002026512 | 0.03819886 | 0.0001321716 | 0.02205850 | 7.890844e-05 | ... | 0 | 0 | 0 | 1.447514e-06 | 0 | 0 | 0 | 0 | 0 | 0 |\n",
       "| 3 | BFTM10_01_BF3.mzXML | SAMPLE | Burkina Faso 3 | (3) Rural Traditional | 0.03933848 | 0.0001284286 | 0.04477645 | 0.0002395020 | 0.01261146 | 5.275985e-05 | ... | 0 | 0 | 0 | 1.435321e-06 | 0 | 0 | 0 | 0 | 0 | 0 |\n",
       "| 4 | BFTM11_04_BF3.mzXML | SAMPLE | Burkina Faso 3 | (3) Rural Traditional | 0.05825590 | 0.0001392279 | 0.05825590 | 0.0001990715 | 0.01624326 | 5.471414e-05 | ... | 0 | 0 | 0 | 1.285941e-06 | 0 | 0 | 0 | 0 | 0 | 0 |\n",
       "| 5 | BFTM13_01_BF3.mzXML | SAMPLE | Burkina Faso 3 | (3) Rural Traditional | 0.03172320 | 0.0002139908 | 0.05518711 | 0.0002928296 | 0.01877113 | 7.958957e-05 | ... | 0 | 0 | 0 | 0.000000e+00 | 0 | 0 | 0 | 0 | 0 | 0 |\n",
       "| 6 | BFTM17_02_BF3.mzXML | SAMPLE | Burkina Faso 3 | (3) Rural Traditional | 0.01013732 | 0.0002523263 | 0.03143011 | 0.0002855271 | 0.01502891 | 9.606105e-05 | ... | 0 | 0 | 0 | 0.000000e+00 | 0 | 0 | 0 | 0 | 0 | 0 |\n",
       "\n"
      ],
      "text/plain": [
       "  SampleID            ATTRIBUTE_SampleType ATTRIBUTE_Population\n",
       "1 BFTM01_01_BF3.mzXML SAMPLE               Burkina Faso 3      \n",
       "2 BFTM09_02_BF3.mzXML SAMPLE               Burkina Faso 3      \n",
       "3 BFTM10_01_BF3.mzXML SAMPLE               Burkina Faso 3      \n",
       "4 BFTM11_04_BF3.mzXML SAMPLE               Burkina Faso 3      \n",
       "5 BFTM13_01_BF3.mzXML SAMPLE               Burkina Faso 3      \n",
       "6 BFTM17_02_BF3.mzXML SAMPLE               Burkina Faso 3      \n",
       "  ATTRIBUTE_Urbanization_Score X132.102104639083_0.372004304029303\n",
       "1 (3) Rural Traditional        0.04263579                         \n",
       "2 (3) Rural Traditional        0.06025735                         \n",
       "3 (3) Rural Traditional        0.03933848                         \n",
       "4 (3) Rural Traditional        0.05825590                         \n",
       "5 (3) Rural Traditional        0.03172320                         \n",
       "6 (3) Rural Traditional        0.01013732                         \n",
       "  X131.533704622707_12.156923992674 X132.102110295016_0.384313827838827\n",
       "1 0.0002280519                      0.06286301                         \n",
       "2 0.0002026512                      0.03819886                         \n",
       "3 0.0001284286                      0.04477645                         \n",
       "4 0.0001392279                      0.05825590                         \n",
       "5 0.0002139908                      0.05518711                         \n",
       "6 0.0002523263                      0.03143011                         \n",
       "  X437.193346142153_5.70380036832412 X118.086554561322_0.32480934065934\n",
       "1 0.0002439164                       0.02181366                        \n",
       "2 0.0001321716                       0.02205850                        \n",
       "3 0.0002395020                       0.01261146                        \n",
       "4 0.0001990715                       0.01624326                        \n",
       "5 0.0002928296                       0.01877113                        \n",
       "6 0.0002855271                       0.01502891                        \n",
       "  X247.166752680726_12.0809026411657 ... X322.119506835937_0.921533333333333\n",
       "1 8.864279e-05                       ... 0                                  \n",
       "2 7.890844e-05                       ... 0                                  \n",
       "3 5.275985e-05                       ... 0                                  \n",
       "4 5.471414e-05                       ... 0                                  \n",
       "5 7.958957e-05                       ... 0                                  \n",
       "6 9.606105e-05                       ... 0                                  \n",
       "  X661.785034179687_11.9553833333333 X642.103546142578_11.5374\n",
       "1 0                                  0                        \n",
       "2 0                                  0                        \n",
       "3 0                                  0                        \n",
       "4 0                                  0                        \n",
       "5 0                                  0                        \n",
       "6 0                                  0                        \n",
       "  X605.357758348929_6.19966799410029 X493.499145507812_11.9291\n",
       "1 0.000000e+00                       0                        \n",
       "2 1.447514e-06                       0                        \n",
       "3 1.435321e-06                       0                        \n",
       "4 1.285941e-06                       0                        \n",
       "5 0.000000e+00                       0                        \n",
       "6 0.000000e+00                       0                        \n",
       "  X833.601801893446_11.786455050505 X483.514984130859_11.9680833333333\n",
       "1 0                                 0                                 \n",
       "2 0                                 0                                 \n",
       "3 0                                 0                                 \n",
       "4 0                                 0                                 \n",
       "5 0                                 0                                 \n",
       "6 0                                 0                                 \n",
       "  X661.448364257812_11.9415666666666 X603.496154785156_11.6444999999999\n",
       "1 0                                  0                                 \n",
       "2 0                                  0                                 \n",
       "3 0                                  0                                 \n",
       "4 0                                  0                                 \n",
       "5 0                                  0                                 \n",
       "6 0                                  0                                 \n",
       "  X642.103546142578_11.6032999999999\n",
       "1 0                                 \n",
       "2 0                                 \n",
       "3 0                                 \n",
       "4 0                                 \n",
       "5 0                                 \n",
       "6 0                                 "
      ]
     },
     "metadata": {},
     "output_type": "display_data"
    },
    {
     "data": {
      "text/html": [
       "<style>\n",
       ".list-inline {list-style: none; margin:0; padding: 0}\n",
       ".list-inline>li {display: inline-block}\n",
       ".list-inline>li:not(:last-child)::after {content: \"\\00b7\"; padding: 0 .5ex}\n",
       "</style>\n",
       "<ol class=list-inline><li>105</li><li>34092</li></ol>\n"
      ],
      "text/latex": [
       "\\begin{enumerate*}\n",
       "\\item 105\n",
       "\\item 34092\n",
       "\\end{enumerate*}\n"
      ],
      "text/markdown": [
       "1. 105\n",
       "2. 34092\n",
       "\n",
       "\n"
      ],
      "text/plain": [
       "[1]   105 34092"
      ]
     },
     "metadata": {},
     "output_type": "display_data"
    }
   ],
   "source": [
    "head(norm_wMetadata)\n",
    "dim(norm_wMetadata)"
   ]
  },
  {
   "cell_type": "code",
   "execution_count": 24,
   "metadata": {},
   "outputs": [],
   "source": [
    "###Saving this last file. This will be used in later data analysis processes.\n",
    "write.csv(norm_wMetadata,\"./FBMN2_Msrun3_feats_transposed_3xFiltered_Corrected_TICnorm_forClusterApp.csv\",row.names=FALSE)"
   ]
  },
  {
   "cell_type": "code",
   "execution_count": null,
   "metadata": {},
   "outputs": [],
   "source": []
  }
 ],
 "metadata": {
  "kernelspec": {
   "display_name": "R",
   "language": "R",
   "name": "ir"
  },
  "language_info": {
   "codemirror_mode": "r",
   "file_extension": ".r",
   "mimetype": "text/x-r-source",
   "name": "R",
   "pygments_lexer": "r",
   "version": "4.0.4"
  }
 },
 "nbformat": 4,
 "nbformat_minor": 4
}
