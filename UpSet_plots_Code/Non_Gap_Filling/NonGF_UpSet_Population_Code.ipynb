{
 "cells": [
  {
   "cell_type": "code",
   "execution_count": 1,
   "id": "dbf9df02",
   "metadata": {},
   "outputs": [],
   "source": [
    "###The following code was used to create UpSet plots from our non-gap-\n",
    "###filled data. Similar to other UpSet plot code.\n",
    "###First, loading packages\n",
    "import pandas as pd\n",
    "from upsetplot import from_contents\n",
    "from upsetplot import UpSet\n",
    "from matplotlib import pyplot as plt\n",
    "from upsetplot import generate_counts"
   ]
  },
  {
   "cell_type": "code",
   "execution_count": 2,
   "id": "83f1fe59",
   "metadata": {},
   "outputs": [
    {
     "data": {
      "text/html": [
       "<div>\n",
       "<style scoped>\n",
       "    .dataframe tbody tr th:only-of-type {\n",
       "        vertical-align: middle;\n",
       "    }\n",
       "\n",
       "    .dataframe tbody tr th {\n",
       "        vertical-align: top;\n",
       "    }\n",
       "\n",
       "    .dataframe thead th {\n",
       "        text-align: right;\n",
       "    }\n",
       "</style>\n",
       "<table border=\"1\" class=\"dataframe\">\n",
       "  <thead>\n",
       "    <tr style=\"text-align: right;\">\n",
       "      <th></th>\n",
       "      <th>Norman</th>\n",
       "      <th>Guayabo</th>\n",
       "      <th>TamboDeMora</th>\n",
       "      <th>Boulkiemdé</th>\n",
       "      <th>Tunapuco</th>\n",
       "      <th>Matses</th>\n",
       "    </tr>\n",
       "  </thead>\n",
       "  <tbody>\n",
       "    <tr>\n",
       "      <th>0</th>\n",
       "      <td>42617</td>\n",
       "      <td>42617.0</td>\n",
       "      <td>17157.0</td>\n",
       "      <td>42617.0</td>\n",
       "      <td>42617.0</td>\n",
       "      <td>17157.0</td>\n",
       "    </tr>\n",
       "    <tr>\n",
       "      <th>1</th>\n",
       "      <td>26575</td>\n",
       "      <td>17157.0</td>\n",
       "      <td>43803.0</td>\n",
       "      <td>43803.0</td>\n",
       "      <td>26575.0</td>\n",
       "      <td>43803.0</td>\n",
       "    </tr>\n",
       "    <tr>\n",
       "      <th>2</th>\n",
       "      <td>43803</td>\n",
       "      <td>43803.0</td>\n",
       "      <td>292.0</td>\n",
       "      <td>292.0</td>\n",
       "      <td>17157.0</td>\n",
       "      <td>292.0</td>\n",
       "    </tr>\n",
       "    <tr>\n",
       "      <th>3</th>\n",
       "      <td>25815</td>\n",
       "      <td>292.0</td>\n",
       "      <td>25815.0</td>\n",
       "      <td>43789.0</td>\n",
       "      <td>43803.0</td>\n",
       "      <td>23116.0</td>\n",
       "    </tr>\n",
       "    <tr>\n",
       "      <th>4</th>\n",
       "      <td>292</td>\n",
       "      <td>43789.0</td>\n",
       "      <td>43789.0</td>\n",
       "      <td>2003.0</td>\n",
       "      <td>292.0</td>\n",
       "      <td>43789.0</td>\n",
       "    </tr>\n",
       "  </tbody>\n",
       "</table>\n",
       "</div>"
      ],
      "text/plain": [
       "   Norman  Guayabo  TamboDeMora  Boulkiemdé  Tunapuco   Matses\n",
       "0   42617  42617.0      17157.0     42617.0   42617.0  17157.0\n",
       "1   26575  17157.0      43803.0     43803.0   26575.0  43803.0\n",
       "2   43803  43803.0        292.0       292.0   17157.0    292.0\n",
       "3   25815    292.0      25815.0     43789.0   43803.0  23116.0\n",
       "4     292  43789.0      43789.0      2003.0     292.0  43789.0"
      ]
     },
     "execution_count": 2,
     "metadata": {},
     "output_type": "execute_result"
    }
   ],
   "source": [
    "###Reading in our data, which is visualized below. Each population\n",
    "###group is a column and the cells contain metabolite feature IDs that\n",
    "###are present in each group.\n",
    "df=pd.read_csv(\"CoreMetabolome_ClusterIndexList_grouped_Populations.csv\", encoding='latin-1')\n",
    "df.head()"
   ]
  },
  {
   "cell_type": "code",
   "execution_count": 3,
   "id": "45a5ee35",
   "metadata": {},
   "outputs": [],
   "source": [
    "###Reading in the file as a list\n",
    "lists_of_filename=[\"CoreMetabolome_ClusterIndexList_grouped_Populations.csv\"]"
   ]
  },
  {
   "cell_type": "code",
   "execution_count": 4,
   "id": "b019feaf",
   "metadata": {},
   "outputs": [],
   "source": [
    "###Making list of titles\n",
    "list_of_types=[\"Populations\"]"
   ]
  },
  {
   "cell_type": "code",
   "execution_count": 5,
   "id": "f0edf45f",
   "metadata": {},
   "outputs": [],
   "source": [
    "###Creating counter for loop\n",
    "counter=0"
   ]
  },
  {
   "cell_type": "code",
   "execution_count": 6,
   "id": "b451cb23",
   "metadata": {},
   "outputs": [],
   "source": [
    "###Running loop for all files. The \"encoding='latin-1'\" part is necessary\n",
    "###for this file due to formatting as csv and column names\n",
    "for file in lists_of_filename:\n",
    "    df = pd.read_csv(file, encoding='latin-1')"
   ]
  },
  {
   "cell_type": "code",
   "execution_count": 7,
   "id": "7be98851",
   "metadata": {},
   "outputs": [],
   "source": [
    "###Making input lists, which will also drop any NAs and duplicates.\n",
    "###Columns are also then made into a list.\n",
    "Norman=df['Norman'].dropna().drop_duplicates().tolist()\n",
    "Guayabo=df['Guayabo'].dropna().drop_duplicates().tolist()\n",
    "TamboDeMora=df['TamboDeMora'].dropna().drop_duplicates().tolist()\n",
    "Boulkiemdé=df['Boulkiemdé'].dropna().drop_duplicates().tolist()\n",
    "Tunapuco=df['Tunapuco'].dropna().drop_duplicates().tolist()\n",
    "Matses=df['Matses'].dropna().drop_duplicates().tolist()"
   ]
  },
  {
   "cell_type": "code",
   "execution_count": 8,
   "id": "38c7f7d8",
   "metadata": {},
   "outputs": [],
   "source": [
    "###Making a dictionary from the lists and combined dataset\n",
    "populations= from_contents({'Norman':Norman, \n",
    "                            'Guayabo': Guayabo, \n",
    "                            'TamboDeMora': TamboDeMora,\n",
    "                           'Boulkiemdé': Boulkiemdé,\n",
    "                           'Tunapuco': Tunapuco,\n",
    "                           'Matses': Matses})"
   ]
  },
  {
   "cell_type": "code",
   "execution_count": 9,
   "id": "2da76d66",
   "metadata": {},
   "outputs": [
    {
     "data": {
      "image/png": "[encoded data removed]",
      "text/plain": [
       "<Figure size 736x384 with 4 Axes>"
      ]
     },
     "metadata": {
      "needs_background": "light"
     },
     "output_type": "display_data"
    }
   ],
   "source": [
    "###Parameters for UpSet plot, then plotting and saving\n",
    "###The number of shown groupings can be edited with \"min_subset_size\"\n",
    "###Similarly, the colors and highlighting the largest overlap can be tailored\n",
    "upset_plt=UpSet(populations, sort_categories_by=None, sort_by='cardinality',\n",
    "               min_subset_size=500, facecolor='black', other_dots_color=0.05,\n",
    "               shading_color=0.05, with_lines=True, element_size=32, show_counts=True,\n",
    "               show_percentages=False)\n",
    "upset_plt.style_subsets(min_subset_size=6000, label=\"Largest Overlap\", facecolor=\"red\")\n",
    "upset_plt.plot()\n",
    "plt.suptitle(list_of_types[counter])\n",
    "plt.savefig(list_of_types[counter]+\"_upset_population.jpeg\",\n",
    "           bbox_inches=\"tight\")"
   ]
  },
  {
   "cell_type": "code",
   "execution_count": null,
   "id": "912c7a73",
   "metadata": {},
   "outputs": [],
   "source": []
  }
 ],
 "metadata": {
  "kernelspec": {
   "display_name": "Python 3 (ipykernel)",
   "language": "python",
   "name": "python3"
  },
  "language_info": {
   "codemirror_mode": {
    "name": "ipython",
    "version": 3
   },
   "file_extension": ".py",
   "mimetype": "text/x-python",
   "name": "python",
   "nbconvert_exporter": "python",
   "pygments_lexer": "ipython3",
   "version": "3.9.7"
  }
 },
 "nbformat": 4,
 "nbformat_minor": 5
}
