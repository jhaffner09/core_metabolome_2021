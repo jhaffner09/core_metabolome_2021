{
 "cells": [
  {
   "cell_type": "code",
   "execution_count": 1,
   "id": "9346830c",
   "metadata": {},
   "outputs": [],
   "source": [
    "###Loading packages\n",
    "import pandas as pd\n",
    "from upsetplot import from_contents\n",
    "from upsetplot import UpSet\n",
    "from matplotlib import pyplot as plt\n",
    "from upsetplot import generate_counts"
   ]
  },
  {
   "cell_type": "code",
   "execution_count": 2,
   "id": "95f39e99",
   "metadata": {},
   "outputs": [
    {
     "data": {
      "text/html": [
       "<div>\n",
       "<style scoped>\n",
       "    .dataframe tbody tr th:only-of-type {\n",
       "        vertical-align: middle;\n",
       "    }\n",
       "\n",
       "    .dataframe tbody tr th {\n",
       "        vertical-align: top;\n",
       "    }\n",
       "\n",
       "    .dataframe thead th {\n",
       "        text-align: right;\n",
       "    }\n",
       "</style>\n",
       "<table border=\"1\" class=\"dataframe\">\n",
       "  <thead>\n",
       "    <tr style=\"text-align: right;\">\n",
       "      <th></th>\n",
       "      <th>Norman</th>\n",
       "      <th>Guayabo</th>\n",
       "      <th>TamboDeMora</th>\n",
       "      <th>Boulkiemdé</th>\n",
       "      <th>Tunapuco</th>\n",
       "      <th>Matses</th>\n",
       "    </tr>\n",
       "  </thead>\n",
       "  <tbody>\n",
       "    <tr>\n",
       "      <th>0</th>\n",
       "      <td>16444</td>\n",
       "      <td>16444.0</td>\n",
       "      <td>16444.0</td>\n",
       "      <td>16444.0</td>\n",
       "      <td>16444.0</td>\n",
       "      <td>1.0</td>\n",
       "    </tr>\n",
       "    <tr>\n",
       "      <th>1</th>\n",
       "      <td>4932</td>\n",
       "      <td>4932.0</td>\n",
       "      <td>4932.0</td>\n",
       "      <td>4932.0</td>\n",
       "      <td>4932.0</td>\n",
       "      <td>3.0</td>\n",
       "    </tr>\n",
       "    <tr>\n",
       "      <th>2</th>\n",
       "      <td>9853</td>\n",
       "      <td>9853.0</td>\n",
       "      <td>9853.0</td>\n",
       "      <td>9853.0</td>\n",
       "      <td>9853.0</td>\n",
       "      <td>4.0</td>\n",
       "    </tr>\n",
       "    <tr>\n",
       "      <th>3</th>\n",
       "      <td>27223</td>\n",
       "      <td>27223.0</td>\n",
       "      <td>27223.0</td>\n",
       "      <td>27223.0</td>\n",
       "      <td>27223.0</td>\n",
       "      <td>5.0</td>\n",
       "    </tr>\n",
       "    <tr>\n",
       "      <th>4</th>\n",
       "      <td>24127</td>\n",
       "      <td>24127.0</td>\n",
       "      <td>24127.0</td>\n",
       "      <td>24127.0</td>\n",
       "      <td>24127.0</td>\n",
       "      <td>6.0</td>\n",
       "    </tr>\n",
       "  </tbody>\n",
       "</table>\n",
       "</div>"
      ],
      "text/plain": [
       "   Norman  Guayabo  TamboDeMora  Boulkiemdé  Tunapuco  Matses\n",
       "0   16444  16444.0      16444.0     16444.0   16444.0     1.0\n",
       "1    4932   4932.0       4932.0      4932.0    4932.0     3.0\n",
       "2    9853   9853.0       9853.0      9853.0    9853.0     4.0\n",
       "3   27223  27223.0      27223.0     27223.0   27223.0     5.0\n",
       "4   24127  24127.0      24127.0     24127.0   24127.0     6.0"
      ]
     },
     "execution_count": 2,
     "metadata": {},
     "output_type": "execute_result"
    }
   ],
   "source": [
    "###Loading data in\n",
    "df=pd.read_csv(\"UpsetPlot_GapFilling_Populations.csv\", encoding='latin-1')\n",
    "df.head()"
   ]
  },
  {
   "cell_type": "code",
   "execution_count": 3,
   "id": "28aada8b",
   "metadata": {},
   "outputs": [],
   "source": [
    "###Creating a list from the file\n",
    "lists_of_filename=[\"UpsetPlot_GapFilling_Populations.csv\"]"
   ]
  },
  {
   "cell_type": "code",
   "execution_count": 4,
   "id": "54f27683",
   "metadata": {},
   "outputs": [],
   "source": [
    "###Making dictionary for titles of graphs/files\n",
    "list_of_types=[\"Populations\"]"
   ]
  },
  {
   "cell_type": "code",
   "execution_count": 5,
   "id": "d17e209e",
   "metadata": {},
   "outputs": [],
   "source": [
    "###Counter for loop\n",
    "counter=0"
   ]
  },
  {
   "cell_type": "code",
   "execution_count": 6,
   "id": "6abe3113",
   "metadata": {},
   "outputs": [],
   "source": [
    "###Running this loop. The \"encoding='latin-1'\" is necessary to load in\n",
    "###the csv file and column names correctly.\n",
    "for file in lists_of_filename:\n",
    "    df = pd.read_csv(file, encoding='latin-1')"
   ]
  },
  {
   "cell_type": "code",
   "execution_count": 7,
   "id": "67d312a5",
   "metadata": {},
   "outputs": [],
   "source": [
    "###Making input lists while also dropping NAs and duplicates.\n",
    "Norman=df['Norman'].dropna().drop_duplicates().tolist()\n",
    "Guayabo=df['Guayabo'].dropna().drop_duplicates().tolist()\n",
    "TamboDeMora=df['TamboDeMora'].dropna().drop_duplicates().tolist()\n",
    "Boulkiemdé=df['Boulkiemdé'].dropna().drop_duplicates().tolist()\n",
    "Tunapuco=df['Tunapuco'].dropna().drop_duplicates().tolist()\n",
    "Matses=df['Matses'].dropna().drop_duplicates().tolist()\n",
    "\n",
    "populations= from_contents({'Norman':Norman, \n",
    "                            'Guayabo': Guayabo, \n",
    "                            'TamboDeMora': TamboDeMora,\n",
    "                           'Boulkiemdé': Boulkiemdé,\n",
    "                           'Tunapuco': Tunapuco,\n",
    "                           'Matses': Matses})"
   ]
  },
  {
   "cell_type": "code",
   "execution_count": 8,
   "id": "efffe36e",
   "metadata": {},
   "outputs": [
    {
     "data": {
      "image/png": "[encoded data removed]",
      "text/plain": [
       "<Figure size 544x384 with 4 Axes>"
      ]
     },
     "metadata": {
      "needs_background": "light"
     },
     "output_type": "display_data"
    }
   ],
   "source": [
    "###Parameters for UpSet plot, then visualizing and saving it\n",
    "###Features like the number of groupings and coloring can be modified\n",
    "upset_plt=UpSet(populations,sort_categories_by=None, sort_by='cardinality',\n",
    "               min_subset_size=200, facecolor='black', other_dots_color=0.05,\n",
    "               shading_color=0.05, with_lines=True, element_size=32, show_counts=True,\n",
    "               show_percentages=False)\n",
    "upset_plt.style_subsets(min_subset_size=6000, label=\"Largest Overlap\", facecolor=\"red\")\n",
    "upset_plt.plot()\n",
    "plt.suptitle(list_of_types[counter])\n",
    "plt.savefig(list_of_types[counter]+\"_upset.jpeg\",\n",
    "           bbox_inches=\"tight\")"
   ]
  },
  {
   "cell_type": "code",
   "execution_count": null,
   "id": "cbfe5260",
   "metadata": {},
   "outputs": [],
   "source": []
  }
 ],
 "metadata": {
  "kernelspec": {
   "display_name": "Python 3 (ipykernel)",
   "language": "python",
   "name": "python3"
  },
  "language_info": {
   "codemirror_mode": {
    "name": "ipython",
    "version": 3
   },
   "file_extension": ".py",
   "mimetype": "text/x-python",
   "name": "python",
   "nbconvert_exporter": "python",
   "pygments_lexer": "ipython3",
   "version": "3.9.7"
  }
 },
 "nbformat": 4,
 "nbformat_minor": 5
}
