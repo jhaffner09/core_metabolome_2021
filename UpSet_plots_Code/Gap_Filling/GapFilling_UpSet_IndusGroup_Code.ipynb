{
 "cells": [
  {
   "cell_type": "code",
   "execution_count": 1,
   "id": "c215e499",
   "metadata": {},
   "outputs": [],
   "source": [
    "import pandas as pd\n",
    "from upsetplot import from_contents\n",
    "from upsetplot import UpSet\n",
    "from matplotlib import pyplot as plt\n",
    "from upsetplot import generate_counts"
   ]
  },
  {
   "cell_type": "code",
   "execution_count": 2,
   "id": "8139502f",
   "metadata": {},
   "outputs": [
    {
     "data": {
      "text/html": [
       "<div>\n",
       "<style scoped>\n",
       "    .dataframe tbody tr th:only-of-type {\n",
       "        vertical-align: middle;\n",
       "    }\n",
       "\n",
       "    .dataframe tbody tr th {\n",
       "        vertical-align: top;\n",
       "    }\n",
       "\n",
       "    .dataframe thead th {\n",
       "        text-align: right;\n",
       "    }\n",
       "</style>\n",
       "<table border=\"1\" class=\"dataframe\">\n",
       "  <thead>\n",
       "    <tr style=\"text-align: right;\">\n",
       "      <th></th>\n",
       "      <th>Urban_Industrial</th>\n",
       "      <th>Rural_Industrial</th>\n",
       "      <th>Rural_Traditional</th>\n",
       "      <th>Isolated_Traditional</th>\n",
       "    </tr>\n",
       "  </thead>\n",
       "  <tbody>\n",
       "    <tr>\n",
       "      <th>0</th>\n",
       "      <td>1</td>\n",
       "      <td>1.0</td>\n",
       "      <td>1.0</td>\n",
       "      <td>1.0</td>\n",
       "    </tr>\n",
       "    <tr>\n",
       "      <th>1</th>\n",
       "      <td>3</td>\n",
       "      <td>3.0</td>\n",
       "      <td>3.0</td>\n",
       "      <td>3.0</td>\n",
       "    </tr>\n",
       "    <tr>\n",
       "      <th>2</th>\n",
       "      <td>4</td>\n",
       "      <td>4.0</td>\n",
       "      <td>4.0</td>\n",
       "      <td>4.0</td>\n",
       "    </tr>\n",
       "    <tr>\n",
       "      <th>3</th>\n",
       "      <td>5</td>\n",
       "      <td>5.0</td>\n",
       "      <td>5.0</td>\n",
       "      <td>5.0</td>\n",
       "    </tr>\n",
       "    <tr>\n",
       "      <th>4</th>\n",
       "      <td>6</td>\n",
       "      <td>6.0</td>\n",
       "      <td>6.0</td>\n",
       "      <td>6.0</td>\n",
       "    </tr>\n",
       "  </tbody>\n",
       "</table>\n",
       "</div>"
      ],
      "text/plain": [
       "   Urban_Industrial  Rural_Industrial  Rural_Traditional  Isolated_Traditional\n",
       "0                 1               1.0                1.0                   1.0\n",
       "1                 3               3.0                3.0                   3.0\n",
       "2                 4               4.0                4.0                   4.0\n",
       "3                 5               5.0                5.0                   5.0\n",
       "4                 6               6.0                6.0                   6.0"
      ]
     },
     "execution_count": 2,
     "metadata": {},
     "output_type": "execute_result"
    }
   ],
   "source": [
    "df=pd.read_csv(\"UpsetPlot_GapFilling_IndusGroup.csv\", encoding='latin-1')\n",
    "df.head()"
   ]
  },
  {
   "cell_type": "code",
   "execution_count": 3,
   "id": "f8c6e7d2",
   "metadata": {},
   "outputs": [],
   "source": [
    "lists_of_filename=[\"UpsetPlot_GapFilling_IndusGroup.csv\"]"
   ]
  },
  {
   "cell_type": "code",
   "execution_count": 4,
   "id": "7e21c278",
   "metadata": {},
   "outputs": [],
   "source": [
    "list_of_types=[\"Industrialization Groups\"]"
   ]
  },
  {
   "cell_type": "code",
   "execution_count": 5,
   "id": "ca373348",
   "metadata": {},
   "outputs": [],
   "source": [
    "counter=0"
   ]
  },
  {
   "cell_type": "code",
   "execution_count": 6,
   "id": "cd202c84",
   "metadata": {},
   "outputs": [],
   "source": [
    "for file in lists_of_filename:\n",
    "    df = pd.read_csv(file, encoding='latin-1')"
   ]
  },
  {
   "cell_type": "code",
   "execution_count": 7,
   "id": "d9a76cab",
   "metadata": {},
   "outputs": [],
   "source": [
    "Urban_Industrial = df['Urban_Industrial'].dropna().drop_duplicates().tolist()\n",
    "Rural_Industrial = df['Rural_Industrial'].dropna().drop_duplicates().tolist()\n",
    "Rural_Traditional = df['Rural_Traditional'].dropna().drop_duplicates().tolist()\n",
    "Isolated_Traditional = df['Isolated_Traditional'].dropna().drop_duplicates().tolist()"
   ]
  },
  {
   "cell_type": "code",
   "execution_count": 8,
   "id": "c6ce22c1",
   "metadata": {},
   "outputs": [],
   "source": [
    "indus_groups = from_contents({'Urban_Industrial': Urban_Industrial,\n",
    "                             'Rural_Industrial': Rural_Industrial,\n",
    "                             'Rural_Traditional': Rural_Traditional,\n",
    "                             'Isolated_Traditional': Isolated_Traditional})"
   ]
  },
  {
   "cell_type": "code",
   "execution_count": 9,
   "id": "fb1a680c",
   "metadata": {},
   "outputs": [
    {
     "data": {
      "image/png": "[encoded data removed]",
      "text/plain": [
       "<Figure size 512x320 with 4 Axes>"
      ]
     },
     "metadata": {
      "needs_background": "light"
     },
     "output_type": "display_data"
    }
   ],
   "source": [
    "upset_plt=UpSet(indus_groups, sort_categories_by=None, sort_by='cardinality',\n",
    "               min_subset_size=200, facecolor='black', other_dots_color=0.05,\n",
    "               shading_color=0.05, with_lines=True, element_size=32, show_counts=True,\n",
    "               show_percentages=False)\n",
    "upset_plt.style_subsets(min_subset_size=6000, label=\"Largest Overlap\", facecolor=\"red\")\n",
    "upset_plt.plot()\n",
    "plt.suptitle(list_of_types[counter])\n",
    "plt.savefig(list_of_types[counter]+\"_upset_Indus.jpeg\",\n",
    "           bbox_inches=\"tight\")\n",
    "counter += 1"
   ]
  },
  {
   "cell_type": "code",
   "execution_count": null,
   "id": "618231e7",
   "metadata": {},
   "outputs": [],
   "source": []
  }
 ],
 "metadata": {
  "kernelspec": {
   "display_name": "Python 3 (ipykernel)",
   "language": "python",
   "name": "python3"
  },
  "language_info": {
   "codemirror_mode": {
    "name": "ipython",
    "version": 3
   },
   "file_extension": ".py",
   "mimetype": "text/x-python",
   "name": "python",
   "nbconvert_exporter": "python",
   "pygments_lexer": "ipython3",
   "version": "3.9.7"
  }
 },
 "nbformat": 4,
 "nbformat_minor": 5
}
