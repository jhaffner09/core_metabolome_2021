{
 "cells": [
  {
   "cell_type": "code",
   "execution_count": 1,
   "id": "97fed962",
   "metadata": {},
   "outputs": [],
   "source": [
    "###First, need to load in necessary packages\n",
    "import pandas as pd\n",
    "from upsetplot import from_contents\n",
    "from upsetplot import UpSet\n",
    "from matplotlib import pyplot as plt\n",
    "from upsetplot import generate_counts"
   ]
  },
  {
   "cell_type": "code",
   "execution_count": 2,
   "id": "00ae3357",
   "metadata": {},
   "outputs": [
    {
     "data": {
      "text/html": [
       "<div>\n",
       "<style scoped>\n",
       "    .dataframe tbody tr th:only-of-type {\n",
       "        vertical-align: middle;\n",
       "    }\n",
       "\n",
       "    .dataframe tbody tr th {\n",
       "        vertical-align: top;\n",
       "    }\n",
       "\n",
       "    .dataframe thead th {\n",
       "        text-align: right;\n",
       "    }\n",
       "</style>\n",
       "<table border=\"1\" class=\"dataframe\">\n",
       "  <thead>\n",
       "    <tr style=\"text-align: right;\">\n",
       "      <th></th>\n",
       "      <th>Q_Exactive</th>\n",
       "      <th>Impact_MS</th>\n",
       "      <th>maXis</th>\n",
       "      <th>Our_samples</th>\n",
       "    </tr>\n",
       "  </thead>\n",
       "  <tbody>\n",
       "    <tr>\n",
       "      <th>0</th>\n",
       "      <td>3</td>\n",
       "      <td>114.0</td>\n",
       "      <td>114.0</td>\n",
       "      <td>3.0</td>\n",
       "    </tr>\n",
       "    <tr>\n",
       "      <th>1</th>\n",
       "      <td>5</td>\n",
       "      <td>224.0</td>\n",
       "      <td>116.0</td>\n",
       "      <td>5.0</td>\n",
       "    </tr>\n",
       "    <tr>\n",
       "      <th>2</th>\n",
       "      <td>8</td>\n",
       "      <td>312.0</td>\n",
       "      <td>127.0</td>\n",
       "      <td>25.0</td>\n",
       "    </tr>\n",
       "    <tr>\n",
       "      <th>3</th>\n",
       "      <td>20</td>\n",
       "      <td>387.0</td>\n",
       "      <td>196.0</td>\n",
       "      <td>193.0</td>\n",
       "    </tr>\n",
       "    <tr>\n",
       "      <th>4</th>\n",
       "      <td>25</td>\n",
       "      <td>388.0</td>\n",
       "      <td>383.0</td>\n",
       "      <td>464.0</td>\n",
       "    </tr>\n",
       "  </tbody>\n",
       "</table>\n",
       "</div>"
      ],
      "text/plain": [
       "   Q_Exactive  Impact_MS  maXis  Our_samples\n",
       "0           3      114.0  114.0          3.0\n",
       "1           5      224.0  116.0          5.0\n",
       "2           8      312.0  127.0         25.0\n",
       "3          20      387.0  196.0        193.0\n",
       "4          25      388.0  383.0        464.0"
      ]
     },
     "execution_count": 2,
     "metadata": {},
     "output_type": "execute_result"
    }
   ],
   "source": [
    "###Loading in file. This contains the groups from our ReDU co-analysis as\n",
    "###individual columns. Each column is filled in with the list of metabolite\n",
    "###features found in each group.\n",
    "df = pd.read_csv(\"Upset_file_for_ReDU_Coanalysis_of_MS_types.csv\")\n",
    "df.head()"
   ]
  },
  {
   "cell_type": "code",
   "execution_count": 3,
   "id": "6a4b6353",
   "metadata": {},
   "outputs": [],
   "source": [
    "###Pulling in the file as a list\n",
    "lists_of_filename=[\"Upset_file_for_ReDU_Coanalysis_of_MS_types.csv\"]"
   ]
  },
  {
   "cell_type": "code",
   "execution_count": 4,
   "id": "b9b49486",
   "metadata": {},
   "outputs": [],
   "source": [
    "###Providing list of titles for graphs and file names\n",
    "list_of_types=[\"ReDU Feces Co-Analysis with MS Instruments\"]"
   ]
  },
  {
   "cell_type": "code",
   "execution_count": 5,
   "id": "0ae98b4b",
   "metadata": {},
   "outputs": [],
   "source": [
    "###Creating a counter for a loop\n",
    "counter=0"
   ]
  },
  {
   "cell_type": "code",
   "execution_count": 6,
   "id": "37a82ff8",
   "metadata": {},
   "outputs": [],
   "source": [
    "###Running this loop for all files (if multiple are provided)\n",
    "for file in lists_of_filename:\n",
    "    df=pd.read_csv(file)"
   ]
  },
  {
   "cell_type": "code",
   "execution_count": 7,
   "id": "a4dcd9bb",
   "metadata": {},
   "outputs": [],
   "source": [
    "###Creating input lists for analysis. This will also drop NAs and\n",
    "###duplicates that might appear when uploading. Each column will also\n",
    "###be made into a list.\n",
    "Q_Exactive = df['Q_Exactive'].dropna().drop_duplicates().tolist()\n",
    "Impact_MS = df['Impact_MS'].dropna().drop_duplicates().tolist()\n",
    "maXis = df['maXis'].dropna().drop_duplicates().tolist()\n",
    "Our_samples = df['Our_samples'].dropna().drop_duplicates().tolist()"
   ]
  },
  {
   "cell_type": "code",
   "execution_count": 8,
   "id": "42658b4f",
   "metadata": {},
   "outputs": [],
   "source": [
    "###Creating the combined dataset as a reference for names, tied to the\n",
    "###lists above.\n",
    "MS = from_contents({'Q_Exactive': Q_Exactive,\n",
    "                   'Impact_MS': Impact_MS,\n",
    "                   'maXis': maXis,\n",
    "                   'Our_samples': Our_samples})"
   ]
  },
  {
   "cell_type": "code",
   "execution_count": 9,
   "id": "5bc9e079",
   "metadata": {},
   "outputs": [],
   "source": [
    "###Parameters for UpSet plot. Can add other parameters like coloring specific overlaps if desired\n",
    "upset_plt=UpSet(MS, sort_categories_by=None, sort_by='cardinality',\n",
    "               min_subset_size=40, facecolor='black', other_dots_color=0.05,\n",
    "               shading_color=0.05, with_lines=True, element_size=32,\n",
    "               show_counts=True, show_percentages=False)"
   ]
  },
  {
   "cell_type": "code",
   "execution_count": 10,
   "id": "ddc5c3a8",
   "metadata": {},
   "outputs": [
    {
     "data": {
      "image/png": "[encoded data removed]",
      "text/plain": [
       "<Figure size 672x320 with 4 Axes>"
      ]
     },
     "metadata": {
      "needs_background": "light"
     },
     "output_type": "display_data"
    }
   ],
   "source": [
    "###Creating and saving the plot\n",
    "upset_plt.plot()\n",
    "plt.savefig(list_of_types[counter]+\"upset_bw.jpeg\", bbox_inches=\"tight\")"
   ]
  },
  {
   "cell_type": "code",
   "execution_count": null,
   "id": "6fe30048",
   "metadata": {},
   "outputs": [],
   "source": []
  }
 ],
 "metadata": {
  "kernelspec": {
   "display_name": "Python 3 (ipykernel)",
   "language": "python",
   "name": "python3"
  },
  "language_info": {
   "codemirror_mode": {
    "name": "ipython",
    "version": 3
   },
   "file_extension": ".py",
   "mimetype": "text/x-python",
   "name": "python",
   "nbconvert_exporter": "python",
   "pygments_lexer": "ipython3",
   "version": "3.9.7"
  }
 },
 "nbformat": 4,
 "nbformat_minor": 5
}
