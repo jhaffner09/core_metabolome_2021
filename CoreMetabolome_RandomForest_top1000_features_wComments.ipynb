{
 "cells": [
  {
   "cell_type": "code",
   "execution_count": 2,
   "metadata": {},
   "outputs": [],
   "source": [
    "setwd(\"E:McCall_Lab/11.8.2019_UrbanizationRun2/randomForest\")"
   ]
  },
  {
   "cell_type": "code",
   "execution_count": 3,
   "metadata": {},
   "outputs": [],
   "source": [
    "###Reading in file we'll be working with. See other JupyterNotebook links for code used to generate this file.\n",
    "top1000 <- read.csv(\"FBMN2_top1000feats_transposed_3xCorrectedFiltered_TICnorm.csv\")"
   ]
  },
  {
   "cell_type": "code",
   "execution_count": 3,
   "metadata": {},
   "outputs": [
    {
     "name": "stderr",
     "output_type": "stream",
     "text": [
      "Installing package into 'C:/Users/jhaff/Documents/R/win-library/3.6'\n",
      "(as 'lib' is unspecified)\n",
      "\n"
     ]
    },
    {
     "name": "stdout",
     "output_type": "stream",
     "text": [
      "package 'caret' successfully unpacked and MD5 sums checked\n"
     ]
    },
    {
     "name": "stderr",
     "output_type": "stream",
     "text": [
      "Warning message:\n",
      "\"cannot remove prior installation of package 'caret'\"\n",
      "Warning message in file.copy(savedcopy, lib, recursive = TRUE):\n",
      "\"problem copying C:\\Users\\jhaff\\Documents\\R\\win-library\\3.6\\00LOCK\\caret\\libs\\x64\\caret.dll to C:\\Users\\jhaff\\Documents\\R\\win-library\\3.6\\caret\\libs\\x64\\caret.dll: Permission denied\"\n",
      "Warning message:\n",
      "\"restored 'caret'\"\n"
     ]
    },
    {
     "name": "stdout",
     "output_type": "stream",
     "text": [
      "\n",
      "The downloaded binary packages are in\n",
      "\tC:\\Users\\jhaff\\AppData\\Local\\Temp\\Rtmpgb4HUF\\downloaded_packages\n"
     ]
    },
    {
     "name": "stderr",
     "output_type": "stream",
     "text": [
      "Installing package into 'C:/Users/jhaff/Documents/R/win-library/3.6'\n",
      "(as 'lib' is unspecified)\n",
      "\n"
     ]
    },
    {
     "name": "stdout",
     "output_type": "stream",
     "text": [
      "package 'ggplot2' successfully unpacked and MD5 sums checked\n",
      "\n",
      "The downloaded binary packages are in\n",
      "\tC:\\Users\\jhaff\\AppData\\Local\\Temp\\Rtmpgb4HUF\\downloaded_packages\n"
     ]
    },
    {
     "name": "stderr",
     "output_type": "stream",
     "text": [
      "Installing package into 'C:/Users/jhaff/Documents/R/win-library/3.6'\n",
      "(as 'lib' is unspecified)\n",
      "\n"
     ]
    },
    {
     "name": "stdout",
     "output_type": "stream",
     "text": [
      "package 'klaR' successfully unpacked and MD5 sums checked\n",
      "\n",
      "The downloaded binary packages are in\n",
      "\tC:\\Users\\jhaff\\AppData\\Local\\Temp\\Rtmpgb4HUF\\downloaded_packages\n"
     ]
    }
   ],
   "source": [
    "install.packages('caret', dependencies=TRUE, repos = \"http://cran.us.r-project.org\")\n",
    "install.packages('ggplot2', dependencies=TRUE, repos = \"http://cran.us.r-project.org\")\n",
    "install.packages('klaR', dependencies=TRUE, repos = \"http://cran.us.r-project.org\")"
   ]
  },
  {
   "cell_type": "code",
   "execution_count": 7,
   "metadata": {},
   "outputs": [],
   "source": [
    "library(\"randomForest\")\n",
    "library(\"caret\")\n",
    "library(\"klaR\")\n",
    "library(\"ggplot2\")"
   ]
  },
  {
   "cell_type": "code",
   "execution_count": 8,
   "metadata": {},
   "outputs": [
    {
     "data": {
      "text/html": [
       "<table>\n",
       "<caption>A data.frame: 105 × 1005</caption>\n",
       "<thead>\n",
       "\t<tr><th scope=col>SampleID</th><th scope=col>ATTRIBUTE_SampleType</th><th scope=col>ATTRIBUTE_Population</th><th scope=col>ATTRIBUTE_UrbScore</th><th scope=col>ATTRIBUTE_NumUrbScore</th><th scope=col>X132.102104639083_0.372004304029303</th><th scope=col>X132.102110295016_0.384313827838827</th><th scope=col>X166.086271660011_0.491805432780847</th><th scope=col>X166.086283448646_0.502871086556169</th><th scope=col>X166.086245860857_0.48930815018315</th><th scope=col>...</th><th scope=col>X279.170620199835_2.63969270833333</th><th scope=col>X359.293297851946_6.76529208103131</th><th scope=col>X166.08590120469_9.0352514732965</th><th scope=col>X158.11764668531_11.4750444751381</th><th scope=col>X339.191786897288_3.53416406551059</th><th scope=col>X204.086721316875_1.51949650092081</th><th scope=col>X302.207888536171_2.18683529962546</th><th scope=col>X146.060806996069_0.848826979742172</th><th scope=col>X358.980399177606_10.3429935990338</th><th scope=col>X107.049551166471_0.497396630236794</th></tr>\n",
       "\t<tr><th scope=col>&lt;fct&gt;</th><th scope=col>&lt;fct&gt;</th><th scope=col>&lt;fct&gt;</th><th scope=col>&lt;fct&gt;</th><th scope=col>&lt;int&gt;</th><th scope=col>&lt;dbl&gt;</th><th scope=col>&lt;dbl&gt;</th><th scope=col>&lt;dbl&gt;</th><th scope=col>&lt;dbl&gt;</th><th scope=col>&lt;dbl&gt;</th><th scope=col>...</th><th scope=col>&lt;dbl&gt;</th><th scope=col>&lt;dbl&gt;</th><th scope=col>&lt;dbl&gt;</th><th scope=col>&lt;dbl&gt;</th><th scope=col>&lt;dbl&gt;</th><th scope=col>&lt;dbl&gt;</th><th scope=col>&lt;dbl&gt;</th><th scope=col>&lt;dbl&gt;</th><th scope=col>&lt;dbl&gt;</th><th scope=col>&lt;dbl&gt;</th></tr>\n",
       "</thead>\n",
       "<tbody>\n",
       "\t<tr><td>BFTM01_01_BF3.mzXML</td><td>SAMPLE</td><td>Burkina Faso 3</td><td>Mostly Rural (3)   </td><td>3</td><td>0.04263579</td><td>0.062863007</td><td>0.015800</td><td>1.57e-02</td><td>0.015700</td><td>...</td><td>7.08e-05</td><td>2.16e-05</td><td>1.28e-04</td><td>2.22e-04</td><td>1.30e-04</td><td>7.65e-05</td><td>4.46e-05</td><td>1.56e-04</td><td>4.88e-04</td><td>1.12e-04</td></tr>\n",
       "\t<tr><td>BFTM09_02_BF3.mzXML</td><td>SAMPLE</td><td>Burkina Faso 3</td><td>Mostly Rural (3)   </td><td>3</td><td>0.06025735</td><td>0.038198858</td><td>0.010400</td><td>1.04e-02</td><td>0.010400</td><td>...</td><td>5.42e-05</td><td>2.98e-05</td><td>1.19e-04</td><td>2.42e-04</td><td>4.90e-04</td><td>1.59e-05</td><td>6.87e-06</td><td>8.84e-05</td><td>2.13e-05</td><td>1.21e-04</td></tr>\n",
       "\t<tr><td>BFTM10_01_BF3.mzXML</td><td>SAMPLE</td><td>Burkina Faso 3</td><td>Mostly Rural (3)   </td><td>3</td><td>0.03933848</td><td>0.044776452</td><td>0.020000</td><td>2.00e-02</td><td>0.020000</td><td>...</td><td>5.33e-05</td><td>2.43e-06</td><td>8.53e-05</td><td>1.39e-04</td><td>2.30e-04</td><td>4.95e-05</td><td>3.33e-05</td><td>3.20e-04</td><td>8.90e-06</td><td>1.30e-04</td></tr>\n",
       "\t<tr><td>BFTM11_04_BF3.mzXML</td><td>SAMPLE</td><td>Burkina Faso 3</td><td>Mostly Rural (3)   </td><td>3</td><td>0.05825590</td><td>0.058255902</td><td>0.027000</td><td>2.70e-02</td><td>0.027000</td><td>...</td><td>2.86e-05</td><td>2.06e-05</td><td>1.50e-04</td><td>1.42e-04</td><td>3.00e-04</td><td>5.65e-05</td><td>2.23e-05</td><td>2.38e-04</td><td>2.93e-04</td><td>1.77e-04</td></tr>\n",
       "\t<tr><td>BFTM13_01_BF3.mzXML</td><td>SAMPLE</td><td>Burkina Faso 3</td><td>Mostly Rural (3)   </td><td>3</td><td>0.03172320</td><td>0.055187110</td><td>0.021200</td><td>2.12e-02</td><td>0.021200</td><td>...</td><td>2.44e-04</td><td>1.10e-05</td><td>1.68e-04</td><td>2.80e-04</td><td>9.95e-05</td><td>2.38e-04</td><td>5.42e-05</td><td>3.43e-06</td><td>1.33e-05</td><td>1.55e-04</td></tr>\n",
       "\t<tr><td>BFTM17_02_BF3.mzXML</td><td>SAMPLE</td><td>Burkina Faso 3</td><td>Mostly Rural (3)   </td><td>3</td><td>0.01013732</td><td>0.031430113</td><td>0.008880</td><td>8.88e-03</td><td>0.008880</td><td>...</td><td>8.96e-05</td><td>1.50e-05</td><td>9.23e-05</td><td>8.19e-05</td><td>6.13e-05</td><td>1.08e-04</td><td>9.52e-05</td><td>6.82e-05</td><td>5.44e-04</td><td>6.86e-05</td></tr>\n",
       "\t<tr><td>BFTM20_03_BF3.mzXML</td><td>SAMPLE</td><td>Burkina Faso 3</td><td>Mostly Rural (3)   </td><td>3</td><td>0.03754274</td><td>0.029270045</td><td>0.001050</td><td>9.50e-04</td><td>0.000950</td><td>...</td><td>3.59e-04</td><td>1.43e-05</td><td>3.52e-04</td><td>3.01e-04</td><td>0.00e+00</td><td>5.05e-05</td><td>1.04e-05</td><td>8.01e-05</td><td>8.64e-04</td><td>2.19e-04</td></tr>\n",
       "\t<tr><td>BFTM22_03_BF3.mzXML</td><td>SAMPLE</td><td>Burkina Faso 3</td><td>Mostly Rural (3)   </td><td>3</td><td>0.01772879</td><td>0.038147761</td><td>0.011500</td><td>1.15e-02</td><td>0.011500</td><td>...</td><td>3.59e-05</td><td>3.52e-06</td><td>1.37e-04</td><td>3.35e-05</td><td>1.81e-04</td><td>9.61e-05</td><td>5.05e-05</td><td>6.50e-05</td><td>2.45e-05</td><td>1.14e-04</td></tr>\n",
       "\t<tr><td>BFTM23_02_BF3.mzXML</td><td>SAMPLE</td><td>Burkina Faso 3</td><td>Mostly Rural (3)   </td><td>3</td><td>0.02581445</td><td>0.043861714</td><td>0.015200</td><td>1.52e-02</td><td>0.015200</td><td>...</td><td>3.82e-05</td><td>4.20e-05</td><td>1.91e-04</td><td>1.17e-04</td><td>1.48e-03</td><td>1.40e-04</td><td>9.71e-06</td><td>7.04e-05</td><td>3.97e-05</td><td>1.01e-04</td></tr>\n",
       "\t<tr><td>BFTM25_03_BF3.mzXML</td><td>SAMPLE</td><td>Burkina Faso 3</td><td>Mostly Rural (3)   </td><td>3</td><td>0.03637724</td><td>0.051967484</td><td>0.026600</td><td>2.66e-02</td><td>0.026600</td><td>...</td><td>1.59e-05</td><td>3.61e-04</td><td>1.38e-04</td><td>4.31e-05</td><td>1.48e-04</td><td>7.48e-05</td><td>2.27e-05</td><td>2.38e-04</td><td>2.88e-05</td><td>1.62e-04</td></tr>\n",
       "\t<tr><td>BFTM29_01_BF3.mzXML</td><td>SAMPLE</td><td>Burkina Faso 3</td><td>Mostly Rural (3)   </td><td>3</td><td>0.02402946</td><td>0.037921497</td><td>0.016200</td><td>1.62e-02</td><td>0.016200</td><td>...</td><td>5.63e-05</td><td>6.55e-06</td><td>1.42e-04</td><td>1.78e-05</td><td>2.16e-04</td><td>8.11e-05</td><td>9.18e-05</td><td>1.12e-04</td><td>1.24e-05</td><td>1.61e-04</td></tr>\n",
       "\t<tr><td>GU1.mzXML          </td><td>SAMPLE</td><td>Guayabo       </td><td>Rural and Urban (2)</td><td>2</td><td>0.04469370</td><td>0.030783268</td><td>0.021800</td><td>2.18e-02</td><td>0.021800</td><td>...</td><td>8.62e-05</td><td>4.52e-04</td><td>1.04e-04</td><td>2.92e-05</td><td>9.80e-05</td><td>5.22e-05</td><td>2.16e-04</td><td>2.25e-04</td><td>2.32e-05</td><td>1.33e-04</td></tr>\n",
       "\t<tr><td>GU10.mzXML         </td><td>SAMPLE</td><td>Guayabo       </td><td>Rural and Urban (2)</td><td>2</td><td>0.02865965</td><td>0.042381540</td><td>0.021500</td><td>2.15e-02</td><td>0.021500</td><td>...</td><td>2.95e-05</td><td>3.68e-05</td><td>1.01e-04</td><td>1.73e-04</td><td>1.07e-04</td><td>7.92e-05</td><td>8.34e-05</td><td>1.55e-04</td><td>4.22e-04</td><td>1.31e-04</td></tr>\n",
       "\t<tr><td>GU11.mzXML         </td><td>SAMPLE</td><td>Guayabo       </td><td>Rural and Urban (2)</td><td>2</td><td>0.03795983</td><td>0.058726086</td><td>0.024600</td><td>4.62e-06</td><td>0.024600</td><td>...</td><td>8.66e-05</td><td>1.13e-03</td><td>1.93e-04</td><td>2.46e-04</td><td>2.65e-06</td><td>2.10e-04</td><td>8.11e-05</td><td>1.47e-04</td><td>3.10e-05</td><td>1.77e-04</td></tr>\n",
       "\t<tr><td>GU12.mzXML         </td><td>SAMPLE</td><td>Guayabo       </td><td>Rural and Urban (2)</td><td>2</td><td>0.02744713</td><td>0.041760057</td><td>0.015900</td><td>1.59e-02</td><td>0.015900</td><td>...</td><td>3.41e-06</td><td>4.78e-04</td><td>1.28e-04</td><td>1.94e-04</td><td>1.68e-04</td><td>1.49e-06</td><td>3.23e-05</td><td>1.02e-04</td><td>1.17e-05</td><td>1.05e-04</td></tr>\n",
       "\t<tr><td>GU13.mzXML         </td><td>SAMPLE</td><td>Guayabo       </td><td>Rural and Urban (2)</td><td>2</td><td>0.03212753</td><td>0.046969053</td><td>0.021500</td><td>2.15e-02</td><td>0.021500</td><td>...</td><td>1.42e-05</td><td>3.67e-05</td><td>1.31e-04</td><td>1.06e-04</td><td>1.26e-04</td><td>1.80e-04</td><td>1.11e-04</td><td>1.76e-04</td><td>4.24e-05</td><td>1.40e-04</td></tr>\n",
       "\t<tr><td>GU16.mzXML         </td><td>SAMPLE</td><td>Guayabo       </td><td>Rural and Urban (2)</td><td>2</td><td>0.03869273</td><td>0.053924713</td><td>0.024500</td><td>2.45e-02</td><td>0.024500</td><td>...</td><td>1.44e-04</td><td>2.84e-05</td><td>1.52e-04</td><td>2.05e-04</td><td>1.91e-05</td><td>9.96e-05</td><td>5.20e-06</td><td>2.54e-04</td><td>4.15e-04</td><td>1.46e-04</td></tr>\n",
       "\t<tr><td>GU17.mzXML         </td><td>SAMPLE</td><td>Guayabo       </td><td>Rural and Urban (2)</td><td>2</td><td>0.04401630</td><td>0.044016300</td><td>0.016400</td><td>1.64e-02</td><td>0.016400</td><td>...</td><td>2.62e-05</td><td>2.56e-04</td><td>9.45e-05</td><td>1.23e-04</td><td>1.41e-04</td><td>6.41e-05</td><td>6.79e-05</td><td>1.14e-04</td><td>1.24e-05</td><td>1.05e-04</td></tr>\n",
       "\t<tr><td>GU19.mzXML         </td><td>SAMPLE</td><td>Guayabo       </td><td>Rural and Urban (2)</td><td>2</td><td>0.02118871</td><td>0.031137069</td><td>0.014300</td><td>1.43e-02</td><td>0.014300</td><td>...</td><td>1.96e-05</td><td>3.89e-04</td><td>8.68e-05</td><td>8.48e-05</td><td>5.52e-05</td><td>1.49e-05</td><td>2.80e-05</td><td>1.25e-06</td><td>2.36e-05</td><td>8.32e-05</td></tr>\n",
       "\t<tr><td>GU2.mzXML          </td><td>SAMPLE</td><td>Guayabo       </td><td>Rural and Urban (2)</td><td>2</td><td>0.04252940</td><td>0.023936142</td><td>0.014100</td><td>1.40e-02</td><td>0.014000</td><td>...</td><td>2.20e-05</td><td>3.01e-05</td><td>1.40e-04</td><td>4.92e-05</td><td>6.82e-05</td><td>1.13e-04</td><td>1.25e-06</td><td>1.02e-04</td><td>2.54e-05</td><td>1.03e-04</td></tr>\n",
       "\t<tr><td>GU20.mzXML         </td><td>SAMPLE</td><td>Guayabo       </td><td>Rural and Urban (2)</td><td>2</td><td>0.03400965</td><td>0.046933317</td><td>0.024100</td><td>2.41e-02</td><td>0.024100</td><td>...</td><td>8.93e-05</td><td>5.46e-05</td><td>1.29e-04</td><td>8.49e-05</td><td>9.57e-05</td><td>1.23e-04</td><td>4.83e-05</td><td>1.40e-04</td><td>1.42e-05</td><td>1.47e-04</td></tr>\n",
       "\t<tr><td>GU4.mzXML          </td><td>SAMPLE</td><td>Guayabo       </td><td>Rural and Urban (2)</td><td>2</td><td>0.05040555</td><td>0.015378510</td><td>0.000035</td><td>5.65e-06</td><td>0.000011</td><td>...</td><td>2.73e-05</td><td>3.69e-05</td><td>2.17e-04</td><td>2.31e-04</td><td>4.70e-07</td><td>5.49e-04</td><td>3.82e-05</td><td>7.93e-05</td><td>3.50e-05</td><td>6.87e-05</td></tr>\n",
       "\t<tr><td>GU6.mzXML          </td><td>SAMPLE</td><td>Guayabo       </td><td>Rural and Urban (2)</td><td>2</td><td>0.02438256</td><td>0.051044799</td><td>0.016800</td><td>1.67e-02</td><td>0.016700</td><td>...</td><td>1.03e-05</td><td>1.16e-04</td><td>2.41e-04</td><td>3.77e-05</td><td>2.20e-05</td><td>3.74e-04</td><td>9.28e-06</td><td>9.39e-05</td><td>3.39e-05</td><td>9.59e-05</td></tr>\n",
       "\t<tr><td>GU7.mzXML          </td><td>SAMPLE</td><td>Guayabo       </td><td>Rural and Urban (2)</td><td>2</td><td>0.04952482</td><td>0.031135089</td><td>0.021800</td><td>2.18e-02</td><td>0.021800</td><td>...</td><td>1.42e-04</td><td>4.83e-05</td><td>1.54e-04</td><td>1.13e-04</td><td>1.38e-04</td><td>9.05e-05</td><td>7.39e-05</td><td>1.78e-04</td><td>1.15e-05</td><td>1.44e-04</td></tr>\n",
       "\t<tr><td>HCO01.mzXML        </td><td>SAMPLE</td><td>Tunapuco      </td><td>Mostly Rural (3)   </td><td>3</td><td>0.02865138</td><td>0.041697997</td><td>0.023700</td><td>2.37e-02</td><td>0.023700</td><td>...</td><td>4.09e-05</td><td>5.73e-05</td><td>7.78e-05</td><td>8.21e-05</td><td>6.54e-05</td><td>1.11e-05</td><td>2.36e-06</td><td>2.19e-04</td><td>2.75e-04</td><td>1.78e-04</td></tr>\n",
       "\t<tr><td>HCO03.mzXML        </td><td>SAMPLE</td><td>Tunapuco      </td><td>Mostly Rural (3)   </td><td>3</td><td>0.02267509</td><td>0.034944491</td><td>0.015000</td><td>1.50e-02</td><td>0.015000</td><td>...</td><td>2.42e-04</td><td>4.10e-04</td><td>1.12e-04</td><td>1.08e-04</td><td>1.33e-04</td><td>2.39e-04</td><td>1.05e-04</td><td>1.04e-04</td><td>3.77e-04</td><td>1.14e-04</td></tr>\n",
       "\t<tr><td>HCO04.mzXML        </td><td>SAMPLE</td><td>Tunapuco      </td><td>Mostly Rural (3)   </td><td>3</td><td>0.01211474</td><td>0.024105857</td><td>0.011400</td><td>1.14e-02</td><td>0.011400</td><td>...</td><td>2.29e-04</td><td>1.54e-05</td><td>1.19e-04</td><td>1.68e-04</td><td>3.35e-05</td><td>1.15e-04</td><td>4.40e-04</td><td>8.13e-05</td><td>2.18e-05</td><td>7.17e-05</td></tr>\n",
       "\t<tr><td>HCO07.mzXML        </td><td>SAMPLE</td><td>Tunapuco      </td><td>Mostly Rural (3)   </td><td>3</td><td>0.02363884</td><td>0.040739270</td><td>0.017300</td><td>1.73e-02</td><td>0.017300</td><td>...</td><td>8.78e-05</td><td>1.96e-05</td><td>1.29e-04</td><td>9.69e-05</td><td>7.88e-05</td><td>9.71e-05</td><td>2.68e-04</td><td>1.13e-04</td><td>3.96e-04</td><td>1.08e-04</td></tr>\n",
       "\t<tr><td>HCO09.mzXML        </td><td>SAMPLE</td><td>Tunapuco      </td><td>Mostly Rural (3)   </td><td>3</td><td>0.03285961</td><td>0.008850895</td><td>0.009860</td><td>9.82e-03</td><td>0.009820</td><td>...</td><td>5.18e-04</td><td>1.59e-04</td><td>1.80e-04</td><td>1.22e-04</td><td>2.88e-05</td><td>2.17e-04</td><td>2.63e-04</td><td>5.07e-05</td><td>2.65e-05</td><td>4.88e-05</td></tr>\n",
       "\t<tr><td>HCO10.mzXML        </td><td>SAMPLE</td><td>Tunapuco      </td><td>Mostly Rural (3)   </td><td>3</td><td>0.01565327</td><td>0.030178383</td><td>0.015200</td><td>1.52e-02</td><td>0.015200</td><td>...</td><td>2.68e-04</td><td>2.79e-05</td><td>1.01e-04</td><td>2.45e-05</td><td>4.36e-07</td><td>1.58e-04</td><td>2.30e-04</td><td>2.25e-06</td><td>1.07e-05</td><td>1.01e-04</td></tr>\n",
       "\t<tr><td>...</td><td>...</td><td>...</td><td>...</td><td>...</td><td>...</td><td>...</td><td>...</td><td>...</td><td>...</td><td></td><td>...</td><td>...</td><td>...</td><td>...</td><td>...</td><td>...</td><td>...</td><td>...</td><td>...</td><td>...</td></tr>\n",
       "\t<tr><td>SM05.mzXML</td><td>SAMPLE</td><td>Matses       </td><td>Isolated Rural (4) </td><td>4</td><td>0.02735428</td><td>0.04005448</td><td>0.019900</td><td>1.99e-02</td><td>1.99e-02</td><td>...</td><td>5.37e-05</td><td>8.74e-08</td><td>8.78e-05</td><td>4.28e-05</td><td>0.00e+00</td><td>1.07e-04</td><td>6.97e-05</td><td>2.56e-04</td><td>1.05e-05</td><td>1.29e-04</td></tr>\n",
       "\t<tr><td>SM10.mzXML</td><td>SAMPLE</td><td>Matses       </td><td>Isolated Rural (4) </td><td>4</td><td>0.02964765</td><td>0.04321875</td><td>0.023400</td><td>2.34e-02</td><td>2.34e-02</td><td>...</td><td>3.83e-07</td><td>6.81e-05</td><td>1.06e-04</td><td>7.67e-05</td><td>6.47e-05</td><td>1.89e-05</td><td>1.87e-04</td><td>2.49e-04</td><td>6.82e-06</td><td>1.35e-04</td></tr>\n",
       "\t<tr><td>SM11.mzXML</td><td>SAMPLE</td><td>Matses       </td><td>Isolated Rural (4) </td><td>4</td><td>0.02331476</td><td>0.03624055</td><td>0.017600</td><td>1.76e-02</td><td>1.76e-02</td><td>...</td><td>1.85e-04</td><td>3.52e-05</td><td>8.44e-05</td><td>1.29e-04</td><td>6.51e-05</td><td>1.63e-04</td><td>1.79e-04</td><td>1.51e-04</td><td>1.50e-05</td><td>1.01e-04</td></tr>\n",
       "\t<tr><td>SM23.mzXML</td><td>SAMPLE</td><td>Matses       </td><td>Isolated Rural (4) </td><td>4</td><td>0.01256672</td><td>0.02453660</td><td>0.011600</td><td>1.16e-02</td><td>1.16e-02</td><td>...</td><td>2.75e-04</td><td>3.65e-05</td><td>6.38e-05</td><td>2.06e-05</td><td>3.96e-05</td><td>1.76e-04</td><td>2.87e-04</td><td>5.60e-05</td><td>1.36e-05</td><td>5.85e-05</td></tr>\n",
       "\t<tr><td>SM25.mzXML</td><td>SAMPLE</td><td>Matses       </td><td>Isolated Rural (4) </td><td>4</td><td>0.01912891</td><td>0.03304084</td><td>0.016600</td><td>1.65e-02</td><td>1.65e-02</td><td>...</td><td>7.51e-05</td><td>2.65e-05</td><td>1.10e-04</td><td>6.61e-05</td><td>3.10e-07</td><td>2.40e-05</td><td>1.53e-04</td><td>1.29e-04</td><td>1.01e-05</td><td>9.46e-05</td></tr>\n",
       "\t<tr><td>SM28.mzXML</td><td>SAMPLE</td><td>Matses       </td><td>Isolated Rural (4) </td><td>4</td><td>0.04586029</td><td>0.03057353</td><td>0.017700</td><td>1.77e-02</td><td>1.77e-02</td><td>...</td><td>3.92e-05</td><td>3.01e-04</td><td>8.79e-05</td><td>1.80e-04</td><td>6.95e-05</td><td>9.79e-05</td><td>1.03e-05</td><td>1.36e-06</td><td>1.41e-05</td><td>1.24e-04</td></tr>\n",
       "\t<tr><td>SM29.mzXML</td><td>SAMPLE</td><td>Matses       </td><td>Isolated Rural (4) </td><td>4</td><td>0.04576896</td><td>0.03219044</td><td>0.018300</td><td>1.83e-02</td><td>1.83e-02</td><td>...</td><td>2.14e-04</td><td>3.29e-05</td><td>5.91e-05</td><td>1.56e-04</td><td>2.19e-04</td><td>6.70e-05</td><td>7.09e-05</td><td>1.29e-04</td><td>1.49e-05</td><td>1.09e-04</td></tr>\n",
       "\t<tr><td>SM30.mzXML</td><td>SAMPLE</td><td>Matses       </td><td>Isolated Rural (4) </td><td>4</td><td>0.02833626</td><td>0.01030297</td><td>0.009300</td><td>9.30e-03</td><td>9.30e-03</td><td>...</td><td>1.29e-04</td><td>8.35e-05</td><td>9.63e-05</td><td>4.26e-05</td><td>2.27e-05</td><td>3.44e-04</td><td>1.79e-04</td><td>1.01e-04</td><td>1.80e-05</td><td>5.69e-05</td></tr>\n",
       "\t<tr><td>SM33.mzXML</td><td>SAMPLE</td><td>Matses       </td><td>Isolated Rural (4) </td><td>4</td><td>0.04589018</td><td>0.02827577</td><td>0.021500</td><td>2.15e-02</td><td>2.15e-02</td><td>...</td><td>1.35e-04</td><td>2.78e-04</td><td>1.28e-04</td><td>1.98e-05</td><td>4.02e-05</td><td>1.24e-04</td><td>7.18e-05</td><td>1.44e-04</td><td>1.06e-05</td><td>1.32e-04</td></tr>\n",
       "\t<tr><td>SM34.mzXML</td><td>SAMPLE</td><td>Matses       </td><td>Isolated Rural (4) </td><td>4</td><td>0.04255803</td><td>0.02136312</td><td>0.015900</td><td>1.59e-02</td><td>1.59e-02</td><td>...</td><td>5.03e-05</td><td>1.98e-05</td><td>1.18e-04</td><td>1.21e-04</td><td>3.13e-05</td><td>4.56e-05</td><td>1.73e-04</td><td>5.15e-05</td><td>2.14e-05</td><td>1.02e-04</td></tr>\n",
       "\t<tr><td>SM37.mzXML</td><td>SAMPLE</td><td>Matses       </td><td>Isolated Rural (4) </td><td>4</td><td>0.01924973</td><td>0.03672938</td><td>0.014900</td><td>1.49e-02</td><td>1.49e-02</td><td>...</td><td>6.93e-05</td><td>4.89e-05</td><td>1.11e-04</td><td>2.43e-04</td><td>6.44e-05</td><td>1.00e-04</td><td>1.44e-04</td><td>8.34e-05</td><td>5.40e-04</td><td>9.71e-05</td></tr>\n",
       "\t<tr><td>SM39.mzXML</td><td>SAMPLE</td><td>Matses       </td><td>Isolated Rural (4) </td><td>4</td><td>0.02981583</td><td>0.01729318</td><td>0.015400</td><td>6.65e-06</td><td>1.80e-05</td><td>...</td><td>8.09e-04</td><td>1.73e-04</td><td>7.08e-05</td><td>7.76e-05</td><td>1.41e-04</td><td>6.53e-06</td><td>3.49e-04</td><td>2.00e-04</td><td>1.16e-05</td><td>9.36e-05</td></tr>\n",
       "\t<tr><td>SM41.mzXML</td><td>SAMPLE</td><td>Matses       </td><td>Isolated Rural (4) </td><td>4</td><td>0.04751516</td><td>0.02717656</td><td>0.018800</td><td>1.88e-02</td><td>1.88e-02</td><td>...</td><td>5.24e-05</td><td>2.47e-05</td><td>1.63e-04</td><td>2.28e-04</td><td>4.05e-05</td><td>1.25e-04</td><td>1.02e-04</td><td>1.20e-04</td><td>2.86e-05</td><td>1.35e-04</td></tr>\n",
       "\t<tr><td>TM1.mzXML </td><td>SAMPLE</td><td>Tambo de Mora</td><td>Rural and Urban (2)</td><td>2</td><td>0.03800734</td><td>0.05277942</td><td>0.029900</td><td>2.99e-02</td><td>2.99e-02</td><td>...</td><td>5.74e-05</td><td>1.86e-05</td><td>2.51e-04</td><td>1.75e-04</td><td>8.48e-05</td><td>2.02e-04</td><td>2.77e-04</td><td>5.65e-06</td><td>2.69e-05</td><td>1.75e-04</td></tr>\n",
       "\t<tr><td>TM10.mzXML</td><td>SAMPLE</td><td>Tambo de Mora</td><td>Rural and Urban (2)</td><td>2</td><td>0.04397351</td><td>0.02852712</td><td>0.020600</td><td>2.06e-02</td><td>2.06e-02</td><td>...</td><td>1.26e-04</td><td>3.09e-05</td><td>1.13e-04</td><td>1.82e-04</td><td>1.10e-04</td><td>1.31e-04</td><td>5.40e-05</td><td>9.80e-06</td><td>3.37e-04</td><td>1.70e-04</td></tr>\n",
       "\t<tr><td>TM11.mzXML</td><td>SAMPLE</td><td>Tambo de Mora</td><td>Rural and Urban (2)</td><td>2</td><td>0.03766601</td><td>0.02225719</td><td>0.014600</td><td>1.46e-02</td><td>1.46e-02</td><td>...</td><td>4.76e-05</td><td>2.29e-04</td><td>7.56e-05</td><td>1.99e-04</td><td>2.10e-04</td><td>9.12e-05</td><td>1.02e-04</td><td>1.31e-04</td><td>3.84e-04</td><td>9.23e-05</td></tr>\n",
       "\t<tr><td>TM14.mzXML</td><td>SAMPLE</td><td>Tambo de Mora</td><td>Rural and Urban (2)</td><td>2</td><td>0.02743294</td><td>0.03657725</td><td>0.018900</td><td>1.43e-05</td><td>1.89e-02</td><td>...</td><td>2.94e-05</td><td>9.50e-05</td><td>7.40e-07</td><td>6.47e-05</td><td>2.69e-04</td><td>1.27e-04</td><td>2.39e-05</td><td>2.08e-06</td><td>9.08e-06</td><td>1.34e-04</td></tr>\n",
       "\t<tr><td>TM16.mzXML</td><td>SAMPLE</td><td>Tambo de Mora</td><td>Rural and Urban (2)</td><td>2</td><td>0.02258360</td><td>0.03168446</td><td>0.017100</td><td>1.71e-02</td><td>1.71e-02</td><td>...</td><td>1.78e-04</td><td>1.28e-03</td><td>1.09e-04</td><td>1.12e-04</td><td>8.38e-05</td><td>1.11e-04</td><td>6.64e-05</td><td>1.18e-04</td><td>1.44e-05</td><td>1.18e-04</td></tr>\n",
       "\t<tr><td>TM17.mzXML</td><td>SAMPLE</td><td>Tambo de Mora</td><td>Rural and Urban (2)</td><td>2</td><td>0.05690301</td><td>0.04016683</td><td>0.027500</td><td>2.75e-02</td><td>2.75e-02</td><td>...</td><td>1.54e-04</td><td>3.18e-05</td><td>1.58e-04</td><td>2.22e-05</td><td>5.08e-06</td><td>1.51e-05</td><td>8.19e-05</td><td>2.91e-04</td><td>2.48e-04</td><td>1.58e-04</td></tr>\n",
       "\t<tr><td>TM18.mzXML</td><td>SAMPLE</td><td>Tambo de Mora</td><td>Rural and Urban (2)</td><td>2</td><td>0.02571563</td><td>0.04220001</td><td>0.015500</td><td>1.48e-02</td><td>1.55e-02</td><td>...</td><td>5.65e-05</td><td>7.78e-05</td><td>9.50e-05</td><td>2.46e-04</td><td>2.42e-04</td><td>1.52e-04</td><td>5.01e-05</td><td>9.76e-05</td><td>2.44e-05</td><td>1.05e-04</td></tr>\n",
       "\t<tr><td>TM2.mzXML </td><td>SAMPLE</td><td>Tambo de Mora</td><td>Rural and Urban (2)</td><td>2</td><td>0.05108154</td><td>0.03482135</td><td>0.028400</td><td>2.84e-02</td><td>2.84e-02</td><td>...</td><td>8.54e-05</td><td>2.24e-04</td><td>1.44e-04</td><td>1.90e-05</td><td>1.29e-04</td><td>7.06e-05</td><td>2.47e-04</td><td>3.28e-04</td><td>3.57e-04</td><td>1.76e-04</td></tr>\n",
       "\t<tr><td>TM23.mzXML</td><td>SAMPLE</td><td>Tambo de Mora</td><td>Rural and Urban (2)</td><td>2</td><td>0.02250282</td><td>0.02109639</td><td>0.016800</td><td>1.60e-02</td><td>1.60e-02</td><td>...</td><td>4.36e-05</td><td>9.22e-07</td><td>1.21e-04</td><td>1.33e-04</td><td>3.19e-06</td><td>4.40e-05</td><td>4.12e-05</td><td>1.58e-06</td><td>4.76e-04</td><td>1.02e-04</td></tr>\n",
       "\t<tr><td>TM24.mzXML</td><td>SAMPLE</td><td>Tambo de Mora</td><td>Rural and Urban (2)</td><td>2</td><td>0.03397229</td><td>0.01186495</td><td>0.010500</td><td>1.07e-02</td><td>1.05e-02</td><td>...</td><td>5.50e-05</td><td>2.51e-07</td><td>1.34e-04</td><td>5.37e-05</td><td>1.17e-06</td><td>8.19e-04</td><td>7.71e-05</td><td>1.25e-04</td><td>2.34e-05</td><td>7.66e-05</td></tr>\n",
       "\t<tr><td>TM26.mzXML</td><td>SAMPLE</td><td>Tambo de Mora</td><td>Rural and Urban (2)</td><td>2</td><td>0.03906053</td><td>0.05290237</td><td>0.025600</td><td>2.56e-02</td><td>2.56e-02</td><td>...</td><td>2.37e-04</td><td>3.47e-05</td><td>1.14e-04</td><td>1.51e-04</td><td>1.37e-04</td><td>1.13e-04</td><td>1.57e-04</td><td>1.43e-04</td><td>1.54e-05</td><td>1.50e-04</td></tr>\n",
       "\t<tr><td>TM27.mzXML</td><td>SAMPLE</td><td>Tambo de Mora</td><td>Rural and Urban (2)</td><td>2</td><td>0.04839889</td><td>0.03193122</td><td>0.019700</td><td>1.97e-02</td><td>1.97e-02</td><td>...</td><td>8.33e-05</td><td>1.07e-04</td><td>1.49e-04</td><td>2.35e-04</td><td>1.24e-04</td><td>8.60e-05</td><td>1.44e-04</td><td>3.47e-06</td><td>1.29e-05</td><td>1.35e-04</td></tr>\n",
       "\t<tr><td>TM28.mzXML</td><td>SAMPLE</td><td>Tambo de Mora</td><td>Rural and Urban (2)</td><td>2</td><td>0.04086575</td><td>0.02221420</td><td>0.016100</td><td>1.60e-02</td><td>1.60e-02</td><td>...</td><td>4.13e-05</td><td>1.71e-04</td><td>1.63e-04</td><td>2.41e-04</td><td>0.00e+00</td><td>8.66e-05</td><td>1.27e-04</td><td>1.46e-04</td><td>5.09e-04</td><td>1.14e-04</td></tr>\n",
       "\t<tr><td>TM3.mzXML </td><td>SAMPLE</td><td>Tambo de Mora</td><td>Rural and Urban (2)</td><td>2</td><td>0.05306844</td><td>0.03227135</td><td>0.023700</td><td>2.37e-02</td><td>2.37e-02</td><td>...</td><td>1.06e-04</td><td>4.20e-05</td><td>1.36e-04</td><td>1.24e-04</td><td>1.65e-04</td><td>1.46e-04</td><td>7.19e-05</td><td>1.81e-04</td><td>1.78e-05</td><td>1.48e-04</td></tr>\n",
       "\t<tr><td>TM31.mzXML</td><td>SAMPLE</td><td>Tambo de Mora</td><td>Rural and Urban (2)</td><td>2</td><td>0.03541951</td><td>0.04740599</td><td>0.029700</td><td>2.97e-02</td><td>2.97e-02</td><td>...</td><td>6.06e-04</td><td>4.32e-05</td><td>1.00e-04</td><td>6.09e-05</td><td>7.76e-05</td><td>1.08e-04</td><td>3.43e-04</td><td>1.13e-06</td><td>9.70e-06</td><td>1.65e-04</td></tr>\n",
       "\t<tr><td>TM4.mzXML </td><td>SAMPLE</td><td>Tambo de Mora</td><td>Rural and Urban (2)</td><td>2</td><td>0.04052655</td><td>0.05896613</td><td>0.000074</td><td>2.86e-02</td><td>2.86e-02</td><td>...</td><td>9.32e-05</td><td>5.65e-05</td><td>4.78e-05</td><td>1.51e-04</td><td>1.43e-04</td><td>9.85e-05</td><td>1.75e-04</td><td>2.37e-04</td><td>4.70e-05</td><td>1.49e-04</td></tr>\n",
       "\t<tr><td>TM6.mzXML </td><td>SAMPLE</td><td>Tambo de Mora</td><td>Rural and Urban (2)</td><td>2</td><td>0.04564267</td><td>0.02760148</td><td>0.018300</td><td>1.83e-02</td><td>1.37e-06</td><td>...</td><td>2.61e-05</td><td>7.32e-05</td><td>1.76e-04</td><td>1.10e-04</td><td>2.73e-04</td><td>2.76e-04</td><td>3.18e-05</td><td>5.61e-05</td><td>3.48e-04</td><td>8.43e-05</td></tr>\n",
       "</tbody>\n",
       "</table>\n"
      ],
      "text/latex": [
       "A data.frame: 105 × 1005\n",
       "\\begin{tabular}{lllllllllllllllllllll}\n",
       " SampleID & ATTRIBUTE\\_SampleType & ATTRIBUTE\\_Population & ATTRIBUTE\\_UrbScore & ATTRIBUTE\\_NumUrbScore & X132.102104639083\\_0.372004304029303 & X132.102110295016\\_0.384313827838827 & X166.086271660011\\_0.491805432780847 & X166.086283448646\\_0.502871086556169 & X166.086245860857\\_0.48930815018315 & ... & X279.170620199835\\_2.63969270833333 & X359.293297851946\\_6.76529208103131 & X166.08590120469\\_9.0352514732965 & X158.11764668531\\_11.4750444751381 & X339.191786897288\\_3.53416406551059 & X204.086721316875\\_1.51949650092081 & X302.207888536171\\_2.18683529962546 & X146.060806996069\\_0.848826979742172 & X358.980399177606\\_10.3429935990338 & X107.049551166471\\_0.497396630236794\\\\\n",
       " <fct> & <fct> & <fct> & <fct> & <int> & <dbl> & <dbl> & <dbl> & <dbl> & <dbl> & ... & <dbl> & <dbl> & <dbl> & <dbl> & <dbl> & <dbl> & <dbl> & <dbl> & <dbl> & <dbl>\\\\\n",
       "\\hline\n",
       "\t BFTM01\\_01\\_BF3.mzXML & SAMPLE & Burkina Faso 3 & Mostly Rural (3)    & 3 & 0.04263579 & 0.062863007 & 0.015800 & 1.57e-02 & 0.015700 & ... & 7.08e-05 & 2.16e-05 & 1.28e-04 & 2.22e-04 & 1.30e-04 & 7.65e-05 & 4.46e-05 & 1.56e-04 & 4.88e-04 & 1.12e-04\\\\\n",
       "\t BFTM09\\_02\\_BF3.mzXML & SAMPLE & Burkina Faso 3 & Mostly Rural (3)    & 3 & 0.06025735 & 0.038198858 & 0.010400 & 1.04e-02 & 0.010400 & ... & 5.42e-05 & 2.98e-05 & 1.19e-04 & 2.42e-04 & 4.90e-04 & 1.59e-05 & 6.87e-06 & 8.84e-05 & 2.13e-05 & 1.21e-04\\\\\n",
       "\t BFTM10\\_01\\_BF3.mzXML & SAMPLE & Burkina Faso 3 & Mostly Rural (3)    & 3 & 0.03933848 & 0.044776452 & 0.020000 & 2.00e-02 & 0.020000 & ... & 5.33e-05 & 2.43e-06 & 8.53e-05 & 1.39e-04 & 2.30e-04 & 4.95e-05 & 3.33e-05 & 3.20e-04 & 8.90e-06 & 1.30e-04\\\\\n",
       "\t BFTM11\\_04\\_BF3.mzXML & SAMPLE & Burkina Faso 3 & Mostly Rural (3)    & 3 & 0.05825590 & 0.058255902 & 0.027000 & 2.70e-02 & 0.027000 & ... & 2.86e-05 & 2.06e-05 & 1.50e-04 & 1.42e-04 & 3.00e-04 & 5.65e-05 & 2.23e-05 & 2.38e-04 & 2.93e-04 & 1.77e-04\\\\\n",
       "\t BFTM13\\_01\\_BF3.mzXML & SAMPLE & Burkina Faso 3 & Mostly Rural (3)    & 3 & 0.03172320 & 0.055187110 & 0.021200 & 2.12e-02 & 0.021200 & ... & 2.44e-04 & 1.10e-05 & 1.68e-04 & 2.80e-04 & 9.95e-05 & 2.38e-04 & 5.42e-05 & 3.43e-06 & 1.33e-05 & 1.55e-04\\\\\n",
       "\t BFTM17\\_02\\_BF3.mzXML & SAMPLE & Burkina Faso 3 & Mostly Rural (3)    & 3 & 0.01013732 & 0.031430113 & 0.008880 & 8.88e-03 & 0.008880 & ... & 8.96e-05 & 1.50e-05 & 9.23e-05 & 8.19e-05 & 6.13e-05 & 1.08e-04 & 9.52e-05 & 6.82e-05 & 5.44e-04 & 6.86e-05\\\\\n",
       "\t BFTM20\\_03\\_BF3.mzXML & SAMPLE & Burkina Faso 3 & Mostly Rural (3)    & 3 & 0.03754274 & 0.029270045 & 0.001050 & 9.50e-04 & 0.000950 & ... & 3.59e-04 & 1.43e-05 & 3.52e-04 & 3.01e-04 & 0.00e+00 & 5.05e-05 & 1.04e-05 & 8.01e-05 & 8.64e-04 & 2.19e-04\\\\\n",
       "\t BFTM22\\_03\\_BF3.mzXML & SAMPLE & Burkina Faso 3 & Mostly Rural (3)    & 3 & 0.01772879 & 0.038147761 & 0.011500 & 1.15e-02 & 0.011500 & ... & 3.59e-05 & 3.52e-06 & 1.37e-04 & 3.35e-05 & 1.81e-04 & 9.61e-05 & 5.05e-05 & 6.50e-05 & 2.45e-05 & 1.14e-04\\\\\n",
       "\t BFTM23\\_02\\_BF3.mzXML & SAMPLE & Burkina Faso 3 & Mostly Rural (3)    & 3 & 0.02581445 & 0.043861714 & 0.015200 & 1.52e-02 & 0.015200 & ... & 3.82e-05 & 4.20e-05 & 1.91e-04 & 1.17e-04 & 1.48e-03 & 1.40e-04 & 9.71e-06 & 7.04e-05 & 3.97e-05 & 1.01e-04\\\\\n",
       "\t BFTM25\\_03\\_BF3.mzXML & SAMPLE & Burkina Faso 3 & Mostly Rural (3)    & 3 & 0.03637724 & 0.051967484 & 0.026600 & 2.66e-02 & 0.026600 & ... & 1.59e-05 & 3.61e-04 & 1.38e-04 & 4.31e-05 & 1.48e-04 & 7.48e-05 & 2.27e-05 & 2.38e-04 & 2.88e-05 & 1.62e-04\\\\\n",
       "\t BFTM29\\_01\\_BF3.mzXML & SAMPLE & Burkina Faso 3 & Mostly Rural (3)    & 3 & 0.02402946 & 0.037921497 & 0.016200 & 1.62e-02 & 0.016200 & ... & 5.63e-05 & 6.55e-06 & 1.42e-04 & 1.78e-05 & 2.16e-04 & 8.11e-05 & 9.18e-05 & 1.12e-04 & 1.24e-05 & 1.61e-04\\\\\n",
       "\t GU1.mzXML           & SAMPLE & Guayabo        & Rural and Urban (2) & 2 & 0.04469370 & 0.030783268 & 0.021800 & 2.18e-02 & 0.021800 & ... & 8.62e-05 & 4.52e-04 & 1.04e-04 & 2.92e-05 & 9.80e-05 & 5.22e-05 & 2.16e-04 & 2.25e-04 & 2.32e-05 & 1.33e-04\\\\\n",
       "\t GU10.mzXML          & SAMPLE & Guayabo        & Rural and Urban (2) & 2 & 0.02865965 & 0.042381540 & 0.021500 & 2.15e-02 & 0.021500 & ... & 2.95e-05 & 3.68e-05 & 1.01e-04 & 1.73e-04 & 1.07e-04 & 7.92e-05 & 8.34e-05 & 1.55e-04 & 4.22e-04 & 1.31e-04\\\\\n",
       "\t GU11.mzXML          & SAMPLE & Guayabo        & Rural and Urban (2) & 2 & 0.03795983 & 0.058726086 & 0.024600 & 4.62e-06 & 0.024600 & ... & 8.66e-05 & 1.13e-03 & 1.93e-04 & 2.46e-04 & 2.65e-06 & 2.10e-04 & 8.11e-05 & 1.47e-04 & 3.10e-05 & 1.77e-04\\\\\n",
       "\t GU12.mzXML          & SAMPLE & Guayabo        & Rural and Urban (2) & 2 & 0.02744713 & 0.041760057 & 0.015900 & 1.59e-02 & 0.015900 & ... & 3.41e-06 & 4.78e-04 & 1.28e-04 & 1.94e-04 & 1.68e-04 & 1.49e-06 & 3.23e-05 & 1.02e-04 & 1.17e-05 & 1.05e-04\\\\\n",
       "\t GU13.mzXML          & SAMPLE & Guayabo        & Rural and Urban (2) & 2 & 0.03212753 & 0.046969053 & 0.021500 & 2.15e-02 & 0.021500 & ... & 1.42e-05 & 3.67e-05 & 1.31e-04 & 1.06e-04 & 1.26e-04 & 1.80e-04 & 1.11e-04 & 1.76e-04 & 4.24e-05 & 1.40e-04\\\\\n",
       "\t GU16.mzXML          & SAMPLE & Guayabo        & Rural and Urban (2) & 2 & 0.03869273 & 0.053924713 & 0.024500 & 2.45e-02 & 0.024500 & ... & 1.44e-04 & 2.84e-05 & 1.52e-04 & 2.05e-04 & 1.91e-05 & 9.96e-05 & 5.20e-06 & 2.54e-04 & 4.15e-04 & 1.46e-04\\\\\n",
       "\t GU17.mzXML          & SAMPLE & Guayabo        & Rural and Urban (2) & 2 & 0.04401630 & 0.044016300 & 0.016400 & 1.64e-02 & 0.016400 & ... & 2.62e-05 & 2.56e-04 & 9.45e-05 & 1.23e-04 & 1.41e-04 & 6.41e-05 & 6.79e-05 & 1.14e-04 & 1.24e-05 & 1.05e-04\\\\\n",
       "\t GU19.mzXML          & SAMPLE & Guayabo        & Rural and Urban (2) & 2 & 0.02118871 & 0.031137069 & 0.014300 & 1.43e-02 & 0.014300 & ... & 1.96e-05 & 3.89e-04 & 8.68e-05 & 8.48e-05 & 5.52e-05 & 1.49e-05 & 2.80e-05 & 1.25e-06 & 2.36e-05 & 8.32e-05\\\\\n",
       "\t GU2.mzXML           & SAMPLE & Guayabo        & Rural and Urban (2) & 2 & 0.04252940 & 0.023936142 & 0.014100 & 1.40e-02 & 0.014000 & ... & 2.20e-05 & 3.01e-05 & 1.40e-04 & 4.92e-05 & 6.82e-05 & 1.13e-04 & 1.25e-06 & 1.02e-04 & 2.54e-05 & 1.03e-04\\\\\n",
       "\t GU20.mzXML          & SAMPLE & Guayabo        & Rural and Urban (2) & 2 & 0.03400965 & 0.046933317 & 0.024100 & 2.41e-02 & 0.024100 & ... & 8.93e-05 & 5.46e-05 & 1.29e-04 & 8.49e-05 & 9.57e-05 & 1.23e-04 & 4.83e-05 & 1.40e-04 & 1.42e-05 & 1.47e-04\\\\\n",
       "\t GU4.mzXML           & SAMPLE & Guayabo        & Rural and Urban (2) & 2 & 0.05040555 & 0.015378510 & 0.000035 & 5.65e-06 & 0.000011 & ... & 2.73e-05 & 3.69e-05 & 2.17e-04 & 2.31e-04 & 4.70e-07 & 5.49e-04 & 3.82e-05 & 7.93e-05 & 3.50e-05 & 6.87e-05\\\\\n",
       "\t GU6.mzXML           & SAMPLE & Guayabo        & Rural and Urban (2) & 2 & 0.02438256 & 0.051044799 & 0.016800 & 1.67e-02 & 0.016700 & ... & 1.03e-05 & 1.16e-04 & 2.41e-04 & 3.77e-05 & 2.20e-05 & 3.74e-04 & 9.28e-06 & 9.39e-05 & 3.39e-05 & 9.59e-05\\\\\n",
       "\t GU7.mzXML           & SAMPLE & Guayabo        & Rural and Urban (2) & 2 & 0.04952482 & 0.031135089 & 0.021800 & 2.18e-02 & 0.021800 & ... & 1.42e-04 & 4.83e-05 & 1.54e-04 & 1.13e-04 & 1.38e-04 & 9.05e-05 & 7.39e-05 & 1.78e-04 & 1.15e-05 & 1.44e-04\\\\\n",
       "\t HCO01.mzXML         & SAMPLE & Tunapuco       & Mostly Rural (3)    & 3 & 0.02865138 & 0.041697997 & 0.023700 & 2.37e-02 & 0.023700 & ... & 4.09e-05 & 5.73e-05 & 7.78e-05 & 8.21e-05 & 6.54e-05 & 1.11e-05 & 2.36e-06 & 2.19e-04 & 2.75e-04 & 1.78e-04\\\\\n",
       "\t HCO03.mzXML         & SAMPLE & Tunapuco       & Mostly Rural (3)    & 3 & 0.02267509 & 0.034944491 & 0.015000 & 1.50e-02 & 0.015000 & ... & 2.42e-04 & 4.10e-04 & 1.12e-04 & 1.08e-04 & 1.33e-04 & 2.39e-04 & 1.05e-04 & 1.04e-04 & 3.77e-04 & 1.14e-04\\\\\n",
       "\t HCO04.mzXML         & SAMPLE & Tunapuco       & Mostly Rural (3)    & 3 & 0.01211474 & 0.024105857 & 0.011400 & 1.14e-02 & 0.011400 & ... & 2.29e-04 & 1.54e-05 & 1.19e-04 & 1.68e-04 & 3.35e-05 & 1.15e-04 & 4.40e-04 & 8.13e-05 & 2.18e-05 & 7.17e-05\\\\\n",
       "\t HCO07.mzXML         & SAMPLE & Tunapuco       & Mostly Rural (3)    & 3 & 0.02363884 & 0.040739270 & 0.017300 & 1.73e-02 & 0.017300 & ... & 8.78e-05 & 1.96e-05 & 1.29e-04 & 9.69e-05 & 7.88e-05 & 9.71e-05 & 2.68e-04 & 1.13e-04 & 3.96e-04 & 1.08e-04\\\\\n",
       "\t HCO09.mzXML         & SAMPLE & Tunapuco       & Mostly Rural (3)    & 3 & 0.03285961 & 0.008850895 & 0.009860 & 9.82e-03 & 0.009820 & ... & 5.18e-04 & 1.59e-04 & 1.80e-04 & 1.22e-04 & 2.88e-05 & 2.17e-04 & 2.63e-04 & 5.07e-05 & 2.65e-05 & 4.88e-05\\\\\n",
       "\t HCO10.mzXML         & SAMPLE & Tunapuco       & Mostly Rural (3)    & 3 & 0.01565327 & 0.030178383 & 0.015200 & 1.52e-02 & 0.015200 & ... & 2.68e-04 & 2.79e-05 & 1.01e-04 & 2.45e-05 & 4.36e-07 & 1.58e-04 & 2.30e-04 & 2.25e-06 & 1.07e-05 & 1.01e-04\\\\\n",
       "\t ... & ... & ... & ... & ... & ... & ... & ... & ... & ... &  & ... & ... & ... & ... & ... & ... & ... & ... & ... & ...\\\\\n",
       "\t SM05.mzXML & SAMPLE & Matses        & Isolated Rural (4)  & 4 & 0.02735428 & 0.04005448 & 0.019900 & 1.99e-02 & 1.99e-02 & ... & 5.37e-05 & 8.74e-08 & 8.78e-05 & 4.28e-05 & 0.00e+00 & 1.07e-04 & 6.97e-05 & 2.56e-04 & 1.05e-05 & 1.29e-04\\\\\n",
       "\t SM10.mzXML & SAMPLE & Matses        & Isolated Rural (4)  & 4 & 0.02964765 & 0.04321875 & 0.023400 & 2.34e-02 & 2.34e-02 & ... & 3.83e-07 & 6.81e-05 & 1.06e-04 & 7.67e-05 & 6.47e-05 & 1.89e-05 & 1.87e-04 & 2.49e-04 & 6.82e-06 & 1.35e-04\\\\\n",
       "\t SM11.mzXML & SAMPLE & Matses        & Isolated Rural (4)  & 4 & 0.02331476 & 0.03624055 & 0.017600 & 1.76e-02 & 1.76e-02 & ... & 1.85e-04 & 3.52e-05 & 8.44e-05 & 1.29e-04 & 6.51e-05 & 1.63e-04 & 1.79e-04 & 1.51e-04 & 1.50e-05 & 1.01e-04\\\\\n",
       "\t SM23.mzXML & SAMPLE & Matses        & Isolated Rural (4)  & 4 & 0.01256672 & 0.02453660 & 0.011600 & 1.16e-02 & 1.16e-02 & ... & 2.75e-04 & 3.65e-05 & 6.38e-05 & 2.06e-05 & 3.96e-05 & 1.76e-04 & 2.87e-04 & 5.60e-05 & 1.36e-05 & 5.85e-05\\\\\n",
       "\t SM25.mzXML & SAMPLE & Matses        & Isolated Rural (4)  & 4 & 0.01912891 & 0.03304084 & 0.016600 & 1.65e-02 & 1.65e-02 & ... & 7.51e-05 & 2.65e-05 & 1.10e-04 & 6.61e-05 & 3.10e-07 & 2.40e-05 & 1.53e-04 & 1.29e-04 & 1.01e-05 & 9.46e-05\\\\\n",
       "\t SM28.mzXML & SAMPLE & Matses        & Isolated Rural (4)  & 4 & 0.04586029 & 0.03057353 & 0.017700 & 1.77e-02 & 1.77e-02 & ... & 3.92e-05 & 3.01e-04 & 8.79e-05 & 1.80e-04 & 6.95e-05 & 9.79e-05 & 1.03e-05 & 1.36e-06 & 1.41e-05 & 1.24e-04\\\\\n",
       "\t SM29.mzXML & SAMPLE & Matses        & Isolated Rural (4)  & 4 & 0.04576896 & 0.03219044 & 0.018300 & 1.83e-02 & 1.83e-02 & ... & 2.14e-04 & 3.29e-05 & 5.91e-05 & 1.56e-04 & 2.19e-04 & 6.70e-05 & 7.09e-05 & 1.29e-04 & 1.49e-05 & 1.09e-04\\\\\n",
       "\t SM30.mzXML & SAMPLE & Matses        & Isolated Rural (4)  & 4 & 0.02833626 & 0.01030297 & 0.009300 & 9.30e-03 & 9.30e-03 & ... & 1.29e-04 & 8.35e-05 & 9.63e-05 & 4.26e-05 & 2.27e-05 & 3.44e-04 & 1.79e-04 & 1.01e-04 & 1.80e-05 & 5.69e-05\\\\\n",
       "\t SM33.mzXML & SAMPLE & Matses        & Isolated Rural (4)  & 4 & 0.04589018 & 0.02827577 & 0.021500 & 2.15e-02 & 2.15e-02 & ... & 1.35e-04 & 2.78e-04 & 1.28e-04 & 1.98e-05 & 4.02e-05 & 1.24e-04 & 7.18e-05 & 1.44e-04 & 1.06e-05 & 1.32e-04\\\\\n",
       "\t SM34.mzXML & SAMPLE & Matses        & Isolated Rural (4)  & 4 & 0.04255803 & 0.02136312 & 0.015900 & 1.59e-02 & 1.59e-02 & ... & 5.03e-05 & 1.98e-05 & 1.18e-04 & 1.21e-04 & 3.13e-05 & 4.56e-05 & 1.73e-04 & 5.15e-05 & 2.14e-05 & 1.02e-04\\\\\n",
       "\t SM37.mzXML & SAMPLE & Matses        & Isolated Rural (4)  & 4 & 0.01924973 & 0.03672938 & 0.014900 & 1.49e-02 & 1.49e-02 & ... & 6.93e-05 & 4.89e-05 & 1.11e-04 & 2.43e-04 & 6.44e-05 & 1.00e-04 & 1.44e-04 & 8.34e-05 & 5.40e-04 & 9.71e-05\\\\\n",
       "\t SM39.mzXML & SAMPLE & Matses        & Isolated Rural (4)  & 4 & 0.02981583 & 0.01729318 & 0.015400 & 6.65e-06 & 1.80e-05 & ... & 8.09e-04 & 1.73e-04 & 7.08e-05 & 7.76e-05 & 1.41e-04 & 6.53e-06 & 3.49e-04 & 2.00e-04 & 1.16e-05 & 9.36e-05\\\\\n",
       "\t SM41.mzXML & SAMPLE & Matses        & Isolated Rural (4)  & 4 & 0.04751516 & 0.02717656 & 0.018800 & 1.88e-02 & 1.88e-02 & ... & 5.24e-05 & 2.47e-05 & 1.63e-04 & 2.28e-04 & 4.05e-05 & 1.25e-04 & 1.02e-04 & 1.20e-04 & 2.86e-05 & 1.35e-04\\\\\n",
       "\t TM1.mzXML  & SAMPLE & Tambo de Mora & Rural and Urban (2) & 2 & 0.03800734 & 0.05277942 & 0.029900 & 2.99e-02 & 2.99e-02 & ... & 5.74e-05 & 1.86e-05 & 2.51e-04 & 1.75e-04 & 8.48e-05 & 2.02e-04 & 2.77e-04 & 5.65e-06 & 2.69e-05 & 1.75e-04\\\\\n",
       "\t TM10.mzXML & SAMPLE & Tambo de Mora & Rural and Urban (2) & 2 & 0.04397351 & 0.02852712 & 0.020600 & 2.06e-02 & 2.06e-02 & ... & 1.26e-04 & 3.09e-05 & 1.13e-04 & 1.82e-04 & 1.10e-04 & 1.31e-04 & 5.40e-05 & 9.80e-06 & 3.37e-04 & 1.70e-04\\\\\n",
       "\t TM11.mzXML & SAMPLE & Tambo de Mora & Rural and Urban (2) & 2 & 0.03766601 & 0.02225719 & 0.014600 & 1.46e-02 & 1.46e-02 & ... & 4.76e-05 & 2.29e-04 & 7.56e-05 & 1.99e-04 & 2.10e-04 & 9.12e-05 & 1.02e-04 & 1.31e-04 & 3.84e-04 & 9.23e-05\\\\\n",
       "\t TM14.mzXML & SAMPLE & Tambo de Mora & Rural and Urban (2) & 2 & 0.02743294 & 0.03657725 & 0.018900 & 1.43e-05 & 1.89e-02 & ... & 2.94e-05 & 9.50e-05 & 7.40e-07 & 6.47e-05 & 2.69e-04 & 1.27e-04 & 2.39e-05 & 2.08e-06 & 9.08e-06 & 1.34e-04\\\\\n",
       "\t TM16.mzXML & SAMPLE & Tambo de Mora & Rural and Urban (2) & 2 & 0.02258360 & 0.03168446 & 0.017100 & 1.71e-02 & 1.71e-02 & ... & 1.78e-04 & 1.28e-03 & 1.09e-04 & 1.12e-04 & 8.38e-05 & 1.11e-04 & 6.64e-05 & 1.18e-04 & 1.44e-05 & 1.18e-04\\\\\n",
       "\t TM17.mzXML & SAMPLE & Tambo de Mora & Rural and Urban (2) & 2 & 0.05690301 & 0.04016683 & 0.027500 & 2.75e-02 & 2.75e-02 & ... & 1.54e-04 & 3.18e-05 & 1.58e-04 & 2.22e-05 & 5.08e-06 & 1.51e-05 & 8.19e-05 & 2.91e-04 & 2.48e-04 & 1.58e-04\\\\\n",
       "\t TM18.mzXML & SAMPLE & Tambo de Mora & Rural and Urban (2) & 2 & 0.02571563 & 0.04220001 & 0.015500 & 1.48e-02 & 1.55e-02 & ... & 5.65e-05 & 7.78e-05 & 9.50e-05 & 2.46e-04 & 2.42e-04 & 1.52e-04 & 5.01e-05 & 9.76e-05 & 2.44e-05 & 1.05e-04\\\\\n",
       "\t TM2.mzXML  & SAMPLE & Tambo de Mora & Rural and Urban (2) & 2 & 0.05108154 & 0.03482135 & 0.028400 & 2.84e-02 & 2.84e-02 & ... & 8.54e-05 & 2.24e-04 & 1.44e-04 & 1.90e-05 & 1.29e-04 & 7.06e-05 & 2.47e-04 & 3.28e-04 & 3.57e-04 & 1.76e-04\\\\\n",
       "\t TM23.mzXML & SAMPLE & Tambo de Mora & Rural and Urban (2) & 2 & 0.02250282 & 0.02109639 & 0.016800 & 1.60e-02 & 1.60e-02 & ... & 4.36e-05 & 9.22e-07 & 1.21e-04 & 1.33e-04 & 3.19e-06 & 4.40e-05 & 4.12e-05 & 1.58e-06 & 4.76e-04 & 1.02e-04\\\\\n",
       "\t TM24.mzXML & SAMPLE & Tambo de Mora & Rural and Urban (2) & 2 & 0.03397229 & 0.01186495 & 0.010500 & 1.07e-02 & 1.05e-02 & ... & 5.50e-05 & 2.51e-07 & 1.34e-04 & 5.37e-05 & 1.17e-06 & 8.19e-04 & 7.71e-05 & 1.25e-04 & 2.34e-05 & 7.66e-05\\\\\n",
       "\t TM26.mzXML & SAMPLE & Tambo de Mora & Rural and Urban (2) & 2 & 0.03906053 & 0.05290237 & 0.025600 & 2.56e-02 & 2.56e-02 & ... & 2.37e-04 & 3.47e-05 & 1.14e-04 & 1.51e-04 & 1.37e-04 & 1.13e-04 & 1.57e-04 & 1.43e-04 & 1.54e-05 & 1.50e-04\\\\\n",
       "\t TM27.mzXML & SAMPLE & Tambo de Mora & Rural and Urban (2) & 2 & 0.04839889 & 0.03193122 & 0.019700 & 1.97e-02 & 1.97e-02 & ... & 8.33e-05 & 1.07e-04 & 1.49e-04 & 2.35e-04 & 1.24e-04 & 8.60e-05 & 1.44e-04 & 3.47e-06 & 1.29e-05 & 1.35e-04\\\\\n",
       "\t TM28.mzXML & SAMPLE & Tambo de Mora & Rural and Urban (2) & 2 & 0.04086575 & 0.02221420 & 0.016100 & 1.60e-02 & 1.60e-02 & ... & 4.13e-05 & 1.71e-04 & 1.63e-04 & 2.41e-04 & 0.00e+00 & 8.66e-05 & 1.27e-04 & 1.46e-04 & 5.09e-04 & 1.14e-04\\\\\n",
       "\t TM3.mzXML  & SAMPLE & Tambo de Mora & Rural and Urban (2) & 2 & 0.05306844 & 0.03227135 & 0.023700 & 2.37e-02 & 2.37e-02 & ... & 1.06e-04 & 4.20e-05 & 1.36e-04 & 1.24e-04 & 1.65e-04 & 1.46e-04 & 7.19e-05 & 1.81e-04 & 1.78e-05 & 1.48e-04\\\\\n",
       "\t TM31.mzXML & SAMPLE & Tambo de Mora & Rural and Urban (2) & 2 & 0.03541951 & 0.04740599 & 0.029700 & 2.97e-02 & 2.97e-02 & ... & 6.06e-04 & 4.32e-05 & 1.00e-04 & 6.09e-05 & 7.76e-05 & 1.08e-04 & 3.43e-04 & 1.13e-06 & 9.70e-06 & 1.65e-04\\\\\n",
       "\t TM4.mzXML  & SAMPLE & Tambo de Mora & Rural and Urban (2) & 2 & 0.04052655 & 0.05896613 & 0.000074 & 2.86e-02 & 2.86e-02 & ... & 9.32e-05 & 5.65e-05 & 4.78e-05 & 1.51e-04 & 1.43e-04 & 9.85e-05 & 1.75e-04 & 2.37e-04 & 4.70e-05 & 1.49e-04\\\\\n",
       "\t TM6.mzXML  & SAMPLE & Tambo de Mora & Rural and Urban (2) & 2 & 0.04564267 & 0.02760148 & 0.018300 & 1.83e-02 & 1.37e-06 & ... & 2.61e-05 & 7.32e-05 & 1.76e-04 & 1.10e-04 & 2.73e-04 & 2.76e-04 & 3.18e-05 & 5.61e-05 & 3.48e-04 & 8.43e-05\\\\\n",
       "\\end{tabular}\n"
      ],
      "text/markdown": [
       "\n",
       "A data.frame: 105 × 1005\n",
       "\n",
       "| SampleID &lt;fct&gt; | ATTRIBUTE_SampleType &lt;fct&gt; | ATTRIBUTE_Population &lt;fct&gt; | ATTRIBUTE_UrbScore &lt;fct&gt; | ATTRIBUTE_NumUrbScore &lt;int&gt; | X132.102104639083_0.372004304029303 &lt;dbl&gt; | X132.102110295016_0.384313827838827 &lt;dbl&gt; | X166.086271660011_0.491805432780847 &lt;dbl&gt; | X166.086283448646_0.502871086556169 &lt;dbl&gt; | X166.086245860857_0.48930815018315 &lt;dbl&gt; | ... ... | X279.170620199835_2.63969270833333 &lt;dbl&gt; | X359.293297851946_6.76529208103131 &lt;dbl&gt; | X166.08590120469_9.0352514732965 &lt;dbl&gt; | X158.11764668531_11.4750444751381 &lt;dbl&gt; | X339.191786897288_3.53416406551059 &lt;dbl&gt; | X204.086721316875_1.51949650092081 &lt;dbl&gt; | X302.207888536171_2.18683529962546 &lt;dbl&gt; | X146.060806996069_0.848826979742172 &lt;dbl&gt; | X358.980399177606_10.3429935990338 &lt;dbl&gt; | X107.049551166471_0.497396630236794 &lt;dbl&gt; |\n",
       "|---|---|---|---|---|---|---|---|---|---|---|---|---|---|---|---|---|---|---|---|---|\n",
       "| BFTM01_01_BF3.mzXML | SAMPLE | Burkina Faso 3 | Mostly Rural (3)    | 3 | 0.04263579 | 0.062863007 | 0.015800 | 1.57e-02 | 0.015700 | ... | 7.08e-05 | 2.16e-05 | 1.28e-04 | 2.22e-04 | 1.30e-04 | 7.65e-05 | 4.46e-05 | 1.56e-04 | 4.88e-04 | 1.12e-04 |\n",
       "| BFTM09_02_BF3.mzXML | SAMPLE | Burkina Faso 3 | Mostly Rural (3)    | 3 | 0.06025735 | 0.038198858 | 0.010400 | 1.04e-02 | 0.010400 | ... | 5.42e-05 | 2.98e-05 | 1.19e-04 | 2.42e-04 | 4.90e-04 | 1.59e-05 | 6.87e-06 | 8.84e-05 | 2.13e-05 | 1.21e-04 |\n",
       "| BFTM10_01_BF3.mzXML | SAMPLE | Burkina Faso 3 | Mostly Rural (3)    | 3 | 0.03933848 | 0.044776452 | 0.020000 | 2.00e-02 | 0.020000 | ... | 5.33e-05 | 2.43e-06 | 8.53e-05 | 1.39e-04 | 2.30e-04 | 4.95e-05 | 3.33e-05 | 3.20e-04 | 8.90e-06 | 1.30e-04 |\n",
       "| BFTM11_04_BF3.mzXML | SAMPLE | Burkina Faso 3 | Mostly Rural (3)    | 3 | 0.05825590 | 0.058255902 | 0.027000 | 2.70e-02 | 0.027000 | ... | 2.86e-05 | 2.06e-05 | 1.50e-04 | 1.42e-04 | 3.00e-04 | 5.65e-05 | 2.23e-05 | 2.38e-04 | 2.93e-04 | 1.77e-04 |\n",
       "| BFTM13_01_BF3.mzXML | SAMPLE | Burkina Faso 3 | Mostly Rural (3)    | 3 | 0.03172320 | 0.055187110 | 0.021200 | 2.12e-02 | 0.021200 | ... | 2.44e-04 | 1.10e-05 | 1.68e-04 | 2.80e-04 | 9.95e-05 | 2.38e-04 | 5.42e-05 | 3.43e-06 | 1.33e-05 | 1.55e-04 |\n",
       "| BFTM17_02_BF3.mzXML | SAMPLE | Burkina Faso 3 | Mostly Rural (3)    | 3 | 0.01013732 | 0.031430113 | 0.008880 | 8.88e-03 | 0.008880 | ... | 8.96e-05 | 1.50e-05 | 9.23e-05 | 8.19e-05 | 6.13e-05 | 1.08e-04 | 9.52e-05 | 6.82e-05 | 5.44e-04 | 6.86e-05 |\n",
       "| BFTM20_03_BF3.mzXML | SAMPLE | Burkina Faso 3 | Mostly Rural (3)    | 3 | 0.03754274 | 0.029270045 | 0.001050 | 9.50e-04 | 0.000950 | ... | 3.59e-04 | 1.43e-05 | 3.52e-04 | 3.01e-04 | 0.00e+00 | 5.05e-05 | 1.04e-05 | 8.01e-05 | 8.64e-04 | 2.19e-04 |\n",
       "| BFTM22_03_BF3.mzXML | SAMPLE | Burkina Faso 3 | Mostly Rural (3)    | 3 | 0.01772879 | 0.038147761 | 0.011500 | 1.15e-02 | 0.011500 | ... | 3.59e-05 | 3.52e-06 | 1.37e-04 | 3.35e-05 | 1.81e-04 | 9.61e-05 | 5.05e-05 | 6.50e-05 | 2.45e-05 | 1.14e-04 |\n",
       "| BFTM23_02_BF3.mzXML | SAMPLE | Burkina Faso 3 | Mostly Rural (3)    | 3 | 0.02581445 | 0.043861714 | 0.015200 | 1.52e-02 | 0.015200 | ... | 3.82e-05 | 4.20e-05 | 1.91e-04 | 1.17e-04 | 1.48e-03 | 1.40e-04 | 9.71e-06 | 7.04e-05 | 3.97e-05 | 1.01e-04 |\n",
       "| BFTM25_03_BF3.mzXML | SAMPLE | Burkina Faso 3 | Mostly Rural (3)    | 3 | 0.03637724 | 0.051967484 | 0.026600 | 2.66e-02 | 0.026600 | ... | 1.59e-05 | 3.61e-04 | 1.38e-04 | 4.31e-05 | 1.48e-04 | 7.48e-05 | 2.27e-05 | 2.38e-04 | 2.88e-05 | 1.62e-04 |\n",
       "| BFTM29_01_BF3.mzXML | SAMPLE | Burkina Faso 3 | Mostly Rural (3)    | 3 | 0.02402946 | 0.037921497 | 0.016200 | 1.62e-02 | 0.016200 | ... | 5.63e-05 | 6.55e-06 | 1.42e-04 | 1.78e-05 | 2.16e-04 | 8.11e-05 | 9.18e-05 | 1.12e-04 | 1.24e-05 | 1.61e-04 |\n",
       "| GU1.mzXML           | SAMPLE | Guayabo        | Rural and Urban (2) | 2 | 0.04469370 | 0.030783268 | 0.021800 | 2.18e-02 | 0.021800 | ... | 8.62e-05 | 4.52e-04 | 1.04e-04 | 2.92e-05 | 9.80e-05 | 5.22e-05 | 2.16e-04 | 2.25e-04 | 2.32e-05 | 1.33e-04 |\n",
       "| GU10.mzXML          | SAMPLE | Guayabo        | Rural and Urban (2) | 2 | 0.02865965 | 0.042381540 | 0.021500 | 2.15e-02 | 0.021500 | ... | 2.95e-05 | 3.68e-05 | 1.01e-04 | 1.73e-04 | 1.07e-04 | 7.92e-05 | 8.34e-05 | 1.55e-04 | 4.22e-04 | 1.31e-04 |\n",
       "| GU11.mzXML          | SAMPLE | Guayabo        | Rural and Urban (2) | 2 | 0.03795983 | 0.058726086 | 0.024600 | 4.62e-06 | 0.024600 | ... | 8.66e-05 | 1.13e-03 | 1.93e-04 | 2.46e-04 | 2.65e-06 | 2.10e-04 | 8.11e-05 | 1.47e-04 | 3.10e-05 | 1.77e-04 |\n",
       "| GU12.mzXML          | SAMPLE | Guayabo        | Rural and Urban (2) | 2 | 0.02744713 | 0.041760057 | 0.015900 | 1.59e-02 | 0.015900 | ... | 3.41e-06 | 4.78e-04 | 1.28e-04 | 1.94e-04 | 1.68e-04 | 1.49e-06 | 3.23e-05 | 1.02e-04 | 1.17e-05 | 1.05e-04 |\n",
       "| GU13.mzXML          | SAMPLE | Guayabo        | Rural and Urban (2) | 2 | 0.03212753 | 0.046969053 | 0.021500 | 2.15e-02 | 0.021500 | ... | 1.42e-05 | 3.67e-05 | 1.31e-04 | 1.06e-04 | 1.26e-04 | 1.80e-04 | 1.11e-04 | 1.76e-04 | 4.24e-05 | 1.40e-04 |\n",
       "| GU16.mzXML          | SAMPLE | Guayabo        | Rural and Urban (2) | 2 | 0.03869273 | 0.053924713 | 0.024500 | 2.45e-02 | 0.024500 | ... | 1.44e-04 | 2.84e-05 | 1.52e-04 | 2.05e-04 | 1.91e-05 | 9.96e-05 | 5.20e-06 | 2.54e-04 | 4.15e-04 | 1.46e-04 |\n",
       "| GU17.mzXML          | SAMPLE | Guayabo        | Rural and Urban (2) | 2 | 0.04401630 | 0.044016300 | 0.016400 | 1.64e-02 | 0.016400 | ... | 2.62e-05 | 2.56e-04 | 9.45e-05 | 1.23e-04 | 1.41e-04 | 6.41e-05 | 6.79e-05 | 1.14e-04 | 1.24e-05 | 1.05e-04 |\n",
       "| GU19.mzXML          | SAMPLE | Guayabo        | Rural and Urban (2) | 2 | 0.02118871 | 0.031137069 | 0.014300 | 1.43e-02 | 0.014300 | ... | 1.96e-05 | 3.89e-04 | 8.68e-05 | 8.48e-05 | 5.52e-05 | 1.49e-05 | 2.80e-05 | 1.25e-06 | 2.36e-05 | 8.32e-05 |\n",
       "| GU2.mzXML           | SAMPLE | Guayabo        | Rural and Urban (2) | 2 | 0.04252940 | 0.023936142 | 0.014100 | 1.40e-02 | 0.014000 | ... | 2.20e-05 | 3.01e-05 | 1.40e-04 | 4.92e-05 | 6.82e-05 | 1.13e-04 | 1.25e-06 | 1.02e-04 | 2.54e-05 | 1.03e-04 |\n",
       "| GU20.mzXML          | SAMPLE | Guayabo        | Rural and Urban (2) | 2 | 0.03400965 | 0.046933317 | 0.024100 | 2.41e-02 | 0.024100 | ... | 8.93e-05 | 5.46e-05 | 1.29e-04 | 8.49e-05 | 9.57e-05 | 1.23e-04 | 4.83e-05 | 1.40e-04 | 1.42e-05 | 1.47e-04 |\n",
       "| GU4.mzXML           | SAMPLE | Guayabo        | Rural and Urban (2) | 2 | 0.05040555 | 0.015378510 | 0.000035 | 5.65e-06 | 0.000011 | ... | 2.73e-05 | 3.69e-05 | 2.17e-04 | 2.31e-04 | 4.70e-07 | 5.49e-04 | 3.82e-05 | 7.93e-05 | 3.50e-05 | 6.87e-05 |\n",
       "| GU6.mzXML           | SAMPLE | Guayabo        | Rural and Urban (2) | 2 | 0.02438256 | 0.051044799 | 0.016800 | 1.67e-02 | 0.016700 | ... | 1.03e-05 | 1.16e-04 | 2.41e-04 | 3.77e-05 | 2.20e-05 | 3.74e-04 | 9.28e-06 | 9.39e-05 | 3.39e-05 | 9.59e-05 |\n",
       "| GU7.mzXML           | SAMPLE | Guayabo        | Rural and Urban (2) | 2 | 0.04952482 | 0.031135089 | 0.021800 | 2.18e-02 | 0.021800 | ... | 1.42e-04 | 4.83e-05 | 1.54e-04 | 1.13e-04 | 1.38e-04 | 9.05e-05 | 7.39e-05 | 1.78e-04 | 1.15e-05 | 1.44e-04 |\n",
       "| HCO01.mzXML         | SAMPLE | Tunapuco       | Mostly Rural (3)    | 3 | 0.02865138 | 0.041697997 | 0.023700 | 2.37e-02 | 0.023700 | ... | 4.09e-05 | 5.73e-05 | 7.78e-05 | 8.21e-05 | 6.54e-05 | 1.11e-05 | 2.36e-06 | 2.19e-04 | 2.75e-04 | 1.78e-04 |\n",
       "| HCO03.mzXML         | SAMPLE | Tunapuco       | Mostly Rural (3)    | 3 | 0.02267509 | 0.034944491 | 0.015000 | 1.50e-02 | 0.015000 | ... | 2.42e-04 | 4.10e-04 | 1.12e-04 | 1.08e-04 | 1.33e-04 | 2.39e-04 | 1.05e-04 | 1.04e-04 | 3.77e-04 | 1.14e-04 |\n",
       "| HCO04.mzXML         | SAMPLE | Tunapuco       | Mostly Rural (3)    | 3 | 0.01211474 | 0.024105857 | 0.011400 | 1.14e-02 | 0.011400 | ... | 2.29e-04 | 1.54e-05 | 1.19e-04 | 1.68e-04 | 3.35e-05 | 1.15e-04 | 4.40e-04 | 8.13e-05 | 2.18e-05 | 7.17e-05 |\n",
       "| HCO07.mzXML         | SAMPLE | Tunapuco       | Mostly Rural (3)    | 3 | 0.02363884 | 0.040739270 | 0.017300 | 1.73e-02 | 0.017300 | ... | 8.78e-05 | 1.96e-05 | 1.29e-04 | 9.69e-05 | 7.88e-05 | 9.71e-05 | 2.68e-04 | 1.13e-04 | 3.96e-04 | 1.08e-04 |\n",
       "| HCO09.mzXML         | SAMPLE | Tunapuco       | Mostly Rural (3)    | 3 | 0.03285961 | 0.008850895 | 0.009860 | 9.82e-03 | 0.009820 | ... | 5.18e-04 | 1.59e-04 | 1.80e-04 | 1.22e-04 | 2.88e-05 | 2.17e-04 | 2.63e-04 | 5.07e-05 | 2.65e-05 | 4.88e-05 |\n",
       "| HCO10.mzXML         | SAMPLE | Tunapuco       | Mostly Rural (3)    | 3 | 0.01565327 | 0.030178383 | 0.015200 | 1.52e-02 | 0.015200 | ... | 2.68e-04 | 2.79e-05 | 1.01e-04 | 2.45e-05 | 4.36e-07 | 1.58e-04 | 2.30e-04 | 2.25e-06 | 1.07e-05 | 1.01e-04 |\n",
       "| ... | ... | ... | ... | ... | ... | ... | ... | ... | ... | <!----> | ... | ... | ... | ... | ... | ... | ... | ... | ... | ... |\n",
       "| SM05.mzXML | SAMPLE | Matses        | Isolated Rural (4)  | 4 | 0.02735428 | 0.04005448 | 0.019900 | 1.99e-02 | 1.99e-02 | ... | 5.37e-05 | 8.74e-08 | 8.78e-05 | 4.28e-05 | 0.00e+00 | 1.07e-04 | 6.97e-05 | 2.56e-04 | 1.05e-05 | 1.29e-04 |\n",
       "| SM10.mzXML | SAMPLE | Matses        | Isolated Rural (4)  | 4 | 0.02964765 | 0.04321875 | 0.023400 | 2.34e-02 | 2.34e-02 | ... | 3.83e-07 | 6.81e-05 | 1.06e-04 | 7.67e-05 | 6.47e-05 | 1.89e-05 | 1.87e-04 | 2.49e-04 | 6.82e-06 | 1.35e-04 |\n",
       "| SM11.mzXML | SAMPLE | Matses        | Isolated Rural (4)  | 4 | 0.02331476 | 0.03624055 | 0.017600 | 1.76e-02 | 1.76e-02 | ... | 1.85e-04 | 3.52e-05 | 8.44e-05 | 1.29e-04 | 6.51e-05 | 1.63e-04 | 1.79e-04 | 1.51e-04 | 1.50e-05 | 1.01e-04 |\n",
       "| SM23.mzXML | SAMPLE | Matses        | Isolated Rural (4)  | 4 | 0.01256672 | 0.02453660 | 0.011600 | 1.16e-02 | 1.16e-02 | ... | 2.75e-04 | 3.65e-05 | 6.38e-05 | 2.06e-05 | 3.96e-05 | 1.76e-04 | 2.87e-04 | 5.60e-05 | 1.36e-05 | 5.85e-05 |\n",
       "| SM25.mzXML | SAMPLE | Matses        | Isolated Rural (4)  | 4 | 0.01912891 | 0.03304084 | 0.016600 | 1.65e-02 | 1.65e-02 | ... | 7.51e-05 | 2.65e-05 | 1.10e-04 | 6.61e-05 | 3.10e-07 | 2.40e-05 | 1.53e-04 | 1.29e-04 | 1.01e-05 | 9.46e-05 |\n",
       "| SM28.mzXML | SAMPLE | Matses        | Isolated Rural (4)  | 4 | 0.04586029 | 0.03057353 | 0.017700 | 1.77e-02 | 1.77e-02 | ... | 3.92e-05 | 3.01e-04 | 8.79e-05 | 1.80e-04 | 6.95e-05 | 9.79e-05 | 1.03e-05 | 1.36e-06 | 1.41e-05 | 1.24e-04 |\n",
       "| SM29.mzXML | SAMPLE | Matses        | Isolated Rural (4)  | 4 | 0.04576896 | 0.03219044 | 0.018300 | 1.83e-02 | 1.83e-02 | ... | 2.14e-04 | 3.29e-05 | 5.91e-05 | 1.56e-04 | 2.19e-04 | 6.70e-05 | 7.09e-05 | 1.29e-04 | 1.49e-05 | 1.09e-04 |\n",
       "| SM30.mzXML | SAMPLE | Matses        | Isolated Rural (4)  | 4 | 0.02833626 | 0.01030297 | 0.009300 | 9.30e-03 | 9.30e-03 | ... | 1.29e-04 | 8.35e-05 | 9.63e-05 | 4.26e-05 | 2.27e-05 | 3.44e-04 | 1.79e-04 | 1.01e-04 | 1.80e-05 | 5.69e-05 |\n",
       "| SM33.mzXML | SAMPLE | Matses        | Isolated Rural (4)  | 4 | 0.04589018 | 0.02827577 | 0.021500 | 2.15e-02 | 2.15e-02 | ... | 1.35e-04 | 2.78e-04 | 1.28e-04 | 1.98e-05 | 4.02e-05 | 1.24e-04 | 7.18e-05 | 1.44e-04 | 1.06e-05 | 1.32e-04 |\n",
       "| SM34.mzXML | SAMPLE | Matses        | Isolated Rural (4)  | 4 | 0.04255803 | 0.02136312 | 0.015900 | 1.59e-02 | 1.59e-02 | ... | 5.03e-05 | 1.98e-05 | 1.18e-04 | 1.21e-04 | 3.13e-05 | 4.56e-05 | 1.73e-04 | 5.15e-05 | 2.14e-05 | 1.02e-04 |\n",
       "| SM37.mzXML | SAMPLE | Matses        | Isolated Rural (4)  | 4 | 0.01924973 | 0.03672938 | 0.014900 | 1.49e-02 | 1.49e-02 | ... | 6.93e-05 | 4.89e-05 | 1.11e-04 | 2.43e-04 | 6.44e-05 | 1.00e-04 | 1.44e-04 | 8.34e-05 | 5.40e-04 | 9.71e-05 |\n",
       "| SM39.mzXML | SAMPLE | Matses        | Isolated Rural (4)  | 4 | 0.02981583 | 0.01729318 | 0.015400 | 6.65e-06 | 1.80e-05 | ... | 8.09e-04 | 1.73e-04 | 7.08e-05 | 7.76e-05 | 1.41e-04 | 6.53e-06 | 3.49e-04 | 2.00e-04 | 1.16e-05 | 9.36e-05 |\n",
       "| SM41.mzXML | SAMPLE | Matses        | Isolated Rural (4)  | 4 | 0.04751516 | 0.02717656 | 0.018800 | 1.88e-02 | 1.88e-02 | ... | 5.24e-05 | 2.47e-05 | 1.63e-04 | 2.28e-04 | 4.05e-05 | 1.25e-04 | 1.02e-04 | 1.20e-04 | 2.86e-05 | 1.35e-04 |\n",
       "| TM1.mzXML  | SAMPLE | Tambo de Mora | Rural and Urban (2) | 2 | 0.03800734 | 0.05277942 | 0.029900 | 2.99e-02 | 2.99e-02 | ... | 5.74e-05 | 1.86e-05 | 2.51e-04 | 1.75e-04 | 8.48e-05 | 2.02e-04 | 2.77e-04 | 5.65e-06 | 2.69e-05 | 1.75e-04 |\n",
       "| TM10.mzXML | SAMPLE | Tambo de Mora | Rural and Urban (2) | 2 | 0.04397351 | 0.02852712 | 0.020600 | 2.06e-02 | 2.06e-02 | ... | 1.26e-04 | 3.09e-05 | 1.13e-04 | 1.82e-04 | 1.10e-04 | 1.31e-04 | 5.40e-05 | 9.80e-06 | 3.37e-04 | 1.70e-04 |\n",
       "| TM11.mzXML | SAMPLE | Tambo de Mora | Rural and Urban (2) | 2 | 0.03766601 | 0.02225719 | 0.014600 | 1.46e-02 | 1.46e-02 | ... | 4.76e-05 | 2.29e-04 | 7.56e-05 | 1.99e-04 | 2.10e-04 | 9.12e-05 | 1.02e-04 | 1.31e-04 | 3.84e-04 | 9.23e-05 |\n",
       "| TM14.mzXML | SAMPLE | Tambo de Mora | Rural and Urban (2) | 2 | 0.02743294 | 0.03657725 | 0.018900 | 1.43e-05 | 1.89e-02 | ... | 2.94e-05 | 9.50e-05 | 7.40e-07 | 6.47e-05 | 2.69e-04 | 1.27e-04 | 2.39e-05 | 2.08e-06 | 9.08e-06 | 1.34e-04 |\n",
       "| TM16.mzXML | SAMPLE | Tambo de Mora | Rural and Urban (2) | 2 | 0.02258360 | 0.03168446 | 0.017100 | 1.71e-02 | 1.71e-02 | ... | 1.78e-04 | 1.28e-03 | 1.09e-04 | 1.12e-04 | 8.38e-05 | 1.11e-04 | 6.64e-05 | 1.18e-04 | 1.44e-05 | 1.18e-04 |\n",
       "| TM17.mzXML | SAMPLE | Tambo de Mora | Rural and Urban (2) | 2 | 0.05690301 | 0.04016683 | 0.027500 | 2.75e-02 | 2.75e-02 | ... | 1.54e-04 | 3.18e-05 | 1.58e-04 | 2.22e-05 | 5.08e-06 | 1.51e-05 | 8.19e-05 | 2.91e-04 | 2.48e-04 | 1.58e-04 |\n",
       "| TM18.mzXML | SAMPLE | Tambo de Mora | Rural and Urban (2) | 2 | 0.02571563 | 0.04220001 | 0.015500 | 1.48e-02 | 1.55e-02 | ... | 5.65e-05 | 7.78e-05 | 9.50e-05 | 2.46e-04 | 2.42e-04 | 1.52e-04 | 5.01e-05 | 9.76e-05 | 2.44e-05 | 1.05e-04 |\n",
       "| TM2.mzXML  | SAMPLE | Tambo de Mora | Rural and Urban (2) | 2 | 0.05108154 | 0.03482135 | 0.028400 | 2.84e-02 | 2.84e-02 | ... | 8.54e-05 | 2.24e-04 | 1.44e-04 | 1.90e-05 | 1.29e-04 | 7.06e-05 | 2.47e-04 | 3.28e-04 | 3.57e-04 | 1.76e-04 |\n",
       "| TM23.mzXML | SAMPLE | Tambo de Mora | Rural and Urban (2) | 2 | 0.02250282 | 0.02109639 | 0.016800 | 1.60e-02 | 1.60e-02 | ... | 4.36e-05 | 9.22e-07 | 1.21e-04 | 1.33e-04 | 3.19e-06 | 4.40e-05 | 4.12e-05 | 1.58e-06 | 4.76e-04 | 1.02e-04 |\n",
       "| TM24.mzXML | SAMPLE | Tambo de Mora | Rural and Urban (2) | 2 | 0.03397229 | 0.01186495 | 0.010500 | 1.07e-02 | 1.05e-02 | ... | 5.50e-05 | 2.51e-07 | 1.34e-04 | 5.37e-05 | 1.17e-06 | 8.19e-04 | 7.71e-05 | 1.25e-04 | 2.34e-05 | 7.66e-05 |\n",
       "| TM26.mzXML | SAMPLE | Tambo de Mora | Rural and Urban (2) | 2 | 0.03906053 | 0.05290237 | 0.025600 | 2.56e-02 | 2.56e-02 | ... | 2.37e-04 | 3.47e-05 | 1.14e-04 | 1.51e-04 | 1.37e-04 | 1.13e-04 | 1.57e-04 | 1.43e-04 | 1.54e-05 | 1.50e-04 |\n",
       "| TM27.mzXML | SAMPLE | Tambo de Mora | Rural and Urban (2) | 2 | 0.04839889 | 0.03193122 | 0.019700 | 1.97e-02 | 1.97e-02 | ... | 8.33e-05 | 1.07e-04 | 1.49e-04 | 2.35e-04 | 1.24e-04 | 8.60e-05 | 1.44e-04 | 3.47e-06 | 1.29e-05 | 1.35e-04 |\n",
       "| TM28.mzXML | SAMPLE | Tambo de Mora | Rural and Urban (2) | 2 | 0.04086575 | 0.02221420 | 0.016100 | 1.60e-02 | 1.60e-02 | ... | 4.13e-05 | 1.71e-04 | 1.63e-04 | 2.41e-04 | 0.00e+00 | 8.66e-05 | 1.27e-04 | 1.46e-04 | 5.09e-04 | 1.14e-04 |\n",
       "| TM3.mzXML  | SAMPLE | Tambo de Mora | Rural and Urban (2) | 2 | 0.05306844 | 0.03227135 | 0.023700 | 2.37e-02 | 2.37e-02 | ... | 1.06e-04 | 4.20e-05 | 1.36e-04 | 1.24e-04 | 1.65e-04 | 1.46e-04 | 7.19e-05 | 1.81e-04 | 1.78e-05 | 1.48e-04 |\n",
       "| TM31.mzXML | SAMPLE | Tambo de Mora | Rural and Urban (2) | 2 | 0.03541951 | 0.04740599 | 0.029700 | 2.97e-02 | 2.97e-02 | ... | 6.06e-04 | 4.32e-05 | 1.00e-04 | 6.09e-05 | 7.76e-05 | 1.08e-04 | 3.43e-04 | 1.13e-06 | 9.70e-06 | 1.65e-04 |\n",
       "| TM4.mzXML  | SAMPLE | Tambo de Mora | Rural and Urban (2) | 2 | 0.04052655 | 0.05896613 | 0.000074 | 2.86e-02 | 2.86e-02 | ... | 9.32e-05 | 5.65e-05 | 4.78e-05 | 1.51e-04 | 1.43e-04 | 9.85e-05 | 1.75e-04 | 2.37e-04 | 4.70e-05 | 1.49e-04 |\n",
       "| TM6.mzXML  | SAMPLE | Tambo de Mora | Rural and Urban (2) | 2 | 0.04564267 | 0.02760148 | 0.018300 | 1.83e-02 | 1.37e-06 | ... | 2.61e-05 | 7.32e-05 | 1.76e-04 | 1.10e-04 | 2.73e-04 | 2.76e-04 | 3.18e-05 | 5.61e-05 | 3.48e-04 | 8.43e-05 |\n",
       "\n"
      ],
      "text/plain": [
       "    SampleID            ATTRIBUTE_SampleType ATTRIBUTE_Population\n",
       "1   BFTM01_01_BF3.mzXML SAMPLE               Burkina Faso 3      \n",
       "2   BFTM09_02_BF3.mzXML SAMPLE               Burkina Faso 3      \n",
       "3   BFTM10_01_BF3.mzXML SAMPLE               Burkina Faso 3      \n",
       "4   BFTM11_04_BF3.mzXML SAMPLE               Burkina Faso 3      \n",
       "5   BFTM13_01_BF3.mzXML SAMPLE               Burkina Faso 3      \n",
       "6   BFTM17_02_BF3.mzXML SAMPLE               Burkina Faso 3      \n",
       "7   BFTM20_03_BF3.mzXML SAMPLE               Burkina Faso 3      \n",
       "8   BFTM22_03_BF3.mzXML SAMPLE               Burkina Faso 3      \n",
       "9   BFTM23_02_BF3.mzXML SAMPLE               Burkina Faso 3      \n",
       "10  BFTM25_03_BF3.mzXML SAMPLE               Burkina Faso 3      \n",
       "11  BFTM29_01_BF3.mzXML SAMPLE               Burkina Faso 3      \n",
       "12  GU1.mzXML           SAMPLE               Guayabo             \n",
       "13  GU10.mzXML          SAMPLE               Guayabo             \n",
       "14  GU11.mzXML          SAMPLE               Guayabo             \n",
       "15  GU12.mzXML          SAMPLE               Guayabo             \n",
       "16  GU13.mzXML          SAMPLE               Guayabo             \n",
       "17  GU16.mzXML          SAMPLE               Guayabo             \n",
       "18  GU17.mzXML          SAMPLE               Guayabo             \n",
       "19  GU19.mzXML          SAMPLE               Guayabo             \n",
       "20  GU2.mzXML           SAMPLE               Guayabo             \n",
       "21  GU20.mzXML          SAMPLE               Guayabo             \n",
       "22  GU4.mzXML           SAMPLE               Guayabo             \n",
       "23  GU6.mzXML           SAMPLE               Guayabo             \n",
       "24  GU7.mzXML           SAMPLE               Guayabo             \n",
       "25  HCO01.mzXML         SAMPLE               Tunapuco            \n",
       "26  HCO03.mzXML         SAMPLE               Tunapuco            \n",
       "27  HCO04.mzXML         SAMPLE               Tunapuco            \n",
       "28  HCO07.mzXML         SAMPLE               Tunapuco            \n",
       "29  HCO09.mzXML         SAMPLE               Tunapuco            \n",
       "30  HCO10.mzXML         SAMPLE               Tunapuco            \n",
       "... ...                 ...                  ...                 \n",
       "76  SM05.mzXML          SAMPLE               Matses              \n",
       "77  SM10.mzXML          SAMPLE               Matses              \n",
       "78  SM11.mzXML          SAMPLE               Matses              \n",
       "79  SM23.mzXML          SAMPLE               Matses              \n",
       "80  SM25.mzXML          SAMPLE               Matses              \n",
       "81  SM28.mzXML          SAMPLE               Matses              \n",
       "82  SM29.mzXML          SAMPLE               Matses              \n",
       "83  SM30.mzXML          SAMPLE               Matses              \n",
       "84  SM33.mzXML          SAMPLE               Matses              \n",
       "85  SM34.mzXML          SAMPLE               Matses              \n",
       "86  SM37.mzXML          SAMPLE               Matses              \n",
       "87  SM39.mzXML          SAMPLE               Matses              \n",
       "88  SM41.mzXML          SAMPLE               Matses              \n",
       "89  TM1.mzXML           SAMPLE               Tambo de Mora       \n",
       "90  TM10.mzXML          SAMPLE               Tambo de Mora       \n",
       "91  TM11.mzXML          SAMPLE               Tambo de Mora       \n",
       "92  TM14.mzXML          SAMPLE               Tambo de Mora       \n",
       "93  TM16.mzXML          SAMPLE               Tambo de Mora       \n",
       "94  TM17.mzXML          SAMPLE               Tambo de Mora       \n",
       "95  TM18.mzXML          SAMPLE               Tambo de Mora       \n",
       "96  TM2.mzXML           SAMPLE               Tambo de Mora       \n",
       "97  TM23.mzXML          SAMPLE               Tambo de Mora       \n",
       "98  TM24.mzXML          SAMPLE               Tambo de Mora       \n",
       "99  TM26.mzXML          SAMPLE               Tambo de Mora       \n",
       "100 TM27.mzXML          SAMPLE               Tambo de Mora       \n",
       "101 TM28.mzXML          SAMPLE               Tambo de Mora       \n",
       "102 TM3.mzXML           SAMPLE               Tambo de Mora       \n",
       "103 TM31.mzXML          SAMPLE               Tambo de Mora       \n",
       "104 TM4.mzXML           SAMPLE               Tambo de Mora       \n",
       "105 TM6.mzXML           SAMPLE               Tambo de Mora       \n",
       "    ATTRIBUTE_UrbScore  ATTRIBUTE_NumUrbScore\n",
       "1   Mostly Rural (3)    3                    \n",
       "2   Mostly Rural (3)    3                    \n",
       "3   Mostly Rural (3)    3                    \n",
       "4   Mostly Rural (3)    3                    \n",
       "5   Mostly Rural (3)    3                    \n",
       "6   Mostly Rural (3)    3                    \n",
       "7   Mostly Rural (3)    3                    \n",
       "8   Mostly Rural (3)    3                    \n",
       "9   Mostly Rural (3)    3                    \n",
       "10  Mostly Rural (3)    3                    \n",
       "11  Mostly Rural (3)    3                    \n",
       "12  Rural and Urban (2) 2                    \n",
       "13  Rural and Urban (2) 2                    \n",
       "14  Rural and Urban (2) 2                    \n",
       "15  Rural and Urban (2) 2                    \n",
       "16  Rural and Urban (2) 2                    \n",
       "17  Rural and Urban (2) 2                    \n",
       "18  Rural and Urban (2) 2                    \n",
       "19  Rural and Urban (2) 2                    \n",
       "20  Rural and Urban (2) 2                    \n",
       "21  Rural and Urban (2) 2                    \n",
       "22  Rural and Urban (2) 2                    \n",
       "23  Rural and Urban (2) 2                    \n",
       "24  Rural and Urban (2) 2                    \n",
       "25  Mostly Rural (3)    3                    \n",
       "26  Mostly Rural (3)    3                    \n",
       "27  Mostly Rural (3)    3                    \n",
       "28  Mostly Rural (3)    3                    \n",
       "29  Mostly Rural (3)    3                    \n",
       "30  Mostly Rural (3)    3                    \n",
       "... ...                 ...                  \n",
       "76  Isolated Rural (4)  4                    \n",
       "77  Isolated Rural (4)  4                    \n",
       "78  Isolated Rural (4)  4                    \n",
       "79  Isolated Rural (4)  4                    \n",
       "80  Isolated Rural (4)  4                    \n",
       "81  Isolated Rural (4)  4                    \n",
       "82  Isolated Rural (4)  4                    \n",
       "83  Isolated Rural (4)  4                    \n",
       "84  Isolated Rural (4)  4                    \n",
       "85  Isolated Rural (4)  4                    \n",
       "86  Isolated Rural (4)  4                    \n",
       "87  Isolated Rural (4)  4                    \n",
       "88  Isolated Rural (4)  4                    \n",
       "89  Rural and Urban (2) 2                    \n",
       "90  Rural and Urban (2) 2                    \n",
       "91  Rural and Urban (2) 2                    \n",
       "92  Rural and Urban (2) 2                    \n",
       "93  Rural and Urban (2) 2                    \n",
       "94  Rural and Urban (2) 2                    \n",
       "95  Rural and Urban (2) 2                    \n",
       "96  Rural and Urban (2) 2                    \n",
       "97  Rural and Urban (2) 2                    \n",
       "98  Rural and Urban (2) 2                    \n",
       "99  Rural and Urban (2) 2                    \n",
       "100 Rural and Urban (2) 2                    \n",
       "101 Rural and Urban (2) 2                    \n",
       "102 Rural and Urban (2) 2                    \n",
       "103 Rural and Urban (2) 2                    \n",
       "104 Rural and Urban (2) 2                    \n",
       "105 Rural and Urban (2) 2                    \n",
       "    X132.102104639083_0.372004304029303 X132.102110295016_0.384313827838827\n",
       "1   0.04263579                          0.062863007                        \n",
       "2   0.06025735                          0.038198858                        \n",
       "3   0.03933848                          0.044776452                        \n",
       "4   0.05825590                          0.058255902                        \n",
       "5   0.03172320                          0.055187110                        \n",
       "6   0.01013732                          0.031430113                        \n",
       "7   0.03754274                          0.029270045                        \n",
       "8   0.01772879                          0.038147761                        \n",
       "9   0.02581445                          0.043861714                        \n",
       "10  0.03637724                          0.051967484                        \n",
       "11  0.02402946                          0.037921497                        \n",
       "12  0.04469370                          0.030783268                        \n",
       "13  0.02865965                          0.042381540                        \n",
       "14  0.03795983                          0.058726086                        \n",
       "15  0.02744713                          0.041760057                        \n",
       "16  0.03212753                          0.046969053                        \n",
       "17  0.03869273                          0.053924713                        \n",
       "18  0.04401630                          0.044016300                        \n",
       "19  0.02118871                          0.031137069                        \n",
       "20  0.04252940                          0.023936142                        \n",
       "21  0.03400965                          0.046933317                        \n",
       "22  0.05040555                          0.015378510                        \n",
       "23  0.02438256                          0.051044799                        \n",
       "24  0.04952482                          0.031135089                        \n",
       "25  0.02865138                          0.041697997                        \n",
       "26  0.02267509                          0.034944491                        \n",
       "27  0.01211474                          0.024105857                        \n",
       "28  0.02363884                          0.040739270                        \n",
       "29  0.03285961                          0.008850895                        \n",
       "30  0.01565327                          0.030178383                        \n",
       "... ...                                 ...                                \n",
       "76  0.02735428                          0.04005448                         \n",
       "77  0.02964765                          0.04321875                         \n",
       "78  0.02331476                          0.03624055                         \n",
       "79  0.01256672                          0.02453660                         \n",
       "80  0.01912891                          0.03304084                         \n",
       "81  0.04586029                          0.03057353                         \n",
       "82  0.04576896                          0.03219044                         \n",
       "83  0.02833626                          0.01030297                         \n",
       "84  0.04589018                          0.02827577                         \n",
       "85  0.04255803                          0.02136312                         \n",
       "86  0.01924973                          0.03672938                         \n",
       "87  0.02981583                          0.01729318                         \n",
       "88  0.04751516                          0.02717656                         \n",
       "89  0.03800734                          0.05277942                         \n",
       "90  0.04397351                          0.02852712                         \n",
       "91  0.03766601                          0.02225719                         \n",
       "92  0.02743294                          0.03657725                         \n",
       "93  0.02258360                          0.03168446                         \n",
       "94  0.05690301                          0.04016683                         \n",
       "95  0.02571563                          0.04220001                         \n",
       "96  0.05108154                          0.03482135                         \n",
       "97  0.02250282                          0.02109639                         \n",
       "98  0.03397229                          0.01186495                         \n",
       "99  0.03906053                          0.05290237                         \n",
       "100 0.04839889                          0.03193122                         \n",
       "101 0.04086575                          0.02221420                         \n",
       "102 0.05306844                          0.03227135                         \n",
       "103 0.03541951                          0.04740599                         \n",
       "104 0.04052655                          0.05896613                         \n",
       "105 0.04564267                          0.02760148                         \n",
       "    X166.086271660011_0.491805432780847 X166.086283448646_0.502871086556169\n",
       "1   0.015800                            1.57e-02                           \n",
       "2   0.010400                            1.04e-02                           \n",
       "3   0.020000                            2.00e-02                           \n",
       "4   0.027000                            2.70e-02                           \n",
       "5   0.021200                            2.12e-02                           \n",
       "6   0.008880                            8.88e-03                           \n",
       "7   0.001050                            9.50e-04                           \n",
       "8   0.011500                            1.15e-02                           \n",
       "9   0.015200                            1.52e-02                           \n",
       "10  0.026600                            2.66e-02                           \n",
       "11  0.016200                            1.62e-02                           \n",
       "12  0.021800                            2.18e-02                           \n",
       "13  0.021500                            2.15e-02                           \n",
       "14  0.024600                            4.62e-06                           \n",
       "15  0.015900                            1.59e-02                           \n",
       "16  0.021500                            2.15e-02                           \n",
       "17  0.024500                            2.45e-02                           \n",
       "18  0.016400                            1.64e-02                           \n",
       "19  0.014300                            1.43e-02                           \n",
       "20  0.014100                            1.40e-02                           \n",
       "21  0.024100                            2.41e-02                           \n",
       "22  0.000035                            5.65e-06                           \n",
       "23  0.016800                            1.67e-02                           \n",
       "24  0.021800                            2.18e-02                           \n",
       "25  0.023700                            2.37e-02                           \n",
       "26  0.015000                            1.50e-02                           \n",
       "27  0.011400                            1.14e-02                           \n",
       "28  0.017300                            1.73e-02                           \n",
       "29  0.009860                            9.82e-03                           \n",
       "30  0.015200                            1.52e-02                           \n",
       "... ...                                 ...                                \n",
       "76  0.019900                            1.99e-02                           \n",
       "77  0.023400                            2.34e-02                           \n",
       "78  0.017600                            1.76e-02                           \n",
       "79  0.011600                            1.16e-02                           \n",
       "80  0.016600                            1.65e-02                           \n",
       "81  0.017700                            1.77e-02                           \n",
       "82  0.018300                            1.83e-02                           \n",
       "83  0.009300                            9.30e-03                           \n",
       "84  0.021500                            2.15e-02                           \n",
       "85  0.015900                            1.59e-02                           \n",
       "86  0.014900                            1.49e-02                           \n",
       "87  0.015400                            6.65e-06                           \n",
       "88  0.018800                            1.88e-02                           \n",
       "89  0.029900                            2.99e-02                           \n",
       "90  0.020600                            2.06e-02                           \n",
       "91  0.014600                            1.46e-02                           \n",
       "92  0.018900                            1.43e-05                           \n",
       "93  0.017100                            1.71e-02                           \n",
       "94  0.027500                            2.75e-02                           \n",
       "95  0.015500                            1.48e-02                           \n",
       "96  0.028400                            2.84e-02                           \n",
       "97  0.016800                            1.60e-02                           \n",
       "98  0.010500                            1.07e-02                           \n",
       "99  0.025600                            2.56e-02                           \n",
       "100 0.019700                            1.97e-02                           \n",
       "101 0.016100                            1.60e-02                           \n",
       "102 0.023700                            2.37e-02                           \n",
       "103 0.029700                            2.97e-02                           \n",
       "104 0.000074                            2.86e-02                           \n",
       "105 0.018300                            1.83e-02                           \n",
       "    X166.086245860857_0.48930815018315 ... X279.170620199835_2.63969270833333\n",
       "1   0.015700                           ... 7.08e-05                          \n",
       "2   0.010400                           ... 5.42e-05                          \n",
       "3   0.020000                           ... 5.33e-05                          \n",
       "4   0.027000                           ... 2.86e-05                          \n",
       "5   0.021200                           ... 2.44e-04                          \n",
       "6   0.008880                           ... 8.96e-05                          \n",
       "7   0.000950                           ... 3.59e-04                          \n",
       "8   0.011500                           ... 3.59e-05                          \n",
       "9   0.015200                           ... 3.82e-05                          \n",
       "10  0.026600                           ... 1.59e-05                          \n",
       "11  0.016200                           ... 5.63e-05                          \n",
       "12  0.021800                           ... 8.62e-05                          \n",
       "13  0.021500                           ... 2.95e-05                          \n",
       "14  0.024600                           ... 8.66e-05                          \n",
       "15  0.015900                           ... 3.41e-06                          \n",
       "16  0.021500                           ... 1.42e-05                          \n",
       "17  0.024500                           ... 1.44e-04                          \n",
       "18  0.016400                           ... 2.62e-05                          \n",
       "19  0.014300                           ... 1.96e-05                          \n",
       "20  0.014000                           ... 2.20e-05                          \n",
       "21  0.024100                           ... 8.93e-05                          \n",
       "22  0.000011                           ... 2.73e-05                          \n",
       "23  0.016700                           ... 1.03e-05                          \n",
       "24  0.021800                           ... 1.42e-04                          \n",
       "25  0.023700                           ... 4.09e-05                          \n",
       "26  0.015000                           ... 2.42e-04                          \n",
       "27  0.011400                           ... 2.29e-04                          \n",
       "28  0.017300                           ... 8.78e-05                          \n",
       "29  0.009820                           ... 5.18e-04                          \n",
       "30  0.015200                           ... 2.68e-04                          \n",
       "... ...                                    ...                               \n",
       "76  1.99e-02                           ... 5.37e-05                          \n",
       "77  2.34e-02                           ... 3.83e-07                          \n",
       "78  1.76e-02                           ... 1.85e-04                          \n",
       "79  1.16e-02                           ... 2.75e-04                          \n",
       "80  1.65e-02                           ... 7.51e-05                          \n",
       "81  1.77e-02                           ... 3.92e-05                          \n",
       "82  1.83e-02                           ... 2.14e-04                          \n",
       "83  9.30e-03                           ... 1.29e-04                          \n",
       "84  2.15e-02                           ... 1.35e-04                          \n",
       "85  1.59e-02                           ... 5.03e-05                          \n",
       "86  1.49e-02                           ... 6.93e-05                          \n",
       "87  1.80e-05                           ... 8.09e-04                          \n",
       "88  1.88e-02                           ... 5.24e-05                          \n",
       "89  2.99e-02                           ... 5.74e-05                          \n",
       "90  2.06e-02                           ... 1.26e-04                          \n",
       "91  1.46e-02                           ... 4.76e-05                          \n",
       "92  1.89e-02                           ... 2.94e-05                          \n",
       "93  1.71e-02                           ... 1.78e-04                          \n",
       "94  2.75e-02                           ... 1.54e-04                          \n",
       "95  1.55e-02                           ... 5.65e-05                          \n",
       "96  2.84e-02                           ... 8.54e-05                          \n",
       "97  1.60e-02                           ... 4.36e-05                          \n",
       "98  1.05e-02                           ... 5.50e-05                          \n",
       "99  2.56e-02                           ... 2.37e-04                          \n",
       "100 1.97e-02                           ... 8.33e-05                          \n",
       "101 1.60e-02                           ... 4.13e-05                          \n",
       "102 2.37e-02                           ... 1.06e-04                          \n",
       "103 2.97e-02                           ... 6.06e-04                          \n",
       "104 2.86e-02                           ... 9.32e-05                          \n",
       "105 1.37e-06                           ... 2.61e-05                          \n",
       "    X359.293297851946_6.76529208103131 X166.08590120469_9.0352514732965\n",
       "1   2.16e-05                           1.28e-04                        \n",
       "2   2.98e-05                           1.19e-04                        \n",
       "3   2.43e-06                           8.53e-05                        \n",
       "4   2.06e-05                           1.50e-04                        \n",
       "5   1.10e-05                           1.68e-04                        \n",
       "6   1.50e-05                           9.23e-05                        \n",
       "7   1.43e-05                           3.52e-04                        \n",
       "8   3.52e-06                           1.37e-04                        \n",
       "9   4.20e-05                           1.91e-04                        \n",
       "10  3.61e-04                           1.38e-04                        \n",
       "11  6.55e-06                           1.42e-04                        \n",
       "12  4.52e-04                           1.04e-04                        \n",
       "13  3.68e-05                           1.01e-04                        \n",
       "14  1.13e-03                           1.93e-04                        \n",
       "15  4.78e-04                           1.28e-04                        \n",
       "16  3.67e-05                           1.31e-04                        \n",
       "17  2.84e-05                           1.52e-04                        \n",
       "18  2.56e-04                           9.45e-05                        \n",
       "19  3.89e-04                           8.68e-05                        \n",
       "20  3.01e-05                           1.40e-04                        \n",
       "21  5.46e-05                           1.29e-04                        \n",
       "22  3.69e-05                           2.17e-04                        \n",
       "23  1.16e-04                           2.41e-04                        \n",
       "24  4.83e-05                           1.54e-04                        \n",
       "25  5.73e-05                           7.78e-05                        \n",
       "26  4.10e-04                           1.12e-04                        \n",
       "27  1.54e-05                           1.19e-04                        \n",
       "28  1.96e-05                           1.29e-04                        \n",
       "29  1.59e-04                           1.80e-04                        \n",
       "30  2.79e-05                           1.01e-04                        \n",
       "... ...                                ...                             \n",
       "76  8.74e-08                           8.78e-05                        \n",
       "77  6.81e-05                           1.06e-04                        \n",
       "78  3.52e-05                           8.44e-05                        \n",
       "79  3.65e-05                           6.38e-05                        \n",
       "80  2.65e-05                           1.10e-04                        \n",
       "81  3.01e-04                           8.79e-05                        \n",
       "82  3.29e-05                           5.91e-05                        \n",
       "83  8.35e-05                           9.63e-05                        \n",
       "84  2.78e-04                           1.28e-04                        \n",
       "85  1.98e-05                           1.18e-04                        \n",
       "86  4.89e-05                           1.11e-04                        \n",
       "87  1.73e-04                           7.08e-05                        \n",
       "88  2.47e-05                           1.63e-04                        \n",
       "89  1.86e-05                           2.51e-04                        \n",
       "90  3.09e-05                           1.13e-04                        \n",
       "91  2.29e-04                           7.56e-05                        \n",
       "92  9.50e-05                           7.40e-07                        \n",
       "93  1.28e-03                           1.09e-04                        \n",
       "94  3.18e-05                           1.58e-04                        \n",
       "95  7.78e-05                           9.50e-05                        \n",
       "96  2.24e-04                           1.44e-04                        \n",
       "97  9.22e-07                           1.21e-04                        \n",
       "98  2.51e-07                           1.34e-04                        \n",
       "99  3.47e-05                           1.14e-04                        \n",
       "100 1.07e-04                           1.49e-04                        \n",
       "101 1.71e-04                           1.63e-04                        \n",
       "102 4.20e-05                           1.36e-04                        \n",
       "103 4.32e-05                           1.00e-04                        \n",
       "104 5.65e-05                           4.78e-05                        \n",
       "105 7.32e-05                           1.76e-04                        \n",
       "    X158.11764668531_11.4750444751381 X339.191786897288_3.53416406551059\n",
       "1   2.22e-04                          1.30e-04                          \n",
       "2   2.42e-04                          4.90e-04                          \n",
       "3   1.39e-04                          2.30e-04                          \n",
       "4   1.42e-04                          3.00e-04                          \n",
       "5   2.80e-04                          9.95e-05                          \n",
       "6   8.19e-05                          6.13e-05                          \n",
       "7   3.01e-04                          0.00e+00                          \n",
       "8   3.35e-05                          1.81e-04                          \n",
       "9   1.17e-04                          1.48e-03                          \n",
       "10  4.31e-05                          1.48e-04                          \n",
       "11  1.78e-05                          2.16e-04                          \n",
       "12  2.92e-05                          9.80e-05                          \n",
       "13  1.73e-04                          1.07e-04                          \n",
       "14  2.46e-04                          2.65e-06                          \n",
       "15  1.94e-04                          1.68e-04                          \n",
       "16  1.06e-04                          1.26e-04                          \n",
       "17  2.05e-04                          1.91e-05                          \n",
       "18  1.23e-04                          1.41e-04                          \n",
       "19  8.48e-05                          5.52e-05                          \n",
       "20  4.92e-05                          6.82e-05                          \n",
       "21  8.49e-05                          9.57e-05                          \n",
       "22  2.31e-04                          4.70e-07                          \n",
       "23  3.77e-05                          2.20e-05                          \n",
       "24  1.13e-04                          1.38e-04                          \n",
       "25  8.21e-05                          6.54e-05                          \n",
       "26  1.08e-04                          1.33e-04                          \n",
       "27  1.68e-04                          3.35e-05                          \n",
       "28  9.69e-05                          7.88e-05                          \n",
       "29  1.22e-04                          2.88e-05                          \n",
       "30  2.45e-05                          4.36e-07                          \n",
       "... ...                               ...                               \n",
       "76  4.28e-05                          0.00e+00                          \n",
       "77  7.67e-05                          6.47e-05                          \n",
       "78  1.29e-04                          6.51e-05                          \n",
       "79  2.06e-05                          3.96e-05                          \n",
       "80  6.61e-05                          3.10e-07                          \n",
       "81  1.80e-04                          6.95e-05                          \n",
       "82  1.56e-04                          2.19e-04                          \n",
       "83  4.26e-05                          2.27e-05                          \n",
       "84  1.98e-05                          4.02e-05                          \n",
       "85  1.21e-04                          3.13e-05                          \n",
       "86  2.43e-04                          6.44e-05                          \n",
       "87  7.76e-05                          1.41e-04                          \n",
       "88  2.28e-04                          4.05e-05                          \n",
       "89  1.75e-04                          8.48e-05                          \n",
       "90  1.82e-04                          1.10e-04                          \n",
       "91  1.99e-04                          2.10e-04                          \n",
       "92  6.47e-05                          2.69e-04                          \n",
       "93  1.12e-04                          8.38e-05                          \n",
       "94  2.22e-05                          5.08e-06                          \n",
       "95  2.46e-04                          2.42e-04                          \n",
       "96  1.90e-05                          1.29e-04                          \n",
       "97  1.33e-04                          3.19e-06                          \n",
       "98  5.37e-05                          1.17e-06                          \n",
       "99  1.51e-04                          1.37e-04                          \n",
       "100 2.35e-04                          1.24e-04                          \n",
       "101 2.41e-04                          0.00e+00                          \n",
       "102 1.24e-04                          1.65e-04                          \n",
       "103 6.09e-05                          7.76e-05                          \n",
       "104 1.51e-04                          1.43e-04                          \n",
       "105 1.10e-04                          2.73e-04                          \n",
       "    X204.086721316875_1.51949650092081 X302.207888536171_2.18683529962546\n",
       "1   7.65e-05                           4.46e-05                          \n",
       "2   1.59e-05                           6.87e-06                          \n",
       "3   4.95e-05                           3.33e-05                          \n",
       "4   5.65e-05                           2.23e-05                          \n",
       "5   2.38e-04                           5.42e-05                          \n",
       "6   1.08e-04                           9.52e-05                          \n",
       "7   5.05e-05                           1.04e-05                          \n",
       "8   9.61e-05                           5.05e-05                          \n",
       "9   1.40e-04                           9.71e-06                          \n",
       "10  7.48e-05                           2.27e-05                          \n",
       "11  8.11e-05                           9.18e-05                          \n",
       "12  5.22e-05                           2.16e-04                          \n",
       "13  7.92e-05                           8.34e-05                          \n",
       "14  2.10e-04                           8.11e-05                          \n",
       "15  1.49e-06                           3.23e-05                          \n",
       "16  1.80e-04                           1.11e-04                          \n",
       "17  9.96e-05                           5.20e-06                          \n",
       "18  6.41e-05                           6.79e-05                          \n",
       "19  1.49e-05                           2.80e-05                          \n",
       "20  1.13e-04                           1.25e-06                          \n",
       "21  1.23e-04                           4.83e-05                          \n",
       "22  5.49e-04                           3.82e-05                          \n",
       "23  3.74e-04                           9.28e-06                          \n",
       "24  9.05e-05                           7.39e-05                          \n",
       "25  1.11e-05                           2.36e-06                          \n",
       "26  2.39e-04                           1.05e-04                          \n",
       "27  1.15e-04                           4.40e-04                          \n",
       "28  9.71e-05                           2.68e-04                          \n",
       "29  2.17e-04                           2.63e-04                          \n",
       "30  1.58e-04                           2.30e-04                          \n",
       "... ...                                ...                               \n",
       "76  1.07e-04                           6.97e-05                          \n",
       "77  1.89e-05                           1.87e-04                          \n",
       "78  1.63e-04                           1.79e-04                          \n",
       "79  1.76e-04                           2.87e-04                          \n",
       "80  2.40e-05                           1.53e-04                          \n",
       "81  9.79e-05                           1.03e-05                          \n",
       "82  6.70e-05                           7.09e-05                          \n",
       "83  3.44e-04                           1.79e-04                          \n",
       "84  1.24e-04                           7.18e-05                          \n",
       "85  4.56e-05                           1.73e-04                          \n",
       "86  1.00e-04                           1.44e-04                          \n",
       "87  6.53e-06                           3.49e-04                          \n",
       "88  1.25e-04                           1.02e-04                          \n",
       "89  2.02e-04                           2.77e-04                          \n",
       "90  1.31e-04                           5.40e-05                          \n",
       "91  9.12e-05                           1.02e-04                          \n",
       "92  1.27e-04                           2.39e-05                          \n",
       "93  1.11e-04                           6.64e-05                          \n",
       "94  1.51e-05                           8.19e-05                          \n",
       "95  1.52e-04                           5.01e-05                          \n",
       "96  7.06e-05                           2.47e-04                          \n",
       "97  4.40e-05                           4.12e-05                          \n",
       "98  8.19e-04                           7.71e-05                          \n",
       "99  1.13e-04                           1.57e-04                          \n",
       "100 8.60e-05                           1.44e-04                          \n",
       "101 8.66e-05                           1.27e-04                          \n",
       "102 1.46e-04                           7.19e-05                          \n",
       "103 1.08e-04                           3.43e-04                          \n",
       "104 9.85e-05                           1.75e-04                          \n",
       "105 2.76e-04                           3.18e-05                          \n",
       "    X146.060806996069_0.848826979742172 X358.980399177606_10.3429935990338\n",
       "1   1.56e-04                            4.88e-04                          \n",
       "2   8.84e-05                            2.13e-05                          \n",
       "3   3.20e-04                            8.90e-06                          \n",
       "4   2.38e-04                            2.93e-04                          \n",
       "5   3.43e-06                            1.33e-05                          \n",
       "6   6.82e-05                            5.44e-04                          \n",
       "7   8.01e-05                            8.64e-04                          \n",
       "8   6.50e-05                            2.45e-05                          \n",
       "9   7.04e-05                            3.97e-05                          \n",
       "10  2.38e-04                            2.88e-05                          \n",
       "11  1.12e-04                            1.24e-05                          \n",
       "12  2.25e-04                            2.32e-05                          \n",
       "13  1.55e-04                            4.22e-04                          \n",
       "14  1.47e-04                            3.10e-05                          \n",
       "15  1.02e-04                            1.17e-05                          \n",
       "16  1.76e-04                            4.24e-05                          \n",
       "17  2.54e-04                            4.15e-04                          \n",
       "18  1.14e-04                            1.24e-05                          \n",
       "19  1.25e-06                            2.36e-05                          \n",
       "20  1.02e-04                            2.54e-05                          \n",
       "21  1.40e-04                            1.42e-05                          \n",
       "22  7.93e-05                            3.50e-05                          \n",
       "23  9.39e-05                            3.39e-05                          \n",
       "24  1.78e-04                            1.15e-05                          \n",
       "25  2.19e-04                            2.75e-04                          \n",
       "26  1.04e-04                            3.77e-04                          \n",
       "27  8.13e-05                            2.18e-05                          \n",
       "28  1.13e-04                            3.96e-04                          \n",
       "29  5.07e-05                            2.65e-05                          \n",
       "30  2.25e-06                            1.07e-05                          \n",
       "... ...                                 ...                               \n",
       "76  2.56e-04                            1.05e-05                          \n",
       "77  2.49e-04                            6.82e-06                          \n",
       "78  1.51e-04                            1.50e-05                          \n",
       "79  5.60e-05                            1.36e-05                          \n",
       "80  1.29e-04                            1.01e-05                          \n",
       "81  1.36e-06                            1.41e-05                          \n",
       "82  1.29e-04                            1.49e-05                          \n",
       "83  1.01e-04                            1.80e-05                          \n",
       "84  1.44e-04                            1.06e-05                          \n",
       "85  5.15e-05                            2.14e-05                          \n",
       "86  8.34e-05                            5.40e-04                          \n",
       "87  2.00e-04                            1.16e-05                          \n",
       "88  1.20e-04                            2.86e-05                          \n",
       "89  5.65e-06                            2.69e-05                          \n",
       "90  9.80e-06                            3.37e-04                          \n",
       "91  1.31e-04                            3.84e-04                          \n",
       "92  2.08e-06                            9.08e-06                          \n",
       "93  1.18e-04                            1.44e-05                          \n",
       "94  2.91e-04                            2.48e-04                          \n",
       "95  9.76e-05                            2.44e-05                          \n",
       "96  3.28e-04                            3.57e-04                          \n",
       "97  1.58e-06                            4.76e-04                          \n",
       "98  1.25e-04                            2.34e-05                          \n",
       "99  1.43e-04                            1.54e-05                          \n",
       "100 3.47e-06                            1.29e-05                          \n",
       "101 1.46e-04                            5.09e-04                          \n",
       "102 1.81e-04                            1.78e-05                          \n",
       "103 1.13e-06                            9.70e-06                          \n",
       "104 2.37e-04                            4.70e-05                          \n",
       "105 5.61e-05                            3.48e-04                          \n",
       "    X107.049551166471_0.497396630236794\n",
       "1   1.12e-04                           \n",
       "2   1.21e-04                           \n",
       "3   1.30e-04                           \n",
       "4   1.77e-04                           \n",
       "5   1.55e-04                           \n",
       "6   6.86e-05                           \n",
       "7   2.19e-04                           \n",
       "8   1.14e-04                           \n",
       "9   1.01e-04                           \n",
       "10  1.62e-04                           \n",
       "11  1.61e-04                           \n",
       "12  1.33e-04                           \n",
       "13  1.31e-04                           \n",
       "14  1.77e-04                           \n",
       "15  1.05e-04                           \n",
       "16  1.40e-04                           \n",
       "17  1.46e-04                           \n",
       "18  1.05e-04                           \n",
       "19  8.32e-05                           \n",
       "20  1.03e-04                           \n",
       "21  1.47e-04                           \n",
       "22  6.87e-05                           \n",
       "23  9.59e-05                           \n",
       "24  1.44e-04                           \n",
       "25  1.78e-04                           \n",
       "26  1.14e-04                           \n",
       "27  7.17e-05                           \n",
       "28  1.08e-04                           \n",
       "29  4.88e-05                           \n",
       "30  1.01e-04                           \n",
       "... ...                                \n",
       "76  1.29e-04                           \n",
       "77  1.35e-04                           \n",
       "78  1.01e-04                           \n",
       "79  5.85e-05                           \n",
       "80  9.46e-05                           \n",
       "81  1.24e-04                           \n",
       "82  1.09e-04                           \n",
       "83  5.69e-05                           \n",
       "84  1.32e-04                           \n",
       "85  1.02e-04                           \n",
       "86  9.71e-05                           \n",
       "87  9.36e-05                           \n",
       "88  1.35e-04                           \n",
       "89  1.75e-04                           \n",
       "90  1.70e-04                           \n",
       "91  9.23e-05                           \n",
       "92  1.34e-04                           \n",
       "93  1.18e-04                           \n",
       "94  1.58e-04                           \n",
       "95  1.05e-04                           \n",
       "96  1.76e-04                           \n",
       "97  1.02e-04                           \n",
       "98  7.66e-05                           \n",
       "99  1.50e-04                           \n",
       "100 1.35e-04                           \n",
       "101 1.14e-04                           \n",
       "102 1.48e-04                           \n",
       "103 1.65e-04                           \n",
       "104 1.49e-04                           \n",
       "105 8.43e-05                           "
      ]
     },
     "metadata": {},
     "output_type": "display_data"
    },
    {
     "data": {
      "text/html": [
       "<style>\n",
       ".list-inline {list-style: none; margin:0; padding: 0}\n",
       ".list-inline>li {display: inline-block}\n",
       ".list-inline>li:not(:last-child)::after {content: \"\\00b7\"; padding: 0 .5ex}\n",
       "</style>\n",
       "<ol class=list-inline><li>105</li><li>1005</li></ol>\n"
      ],
      "text/latex": [
       "\\begin{enumerate*}\n",
       "\\item 105\n",
       "\\item 1005\n",
       "\\end{enumerate*}\n"
      ],
      "text/markdown": [
       "1. 105\n",
       "2. 1005\n",
       "\n",
       "\n"
      ],
      "text/plain": [
       "[1]  105 1005"
      ]
     },
     "metadata": {},
     "output_type": "display_data"
    },
    {
     "data": {
      "text/html": [
       "<table>\n",
       "<caption>A data.frame: 6 × 1005</caption>\n",
       "<thead>\n",
       "\t<tr><th></th><th scope=col>SampleID</th><th scope=col>ATTRIBUTE_SampleType</th><th scope=col>ATTRIBUTE_Population</th><th scope=col>ATTRIBUTE_UrbScore</th><th scope=col>ATTRIBUTE_NumUrbScore</th><th scope=col>X132.102104639083_0.372004304029303</th><th scope=col>X132.102110295016_0.384313827838827</th><th scope=col>X166.086271660011_0.491805432780847</th><th scope=col>X166.086283448646_0.502871086556169</th><th scope=col>X166.086245860857_0.48930815018315</th><th scope=col>...</th><th scope=col>X279.170620199835_2.63969270833333</th><th scope=col>X359.293297851946_6.76529208103131</th><th scope=col>X166.08590120469_9.0352514732965</th><th scope=col>X158.11764668531_11.4750444751381</th><th scope=col>X339.191786897288_3.53416406551059</th><th scope=col>X204.086721316875_1.51949650092081</th><th scope=col>X302.207888536171_2.18683529962546</th><th scope=col>X146.060806996069_0.848826979742172</th><th scope=col>X358.980399177606_10.3429935990338</th><th scope=col>X107.049551166471_0.497396630236794</th></tr>\n",
       "\t<tr><th></th><th scope=col>&lt;fct&gt;</th><th scope=col>&lt;fct&gt;</th><th scope=col>&lt;fct&gt;</th><th scope=col>&lt;fct&gt;</th><th scope=col>&lt;int&gt;</th><th scope=col>&lt;dbl&gt;</th><th scope=col>&lt;dbl&gt;</th><th scope=col>&lt;dbl&gt;</th><th scope=col>&lt;dbl&gt;</th><th scope=col>&lt;dbl&gt;</th><th scope=col>...</th><th scope=col>&lt;dbl&gt;</th><th scope=col>&lt;dbl&gt;</th><th scope=col>&lt;dbl&gt;</th><th scope=col>&lt;dbl&gt;</th><th scope=col>&lt;dbl&gt;</th><th scope=col>&lt;dbl&gt;</th><th scope=col>&lt;dbl&gt;</th><th scope=col>&lt;dbl&gt;</th><th scope=col>&lt;dbl&gt;</th><th scope=col>&lt;dbl&gt;</th></tr>\n",
       "</thead>\n",
       "<tbody>\n",
       "\t<tr><th scope=row>1</th><td>BFTM01_01_BF3.mzXML</td><td>SAMPLE</td><td>Burkina Faso 3</td><td>Mostly Rural (3)</td><td>3</td><td>0.04263579</td><td>0.06286301</td><td>0.01580</td><td>0.01570</td><td>0.01570</td><td>...</td><td>7.08e-05</td><td>2.16e-05</td><td>1.28e-04</td><td>2.22e-04</td><td>1.30e-04</td><td>7.65e-05</td><td>4.46e-05</td><td>1.56e-04</td><td>4.88e-04</td><td>1.12e-04</td></tr>\n",
       "\t<tr><th scope=row>2</th><td>BFTM09_02_BF3.mzXML</td><td>SAMPLE</td><td>Burkina Faso 3</td><td>Mostly Rural (3)</td><td>3</td><td>0.06025735</td><td>0.03819886</td><td>0.01040</td><td>0.01040</td><td>0.01040</td><td>...</td><td>5.42e-05</td><td>2.98e-05</td><td>1.19e-04</td><td>2.42e-04</td><td>4.90e-04</td><td>1.59e-05</td><td>6.87e-06</td><td>8.84e-05</td><td>2.13e-05</td><td>1.21e-04</td></tr>\n",
       "\t<tr><th scope=row>3</th><td>BFTM10_01_BF3.mzXML</td><td>SAMPLE</td><td>Burkina Faso 3</td><td>Mostly Rural (3)</td><td>3</td><td>0.03933848</td><td>0.04477645</td><td>0.02000</td><td>0.02000</td><td>0.02000</td><td>...</td><td>5.33e-05</td><td>2.43e-06</td><td>8.53e-05</td><td>1.39e-04</td><td>2.30e-04</td><td>4.95e-05</td><td>3.33e-05</td><td>3.20e-04</td><td>8.90e-06</td><td>1.30e-04</td></tr>\n",
       "\t<tr><th scope=row>4</th><td>BFTM11_04_BF3.mzXML</td><td>SAMPLE</td><td>Burkina Faso 3</td><td>Mostly Rural (3)</td><td>3</td><td>0.05825590</td><td>0.05825590</td><td>0.02700</td><td>0.02700</td><td>0.02700</td><td>...</td><td>2.86e-05</td><td>2.06e-05</td><td>1.50e-04</td><td>1.42e-04</td><td>3.00e-04</td><td>5.65e-05</td><td>2.23e-05</td><td>2.38e-04</td><td>2.93e-04</td><td>1.77e-04</td></tr>\n",
       "\t<tr><th scope=row>5</th><td>BFTM13_01_BF3.mzXML</td><td>SAMPLE</td><td>Burkina Faso 3</td><td>Mostly Rural (3)</td><td>3</td><td>0.03172320</td><td>0.05518711</td><td>0.02120</td><td>0.02120</td><td>0.02120</td><td>...</td><td>2.44e-04</td><td>1.10e-05</td><td>1.68e-04</td><td>2.80e-04</td><td>9.95e-05</td><td>2.38e-04</td><td>5.42e-05</td><td>3.43e-06</td><td>1.33e-05</td><td>1.55e-04</td></tr>\n",
       "\t<tr><th scope=row>6</th><td>BFTM17_02_BF3.mzXML</td><td>SAMPLE</td><td>Burkina Faso 3</td><td>Mostly Rural (3)</td><td>3</td><td>0.01013732</td><td>0.03143011</td><td>0.00888</td><td>0.00888</td><td>0.00888</td><td>...</td><td>8.96e-05</td><td>1.50e-05</td><td>9.23e-05</td><td>8.19e-05</td><td>6.13e-05</td><td>1.08e-04</td><td>9.52e-05</td><td>6.82e-05</td><td>5.44e-04</td><td>6.86e-05</td></tr>\n",
       "</tbody>\n",
       "</table>\n"
      ],
      "text/latex": [
       "A data.frame: 6 × 1005\n",
       "\\begin{tabular}{r|lllllllllllllllllllll}\n",
       "  & SampleID & ATTRIBUTE\\_SampleType & ATTRIBUTE\\_Population & ATTRIBUTE\\_UrbScore & ATTRIBUTE\\_NumUrbScore & X132.102104639083\\_0.372004304029303 & X132.102110295016\\_0.384313827838827 & X166.086271660011\\_0.491805432780847 & X166.086283448646\\_0.502871086556169 & X166.086245860857\\_0.48930815018315 & ... & X279.170620199835\\_2.63969270833333 & X359.293297851946\\_6.76529208103131 & X166.08590120469\\_9.0352514732965 & X158.11764668531\\_11.4750444751381 & X339.191786897288\\_3.53416406551059 & X204.086721316875\\_1.51949650092081 & X302.207888536171\\_2.18683529962546 & X146.060806996069\\_0.848826979742172 & X358.980399177606\\_10.3429935990338 & X107.049551166471\\_0.497396630236794\\\\\n",
       "  & <fct> & <fct> & <fct> & <fct> & <int> & <dbl> & <dbl> & <dbl> & <dbl> & <dbl> & ... & <dbl> & <dbl> & <dbl> & <dbl> & <dbl> & <dbl> & <dbl> & <dbl> & <dbl> & <dbl>\\\\\n",
       "\\hline\n",
       "\t1 & BFTM01\\_01\\_BF3.mzXML & SAMPLE & Burkina Faso 3 & Mostly Rural (3) & 3 & 0.04263579 & 0.06286301 & 0.01580 & 0.01570 & 0.01570 & ... & 7.08e-05 & 2.16e-05 & 1.28e-04 & 2.22e-04 & 1.30e-04 & 7.65e-05 & 4.46e-05 & 1.56e-04 & 4.88e-04 & 1.12e-04\\\\\n",
       "\t2 & BFTM09\\_02\\_BF3.mzXML & SAMPLE & Burkina Faso 3 & Mostly Rural (3) & 3 & 0.06025735 & 0.03819886 & 0.01040 & 0.01040 & 0.01040 & ... & 5.42e-05 & 2.98e-05 & 1.19e-04 & 2.42e-04 & 4.90e-04 & 1.59e-05 & 6.87e-06 & 8.84e-05 & 2.13e-05 & 1.21e-04\\\\\n",
       "\t3 & BFTM10\\_01\\_BF3.mzXML & SAMPLE & Burkina Faso 3 & Mostly Rural (3) & 3 & 0.03933848 & 0.04477645 & 0.02000 & 0.02000 & 0.02000 & ... & 5.33e-05 & 2.43e-06 & 8.53e-05 & 1.39e-04 & 2.30e-04 & 4.95e-05 & 3.33e-05 & 3.20e-04 & 8.90e-06 & 1.30e-04\\\\\n",
       "\t4 & BFTM11\\_04\\_BF3.mzXML & SAMPLE & Burkina Faso 3 & Mostly Rural (3) & 3 & 0.05825590 & 0.05825590 & 0.02700 & 0.02700 & 0.02700 & ... & 2.86e-05 & 2.06e-05 & 1.50e-04 & 1.42e-04 & 3.00e-04 & 5.65e-05 & 2.23e-05 & 2.38e-04 & 2.93e-04 & 1.77e-04\\\\\n",
       "\t5 & BFTM13\\_01\\_BF3.mzXML & SAMPLE & Burkina Faso 3 & Mostly Rural (3) & 3 & 0.03172320 & 0.05518711 & 0.02120 & 0.02120 & 0.02120 & ... & 2.44e-04 & 1.10e-05 & 1.68e-04 & 2.80e-04 & 9.95e-05 & 2.38e-04 & 5.42e-05 & 3.43e-06 & 1.33e-05 & 1.55e-04\\\\\n",
       "\t6 & BFTM17\\_02\\_BF3.mzXML & SAMPLE & Burkina Faso 3 & Mostly Rural (3) & 3 & 0.01013732 & 0.03143011 & 0.00888 & 0.00888 & 0.00888 & ... & 8.96e-05 & 1.50e-05 & 9.23e-05 & 8.19e-05 & 6.13e-05 & 1.08e-04 & 9.52e-05 & 6.82e-05 & 5.44e-04 & 6.86e-05\\\\\n",
       "\\end{tabular}\n"
      ],
      "text/markdown": [
       "\n",
       "A data.frame: 6 × 1005\n",
       "\n",
       "| <!--/--> | SampleID &lt;fct&gt; | ATTRIBUTE_SampleType &lt;fct&gt; | ATTRIBUTE_Population &lt;fct&gt; | ATTRIBUTE_UrbScore &lt;fct&gt; | ATTRIBUTE_NumUrbScore &lt;int&gt; | X132.102104639083_0.372004304029303 &lt;dbl&gt; | X132.102110295016_0.384313827838827 &lt;dbl&gt; | X166.086271660011_0.491805432780847 &lt;dbl&gt; | X166.086283448646_0.502871086556169 &lt;dbl&gt; | X166.086245860857_0.48930815018315 &lt;dbl&gt; | ... ... | X279.170620199835_2.63969270833333 &lt;dbl&gt; | X359.293297851946_6.76529208103131 &lt;dbl&gt; | X166.08590120469_9.0352514732965 &lt;dbl&gt; | X158.11764668531_11.4750444751381 &lt;dbl&gt; | X339.191786897288_3.53416406551059 &lt;dbl&gt; | X204.086721316875_1.51949650092081 &lt;dbl&gt; | X302.207888536171_2.18683529962546 &lt;dbl&gt; | X146.060806996069_0.848826979742172 &lt;dbl&gt; | X358.980399177606_10.3429935990338 &lt;dbl&gt; | X107.049551166471_0.497396630236794 &lt;dbl&gt; |\n",
       "|---|---|---|---|---|---|---|---|---|---|---|---|---|---|---|---|---|---|---|---|---|---|\n",
       "| 1 | BFTM01_01_BF3.mzXML | SAMPLE | Burkina Faso 3 | Mostly Rural (3) | 3 | 0.04263579 | 0.06286301 | 0.01580 | 0.01570 | 0.01570 | ... | 7.08e-05 | 2.16e-05 | 1.28e-04 | 2.22e-04 | 1.30e-04 | 7.65e-05 | 4.46e-05 | 1.56e-04 | 4.88e-04 | 1.12e-04 |\n",
       "| 2 | BFTM09_02_BF3.mzXML | SAMPLE | Burkina Faso 3 | Mostly Rural (3) | 3 | 0.06025735 | 0.03819886 | 0.01040 | 0.01040 | 0.01040 | ... | 5.42e-05 | 2.98e-05 | 1.19e-04 | 2.42e-04 | 4.90e-04 | 1.59e-05 | 6.87e-06 | 8.84e-05 | 2.13e-05 | 1.21e-04 |\n",
       "| 3 | BFTM10_01_BF3.mzXML | SAMPLE | Burkina Faso 3 | Mostly Rural (3) | 3 | 0.03933848 | 0.04477645 | 0.02000 | 0.02000 | 0.02000 | ... | 5.33e-05 | 2.43e-06 | 8.53e-05 | 1.39e-04 | 2.30e-04 | 4.95e-05 | 3.33e-05 | 3.20e-04 | 8.90e-06 | 1.30e-04 |\n",
       "| 4 | BFTM11_04_BF3.mzXML | SAMPLE | Burkina Faso 3 | Mostly Rural (3) | 3 | 0.05825590 | 0.05825590 | 0.02700 | 0.02700 | 0.02700 | ... | 2.86e-05 | 2.06e-05 | 1.50e-04 | 1.42e-04 | 3.00e-04 | 5.65e-05 | 2.23e-05 | 2.38e-04 | 2.93e-04 | 1.77e-04 |\n",
       "| 5 | BFTM13_01_BF3.mzXML | SAMPLE | Burkina Faso 3 | Mostly Rural (3) | 3 | 0.03172320 | 0.05518711 | 0.02120 | 0.02120 | 0.02120 | ... | 2.44e-04 | 1.10e-05 | 1.68e-04 | 2.80e-04 | 9.95e-05 | 2.38e-04 | 5.42e-05 | 3.43e-06 | 1.33e-05 | 1.55e-04 |\n",
       "| 6 | BFTM17_02_BF3.mzXML | SAMPLE | Burkina Faso 3 | Mostly Rural (3) | 3 | 0.01013732 | 0.03143011 | 0.00888 | 0.00888 | 0.00888 | ... | 8.96e-05 | 1.50e-05 | 9.23e-05 | 8.19e-05 | 6.13e-05 | 1.08e-04 | 9.52e-05 | 6.82e-05 | 5.44e-04 | 6.86e-05 |\n",
       "\n"
      ],
      "text/plain": [
       "  SampleID            ATTRIBUTE_SampleType ATTRIBUTE_Population\n",
       "1 BFTM01_01_BF3.mzXML SAMPLE               Burkina Faso 3      \n",
       "2 BFTM09_02_BF3.mzXML SAMPLE               Burkina Faso 3      \n",
       "3 BFTM10_01_BF3.mzXML SAMPLE               Burkina Faso 3      \n",
       "4 BFTM11_04_BF3.mzXML SAMPLE               Burkina Faso 3      \n",
       "5 BFTM13_01_BF3.mzXML SAMPLE               Burkina Faso 3      \n",
       "6 BFTM17_02_BF3.mzXML SAMPLE               Burkina Faso 3      \n",
       "  ATTRIBUTE_UrbScore ATTRIBUTE_NumUrbScore X132.102104639083_0.372004304029303\n",
       "1 Mostly Rural (3)   3                     0.04263579                         \n",
       "2 Mostly Rural (3)   3                     0.06025735                         \n",
       "3 Mostly Rural (3)   3                     0.03933848                         \n",
       "4 Mostly Rural (3)   3                     0.05825590                         \n",
       "5 Mostly Rural (3)   3                     0.03172320                         \n",
       "6 Mostly Rural (3)   3                     0.01013732                         \n",
       "  X132.102110295016_0.384313827838827 X166.086271660011_0.491805432780847\n",
       "1 0.06286301                          0.01580                            \n",
       "2 0.03819886                          0.01040                            \n",
       "3 0.04477645                          0.02000                            \n",
       "4 0.05825590                          0.02700                            \n",
       "5 0.05518711                          0.02120                            \n",
       "6 0.03143011                          0.00888                            \n",
       "  X166.086283448646_0.502871086556169 X166.086245860857_0.48930815018315 ...\n",
       "1 0.01570                             0.01570                            ...\n",
       "2 0.01040                             0.01040                            ...\n",
       "3 0.02000                             0.02000                            ...\n",
       "4 0.02700                             0.02700                            ...\n",
       "5 0.02120                             0.02120                            ...\n",
       "6 0.00888                             0.00888                            ...\n",
       "  X279.170620199835_2.63969270833333 X359.293297851946_6.76529208103131\n",
       "1 7.08e-05                           2.16e-05                          \n",
       "2 5.42e-05                           2.98e-05                          \n",
       "3 5.33e-05                           2.43e-06                          \n",
       "4 2.86e-05                           2.06e-05                          \n",
       "5 2.44e-04                           1.10e-05                          \n",
       "6 8.96e-05                           1.50e-05                          \n",
       "  X166.08590120469_9.0352514732965 X158.11764668531_11.4750444751381\n",
       "1 1.28e-04                         2.22e-04                         \n",
       "2 1.19e-04                         2.42e-04                         \n",
       "3 8.53e-05                         1.39e-04                         \n",
       "4 1.50e-04                         1.42e-04                         \n",
       "5 1.68e-04                         2.80e-04                         \n",
       "6 9.23e-05                         8.19e-05                         \n",
       "  X339.191786897288_3.53416406551059 X204.086721316875_1.51949650092081\n",
       "1 1.30e-04                           7.65e-05                          \n",
       "2 4.90e-04                           1.59e-05                          \n",
       "3 2.30e-04                           4.95e-05                          \n",
       "4 3.00e-04                           5.65e-05                          \n",
       "5 9.95e-05                           2.38e-04                          \n",
       "6 6.13e-05                           1.08e-04                          \n",
       "  X302.207888536171_2.18683529962546 X146.060806996069_0.848826979742172\n",
       "1 4.46e-05                           1.56e-04                           \n",
       "2 6.87e-06                           8.84e-05                           \n",
       "3 3.33e-05                           3.20e-04                           \n",
       "4 2.23e-05                           2.38e-04                           \n",
       "5 5.42e-05                           3.43e-06                           \n",
       "6 9.52e-05                           6.82e-05                           \n",
       "  X358.980399177606_10.3429935990338 X107.049551166471_0.497396630236794\n",
       "1 4.88e-04                           1.12e-04                           \n",
       "2 2.13e-05                           1.21e-04                           \n",
       "3 8.90e-06                           1.30e-04                           \n",
       "4 2.93e-04                           1.77e-04                           \n",
       "5 1.33e-05                           1.55e-04                           \n",
       "6 5.44e-04                           6.86e-05                           "
      ]
     },
     "metadata": {},
     "output_type": "display_data"
    },
    {
     "data": {
      "text/plain": [
       "\n",
       " 1  2  3  4 \n",
       "18 30 41 16 "
      ]
     },
     "metadata": {},
     "output_type": "display_data"
    }
   ],
   "source": [
    "###Subsetting to ensure we're working with top 1000 most abundant features.\n",
    "top1000\n",
    "dim(top1000)\n",
    "head(top1000)\n",
    "table(top1000$ATTRIBUTE_NumUrbScore)"
   ]
  },
  {
   "cell_type": "code",
   "execution_count": 9,
   "metadata": {},
   "outputs": [],
   "source": [
    "###Building model using 85% of dataset.\n",
    "split=0.85\n",
    "trainIndex <- createDataPartition(top1000$ATTRIBUTE_UrbScore,p=split,list=FALSE)\n",
    "data_train <- top1000[ trainIndex,]\n",
    "data_test <- top1000[-trainIndex,]"
   ]
  },
  {
   "cell_type": "code",
   "execution_count": 10,
   "metadata": {},
   "outputs": [
    {
     "data": {
      "text/plain": [
       "\n",
       "Call:\n",
       " randomForest(formula = data_train$ATTRIBUTE_UrbScore ~ ., data = data_train[,      6:1005], importance = TRUE, ntree = 5, na.omit = TRUE, strata = top1000$ATTRIBUTE_UrbScore,      sampsize = rep(min(table(top1000$ATTRIBUTE_UrbScore)), nlevels(top1000$ATTRIBUTE_UrbScore))) \n",
       "               Type of random forest: classification\n",
       "                     Number of trees: 5\n",
       "No. of variables tried at each split: 31\n",
       "\n",
       "        OOB estimate of  error rate: 39.53%\n",
       "Confusion matrix:\n",
       "                    Isolated Rural (4) Mostly Rural (3) Rural and Urban (2)\n",
       "Isolated Rural (4)                   9                0                   3\n",
       "Mostly Rural (3)                     3               21                  10\n",
       "Rural and Urban (2)                  3                4                  16\n",
       "Urban (1)                            0                2                   6\n",
       "                    Urban (1) class.error\n",
       "Isolated Rural (4)          0   0.2500000\n",
       "Mostly Rural (3)            1   0.4000000\n",
       "Rural and Urban (2)         2   0.3600000\n",
       "Urban (1)                   6   0.5714286"
      ]
     },
     "metadata": {},
     "output_type": "display_data"
    },
    {
     "data": {
      "text/plain": [
       "\n",
       "Call:\n",
       " randomForest(formula = data_train$ATTRIBUTE_UrbScore ~ ., data = data_train[,      6:1005], importance = TRUE, ntree = 5, na.omit = TRUE, strata = top1000$ATTRIBUTE_UrbScore,      sampsize = rep(min(table(top1000$ATTRIBUTE_UrbScore)), nlevels(top1000$ATTRIBUTE_UrbScore))) \n",
       "               Type of random forest: classification\n",
       "                     Number of trees: 5\n",
       "No. of variables tried at each split: 31\n",
       "\n",
       "        OOB estimate of  error rate: 30.23%\n",
       "Confusion matrix:\n",
       "                    Isolated Rural (4) Mostly Rural (3) Rural and Urban (2)\n",
       "Isolated Rural (4)                   9                1                   2\n",
       "Mostly Rural (3)                     2               24                   8\n",
       "Rural and Urban (2)                  3                4                  18\n",
       "Urban (1)                            0                3                   2\n",
       "                    Urban (1) class.error\n",
       "Isolated Rural (4)          0   0.2500000\n",
       "Mostly Rural (3)            0   0.2941176\n",
       "Rural and Urban (2)         1   0.3076923\n",
       "Urban (1)                   9   0.3571429"
      ]
     },
     "metadata": {},
     "output_type": "display_data"
    },
    {
     "data": {
      "text/plain": [
       "\n",
       "Call:\n",
       " randomForest(formula = data_train$ATTRIBUTE_UrbScore ~ ., data = data_train[,      6:1005], importance = TRUE, ntree = 5, na.omit = TRUE, strata = top1000$ATTRIBUTE_UrbScore,      sampsize = rep(min(table(top1000$ATTRIBUTE_UrbScore)), nlevels(top1000$ATTRIBUTE_UrbScore))) \n",
       "               Type of random forest: classification\n",
       "                     Number of trees: 5\n",
       "No. of variables tried at each split: 31\n",
       "\n",
       "        OOB estimate of  error rate: 45.35%\n",
       "Confusion matrix:\n",
       "                    Isolated Rural (4) Mostly Rural (3) Rural and Urban (2)\n",
       "Isolated Rural (4)                   8                3                   1\n",
       "Mostly Rural (3)                     5               22                   7\n",
       "Rural and Urban (2)                  5                5                  12\n",
       "Urban (1)                            1                3                   6\n",
       "                    Urban (1) class.error\n",
       "Isolated Rural (4)          0   0.3333333\n",
       "Mostly Rural (3)            1   0.3714286\n",
       "Rural and Urban (2)         2   0.5000000\n",
       "Urban (1)                   5   0.6666667"
      ]
     },
     "metadata": {},
     "output_type": "display_data"
    },
    {
     "data": {
      "text/plain": [
       "\n",
       "Call:\n",
       " randomForest(formula = data_train$ATTRIBUTE_UrbScore ~ ., data = data_train[,      6:1005], importance = TRUE, ntree = 5, na.omit = TRUE, strata = top1000$ATTRIBUTE_UrbScore,      sampsize = rep(min(table(top1000$ATTRIBUTE_UrbScore)), nlevels(top1000$ATTRIBUTE_UrbScore))) \n",
       "               Type of random forest: classification\n",
       "                     Number of trees: 5\n",
       "No. of variables tried at each split: 31\n",
       "\n",
       "        OOB estimate of  error rate: 45.12%\n",
       "Confusion matrix:\n",
       "                    Isolated Rural (4) Mostly Rural (3) Rural and Urban (2)\n",
       "Isolated Rural (4)                   4                3                   3\n",
       "Mostly Rural (3)                     1               27                   4\n",
       "Rural and Urban (2)                  1                9                   8\n",
       "Urban (1)                            1                4                   5\n",
       "                    Urban (1) class.error\n",
       "Isolated Rural (4)          2   0.6666667\n",
       "Mostly Rural (3)            3   0.2285714\n",
       "Rural and Urban (2)         1   0.5789474\n",
       "Urban (1)                   6   0.6250000"
      ]
     },
     "metadata": {},
     "output_type": "display_data"
    },
    {
     "data": {
      "text/plain": [
       "\n",
       "Call:\n",
       " randomForest(formula = data_train$ATTRIBUTE_UrbScore ~ ., data = data_train[,      6:1005], importance = TRUE, ntree = 5, na.omit = TRUE, strata = top1000$ATTRIBUTE_UrbScore,      sampsize = rep(min(table(top1000$ATTRIBUTE_UrbScore)), nlevels(top1000$ATTRIBUTE_UrbScore))) \n",
       "               Type of random forest: classification\n",
       "                     Number of trees: 5\n",
       "No. of variables tried at each split: 31\n",
       "\n",
       "        OOB estimate of  error rate: 44.19%\n",
       "Confusion matrix:\n",
       "                    Isolated Rural (4) Mostly Rural (3) Rural and Urban (2)\n",
       "Isolated Rural (4)                   7                2                   2\n",
       "Mostly Rural (3)                     7               21                   6\n",
       "Rural and Urban (2)                  1                5                  14\n",
       "Urban (1)                            2                5                   3\n",
       "                    Urban (1) class.error\n",
       "Isolated Rural (4)          0   0.3636364\n",
       "Mostly Rural (3)            0   0.3823529\n",
       "Rural and Urban (2)         5   0.4400000\n",
       "Urban (1)                   6   0.6250000"
      ]
     },
     "metadata": {},
     "output_type": "display_data"
    },
    {
     "data": {
      "text/plain": [
       "\n",
       "Call:\n",
       " randomForest(formula = data_train$ATTRIBUTE_UrbScore ~ ., data = data_train[,      6:1005], importance = TRUE, ntree = 5, na.omit = TRUE, strata = top1000$ATTRIBUTE_UrbScore,      sampsize = rep(min(table(top1000$ATTRIBUTE_UrbScore)), nlevels(top1000$ATTRIBUTE_UrbScore))) \n",
       "               Type of random forest: classification\n",
       "                     Number of trees: 5\n",
       "No. of variables tried at each split: 31\n",
       "\n",
       "        OOB estimate of  error rate: 40.24%\n",
       "Confusion matrix:\n",
       "                    Isolated Rural (4) Mostly Rural (3) Rural and Urban (2)\n",
       "Isolated Rural (4)                   5                7                   2\n",
       "Mostly Rural (3)                     6               24                   5\n",
       "Rural and Urban (2)                  2                2                  14\n",
       "Urban (1)                            2                2                   5\n",
       "                    Urban (1) class.error\n",
       "Isolated Rural (4)          0   0.6428571\n",
       "Mostly Rural (3)            0   0.3142857\n",
       "Rural and Urban (2)         0   0.2222222\n",
       "Urban (1)                   6   0.6000000"
      ]
     },
     "metadata": {},
     "output_type": "display_data"
    },
    {
     "data": {
      "text/plain": [
       "\n",
       "Call:\n",
       " randomForest(formula = data_train$ATTRIBUTE_UrbScore ~ ., data = data_train[,      6:1005], importance = TRUE, ntree = 5, na.omit = TRUE, strata = top1000$ATTRIBUTE_UrbScore,      sampsize = rep(min(table(top1000$ATTRIBUTE_UrbScore)), nlevels(top1000$ATTRIBUTE_UrbScore))) \n",
       "               Type of random forest: classification\n",
       "                     Number of trees: 5\n",
       "No. of variables tried at each split: 31\n",
       "\n",
       "        OOB estimate of  error rate: 46.59%\n",
       "Confusion matrix:\n",
       "                    Isolated Rural (4) Mostly Rural (3) Rural and Urban (2)\n",
       "Isolated Rural (4)                  10                2                   2\n",
       "Mostly Rural (3)                     7               19                   7\n",
       "Rural and Urban (2)                  5                4                  12\n",
       "Urban (1)                            3                4                   3\n",
       "                    Urban (1) class.error\n",
       "Isolated Rural (4)          0   0.2857143\n",
       "Mostly Rural (3)            1   0.4411765\n",
       "Rural and Urban (2)         3   0.5000000\n",
       "Urban (1)                   6   0.6250000"
      ]
     },
     "metadata": {},
     "output_type": "display_data"
    },
    {
     "data": {
      "text/plain": [
       "\n",
       "Call:\n",
       " randomForest(formula = data_train$ATTRIBUTE_UrbScore ~ ., data = data_train[,      6:1005], importance = TRUE, ntree = 5, na.omit = TRUE, strata = top1000$ATTRIBUTE_UrbScore,      sampsize = rep(min(table(top1000$ATTRIBUTE_UrbScore)), nlevels(top1000$ATTRIBUTE_UrbScore))) \n",
       "               Type of random forest: classification\n",
       "                     Number of trees: 5\n",
       "No. of variables tried at each split: 31\n",
       "\n",
       "        OOB estimate of  error rate: 37.08%\n",
       "Confusion matrix:\n",
       "                    Isolated Rural (4) Mostly Rural (3) Rural and Urban (2)\n",
       "Isolated Rural (4)                  10                2                   1\n",
       "Mostly Rural (3)                     3               20                   9\n",
       "Rural and Urban (2)                  0                4                  20\n",
       "Urban (1)                            2                1                   7\n",
       "                    Urban (1) class.error\n",
       "Isolated Rural (4)          0   0.2307692\n",
       "Mostly Rural (3)            3   0.4285714\n",
       "Rural and Urban (2)         1   0.2000000\n",
       "Urban (1)                   6   0.6250000"
      ]
     },
     "metadata": {},
     "output_type": "display_data"
    },
    {
     "data": {
      "text/plain": [
       "\n",
       "Call:\n",
       " randomForest(formula = data_train$ATTRIBUTE_UrbScore ~ ., data = data_train[,      6:1005], importance = TRUE, ntree = 5, na.omit = TRUE, strata = top1000$ATTRIBUTE_UrbScore,      sampsize = rep(min(table(top1000$ATTRIBUTE_UrbScore)), nlevels(top1000$ATTRIBUTE_UrbScore))) \n",
       "               Type of random forest: classification\n",
       "                     Number of trees: 5\n",
       "No. of variables tried at each split: 31\n",
       "\n",
       "        OOB estimate of  error rate: 44.83%\n",
       "Confusion matrix:\n",
       "                    Isolated Rural (4) Mostly Rural (3) Rural and Urban (2)\n",
       "Isolated Rural (4)                   6                2                   4\n",
       "Mostly Rural (3)                     3               22                   8\n",
       "Rural and Urban (2)                  1                5                  16\n",
       "Urban (1)                            2                3                   6\n",
       "                    Urban (1) class.error\n",
       "Isolated Rural (4)          2   0.5714286\n",
       "Mostly Rural (3)            2   0.3714286\n",
       "Rural and Urban (2)         1   0.3043478\n",
       "Urban (1)                   4   0.7333333"
      ]
     },
     "metadata": {},
     "output_type": "display_data"
    },
    {
     "data": {
      "text/plain": [
       "\n",
       "Call:\n",
       " randomForest(formula = data_train$ATTRIBUTE_UrbScore ~ ., data = data_train[,      6:1005], importance = TRUE, ntree = 5, na.omit = TRUE, strata = top1000$ATTRIBUTE_UrbScore,      sampsize = rep(min(table(top1000$ATTRIBUTE_UrbScore)), nlevels(top1000$ATTRIBUTE_UrbScore))) \n",
       "               Type of random forest: classification\n",
       "                     Number of trees: 5\n",
       "No. of variables tried at each split: 31\n",
       "\n",
       "        OOB estimate of  error rate: 32.94%\n",
       "Confusion matrix:\n",
       "                    Isolated Rural (4) Mostly Rural (3) Rural and Urban (2)\n",
       "Isolated Rural (4)                   8                2                   2\n",
       "Mostly Rural (3)                     4               26                   2\n",
       "Rural and Urban (2)                  3                3                  18\n",
       "Urban (1)                            1                2                   6\n",
       "                    Urban (1) class.error\n",
       "Isolated Rural (4)          0   0.3333333\n",
       "Mostly Rural (3)            2   0.2352941\n",
       "Rural and Urban (2)         1   0.2800000\n",
       "Urban (1)                   5   0.6428571"
      ]
     },
     "metadata": {},
     "output_type": "display_data"
    },
    {
     "data": {
      "text/plain": [
       "\n",
       "Call:\n",
       " randomForest(formula = data_train$ATTRIBUTE_UrbScore ~ ., data = data_train[,      6:1005], importance = TRUE, ntree = 5, na.omit = TRUE, strata = top1000$ATTRIBUTE_UrbScore,      sampsize = rep(min(table(top1000$ATTRIBUTE_UrbScore)), nlevels(top1000$ATTRIBUTE_UrbScore))) \n",
       "               Type of random forest: classification\n",
       "                     Number of trees: 5\n",
       "No. of variables tried at each split: 31\n",
       "\n",
       "        OOB estimate of  error rate: 41.18%\n",
       "Confusion matrix:\n",
       "                    Isolated Rural (4) Mostly Rural (3) Rural and Urban (2)\n",
       "Isolated Rural (4)                   7                4                   1\n",
       "Mostly Rural (3)                     3               26                   4\n",
       "Rural and Urban (2)                  2                6                  12\n",
       "Urban (1)                            1                3                   7\n",
       "                    Urban (1) class.error\n",
       "Isolated Rural (4)          0   0.4166667\n",
       "Mostly Rural (3)            1   0.2352941\n",
       "Rural and Urban (2)         3   0.4782609\n",
       "Urban (1)                   5   0.6875000"
      ]
     },
     "metadata": {},
     "output_type": "display_data"
    },
    {
     "data": {
      "text/plain": [
       "\n",
       "Call:\n",
       " randomForest(formula = data_train$ATTRIBUTE_UrbScore ~ ., data = data_train[,      6:1005], importance = TRUE, ntree = 5, na.omit = TRUE, strata = top1000$ATTRIBUTE_UrbScore,      sampsize = rep(min(table(top1000$ATTRIBUTE_UrbScore)), nlevels(top1000$ATTRIBUTE_UrbScore))) \n",
       "               Type of random forest: classification\n",
       "                     Number of trees: 5\n",
       "No. of variables tried at each split: 31\n",
       "\n",
       "        OOB estimate of  error rate: 31.4%\n",
       "Confusion matrix:\n",
       "                    Isolated Rural (4) Mostly Rural (3) Rural and Urban (2)\n",
       "Isolated Rural (4)                  10                1                   2\n",
       "Mostly Rural (3)                     4               27                   2\n",
       "Rural and Urban (2)                  1                7                  15\n",
       "Urban (1)                            1                4                   4\n",
       "                    Urban (1) class.error\n",
       "Isolated Rural (4)          1   0.2857143\n",
       "Mostly Rural (3)            0   0.1818182\n",
       "Rural and Urban (2)         0   0.3478261\n",
       "Urban (1)                   7   0.5625000"
      ]
     },
     "metadata": {},
     "output_type": "display_data"
    },
    {
     "data": {
      "text/plain": [
       "\n",
       "Call:\n",
       " randomForest(formula = data_train$ATTRIBUTE_UrbScore ~ ., data = data_train[,      6:1005], importance = TRUE, ntree = 5, na.omit = TRUE, strata = top1000$ATTRIBUTE_UrbScore,      sampsize = rep(min(table(top1000$ATTRIBUTE_UrbScore)), nlevels(top1000$ATTRIBUTE_UrbScore))) \n",
       "               Type of random forest: classification\n",
       "                     Number of trees: 5\n",
       "No. of variables tried at each split: 31\n",
       "\n",
       "        OOB estimate of  error rate: 33.72%\n",
       "Confusion matrix:\n",
       "                    Isolated Rural (4) Mostly Rural (3) Rural and Urban (2)\n",
       "Isolated Rural (4)                   8                1                   3\n",
       "Mostly Rural (3)                     5               22                   6\n",
       "Rural and Urban (2)                  2                3                  18\n",
       "Urban (1)                            0                2                   5\n",
       "                    Urban (1) class.error\n",
       "Isolated Rural (4)          0   0.3333333\n",
       "Mostly Rural (3)            2   0.3714286\n",
       "Rural and Urban (2)         0   0.2173913\n",
       "Urban (1)                   9   0.4375000"
      ]
     },
     "metadata": {},
     "output_type": "display_data"
    },
    {
     "data": {
      "text/plain": [
       "\n",
       "Call:\n",
       " randomForest(formula = data_train$ATTRIBUTE_UrbScore ~ ., data = data_train[,      6:1005], importance = TRUE, ntree = 5, na.omit = TRUE, strata = top1000$ATTRIBUTE_UrbScore,      sampsize = rep(min(table(top1000$ATTRIBUTE_UrbScore)), nlevels(top1000$ATTRIBUTE_UrbScore))) \n",
       "               Type of random forest: classification\n",
       "                     Number of trees: 5\n",
       "No. of variables tried at each split: 31\n",
       "\n",
       "        OOB estimate of  error rate: 39.77%\n",
       "Confusion matrix:\n",
       "                    Isolated Rural (4) Mostly Rural (3) Rural and Urban (2)\n",
       "Isolated Rural (4)                   8                2                   2\n",
       "Mostly Rural (3)                     3               25                   6\n",
       "Rural and Urban (2)                  3                6                  14\n",
       "Urban (1)                            1                0                   8\n",
       "                    Urban (1) class.error\n",
       "Isolated Rural (4)          2   0.4285714\n",
       "Mostly Rural (3)            0   0.2647059\n",
       "Rural and Urban (2)         2   0.4400000\n",
       "Urban (1)                   6   0.6000000"
      ]
     },
     "metadata": {},
     "output_type": "display_data"
    },
    {
     "data": {
      "text/plain": [
       "\n",
       "Call:\n",
       " randomForest(formula = data_train$ATTRIBUTE_UrbScore ~ ., data = data_train[,      6:1005], importance = TRUE, ntree = 5, na.omit = TRUE, strata = top1000$ATTRIBUTE_UrbScore,      sampsize = rep(min(table(top1000$ATTRIBUTE_UrbScore)), nlevels(top1000$ATTRIBUTE_UrbScore))) \n",
       "               Type of random forest: classification\n",
       "                     Number of trees: 5\n",
       "No. of variables tried at each split: 31\n",
       "\n",
       "        OOB estimate of  error rate: 40.7%\n",
       "Confusion matrix:\n",
       "                    Isolated Rural (4) Mostly Rural (3) Rural and Urban (2)\n",
       "Isolated Rural (4)                   6                5                   3\n",
       "Mostly Rural (3)                     4               29                   1\n",
       "Rural and Urban (2)                  3                9                   9\n",
       "Urban (1)                            1                3                   5\n",
       "                    Urban (1) class.error\n",
       "Isolated Rural (4)          0   0.5714286\n",
       "Mostly Rural (3)            1   0.1714286\n",
       "Rural and Urban (2)         0   0.5714286\n",
       "Urban (1)                   7   0.5625000"
      ]
     },
     "metadata": {},
     "output_type": "display_data"
    },
    {
     "data": {
      "text/plain": [
       "\n",
       "Call:\n",
       " randomForest(formula = data_train$ATTRIBUTE_UrbScore ~ ., data = data_train[,      6:1005], importance = TRUE, ntree = 5, na.omit = TRUE, strata = top1000$ATTRIBUTE_UrbScore,      sampsize = rep(min(table(top1000$ATTRIBUTE_UrbScore)), nlevels(top1000$ATTRIBUTE_UrbScore))) \n",
       "               Type of random forest: classification\n",
       "                     Number of trees: 5\n",
       "No. of variables tried at each split: 31\n",
       "\n",
       "        OOB estimate of  error rate: 39.53%\n",
       "Confusion matrix:\n",
       "                    Isolated Rural (4) Mostly Rural (3) Rural and Urban (2)\n",
       "Isolated Rural (4)                   7                5                   2\n",
       "Mostly Rural (3)                     4               22                   8\n",
       "Rural and Urban (2)                  1                3                  15\n",
       "Urban (1)                            0                5                   3\n",
       "                    Urban (1) class.error\n",
       "Isolated Rural (4)          0   0.5000000\n",
       "Mostly Rural (3)            0   0.3529412\n",
       "Rural and Urban (2)         3   0.3181818\n",
       "Urban (1)                   8   0.5000000"
      ]
     },
     "metadata": {},
     "output_type": "display_data"
    },
    {
     "data": {
      "text/plain": [
       "\n",
       "Call:\n",
       " randomForest(formula = data_train$ATTRIBUTE_UrbScore ~ ., data = data_train[,      6:1005], importance = TRUE, ntree = 5, na.omit = TRUE, strata = top1000$ATTRIBUTE_UrbScore,      sampsize = rep(min(table(top1000$ATTRIBUTE_UrbScore)), nlevels(top1000$ATTRIBUTE_UrbScore))) \n",
       "               Type of random forest: classification\n",
       "                     Number of trees: 5\n",
       "No. of variables tried at each split: 31\n",
       "\n",
       "        OOB estimate of  error rate: 49.43%\n",
       "Confusion matrix:\n",
       "                    Isolated Rural (4) Mostly Rural (3) Rural and Urban (2)\n",
       "Isolated Rural (4)                  10                2                   1\n",
       "Mostly Rural (3)                     3               19                  10\n",
       "Rural and Urban (2)                  7                1                  12\n",
       "Urban (1)                            3                4                   6\n",
       "                    Urban (1) class.error\n",
       "Isolated Rural (4)          0   0.2307692\n",
       "Mostly Rural (3)            2   0.4411765\n",
       "Rural and Urban (2)         4   0.5000000\n",
       "Urban (1)                   3   0.8125000"
      ]
     },
     "metadata": {},
     "output_type": "display_data"
    },
    {
     "data": {
      "text/plain": [
       "\n",
       "Call:\n",
       " randomForest(formula = data_train$ATTRIBUTE_UrbScore ~ ., data = data_train[,      6:1005], importance = TRUE, ntree = 5, na.omit = TRUE, strata = top1000$ATTRIBUTE_UrbScore,      sampsize = rep(min(table(top1000$ATTRIBUTE_UrbScore)), nlevels(top1000$ATTRIBUTE_UrbScore))) \n",
       "               Type of random forest: classification\n",
       "                     Number of trees: 5\n",
       "No. of variables tried at each split: 31\n",
       "\n",
       "        OOB estimate of  error rate: 46.59%\n",
       "Confusion matrix:\n",
       "                    Isolated Rural (4) Mostly Rural (3) Rural and Urban (2)\n",
       "Isolated Rural (4)                   4                6                   4\n",
       "Mostly Rural (3)                     6               23                   5\n",
       "Rural and Urban (2)                  4                5                  14\n",
       "Urban (1)                            0                1                   7\n",
       "                    Urban (1) class.error\n",
       "Isolated Rural (4)          0   0.7142857\n",
       "Mostly Rural (3)            1   0.3428571\n",
       "Rural and Urban (2)         2   0.4400000\n",
       "Urban (1)                   6   0.5714286"
      ]
     },
     "metadata": {},
     "output_type": "display_data"
    },
    {
     "data": {
      "text/plain": [
       "\n",
       "Call:\n",
       " randomForest(formula = data_train$ATTRIBUTE_UrbScore ~ ., data = data_train[,      6:1005], importance = TRUE, ntree = 5, na.omit = TRUE, strata = top1000$ATTRIBUTE_UrbScore,      sampsize = rep(min(table(top1000$ATTRIBUTE_UrbScore)), nlevels(top1000$ATTRIBUTE_UrbScore))) \n",
       "               Type of random forest: classification\n",
       "                     Number of trees: 5\n",
       "No. of variables tried at each split: 31\n",
       "\n",
       "        OOB estimate of  error rate: 39.77%\n",
       "Confusion matrix:\n",
       "                    Isolated Rural (4) Mostly Rural (3) Rural and Urban (2)\n",
       "Isolated Rural (4)                   6                4                   2\n",
       "Mostly Rural (3)                     3               26                   6\n",
       "Rural and Urban (2)                  3                4                  14\n",
       "Urban (1)                            0                3                   6\n",
       "                    Urban (1) class.error\n",
       "Isolated Rural (4)          1   0.5384615\n",
       "Mostly Rural (3)            0   0.2571429\n",
       "Rural and Urban (2)         3   0.4166667\n",
       "Urban (1)                   7   0.5625000"
      ]
     },
     "metadata": {},
     "output_type": "display_data"
    },
    {
     "data": {
      "text/plain": [
       "\n",
       "Call:\n",
       " randomForest(formula = data_train$ATTRIBUTE_UrbScore ~ ., data = data_train[,      6:1005], importance = TRUE, ntree = 5, na.omit = TRUE, strata = top1000$ATTRIBUTE_UrbScore,      sampsize = rep(min(table(top1000$ATTRIBUTE_UrbScore)), nlevels(top1000$ATTRIBUTE_UrbScore))) \n",
       "               Type of random forest: classification\n",
       "                     Number of trees: 5\n",
       "No. of variables tried at each split: 31\n",
       "\n",
       "        OOB estimate of  error rate: 39.77%\n",
       "Confusion matrix:\n",
       "                    Isolated Rural (4) Mostly Rural (3) Rural and Urban (2)\n",
       "Isolated Rural (4)                   6                3                   1\n",
       "Mostly Rural (3)                     3               23                   7\n",
       "Rural and Urban (2)                  0                8                  16\n",
       "Urban (1)                            1                4                   2\n",
       "                    Urban (1) class.error\n",
       "Isolated Rural (4)          2   0.5000000\n",
       "Mostly Rural (3)            2   0.3428571\n",
       "Rural and Urban (2)         2   0.3846154\n",
       "Urban (1)                   8   0.4666667"
      ]
     },
     "metadata": {},
     "output_type": "display_data"
    }
   ],
   "source": [
    "###Now beginning RF tests. Starting with low number of trees and will gradually increase amount until the model reaches an ideal plateau.\n",
    "rf_5trees_rep1 <- randomForest(data_train$ATTRIBUTE_UrbScore~., data=data_train[,6:1005],importance=TRUE,ntree=5,na.omit=TRUE,strata=top1000$ATTRIBUTE_UrbScore, sampsize=rep(min(table(top1000$ATTRIBUTE_UrbScore)),nlevels(top1000$ATTRIBUTE_UrbScore)))\n",
    "rf_5trees_rep1\n",
    "rf_5trees_rep2 <- randomForest(data_train$ATTRIBUTE_UrbScore~., data=data_train[,6:1005],importance=TRUE,ntree=5,na.omit=TRUE,strata=top1000$ATTRIBUTE_UrbScore, sampsize=rep(min(table(top1000$ATTRIBUTE_UrbScore)),nlevels(top1000$ATTRIBUTE_UrbScore)))\n",
    "rf_5trees_rep2\n",
    "rf_5trees_rep3 <- randomForest(data_train$ATTRIBUTE_UrbScore~., data=data_train[,6:1005],importance=TRUE,ntree=5,na.omit=TRUE,strata=top1000$ATTRIBUTE_UrbScore, sampsize=rep(min(table(top1000$ATTRIBUTE_UrbScore)),nlevels(top1000$ATTRIBUTE_UrbScore)))\n",
    "rf_5trees_rep3\n",
    "rf_5trees_rep4 <- randomForest(data_train$ATTRIBUTE_UrbScore~., data=data_train[,6:1005],importance=TRUE,ntree=5,na.omit=TRUE,strata=top1000$ATTRIBUTE_UrbScore, sampsize=rep(min(table(top1000$ATTRIBUTE_UrbScore)),nlevels(top1000$ATTRIBUTE_UrbScore)))\n",
    "rf_5trees_rep4\n",
    "rf_5trees_rep5 <- randomForest(data_train$ATTRIBUTE_UrbScore~., data=data_train[,6:1005],importance=TRUE,ntree=5,na.omit=TRUE,strata=top1000$ATTRIBUTE_UrbScore, sampsize=rep(min(table(top1000$ATTRIBUTE_UrbScore)),nlevels(top1000$ATTRIBUTE_UrbScore)))\n",
    "rf_5trees_rep5\n",
    "rf_5trees_rep6 <- randomForest(data_train$ATTRIBUTE_UrbScore~., data=data_train[,6:1005],importance=TRUE,ntree=5,na.omit=TRUE,strata=top1000$ATTRIBUTE_UrbScore, sampsize=rep(min(table(top1000$ATTRIBUTE_UrbScore)),nlevels(top1000$ATTRIBUTE_UrbScore)))\n",
    "rf_5trees_rep6\n",
    "rf_5trees_rep7 <- randomForest(data_train$ATTRIBUTE_UrbScore~., data=data_train[,6:1005],importance=TRUE,ntree=5,na.omit=TRUE,strata=top1000$ATTRIBUTE_UrbScore, sampsize=rep(min(table(top1000$ATTRIBUTE_UrbScore)),nlevels(top1000$ATTRIBUTE_UrbScore)))\n",
    "rf_5trees_rep7\n",
    "rf_5trees_rep8 <- randomForest(data_train$ATTRIBUTE_UrbScore~., data=data_train[,6:1005],importance=TRUE,ntree=5,na.omit=TRUE,strata=top1000$ATTRIBUTE_UrbScore, sampsize=rep(min(table(top1000$ATTRIBUTE_UrbScore)),nlevels(top1000$ATTRIBUTE_UrbScore)))\n",
    "rf_5trees_rep8\n",
    "rf_5trees_rep9 <- randomForest(data_train$ATTRIBUTE_UrbScore~., data=data_train[,6:1005],importance=TRUE,ntree=5,na.omit=TRUE,strata=top1000$ATTRIBUTE_UrbScore, sampsize=rep(min(table(top1000$ATTRIBUTE_UrbScore)),nlevels(top1000$ATTRIBUTE_UrbScore)))\n",
    "rf_5trees_rep9\n",
    "rf_5trees_rep10 <- randomForest(data_train$ATTRIBUTE_UrbScore~., data=data_train[,6:1005],importance=TRUE,ntree=5,na.omit=TRUE,strata=top1000$ATTRIBUTE_UrbScore, sampsize=rep(min(table(top1000$ATTRIBUTE_UrbScore)),nlevels(top1000$ATTRIBUTE_UrbScore)))\n",
    "rf_5trees_rep10\n",
    "rf_5trees_rep11 <- randomForest(data_train$ATTRIBUTE_UrbScore~., data=data_train[,6:1005],importance=TRUE,ntree=5,na.omit=TRUE,strata=top1000$ATTRIBUTE_UrbScore, sampsize=rep(min(table(top1000$ATTRIBUTE_UrbScore)),nlevels(top1000$ATTRIBUTE_UrbScore)))\n",
    "rf_5trees_rep11\n",
    "rf_5trees_rep12 <- randomForest(data_train$ATTRIBUTE_UrbScore~., data=data_train[,6:1005],importance=TRUE,ntree=5,na.omit=TRUE,strata=top1000$ATTRIBUTE_UrbScore, sampsize=rep(min(table(top1000$ATTRIBUTE_UrbScore)),nlevels(top1000$ATTRIBUTE_UrbScore)))\n",
    "rf_5trees_rep12\n",
    "rf_5trees_rep13 <- randomForest(data_train$ATTRIBUTE_UrbScore~., data=data_train[,6:1005],importance=TRUE,ntree=5,na.omit=TRUE,strata=top1000$ATTRIBUTE_UrbScore, sampsize=rep(min(table(top1000$ATTRIBUTE_UrbScore)),nlevels(top1000$ATTRIBUTE_UrbScore)))\n",
    "rf_5trees_rep13\n",
    "rf_5trees_rep14 <- randomForest(data_train$ATTRIBUTE_UrbScore~., data=data_train[,6:1005],importance=TRUE,ntree=5,na.omit=TRUE,strata=top1000$ATTRIBUTE_UrbScore, sampsize=rep(min(table(top1000$ATTRIBUTE_UrbScore)),nlevels(top1000$ATTRIBUTE_UrbScore)))\n",
    "rf_5trees_rep14\n",
    "rf_5trees_rep15 <- randomForest(data_train$ATTRIBUTE_UrbScore~., data=data_train[,6:1005],importance=TRUE,ntree=5,na.omit=TRUE,strata=top1000$ATTRIBUTE_UrbScore, sampsize=rep(min(table(top1000$ATTRIBUTE_UrbScore)),nlevels(top1000$ATTRIBUTE_UrbScore)))\n",
    "rf_5trees_rep15\n",
    "rf_5trees_rep16 <- randomForest(data_train$ATTRIBUTE_UrbScore~., data=data_train[,6:1005],importance=TRUE,ntree=5,na.omit=TRUE,strata=top1000$ATTRIBUTE_UrbScore, sampsize=rep(min(table(top1000$ATTRIBUTE_UrbScore)),nlevels(top1000$ATTRIBUTE_UrbScore)))\n",
    "rf_5trees_rep16\n",
    "rf_5trees_rep17 <- randomForest(data_train$ATTRIBUTE_UrbScore~., data=data_train[,6:1005],importance=TRUE,ntree=5,na.omit=TRUE,strata=top1000$ATTRIBUTE_UrbScore, sampsize=rep(min(table(top1000$ATTRIBUTE_UrbScore)),nlevels(top1000$ATTRIBUTE_UrbScore)))\n",
    "rf_5trees_rep17\n",
    "rf_5trees_rep18 <- randomForest(data_train$ATTRIBUTE_UrbScore~., data=data_train[,6:1005],importance=TRUE,ntree=5,na.omit=TRUE,strata=top1000$ATTRIBUTE_UrbScore, sampsize=rep(min(table(top1000$ATTRIBUTE_UrbScore)),nlevels(top1000$ATTRIBUTE_UrbScore)))\n",
    "rf_5trees_rep18\n",
    "rf_5trees_rep19 <- randomForest(data_train$ATTRIBUTE_UrbScore~., data=data_train[,6:1005],importance=TRUE,ntree=5,na.omit=TRUE,strata=top1000$ATTRIBUTE_UrbScore, sampsize=rep(min(table(top1000$ATTRIBUTE_UrbScore)),nlevels(top1000$ATTRIBUTE_UrbScore)))\n",
    "rf_5trees_rep19\n",
    "rf_5trees_rep20 <- randomForest(data_train$ATTRIBUTE_UrbScore~., data=data_train[,6:1005],importance=TRUE,ntree=5,na.omit=TRUE,strata=top1000$ATTRIBUTE_UrbScore, sampsize=rep(min(table(top1000$ATTRIBUTE_UrbScore)),nlevels(top1000$ATTRIBUTE_UrbScore)))\n",
    "rf_5trees_rep20"
   ]
  },
  {
   "cell_type": "code",
   "execution_count": 11,
   "metadata": {
    "scrolled": true
   },
   "outputs": [
    {
     "data": {
      "text/plain": [
       "\n",
       "Call:\n",
       " randomForest(formula = data_train$ATTRIBUTE_UrbScore ~ ., data = data_train[,      6:1005], importance = TRUE, ntree = 10, na.omit = TRUE, strata = top1000$ATTRIBUTE_UrbScore,      sampsize = rep(min(table(top1000$ATTRIBUTE_UrbScore)), nlevels(top1000$ATTRIBUTE_UrbScore))) \n",
       "               Type of random forest: classification\n",
       "                     Number of trees: 10\n",
       "No. of variables tried at each split: 31\n",
       "\n",
       "        OOB estimate of  error rate: 34.44%\n",
       "Confusion matrix:\n",
       "                    Isolated Rural (4) Mostly Rural (3) Rural and Urban (2)\n",
       "Isolated Rural (4)                  10                3                   1\n",
       "Mostly Rural (3)                     3               27                   5\n",
       "Rural and Urban (2)                  1                4                  15\n",
       "Urban (1)                            0                2                   7\n",
       "                    Urban (1) class.error\n",
       "Isolated Rural (4)          0   0.2857143\n",
       "Mostly Rural (3)            0   0.2285714\n",
       "Rural and Urban (2)         5   0.4000000\n",
       "Urban (1)                   7   0.5625000"
      ]
     },
     "metadata": {},
     "output_type": "display_data"
    },
    {
     "data": {
      "text/plain": [
       "\n",
       "Call:\n",
       " randomForest(formula = data_train$ATTRIBUTE_UrbScore ~ ., data = data_train[,      6:1005], importance = TRUE, ntree = 10, na.omit = TRUE, strata = top1000$ATTRIBUTE_UrbScore,      sampsize = rep(min(table(top1000$ATTRIBUTE_UrbScore)), nlevels(top1000$ATTRIBUTE_UrbScore))) \n",
       "               Type of random forest: classification\n",
       "                     Number of trees: 10\n",
       "No. of variables tried at each split: 31\n",
       "\n",
       "        OOB estimate of  error rate: 45.56%\n",
       "Confusion matrix:\n",
       "                    Isolated Rural (4) Mostly Rural (3) Rural and Urban (2)\n",
       "Isolated Rural (4)                   6                3                   3\n",
       "Mostly Rural (3)                     5               21                   9\n",
       "Rural and Urban (2)                  3                6                  17\n",
       "Urban (1)                            1                3                   7\n",
       "                    Urban (1) class.error\n",
       "Isolated Rural (4)          1   0.5384615\n",
       "Mostly Rural (3)            0   0.4000000\n",
       "Rural and Urban (2)         0   0.3461538\n",
       "Urban (1)                   5   0.6875000"
      ]
     },
     "metadata": {},
     "output_type": "display_data"
    },
    {
     "data": {
      "text/plain": [
       "\n",
       "Call:\n",
       " randomForest(formula = data_train$ATTRIBUTE_UrbScore ~ ., data = data_train[,      6:1005], importance = TRUE, ntree = 10, na.omit = TRUE, strata = top1000$ATTRIBUTE_UrbScore,      sampsize = rep(min(table(top1000$ATTRIBUTE_UrbScore)), nlevels(top1000$ATTRIBUTE_UrbScore))) \n",
       "               Type of random forest: classification\n",
       "                     Number of trees: 10\n",
       "No. of variables tried at each split: 31\n",
       "\n",
       "        OOB estimate of  error rate: 29.21%\n",
       "Confusion matrix:\n",
       "                    Isolated Rural (4) Mostly Rural (3) Rural and Urban (2)\n",
       "Isolated Rural (4)                  12                2                   0\n",
       "Mostly Rural (3)                     3               26                   6\n",
       "Rural and Urban (2)                  1                2                  21\n",
       "Urban (1)                            0                4                   8\n",
       "                    Urban (1) class.error\n",
       "Isolated Rural (4)          0   0.1428571\n",
       "Mostly Rural (3)            0   0.2571429\n",
       "Rural and Urban (2)         0   0.1250000\n",
       "Urban (1)                   4   0.7500000"
      ]
     },
     "metadata": {},
     "output_type": "display_data"
    },
    {
     "data": {
      "text/plain": [
       "\n",
       "Call:\n",
       " randomForest(formula = data_train$ATTRIBUTE_UrbScore ~ ., data = data_train[,      6:1005], importance = TRUE, ntree = 10, na.omit = TRUE, strata = top1000$ATTRIBUTE_UrbScore,      sampsize = rep(min(table(top1000$ATTRIBUTE_UrbScore)), nlevels(top1000$ATTRIBUTE_UrbScore))) \n",
       "               Type of random forest: classification\n",
       "                     Number of trees: 10\n",
       "No. of variables tried at each split: 31\n",
       "\n",
       "        OOB estimate of  error rate: 38.46%\n",
       "Confusion matrix:\n",
       "                    Isolated Rural (4) Mostly Rural (3) Rural and Urban (2)\n",
       "Isolated Rural (4)                   9                2                   1\n",
       "Mostly Rural (3)                     4               22                   7\n",
       "Rural and Urban (2)                  3                2                  18\n",
       "Urban (1)                            0                1                   8\n",
       "                    Urban (1) class.error\n",
       "Isolated Rural (4)          2   0.3571429\n",
       "Mostly Rural (3)            2   0.3714286\n",
       "Rural and Urban (2)         3   0.3076923\n",
       "Urban (1)                   7   0.5625000"
      ]
     },
     "metadata": {},
     "output_type": "display_data"
    },
    {
     "data": {
      "text/plain": [
       "\n",
       "Call:\n",
       " randomForest(formula = data_train$ATTRIBUTE_UrbScore ~ ., data = data_train[,      6:1005], importance = TRUE, ntree = 10, na.omit = TRUE, strata = top1000$ATTRIBUTE_UrbScore,      sampsize = rep(min(table(top1000$ATTRIBUTE_UrbScore)), nlevels(top1000$ATTRIBUTE_UrbScore))) \n",
       "               Type of random forest: classification\n",
       "                     Number of trees: 10\n",
       "No. of variables tried at each split: 31\n",
       "\n",
       "        OOB estimate of  error rate: 36.67%\n",
       "Confusion matrix:\n",
       "                    Isolated Rural (4) Mostly Rural (3) Rural and Urban (2)\n",
       "Isolated Rural (4)                  10                2                   2\n",
       "Mostly Rural (3)                     3               25                   5\n",
       "Rural and Urban (2)                  3                5                  14\n",
       "Urban (1)                            0                3                   5\n",
       "                    Urban (1) class.error\n",
       "Isolated Rural (4)          0   0.2857143\n",
       "Mostly Rural (3)            1   0.2647059\n",
       "Rural and Urban (2)         4   0.4615385\n",
       "Urban (1)                   8   0.5000000"
      ]
     },
     "metadata": {},
     "output_type": "display_data"
    },
    {
     "data": {
      "text/plain": [
       "\n",
       "Call:\n",
       " randomForest(formula = data_train$ATTRIBUTE_UrbScore ~ ., data = data_train[,      6:1005], importance = TRUE, ntree = 10, na.omit = TRUE, strata = top1000$ATTRIBUTE_UrbScore,      sampsize = rep(min(table(top1000$ATTRIBUTE_UrbScore)), nlevels(top1000$ATTRIBUTE_UrbScore))) \n",
       "               Type of random forest: classification\n",
       "                     Number of trees: 10\n",
       "No. of variables tried at each split: 31\n",
       "\n",
       "        OOB estimate of  error rate: 37.36%\n",
       "Confusion matrix:\n",
       "                    Isolated Rural (4) Mostly Rural (3) Rural and Urban (2)\n",
       "Isolated Rural (4)                  10                3                   1\n",
       "Mostly Rural (3)                     6               24                   4\n",
       "Rural and Urban (2)                  3                5                  17\n",
       "Urban (1)                            1                0                   9\n",
       "                    Urban (1) class.error\n",
       "Isolated Rural (4)          0   0.2857143\n",
       "Mostly Rural (3)            1   0.3142857\n",
       "Rural and Urban (2)         1   0.3461538\n",
       "Urban (1)                   6   0.6250000"
      ]
     },
     "metadata": {},
     "output_type": "display_data"
    },
    {
     "data": {
      "text/plain": [
       "\n",
       "Call:\n",
       " randomForest(formula = data_train$ATTRIBUTE_UrbScore ~ ., data = data_train[,      6:1005], importance = TRUE, ntree = 10, na.omit = TRUE, strata = top1000$ATTRIBUTE_UrbScore,      sampsize = rep(min(table(top1000$ATTRIBUTE_UrbScore)), nlevels(top1000$ATTRIBUTE_UrbScore))) \n",
       "               Type of random forest: classification\n",
       "                     Number of trees: 10\n",
       "No. of variables tried at each split: 31\n",
       "\n",
       "        OOB estimate of  error rate: 35.16%\n",
       "Confusion matrix:\n",
       "                    Isolated Rural (4) Mostly Rural (3) Rural and Urban (2)\n",
       "Isolated Rural (4)                  11                1                   2\n",
       "Mostly Rural (3)                     4               25                   4\n",
       "Rural and Urban (2)                  2                3                  17\n",
       "Urban (1)                            2                3                   5\n",
       "                    Urban (1) class.error\n",
       "Isolated Rural (4)          0   0.2142857\n",
       "Mostly Rural (3)            2   0.2857143\n",
       "Rural and Urban (2)         4   0.3461538\n",
       "Urban (1)                   6   0.6250000"
      ]
     },
     "metadata": {},
     "output_type": "display_data"
    },
    {
     "data": {
      "text/plain": [
       "\n",
       "Call:\n",
       " randomForest(formula = data_train$ATTRIBUTE_UrbScore ~ ., data = data_train[,      6:1005], importance = TRUE, ntree = 10, na.omit = TRUE, strata = top1000$ATTRIBUTE_UrbScore,      sampsize = rep(min(table(top1000$ATTRIBUTE_UrbScore)), nlevels(top1000$ATTRIBUTE_UrbScore))) \n",
       "               Type of random forest: classification\n",
       "                     Number of trees: 10\n",
       "No. of variables tried at each split: 31\n",
       "\n",
       "        OOB estimate of  error rate: 32.97%\n",
       "Confusion matrix:\n",
       "                    Isolated Rural (4) Mostly Rural (3) Rural and Urban (2)\n",
       "Isolated Rural (4)                   6                5                   2\n",
       "Mostly Rural (3)                     2               29                   2\n",
       "Rural and Urban (2)                  1                2                  20\n",
       "Urban (1)                            2                1                   7\n",
       "                    Urban (1) class.error\n",
       "Isolated Rural (4)          1   0.5714286\n",
       "Mostly Rural (3)            2   0.1714286\n",
       "Rural and Urban (2)         3   0.2307692\n",
       "Urban (1)                   6   0.6250000"
      ]
     },
     "metadata": {},
     "output_type": "display_data"
    },
    {
     "data": {
      "text/plain": [
       "\n",
       "Call:\n",
       " randomForest(formula = data_train$ATTRIBUTE_UrbScore ~ ., data = data_train[,      6:1005], importance = TRUE, ntree = 10, na.omit = TRUE, strata = top1000$ATTRIBUTE_UrbScore,      sampsize = rep(min(table(top1000$ATTRIBUTE_UrbScore)), nlevels(top1000$ATTRIBUTE_UrbScore))) \n",
       "               Type of random forest: classification\n",
       "                     Number of trees: 10\n",
       "No. of variables tried at each split: 31\n",
       "\n",
       "        OOB estimate of  error rate: 26.37%\n",
       "Confusion matrix:\n",
       "                    Isolated Rural (4) Mostly Rural (3) Rural and Urban (2)\n",
       "Isolated Rural (4)                  11                1                   2\n",
       "Mostly Rural (3)                     3               26                   4\n",
       "Rural and Urban (2)                  1                1                  21\n",
       "Urban (1)                            1                1                   5\n",
       "                    Urban (1) class.error\n",
       "Isolated Rural (4)          0   0.2142857\n",
       "Mostly Rural (3)            2   0.2571429\n",
       "Rural and Urban (2)         3   0.1923077\n",
       "Urban (1)                   9   0.4375000"
      ]
     },
     "metadata": {},
     "output_type": "display_data"
    },
    {
     "data": {
      "text/plain": [
       "\n",
       "Call:\n",
       " randomForest(formula = data_train$ATTRIBUTE_UrbScore ~ ., data = data_train[,      6:1005], importance = TRUE, ntree = 10, na.omit = TRUE, strata = top1000$ATTRIBUTE_UrbScore,      sampsize = rep(min(table(top1000$ATTRIBUTE_UrbScore)), nlevels(top1000$ATTRIBUTE_UrbScore))) \n",
       "               Type of random forest: classification\n",
       "                     Number of trees: 10\n",
       "No. of variables tried at each split: 31\n",
       "\n",
       "        OOB estimate of  error rate: 34.07%\n",
       "Confusion matrix:\n",
       "                    Isolated Rural (4) Mostly Rural (3) Rural and Urban (2)\n",
       "Isolated Rural (4)                   9                2                   3\n",
       "Mostly Rural (3)                     2               26                   7\n",
       "Rural and Urban (2)                  1                3                  20\n",
       "Urban (1)                            0                6                   5\n",
       "                    Urban (1) class.error\n",
       "Isolated Rural (4)          0   0.3571429\n",
       "Mostly Rural (3)            0   0.2571429\n",
       "Rural and Urban (2)         2   0.2307692\n",
       "Urban (1)                   5   0.6875000"
      ]
     },
     "metadata": {},
     "output_type": "display_data"
    },
    {
     "data": {
      "text/plain": [
       "\n",
       "Call:\n",
       " randomForest(formula = data_train$ATTRIBUTE_UrbScore ~ ., data = data_train[,      6:1005], importance = TRUE, ntree = 10, na.omit = TRUE, strata = top1000$ATTRIBUTE_UrbScore,      sampsize = rep(min(table(top1000$ATTRIBUTE_UrbScore)), nlevels(top1000$ATTRIBUTE_UrbScore))) \n",
       "               Type of random forest: classification\n",
       "                     Number of trees: 10\n",
       "No. of variables tried at each split: 31\n",
       "\n",
       "        OOB estimate of  error rate: 26.67%\n",
       "Confusion matrix:\n",
       "                    Isolated Rural (4) Mostly Rural (3) Rural and Urban (2)\n",
       "Isolated Rural (4)                   9                3                   2\n",
       "Mostly Rural (3)                     2               25                   7\n",
       "Rural and Urban (2)                  1                2                  21\n",
       "Urban (1)                            0                2                   3\n",
       "                    Urban (1) class.error\n",
       "Isolated Rural (4)          0   0.3571429\n",
       "Mostly Rural (3)            1   0.2857143\n",
       "Rural and Urban (2)         1   0.1600000\n",
       "Urban (1)                  11   0.3125000"
      ]
     },
     "metadata": {},
     "output_type": "display_data"
    },
    {
     "data": {
      "text/plain": [
       "\n",
       "Call:\n",
       " randomForest(formula = data_train$ATTRIBUTE_UrbScore ~ ., data = data_train[,      6:1005], importance = TRUE, ntree = 10, na.omit = TRUE, strata = top1000$ATTRIBUTE_UrbScore,      sampsize = rep(min(table(top1000$ATTRIBUTE_UrbScore)), nlevels(top1000$ATTRIBUTE_UrbScore))) \n",
       "               Type of random forest: classification\n",
       "                     Number of trees: 10\n",
       "No. of variables tried at each split: 31\n",
       "\n",
       "        OOB estimate of  error rate: 34.07%\n",
       "Confusion matrix:\n",
       "                    Isolated Rural (4) Mostly Rural (3) Rural and Urban (2)\n",
       "Isolated Rural (4)                  10                0                   4\n",
       "Mostly Rural (3)                     6               25                   3\n",
       "Rural and Urban (2)                  2                4                  19\n",
       "Urban (1)                            0                4                   6\n",
       "                    Urban (1) class.error\n",
       "Isolated Rural (4)          0   0.2857143\n",
       "Mostly Rural (3)            1   0.2857143\n",
       "Rural and Urban (2)         1   0.2692308\n",
       "Urban (1)                   6   0.6250000"
      ]
     },
     "metadata": {},
     "output_type": "display_data"
    },
    {
     "data": {
      "text/plain": [
       "\n",
       "Call:\n",
       " randomForest(formula = data_train$ATTRIBUTE_UrbScore ~ ., data = data_train[,      6:1005], importance = TRUE, ntree = 10, na.omit = TRUE, strata = top1000$ATTRIBUTE_UrbScore,      sampsize = rep(min(table(top1000$ATTRIBUTE_UrbScore)), nlevels(top1000$ATTRIBUTE_UrbScore))) \n",
       "               Type of random forest: classification\n",
       "                     Number of trees: 10\n",
       "No. of variables tried at each split: 31\n",
       "\n",
       "        OOB estimate of  error rate: 30.77%\n",
       "Confusion matrix:\n",
       "                    Isolated Rural (4) Mostly Rural (3) Rural and Urban (2)\n",
       "Isolated Rural (4)                   9                3                   2\n",
       "Mostly Rural (3)                     4               29                   2\n",
       "Rural and Urban (2)                  4                4                  17\n",
       "Urban (1)                            0                4                   4\n",
       "                    Urban (1) class.error\n",
       "Isolated Rural (4)          0   0.3571429\n",
       "Mostly Rural (3)            0   0.1714286\n",
       "Rural and Urban (2)         1   0.3461538\n",
       "Urban (1)                   8   0.5000000"
      ]
     },
     "metadata": {},
     "output_type": "display_data"
    },
    {
     "data": {
      "text/plain": [
       "\n",
       "Call:\n",
       " randomForest(formula = data_train$ATTRIBUTE_UrbScore ~ ., data = data_train[,      6:1005], importance = TRUE, ntree = 10, na.omit = TRUE, strata = top1000$ATTRIBUTE_UrbScore,      sampsize = rep(min(table(top1000$ATTRIBUTE_UrbScore)), nlevels(top1000$ATTRIBUTE_UrbScore))) \n",
       "               Type of random forest: classification\n",
       "                     Number of trees: 10\n",
       "No. of variables tried at each split: 31\n",
       "\n",
       "        OOB estimate of  error rate: 32.97%\n",
       "Confusion matrix:\n",
       "                    Isolated Rural (4) Mostly Rural (3) Rural and Urban (2)\n",
       "Isolated Rural (4)                   9                2                   3\n",
       "Mostly Rural (3)                     3               27                   5\n",
       "Rural and Urban (2)                  2                4                  18\n",
       "Urban (1)                            3                1                   5\n",
       "                    Urban (1) class.error\n",
       "Isolated Rural (4)          0   0.3571429\n",
       "Mostly Rural (3)            0   0.2285714\n",
       "Rural and Urban (2)         2   0.3076923\n",
       "Urban (1)                   7   0.5625000"
      ]
     },
     "metadata": {},
     "output_type": "display_data"
    },
    {
     "data": {
      "text/plain": [
       "\n",
       "Call:\n",
       " randomForest(formula = data_train$ATTRIBUTE_UrbScore ~ ., data = data_train[,      6:1005], importance = TRUE, ntree = 10, na.omit = TRUE, strata = top1000$ATTRIBUTE_UrbScore,      sampsize = rep(min(table(top1000$ATTRIBUTE_UrbScore)), nlevels(top1000$ATTRIBUTE_UrbScore))) \n",
       "               Type of random forest: classification\n",
       "                     Number of trees: 10\n",
       "No. of variables tried at each split: 31\n",
       "\n",
       "        OOB estimate of  error rate: 27.78%\n",
       "Confusion matrix:\n",
       "                    Isolated Rural (4) Mostly Rural (3) Rural and Urban (2)\n",
       "Isolated Rural (4)                  12                0                   2\n",
       "Mostly Rural (3)                     1               28                   4\n",
       "Rural and Urban (2)                  0                3                  20\n",
       "Urban (1)                            1                4                   6\n",
       "                    Urban (1) class.error\n",
       "Isolated Rural (4)          0   0.1428571\n",
       "Mostly Rural (3)            2   0.2000000\n",
       "Rural and Urban (2)         2   0.2000000\n",
       "Urban (1)                   5   0.6875000"
      ]
     },
     "metadata": {},
     "output_type": "display_data"
    },
    {
     "data": {
      "text/plain": [
       "\n",
       "Call:\n",
       " randomForest(formula = data_train$ATTRIBUTE_UrbScore ~ ., data = data_train[,      6:1005], importance = TRUE, ntree = 10, na.omit = TRUE, strata = top1000$ATTRIBUTE_UrbScore,      sampsize = rep(min(table(top1000$ATTRIBUTE_UrbScore)), nlevels(top1000$ATTRIBUTE_UrbScore))) \n",
       "               Type of random forest: classification\n",
       "                     Number of trees: 10\n",
       "No. of variables tried at each split: 31\n",
       "\n",
       "        OOB estimate of  error rate: 29.67%\n",
       "Confusion matrix:\n",
       "                    Isolated Rural (4) Mostly Rural (3) Rural and Urban (2)\n",
       "Isolated Rural (4)                  12                2                   0\n",
       "Mostly Rural (3)                     6               25                   3\n",
       "Rural and Urban (2)                  1                2                  21\n",
       "Urban (1)                            0                4                   6\n",
       "                    Urban (1) class.error\n",
       "Isolated Rural (4)          0   0.1428571\n",
       "Mostly Rural (3)            1   0.2857143\n",
       "Rural and Urban (2)         2   0.1923077\n",
       "Urban (1)                   6   0.6250000"
      ]
     },
     "metadata": {},
     "output_type": "display_data"
    },
    {
     "data": {
      "text/plain": [
       "\n",
       "Call:\n",
       " randomForest(formula = data_train$ATTRIBUTE_UrbScore ~ ., data = data_train[,      6:1005], importance = TRUE, ntree = 10, na.omit = TRUE, strata = top1000$ATTRIBUTE_UrbScore,      sampsize = rep(min(table(top1000$ATTRIBUTE_UrbScore)), nlevels(top1000$ATTRIBUTE_UrbScore))) \n",
       "               Type of random forest: classification\n",
       "                     Number of trees: 10\n",
       "No. of variables tried at each split: 31\n",
       "\n",
       "        OOB estimate of  error rate: 34.07%\n",
       "Confusion matrix:\n",
       "                    Isolated Rural (4) Mostly Rural (3) Rural and Urban (2)\n",
       "Isolated Rural (4)                  10                1                   3\n",
       "Mostly Rural (3)                     3               22                  10\n",
       "Rural and Urban (2)                  3                1                  19\n",
       "Urban (1)                            2                1                   4\n",
       "                    Urban (1) class.error\n",
       "Isolated Rural (4)          0   0.2857143\n",
       "Mostly Rural (3)            0   0.3714286\n",
       "Rural and Urban (2)         3   0.2692308\n",
       "Urban (1)                   9   0.4375000"
      ]
     },
     "metadata": {},
     "output_type": "display_data"
    },
    {
     "data": {
      "text/plain": [
       "\n",
       "Call:\n",
       " randomForest(formula = data_train$ATTRIBUTE_UrbScore ~ ., data = data_train[,      6:1005], importance = TRUE, ntree = 10, na.omit = TRUE, strata = top1000$ATTRIBUTE_UrbScore,      sampsize = rep(min(table(top1000$ATTRIBUTE_UrbScore)), nlevels(top1000$ATTRIBUTE_UrbScore))) \n",
       "               Type of random forest: classification\n",
       "                     Number of trees: 10\n",
       "No. of variables tried at each split: 31\n",
       "\n",
       "        OOB estimate of  error rate: 43.96%\n",
       "Confusion matrix:\n",
       "                    Isolated Rural (4) Mostly Rural (3) Rural and Urban (2)\n",
       "Isolated Rural (4)                   4                7                   3\n",
       "Mostly Rural (3)                     4               24                   7\n",
       "Rural and Urban (2)                  1                5                  18\n",
       "Urban (1)                            1                2                   8\n",
       "                    Urban (1) class.error\n",
       "Isolated Rural (4)          0   0.7142857\n",
       "Mostly Rural (3)            0   0.3142857\n",
       "Rural and Urban (2)         2   0.3076923\n",
       "Urban (1)                   5   0.6875000"
      ]
     },
     "metadata": {},
     "output_type": "display_data"
    },
    {
     "data": {
      "text/plain": [
       "\n",
       "Call:\n",
       " randomForest(formula = data_train$ATTRIBUTE_UrbScore ~ ., data = data_train[,      6:1005], importance = TRUE, ntree = 10, na.omit = TRUE, strata = top1000$ATTRIBUTE_UrbScore,      sampsize = rep(min(table(top1000$ATTRIBUTE_UrbScore)), nlevels(top1000$ATTRIBUTE_UrbScore))) \n",
       "               Type of random forest: classification\n",
       "                     Number of trees: 10\n",
       "No. of variables tried at each split: 31\n",
       "\n",
       "        OOB estimate of  error rate: 40.66%\n",
       "Confusion matrix:\n",
       "                    Isolated Rural (4) Mostly Rural (3) Rural and Urban (2)\n",
       "Isolated Rural (4)                   8                3                   3\n",
       "Mostly Rural (3)                     6               24                   4\n",
       "Rural and Urban (2)                  1                5                  14\n",
       "Urban (1)                            0                4                   4\n",
       "                    Urban (1) class.error\n",
       "Isolated Rural (4)          0   0.4285714\n",
       "Mostly Rural (3)            1   0.3142857\n",
       "Rural and Urban (2)         6   0.4615385\n",
       "Urban (1)                   8   0.5000000"
      ]
     },
     "metadata": {},
     "output_type": "display_data"
    },
    {
     "data": {
      "text/plain": [
       "\n",
       "Call:\n",
       " randomForest(formula = data_train$ATTRIBUTE_UrbScore ~ ., data = data_train[,      6:1005], importance = TRUE, ntree = 10, na.omit = TRUE, strata = top1000$ATTRIBUTE_UrbScore,      sampsize = rep(min(table(top1000$ATTRIBUTE_UrbScore)), nlevels(top1000$ATTRIBUTE_UrbScore))) \n",
       "               Type of random forest: classification\n",
       "                     Number of trees: 10\n",
       "No. of variables tried at each split: 31\n",
       "\n",
       "        OOB estimate of  error rate: 27.47%\n",
       "Confusion matrix:\n",
       "                    Isolated Rural (4) Mostly Rural (3) Rural and Urban (2)\n",
       "Isolated Rural (4)                  12                0                   2\n",
       "Mostly Rural (3)                     1               29                   4\n",
       "Rural and Urban (2)                  3                4                  16\n",
       "Urban (1)                            0                2                   5\n",
       "                    Urban (1) class.error\n",
       "Isolated Rural (4)          0   0.1428571\n",
       "Mostly Rural (3)            1   0.1714286\n",
       "Rural and Urban (2)         3   0.3846154\n",
       "Urban (1)                   9   0.4375000"
      ]
     },
     "metadata": {},
     "output_type": "display_data"
    }
   ],
   "source": [
    "rf_10trees_rep1 <- randomForest(data_train$ATTRIBUTE_UrbScore~., data=data_train[,6:1005],importance=TRUE,ntree=10,na.omit=TRUE,strata=top1000$ATTRIBUTE_UrbScore, sampsize=rep(min(table(top1000$ATTRIBUTE_UrbScore)),nlevels(top1000$ATTRIBUTE_UrbScore)))\n",
    "rf_10trees_rep1\n",
    "rf_10trees_rep2 <- randomForest(data_train$ATTRIBUTE_UrbScore~., data=data_train[,6:1005],importance=TRUE,ntree=10,na.omit=TRUE,strata=top1000$ATTRIBUTE_UrbScore, sampsize=rep(min(table(top1000$ATTRIBUTE_UrbScore)),nlevels(top1000$ATTRIBUTE_UrbScore)))\n",
    "rf_10trees_rep2\n",
    "rf_10trees_rep3 <- randomForest(data_train$ATTRIBUTE_UrbScore~., data=data_train[,6:1005],importance=TRUE,ntree=10,na.omit=TRUE,strata=top1000$ATTRIBUTE_UrbScore, sampsize=rep(min(table(top1000$ATTRIBUTE_UrbScore)),nlevels(top1000$ATTRIBUTE_UrbScore)))\n",
    "rf_10trees_rep3\n",
    "rf_10trees_rep4 <- randomForest(data_train$ATTRIBUTE_UrbScore~., data=data_train[,6:1005],importance=TRUE,ntree=10,na.omit=TRUE,strata=top1000$ATTRIBUTE_UrbScore, sampsize=rep(min(table(top1000$ATTRIBUTE_UrbScore)),nlevels(top1000$ATTRIBUTE_UrbScore)))\n",
    "rf_10trees_rep4\n",
    "rf_10trees_rep5 <- randomForest(data_train$ATTRIBUTE_UrbScore~., data=data_train[,6:1005],importance=TRUE,ntree=10,na.omit=TRUE,strata=top1000$ATTRIBUTE_UrbScore, sampsize=rep(min(table(top1000$ATTRIBUTE_UrbScore)),nlevels(top1000$ATTRIBUTE_UrbScore)))\n",
    "rf_10trees_rep5\n",
    "rf_10trees_rep6 <- randomForest(data_train$ATTRIBUTE_UrbScore~., data=data_train[,6:1005],importance=TRUE,ntree=10,na.omit=TRUE,strata=top1000$ATTRIBUTE_UrbScore, sampsize=rep(min(table(top1000$ATTRIBUTE_UrbScore)),nlevels(top1000$ATTRIBUTE_UrbScore)))\n",
    "rf_10trees_rep6\n",
    "rf_10trees_rep7 <- randomForest(data_train$ATTRIBUTE_UrbScore~., data=data_train[,6:1005],importance=TRUE,ntree=10,na.omit=TRUE,strata=top1000$ATTRIBUTE_UrbScore, sampsize=rep(min(table(top1000$ATTRIBUTE_UrbScore)),nlevels(top1000$ATTRIBUTE_UrbScore)))\n",
    "rf_10trees_rep7\n",
    "rf_10trees_rep8 <- randomForest(data_train$ATTRIBUTE_UrbScore~., data=data_train[,6:1005],importance=TRUE,ntree=10,na.omit=TRUE,strata=top1000$ATTRIBUTE_UrbScore, sampsize=rep(min(table(top1000$ATTRIBUTE_UrbScore)),nlevels(top1000$ATTRIBUTE_UrbScore)))\n",
    "rf_10trees_rep8\n",
    "rf_10trees_rep9 <- randomForest(data_train$ATTRIBUTE_UrbScore~., data=data_train[,6:1005],importance=TRUE,ntree=10,na.omit=TRUE,strata=top1000$ATTRIBUTE_UrbScore, sampsize=rep(min(table(top1000$ATTRIBUTE_UrbScore)),nlevels(top1000$ATTRIBUTE_UrbScore)))\n",
    "rf_10trees_rep9\n",
    "rf_10trees_rep10 <- randomForest(data_train$ATTRIBUTE_UrbScore~., data=data_train[,6:1005],importance=TRUE,ntree=10,na.omit=TRUE,strata=top1000$ATTRIBUTE_UrbScore, sampsize=rep(min(table(top1000$ATTRIBUTE_UrbScore)),nlevels(top1000$ATTRIBUTE_UrbScore)))\n",
    "rf_10trees_rep10\n",
    "rf_10trees_rep11 <- randomForest(data_train$ATTRIBUTE_UrbScore~., data=data_train[,6:1005],importance=TRUE,ntree=10,na.omit=TRUE,strata=top1000$ATTRIBUTE_UrbScore, sampsize=rep(min(table(top1000$ATTRIBUTE_UrbScore)),nlevels(top1000$ATTRIBUTE_UrbScore)))\n",
    "rf_10trees_rep11\n",
    "rf_10trees_rep12 <- randomForest(data_train$ATTRIBUTE_UrbScore~., data=data_train[,6:1005],importance=TRUE,ntree=10,na.omit=TRUE,strata=top1000$ATTRIBUTE_UrbScore, sampsize=rep(min(table(top1000$ATTRIBUTE_UrbScore)),nlevels(top1000$ATTRIBUTE_UrbScore)))\n",
    "rf_10trees_rep12\n",
    "rf_10trees_rep13 <- randomForest(data_train$ATTRIBUTE_UrbScore~., data=data_train[,6:1005],importance=TRUE,ntree=10,na.omit=TRUE,strata=top1000$ATTRIBUTE_UrbScore, sampsize=rep(min(table(top1000$ATTRIBUTE_UrbScore)),nlevels(top1000$ATTRIBUTE_UrbScore)))\n",
    "rf_10trees_rep13\n",
    "rf_10trees_rep14 <- randomForest(data_train$ATTRIBUTE_UrbScore~., data=data_train[,6:1005],importance=TRUE,ntree=10,na.omit=TRUE,strata=top1000$ATTRIBUTE_UrbScore, sampsize=rep(min(table(top1000$ATTRIBUTE_UrbScore)),nlevels(top1000$ATTRIBUTE_UrbScore)))\n",
    "rf_10trees_rep14\n",
    "rf_10trees_rep15 <- randomForest(data_train$ATTRIBUTE_UrbScore~., data=data_train[,6:1005],importance=TRUE,ntree=10,na.omit=TRUE,strata=top1000$ATTRIBUTE_UrbScore, sampsize=rep(min(table(top1000$ATTRIBUTE_UrbScore)),nlevels(top1000$ATTRIBUTE_UrbScore)))\n",
    "rf_10trees_rep15\n",
    "rf_10trees_rep16 <- randomForest(data_train$ATTRIBUTE_UrbScore~., data=data_train[,6:1005],importance=TRUE,ntree=10,na.omit=TRUE,strata=top1000$ATTRIBUTE_UrbScore, sampsize=rep(min(table(top1000$ATTRIBUTE_UrbScore)),nlevels(top1000$ATTRIBUTE_UrbScore)))\n",
    "rf_10trees_rep16\n",
    "rf_10trees_rep17 <- randomForest(data_train$ATTRIBUTE_UrbScore~., data=data_train[,6:1005],importance=TRUE,ntree=10,na.omit=TRUE,strata=top1000$ATTRIBUTE_UrbScore, sampsize=rep(min(table(top1000$ATTRIBUTE_UrbScore)),nlevels(top1000$ATTRIBUTE_UrbScore)))\n",
    "rf_10trees_rep17\n",
    "rf_10trees_rep18 <- randomForest(data_train$ATTRIBUTE_UrbScore~., data=data_train[,6:1005],importance=TRUE,ntree=10,na.omit=TRUE,strata=top1000$ATTRIBUTE_UrbScore, sampsize=rep(min(table(top1000$ATTRIBUTE_UrbScore)),nlevels(top1000$ATTRIBUTE_UrbScore)))\n",
    "rf_10trees_rep18\n",
    "rf_10trees_rep19 <- randomForest(data_train$ATTRIBUTE_UrbScore~., data=data_train[,6:1005],importance=TRUE,ntree=10,na.omit=TRUE,strata=top1000$ATTRIBUTE_UrbScore, sampsize=rep(min(table(top1000$ATTRIBUTE_UrbScore)),nlevels(top1000$ATTRIBUTE_UrbScore)))\n",
    "rf_10trees_rep19\n",
    "rf_10trees_rep20 <- randomForest(data_train$ATTRIBUTE_UrbScore~., data=data_train[,6:1005],importance=TRUE,ntree=10,na.omit=TRUE,strata=top1000$ATTRIBUTE_UrbScore, sampsize=rep(min(table(top1000$ATTRIBUTE_UrbScore)),nlevels(top1000$ATTRIBUTE_UrbScore)))\n",
    "rf_10trees_rep20"
   ]
  },
  {
   "cell_type": "code",
   "execution_count": 13,
   "metadata": {},
   "outputs": [
    {
     "data": {
      "text/plain": [
       "\n",
       "Call:\n",
       " randomForest(formula = data_train$ATTRIBUTE_UrbScore ~ ., data = data_train[,      6:1005], importance = TRUE, ntree = 50, na.omit = TRUE, strata = top1000$ATTRIBUTE_UrbScore,      sampsize = rep(min(table(top1000$ATTRIBUTE_UrbScore)), nlevels(top1000$ATTRIBUTE_UrbScore))) \n",
       "               Type of random forest: classification\n",
       "                     Number of trees: 50\n",
       "No. of variables tried at each split: 31\n",
       "\n",
       "        OOB estimate of  error rate: 21.98%\n",
       "Confusion matrix:\n",
       "                    Isolated Rural (4) Mostly Rural (3) Rural and Urban (2)\n",
       "Isolated Rural (4)                  11                2                   1\n",
       "Mostly Rural (3)                     2               30                   3\n",
       "Rural and Urban (2)                  1                3                  21\n",
       "Urban (1)                            0                2                   5\n",
       "                    Urban (1) class.error\n",
       "Isolated Rural (4)          0   0.2142857\n",
       "Mostly Rural (3)            0   0.1428571\n",
       "Rural and Urban (2)         1   0.1923077\n",
       "Urban (1)                   9   0.4375000"
      ]
     },
     "metadata": {},
     "output_type": "display_data"
    },
    {
     "data": {
      "text/plain": [
       "\n",
       "Call:\n",
       " randomForest(formula = data_train$ATTRIBUTE_UrbScore ~ ., data = data_train[,      6:1005], importance = TRUE, ntree = 50, na.omit = TRUE, strata = top1000$ATTRIBUTE_UrbScore,      sampsize = rep(min(table(top1000$ATTRIBUTE_UrbScore)), nlevels(top1000$ATTRIBUTE_UrbScore))) \n",
       "               Type of random forest: classification\n",
       "                     Number of trees: 50\n",
       "No. of variables tried at each split: 31\n",
       "\n",
       "        OOB estimate of  error rate: 23.08%\n",
       "Confusion matrix:\n",
       "                    Isolated Rural (4) Mostly Rural (3) Rural and Urban (2)\n",
       "Isolated Rural (4)                  11                1                   2\n",
       "Mostly Rural (3)                     2               29                   3\n",
       "Rural and Urban (2)                  0                2                  23\n",
       "Urban (1)                            0                1                   8\n",
       "                    Urban (1) class.error\n",
       "Isolated Rural (4)          0   0.2142857\n",
       "Mostly Rural (3)            1   0.1714286\n",
       "Rural and Urban (2)         1   0.1153846\n",
       "Urban (1)                   7   0.5625000"
      ]
     },
     "metadata": {},
     "output_type": "display_data"
    },
    {
     "data": {
      "text/plain": [
       "\n",
       "Call:\n",
       " randomForest(formula = data_train$ATTRIBUTE_UrbScore ~ ., data = data_train[,      6:1005], importance = TRUE, ntree = 50, na.omit = TRUE, strata = top1000$ATTRIBUTE_UrbScore,      sampsize = rep(min(table(top1000$ATTRIBUTE_UrbScore)), nlevels(top1000$ATTRIBUTE_UrbScore))) \n",
       "               Type of random forest: classification\n",
       "                     Number of trees: 50\n",
       "No. of variables tried at each split: 31\n",
       "\n",
       "        OOB estimate of  error rate: 18.68%\n",
       "Confusion matrix:\n",
       "                    Isolated Rural (4) Mostly Rural (3) Rural and Urban (2)\n",
       "Isolated Rural (4)                  11                2                   1\n",
       "Mostly Rural (3)                     2               27                   6\n",
       "Rural and Urban (2)                  0                1                  23\n",
       "Urban (1)                            0                1                   2\n",
       "                    Urban (1) class.error\n",
       "Isolated Rural (4)          0   0.2142857\n",
       "Mostly Rural (3)            0   0.2285714\n",
       "Rural and Urban (2)         2   0.1153846\n",
       "Urban (1)                  13   0.1875000"
      ]
     },
     "metadata": {},
     "output_type": "display_data"
    },
    {
     "data": {
      "text/plain": [
       "\n",
       "Call:\n",
       " randomForest(formula = data_train$ATTRIBUTE_UrbScore ~ ., data = data_train[,      6:1005], importance = TRUE, ntree = 50, na.omit = TRUE, strata = top1000$ATTRIBUTE_UrbScore,      sampsize = rep(min(table(top1000$ATTRIBUTE_UrbScore)), nlevels(top1000$ATTRIBUTE_UrbScore))) \n",
       "               Type of random forest: classification\n",
       "                     Number of trees: 50\n",
       "No. of variables tried at each split: 31\n",
       "\n",
       "        OOB estimate of  error rate: 25.27%\n",
       "Confusion matrix:\n",
       "                    Isolated Rural (4) Mostly Rural (3) Rural and Urban (2)\n",
       "Isolated Rural (4)                  11                1                   2\n",
       "Mostly Rural (3)                     2               29                   4\n",
       "Rural and Urban (2)                  1                2                  23\n",
       "Urban (1)                            1                2                   8\n",
       "                    Urban (1) class.error\n",
       "Isolated Rural (4)          0   0.2142857\n",
       "Mostly Rural (3)            0   0.1714286\n",
       "Rural and Urban (2)         0   0.1153846\n",
       "Urban (1)                   5   0.6875000"
      ]
     },
     "metadata": {},
     "output_type": "display_data"
    },
    {
     "data": {
      "text/plain": [
       "\n",
       "Call:\n",
       " randomForest(formula = data_train$ATTRIBUTE_UrbScore ~ ., data = data_train[,      6:1005], importance = TRUE, ntree = 50, na.omit = TRUE, strata = top1000$ATTRIBUTE_UrbScore,      sampsize = rep(min(table(top1000$ATTRIBUTE_UrbScore)), nlevels(top1000$ATTRIBUTE_UrbScore))) \n",
       "               Type of random forest: classification\n",
       "                     Number of trees: 50\n",
       "No. of variables tried at each split: 31\n",
       "\n",
       "        OOB estimate of  error rate: 25.27%\n",
       "Confusion matrix:\n",
       "                    Isolated Rural (4) Mostly Rural (3) Rural and Urban (2)\n",
       "Isolated Rural (4)                  12                0                   2\n",
       "Mostly Rural (3)                     2               29                   4\n",
       "Rural and Urban (2)                  1                2                  20\n",
       "Urban (1)                            0                1                   8\n",
       "                    Urban (1) class.error\n",
       "Isolated Rural (4)          0   0.1428571\n",
       "Mostly Rural (3)            0   0.1714286\n",
       "Rural and Urban (2)         3   0.2307692\n",
       "Urban (1)                   7   0.5625000"
      ]
     },
     "metadata": {},
     "output_type": "display_data"
    },
    {
     "data": {
      "text/plain": [
       "\n",
       "Call:\n",
       " randomForest(formula = data_train$ATTRIBUTE_UrbScore ~ ., data = data_train[,      6:1005], importance = TRUE, ntree = 50, na.omit = TRUE, strata = top1000$ATTRIBUTE_UrbScore,      sampsize = rep(min(table(top1000$ATTRIBUTE_UrbScore)), nlevels(top1000$ATTRIBUTE_UrbScore))) \n",
       "               Type of random forest: classification\n",
       "                     Number of trees: 50\n",
       "No. of variables tried at each split: 31\n",
       "\n",
       "        OOB estimate of  error rate: 20.88%\n",
       "Confusion matrix:\n",
       "                    Isolated Rural (4) Mostly Rural (3) Rural and Urban (2)\n",
       "Isolated Rural (4)                  12                1                   1\n",
       "Mostly Rural (3)                     1               30                   3\n",
       "Rural and Urban (2)                  2                1                  23\n",
       "Urban (1)                            0                1                   8\n",
       "                    Urban (1) class.error\n",
       "Isolated Rural (4)          0   0.1428571\n",
       "Mostly Rural (3)            1   0.1428571\n",
       "Rural and Urban (2)         0   0.1153846\n",
       "Urban (1)                   7   0.5625000"
      ]
     },
     "metadata": {},
     "output_type": "display_data"
    },
    {
     "data": {
      "text/plain": [
       "\n",
       "Call:\n",
       " randomForest(formula = data_train$ATTRIBUTE_UrbScore ~ ., data = data_train[,      6:1005], importance = TRUE, ntree = 50, na.omit = TRUE, strata = top1000$ATTRIBUTE_UrbScore,      sampsize = rep(min(table(top1000$ATTRIBUTE_UrbScore)), nlevels(top1000$ATTRIBUTE_UrbScore))) \n",
       "               Type of random forest: classification\n",
       "                     Number of trees: 50\n",
       "No. of variables tried at each split: 31\n",
       "\n",
       "        OOB estimate of  error rate: 25.27%\n",
       "Confusion matrix:\n",
       "                    Isolated Rural (4) Mostly Rural (3) Rural and Urban (2)\n",
       "Isolated Rural (4)                  11                0                   3\n",
       "Mostly Rural (3)                     2               27                   5\n",
       "Rural and Urban (2)                  2                1                  19\n",
       "Urban (1)                            0                0                   5\n",
       "                    Urban (1) class.error\n",
       "Isolated Rural (4)          0   0.2142857\n",
       "Mostly Rural (3)            1   0.2285714\n",
       "Rural and Urban (2)         4   0.2692308\n",
       "Urban (1)                  11   0.3125000"
      ]
     },
     "metadata": {},
     "output_type": "display_data"
    },
    {
     "data": {
      "text/plain": [
       "\n",
       "Call:\n",
       " randomForest(formula = data_train$ATTRIBUTE_UrbScore ~ ., data = data_train[,      6:1005], importance = TRUE, ntree = 50, na.omit = TRUE, strata = top1000$ATTRIBUTE_UrbScore,      sampsize = rep(min(table(top1000$ATTRIBUTE_UrbScore)), nlevels(top1000$ATTRIBUTE_UrbScore))) \n",
       "               Type of random forest: classification\n",
       "                     Number of trees: 50\n",
       "No. of variables tried at each split: 31\n",
       "\n",
       "        OOB estimate of  error rate: 24.18%\n",
       "Confusion matrix:\n",
       "                    Isolated Rural (4) Mostly Rural (3) Rural and Urban (2)\n",
       "Isolated Rural (4)                  11                1                   2\n",
       "Mostly Rural (3)                     1               29                   4\n",
       "Rural and Urban (2)                  2                1                  22\n",
       "Urban (1)                            0                1                   8\n",
       "                    Urban (1) class.error\n",
       "Isolated Rural (4)          0   0.2142857\n",
       "Mostly Rural (3)            1   0.1714286\n",
       "Rural and Urban (2)         1   0.1538462\n",
       "Urban (1)                   7   0.5625000"
      ]
     },
     "metadata": {},
     "output_type": "display_data"
    },
    {
     "data": {
      "text/plain": [
       "\n",
       "Call:\n",
       " randomForest(formula = data_train$ATTRIBUTE_UrbScore ~ ., data = data_train[,      6:1005], importance = TRUE, ntree = 50, na.omit = TRUE, strata = top1000$ATTRIBUTE_UrbScore,      sampsize = rep(min(table(top1000$ATTRIBUTE_UrbScore)), nlevels(top1000$ATTRIBUTE_UrbScore))) \n",
       "               Type of random forest: classification\n",
       "                     Number of trees: 50\n",
       "No. of variables tried at each split: 31\n",
       "\n",
       "        OOB estimate of  error rate: 21.98%\n",
       "Confusion matrix:\n",
       "                    Isolated Rural (4) Mostly Rural (3) Rural and Urban (2)\n",
       "Isolated Rural (4)                  12                0                   2\n",
       "Mostly Rural (3)                     4               27                   4\n",
       "Rural and Urban (2)                  0                0                  25\n",
       "Urban (1)                            0                2                   7\n",
       "                    Urban (1) class.error\n",
       "Isolated Rural (4)          0  0.14285714\n",
       "Mostly Rural (3)            0  0.22857143\n",
       "Rural and Urban (2)         1  0.03846154\n",
       "Urban (1)                   7  0.56250000"
      ]
     },
     "metadata": {},
     "output_type": "display_data"
    },
    {
     "data": {
      "text/plain": [
       "\n",
       "Call:\n",
       " randomForest(formula = data_train$ATTRIBUTE_UrbScore ~ ., data = data_train[,      6:1005], importance = TRUE, ntree = 50, na.omit = TRUE, strata = top1000$ATTRIBUTE_UrbScore,      sampsize = rep(min(table(top1000$ATTRIBUTE_UrbScore)), nlevels(top1000$ATTRIBUTE_UrbScore))) \n",
       "               Type of random forest: classification\n",
       "                     Number of trees: 50\n",
       "No. of variables tried at each split: 31\n",
       "\n",
       "        OOB estimate of  error rate: 18.68%\n",
       "Confusion matrix:\n",
       "                    Isolated Rural (4) Mostly Rural (3) Rural and Urban (2)\n",
       "Isolated Rural (4)                  13                0                   1\n",
       "Mostly Rural (3)                     1               31                   3\n",
       "Rural and Urban (2)                  1                2                  23\n",
       "Urban (1)                            0                3                   6\n",
       "                    Urban (1) class.error\n",
       "Isolated Rural (4)          0  0.07142857\n",
       "Mostly Rural (3)            0  0.11428571\n",
       "Rural and Urban (2)         0  0.11538462\n",
       "Urban (1)                   7  0.56250000"
      ]
     },
     "metadata": {},
     "output_type": "display_data"
    },
    {
     "data": {
      "text/plain": [
       "\n",
       "Call:\n",
       " randomForest(formula = data_train$ATTRIBUTE_UrbScore ~ ., data = data_train[,      6:1005], importance = TRUE, ntree = 50, na.omit = TRUE, strata = top1000$ATTRIBUTE_UrbScore,      sampsize = rep(min(table(top1000$ATTRIBUTE_UrbScore)), nlevels(top1000$ATTRIBUTE_UrbScore))) \n",
       "               Type of random forest: classification\n",
       "                     Number of trees: 50\n",
       "No. of variables tried at each split: 31\n",
       "\n",
       "        OOB estimate of  error rate: 23.08%\n",
       "Confusion matrix:\n",
       "                    Isolated Rural (4) Mostly Rural (3) Rural and Urban (2)\n",
       "Isolated Rural (4)                  12                1                   1\n",
       "Mostly Rural (3)                     3               28                   4\n",
       "Rural and Urban (2)                  0                2                  23\n",
       "Urban (1)                            0                3                   6\n",
       "                    Urban (1) class.error\n",
       "Isolated Rural (4)          0   0.1428571\n",
       "Mostly Rural (3)            0   0.2000000\n",
       "Rural and Urban (2)         1   0.1153846\n",
       "Urban (1)                   7   0.5625000"
      ]
     },
     "metadata": {},
     "output_type": "display_data"
    },
    {
     "data": {
      "text/plain": [
       "\n",
       "Call:\n",
       " randomForest(formula = data_train$ATTRIBUTE_UrbScore ~ ., data = data_train[,      6:1005], importance = TRUE, ntree = 50, na.omit = TRUE, strata = top1000$ATTRIBUTE_UrbScore,      sampsize = rep(min(table(top1000$ATTRIBUTE_UrbScore)), nlevels(top1000$ATTRIBUTE_UrbScore))) \n",
       "               Type of random forest: classification\n",
       "                     Number of trees: 50\n",
       "No. of variables tried at each split: 31\n",
       "\n",
       "        OOB estimate of  error rate: 21.98%\n",
       "Confusion matrix:\n",
       "                    Isolated Rural (4) Mostly Rural (3) Rural and Urban (2)\n",
       "Isolated Rural (4)                  11                2                   1\n",
       "Mostly Rural (3)                     3               27                   5\n",
       "Rural and Urban (2)                  0                0                  24\n",
       "Urban (1)                            0                1                   6\n",
       "                    Urban (1) class.error\n",
       "Isolated Rural (4)          0  0.21428571\n",
       "Mostly Rural (3)            0  0.22857143\n",
       "Rural and Urban (2)         2  0.07692308\n",
       "Urban (1)                   9  0.43750000"
      ]
     },
     "metadata": {},
     "output_type": "display_data"
    },
    {
     "data": {
      "text/plain": [
       "\n",
       "Call:\n",
       " randomForest(formula = data_train$ATTRIBUTE_UrbScore ~ ., data = data_train[,      6:1005], importance = TRUE, ntree = 50, na.omit = TRUE, strata = top1000$ATTRIBUTE_UrbScore,      sampsize = rep(min(table(top1000$ATTRIBUTE_UrbScore)), nlevels(top1000$ATTRIBUTE_UrbScore))) \n",
       "               Type of random forest: classification\n",
       "                     Number of trees: 50\n",
       "No. of variables tried at each split: 31\n",
       "\n",
       "        OOB estimate of  error rate: 19.78%\n",
       "Confusion matrix:\n",
       "                    Isolated Rural (4) Mostly Rural (3) Rural and Urban (2)\n",
       "Isolated Rural (4)                  10                2                   2\n",
       "Mostly Rural (3)                     1               29                   5\n",
       "Rural and Urban (2)                  0                1                  24\n",
       "Urban (1)                            0                0                   6\n",
       "                    Urban (1) class.error\n",
       "Isolated Rural (4)          0  0.28571429\n",
       "Mostly Rural (3)            0  0.17142857\n",
       "Rural and Urban (2)         1  0.07692308\n",
       "Urban (1)                  10  0.37500000"
      ]
     },
     "metadata": {},
     "output_type": "display_data"
    },
    {
     "data": {
      "text/plain": [
       "\n",
       "Call:\n",
       " randomForest(formula = data_train$ATTRIBUTE_UrbScore ~ ., data = data_train[,      6:1005], importance = TRUE, ntree = 50, na.omit = TRUE, strata = top1000$ATTRIBUTE_UrbScore,      sampsize = rep(min(table(top1000$ATTRIBUTE_UrbScore)), nlevels(top1000$ATTRIBUTE_UrbScore))) \n",
       "               Type of random forest: classification\n",
       "                     Number of trees: 50\n",
       "No. of variables tried at each split: 31\n",
       "\n",
       "        OOB estimate of  error rate: 20.88%\n",
       "Confusion matrix:\n",
       "                    Isolated Rural (4) Mostly Rural (3) Rural and Urban (2)\n",
       "Isolated Rural (4)                  12                1                   1\n",
       "Mostly Rural (3)                     3               27                   4\n",
       "Rural and Urban (2)                  0                2                  24\n",
       "Urban (1)                            0                2                   5\n",
       "                    Urban (1) class.error\n",
       "Isolated Rural (4)          0  0.14285714\n",
       "Mostly Rural (3)            1  0.22857143\n",
       "Rural and Urban (2)         0  0.07692308\n",
       "Urban (1)                   9  0.43750000"
      ]
     },
     "metadata": {},
     "output_type": "display_data"
    },
    {
     "data": {
      "text/plain": [
       "\n",
       "Call:\n",
       " randomForest(formula = data_train$ATTRIBUTE_UrbScore ~ ., data = data_train[,      6:1005], importance = TRUE, ntree = 50, na.omit = TRUE, strata = top1000$ATTRIBUTE_UrbScore,      sampsize = rep(min(table(top1000$ATTRIBUTE_UrbScore)), nlevels(top1000$ATTRIBUTE_UrbScore))) \n",
       "               Type of random forest: classification\n",
       "                     Number of trees: 50\n",
       "No. of variables tried at each split: 31\n",
       "\n",
       "        OOB estimate of  error rate: 21.98%\n",
       "Confusion matrix:\n",
       "                    Isolated Rural (4) Mostly Rural (3) Rural and Urban (2)\n",
       "Isolated Rural (4)                  10                2                   2\n",
       "Mostly Rural (3)                     1               29                   4\n",
       "Rural and Urban (2)                  0                0                  26\n",
       "Urban (1)                            0                3                   7\n",
       "                    Urban (1) class.error\n",
       "Isolated Rural (4)          0   0.2857143\n",
       "Mostly Rural (3)            1   0.1714286\n",
       "Rural and Urban (2)         0   0.0000000\n",
       "Urban (1)                   6   0.6250000"
      ]
     },
     "metadata": {},
     "output_type": "display_data"
    },
    {
     "data": {
      "text/plain": [
       "\n",
       "Call:\n",
       " randomForest(formula = data_train$ATTRIBUTE_UrbScore ~ ., data = data_train[,      6:1005], importance = TRUE, ntree = 50, na.omit = TRUE, strata = top1000$ATTRIBUTE_UrbScore,      sampsize = rep(min(table(top1000$ATTRIBUTE_UrbScore)), nlevels(top1000$ATTRIBUTE_UrbScore))) \n",
       "               Type of random forest: classification\n",
       "                     Number of trees: 50\n",
       "No. of variables tried at each split: 31\n",
       "\n",
       "        OOB estimate of  error rate: 23.08%\n",
       "Confusion matrix:\n",
       "                    Isolated Rural (4) Mostly Rural (3) Rural and Urban (2)\n",
       "Isolated Rural (4)                  11                2                   1\n",
       "Mostly Rural (3)                     2               28                   5\n",
       "Rural and Urban (2)                  0                2                  24\n",
       "Urban (1)                            0                1                   8\n",
       "                    Urban (1) class.error\n",
       "Isolated Rural (4)          0  0.21428571\n",
       "Mostly Rural (3)            0  0.20000000\n",
       "Rural and Urban (2)         0  0.07692308\n",
       "Urban (1)                   7  0.56250000"
      ]
     },
     "metadata": {},
     "output_type": "display_data"
    },
    {
     "data": {
      "text/plain": [
       "\n",
       "Call:\n",
       " randomForest(formula = data_train$ATTRIBUTE_UrbScore ~ ., data = data_train[,      6:1005], importance = TRUE, ntree = 50, na.omit = TRUE, strata = top1000$ATTRIBUTE_UrbScore,      sampsize = rep(min(table(top1000$ATTRIBUTE_UrbScore)), nlevels(top1000$ATTRIBUTE_UrbScore))) \n",
       "               Type of random forest: classification\n",
       "                     Number of trees: 50\n",
       "No. of variables tried at each split: 31\n",
       "\n",
       "        OOB estimate of  error rate: 18.68%\n",
       "Confusion matrix:\n",
       "                    Isolated Rural (4) Mostly Rural (3) Rural and Urban (2)\n",
       "Isolated Rural (4)                  12                1                   1\n",
       "Mostly Rural (3)                     1               30                   3\n",
       "Rural and Urban (2)                  0                3                  21\n",
       "Urban (1)                            0                3                   2\n",
       "                    Urban (1) class.error\n",
       "Isolated Rural (4)          0   0.1428571\n",
       "Mostly Rural (3)            1   0.1428571\n",
       "Rural and Urban (2)         2   0.1923077\n",
       "Urban (1)                  11   0.3125000"
      ]
     },
     "metadata": {},
     "output_type": "display_data"
    },
    {
     "data": {
      "text/plain": [
       "\n",
       "Call:\n",
       " randomForest(formula = data_train$ATTRIBUTE_UrbScore ~ ., data = data_train[,      6:1005], importance = TRUE, ntree = 50, na.omit = TRUE, strata = top1000$ATTRIBUTE_UrbScore,      sampsize = rep(min(table(top1000$ATTRIBUTE_UrbScore)), nlevels(top1000$ATTRIBUTE_UrbScore))) \n",
       "               Type of random forest: classification\n",
       "                     Number of trees: 50\n",
       "No. of variables tried at each split: 31\n",
       "\n",
       "        OOB estimate of  error rate: 16.48%\n",
       "Confusion matrix:\n",
       "                    Isolated Rural (4) Mostly Rural (3) Rural and Urban (2)\n",
       "Isolated Rural (4)                  12                0                   2\n",
       "Mostly Rural (3)                     1               31                   2\n",
       "Rural and Urban (2)                  0                3                  23\n",
       "Urban (1)                            0                2                   4\n",
       "                    Urban (1) class.error\n",
       "Isolated Rural (4)          0   0.1428571\n",
       "Mostly Rural (3)            1   0.1142857\n",
       "Rural and Urban (2)         0   0.1153846\n",
       "Urban (1)                  10   0.3750000"
      ]
     },
     "metadata": {},
     "output_type": "display_data"
    },
    {
     "data": {
      "text/plain": [
       "\n",
       "Call:\n",
       " randomForest(formula = data_train$ATTRIBUTE_UrbScore ~ ., data = data_train[,      6:1005], importance = TRUE, ntree = 50, na.omit = TRUE, strata = top1000$ATTRIBUTE_UrbScore,      sampsize = rep(min(table(top1000$ATTRIBUTE_UrbScore)), nlevels(top1000$ATTRIBUTE_UrbScore))) \n",
       "               Type of random forest: classification\n",
       "                     Number of trees: 50\n",
       "No. of variables tried at each split: 31\n",
       "\n",
       "        OOB estimate of  error rate: 17.58%\n",
       "Confusion matrix:\n",
       "                    Isolated Rural (4) Mostly Rural (3) Rural and Urban (2)\n",
       "Isolated Rural (4)                  12                0                   2\n",
       "Mostly Rural (3)                     0               30                   5\n",
       "Rural and Urban (2)                  1                2                  23\n",
       "Urban (1)                            0                1                   5\n",
       "                    Urban (1) class.error\n",
       "Isolated Rural (4)          0   0.1428571\n",
       "Mostly Rural (3)            0   0.1428571\n",
       "Rural and Urban (2)         0   0.1153846\n",
       "Urban (1)                  10   0.3750000"
      ]
     },
     "metadata": {},
     "output_type": "display_data"
    },
    {
     "data": {
      "text/plain": [
       "\n",
       "Call:\n",
       " randomForest(formula = data_train$ATTRIBUTE_UrbScore ~ ., data = data_train[,      6:1005], importance = TRUE, ntree = 50, na.omit = TRUE, strata = top1000$ATTRIBUTE_UrbScore,      sampsize = rep(min(table(top1000$ATTRIBUTE_UrbScore)), nlevels(top1000$ATTRIBUTE_UrbScore))) \n",
       "               Type of random forest: classification\n",
       "                     Number of trees: 50\n",
       "No. of variables tried at each split: 31\n",
       "\n",
       "        OOB estimate of  error rate: 23.08%\n",
       "Confusion matrix:\n",
       "                    Isolated Rural (4) Mostly Rural (3) Rural and Urban (2)\n",
       "Isolated Rural (4)                  10                3                   1\n",
       "Mostly Rural (3)                     2               29                   4\n",
       "Rural and Urban (2)                  0                2                  22\n",
       "Urban (1)                            0                2                   5\n",
       "                    Urban (1) class.error\n",
       "Isolated Rural (4)          0   0.2857143\n",
       "Mostly Rural (3)            0   0.1714286\n",
       "Rural and Urban (2)         2   0.1538462\n",
       "Urban (1)                   9   0.4375000"
      ]
     },
     "metadata": {},
     "output_type": "display_data"
    }
   ],
   "source": [
    "rf_50trees_rep1 <- randomForest(data_train$ATTRIBUTE_UrbScore~., data=data_train[,6:1005],importance=TRUE,ntree=50,na.omit=TRUE,strata=top1000$ATTRIBUTE_UrbScore, sampsize=rep(min(table(top1000$ATTRIBUTE_UrbScore)),nlevels(top1000$ATTRIBUTE_UrbScore)))\n",
    "rf_50trees_rep1\n",
    "rf_50trees_rep2 <- randomForest(data_train$ATTRIBUTE_UrbScore~., data=data_train[,6:1005],importance=TRUE,ntree=50,na.omit=TRUE,strata=top1000$ATTRIBUTE_UrbScore, sampsize=rep(min(table(top1000$ATTRIBUTE_UrbScore)),nlevels(top1000$ATTRIBUTE_UrbScore)))\n",
    "rf_50trees_rep2\n",
    "rf_50trees_rep3 <- randomForest(data_train$ATTRIBUTE_UrbScore~., data=data_train[,6:1005],importance=TRUE,ntree=50,na.omit=TRUE,strata=top1000$ATTRIBUTE_UrbScore, sampsize=rep(min(table(top1000$ATTRIBUTE_UrbScore)),nlevels(top1000$ATTRIBUTE_UrbScore)))\n",
    "rf_50trees_rep3\n",
    "rf_50trees_rep4 <- randomForest(data_train$ATTRIBUTE_UrbScore~., data=data_train[,6:1005],importance=TRUE,ntree=50,na.omit=TRUE,strata=top1000$ATTRIBUTE_UrbScore, sampsize=rep(min(table(top1000$ATTRIBUTE_UrbScore)),nlevels(top1000$ATTRIBUTE_UrbScore)))\n",
    "rf_50trees_rep4\n",
    "rf_50trees_rep5 <- randomForest(data_train$ATTRIBUTE_UrbScore~., data=data_train[,6:1005],importance=TRUE,ntree=50,na.omit=TRUE,strata=top1000$ATTRIBUTE_UrbScore, sampsize=rep(min(table(top1000$ATTRIBUTE_UrbScore)),nlevels(top1000$ATTRIBUTE_UrbScore)))\n",
    "rf_50trees_rep5\n",
    "rf_50trees_rep6 <- randomForest(data_train$ATTRIBUTE_UrbScore~., data=data_train[,6:1005],importance=TRUE,ntree=50,na.omit=TRUE,strata=top1000$ATTRIBUTE_UrbScore, sampsize=rep(min(table(top1000$ATTRIBUTE_UrbScore)),nlevels(top1000$ATTRIBUTE_UrbScore)))\n",
    "rf_50trees_rep6\n",
    "rf_50trees_rep7 <- randomForest(data_train$ATTRIBUTE_UrbScore~., data=data_train[,6:1005],importance=TRUE,ntree=50,na.omit=TRUE,strata=top1000$ATTRIBUTE_UrbScore, sampsize=rep(min(table(top1000$ATTRIBUTE_UrbScore)),nlevels(top1000$ATTRIBUTE_UrbScore)))\n",
    "rf_50trees_rep7\n",
    "rf_50trees_rep8 <- randomForest(data_train$ATTRIBUTE_UrbScore~., data=data_train[,6:1005],importance=TRUE,ntree=50,na.omit=TRUE,strata=top1000$ATTRIBUTE_UrbScore, sampsize=rep(min(table(top1000$ATTRIBUTE_UrbScore)),nlevels(top1000$ATTRIBUTE_UrbScore)))\n",
    "rf_50trees_rep8\n",
    "rf_50trees_rep9 <- randomForest(data_train$ATTRIBUTE_UrbScore~., data=data_train[,6:1005],importance=TRUE,ntree=50,na.omit=TRUE,strata=top1000$ATTRIBUTE_UrbScore, sampsize=rep(min(table(top1000$ATTRIBUTE_UrbScore)),nlevels(top1000$ATTRIBUTE_UrbScore)))\n",
    "rf_50trees_rep9\n",
    "rf_50trees_rep10 <- randomForest(data_train$ATTRIBUTE_UrbScore~., data=data_train[,6:1005],importance=TRUE,ntree=50,na.omit=TRUE,strata=top1000$ATTRIBUTE_UrbScore, sampsize=rep(min(table(top1000$ATTRIBUTE_UrbScore)),nlevels(top1000$ATTRIBUTE_UrbScore)))\n",
    "rf_50trees_rep10\n",
    "rf_50trees_rep11 <- randomForest(data_train$ATTRIBUTE_UrbScore~., data=data_train[,6:1005],importance=TRUE,ntree=50,na.omit=TRUE,strata=top1000$ATTRIBUTE_UrbScore, sampsize=rep(min(table(top1000$ATTRIBUTE_UrbScore)),nlevels(top1000$ATTRIBUTE_UrbScore)))\n",
    "rf_50trees_rep11\n",
    "rf_50trees_rep12 <- randomForest(data_train$ATTRIBUTE_UrbScore~., data=data_train[,6:1005],importance=TRUE,ntree=50,na.omit=TRUE,strata=top1000$ATTRIBUTE_UrbScore, sampsize=rep(min(table(top1000$ATTRIBUTE_UrbScore)),nlevels(top1000$ATTRIBUTE_UrbScore)))\n",
    "rf_50trees_rep12\n",
    "rf_50trees_rep13 <- randomForest(data_train$ATTRIBUTE_UrbScore~., data=data_train[,6:1005],importance=TRUE,ntree=50,na.omit=TRUE,strata=top1000$ATTRIBUTE_UrbScore, sampsize=rep(min(table(top1000$ATTRIBUTE_UrbScore)),nlevels(top1000$ATTRIBUTE_UrbScore)))\n",
    "rf_50trees_rep13\n",
    "rf_50trees_rep14 <- randomForest(data_train$ATTRIBUTE_UrbScore~., data=data_train[,6:1005],importance=TRUE,ntree=50,na.omit=TRUE,strata=top1000$ATTRIBUTE_UrbScore, sampsize=rep(min(table(top1000$ATTRIBUTE_UrbScore)),nlevels(top1000$ATTRIBUTE_UrbScore)))\n",
    "rf_50trees_rep14\n",
    "rf_50trees_rep15 <- randomForest(data_train$ATTRIBUTE_UrbScore~., data=data_train[,6:1005],importance=TRUE,ntree=50,na.omit=TRUE,strata=top1000$ATTRIBUTE_UrbScore, sampsize=rep(min(table(top1000$ATTRIBUTE_UrbScore)),nlevels(top1000$ATTRIBUTE_UrbScore)))\n",
    "rf_50trees_rep15\n",
    "rf_50trees_rep16 <- randomForest(data_train$ATTRIBUTE_UrbScore~., data=data_train[,6:1005],importance=TRUE,ntree=50,na.omit=TRUE,strata=top1000$ATTRIBUTE_UrbScore, sampsize=rep(min(table(top1000$ATTRIBUTE_UrbScore)),nlevels(top1000$ATTRIBUTE_UrbScore)))\n",
    "rf_50trees_rep16\n",
    "rf_50trees_rep17 <- randomForest(data_train$ATTRIBUTE_UrbScore~., data=data_train[,6:1005],importance=TRUE,ntree=50,na.omit=TRUE,strata=top1000$ATTRIBUTE_UrbScore, sampsize=rep(min(table(top1000$ATTRIBUTE_UrbScore)),nlevels(top1000$ATTRIBUTE_UrbScore)))\n",
    "rf_50trees_rep17\n",
    "rf_50trees_rep18 <- randomForest(data_train$ATTRIBUTE_UrbScore~., data=data_train[,6:1005],importance=TRUE,ntree=50,na.omit=TRUE,strata=top1000$ATTRIBUTE_UrbScore, sampsize=rep(min(table(top1000$ATTRIBUTE_UrbScore)),nlevels(top1000$ATTRIBUTE_UrbScore)))\n",
    "rf_50trees_rep18\n",
    "rf_50trees_rep19 <- randomForest(data_train$ATTRIBUTE_UrbScore~., data=data_train[,6:1005],importance=TRUE,ntree=50,na.omit=TRUE,strata=top1000$ATTRIBUTE_UrbScore, sampsize=rep(min(table(top1000$ATTRIBUTE_UrbScore)),nlevels(top1000$ATTRIBUTE_UrbScore)))\n",
    "rf_50trees_rep19\n",
    "rf_50trees_rep20 <- randomForest(data_train$ATTRIBUTE_UrbScore~., data=data_train[,6:1005],importance=TRUE,ntree=50,na.omit=TRUE,strata=top1000$ATTRIBUTE_UrbScore, sampsize=rep(min(table(top1000$ATTRIBUTE_UrbScore)),nlevels(top1000$ATTRIBUTE_UrbScore)))\n",
    "rf_50trees_rep20"
   ]
  },
  {
   "cell_type": "code",
   "execution_count": 15,
   "metadata": {},
   "outputs": [
    {
     "data": {
      "text/plain": [
       "\n",
       "Call:\n",
       " randomForest(formula = data_train$ATTRIBUTE_UrbScore ~ ., data = data_train[,      6:1005], importance = TRUE, ntree = 100, na.omit = TRUE,      strata = top1000$ATTRIBUTE_UrbScore, sampsize = rep(min(table(top1000$ATTRIBUTE_UrbScore)),          nlevels(top1000$ATTRIBUTE_UrbScore))) \n",
       "               Type of random forest: classification\n",
       "                     Number of trees: 100\n",
       "No. of variables tried at each split: 31\n",
       "\n",
       "        OOB estimate of  error rate: 14.29%\n",
       "Confusion matrix:\n",
       "                    Isolated Rural (4) Mostly Rural (3) Rural and Urban (2)\n",
       "Isolated Rural (4)                  13                0                   1\n",
       "Mostly Rural (3)                     2               29                   4\n",
       "Rural and Urban (2)                  0                0                  26\n",
       "Urban (1)                            0                1                   5\n",
       "                    Urban (1) class.error\n",
       "Isolated Rural (4)          0  0.07142857\n",
       "Mostly Rural (3)            0  0.17142857\n",
       "Rural and Urban (2)         0  0.00000000\n",
       "Urban (1)                  10  0.37500000"
      ]
     },
     "metadata": {},
     "output_type": "display_data"
    },
    {
     "data": {
      "text/plain": [
       "\n",
       "Call:\n",
       " randomForest(formula = data_train$ATTRIBUTE_UrbScore ~ ., data = data_train[,      6:1005], importance = TRUE, ntree = 100, na.omit = TRUE,      strata = top1000$ATTRIBUTE_UrbScore, sampsize = rep(min(table(top1000$ATTRIBUTE_UrbScore)),          nlevels(top1000$ATTRIBUTE_UrbScore))) \n",
       "               Type of random forest: classification\n",
       "                     Number of trees: 100\n",
       "No. of variables tried at each split: 31\n",
       "\n",
       "        OOB estimate of  error rate: 17.58%\n",
       "Confusion matrix:\n",
       "                    Isolated Rural (4) Mostly Rural (3) Rural and Urban (2)\n",
       "Isolated Rural (4)                  12                1                   1\n",
       "Mostly Rural (3)                     1               30                   4\n",
       "Rural and Urban (2)                  0                0                  26\n",
       "Urban (1)                            0                2                   7\n",
       "                    Urban (1) class.error\n",
       "Isolated Rural (4)          0   0.1428571\n",
       "Mostly Rural (3)            0   0.1428571\n",
       "Rural and Urban (2)         0   0.0000000\n",
       "Urban (1)                   7   0.5625000"
      ]
     },
     "metadata": {},
     "output_type": "display_data"
    },
    {
     "data": {
      "text/plain": [
       "\n",
       "Call:\n",
       " randomForest(formula = data_train$ATTRIBUTE_UrbScore ~ ., data = data_train[,      6:1005], importance = TRUE, ntree = 100, na.omit = TRUE,      strata = top1000$ATTRIBUTE_UrbScore, sampsize = rep(min(table(top1000$ATTRIBUTE_UrbScore)),          nlevels(top1000$ATTRIBUTE_UrbScore))) \n",
       "               Type of random forest: classification\n",
       "                     Number of trees: 100\n",
       "No. of variables tried at each split: 31\n",
       "\n",
       "        OOB estimate of  error rate: 23.08%\n",
       "Confusion matrix:\n",
       "                    Isolated Rural (4) Mostly Rural (3) Rural and Urban (2)\n",
       "Isolated Rural (4)                  10                2                   2\n",
       "Mostly Rural (3)                     1               28                   6\n",
       "Rural and Urban (2)                  0                2                  22\n",
       "Urban (1)                            0                1                   5\n",
       "                    Urban (1) class.error\n",
       "Isolated Rural (4)          0   0.2857143\n",
       "Mostly Rural (3)            0   0.2000000\n",
       "Rural and Urban (2)         2   0.1538462\n",
       "Urban (1)                  10   0.3750000"
      ]
     },
     "metadata": {},
     "output_type": "display_data"
    },
    {
     "data": {
      "text/plain": [
       "\n",
       "Call:\n",
       " randomForest(formula = data_train$ATTRIBUTE_UrbScore ~ ., data = data_train[,      6:1005], importance = TRUE, ntree = 100, na.omit = TRUE,      strata = top1000$ATTRIBUTE_UrbScore, sampsize = rep(min(table(top1000$ATTRIBUTE_UrbScore)),          nlevels(top1000$ATTRIBUTE_UrbScore))) \n",
       "               Type of random forest: classification\n",
       "                     Number of trees: 100\n",
       "No. of variables tried at each split: 31\n",
       "\n",
       "        OOB estimate of  error rate: 17.58%\n",
       "Confusion matrix:\n",
       "                    Isolated Rural (4) Mostly Rural (3) Rural and Urban (2)\n",
       "Isolated Rural (4)                  10                2                   2\n",
       "Mostly Rural (3)                     1               31                   2\n",
       "Rural and Urban (2)                  0                1                  25\n",
       "Urban (1)                            0                2                   5\n",
       "                    Urban (1) class.error\n",
       "Isolated Rural (4)          0  0.28571429\n",
       "Mostly Rural (3)            1  0.11428571\n",
       "Rural and Urban (2)         0  0.03846154\n",
       "Urban (1)                   9  0.43750000"
      ]
     },
     "metadata": {},
     "output_type": "display_data"
    },
    {
     "data": {
      "text/plain": [
       "\n",
       "Call:\n",
       " randomForest(formula = data_train$ATTRIBUTE_UrbScore ~ ., data = data_train[,      6:1005], importance = TRUE, ntree = 100, na.omit = TRUE,      strata = top1000$ATTRIBUTE_UrbScore, sampsize = rep(min(table(top1000$ATTRIBUTE_UrbScore)),          nlevels(top1000$ATTRIBUTE_UrbScore))) \n",
       "               Type of random forest: classification\n",
       "                     Number of trees: 100\n",
       "No. of variables tried at each split: 31\n",
       "\n",
       "        OOB estimate of  error rate: 20.88%\n",
       "Confusion matrix:\n",
       "                    Isolated Rural (4) Mostly Rural (3) Rural and Urban (2)\n",
       "Isolated Rural (4)                  12                0                   2\n",
       "Mostly Rural (3)                     1               29                   4\n",
       "Rural and Urban (2)                  1                0                  23\n",
       "Urban (1)                            1                0                   7\n",
       "                    Urban (1) class.error\n",
       "Isolated Rural (4)          0   0.1428571\n",
       "Mostly Rural (3)            1   0.1714286\n",
       "Rural and Urban (2)         2   0.1153846\n",
       "Urban (1)                   8   0.5000000"
      ]
     },
     "metadata": {},
     "output_type": "display_data"
    },
    {
     "data": {
      "text/plain": [
       "\n",
       "Call:\n",
       " randomForest(formula = data_train$ATTRIBUTE_UrbScore ~ ., data = data_train[,      6:1005], importance = TRUE, ntree = 100, na.omit = TRUE,      strata = top1000$ATTRIBUTE_UrbScore, sampsize = rep(min(table(top1000$ATTRIBUTE_UrbScore)),          nlevels(top1000$ATTRIBUTE_UrbScore))) \n",
       "               Type of random forest: classification\n",
       "                     Number of trees: 100\n",
       "No. of variables tried at each split: 31\n",
       "\n",
       "        OOB estimate of  error rate: 18.68%\n",
       "Confusion matrix:\n",
       "                    Isolated Rural (4) Mostly Rural (3) Rural and Urban (2)\n",
       "Isolated Rural (4)                  11                1                   2\n",
       "Mostly Rural (3)                     2               29                   4\n",
       "Rural and Urban (2)                  0                0                  25\n",
       "Urban (1)                            0                2                   5\n",
       "                    Urban (1) class.error\n",
       "Isolated Rural (4)          0  0.21428571\n",
       "Mostly Rural (3)            0  0.17142857\n",
       "Rural and Urban (2)         1  0.03846154\n",
       "Urban (1)                   9  0.43750000"
      ]
     },
     "metadata": {},
     "output_type": "display_data"
    },
    {
     "data": {
      "text/plain": [
       "\n",
       "Call:\n",
       " randomForest(formula = data_train$ATTRIBUTE_UrbScore ~ ., data = data_train[,      6:1005], importance = TRUE, ntree = 100, na.omit = TRUE,      strata = top1000$ATTRIBUTE_UrbScore, sampsize = rep(min(table(top1000$ATTRIBUTE_UrbScore)),          nlevels(top1000$ATTRIBUTE_UrbScore))) \n",
       "               Type of random forest: classification\n",
       "                     Number of trees: 100\n",
       "No. of variables tried at each split: 31\n",
       "\n",
       "        OOB estimate of  error rate: 23.08%\n",
       "Confusion matrix:\n",
       "                    Isolated Rural (4) Mostly Rural (3) Rural and Urban (2)\n",
       "Isolated Rural (4)                  10                2                   2\n",
       "Mostly Rural (3)                     3               27                   5\n",
       "Rural and Urban (2)                  0                2                  24\n",
       "Urban (1)                            0                1                   6\n",
       "                    Urban (1) class.error\n",
       "Isolated Rural (4)          0  0.28571429\n",
       "Mostly Rural (3)            0  0.22857143\n",
       "Rural and Urban (2)         0  0.07692308\n",
       "Urban (1)                   9  0.43750000"
      ]
     },
     "metadata": {},
     "output_type": "display_data"
    },
    {
     "data": {
      "text/plain": [
       "\n",
       "Call:\n",
       " randomForest(formula = data_train$ATTRIBUTE_UrbScore ~ ., data = data_train[,      6:1005], importance = TRUE, ntree = 100, na.omit = TRUE,      strata = top1000$ATTRIBUTE_UrbScore, sampsize = rep(min(table(top1000$ATTRIBUTE_UrbScore)),          nlevels(top1000$ATTRIBUTE_UrbScore))) \n",
       "               Type of random forest: classification\n",
       "                     Number of trees: 100\n",
       "No. of variables tried at each split: 31\n",
       "\n",
       "        OOB estimate of  error rate: 20.88%\n",
       "Confusion matrix:\n",
       "                    Isolated Rural (4) Mostly Rural (3) Rural and Urban (2)\n",
       "Isolated Rural (4)                  11                1                   2\n",
       "Mostly Rural (3)                     1               29                   4\n",
       "Rural and Urban (2)                  1                0                  25\n",
       "Urban (1)                            0                1                   8\n",
       "                    Urban (1) class.error\n",
       "Isolated Rural (4)          0  0.21428571\n",
       "Mostly Rural (3)            1  0.17142857\n",
       "Rural and Urban (2)         0  0.03846154\n",
       "Urban (1)                   7  0.56250000"
      ]
     },
     "metadata": {},
     "output_type": "display_data"
    },
    {
     "data": {
      "text/plain": [
       "\n",
       "Call:\n",
       " randomForest(formula = data_train$ATTRIBUTE_UrbScore ~ ., data = data_train[,      6:1005], importance = TRUE, ntree = 100, na.omit = TRUE,      strata = top1000$ATTRIBUTE_UrbScore, sampsize = rep(min(table(top1000$ATTRIBUTE_UrbScore)),          nlevels(top1000$ATTRIBUTE_UrbScore))) \n",
       "               Type of random forest: classification\n",
       "                     Number of trees: 100\n",
       "No. of variables tried at each split: 31\n",
       "\n",
       "        OOB estimate of  error rate: 17.58%\n",
       "Confusion matrix:\n",
       "                    Isolated Rural (4) Mostly Rural (3) Rural and Urban (2)\n",
       "Isolated Rural (4)                  11                1                   2\n",
       "Mostly Rural (3)                     2               29                   3\n",
       "Rural and Urban (2)                  0                0                  25\n",
       "Urban (1)                            0                0                   6\n",
       "                    Urban (1) class.error\n",
       "Isolated Rural (4)          0  0.21428571\n",
       "Mostly Rural (3)            1  0.17142857\n",
       "Rural and Urban (2)         1  0.03846154\n",
       "Urban (1)                  10  0.37500000"
      ]
     },
     "metadata": {},
     "output_type": "display_data"
    },
    {
     "data": {
      "text/plain": [
       "\n",
       "Call:\n",
       " randomForest(formula = data_train$ATTRIBUTE_UrbScore ~ ., data = data_train[,      6:1005], importance = TRUE, ntree = 100, na.omit = TRUE,      strata = top1000$ATTRIBUTE_UrbScore, sampsize = rep(min(table(top1000$ATTRIBUTE_UrbScore)),          nlevels(top1000$ATTRIBUTE_UrbScore))) \n",
       "               Type of random forest: classification\n",
       "                     Number of trees: 100\n",
       "No. of variables tried at each split: 31\n",
       "\n",
       "        OOB estimate of  error rate: 19.78%\n",
       "Confusion matrix:\n",
       "                    Isolated Rural (4) Mostly Rural (3) Rural and Urban (2)\n",
       "Isolated Rural (4)                  12                1                   1\n",
       "Mostly Rural (3)                     1               30                   4\n",
       "Rural and Urban (2)                  1                2                  23\n",
       "Urban (1)                            0                3                   5\n",
       "                    Urban (1) class.error\n",
       "Isolated Rural (4)          0   0.1428571\n",
       "Mostly Rural (3)            0   0.1428571\n",
       "Rural and Urban (2)         0   0.1153846\n",
       "Urban (1)                   8   0.5000000"
      ]
     },
     "metadata": {},
     "output_type": "display_data"
    },
    {
     "data": {
      "text/plain": [
       "\n",
       "Call:\n",
       " randomForest(formula = data_train$ATTRIBUTE_UrbScore ~ ., data = data_train[,      6:1005], importance = TRUE, ntree = 100, na.omit = TRUE,      strata = top1000$ATTRIBUTE_UrbScore, sampsize = rep(min(table(top1000$ATTRIBUTE_UrbScore)),          nlevels(top1000$ATTRIBUTE_UrbScore))) \n",
       "               Type of random forest: classification\n",
       "                     Number of trees: 100\n",
       "No. of variables tried at each split: 31\n",
       "\n",
       "        OOB estimate of  error rate: 16.48%\n",
       "Confusion matrix:\n",
       "                    Isolated Rural (4) Mostly Rural (3) Rural and Urban (2)\n",
       "Isolated Rural (4)                  12                1                   1\n",
       "Mostly Rural (3)                     1               30                   4\n",
       "Rural and Urban (2)                  1                1                  24\n",
       "Urban (1)                            0                0                   6\n",
       "                    Urban (1) class.error\n",
       "Isolated Rural (4)          0  0.14285714\n",
       "Mostly Rural (3)            0  0.14285714\n",
       "Rural and Urban (2)         0  0.07692308\n",
       "Urban (1)                  10  0.37500000"
      ]
     },
     "metadata": {},
     "output_type": "display_data"
    },
    {
     "data": {
      "text/plain": [
       "\n",
       "Call:\n",
       " randomForest(formula = data_train$ATTRIBUTE_UrbScore ~ ., data = data_train[,      6:1005], importance = TRUE, ntree = 100, na.omit = TRUE,      strata = top1000$ATTRIBUTE_UrbScore, sampsize = rep(min(table(top1000$ATTRIBUTE_UrbScore)),          nlevels(top1000$ATTRIBUTE_UrbScore))) \n",
       "               Type of random forest: classification\n",
       "                     Number of trees: 100\n",
       "No. of variables tried at each split: 31\n",
       "\n",
       "        OOB estimate of  error rate: 19.78%\n",
       "Confusion matrix:\n",
       "                    Isolated Rural (4) Mostly Rural (3) Rural and Urban (2)\n",
       "Isolated Rural (4)                  11                1                   2\n",
       "Mostly Rural (3)                     1               30                   4\n",
       "Rural and Urban (2)                  0                2                  24\n",
       "Urban (1)                            0                2                   6\n",
       "                    Urban (1) class.error\n",
       "Isolated Rural (4)          0  0.21428571\n",
       "Mostly Rural (3)            0  0.14285714\n",
       "Rural and Urban (2)         0  0.07692308\n",
       "Urban (1)                   8  0.50000000"
      ]
     },
     "metadata": {},
     "output_type": "display_data"
    },
    {
     "data": {
      "text/plain": [
       "\n",
       "Call:\n",
       " randomForest(formula = data_train$ATTRIBUTE_UrbScore ~ ., data = data_train[,      6:1005], importance = TRUE, ntree = 100, na.omit = TRUE,      strata = top1000$ATTRIBUTE_UrbScore, sampsize = rep(min(table(top1000$ATTRIBUTE_UrbScore)),          nlevels(top1000$ATTRIBUTE_UrbScore))) \n",
       "               Type of random forest: classification\n",
       "                     Number of trees: 100\n",
       "No. of variables tried at each split: 31\n",
       "\n",
       "        OOB estimate of  error rate: 20.88%\n",
       "Confusion matrix:\n",
       "                    Isolated Rural (4) Mostly Rural (3) Rural and Urban (2)\n",
       "Isolated Rural (4)                  10                2                   2\n",
       "Mostly Rural (3)                     1               28                   6\n",
       "Rural and Urban (2)                  0                1                  25\n",
       "Urban (1)                            0                1                   6\n",
       "                    Urban (1) class.error\n",
       "Isolated Rural (4)          0  0.28571429\n",
       "Mostly Rural (3)            0  0.20000000\n",
       "Rural and Urban (2)         0  0.03846154\n",
       "Urban (1)                   9  0.43750000"
      ]
     },
     "metadata": {},
     "output_type": "display_data"
    },
    {
     "data": {
      "text/plain": [
       "\n",
       "Call:\n",
       " randomForest(formula = data_train$ATTRIBUTE_UrbScore ~ ., data = data_train[,      6:1005], importance = TRUE, ntree = 100, na.omit = TRUE,      strata = top1000$ATTRIBUTE_UrbScore, sampsize = rep(min(table(top1000$ATTRIBUTE_UrbScore)),          nlevels(top1000$ATTRIBUTE_UrbScore))) \n",
       "               Type of random forest: classification\n",
       "                     Number of trees: 100\n",
       "No. of variables tried at each split: 31\n",
       "\n",
       "        OOB estimate of  error rate: 25.27%\n",
       "Confusion matrix:\n",
       "                    Isolated Rural (4) Mostly Rural (3) Rural and Urban (2)\n",
       "Isolated Rural (4)                   9                3                   2\n",
       "Mostly Rural (3)                     1               29                   5\n",
       "Rural and Urban (2)                  0                2                  22\n",
       "Urban (1)                            0                3                   5\n",
       "                    Urban (1) class.error\n",
       "Isolated Rural (4)          0   0.3571429\n",
       "Mostly Rural (3)            0   0.1714286\n",
       "Rural and Urban (2)         2   0.1538462\n",
       "Urban (1)                   8   0.5000000"
      ]
     },
     "metadata": {},
     "output_type": "display_data"
    },
    {
     "data": {
      "text/plain": [
       "\n",
       "Call:\n",
       " randomForest(formula = data_train$ATTRIBUTE_UrbScore ~ ., data = data_train[,      6:1005], importance = TRUE, ntree = 100, na.omit = TRUE,      strata = top1000$ATTRIBUTE_UrbScore, sampsize = rep(min(table(top1000$ATTRIBUTE_UrbScore)),          nlevels(top1000$ATTRIBUTE_UrbScore))) \n",
       "               Type of random forest: classification\n",
       "                     Number of trees: 100\n",
       "No. of variables tried at each split: 31\n",
       "\n",
       "        OOB estimate of  error rate: 20.88%\n",
       "Confusion matrix:\n",
       "                    Isolated Rural (4) Mostly Rural (3) Rural and Urban (2)\n",
       "Isolated Rural (4)                  10                3                   1\n",
       "Mostly Rural (3)                     1               30                   4\n",
       "Rural and Urban (2)                  0                1                  23\n",
       "Urban (1)                            0                2                   5\n",
       "                    Urban (1) class.error\n",
       "Isolated Rural (4)          0   0.2857143\n",
       "Mostly Rural (3)            0   0.1428571\n",
       "Rural and Urban (2)         2   0.1153846\n",
       "Urban (1)                   9   0.4375000"
      ]
     },
     "metadata": {},
     "output_type": "display_data"
    },
    {
     "data": {
      "text/plain": [
       "\n",
       "Call:\n",
       " randomForest(formula = data_train$ATTRIBUTE_UrbScore ~ ., data = data_train[,      6:1005], importance = TRUE, ntree = 100, na.omit = TRUE,      strata = top1000$ATTRIBUTE_UrbScore, sampsize = rep(min(table(top1000$ATTRIBUTE_UrbScore)),          nlevels(top1000$ATTRIBUTE_UrbScore))) \n",
       "               Type of random forest: classification\n",
       "                     Number of trees: 100\n",
       "No. of variables tried at each split: 31\n",
       "\n",
       "        OOB estimate of  error rate: 19.78%\n",
       "Confusion matrix:\n",
       "                    Isolated Rural (4) Mostly Rural (3) Rural and Urban (2)\n",
       "Isolated Rural (4)                  12                0                   2\n",
       "Mostly Rural (3)                     0               30                   5\n",
       "Rural and Urban (2)                  0                1                  24\n",
       "Urban (1)                            0                3                   6\n",
       "                    Urban (1) class.error\n",
       "Isolated Rural (4)          0  0.14285714\n",
       "Mostly Rural (3)            0  0.14285714\n",
       "Rural and Urban (2)         1  0.07692308\n",
       "Urban (1)                   7  0.56250000"
      ]
     },
     "metadata": {},
     "output_type": "display_data"
    },
    {
     "data": {
      "text/plain": [
       "\n",
       "Call:\n",
       " randomForest(formula = data_train$ATTRIBUTE_UrbScore ~ ., data = data_train[,      6:1005], importance = TRUE, ntree = 100, na.omit = TRUE,      strata = top1000$ATTRIBUTE_UrbScore, sampsize = rep(min(table(top1000$ATTRIBUTE_UrbScore)),          nlevels(top1000$ATTRIBUTE_UrbScore))) \n",
       "               Type of random forest: classification\n",
       "                     Number of trees: 100\n",
       "No. of variables tried at each split: 31\n",
       "\n",
       "        OOB estimate of  error rate: 19.78%\n",
       "Confusion matrix:\n",
       "                    Isolated Rural (4) Mostly Rural (3) Rural and Urban (2)\n",
       "Isolated Rural (4)                  11                1                   2\n",
       "Mostly Rural (3)                     1               30                   3\n",
       "Rural and Urban (2)                  1                1                  22\n",
       "Urban (1)                            0                1                   5\n",
       "                    Urban (1) class.error\n",
       "Isolated Rural (4)          0   0.2142857\n",
       "Mostly Rural (3)            1   0.1428571\n",
       "Rural and Urban (2)         2   0.1538462\n",
       "Urban (1)                  10   0.3750000"
      ]
     },
     "metadata": {},
     "output_type": "display_data"
    },
    {
     "data": {
      "text/plain": [
       "\n",
       "Call:\n",
       " randomForest(formula = data_train$ATTRIBUTE_UrbScore ~ ., data = data_train[,      6:1005], importance = TRUE, ntree = 100, na.omit = TRUE,      strata = top1000$ATTRIBUTE_UrbScore, sampsize = rep(min(table(top1000$ATTRIBUTE_UrbScore)),          nlevels(top1000$ATTRIBUTE_UrbScore))) \n",
       "               Type of random forest: classification\n",
       "                     Number of trees: 100\n",
       "No. of variables tried at each split: 31\n",
       "\n",
       "        OOB estimate of  error rate: 15.38%\n",
       "Confusion matrix:\n",
       "                    Isolated Rural (4) Mostly Rural (3) Rural and Urban (2)\n",
       "Isolated Rural (4)                  11                2                   1\n",
       "Mostly Rural (3)                     1               30                   3\n",
       "Rural and Urban (2)                  0                0                  26\n",
       "Urban (1)                            0                1                   5\n",
       "                    Urban (1) class.error\n",
       "Isolated Rural (4)          0   0.2142857\n",
       "Mostly Rural (3)            1   0.1428571\n",
       "Rural and Urban (2)         0   0.0000000\n",
       "Urban (1)                  10   0.3750000"
      ]
     },
     "metadata": {},
     "output_type": "display_data"
    },
    {
     "data": {
      "text/plain": [
       "\n",
       "Call:\n",
       " randomForest(formula = data_train$ATTRIBUTE_UrbScore ~ ., data = data_train[,      6:1005], importance = TRUE, ntree = 100, na.omit = TRUE,      strata = top1000$ATTRIBUTE_UrbScore, sampsize = rep(min(table(top1000$ATTRIBUTE_UrbScore)),          nlevels(top1000$ATTRIBUTE_UrbScore))) \n",
       "               Type of random forest: classification\n",
       "                     Number of trees: 100\n",
       "No. of variables tried at each split: 31\n",
       "\n",
       "        OOB estimate of  error rate: 21.98%\n",
       "Confusion matrix:\n",
       "                    Isolated Rural (4) Mostly Rural (3) Rural and Urban (2)\n",
       "Isolated Rural (4)                  11                1                   2\n",
       "Mostly Rural (3)                     2               28                   5\n",
       "Rural and Urban (2)                  1                2                  22\n",
       "Urban (1)                            0                2                   4\n",
       "                    Urban (1) class.error\n",
       "Isolated Rural (4)          0   0.2142857\n",
       "Mostly Rural (3)            0   0.2000000\n",
       "Rural and Urban (2)         1   0.1538462\n",
       "Urban (1)                  10   0.3750000"
      ]
     },
     "metadata": {},
     "output_type": "display_data"
    },
    {
     "data": {
      "text/plain": [
       "\n",
       "Call:\n",
       " randomForest(formula = data_train$ATTRIBUTE_UrbScore ~ ., data = data_train[,      6:1005], importance = TRUE, ntree = 100, na.omit = TRUE,      strata = top1000$ATTRIBUTE_UrbScore, sampsize = rep(min(table(top1000$ATTRIBUTE_UrbScore)),          nlevels(top1000$ATTRIBUTE_UrbScore))) \n",
       "               Type of random forest: classification\n",
       "                     Number of trees: 100\n",
       "No. of variables tried at each split: 31\n",
       "\n",
       "        OOB estimate of  error rate: 16.48%\n",
       "Confusion matrix:\n",
       "                    Isolated Rural (4) Mostly Rural (3) Rural and Urban (2)\n",
       "Isolated Rural (4)                  12                1                   1\n",
       "Mostly Rural (3)                     1               30                   4\n",
       "Rural and Urban (2)                  0                2                  24\n",
       "Urban (1)                            0                3                   3\n",
       "                    Urban (1) class.error\n",
       "Isolated Rural (4)          0  0.14285714\n",
       "Mostly Rural (3)            0  0.14285714\n",
       "Rural and Urban (2)         0  0.07692308\n",
       "Urban (1)                  10  0.37500000"
      ]
     },
     "metadata": {},
     "output_type": "display_data"
    }
   ],
   "source": [
    "rf_100trees_rep1 <- randomForest(data_train$ATTRIBUTE_UrbScore~., data=data_train[,6:1005],importance=TRUE,ntree=100,na.omit=TRUE,strata=top1000$ATTRIBUTE_UrbScore, sampsize=rep(min(table(top1000$ATTRIBUTE_UrbScore)),nlevels(top1000$ATTRIBUTE_UrbScore)))\n",
    "rf_100trees_rep1\n",
    "rf_100trees_rep2 <- randomForest(data_train$ATTRIBUTE_UrbScore~., data=data_train[,6:1005],importance=TRUE,ntree=100,na.omit=TRUE,strata=top1000$ATTRIBUTE_UrbScore, sampsize=rep(min(table(top1000$ATTRIBUTE_UrbScore)),nlevels(top1000$ATTRIBUTE_UrbScore)))\n",
    "rf_100trees_rep2\n",
    "rf_100trees_rep3 <- randomForest(data_train$ATTRIBUTE_UrbScore~., data=data_train[,6:1005],importance=TRUE,ntree=100,na.omit=TRUE,strata=top1000$ATTRIBUTE_UrbScore, sampsize=rep(min(table(top1000$ATTRIBUTE_UrbScore)),nlevels(top1000$ATTRIBUTE_UrbScore)))\n",
    "rf_100trees_rep3\n",
    "rf_100trees_rep4 <- randomForest(data_train$ATTRIBUTE_UrbScore~., data=data_train[,6:1005],importance=TRUE,ntree=100,na.omit=TRUE,strata=top1000$ATTRIBUTE_UrbScore, sampsize=rep(min(table(top1000$ATTRIBUTE_UrbScore)),nlevels(top1000$ATTRIBUTE_UrbScore)))\n",
    "rf_100trees_rep4\n",
    "rf_100trees_rep5 <- randomForest(data_train$ATTRIBUTE_UrbScore~., data=data_train[,6:1005],importance=TRUE,ntree=100,na.omit=TRUE,strata=top1000$ATTRIBUTE_UrbScore, sampsize=rep(min(table(top1000$ATTRIBUTE_UrbScore)),nlevels(top1000$ATTRIBUTE_UrbScore)))\n",
    "rf_100trees_rep5\n",
    "rf_100trees_rep6 <- randomForest(data_train$ATTRIBUTE_UrbScore~., data=data_train[,6:1005],importance=TRUE,ntree=100,na.omit=TRUE,strata=top1000$ATTRIBUTE_UrbScore, sampsize=rep(min(table(top1000$ATTRIBUTE_UrbScore)),nlevels(top1000$ATTRIBUTE_UrbScore)))\n",
    "rf_100trees_rep6\n",
    "rf_100trees_rep7 <- randomForest(data_train$ATTRIBUTE_UrbScore~., data=data_train[,6:1005],importance=TRUE,ntree=100,na.omit=TRUE,strata=top1000$ATTRIBUTE_UrbScore, sampsize=rep(min(table(top1000$ATTRIBUTE_UrbScore)),nlevels(top1000$ATTRIBUTE_UrbScore)))\n",
    "rf_100trees_rep7\n",
    "rf_100trees_rep8 <- randomForest(data_train$ATTRIBUTE_UrbScore~., data=data_train[,6:1005],importance=TRUE,ntree=100,na.omit=TRUE,strata=top1000$ATTRIBUTE_UrbScore, sampsize=rep(min(table(top1000$ATTRIBUTE_UrbScore)),nlevels(top1000$ATTRIBUTE_UrbScore)))\n",
    "rf_100trees_rep8\n",
    "rf_100trees_rep9 <- randomForest(data_train$ATTRIBUTE_UrbScore~., data=data_train[,6:1005],importance=TRUE,ntree=100,na.omit=TRUE,strata=top1000$ATTRIBUTE_UrbScore, sampsize=rep(min(table(top1000$ATTRIBUTE_UrbScore)),nlevels(top1000$ATTRIBUTE_UrbScore)))\n",
    "rf_100trees_rep9\n",
    "rf_100trees_rep10 <- randomForest(data_train$ATTRIBUTE_UrbScore~., data=data_train[,6:1005],importance=TRUE,ntree=100,na.omit=TRUE,strata=top1000$ATTRIBUTE_UrbScore, sampsize=rep(min(table(top1000$ATTRIBUTE_UrbScore)),nlevels(top1000$ATTRIBUTE_UrbScore)))\n",
    "rf_100trees_rep10\n",
    "rf_100trees_rep11 <- randomForest(data_train$ATTRIBUTE_UrbScore~., data=data_train[,6:1005],importance=TRUE,ntree=100,na.omit=TRUE,strata=top1000$ATTRIBUTE_UrbScore, sampsize=rep(min(table(top1000$ATTRIBUTE_UrbScore)),nlevels(top1000$ATTRIBUTE_UrbScore)))\n",
    "rf_100trees_rep11\n",
    "rf_100trees_rep12 <- randomForest(data_train$ATTRIBUTE_UrbScore~., data=data_train[,6:1005],importance=TRUE,ntree=100,na.omit=TRUE,strata=top1000$ATTRIBUTE_UrbScore, sampsize=rep(min(table(top1000$ATTRIBUTE_UrbScore)),nlevels(top1000$ATTRIBUTE_UrbScore)))\n",
    "rf_100trees_rep12\n",
    "rf_100trees_rep13 <- randomForest(data_train$ATTRIBUTE_UrbScore~., data=data_train[,6:1005],importance=TRUE,ntree=100,na.omit=TRUE,strata=top1000$ATTRIBUTE_UrbScore, sampsize=rep(min(table(top1000$ATTRIBUTE_UrbScore)),nlevels(top1000$ATTRIBUTE_UrbScore)))\n",
    "rf_100trees_rep13\n",
    "rf_100trees_rep14 <- randomForest(data_train$ATTRIBUTE_UrbScore~., data=data_train[,6:1005],importance=TRUE,ntree=100,na.omit=TRUE,strata=top1000$ATTRIBUTE_UrbScore, sampsize=rep(min(table(top1000$ATTRIBUTE_UrbScore)),nlevels(top1000$ATTRIBUTE_UrbScore)))\n",
    "rf_100trees_rep14\n",
    "rf_100trees_rep15 <- randomForest(data_train$ATTRIBUTE_UrbScore~., data=data_train[,6:1005],importance=TRUE,ntree=100,na.omit=TRUE,strata=top1000$ATTRIBUTE_UrbScore, sampsize=rep(min(table(top1000$ATTRIBUTE_UrbScore)),nlevels(top1000$ATTRIBUTE_UrbScore)))\n",
    "rf_100trees_rep15\n",
    "rf_100trees_rep16 <- randomForest(data_train$ATTRIBUTE_UrbScore~., data=data_train[,6:1005],importance=TRUE,ntree=100,na.omit=TRUE,strata=top1000$ATTRIBUTE_UrbScore, sampsize=rep(min(table(top1000$ATTRIBUTE_UrbScore)),nlevels(top1000$ATTRIBUTE_UrbScore)))\n",
    "rf_100trees_rep16\n",
    "rf_100trees_rep17 <- randomForest(data_train$ATTRIBUTE_UrbScore~., data=data_train[,6:1005],importance=TRUE,ntree=100,na.omit=TRUE,strata=top1000$ATTRIBUTE_UrbScore, sampsize=rep(min(table(top1000$ATTRIBUTE_UrbScore)),nlevels(top1000$ATTRIBUTE_UrbScore)))\n",
    "rf_100trees_rep17\n",
    "rf_100trees_rep18 <- randomForest(data_train$ATTRIBUTE_UrbScore~., data=data_train[,6:1005],importance=TRUE,ntree=100,na.omit=TRUE,strata=top1000$ATTRIBUTE_UrbScore, sampsize=rep(min(table(top1000$ATTRIBUTE_UrbScore)),nlevels(top1000$ATTRIBUTE_UrbScore)))\n",
    "rf_100trees_rep18\n",
    "rf_100trees_rep19 <- randomForest(data_train$ATTRIBUTE_UrbScore~., data=data_train[,6:1005],importance=TRUE,ntree=100,na.omit=TRUE,strata=top1000$ATTRIBUTE_UrbScore, sampsize=rep(min(table(top1000$ATTRIBUTE_UrbScore)),nlevels(top1000$ATTRIBUTE_UrbScore)))\n",
    "rf_100trees_rep19\n",
    "rf_100trees_rep20 <- randomForest(data_train$ATTRIBUTE_UrbScore~., data=data_train[,6:1005],importance=TRUE,ntree=100,na.omit=TRUE,strata=top1000$ATTRIBUTE_UrbScore, sampsize=rep(min(table(top1000$ATTRIBUTE_UrbScore)),nlevels(top1000$ATTRIBUTE_UrbScore)))\n",
    "rf_100trees_rep20"
   ]
  },
  {
   "cell_type": "code",
   "execution_count": 17,
   "metadata": {
    "scrolled": true
   },
   "outputs": [
    {
     "data": {
      "text/plain": [
       "\n",
       "Call:\n",
       " randomForest(formula = data_train$ATTRIBUTE_UrbScore ~ ., data = data_train[,      6:1005], importance = TRUE, ntree = 200, na.omit = TRUE,      strata = top1000$ATTRIBUTE_UrbScore, sampsize = rep(min(table(top1000$ATTRIBUTE_UrbScore)),          nlevels(top1000$ATTRIBUTE_UrbScore))) \n",
       "               Type of random forest: classification\n",
       "                     Number of trees: 200\n",
       "No. of variables tried at each split: 31\n",
       "\n",
       "        OOB estimate of  error rate: 17.58%\n",
       "Confusion matrix:\n",
       "                    Isolated Rural (4) Mostly Rural (3) Rural and Urban (2)\n",
       "Isolated Rural (4)                  10                2                   2\n",
       "Mostly Rural (3)                     2               28                   5\n",
       "Rural and Urban (2)                  0                0                  26\n",
       "Urban (1)                            0                1                   4\n",
       "                    Urban (1) class.error\n",
       "Isolated Rural (4)          0   0.2857143\n",
       "Mostly Rural (3)            0   0.2000000\n",
       "Rural and Urban (2)         0   0.0000000\n",
       "Urban (1)                  11   0.3125000"
      ]
     },
     "metadata": {},
     "output_type": "display_data"
    },
    {
     "data": {
      "text/plain": [
       "\n",
       "Call:\n",
       " randomForest(formula = data_train$ATTRIBUTE_UrbScore ~ ., data = data_train[,      6:1005], importance = TRUE, ntree = 200, na.omit = TRUE,      strata = top1000$ATTRIBUTE_UrbScore, sampsize = rep(min(table(top1000$ATTRIBUTE_UrbScore)),          nlevels(top1000$ATTRIBUTE_UrbScore))) \n",
       "               Type of random forest: classification\n",
       "                     Number of trees: 200\n",
       "No. of variables tried at each split: 31\n",
       "\n",
       "        OOB estimate of  error rate: 18.68%\n",
       "Confusion matrix:\n",
       "                    Isolated Rural (4) Mostly Rural (3) Rural and Urban (2)\n",
       "Isolated Rural (4)                  12                0                   2\n",
       "Mostly Rural (3)                     2               28                   5\n",
       "Rural and Urban (2)                  0                2                  24\n",
       "Urban (1)                            0                2                   4\n",
       "                    Urban (1) class.error\n",
       "Isolated Rural (4)          0  0.14285714\n",
       "Mostly Rural (3)            0  0.20000000\n",
       "Rural and Urban (2)         0  0.07692308\n",
       "Urban (1)                  10  0.37500000"
      ]
     },
     "metadata": {},
     "output_type": "display_data"
    },
    {
     "data": {
      "text/plain": [
       "\n",
       "Call:\n",
       " randomForest(formula = data_train$ATTRIBUTE_UrbScore ~ ., data = data_train[,      6:1005], importance = TRUE, ntree = 200, na.omit = TRUE,      strata = top1000$ATTRIBUTE_UrbScore, sampsize = rep(min(table(top1000$ATTRIBUTE_UrbScore)),          nlevels(top1000$ATTRIBUTE_UrbScore))) \n",
       "               Type of random forest: classification\n",
       "                     Number of trees: 200\n",
       "No. of variables tried at each split: 31\n",
       "\n",
       "        OOB estimate of  error rate: 16.48%\n",
       "Confusion matrix:\n",
       "                    Isolated Rural (4) Mostly Rural (3) Rural and Urban (2)\n",
       "Isolated Rural (4)                  12                0                   2\n",
       "Mostly Rural (3)                     1               29                   5\n",
       "Rural and Urban (2)                  0                0                  25\n",
       "Urban (1)                            0                1                   5\n",
       "                    Urban (1) class.error\n",
       "Isolated Rural (4)          0  0.14285714\n",
       "Mostly Rural (3)            0  0.17142857\n",
       "Rural and Urban (2)         1  0.03846154\n",
       "Urban (1)                  10  0.37500000"
      ]
     },
     "metadata": {},
     "output_type": "display_data"
    },
    {
     "data": {
      "text/plain": [
       "\n",
       "Call:\n",
       " randomForest(formula = data_train$ATTRIBUTE_UrbScore ~ ., data = data_train[,      6:1005], importance = TRUE, ntree = 200, na.omit = TRUE,      strata = top1000$ATTRIBUTE_UrbScore, sampsize = rep(min(table(top1000$ATTRIBUTE_UrbScore)),          nlevels(top1000$ATTRIBUTE_UrbScore))) \n",
       "               Type of random forest: classification\n",
       "                     Number of trees: 200\n",
       "No. of variables tried at each split: 31\n",
       "\n",
       "        OOB estimate of  error rate: 15.38%\n",
       "Confusion matrix:\n",
       "                    Isolated Rural (4) Mostly Rural (3) Rural and Urban (2)\n",
       "Isolated Rural (4)                  12                1                   1\n",
       "Mostly Rural (3)                     2               29                   4\n",
       "Rural and Urban (2)                  0                0                  26\n",
       "Urban (1)                            0                2                   4\n",
       "                    Urban (1) class.error\n",
       "Isolated Rural (4)          0   0.1428571\n",
       "Mostly Rural (3)            0   0.1714286\n",
       "Rural and Urban (2)         0   0.0000000\n",
       "Urban (1)                  10   0.3750000"
      ]
     },
     "metadata": {},
     "output_type": "display_data"
    },
    {
     "data": {
      "text/plain": [
       "\n",
       "Call:\n",
       " randomForest(formula = data_train$ATTRIBUTE_UrbScore ~ ., data = data_train[,      6:1005], importance = TRUE, ntree = 200, na.omit = TRUE,      strata = top1000$ATTRIBUTE_UrbScore, sampsize = rep(min(table(top1000$ATTRIBUTE_UrbScore)),          nlevels(top1000$ATTRIBUTE_UrbScore))) \n",
       "               Type of random forest: classification\n",
       "                     Number of trees: 200\n",
       "No. of variables tried at each split: 31\n",
       "\n",
       "        OOB estimate of  error rate: 17.58%\n",
       "Confusion matrix:\n",
       "                    Isolated Rural (4) Mostly Rural (3) Rural and Urban (2)\n",
       "Isolated Rural (4)                  12                0                   2\n",
       "Mostly Rural (3)                     1               28                   6\n",
       "Rural and Urban (2)                  0                1                  25\n",
       "Urban (1)                            0                0                   6\n",
       "                    Urban (1) class.error\n",
       "Isolated Rural (4)          0  0.14285714\n",
       "Mostly Rural (3)            0  0.20000000\n",
       "Rural and Urban (2)         0  0.03846154\n",
       "Urban (1)                  10  0.37500000"
      ]
     },
     "metadata": {},
     "output_type": "display_data"
    },
    {
     "data": {
      "text/plain": [
       "\n",
       "Call:\n",
       " randomForest(formula = data_train$ATTRIBUTE_UrbScore ~ ., data = data_train[,      6:1005], importance = TRUE, ntree = 200, na.omit = TRUE,      strata = top1000$ATTRIBUTE_UrbScore, sampsize = rep(min(table(top1000$ATTRIBUTE_UrbScore)),          nlevels(top1000$ATTRIBUTE_UrbScore))) \n",
       "               Type of random forest: classification\n",
       "                     Number of trees: 200\n",
       "No. of variables tried at each split: 31\n",
       "\n",
       "        OOB estimate of  error rate: 17.58%\n",
       "Confusion matrix:\n",
       "                    Isolated Rural (4) Mostly Rural (3) Rural and Urban (2)\n",
       "Isolated Rural (4)                  11                1                   2\n",
       "Mostly Rural (3)                     2               28                   5\n",
       "Rural and Urban (2)                  0                1                  24\n",
       "Urban (1)                            0                1                   3\n",
       "                    Urban (1) class.error\n",
       "Isolated Rural (4)          0  0.21428571\n",
       "Mostly Rural (3)            0  0.20000000\n",
       "Rural and Urban (2)         1  0.07692308\n",
       "Urban (1)                  12  0.25000000"
      ]
     },
     "metadata": {},
     "output_type": "display_data"
    },
    {
     "data": {
      "text/plain": [
       "\n",
       "Call:\n",
       " randomForest(formula = data_train$ATTRIBUTE_UrbScore ~ ., data = data_train[,      6:1005], importance = TRUE, ntree = 200, na.omit = TRUE,      strata = top1000$ATTRIBUTE_UrbScore, sampsize = rep(min(table(top1000$ATTRIBUTE_UrbScore)),          nlevels(top1000$ATTRIBUTE_UrbScore))) \n",
       "               Type of random forest: classification\n",
       "                     Number of trees: 200\n",
       "No. of variables tried at each split: 31\n",
       "\n",
       "        OOB estimate of  error rate: 20.88%\n",
       "Confusion matrix:\n",
       "                    Isolated Rural (4) Mostly Rural (3) Rural and Urban (2)\n",
       "Isolated Rural (4)                  12                0                   2\n",
       "Mostly Rural (3)                     2               28                   4\n",
       "Rural and Urban (2)                  0                0                  25\n",
       "Urban (1)                            0                2                   7\n",
       "                    Urban (1) class.error\n",
       "Isolated Rural (4)          0  0.14285714\n",
       "Mostly Rural (3)            1  0.20000000\n",
       "Rural and Urban (2)         1  0.03846154\n",
       "Urban (1)                   7  0.56250000"
      ]
     },
     "metadata": {},
     "output_type": "display_data"
    },
    {
     "data": {
      "text/plain": [
       "\n",
       "Call:\n",
       " randomForest(formula = data_train$ATTRIBUTE_UrbScore ~ ., data = data_train[,      6:1005], importance = TRUE, ntree = 200, na.omit = TRUE,      strata = top1000$ATTRIBUTE_UrbScore, sampsize = rep(min(table(top1000$ATTRIBUTE_UrbScore)),          nlevels(top1000$ATTRIBUTE_UrbScore))) \n",
       "               Type of random forest: classification\n",
       "                     Number of trees: 200\n",
       "No. of variables tried at each split: 31\n",
       "\n",
       "        OOB estimate of  error rate: 17.58%\n",
       "Confusion matrix:\n",
       "                    Isolated Rural (4) Mostly Rural (3) Rural and Urban (2)\n",
       "Isolated Rural (4)                  11                1                   2\n",
       "Mostly Rural (3)                     2               28                   5\n",
       "Rural and Urban (2)                  0                0                  26\n",
       "Urban (1)                            0                2                   4\n",
       "                    Urban (1) class.error\n",
       "Isolated Rural (4)          0   0.2142857\n",
       "Mostly Rural (3)            0   0.2000000\n",
       "Rural and Urban (2)         0   0.0000000\n",
       "Urban (1)                  10   0.3750000"
      ]
     },
     "metadata": {},
     "output_type": "display_data"
    },
    {
     "data": {
      "text/plain": [
       "\n",
       "Call:\n",
       " randomForest(formula = data_train$ATTRIBUTE_UrbScore ~ ., data = data_train[,      6:1005], importance = TRUE, ntree = 200, na.omit = TRUE,      strata = top1000$ATTRIBUTE_UrbScore, sampsize = rep(min(table(top1000$ATTRIBUTE_UrbScore)),          nlevels(top1000$ATTRIBUTE_UrbScore))) \n",
       "               Type of random forest: classification\n",
       "                     Number of trees: 200\n",
       "No. of variables tried at each split: 31\n",
       "\n",
       "        OOB estimate of  error rate: 13.19%\n",
       "Confusion matrix:\n",
       "                    Isolated Rural (4) Mostly Rural (3) Rural and Urban (2)\n",
       "Isolated Rural (4)                  12                1                   1\n",
       "Mostly Rural (3)                     1               31                   3\n",
       "Rural and Urban (2)                  0                1                  25\n",
       "Urban (1)                            0                1                   4\n",
       "                    Urban (1) class.error\n",
       "Isolated Rural (4)          0  0.14285714\n",
       "Mostly Rural (3)            0  0.11428571\n",
       "Rural and Urban (2)         0  0.03846154\n",
       "Urban (1)                  11  0.31250000"
      ]
     },
     "metadata": {},
     "output_type": "display_data"
    },
    {
     "data": {
      "text/plain": [
       "\n",
       "Call:\n",
       " randomForest(formula = data_train$ATTRIBUTE_UrbScore ~ ., data = data_train[,      6:1005], importance = TRUE, ntree = 200, na.omit = TRUE,      strata = top1000$ATTRIBUTE_UrbScore, sampsize = rep(min(table(top1000$ATTRIBUTE_UrbScore)),          nlevels(top1000$ATTRIBUTE_UrbScore))) \n",
       "               Type of random forest: classification\n",
       "                     Number of trees: 200\n",
       "No. of variables tried at each split: 31\n",
       "\n",
       "        OOB estimate of  error rate: 17.58%\n",
       "Confusion matrix:\n",
       "                    Isolated Rural (4) Mostly Rural (3) Rural and Urban (2)\n",
       "Isolated Rural (4)                  10                2                   2\n",
       "Mostly Rural (3)                     3               28                   4\n",
       "Rural and Urban (2)                  0                0                  26\n",
       "Urban (1)                            0                2                   3\n",
       "                    Urban (1) class.error\n",
       "Isolated Rural (4)          0   0.2857143\n",
       "Mostly Rural (3)            0   0.2000000\n",
       "Rural and Urban (2)         0   0.0000000\n",
       "Urban (1)                  11   0.3125000"
      ]
     },
     "metadata": {},
     "output_type": "display_data"
    },
    {
     "data": {
      "text/plain": [
       "\n",
       "Call:\n",
       " randomForest(formula = data_train$ATTRIBUTE_UrbScore ~ ., data = data_train[,      6:1005], importance = TRUE, ntree = 200, na.omit = TRUE,      strata = top1000$ATTRIBUTE_UrbScore, sampsize = rep(min(table(top1000$ATTRIBUTE_UrbScore)),          nlevels(top1000$ATTRIBUTE_UrbScore))) \n",
       "               Type of random forest: classification\n",
       "                     Number of trees: 200\n",
       "No. of variables tried at each split: 31\n",
       "\n",
       "        OOB estimate of  error rate: 13.19%\n",
       "Confusion matrix:\n",
       "                    Isolated Rural (4) Mostly Rural (3) Rural and Urban (2)\n",
       "Isolated Rural (4)                  12                1                   1\n",
       "Mostly Rural (3)                     0               31                   4\n",
       "Rural and Urban (2)                  0                0                  26\n",
       "Urban (1)                            0                2                   4\n",
       "                    Urban (1) class.error\n",
       "Isolated Rural (4)          0   0.1428571\n",
       "Mostly Rural (3)            0   0.1142857\n",
       "Rural and Urban (2)         0   0.0000000\n",
       "Urban (1)                  10   0.3750000"
      ]
     },
     "metadata": {},
     "output_type": "display_data"
    },
    {
     "data": {
      "text/plain": [
       "\n",
       "Call:\n",
       " randomForest(formula = data_train$ATTRIBUTE_UrbScore ~ ., data = data_train[,      6:1005], importance = TRUE, ntree = 200, na.omit = TRUE,      strata = top1000$ATTRIBUTE_UrbScore, sampsize = rep(min(table(top1000$ATTRIBUTE_UrbScore)),          nlevels(top1000$ATTRIBUTE_UrbScore))) \n",
       "               Type of random forest: classification\n",
       "                     Number of trees: 200\n",
       "No. of variables tried at each split: 31\n",
       "\n",
       "        OOB estimate of  error rate: 19.78%\n",
       "Confusion matrix:\n",
       "                    Isolated Rural (4) Mostly Rural (3) Rural and Urban (2)\n",
       "Isolated Rural (4)                  12                0                   2\n",
       "Mostly Rural (3)                     1               30                   4\n",
       "Rural and Urban (2)                  1                2                  23\n",
       "Urban (1)                            0                1                   7\n",
       "                    Urban (1) class.error\n",
       "Isolated Rural (4)          0   0.1428571\n",
       "Mostly Rural (3)            0   0.1428571\n",
       "Rural and Urban (2)         0   0.1153846\n",
       "Urban (1)                   8   0.5000000"
      ]
     },
     "metadata": {},
     "output_type": "display_data"
    },
    {
     "data": {
      "text/plain": [
       "\n",
       "Call:\n",
       " randomForest(formula = data_train$ATTRIBUTE_UrbScore ~ ., data = data_train[,      6:1005], importance = TRUE, ntree = 200, na.omit = TRUE,      strata = top1000$ATTRIBUTE_UrbScore, sampsize = rep(min(table(top1000$ATTRIBUTE_UrbScore)),          nlevels(top1000$ATTRIBUTE_UrbScore))) \n",
       "               Type of random forest: classification\n",
       "                     Number of trees: 200\n",
       "No. of variables tried at each split: 31\n",
       "\n",
       "        OOB estimate of  error rate: 19.78%\n",
       "Confusion matrix:\n",
       "                    Isolated Rural (4) Mostly Rural (3) Rural and Urban (2)\n",
       "Isolated Rural (4)                  11                1                   2\n",
       "Mostly Rural (3)                     2               28                   5\n",
       "Rural and Urban (2)                  0                3                  23\n",
       "Urban (1)                            0                0                   5\n",
       "                    Urban (1) class.error\n",
       "Isolated Rural (4)          0   0.2142857\n",
       "Mostly Rural (3)            0   0.2000000\n",
       "Rural and Urban (2)         0   0.1153846\n",
       "Urban (1)                  11   0.3125000"
      ]
     },
     "metadata": {},
     "output_type": "display_data"
    },
    {
     "data": {
      "text/plain": [
       "\n",
       "Call:\n",
       " randomForest(formula = data_train$ATTRIBUTE_UrbScore ~ ., data = data_train[,      6:1005], importance = TRUE, ntree = 200, na.omit = TRUE,      strata = top1000$ATTRIBUTE_UrbScore, sampsize = rep(min(table(top1000$ATTRIBUTE_UrbScore)),          nlevels(top1000$ATTRIBUTE_UrbScore))) \n",
       "               Type of random forest: classification\n",
       "                     Number of trees: 200\n",
       "No. of variables tried at each split: 31\n",
       "\n",
       "        OOB estimate of  error rate: 17.58%\n",
       "Confusion matrix:\n",
       "                    Isolated Rural (4) Mostly Rural (3) Rural and Urban (2)\n",
       "Isolated Rural (4)                  12                1                   1\n",
       "Mostly Rural (3)                     0               31                   4\n",
       "Rural and Urban (2)                  0                2                  24\n",
       "Urban (1)                            0                3                   5\n",
       "                    Urban (1) class.error\n",
       "Isolated Rural (4)          0  0.14285714\n",
       "Mostly Rural (3)            0  0.11428571\n",
       "Rural and Urban (2)         0  0.07692308\n",
       "Urban (1)                   8  0.50000000"
      ]
     },
     "metadata": {},
     "output_type": "display_data"
    },
    {
     "data": {
      "text/plain": [
       "\n",
       "Call:\n",
       " randomForest(formula = data_train$ATTRIBUTE_UrbScore ~ ., data = data_train[,      6:1005], importance = TRUE, ntree = 200, na.omit = TRUE,      strata = top1000$ATTRIBUTE_UrbScore, sampsize = rep(min(table(top1000$ATTRIBUTE_UrbScore)),          nlevels(top1000$ATTRIBUTE_UrbScore))) \n",
       "               Type of random forest: classification\n",
       "                     Number of trees: 200\n",
       "No. of variables tried at each split: 31\n",
       "\n",
       "        OOB estimate of  error rate: 19.78%\n",
       "Confusion matrix:\n",
       "                    Isolated Rural (4) Mostly Rural (3) Rural and Urban (2)\n",
       "Isolated Rural (4)                  11                1                   2\n",
       "Mostly Rural (3)                     1               30                   4\n",
       "Rural and Urban (2)                  2                1                  23\n",
       "Urban (1)                            0                1                   6\n",
       "                    Urban (1) class.error\n",
       "Isolated Rural (4)          0   0.2142857\n",
       "Mostly Rural (3)            0   0.1428571\n",
       "Rural and Urban (2)         0   0.1153846\n",
       "Urban (1)                   9   0.4375000"
      ]
     },
     "metadata": {},
     "output_type": "display_data"
    },
    {
     "data": {
      "text/plain": [
       "\n",
       "Call:\n",
       " randomForest(formula = data_train$ATTRIBUTE_UrbScore ~ ., data = data_train[,      6:1005], importance = TRUE, ntree = 200, na.omit = TRUE,      strata = top1000$ATTRIBUTE_UrbScore, sampsize = rep(min(table(top1000$ATTRIBUTE_UrbScore)),          nlevels(top1000$ATTRIBUTE_UrbScore))) \n",
       "               Type of random forest: classification\n",
       "                     Number of trees: 200\n",
       "No. of variables tried at each split: 31\n",
       "\n",
       "        OOB estimate of  error rate: 12.09%\n",
       "Confusion matrix:\n",
       "                    Isolated Rural (4) Mostly Rural (3) Rural and Urban (2)\n",
       "Isolated Rural (4)                  13                0                   1\n",
       "Mostly Rural (3)                     1               30                   4\n",
       "Rural and Urban (2)                  0                0                  26\n",
       "Urban (1)                            0                1                   4\n",
       "                    Urban (1) class.error\n",
       "Isolated Rural (4)          0  0.07142857\n",
       "Mostly Rural (3)            0  0.14285714\n",
       "Rural and Urban (2)         0  0.00000000\n",
       "Urban (1)                  11  0.31250000"
      ]
     },
     "metadata": {},
     "output_type": "display_data"
    },
    {
     "data": {
      "text/plain": [
       "\n",
       "Call:\n",
       " randomForest(formula = data_train$ATTRIBUTE_UrbScore ~ ., data = data_train[,      6:1005], importance = TRUE, ntree = 200, na.omit = TRUE,      strata = top1000$ATTRIBUTE_UrbScore, sampsize = rep(min(table(top1000$ATTRIBUTE_UrbScore)),          nlevels(top1000$ATTRIBUTE_UrbScore))) \n",
       "               Type of random forest: classification\n",
       "                     Number of trees: 200\n",
       "No. of variables tried at each split: 31\n",
       "\n",
       "        OOB estimate of  error rate: 17.58%\n",
       "Confusion matrix:\n",
       "                    Isolated Rural (4) Mostly Rural (3) Rural and Urban (2)\n",
       "Isolated Rural (4)                  11                1                   2\n",
       "Mostly Rural (3)                     0               30                   5\n",
       "Rural and Urban (2)                  1                0                  25\n",
       "Urban (1)                            0                2                   5\n",
       "                    Urban (1) class.error\n",
       "Isolated Rural (4)          0  0.21428571\n",
       "Mostly Rural (3)            0  0.14285714\n",
       "Rural and Urban (2)         0  0.03846154\n",
       "Urban (1)                   9  0.43750000"
      ]
     },
     "metadata": {},
     "output_type": "display_data"
    },
    {
     "data": {
      "text/plain": [
       "\n",
       "Call:\n",
       " randomForest(formula = data_train$ATTRIBUTE_UrbScore ~ ., data = data_train[,      6:1005], importance = TRUE, ntree = 200, na.omit = TRUE,      strata = top1000$ATTRIBUTE_UrbScore, sampsize = rep(min(table(top1000$ATTRIBUTE_UrbScore)),          nlevels(top1000$ATTRIBUTE_UrbScore))) \n",
       "               Type of random forest: classification\n",
       "                     Number of trees: 200\n",
       "No. of variables tried at each split: 31\n",
       "\n",
       "        OOB estimate of  error rate: 18.68%\n",
       "Confusion matrix:\n",
       "                    Isolated Rural (4) Mostly Rural (3) Rural and Urban (2)\n",
       "Isolated Rural (4)                  12                1                   1\n",
       "Mostly Rural (3)                     3               28                   4\n",
       "Rural and Urban (2)                  0                2                  24\n",
       "Urban (1)                            0                1                   5\n",
       "                    Urban (1) class.error\n",
       "Isolated Rural (4)          0  0.14285714\n",
       "Mostly Rural (3)            0  0.20000000\n",
       "Rural and Urban (2)         0  0.07692308\n",
       "Urban (1)                  10  0.37500000"
      ]
     },
     "metadata": {},
     "output_type": "display_data"
    },
    {
     "data": {
      "text/plain": [
       "\n",
       "Call:\n",
       " randomForest(formula = data_train$ATTRIBUTE_UrbScore ~ ., data = data_train[,      6:1005], importance = TRUE, ntree = 200, na.omit = TRUE,      strata = top1000$ATTRIBUTE_UrbScore, sampsize = rep(min(table(top1000$ATTRIBUTE_UrbScore)),          nlevels(top1000$ATTRIBUTE_UrbScore))) \n",
       "               Type of random forest: classification\n",
       "                     Number of trees: 200\n",
       "No. of variables tried at each split: 31\n",
       "\n",
       "        OOB estimate of  error rate: 17.58%\n",
       "Confusion matrix:\n",
       "                    Isolated Rural (4) Mostly Rural (3) Rural and Urban (2)\n",
       "Isolated Rural (4)                  13                0                   1\n",
       "Mostly Rural (3)                     2               29                   4\n",
       "Rural and Urban (2)                  0                0                  24\n",
       "Urban (1)                            0                1                   6\n",
       "                    Urban (1) class.error\n",
       "Isolated Rural (4)          0  0.07142857\n",
       "Mostly Rural (3)            0  0.17142857\n",
       "Rural and Urban (2)         2  0.07692308\n",
       "Urban (1)                   9  0.43750000"
      ]
     },
     "metadata": {},
     "output_type": "display_data"
    },
    {
     "data": {
      "text/plain": [
       "\n",
       "Call:\n",
       " randomForest(formula = data_train$ATTRIBUTE_UrbScore ~ ., data = data_train[,      6:1005], importance = TRUE, ntree = 200, na.omit = TRUE,      strata = top1000$ATTRIBUTE_UrbScore, sampsize = rep(min(table(top1000$ATTRIBUTE_UrbScore)),          nlevels(top1000$ATTRIBUTE_UrbScore))) \n",
       "               Type of random forest: classification\n",
       "                     Number of trees: 200\n",
       "No. of variables tried at each split: 31\n",
       "\n",
       "        OOB estimate of  error rate: 16.48%\n",
       "Confusion matrix:\n",
       "                    Isolated Rural (4) Mostly Rural (3) Rural and Urban (2)\n",
       "Isolated Rural (4)                  11                1                   2\n",
       "Mostly Rural (3)                     2               29                   4\n",
       "Rural and Urban (2)                  1                0                  25\n",
       "Urban (1)                            0                2                   3\n",
       "                    Urban (1) class.error\n",
       "Isolated Rural (4)          0  0.21428571\n",
       "Mostly Rural (3)            0  0.17142857\n",
       "Rural and Urban (2)         0  0.03846154\n",
       "Urban (1)                  11  0.31250000"
      ]
     },
     "metadata": {},
     "output_type": "display_data"
    }
   ],
   "source": [
    "rf_200trees_rep1 <- randomForest(data_train$ATTRIBUTE_UrbScore~., data=data_train[,6:1005],importance=TRUE,ntree=200,na.omit=TRUE,strata=top1000$ATTRIBUTE_UrbScore, sampsize=rep(min(table(top1000$ATTRIBUTE_UrbScore)),nlevels(top1000$ATTRIBUTE_UrbScore)))\n",
    "rf_200trees_rep1\n",
    "rf_200trees_rep2 <- randomForest(data_train$ATTRIBUTE_UrbScore~., data=data_train[,6:1005],importance=TRUE,ntree=200,na.omit=TRUE,strata=top1000$ATTRIBUTE_UrbScore, sampsize=rep(min(table(top1000$ATTRIBUTE_UrbScore)),nlevels(top1000$ATTRIBUTE_UrbScore)))\n",
    "rf_200trees_rep2\n",
    "rf_200trees_rep3 <- randomForest(data_train$ATTRIBUTE_UrbScore~., data=data_train[,6:1005],importance=TRUE,ntree=200,na.omit=TRUE,strata=top1000$ATTRIBUTE_UrbScore, sampsize=rep(min(table(top1000$ATTRIBUTE_UrbScore)),nlevels(top1000$ATTRIBUTE_UrbScore)))\n",
    "rf_200trees_rep3\n",
    "rf_200trees_rep4 <- randomForest(data_train$ATTRIBUTE_UrbScore~., data=data_train[,6:1005],importance=TRUE,ntree=200,na.omit=TRUE,strata=top1000$ATTRIBUTE_UrbScore, sampsize=rep(min(table(top1000$ATTRIBUTE_UrbScore)),nlevels(top1000$ATTRIBUTE_UrbScore)))\n",
    "rf_200trees_rep4\n",
    "rf_200trees_rep5 <- randomForest(data_train$ATTRIBUTE_UrbScore~., data=data_train[,6:1005],importance=TRUE,ntree=200,na.omit=TRUE,strata=top1000$ATTRIBUTE_UrbScore, sampsize=rep(min(table(top1000$ATTRIBUTE_UrbScore)),nlevels(top1000$ATTRIBUTE_UrbScore)))\n",
    "rf_200trees_rep5\n",
    "rf_200trees_rep6 <- randomForest(data_train$ATTRIBUTE_UrbScore~., data=data_train[,6:1005],importance=TRUE,ntree=200,na.omit=TRUE,strata=top1000$ATTRIBUTE_UrbScore, sampsize=rep(min(table(top1000$ATTRIBUTE_UrbScore)),nlevels(top1000$ATTRIBUTE_UrbScore)))\n",
    "rf_200trees_rep6\n",
    "rf_200trees_rep7 <- randomForest(data_train$ATTRIBUTE_UrbScore~., data=data_train[,6:1005],importance=TRUE,ntree=200,na.omit=TRUE,strata=top1000$ATTRIBUTE_UrbScore, sampsize=rep(min(table(top1000$ATTRIBUTE_UrbScore)),nlevels(top1000$ATTRIBUTE_UrbScore)))\n",
    "rf_200trees_rep7\n",
    "rf_200trees_rep8 <- randomForest(data_train$ATTRIBUTE_UrbScore~., data=data_train[,6:1005],importance=TRUE,ntree=200,na.omit=TRUE,strata=top1000$ATTRIBUTE_UrbScore, sampsize=rep(min(table(top1000$ATTRIBUTE_UrbScore)),nlevels(top1000$ATTRIBUTE_UrbScore)))\n",
    "rf_200trees_rep8\n",
    "rf_200trees_rep9 <- randomForest(data_train$ATTRIBUTE_UrbScore~., data=data_train[,6:1005],importance=TRUE,ntree=200,na.omit=TRUE,strata=top1000$ATTRIBUTE_UrbScore, sampsize=rep(min(table(top1000$ATTRIBUTE_UrbScore)),nlevels(top1000$ATTRIBUTE_UrbScore)))\n",
    "rf_200trees_rep9\n",
    "rf_200trees_rep10 <- randomForest(data_train$ATTRIBUTE_UrbScore~., data=data_train[,6:1005],importance=TRUE,ntree=200,na.omit=TRUE,strata=top1000$ATTRIBUTE_UrbScore, sampsize=rep(min(table(top1000$ATTRIBUTE_UrbScore)),nlevels(top1000$ATTRIBUTE_UrbScore)))\n",
    "rf_200trees_rep10\n",
    "rf_200trees_rep11 <- randomForest(data_train$ATTRIBUTE_UrbScore~., data=data_train[,6:1005],importance=TRUE,ntree=200,na.omit=TRUE,strata=top1000$ATTRIBUTE_UrbScore, sampsize=rep(min(table(top1000$ATTRIBUTE_UrbScore)),nlevels(top1000$ATTRIBUTE_UrbScore)))\n",
    "rf_200trees_rep11\n",
    "rf_200trees_rep12 <- randomForest(data_train$ATTRIBUTE_UrbScore~., data=data_train[,6:1005],importance=TRUE,ntree=200,na.omit=TRUE,strata=top1000$ATTRIBUTE_UrbScore, sampsize=rep(min(table(top1000$ATTRIBUTE_UrbScore)),nlevels(top1000$ATTRIBUTE_UrbScore)))\n",
    "rf_200trees_rep12\n",
    "rf_200trees_rep13 <- randomForest(data_train$ATTRIBUTE_UrbScore~., data=data_train[,6:1005],importance=TRUE,ntree=200,na.omit=TRUE,strata=top1000$ATTRIBUTE_UrbScore, sampsize=rep(min(table(top1000$ATTRIBUTE_UrbScore)),nlevels(top1000$ATTRIBUTE_UrbScore)))\n",
    "rf_200trees_rep13\n",
    "rf_200trees_rep14 <- randomForest(data_train$ATTRIBUTE_UrbScore~., data=data_train[,6:1005],importance=TRUE,ntree=200,na.omit=TRUE,strata=top1000$ATTRIBUTE_UrbScore, sampsize=rep(min(table(top1000$ATTRIBUTE_UrbScore)),nlevels(top1000$ATTRIBUTE_UrbScore)))\n",
    "rf_200trees_rep14\n",
    "rf_200trees_rep15 <- randomForest(data_train$ATTRIBUTE_UrbScore~., data=data_train[,6:1005],importance=TRUE,ntree=200,na.omit=TRUE,strata=top1000$ATTRIBUTE_UrbScore, sampsize=rep(min(table(top1000$ATTRIBUTE_UrbScore)),nlevels(top1000$ATTRIBUTE_UrbScore)))\n",
    "rf_200trees_rep15\n",
    "rf_200trees_rep16 <- randomForest(data_train$ATTRIBUTE_UrbScore~., data=data_train[,6:1005],importance=TRUE,ntree=200,na.omit=TRUE,strata=top1000$ATTRIBUTE_UrbScore, sampsize=rep(min(table(top1000$ATTRIBUTE_UrbScore)),nlevels(top1000$ATTRIBUTE_UrbScore)))\n",
    "rf_200trees_rep16\n",
    "rf_200trees_rep17 <- randomForest(data_train$ATTRIBUTE_UrbScore~., data=data_train[,6:1005],importance=TRUE,ntree=200,na.omit=TRUE,strata=top1000$ATTRIBUTE_UrbScore, sampsize=rep(min(table(top1000$ATTRIBUTE_UrbScore)),nlevels(top1000$ATTRIBUTE_UrbScore)))\n",
    "rf_200trees_rep17\n",
    "rf_200trees_rep18 <- randomForest(data_train$ATTRIBUTE_UrbScore~., data=data_train[,6:1005],importance=TRUE,ntree=200,na.omit=TRUE,strata=top1000$ATTRIBUTE_UrbScore, sampsize=rep(min(table(top1000$ATTRIBUTE_UrbScore)),nlevels(top1000$ATTRIBUTE_UrbScore)))\n",
    "rf_200trees_rep18\n",
    "rf_200trees_rep19 <- randomForest(data_train$ATTRIBUTE_UrbScore~., data=data_train[,6:1005],importance=TRUE,ntree=200,na.omit=TRUE,strata=top1000$ATTRIBUTE_UrbScore, sampsize=rep(min(table(top1000$ATTRIBUTE_UrbScore)),nlevels(top1000$ATTRIBUTE_UrbScore)))\n",
    "rf_200trees_rep19\n",
    "rf_200trees_rep20 <- randomForest(data_train$ATTRIBUTE_UrbScore~., data=data_train[,6:1005],importance=TRUE,ntree=200,na.omit=TRUE,strata=top1000$ATTRIBUTE_UrbScore, sampsize=rep(min(table(top1000$ATTRIBUTE_UrbScore)),nlevels(top1000$ATTRIBUTE_UrbScore)))\n",
    "rf_200trees_rep20"
   ]
  },
  {
   "cell_type": "code",
   "execution_count": 19,
   "metadata": {
    "scrolled": true
   },
   "outputs": [
    {
     "data": {
      "text/plain": [
       "\n",
       "Call:\n",
       " randomForest(formula = data_train$ATTRIBUTE_UrbScore ~ ., data = data_train[,      6:1005], importance = TRUE, ntree = 300, na.omit = TRUE,      strata = top1000$ATTRIBUTE_UrbScore, sampsize = rep(min(table(top1000$ATTRIBUTE_UrbScore)),          nlevels(top1000$ATTRIBUTE_UrbScore))) \n",
       "               Type of random forest: classification\n",
       "                     Number of trees: 300\n",
       "No. of variables tried at each split: 31\n",
       "\n",
       "        OOB estimate of  error rate: 18.68%\n",
       "Confusion matrix:\n",
       "                    Isolated Rural (4) Mostly Rural (3) Rural and Urban (2)\n",
       "Isolated Rural (4)                  12                1                   1\n",
       "Mostly Rural (3)                     2               28                   5\n",
       "Rural and Urban (2)                  0                2                  24\n",
       "Urban (1)                            0                2                   4\n",
       "                    Urban (1) class.error\n",
       "Isolated Rural (4)          0  0.14285714\n",
       "Mostly Rural (3)            0  0.20000000\n",
       "Rural and Urban (2)         0  0.07692308\n",
       "Urban (1)                  10  0.37500000"
      ]
     },
     "metadata": {},
     "output_type": "display_data"
    },
    {
     "data": {
      "text/plain": [
       "\n",
       "Call:\n",
       " randomForest(formula = data_train$ATTRIBUTE_UrbScore ~ ., data = data_train[,      6:1005], importance = TRUE, ntree = 300, na.omit = TRUE,      strata = top1000$ATTRIBUTE_UrbScore, sampsize = rep(min(table(top1000$ATTRIBUTE_UrbScore)),          nlevels(top1000$ATTRIBUTE_UrbScore))) \n",
       "               Type of random forest: classification\n",
       "                     Number of trees: 300\n",
       "No. of variables tried at each split: 31\n",
       "\n",
       "        OOB estimate of  error rate: 15.38%\n",
       "Confusion matrix:\n",
       "                    Isolated Rural (4) Mostly Rural (3) Rural and Urban (2)\n",
       "Isolated Rural (4)                  12                1                   1\n",
       "Mostly Rural (3)                     1               30                   4\n",
       "Rural and Urban (2)                  0                0                  25\n",
       "Urban (1)                            0                1                   5\n",
       "                    Urban (1) class.error\n",
       "Isolated Rural (4)          0  0.14285714\n",
       "Mostly Rural (3)            0  0.14285714\n",
       "Rural and Urban (2)         1  0.03846154\n",
       "Urban (1)                  10  0.37500000"
      ]
     },
     "metadata": {},
     "output_type": "display_data"
    },
    {
     "data": {
      "text/plain": [
       "\n",
       "Call:\n",
       " randomForest(formula = data_train$ATTRIBUTE_UrbScore ~ ., data = data_train[,      6:1005], importance = TRUE, ntree = 300, na.omit = TRUE,      strata = top1000$ATTRIBUTE_UrbScore, sampsize = rep(min(table(top1000$ATTRIBUTE_UrbScore)),          nlevels(top1000$ATTRIBUTE_UrbScore))) \n",
       "               Type of random forest: classification\n",
       "                     Number of trees: 300\n",
       "No. of variables tried at each split: 31\n",
       "\n",
       "        OOB estimate of  error rate: 18.68%\n",
       "Confusion matrix:\n",
       "                    Isolated Rural (4) Mostly Rural (3) Rural and Urban (2)\n",
       "Isolated Rural (4)                  11                1                   2\n",
       "Mostly Rural (3)                     1               30                   4\n",
       "Rural and Urban (2)                  0                0                  25\n",
       "Urban (1)                            0                2                   6\n",
       "                    Urban (1) class.error\n",
       "Isolated Rural (4)          0  0.21428571\n",
       "Mostly Rural (3)            0  0.14285714\n",
       "Rural and Urban (2)         1  0.03846154\n",
       "Urban (1)                   8  0.50000000"
      ]
     },
     "metadata": {},
     "output_type": "display_data"
    },
    {
     "data": {
      "text/plain": [
       "\n",
       "Call:\n",
       " randomForest(formula = data_train$ATTRIBUTE_UrbScore ~ ., data = data_train[,      6:1005], importance = TRUE, ntree = 300, na.omit = TRUE,      strata = top1000$ATTRIBUTE_UrbScore, sampsize = rep(min(table(top1000$ATTRIBUTE_UrbScore)),          nlevels(top1000$ATTRIBUTE_UrbScore))) \n",
       "               Type of random forest: classification\n",
       "                     Number of trees: 300\n",
       "No. of variables tried at each split: 31\n",
       "\n",
       "        OOB estimate of  error rate: 19.78%\n",
       "Confusion matrix:\n",
       "                    Isolated Rural (4) Mostly Rural (3) Rural and Urban (2)\n",
       "Isolated Rural (4)                  11                1                   2\n",
       "Mostly Rural (3)                     2               29                   4\n",
       "Rural and Urban (2)                  1                1                  24\n",
       "Urban (1)                            0                2                   5\n",
       "                    Urban (1) class.error\n",
       "Isolated Rural (4)          0  0.21428571\n",
       "Mostly Rural (3)            0  0.17142857\n",
       "Rural and Urban (2)         0  0.07692308\n",
       "Urban (1)                   9  0.43750000"
      ]
     },
     "metadata": {},
     "output_type": "display_data"
    },
    {
     "data": {
      "text/plain": [
       "\n",
       "Call:\n",
       " randomForest(formula = data_train$ATTRIBUTE_UrbScore ~ ., data = data_train[,      6:1005], importance = TRUE, ntree = 300, na.omit = TRUE,      strata = top1000$ATTRIBUTE_UrbScore, sampsize = rep(min(table(top1000$ATTRIBUTE_UrbScore)),          nlevels(top1000$ATTRIBUTE_UrbScore))) \n",
       "               Type of random forest: classification\n",
       "                     Number of trees: 300\n",
       "No. of variables tried at each split: 31\n",
       "\n",
       "        OOB estimate of  error rate: 18.68%\n",
       "Confusion matrix:\n",
       "                    Isolated Rural (4) Mostly Rural (3) Rural and Urban (2)\n",
       "Isolated Rural (4)                  11                1                   2\n",
       "Mostly Rural (3)                     1               29                   5\n",
       "Rural and Urban (2)                  0                0                  26\n",
       "Urban (1)                            0                2                   6\n",
       "                    Urban (1) class.error\n",
       "Isolated Rural (4)          0   0.2142857\n",
       "Mostly Rural (3)            0   0.1714286\n",
       "Rural and Urban (2)         0   0.0000000\n",
       "Urban (1)                   8   0.5000000"
      ]
     },
     "metadata": {},
     "output_type": "display_data"
    },
    {
     "data": {
      "text/plain": [
       "\n",
       "Call:\n",
       " randomForest(formula = data_train$ATTRIBUTE_UrbScore ~ ., data = data_train[,      6:1005], importance = TRUE, ntree = 300, na.omit = TRUE,      strata = top1000$ATTRIBUTE_UrbScore, sampsize = rep(min(table(top1000$ATTRIBUTE_UrbScore)),          nlevels(top1000$ATTRIBUTE_UrbScore))) \n",
       "               Type of random forest: classification\n",
       "                     Number of trees: 300\n",
       "No. of variables tried at each split: 31\n",
       "\n",
       "        OOB estimate of  error rate: 19.78%\n",
       "Confusion matrix:\n",
       "                    Isolated Rural (4) Mostly Rural (3) Rural and Urban (2)\n",
       "Isolated Rural (4)                  11                1                   2\n",
       "Mostly Rural (3)                     2               28                   5\n",
       "Rural and Urban (2)                  0                1                  25\n",
       "Urban (1)                            0                2                   5\n",
       "                    Urban (1) class.error\n",
       "Isolated Rural (4)          0  0.21428571\n",
       "Mostly Rural (3)            0  0.20000000\n",
       "Rural and Urban (2)         0  0.03846154\n",
       "Urban (1)                   9  0.43750000"
      ]
     },
     "metadata": {},
     "output_type": "display_data"
    },
    {
     "data": {
      "text/plain": [
       "\n",
       "Call:\n",
       " randomForest(formula = data_train$ATTRIBUTE_UrbScore ~ ., data = data_train[,      6:1005], importance = TRUE, ntree = 300, na.omit = TRUE,      strata = top1000$ATTRIBUTE_UrbScore, sampsize = rep(min(table(top1000$ATTRIBUTE_UrbScore)),          nlevels(top1000$ATTRIBUTE_UrbScore))) \n",
       "               Type of random forest: classification\n",
       "                     Number of trees: 300\n",
       "No. of variables tried at each split: 31\n",
       "\n",
       "        OOB estimate of  error rate: 15.38%\n",
       "Confusion matrix:\n",
       "                    Isolated Rural (4) Mostly Rural (3) Rural and Urban (2)\n",
       "Isolated Rural (4)                  12                0                   2\n",
       "Mostly Rural (3)                     1               30                   4\n",
       "Rural and Urban (2)                  0                0                  26\n",
       "Urban (1)                            0                1                   6\n",
       "                    Urban (1) class.error\n",
       "Isolated Rural (4)          0   0.1428571\n",
       "Mostly Rural (3)            0   0.1428571\n",
       "Rural and Urban (2)         0   0.0000000\n",
       "Urban (1)                   9   0.4375000"
      ]
     },
     "metadata": {},
     "output_type": "display_data"
    },
    {
     "data": {
      "text/plain": [
       "\n",
       "Call:\n",
       " randomForest(formula = data_train$ATTRIBUTE_UrbScore ~ ., data = data_train[,      6:1005], importance = TRUE, ntree = 300, na.omit = TRUE,      strata = top1000$ATTRIBUTE_UrbScore, sampsize = rep(min(table(top1000$ATTRIBUTE_UrbScore)),          nlevels(top1000$ATTRIBUTE_UrbScore))) \n",
       "               Type of random forest: classification\n",
       "                     Number of trees: 300\n",
       "No. of variables tried at each split: 31\n",
       "\n",
       "        OOB estimate of  error rate: 15.38%\n",
       "Confusion matrix:\n",
       "                    Isolated Rural (4) Mostly Rural (3) Rural and Urban (2)\n",
       "Isolated Rural (4)                  13                0                   1\n",
       "Mostly Rural (3)                     1               30                   4\n",
       "Rural and Urban (2)                  0                0                  25\n",
       "Urban (1)                            0                1                   6\n",
       "                    Urban (1) class.error\n",
       "Isolated Rural (4)          0  0.07142857\n",
       "Mostly Rural (3)            0  0.14285714\n",
       "Rural and Urban (2)         1  0.03846154\n",
       "Urban (1)                   9  0.43750000"
      ]
     },
     "metadata": {},
     "output_type": "display_data"
    },
    {
     "data": {
      "text/plain": [
       "\n",
       "Call:\n",
       " randomForest(formula = data_train$ATTRIBUTE_UrbScore ~ ., data = data_train[,      6:1005], importance = TRUE, ntree = 300, na.omit = TRUE,      strata = top1000$ATTRIBUTE_UrbScore, sampsize = rep(min(table(top1000$ATTRIBUTE_UrbScore)),          nlevels(top1000$ATTRIBUTE_UrbScore))) \n",
       "               Type of random forest: classification\n",
       "                     Number of trees: 300\n",
       "No. of variables tried at each split: 31\n",
       "\n",
       "        OOB estimate of  error rate: 13.19%\n",
       "Confusion matrix:\n",
       "                    Isolated Rural (4) Mostly Rural (3) Rural and Urban (2)\n",
       "Isolated Rural (4)                  12                0                   2\n",
       "Mostly Rural (3)                     1               30                   4\n",
       "Rural and Urban (2)                  0                1                  25\n",
       "Urban (1)                            0                1                   3\n",
       "                    Urban (1) class.error\n",
       "Isolated Rural (4)          0  0.14285714\n",
       "Mostly Rural (3)            0  0.14285714\n",
       "Rural and Urban (2)         0  0.03846154\n",
       "Urban (1)                  12  0.25000000"
      ]
     },
     "metadata": {},
     "output_type": "display_data"
    },
    {
     "data": {
      "text/plain": [
       "\n",
       "Call:\n",
       " randomForest(formula = data_train$ATTRIBUTE_UrbScore ~ ., data = data_train[,      6:1005], importance = TRUE, ntree = 300, na.omit = TRUE,      strata = top1000$ATTRIBUTE_UrbScore, sampsize = rep(min(table(top1000$ATTRIBUTE_UrbScore)),          nlevels(top1000$ATTRIBUTE_UrbScore))) \n",
       "               Type of random forest: classification\n",
       "                     Number of trees: 300\n",
       "No. of variables tried at each split: 31\n",
       "\n",
       "        OOB estimate of  error rate: 20.88%\n",
       "Confusion matrix:\n",
       "                    Isolated Rural (4) Mostly Rural (3) Rural and Urban (2)\n",
       "Isolated Rural (4)                  11                1                   2\n",
       "Mostly Rural (3)                     3               28                   4\n",
       "Rural and Urban (2)                  0                0                  25\n",
       "Urban (1)                            0                3                   5\n",
       "                    Urban (1) class.error\n",
       "Isolated Rural (4)          0  0.21428571\n",
       "Mostly Rural (3)            0  0.20000000\n",
       "Rural and Urban (2)         1  0.03846154\n",
       "Urban (1)                   8  0.50000000"
      ]
     },
     "metadata": {},
     "output_type": "display_data"
    },
    {
     "data": {
      "text/plain": [
       "\n",
       "Call:\n",
       " randomForest(formula = data_train$ATTRIBUTE_UrbScore ~ ., data = data_train[,      6:1005], importance = TRUE, ntree = 300, na.omit = TRUE,      strata = top1000$ATTRIBUTE_UrbScore, sampsize = rep(min(table(top1000$ATTRIBUTE_UrbScore)),          nlevels(top1000$ATTRIBUTE_UrbScore))) \n",
       "               Type of random forest: classification\n",
       "                     Number of trees: 300\n",
       "No. of variables tried at each split: 31\n",
       "\n",
       "        OOB estimate of  error rate: 14.29%\n",
       "Confusion matrix:\n",
       "                    Isolated Rural (4) Mostly Rural (3) Rural and Urban (2)\n",
       "Isolated Rural (4)                  12                1                   1\n",
       "Mostly Rural (3)                     1               30                   4\n",
       "Rural and Urban (2)                  0                0                  26\n",
       "Urban (1)                            0                1                   5\n",
       "                    Urban (1) class.error\n",
       "Isolated Rural (4)          0   0.1428571\n",
       "Mostly Rural (3)            0   0.1428571\n",
       "Rural and Urban (2)         0   0.0000000\n",
       "Urban (1)                  10   0.3750000"
      ]
     },
     "metadata": {},
     "output_type": "display_data"
    },
    {
     "data": {
      "text/plain": [
       "\n",
       "Call:\n",
       " randomForest(formula = data_train$ATTRIBUTE_UrbScore ~ ., data = data_train[,      6:1005], importance = TRUE, ntree = 300, na.omit = TRUE,      strata = top1000$ATTRIBUTE_UrbScore, sampsize = rep(min(table(top1000$ATTRIBUTE_UrbScore)),          nlevels(top1000$ATTRIBUTE_UrbScore))) \n",
       "               Type of random forest: classification\n",
       "                     Number of trees: 300\n",
       "No. of variables tried at each split: 31\n",
       "\n",
       "        OOB estimate of  error rate: 18.68%\n",
       "Confusion matrix:\n",
       "                    Isolated Rural (4) Mostly Rural (3) Rural and Urban (2)\n",
       "Isolated Rural (4)                  11                1                   2\n",
       "Mostly Rural (3)                     0               31                   4\n",
       "Rural and Urban (2)                  1                1                  24\n",
       "Urban (1)                            0                3                   5\n",
       "                    Urban (1) class.error\n",
       "Isolated Rural (4)          0  0.21428571\n",
       "Mostly Rural (3)            0  0.11428571\n",
       "Rural and Urban (2)         0  0.07692308\n",
       "Urban (1)                   8  0.50000000"
      ]
     },
     "metadata": {},
     "output_type": "display_data"
    },
    {
     "data": {
      "text/plain": [
       "\n",
       "Call:\n",
       " randomForest(formula = data_train$ATTRIBUTE_UrbScore ~ ., data = data_train[,      6:1005], importance = TRUE, ntree = 300, na.omit = TRUE,      strata = top1000$ATTRIBUTE_UrbScore, sampsize = rep(min(table(top1000$ATTRIBUTE_UrbScore)),          nlevels(top1000$ATTRIBUTE_UrbScore))) \n",
       "               Type of random forest: classification\n",
       "                     Number of trees: 300\n",
       "No. of variables tried at each split: 31\n",
       "\n",
       "        OOB estimate of  error rate: 18.68%\n",
       "Confusion matrix:\n",
       "                    Isolated Rural (4) Mostly Rural (3) Rural and Urban (2)\n",
       "Isolated Rural (4)                  11                1                   2\n",
       "Mostly Rural (3)                     1               30                   3\n",
       "Rural and Urban (2)                  0                0                  25\n",
       "Urban (1)                            0                3                   5\n",
       "                    Urban (1) class.error\n",
       "Isolated Rural (4)          0  0.21428571\n",
       "Mostly Rural (3)            1  0.14285714\n",
       "Rural and Urban (2)         1  0.03846154\n",
       "Urban (1)                   8  0.50000000"
      ]
     },
     "metadata": {},
     "output_type": "display_data"
    },
    {
     "data": {
      "text/plain": [
       "\n",
       "Call:\n",
       " randomForest(formula = data_train$ATTRIBUTE_UrbScore ~ ., data = data_train[,      6:1005], importance = TRUE, ntree = 300, na.omit = TRUE,      strata = top1000$ATTRIBUTE_UrbScore, sampsize = rep(min(table(top1000$ATTRIBUTE_UrbScore)),          nlevels(top1000$ATTRIBUTE_UrbScore))) \n",
       "               Type of random forest: classification\n",
       "                     Number of trees: 300\n",
       "No. of variables tried at each split: 31\n",
       "\n",
       "        OOB estimate of  error rate: 16.48%\n",
       "Confusion matrix:\n",
       "                    Isolated Rural (4) Mostly Rural (3) Rural and Urban (2)\n",
       "Isolated Rural (4)                  11                1                   2\n",
       "Mostly Rural (3)                     1               30                   4\n",
       "Rural and Urban (2)                  0                0                  26\n",
       "Urban (1)                            0                2                   5\n",
       "                    Urban (1) class.error\n",
       "Isolated Rural (4)          0   0.2142857\n",
       "Mostly Rural (3)            0   0.1428571\n",
       "Rural and Urban (2)         0   0.0000000\n",
       "Urban (1)                   9   0.4375000"
      ]
     },
     "metadata": {},
     "output_type": "display_data"
    },
    {
     "data": {
      "text/plain": [
       "\n",
       "Call:\n",
       " randomForest(formula = data_train$ATTRIBUTE_UrbScore ~ ., data = data_train[,      6:1005], importance = TRUE, ntree = 300, na.omit = TRUE,      strata = top1000$ATTRIBUTE_UrbScore, sampsize = rep(min(table(top1000$ATTRIBUTE_UrbScore)),          nlevels(top1000$ATTRIBUTE_UrbScore))) \n",
       "               Type of random forest: classification\n",
       "                     Number of trees: 300\n",
       "No. of variables tried at each split: 31\n",
       "\n",
       "        OOB estimate of  error rate: 17.58%\n",
       "Confusion matrix:\n",
       "                    Isolated Rural (4) Mostly Rural (3) Rural and Urban (2)\n",
       "Isolated Rural (4)                  11                1                   2\n",
       "Mostly Rural (3)                     1               29                   5\n",
       "Rural and Urban (2)                  0                0                  26\n",
       "Urban (1)                            0                1                   6\n",
       "                    Urban (1) class.error\n",
       "Isolated Rural (4)          0   0.2142857\n",
       "Mostly Rural (3)            0   0.1714286\n",
       "Rural and Urban (2)         0   0.0000000\n",
       "Urban (1)                   9   0.4375000"
      ]
     },
     "metadata": {},
     "output_type": "display_data"
    },
    {
     "data": {
      "text/plain": [
       "\n",
       "Call:\n",
       " randomForest(formula = data_train$ATTRIBUTE_UrbScore ~ ., data = data_train[,      6:1005], importance = TRUE, ntree = 300, na.omit = TRUE,      strata = top1000$ATTRIBUTE_UrbScore, sampsize = rep(min(table(top1000$ATTRIBUTE_UrbScore)),          nlevels(top1000$ATTRIBUTE_UrbScore))) \n",
       "               Type of random forest: classification\n",
       "                     Number of trees: 300\n",
       "No. of variables tried at each split: 31\n",
       "\n",
       "        OOB estimate of  error rate: 16.48%\n",
       "Confusion matrix:\n",
       "                    Isolated Rural (4) Mostly Rural (3) Rural and Urban (2)\n",
       "Isolated Rural (4)                  11                1                   2\n",
       "Mostly Rural (3)                     1               30                   4\n",
       "Rural and Urban (2)                  0                0                  26\n",
       "Urban (1)                            0                2                   5\n",
       "                    Urban (1) class.error\n",
       "Isolated Rural (4)          0   0.2142857\n",
       "Mostly Rural (3)            0   0.1428571\n",
       "Rural and Urban (2)         0   0.0000000\n",
       "Urban (1)                   9   0.4375000"
      ]
     },
     "metadata": {},
     "output_type": "display_data"
    },
    {
     "data": {
      "text/plain": [
       "\n",
       "Call:\n",
       " randomForest(formula = data_train$ATTRIBUTE_UrbScore ~ ., data = data_train[,      6:1005], importance = TRUE, ntree = 300, na.omit = TRUE,      strata = top1000$ATTRIBUTE_UrbScore, sampsize = rep(min(table(top1000$ATTRIBUTE_UrbScore)),          nlevels(top1000$ATTRIBUTE_UrbScore))) \n",
       "               Type of random forest: classification\n",
       "                     Number of trees: 300\n",
       "No. of variables tried at each split: 31\n",
       "\n",
       "        OOB estimate of  error rate: 18.68%\n",
       "Confusion matrix:\n",
       "                    Isolated Rural (4) Mostly Rural (3) Rural and Urban (2)\n",
       "Isolated Rural (4)                  11                1                   2\n",
       "Mostly Rural (3)                     2               27                   6\n",
       "Rural and Urban (2)                  0                1                  25\n",
       "Urban (1)                            0                2                   3\n",
       "                    Urban (1) class.error\n",
       "Isolated Rural (4)          0  0.21428571\n",
       "Mostly Rural (3)            0  0.22857143\n",
       "Rural and Urban (2)         0  0.03846154\n",
       "Urban (1)                  11  0.31250000"
      ]
     },
     "metadata": {},
     "output_type": "display_data"
    },
    {
     "data": {
      "text/plain": [
       "\n",
       "Call:\n",
       " randomForest(formula = data_train$ATTRIBUTE_UrbScore ~ ., data = data_train[,      6:1005], importance = TRUE, ntree = 300, na.omit = TRUE,      strata = top1000$ATTRIBUTE_UrbScore, sampsize = rep(min(table(top1000$ATTRIBUTE_UrbScore)),          nlevels(top1000$ATTRIBUTE_UrbScore))) \n",
       "               Type of random forest: classification\n",
       "                     Number of trees: 300\n",
       "No. of variables tried at each split: 31\n",
       "\n",
       "        OOB estimate of  error rate: 18.68%\n",
       "Confusion matrix:\n",
       "                    Isolated Rural (4) Mostly Rural (3) Rural and Urban (2)\n",
       "Isolated Rural (4)                  11                1                   2\n",
       "Mostly Rural (3)                     2               29                   4\n",
       "Rural and Urban (2)                  0                1                  25\n",
       "Urban (1)                            0                0                   7\n",
       "                    Urban (1) class.error\n",
       "Isolated Rural (4)          0  0.21428571\n",
       "Mostly Rural (3)            0  0.17142857\n",
       "Rural and Urban (2)         0  0.03846154\n",
       "Urban (1)                   9  0.43750000"
      ]
     },
     "metadata": {},
     "output_type": "display_data"
    },
    {
     "data": {
      "text/plain": [
       "\n",
       "Call:\n",
       " randomForest(formula = data_train$ATTRIBUTE_UrbScore ~ ., data = data_train[,      6:1005], importance = TRUE, ntree = 300, na.omit = TRUE,      strata = top1000$ATTRIBUTE_UrbScore, sampsize = rep(min(table(top1000$ATTRIBUTE_UrbScore)),          nlevels(top1000$ATTRIBUTE_UrbScore))) \n",
       "               Type of random forest: classification\n",
       "                     Number of trees: 300\n",
       "No. of variables tried at each split: 31\n",
       "\n",
       "        OOB estimate of  error rate: 17.58%\n",
       "Confusion matrix:\n",
       "                    Isolated Rural (4) Mostly Rural (3) Rural and Urban (2)\n",
       "Isolated Rural (4)                  11                1                   2\n",
       "Mostly Rural (3)                     1               30                   4\n",
       "Rural and Urban (2)                  0                1                  25\n",
       "Urban (1)                            0                2                   5\n",
       "                    Urban (1) class.error\n",
       "Isolated Rural (4)          0  0.21428571\n",
       "Mostly Rural (3)            0  0.14285714\n",
       "Rural and Urban (2)         0  0.03846154\n",
       "Urban (1)                   9  0.43750000"
      ]
     },
     "metadata": {},
     "output_type": "display_data"
    },
    {
     "data": {
      "text/plain": [
       "\n",
       "Call:\n",
       " randomForest(formula = data_train$ATTRIBUTE_UrbScore ~ ., data = data_train[,      6:1005], importance = TRUE, ntree = 300, na.omit = TRUE,      strata = top1000$ATTRIBUTE_UrbScore, sampsize = rep(min(table(top1000$ATTRIBUTE_UrbScore)),          nlevels(top1000$ATTRIBUTE_UrbScore))) \n",
       "               Type of random forest: classification\n",
       "                     Number of trees: 300\n",
       "No. of variables tried at each split: 31\n",
       "\n",
       "        OOB estimate of  error rate: 23.08%\n",
       "Confusion matrix:\n",
       "                    Isolated Rural (4) Mostly Rural (3) Rural and Urban (2)\n",
       "Isolated Rural (4)                  11                1                   2\n",
       "Mostly Rural (3)                     2               29                   4\n",
       "Rural and Urban (2)                  1                1                  23\n",
       "Urban (1)                            0                1                   8\n",
       "                    Urban (1) class.error\n",
       "Isolated Rural (4)          0   0.2142857\n",
       "Mostly Rural (3)            0   0.1714286\n",
       "Rural and Urban (2)         1   0.1153846\n",
       "Urban (1)                   7   0.5625000"
      ]
     },
     "metadata": {},
     "output_type": "display_data"
    }
   ],
   "source": [
    "rf_300trees_rep1 <- randomForest(data_train$ATTRIBUTE_UrbScore~., data=data_train[,6:1005],importance=TRUE,ntree=300,na.omit=TRUE,strata=top1000$ATTRIBUTE_UrbScore, sampsize=rep(min(table(top1000$ATTRIBUTE_UrbScore)),nlevels(top1000$ATTRIBUTE_UrbScore)))\n",
    "rf_300trees_rep1\n",
    "rf_300trees_rep2 <- randomForest(data_train$ATTRIBUTE_UrbScore~., data=data_train[,6:1005],importance=TRUE,ntree=300,na.omit=TRUE,strata=top1000$ATTRIBUTE_UrbScore, sampsize=rep(min(table(top1000$ATTRIBUTE_UrbScore)),nlevels(top1000$ATTRIBUTE_UrbScore)))\n",
    "rf_300trees_rep2\n",
    "rf_300trees_rep3 <- randomForest(data_train$ATTRIBUTE_UrbScore~., data=data_train[,6:1005],importance=TRUE,ntree=300,na.omit=TRUE,strata=top1000$ATTRIBUTE_UrbScore, sampsize=rep(min(table(top1000$ATTRIBUTE_UrbScore)),nlevels(top1000$ATTRIBUTE_UrbScore)))\n",
    "rf_300trees_rep3\n",
    "rf_300trees_rep4 <- randomForest(data_train$ATTRIBUTE_UrbScore~., data=data_train[,6:1005],importance=TRUE,ntree=300,na.omit=TRUE,strata=top1000$ATTRIBUTE_UrbScore, sampsize=rep(min(table(top1000$ATTRIBUTE_UrbScore)),nlevels(top1000$ATTRIBUTE_UrbScore)))\n",
    "rf_300trees_rep4\n",
    "rf_300trees_rep5 <- randomForest(data_train$ATTRIBUTE_UrbScore~., data=data_train[,6:1005],importance=TRUE,ntree=300,na.omit=TRUE,strata=top1000$ATTRIBUTE_UrbScore, sampsize=rep(min(table(top1000$ATTRIBUTE_UrbScore)),nlevels(top1000$ATTRIBUTE_UrbScore)))\n",
    "rf_300trees_rep5\n",
    "rf_300trees_rep6 <- randomForest(data_train$ATTRIBUTE_UrbScore~., data=data_train[,6:1005],importance=TRUE,ntree=300,na.omit=TRUE,strata=top1000$ATTRIBUTE_UrbScore, sampsize=rep(min(table(top1000$ATTRIBUTE_UrbScore)),nlevels(top1000$ATTRIBUTE_UrbScore)))\n",
    "rf_300trees_rep6\n",
    "rf_300trees_rep7 <- randomForest(data_train$ATTRIBUTE_UrbScore~., data=data_train[,6:1005],importance=TRUE,ntree=300,na.omit=TRUE,strata=top1000$ATTRIBUTE_UrbScore, sampsize=rep(min(table(top1000$ATTRIBUTE_UrbScore)),nlevels(top1000$ATTRIBUTE_UrbScore)))\n",
    "rf_300trees_rep7\n",
    "rf_300trees_rep8 <- randomForest(data_train$ATTRIBUTE_UrbScore~., data=data_train[,6:1005],importance=TRUE,ntree=300,na.omit=TRUE,strata=top1000$ATTRIBUTE_UrbScore, sampsize=rep(min(table(top1000$ATTRIBUTE_UrbScore)),nlevels(top1000$ATTRIBUTE_UrbScore)))\n",
    "rf_300trees_rep8\n",
    "rf_300trees_rep9 <- randomForest(data_train$ATTRIBUTE_UrbScore~., data=data_train[,6:1005],importance=TRUE,ntree=300,na.omit=TRUE,strata=top1000$ATTRIBUTE_UrbScore, sampsize=rep(min(table(top1000$ATTRIBUTE_UrbScore)),nlevels(top1000$ATTRIBUTE_UrbScore)))\n",
    "rf_300trees_rep9\n",
    "rf_300trees_rep10 <- randomForest(data_train$ATTRIBUTE_UrbScore~., data=data_train[,6:1005],importance=TRUE,ntree=300,na.omit=TRUE,strata=top1000$ATTRIBUTE_UrbScore, sampsize=rep(min(table(top1000$ATTRIBUTE_UrbScore)),nlevels(top1000$ATTRIBUTE_UrbScore)))\n",
    "rf_300trees_rep10\n",
    "rf_300trees_rep11 <- randomForest(data_train$ATTRIBUTE_UrbScore~., data=data_train[,6:1005],importance=TRUE,ntree=300,na.omit=TRUE,strata=top1000$ATTRIBUTE_UrbScore, sampsize=rep(min(table(top1000$ATTRIBUTE_UrbScore)),nlevels(top1000$ATTRIBUTE_UrbScore)))\n",
    "rf_300trees_rep11\n",
    "rf_300trees_rep12 <- randomForest(data_train$ATTRIBUTE_UrbScore~., data=data_train[,6:1005],importance=TRUE,ntree=300,na.omit=TRUE,strata=top1000$ATTRIBUTE_UrbScore, sampsize=rep(min(table(top1000$ATTRIBUTE_UrbScore)),nlevels(top1000$ATTRIBUTE_UrbScore)))\n",
    "rf_300trees_rep12\n",
    "rf_300trees_rep13 <- randomForest(data_train$ATTRIBUTE_UrbScore~., data=data_train[,6:1005],importance=TRUE,ntree=300,na.omit=TRUE,strata=top1000$ATTRIBUTE_UrbScore, sampsize=rep(min(table(top1000$ATTRIBUTE_UrbScore)),nlevels(top1000$ATTRIBUTE_UrbScore)))\n",
    "rf_300trees_rep13\n",
    "rf_300trees_rep14 <- randomForest(data_train$ATTRIBUTE_UrbScore~., data=data_train[,6:1005],importance=TRUE,ntree=300,na.omit=TRUE,strata=top1000$ATTRIBUTE_UrbScore, sampsize=rep(min(table(top1000$ATTRIBUTE_UrbScore)),nlevels(top1000$ATTRIBUTE_UrbScore)))\n",
    "rf_300trees_rep14\n",
    "rf_300trees_rep15 <- randomForest(data_train$ATTRIBUTE_UrbScore~., data=data_train[,6:1005],importance=TRUE,ntree=300,na.omit=TRUE,strata=top1000$ATTRIBUTE_UrbScore, sampsize=rep(min(table(top1000$ATTRIBUTE_UrbScore)),nlevels(top1000$ATTRIBUTE_UrbScore)))\n",
    "rf_300trees_rep15\n",
    "rf_300trees_rep16 <- randomForest(data_train$ATTRIBUTE_UrbScore~., data=data_train[,6:1005],importance=TRUE,ntree=300,na.omit=TRUE,strata=top1000$ATTRIBUTE_UrbScore, sampsize=rep(min(table(top1000$ATTRIBUTE_UrbScore)),nlevels(top1000$ATTRIBUTE_UrbScore)))\n",
    "rf_300trees_rep16\n",
    "rf_300trees_rep17 <- randomForest(data_train$ATTRIBUTE_UrbScore~., data=data_train[,6:1005],importance=TRUE,ntree=300,na.omit=TRUE,strata=top1000$ATTRIBUTE_UrbScore, sampsize=rep(min(table(top1000$ATTRIBUTE_UrbScore)),nlevels(top1000$ATTRIBUTE_UrbScore)))\n",
    "rf_300trees_rep17\n",
    "rf_300trees_rep18 <- randomForest(data_train$ATTRIBUTE_UrbScore~., data=data_train[,6:1005],importance=TRUE,ntree=300,na.omit=TRUE,strata=top1000$ATTRIBUTE_UrbScore, sampsize=rep(min(table(top1000$ATTRIBUTE_UrbScore)),nlevels(top1000$ATTRIBUTE_UrbScore)))\n",
    "rf_300trees_rep18\n",
    "rf_300trees_rep19 <- randomForest(data_train$ATTRIBUTE_UrbScore~., data=data_train[,6:1005],importance=TRUE,ntree=300,na.omit=TRUE,strata=top1000$ATTRIBUTE_UrbScore, sampsize=rep(min(table(top1000$ATTRIBUTE_UrbScore)),nlevels(top1000$ATTRIBUTE_UrbScore)))\n",
    "rf_300trees_rep19\n",
    "rf_300trees_rep20 <- randomForest(data_train$ATTRIBUTE_UrbScore~., data=data_train[,6:1005],importance=TRUE,ntree=300,na.omit=TRUE,strata=top1000$ATTRIBUTE_UrbScore, sampsize=rep(min(table(top1000$ATTRIBUTE_UrbScore)),nlevels(top1000$ATTRIBUTE_UrbScore)))\n",
    "rf_300trees_rep20"
   ]
  },
  {
   "cell_type": "code",
   "execution_count": 21,
   "metadata": {},
   "outputs": [
    {
     "data": {
      "text/plain": [
       "\n",
       "Call:\n",
       " randomForest(formula = data_train$ATTRIBUTE_UrbScore ~ ., data = data_train[,      6:1005], importance = TRUE, ntree = 400, na.omit = TRUE,      strata = top1000$ATTRIBUTE_UrbScore, sampsize = rep(min(table(top1000$ATTRIBUTE_UrbScore)),          nlevels(top1000$ATTRIBUTE_UrbScore))) \n",
       "               Type of random forest: classification\n",
       "                     Number of trees: 400\n",
       "No. of variables tried at each split: 31\n",
       "\n",
       "        OOB estimate of  error rate: 18.68%\n",
       "Confusion matrix:\n",
       "                    Isolated Rural (4) Mostly Rural (3) Rural and Urban (2)\n",
       "Isolated Rural (4)                  11                1                   2\n",
       "Mostly Rural (3)                     1               30                   4\n",
       "Rural and Urban (2)                  0                2                  24\n",
       "Urban (1)                            0                1                   6\n",
       "                    Urban (1) class.error\n",
       "Isolated Rural (4)          0  0.21428571\n",
       "Mostly Rural (3)            0  0.14285714\n",
       "Rural and Urban (2)         0  0.07692308\n",
       "Urban (1)                   9  0.43750000"
      ]
     },
     "metadata": {},
     "output_type": "display_data"
    },
    {
     "data": {
      "text/plain": [
       "\n",
       "Call:\n",
       " randomForest(formula = data_train$ATTRIBUTE_UrbScore ~ ., data = data_train[,      6:1005], importance = TRUE, ntree = 400, na.omit = TRUE,      strata = top1000$ATTRIBUTE_UrbScore, sampsize = rep(min(table(top1000$ATTRIBUTE_UrbScore)),          nlevels(top1000$ATTRIBUTE_UrbScore))) \n",
       "               Type of random forest: classification\n",
       "                     Number of trees: 400\n",
       "No. of variables tried at each split: 31\n",
       "\n",
       "        OOB estimate of  error rate: 18.68%\n",
       "Confusion matrix:\n",
       "                    Isolated Rural (4) Mostly Rural (3) Rural and Urban (2)\n",
       "Isolated Rural (4)                  11                1                   2\n",
       "Mostly Rural (3)                     2               29                   4\n",
       "Rural and Urban (2)                  0                0                  26\n",
       "Urban (1)                            0                3                   5\n",
       "                    Urban (1) class.error\n",
       "Isolated Rural (4)          0   0.2142857\n",
       "Mostly Rural (3)            0   0.1714286\n",
       "Rural and Urban (2)         0   0.0000000\n",
       "Urban (1)                   8   0.5000000"
      ]
     },
     "metadata": {},
     "output_type": "display_data"
    },
    {
     "data": {
      "text/plain": [
       "\n",
       "Call:\n",
       " randomForest(formula = data_train$ATTRIBUTE_UrbScore ~ ., data = data_train[,      6:1005], importance = TRUE, ntree = 400, na.omit = TRUE,      strata = top1000$ATTRIBUTE_UrbScore, sampsize = rep(min(table(top1000$ATTRIBUTE_UrbScore)),          nlevels(top1000$ATTRIBUTE_UrbScore))) \n",
       "               Type of random forest: classification\n",
       "                     Number of trees: 400\n",
       "No. of variables tried at each split: 31\n",
       "\n",
       "        OOB estimate of  error rate: 16.48%\n",
       "Confusion matrix:\n",
       "                    Isolated Rural (4) Mostly Rural (3) Rural and Urban (2)\n",
       "Isolated Rural (4)                  11                1                   2\n",
       "Mostly Rural (3)                     1               30                   4\n",
       "Rural and Urban (2)                  0                0                  25\n",
       "Urban (1)                            0                3                   3\n",
       "                    Urban (1) class.error\n",
       "Isolated Rural (4)          0  0.21428571\n",
       "Mostly Rural (3)            0  0.14285714\n",
       "Rural and Urban (2)         1  0.03846154\n",
       "Urban (1)                  10  0.37500000"
      ]
     },
     "metadata": {},
     "output_type": "display_data"
    },
    {
     "data": {
      "text/plain": [
       "\n",
       "Call:\n",
       " randomForest(formula = data_train$ATTRIBUTE_UrbScore ~ ., data = data_train[,      6:1005], importance = TRUE, ntree = 400, na.omit = TRUE,      strata = top1000$ATTRIBUTE_UrbScore, sampsize = rep(min(table(top1000$ATTRIBUTE_UrbScore)),          nlevels(top1000$ATTRIBUTE_UrbScore))) \n",
       "               Type of random forest: classification\n",
       "                     Number of trees: 400\n",
       "No. of variables tried at each split: 31\n",
       "\n",
       "        OOB estimate of  error rate: 17.58%\n",
       "Confusion matrix:\n",
       "                    Isolated Rural (4) Mostly Rural (3) Rural and Urban (2)\n",
       "Isolated Rural (4)                  12                1                   1\n",
       "Mostly Rural (3)                     1               30                   4\n",
       "Rural and Urban (2)                  0                1                  25\n",
       "Urban (1)                            0                2                   6\n",
       "                    Urban (1) class.error\n",
       "Isolated Rural (4)          0  0.14285714\n",
       "Mostly Rural (3)            0  0.14285714\n",
       "Rural and Urban (2)         0  0.03846154\n",
       "Urban (1)                   8  0.50000000"
      ]
     },
     "metadata": {},
     "output_type": "display_data"
    },
    {
     "data": {
      "text/plain": [
       "\n",
       "Call:\n",
       " randomForest(formula = data_train$ATTRIBUTE_UrbScore ~ ., data = data_train[,      6:1005], importance = TRUE, ntree = 400, na.omit = TRUE,      strata = top1000$ATTRIBUTE_UrbScore, sampsize = rep(min(table(top1000$ATTRIBUTE_UrbScore)),          nlevels(top1000$ATTRIBUTE_UrbScore))) \n",
       "               Type of random forest: classification\n",
       "                     Number of trees: 400\n",
       "No. of variables tried at each split: 31\n",
       "\n",
       "        OOB estimate of  error rate: 19.78%\n",
       "Confusion matrix:\n",
       "                    Isolated Rural (4) Mostly Rural (3) Rural and Urban (2)\n",
       "Isolated Rural (4)                  11                1                   2\n",
       "Mostly Rural (3)                     2               29                   4\n",
       "Rural and Urban (2)                  0                0                  26\n",
       "Urban (1)                            0                2                   7\n",
       "                    Urban (1) class.error\n",
       "Isolated Rural (4)          0   0.2142857\n",
       "Mostly Rural (3)            0   0.1714286\n",
       "Rural and Urban (2)         0   0.0000000\n",
       "Urban (1)                   7   0.5625000"
      ]
     },
     "metadata": {},
     "output_type": "display_data"
    },
    {
     "data": {
      "text/plain": [
       "\n",
       "Call:\n",
       " randomForest(formula = data_train$ATTRIBUTE_UrbScore ~ ., data = data_train[,      6:1005], importance = TRUE, ntree = 400, na.omit = TRUE,      strata = top1000$ATTRIBUTE_UrbScore, sampsize = rep(min(table(top1000$ATTRIBUTE_UrbScore)),          nlevels(top1000$ATTRIBUTE_UrbScore))) \n",
       "               Type of random forest: classification\n",
       "                     Number of trees: 400\n",
       "No. of variables tried at each split: 31\n",
       "\n",
       "        OOB estimate of  error rate: 17.58%\n",
       "Confusion matrix:\n",
       "                    Isolated Rural (4) Mostly Rural (3) Rural and Urban (2)\n",
       "Isolated Rural (4)                  11                1                   2\n",
       "Mostly Rural (3)                     2               29                   4\n",
       "Rural and Urban (2)                  0                0                  26\n",
       "Urban (1)                            0                1                   6\n",
       "                    Urban (1) class.error\n",
       "Isolated Rural (4)          0   0.2142857\n",
       "Mostly Rural (3)            0   0.1714286\n",
       "Rural and Urban (2)         0   0.0000000\n",
       "Urban (1)                   9   0.4375000"
      ]
     },
     "metadata": {},
     "output_type": "display_data"
    },
    {
     "data": {
      "text/plain": [
       "\n",
       "Call:\n",
       " randomForest(formula = data_train$ATTRIBUTE_UrbScore ~ ., data = data_train[,      6:1005], importance = TRUE, ntree = 400, na.omit = TRUE,      strata = top1000$ATTRIBUTE_UrbScore, sampsize = rep(min(table(top1000$ATTRIBUTE_UrbScore)),          nlevels(top1000$ATTRIBUTE_UrbScore))) \n",
       "               Type of random forest: classification\n",
       "                     Number of trees: 400\n",
       "No. of variables tried at each split: 31\n",
       "\n",
       "        OOB estimate of  error rate: 14.29%\n",
       "Confusion matrix:\n",
       "                    Isolated Rural (4) Mostly Rural (3) Rural and Urban (2)\n",
       "Isolated Rural (4)                  12                0                   2\n",
       "Mostly Rural (3)                     1               30                   4\n",
       "Rural and Urban (2)                  0                1                  25\n",
       "Urban (1)                            0                1                   4\n",
       "                    Urban (1) class.error\n",
       "Isolated Rural (4)          0  0.14285714\n",
       "Mostly Rural (3)            0  0.14285714\n",
       "Rural and Urban (2)         0  0.03846154\n",
       "Urban (1)                  11  0.31250000"
      ]
     },
     "metadata": {},
     "output_type": "display_data"
    },
    {
     "data": {
      "text/plain": [
       "\n",
       "Call:\n",
       " randomForest(formula = data_train$ATTRIBUTE_UrbScore ~ ., data = data_train[,      6:1005], importance = TRUE, ntree = 400, na.omit = TRUE,      strata = top1000$ATTRIBUTE_UrbScore, sampsize = rep(min(table(top1000$ATTRIBUTE_UrbScore)),          nlevels(top1000$ATTRIBUTE_UrbScore))) \n",
       "               Type of random forest: classification\n",
       "                     Number of trees: 400\n",
       "No. of variables tried at each split: 31\n",
       "\n",
       "        OOB estimate of  error rate: 16.48%\n",
       "Confusion matrix:\n",
       "                    Isolated Rural (4) Mostly Rural (3) Rural and Urban (2)\n",
       "Isolated Rural (4)                  12                0                   2\n",
       "Mostly Rural (3)                     1               30                   4\n",
       "Rural and Urban (2)                  0                2                  24\n",
       "Urban (1)                            0                1                   5\n",
       "                    Urban (1) class.error\n",
       "Isolated Rural (4)          0  0.14285714\n",
       "Mostly Rural (3)            0  0.14285714\n",
       "Rural and Urban (2)         0  0.07692308\n",
       "Urban (1)                  10  0.37500000"
      ]
     },
     "metadata": {},
     "output_type": "display_data"
    },
    {
     "data": {
      "text/plain": [
       "\n",
       "Call:\n",
       " randomForest(formula = data_train$ATTRIBUTE_UrbScore ~ ., data = data_train[,      6:1005], importance = TRUE, ntree = 400, na.omit = TRUE,      strata = top1000$ATTRIBUTE_UrbScore, sampsize = rep(min(table(top1000$ATTRIBUTE_UrbScore)),          nlevels(top1000$ATTRIBUTE_UrbScore))) \n",
       "               Type of random forest: classification\n",
       "                     Number of trees: 400\n",
       "No. of variables tried at each split: 31\n",
       "\n",
       "        OOB estimate of  error rate: 18.68%\n",
       "Confusion matrix:\n",
       "                    Isolated Rural (4) Mostly Rural (3) Rural and Urban (2)\n",
       "Isolated Rural (4)                  11                1                   2\n",
       "Mostly Rural (3)                     2               28                   4\n",
       "Rural and Urban (2)                  0                0                  26\n",
       "Urban (1)                            0                1                   6\n",
       "                    Urban (1) class.error\n",
       "Isolated Rural (4)          0   0.2142857\n",
       "Mostly Rural (3)            1   0.2000000\n",
       "Rural and Urban (2)         0   0.0000000\n",
       "Urban (1)                   9   0.4375000"
      ]
     },
     "metadata": {},
     "output_type": "display_data"
    },
    {
     "data": {
      "text/plain": [
       "\n",
       "Call:\n",
       " randomForest(formula = data_train$ATTRIBUTE_UrbScore ~ ., data = data_train[,      6:1005], importance = TRUE, ntree = 400, na.omit = TRUE,      strata = top1000$ATTRIBUTE_UrbScore, sampsize = rep(min(table(top1000$ATTRIBUTE_UrbScore)),          nlevels(top1000$ATTRIBUTE_UrbScore))) \n",
       "               Type of random forest: classification\n",
       "                     Number of trees: 400\n",
       "No. of variables tried at each split: 31\n",
       "\n",
       "        OOB estimate of  error rate: 18.68%\n",
       "Confusion matrix:\n",
       "                    Isolated Rural (4) Mostly Rural (3) Rural and Urban (2)\n",
       "Isolated Rural (4)                  11                1                   2\n",
       "Mostly Rural (3)                     1               29                   5\n",
       "Rural and Urban (2)                  0                1                  24\n",
       "Urban (1)                            0                2                   4\n",
       "                    Urban (1) class.error\n",
       "Isolated Rural (4)          0  0.21428571\n",
       "Mostly Rural (3)            0  0.17142857\n",
       "Rural and Urban (2)         1  0.07692308\n",
       "Urban (1)                  10  0.37500000"
      ]
     },
     "metadata": {},
     "output_type": "display_data"
    },
    {
     "data": {
      "text/plain": [
       "\n",
       "Call:\n",
       " randomForest(formula = data_train$ATTRIBUTE_UrbScore ~ ., data = data_train[,      6:1005], importance = TRUE, ntree = 400, na.omit = TRUE,      strata = top1000$ATTRIBUTE_UrbScore, sampsize = rep(min(table(top1000$ATTRIBUTE_UrbScore)),          nlevels(top1000$ATTRIBUTE_UrbScore))) \n",
       "               Type of random forest: classification\n",
       "                     Number of trees: 400\n",
       "No. of variables tried at each split: 31\n",
       "\n",
       "        OOB estimate of  error rate: 15.38%\n",
       "Confusion matrix:\n",
       "                    Isolated Rural (4) Mostly Rural (3) Rural and Urban (2)\n",
       "Isolated Rural (4)                  11                1                   2\n",
       "Mostly Rural (3)                     1               30                   4\n",
       "Rural and Urban (2)                  0                0                  26\n",
       "Urban (1)                            0                1                   5\n",
       "                    Urban (1) class.error\n",
       "Isolated Rural (4)          0   0.2142857\n",
       "Mostly Rural (3)            0   0.1428571\n",
       "Rural and Urban (2)         0   0.0000000\n",
       "Urban (1)                  10   0.3750000"
      ]
     },
     "metadata": {},
     "output_type": "display_data"
    },
    {
     "data": {
      "text/plain": [
       "\n",
       "Call:\n",
       " randomForest(formula = data_train$ATTRIBUTE_UrbScore ~ ., data = data_train[,      6:1005], importance = TRUE, ntree = 400, na.omit = TRUE,      strata = top1000$ATTRIBUTE_UrbScore, sampsize = rep(min(table(top1000$ATTRIBUTE_UrbScore)),          nlevels(top1000$ATTRIBUTE_UrbScore))) \n",
       "               Type of random forest: classification\n",
       "                     Number of trees: 400\n",
       "No. of variables tried at each split: 31\n",
       "\n",
       "        OOB estimate of  error rate: 14.29%\n",
       "Confusion matrix:\n",
       "                    Isolated Rural (4) Mostly Rural (3) Rural and Urban (2)\n",
       "Isolated Rural (4)                  12                1                   1\n",
       "Mostly Rural (3)                     1               31                   3\n",
       "Rural and Urban (2)                  0                1                  25\n",
       "Urban (1)                            0                2                   4\n",
       "                    Urban (1) class.error\n",
       "Isolated Rural (4)          0  0.14285714\n",
       "Mostly Rural (3)            0  0.11428571\n",
       "Rural and Urban (2)         0  0.03846154\n",
       "Urban (1)                  10  0.37500000"
      ]
     },
     "metadata": {},
     "output_type": "display_data"
    },
    {
     "data": {
      "text/plain": [
       "\n",
       "Call:\n",
       " randomForest(formula = data_train$ATTRIBUTE_UrbScore ~ ., data = data_train[,      6:1005], importance = TRUE, ntree = 400, na.omit = TRUE,      strata = top1000$ATTRIBUTE_UrbScore, sampsize = rep(min(table(top1000$ATTRIBUTE_UrbScore)),          nlevels(top1000$ATTRIBUTE_UrbScore))) \n",
       "               Type of random forest: classification\n",
       "                     Number of trees: 400\n",
       "No. of variables tried at each split: 31\n",
       "\n",
       "        OOB estimate of  error rate: 15.38%\n",
       "Confusion matrix:\n",
       "                    Isolated Rural (4) Mostly Rural (3) Rural and Urban (2)\n",
       "Isolated Rural (4)                  12                0                   2\n",
       "Mostly Rural (3)                     1               30                   4\n",
       "Rural and Urban (2)                  0                1                  24\n",
       "Urban (1)                            0                1                   4\n",
       "                    Urban (1) class.error\n",
       "Isolated Rural (4)          0  0.14285714\n",
       "Mostly Rural (3)            0  0.14285714\n",
       "Rural and Urban (2)         1  0.07692308\n",
       "Urban (1)                  11  0.31250000"
      ]
     },
     "metadata": {},
     "output_type": "display_data"
    },
    {
     "data": {
      "text/plain": [
       "\n",
       "Call:\n",
       " randomForest(formula = data_train$ATTRIBUTE_UrbScore ~ ., data = data_train[,      6:1005], importance = TRUE, ntree = 400, na.omit = TRUE,      strata = top1000$ATTRIBUTE_UrbScore, sampsize = rep(min(table(top1000$ATTRIBUTE_UrbScore)),          nlevels(top1000$ATTRIBUTE_UrbScore))) \n",
       "               Type of random forest: classification\n",
       "                     Number of trees: 400\n",
       "No. of variables tried at each split: 31\n",
       "\n",
       "        OOB estimate of  error rate: 16.48%\n",
       "Confusion matrix:\n",
       "                    Isolated Rural (4) Mostly Rural (3) Rural and Urban (2)\n",
       "Isolated Rural (4)                  13                0                   1\n",
       "Mostly Rural (3)                     2               29                   4\n",
       "Rural and Urban (2)                  0                1                  25\n",
       "Urban (1)                            0                2                   5\n",
       "                    Urban (1) class.error\n",
       "Isolated Rural (4)          0  0.07142857\n",
       "Mostly Rural (3)            0  0.17142857\n",
       "Rural and Urban (2)         0  0.03846154\n",
       "Urban (1)                   9  0.43750000"
      ]
     },
     "metadata": {},
     "output_type": "display_data"
    },
    {
     "data": {
      "text/plain": [
       "\n",
       "Call:\n",
       " randomForest(formula = data_train$ATTRIBUTE_UrbScore ~ ., data = data_train[,      6:1005], importance = TRUE, ntree = 400, na.omit = TRUE,      strata = top1000$ATTRIBUTE_UrbScore, sampsize = rep(min(table(top1000$ATTRIBUTE_UrbScore)),          nlevels(top1000$ATTRIBUTE_UrbScore))) \n",
       "               Type of random forest: classification\n",
       "                     Number of trees: 400\n",
       "No. of variables tried at each split: 31\n",
       "\n",
       "        OOB estimate of  error rate: 14.29%\n",
       "Confusion matrix:\n",
       "                    Isolated Rural (4) Mostly Rural (3) Rural and Urban (2)\n",
       "Isolated Rural (4)                  13                0                   1\n",
       "Mostly Rural (3)                     1               30                   4\n",
       "Rural and Urban (2)                  0                0                  26\n",
       "Urban (1)                            0                1                   6\n",
       "                    Urban (1) class.error\n",
       "Isolated Rural (4)          0  0.07142857\n",
       "Mostly Rural (3)            0  0.14285714\n",
       "Rural and Urban (2)         0  0.00000000\n",
       "Urban (1)                   9  0.43750000"
      ]
     },
     "metadata": {},
     "output_type": "display_data"
    },
    {
     "data": {
      "text/plain": [
       "\n",
       "Call:\n",
       " randomForest(formula = data_train$ATTRIBUTE_UrbScore ~ ., data = data_train[,      6:1005], importance = TRUE, ntree = 400, na.omit = TRUE,      strata = top1000$ATTRIBUTE_UrbScore, sampsize = rep(min(table(top1000$ATTRIBUTE_UrbScore)),          nlevels(top1000$ATTRIBUTE_UrbScore))) \n",
       "               Type of random forest: classification\n",
       "                     Number of trees: 400\n",
       "No. of variables tried at each split: 31\n",
       "\n",
       "        OOB estimate of  error rate: 14.29%\n",
       "Confusion matrix:\n",
       "                    Isolated Rural (4) Mostly Rural (3) Rural and Urban (2)\n",
       "Isolated Rural (4)                  12                0                   2\n",
       "Mostly Rural (3)                     2               29                   4\n",
       "Rural and Urban (2)                  1                0                  25\n",
       "Urban (1)                            0                0                   4\n",
       "                    Urban (1) class.error\n",
       "Isolated Rural (4)          0  0.14285714\n",
       "Mostly Rural (3)            0  0.17142857\n",
       "Rural and Urban (2)         0  0.03846154\n",
       "Urban (1)                  12  0.25000000"
      ]
     },
     "metadata": {},
     "output_type": "display_data"
    },
    {
     "data": {
      "text/plain": [
       "\n",
       "Call:\n",
       " randomForest(formula = data_train$ATTRIBUTE_UrbScore ~ ., data = data_train[,      6:1005], importance = TRUE, ntree = 400, na.omit = TRUE,      strata = top1000$ATTRIBUTE_UrbScore, sampsize = rep(min(table(top1000$ATTRIBUTE_UrbScore)),          nlevels(top1000$ATTRIBUTE_UrbScore))) \n",
       "               Type of random forest: classification\n",
       "                     Number of trees: 400\n",
       "No. of variables tried at each split: 31\n",
       "\n",
       "        OOB estimate of  error rate: 17.58%\n",
       "Confusion matrix:\n",
       "                    Isolated Rural (4) Mostly Rural (3) Rural and Urban (2)\n",
       "Isolated Rural (4)                  11                1                   2\n",
       "Mostly Rural (3)                     1               30                   4\n",
       "Rural and Urban (2)                  0                0                  25\n",
       "Urban (1)                            0                2                   5\n",
       "                    Urban (1) class.error\n",
       "Isolated Rural (4)          0  0.21428571\n",
       "Mostly Rural (3)            0  0.14285714\n",
       "Rural and Urban (2)         1  0.03846154\n",
       "Urban (1)                   9  0.43750000"
      ]
     },
     "metadata": {},
     "output_type": "display_data"
    },
    {
     "data": {
      "text/plain": [
       "\n",
       "Call:\n",
       " randomForest(formula = data_train$ATTRIBUTE_UrbScore ~ ., data = data_train[,      6:1005], importance = TRUE, ntree = 400, na.omit = TRUE,      strata = top1000$ATTRIBUTE_UrbScore, sampsize = rep(min(table(top1000$ATTRIBUTE_UrbScore)),          nlevels(top1000$ATTRIBUTE_UrbScore))) \n",
       "               Type of random forest: classification\n",
       "                     Number of trees: 400\n",
       "No. of variables tried at each split: 31\n",
       "\n",
       "        OOB estimate of  error rate: 17.58%\n",
       "Confusion matrix:\n",
       "                    Isolated Rural (4) Mostly Rural (3) Rural and Urban (2)\n",
       "Isolated Rural (4)                  11                1                   2\n",
       "Mostly Rural (3)                     2               29                   4\n",
       "Rural and Urban (2)                  0                0                  25\n",
       "Urban (1)                            0                0                   6\n",
       "                    Urban (1) class.error\n",
       "Isolated Rural (4)          0  0.21428571\n",
       "Mostly Rural (3)            0  0.17142857\n",
       "Rural and Urban (2)         1  0.03846154\n",
       "Urban (1)                  10  0.37500000"
      ]
     },
     "metadata": {},
     "output_type": "display_data"
    },
    {
     "data": {
      "text/plain": [
       "\n",
       "Call:\n",
       " randomForest(formula = data_train$ATTRIBUTE_UrbScore ~ ., data = data_train[,      6:1005], importance = TRUE, ntree = 400, na.omit = TRUE,      strata = top1000$ATTRIBUTE_UrbScore, sampsize = rep(min(table(top1000$ATTRIBUTE_UrbScore)),          nlevels(top1000$ATTRIBUTE_UrbScore))) \n",
       "               Type of random forest: classification\n",
       "                     Number of trees: 400\n",
       "No. of variables tried at each split: 31\n",
       "\n",
       "        OOB estimate of  error rate: 18.68%\n",
       "Confusion matrix:\n",
       "                    Isolated Rural (4) Mostly Rural (3) Rural and Urban (2)\n",
       "Isolated Rural (4)                  11                1                   2\n",
       "Mostly Rural (3)                     1               30                   4\n",
       "Rural and Urban (2)                  0                0                  26\n",
       "Urban (1)                            0                3                   6\n",
       "                    Urban (1) class.error\n",
       "Isolated Rural (4)          0   0.2142857\n",
       "Mostly Rural (3)            0   0.1428571\n",
       "Rural and Urban (2)         0   0.0000000\n",
       "Urban (1)                   7   0.5625000"
      ]
     },
     "metadata": {},
     "output_type": "display_data"
    },
    {
     "data": {
      "text/plain": [
       "\n",
       "Call:\n",
       " randomForest(formula = data_train$ATTRIBUTE_UrbScore ~ ., data = data_train[,      6:1005], importance = TRUE, ntree = 400, na.omit = TRUE,      strata = top1000$ATTRIBUTE_UrbScore, sampsize = rep(min(table(top1000$ATTRIBUTE_UrbScore)),          nlevels(top1000$ATTRIBUTE_UrbScore))) \n",
       "               Type of random forest: classification\n",
       "                     Number of trees: 400\n",
       "No. of variables tried at each split: 31\n",
       "\n",
       "        OOB estimate of  error rate: 17.58%\n",
       "Confusion matrix:\n",
       "                    Isolated Rural (4) Mostly Rural (3) Rural and Urban (2)\n",
       "Isolated Rural (4)                  11                1                   2\n",
       "Mostly Rural (3)                     2               29                   4\n",
       "Rural and Urban (2)                  0                1                  24\n",
       "Urban (1)                            0                1                   4\n",
       "                    Urban (1) class.error\n",
       "Isolated Rural (4)          0  0.21428571\n",
       "Mostly Rural (3)            0  0.17142857\n",
       "Rural and Urban (2)         1  0.07692308\n",
       "Urban (1)                  11  0.31250000"
      ]
     },
     "metadata": {},
     "output_type": "display_data"
    }
   ],
   "source": [
    "rf_400trees_rep1 <- randomForest(data_train$ATTRIBUTE_UrbScore~., data=data_train[,6:1005],importance=TRUE,ntree=400,na.omit=TRUE,strata=top1000$ATTRIBUTE_UrbScore, sampsize=rep(min(table(top1000$ATTRIBUTE_UrbScore)),nlevels(top1000$ATTRIBUTE_UrbScore)))\n",
    "rf_400trees_rep1\n",
    "rf_400trees_rep2 <- randomForest(data_train$ATTRIBUTE_UrbScore~., data=data_train[,6:1005],importance=TRUE,ntree=400,na.omit=TRUE,strata=top1000$ATTRIBUTE_UrbScore, sampsize=rep(min(table(top1000$ATTRIBUTE_UrbScore)),nlevels(top1000$ATTRIBUTE_UrbScore)))\n",
    "rf_400trees_rep2\n",
    "rf_400trees_rep3 <- randomForest(data_train$ATTRIBUTE_UrbScore~., data=data_train[,6:1005],importance=TRUE,ntree=400,na.omit=TRUE,strata=top1000$ATTRIBUTE_UrbScore, sampsize=rep(min(table(top1000$ATTRIBUTE_UrbScore)),nlevels(top1000$ATTRIBUTE_UrbScore)))\n",
    "rf_400trees_rep3\n",
    "rf_400trees_rep4 <- randomForest(data_train$ATTRIBUTE_UrbScore~., data=data_train[,6:1005],importance=TRUE,ntree=400,na.omit=TRUE,strata=top1000$ATTRIBUTE_UrbScore, sampsize=rep(min(table(top1000$ATTRIBUTE_UrbScore)),nlevels(top1000$ATTRIBUTE_UrbScore)))\n",
    "rf_400trees_rep4\n",
    "rf_400trees_rep5 <- randomForest(data_train$ATTRIBUTE_UrbScore~., data=data_train[,6:1005],importance=TRUE,ntree=400,na.omit=TRUE,strata=top1000$ATTRIBUTE_UrbScore, sampsize=rep(min(table(top1000$ATTRIBUTE_UrbScore)),nlevels(top1000$ATTRIBUTE_UrbScore)))\n",
    "rf_400trees_rep5\n",
    "rf_400trees_rep6 <- randomForest(data_train$ATTRIBUTE_UrbScore~., data=data_train[,6:1005],importance=TRUE,ntree=400,na.omit=TRUE,strata=top1000$ATTRIBUTE_UrbScore, sampsize=rep(min(table(top1000$ATTRIBUTE_UrbScore)),nlevels(top1000$ATTRIBUTE_UrbScore)))\n",
    "rf_400trees_rep6\n",
    "rf_400trees_rep7 <- randomForest(data_train$ATTRIBUTE_UrbScore~., data=data_train[,6:1005],importance=TRUE,ntree=400,na.omit=TRUE,strata=top1000$ATTRIBUTE_UrbScore, sampsize=rep(min(table(top1000$ATTRIBUTE_UrbScore)),nlevels(top1000$ATTRIBUTE_UrbScore)))\n",
    "rf_400trees_rep7\n",
    "rf_400trees_rep8 <- randomForest(data_train$ATTRIBUTE_UrbScore~., data=data_train[,6:1005],importance=TRUE,ntree=400,na.omit=TRUE,strata=top1000$ATTRIBUTE_UrbScore, sampsize=rep(min(table(top1000$ATTRIBUTE_UrbScore)),nlevels(top1000$ATTRIBUTE_UrbScore)))\n",
    "rf_400trees_rep8\n",
    "rf_400trees_rep9 <- randomForest(data_train$ATTRIBUTE_UrbScore~., data=data_train[,6:1005],importance=TRUE,ntree=400,na.omit=TRUE,strata=top1000$ATTRIBUTE_UrbScore, sampsize=rep(min(table(top1000$ATTRIBUTE_UrbScore)),nlevels(top1000$ATTRIBUTE_UrbScore)))\n",
    "rf_400trees_rep9\n",
    "rf_400trees_rep10 <- randomForest(data_train$ATTRIBUTE_UrbScore~., data=data_train[,6:1005],importance=TRUE,ntree=400,na.omit=TRUE,strata=top1000$ATTRIBUTE_UrbScore, sampsize=rep(min(table(top1000$ATTRIBUTE_UrbScore)),nlevels(top1000$ATTRIBUTE_UrbScore)))\n",
    "rf_400trees_rep10\n",
    "rf_400trees_rep11 <- randomForest(data_train$ATTRIBUTE_UrbScore~., data=data_train[,6:1005],importance=TRUE,ntree=400,na.omit=TRUE,strata=top1000$ATTRIBUTE_UrbScore, sampsize=rep(min(table(top1000$ATTRIBUTE_UrbScore)),nlevels(top1000$ATTRIBUTE_UrbScore)))\n",
    "rf_400trees_rep11\n",
    "rf_400trees_rep12 <- randomForest(data_train$ATTRIBUTE_UrbScore~., data=data_train[,6:1005],importance=TRUE,ntree=400,na.omit=TRUE,strata=top1000$ATTRIBUTE_UrbScore, sampsize=rep(min(table(top1000$ATTRIBUTE_UrbScore)),nlevels(top1000$ATTRIBUTE_UrbScore)))\n",
    "rf_400trees_rep12\n",
    "rf_400trees_rep13 <- randomForest(data_train$ATTRIBUTE_UrbScore~., data=data_train[,6:1005],importance=TRUE,ntree=400,na.omit=TRUE,strata=top1000$ATTRIBUTE_UrbScore, sampsize=rep(min(table(top1000$ATTRIBUTE_UrbScore)),nlevels(top1000$ATTRIBUTE_UrbScore)))\n",
    "rf_400trees_rep13\n",
    "rf_400trees_rep14 <- randomForest(data_train$ATTRIBUTE_UrbScore~., data=data_train[,6:1005],importance=TRUE,ntree=400,na.omit=TRUE,strata=top1000$ATTRIBUTE_UrbScore, sampsize=rep(min(table(top1000$ATTRIBUTE_UrbScore)),nlevels(top1000$ATTRIBUTE_UrbScore)))\n",
    "rf_400trees_rep14\n",
    "rf_400trees_rep15 <- randomForest(data_train$ATTRIBUTE_UrbScore~., data=data_train[,6:1005],importance=TRUE,ntree=400,na.omit=TRUE,strata=top1000$ATTRIBUTE_UrbScore, sampsize=rep(min(table(top1000$ATTRIBUTE_UrbScore)),nlevels(top1000$ATTRIBUTE_UrbScore)))\n",
    "rf_400trees_rep15\n",
    "rf_400trees_rep16 <- randomForest(data_train$ATTRIBUTE_UrbScore~., data=data_train[,6:1005],importance=TRUE,ntree=400,na.omit=TRUE,strata=top1000$ATTRIBUTE_UrbScore, sampsize=rep(min(table(top1000$ATTRIBUTE_UrbScore)),nlevels(top1000$ATTRIBUTE_UrbScore)))\n",
    "rf_400trees_rep16\n",
    "rf_400trees_rep17 <- randomForest(data_train$ATTRIBUTE_UrbScore~., data=data_train[,6:1005],importance=TRUE,ntree=400,na.omit=TRUE,strata=top1000$ATTRIBUTE_UrbScore, sampsize=rep(min(table(top1000$ATTRIBUTE_UrbScore)),nlevels(top1000$ATTRIBUTE_UrbScore)))\n",
    "rf_400trees_rep17\n",
    "rf_400trees_rep18 <- randomForest(data_train$ATTRIBUTE_UrbScore~., data=data_train[,6:1005],importance=TRUE,ntree=400,na.omit=TRUE,strata=top1000$ATTRIBUTE_UrbScore, sampsize=rep(min(table(top1000$ATTRIBUTE_UrbScore)),nlevels(top1000$ATTRIBUTE_UrbScore)))\n",
    "rf_400trees_rep18\n",
    "rf_400trees_rep19 <- randomForest(data_train$ATTRIBUTE_UrbScore~., data=data_train[,6:1005],importance=TRUE,ntree=400,na.omit=TRUE,strata=top1000$ATTRIBUTE_UrbScore, sampsize=rep(min(table(top1000$ATTRIBUTE_UrbScore)),nlevels(top1000$ATTRIBUTE_UrbScore)))\n",
    "rf_400trees_rep19\n",
    "rf_400trees_rep20 <- randomForest(data_train$ATTRIBUTE_UrbScore~., data=data_train[,6:1005],importance=TRUE,ntree=400,na.omit=TRUE,strata=top1000$ATTRIBUTE_UrbScore, sampsize=rep(min(table(top1000$ATTRIBUTE_UrbScore)),nlevels(top1000$ATTRIBUTE_UrbScore)))\n",
    "rf_400trees_rep20"
   ]
  },
  {
   "cell_type": "code",
   "execution_count": 22,
   "metadata": {},
   "outputs": [
    {
     "data": {
      "text/plain": [
       "\n",
       "Call:\n",
       " randomForest(formula = data_train$ATTRIBUTE_UrbScore ~ ., data = data_train[,      6:1005], importance = TRUE, ntree = 500, na.omit = TRUE,      strata = top1000$ATTRIBUTE_UrbScore, sampsize = rep(min(table(top1000$ATTRIBUTE_UrbScore)),          nlevels(top1000$ATTRIBUTE_UrbScore))) \n",
       "               Type of random forest: classification\n",
       "                     Number of trees: 500\n",
       "No. of variables tried at each split: 31\n",
       "\n",
       "        OOB estimate of  error rate: 20.88%\n",
       "Confusion matrix:\n",
       "                    Isolated Rural (4) Mostly Rural (3) Rural and Urban (2)\n",
       "Isolated Rural (4)                  10                2                   2\n",
       "Mostly Rural (3)                     1               29                   5\n",
       "Rural and Urban (2)                  0                1                  25\n",
       "Urban (1)                            0                2                   6\n",
       "                    Urban (1) class.error\n",
       "Isolated Rural (4)          0  0.28571429\n",
       "Mostly Rural (3)            0  0.17142857\n",
       "Rural and Urban (2)         0  0.03846154\n",
       "Urban (1)                   8  0.50000000"
      ]
     },
     "metadata": {},
     "output_type": "display_data"
    },
    {
     "data": {
      "text/plain": [
       "\n",
       "Call:\n",
       " randomForest(formula = data_train$ATTRIBUTE_UrbScore ~ ., data = data_train[,      6:1005], importance = TRUE, ntree = 500, na.omit = TRUE,      strata = top1000$ATTRIBUTE_UrbScore, sampsize = rep(min(table(top1000$ATTRIBUTE_UrbScore)),          nlevels(top1000$ATTRIBUTE_UrbScore))) \n",
       "               Type of random forest: classification\n",
       "                     Number of trees: 500\n",
       "No. of variables tried at each split: 31\n",
       "\n",
       "        OOB estimate of  error rate: 15.38%\n",
       "Confusion matrix:\n",
       "                    Isolated Rural (4) Mostly Rural (3) Rural and Urban (2)\n",
       "Isolated Rural (4)                  12                1                   1\n",
       "Mostly Rural (3)                     1               30                   4\n",
       "Rural and Urban (2)                  1                0                  25\n",
       "Urban (1)                            0                2                   4\n",
       "                    Urban (1) class.error\n",
       "Isolated Rural (4)          0  0.14285714\n",
       "Mostly Rural (3)            0  0.14285714\n",
       "Rural and Urban (2)         0  0.03846154\n",
       "Urban (1)                  10  0.37500000"
      ]
     },
     "metadata": {},
     "output_type": "display_data"
    },
    {
     "data": {
      "text/plain": [
       "\n",
       "Call:\n",
       " randomForest(formula = data_train$ATTRIBUTE_UrbScore ~ ., data = data_train[,      6:1005], importance = TRUE, ntree = 500, na.omit = TRUE,      strata = top1000$ATTRIBUTE_UrbScore, sampsize = rep(min(table(top1000$ATTRIBUTE_UrbScore)),          nlevels(top1000$ATTRIBUTE_UrbScore))) \n",
       "               Type of random forest: classification\n",
       "                     Number of trees: 500\n",
       "No. of variables tried at each split: 31\n",
       "\n",
       "        OOB estimate of  error rate: 15.38%\n",
       "Confusion matrix:\n",
       "                    Isolated Rural (4) Mostly Rural (3) Rural and Urban (2)\n",
       "Isolated Rural (4)                  11                1                   2\n",
       "Mostly Rural (3)                     1               30                   4\n",
       "Rural and Urban (2)                  0                0                  26\n",
       "Urban (1)                            0                2                   4\n",
       "                    Urban (1) class.error\n",
       "Isolated Rural (4)          0   0.2142857\n",
       "Mostly Rural (3)            0   0.1428571\n",
       "Rural and Urban (2)         0   0.0000000\n",
       "Urban (1)                  10   0.3750000"
      ]
     },
     "metadata": {},
     "output_type": "display_data"
    },
    {
     "data": {
      "text/plain": [
       "\n",
       "Call:\n",
       " randomForest(formula = data_train$ATTRIBUTE_UrbScore ~ ., data = data_train[,      6:1005], importance = TRUE, ntree = 500, na.omit = TRUE,      strata = top1000$ATTRIBUTE_UrbScore, sampsize = rep(min(table(top1000$ATTRIBUTE_UrbScore)),          nlevels(top1000$ATTRIBUTE_UrbScore))) \n",
       "               Type of random forest: classification\n",
       "                     Number of trees: 500\n",
       "No. of variables tried at each split: 31\n",
       "\n",
       "        OOB estimate of  error rate: 18.68%\n",
       "Confusion matrix:\n",
       "                    Isolated Rural (4) Mostly Rural (3) Rural and Urban (2)\n",
       "Isolated Rural (4)                  11                1                   2\n",
       "Mostly Rural (3)                     1               30                   4\n",
       "Rural and Urban (2)                  1                0                  25\n",
       "Urban (1)                            0                2                   6\n",
       "                    Urban (1) class.error\n",
       "Isolated Rural (4)          0  0.21428571\n",
       "Mostly Rural (3)            0  0.14285714\n",
       "Rural and Urban (2)         0  0.03846154\n",
       "Urban (1)                   8  0.50000000"
      ]
     },
     "metadata": {},
     "output_type": "display_data"
    },
    {
     "data": {
      "text/plain": [
       "\n",
       "Call:\n",
       " randomForest(formula = data_train$ATTRIBUTE_UrbScore ~ ., data = data_train[,      6:1005], importance = TRUE, ntree = 500, na.omit = TRUE,      strata = top1000$ATTRIBUTE_UrbScore, sampsize = rep(min(table(top1000$ATTRIBUTE_UrbScore)),          nlevels(top1000$ATTRIBUTE_UrbScore))) \n",
       "               Type of random forest: classification\n",
       "                     Number of trees: 500\n",
       "No. of variables tried at each split: 31\n",
       "\n",
       "        OOB estimate of  error rate: 17.58%\n",
       "Confusion matrix:\n",
       "                    Isolated Rural (4) Mostly Rural (3) Rural and Urban (2)\n",
       "Isolated Rural (4)                  11                1                   2\n",
       "Mostly Rural (3)                     1               30                   4\n",
       "Rural and Urban (2)                  0                0                  26\n",
       "Urban (1)                            0                3                   5\n",
       "                    Urban (1) class.error\n",
       "Isolated Rural (4)          0   0.2142857\n",
       "Mostly Rural (3)            0   0.1428571\n",
       "Rural and Urban (2)         0   0.0000000\n",
       "Urban (1)                   8   0.5000000"
      ]
     },
     "metadata": {},
     "output_type": "display_data"
    },
    {
     "data": {
      "text/plain": [
       "\n",
       "Call:\n",
       " randomForest(formula = data_train$ATTRIBUTE_UrbScore ~ ., data = data_train[,      6:1005], importance = TRUE, ntree = 500, na.omit = TRUE,      strata = top1000$ATTRIBUTE_UrbScore, sampsize = rep(min(table(top1000$ATTRIBUTE_UrbScore)),          nlevels(top1000$ATTRIBUTE_UrbScore))) \n",
       "               Type of random forest: classification\n",
       "                     Number of trees: 500\n",
       "No. of variables tried at each split: 31\n",
       "\n",
       "        OOB estimate of  error rate: 15.38%\n",
       "Confusion matrix:\n",
       "                    Isolated Rural (4) Mostly Rural (3) Rural and Urban (2)\n",
       "Isolated Rural (4)                  11                1                   2\n",
       "Mostly Rural (3)                     1               30                   4\n",
       "Rural and Urban (2)                  0                1                  24\n",
       "Urban (1)                            0                1                   3\n",
       "                    Urban (1) class.error\n",
       "Isolated Rural (4)          0  0.21428571\n",
       "Mostly Rural (3)            0  0.14285714\n",
       "Rural and Urban (2)         1  0.07692308\n",
       "Urban (1)                  12  0.25000000"
      ]
     },
     "metadata": {},
     "output_type": "display_data"
    },
    {
     "data": {
      "text/plain": [
       "\n",
       "Call:\n",
       " randomForest(formula = data_train$ATTRIBUTE_UrbScore ~ ., data = data_train[,      6:1005], importance = TRUE, ntree = 500, na.omit = TRUE,      strata = top1000$ATTRIBUTE_UrbScore, sampsize = rep(min(table(top1000$ATTRIBUTE_UrbScore)),          nlevels(top1000$ATTRIBUTE_UrbScore))) \n",
       "               Type of random forest: classification\n",
       "                     Number of trees: 500\n",
       "No. of variables tried at each split: 31\n",
       "\n",
       "        OOB estimate of  error rate: 16.48%\n",
       "Confusion matrix:\n",
       "                    Isolated Rural (4) Mostly Rural (3) Rural and Urban (2)\n",
       "Isolated Rural (4)                  11                1                   2\n",
       "Mostly Rural (3)                     2               29                   4\n",
       "Rural and Urban (2)                  0                0                  26\n",
       "Urban (1)                            0                2                   4\n",
       "                    Urban (1) class.error\n",
       "Isolated Rural (4)          0   0.2142857\n",
       "Mostly Rural (3)            0   0.1714286\n",
       "Rural and Urban (2)         0   0.0000000\n",
       "Urban (1)                  10   0.3750000"
      ]
     },
     "metadata": {},
     "output_type": "display_data"
    },
    {
     "data": {
      "text/plain": [
       "\n",
       "Call:\n",
       " randomForest(formula = data_train$ATTRIBUTE_UrbScore ~ ., data = data_train[,      6:1005], importance = TRUE, ntree = 500, na.omit = TRUE,      strata = top1000$ATTRIBUTE_UrbScore, sampsize = rep(min(table(top1000$ATTRIBUTE_UrbScore)),          nlevels(top1000$ATTRIBUTE_UrbScore))) \n",
       "               Type of random forest: classification\n",
       "                     Number of trees: 500\n",
       "No. of variables tried at each split: 31\n",
       "\n",
       "        OOB estimate of  error rate: 15.38%\n",
       "Confusion matrix:\n",
       "                    Isolated Rural (4) Mostly Rural (3) Rural and Urban (2)\n",
       "Isolated Rural (4)                  12                1                   1\n",
       "Mostly Rural (3)                     1               30                   4\n",
       "Rural and Urban (2)                  0                0                  26\n",
       "Urban (1)                            0                2                   5\n",
       "                    Urban (1) class.error\n",
       "Isolated Rural (4)          0   0.1428571\n",
       "Mostly Rural (3)            0   0.1428571\n",
       "Rural and Urban (2)         0   0.0000000\n",
       "Urban (1)                   9   0.4375000"
      ]
     },
     "metadata": {},
     "output_type": "display_data"
    },
    {
     "data": {
      "text/plain": [
       "\n",
       "Call:\n",
       " randomForest(formula = data_train$ATTRIBUTE_UrbScore ~ ., data = data_train[,      6:1005], importance = TRUE, ntree = 500, na.omit = TRUE,      strata = top1000$ATTRIBUTE_UrbScore, sampsize = rep(min(table(top1000$ATTRIBUTE_UrbScore)),          nlevels(top1000$ATTRIBUTE_UrbScore))) \n",
       "               Type of random forest: classification\n",
       "                     Number of trees: 500\n",
       "No. of variables tried at each split: 31\n",
       "\n",
       "        OOB estimate of  error rate: 14.29%\n",
       "Confusion matrix:\n",
       "                    Isolated Rural (4) Mostly Rural (3) Rural and Urban (2)\n",
       "Isolated Rural (4)                  12                0                   2\n",
       "Mostly Rural (3)                     1               30                   4\n",
       "Rural and Urban (2)                  0                0                  26\n",
       "Urban (1)                            0                1                   5\n",
       "                    Urban (1) class.error\n",
       "Isolated Rural (4)          0   0.1428571\n",
       "Mostly Rural (3)            0   0.1428571\n",
       "Rural and Urban (2)         0   0.0000000\n",
       "Urban (1)                  10   0.3750000"
      ]
     },
     "metadata": {},
     "output_type": "display_data"
    },
    {
     "data": {
      "text/plain": [
       "\n",
       "Call:\n",
       " randomForest(formula = data_train$ATTRIBUTE_UrbScore ~ ., data = data_train[,      6:1005], importance = TRUE, ntree = 500, na.omit = TRUE,      strata = top1000$ATTRIBUTE_UrbScore, sampsize = rep(min(table(top1000$ATTRIBUTE_UrbScore)),          nlevels(top1000$ATTRIBUTE_UrbScore))) \n",
       "               Type of random forest: classification\n",
       "                     Number of trees: 500\n",
       "No. of variables tried at each split: 31\n",
       "\n",
       "        OOB estimate of  error rate: 15.38%\n",
       "Confusion matrix:\n",
       "                    Isolated Rural (4) Mostly Rural (3) Rural and Urban (2)\n",
       "Isolated Rural (4)                  11                1                   2\n",
       "Mostly Rural (3)                     1               30                   4\n",
       "Rural and Urban (2)                  0                0                  26\n",
       "Urban (1)                            0                0                   6\n",
       "                    Urban (1) class.error\n",
       "Isolated Rural (4)          0   0.2142857\n",
       "Mostly Rural (3)            0   0.1428571\n",
       "Rural and Urban (2)         0   0.0000000\n",
       "Urban (1)                  10   0.3750000"
      ]
     },
     "metadata": {},
     "output_type": "display_data"
    },
    {
     "data": {
      "text/plain": [
       "\n",
       "Call:\n",
       " randomForest(formula = data_train$ATTRIBUTE_UrbScore ~ ., data = data_train[,      6:1005], importance = TRUE, ntree = 500, na.omit = TRUE,      strata = top1000$ATTRIBUTE_UrbScore, sampsize = rep(min(table(top1000$ATTRIBUTE_UrbScore)),          nlevels(top1000$ATTRIBUTE_UrbScore))) \n",
       "               Type of random forest: classification\n",
       "                     Number of trees: 500\n",
       "No. of variables tried at each split: 31\n",
       "\n",
       "        OOB estimate of  error rate: 17.58%\n",
       "Confusion matrix:\n",
       "                    Isolated Rural (4) Mostly Rural (3) Rural and Urban (2)\n",
       "Isolated Rural (4)                  11                1                   2\n",
       "Mostly Rural (3)                     2               29                   4\n",
       "Rural and Urban (2)                  0                0                  26\n",
       "Urban (1)                            0                2                   5\n",
       "                    Urban (1) class.error\n",
       "Isolated Rural (4)          0   0.2142857\n",
       "Mostly Rural (3)            0   0.1714286\n",
       "Rural and Urban (2)         0   0.0000000\n",
       "Urban (1)                   9   0.4375000"
      ]
     },
     "metadata": {},
     "output_type": "display_data"
    },
    {
     "data": {
      "text/plain": [
       "\n",
       "Call:\n",
       " randomForest(formula = data_train$ATTRIBUTE_UrbScore ~ ., data = data_train[,      6:1005], importance = TRUE, ntree = 500, na.omit = TRUE,      strata = top1000$ATTRIBUTE_UrbScore, sampsize = rep(min(table(top1000$ATTRIBUTE_UrbScore)),          nlevels(top1000$ATTRIBUTE_UrbScore))) \n",
       "               Type of random forest: classification\n",
       "                     Number of trees: 500\n",
       "No. of variables tried at each split: 31\n",
       "\n",
       "        OOB estimate of  error rate: 18.68%\n",
       "Confusion matrix:\n",
       "                    Isolated Rural (4) Mostly Rural (3) Rural and Urban (2)\n",
       "Isolated Rural (4)                  11                1                   2\n",
       "Mostly Rural (3)                     1               30                   4\n",
       "Rural and Urban (2)                  0                1                  24\n",
       "Urban (1)                            0                1                   6\n",
       "                    Urban (1) class.error\n",
       "Isolated Rural (4)          0  0.21428571\n",
       "Mostly Rural (3)            0  0.14285714\n",
       "Rural and Urban (2)         1  0.07692308\n",
       "Urban (1)                   9  0.43750000"
      ]
     },
     "metadata": {},
     "output_type": "display_data"
    },
    {
     "data": {
      "text/plain": [
       "\n",
       "Call:\n",
       " randomForest(formula = data_train$ATTRIBUTE_UrbScore ~ ., data = data_train[,      6:1005], importance = TRUE, ntree = 500, na.omit = TRUE,      strata = top1000$ATTRIBUTE_UrbScore, sampsize = rep(min(table(top1000$ATTRIBUTE_UrbScore)),          nlevels(top1000$ATTRIBUTE_UrbScore))) \n",
       "               Type of random forest: classification\n",
       "                     Number of trees: 500\n",
       "No. of variables tried at each split: 31\n",
       "\n",
       "        OOB estimate of  error rate: 16.48%\n",
       "Confusion matrix:\n",
       "                    Isolated Rural (4) Mostly Rural (3) Rural and Urban (2)\n",
       "Isolated Rural (4)                  11                1                   2\n",
       "Mostly Rural (3)                     1               30                   4\n",
       "Rural and Urban (2)                  0                1                  25\n",
       "Urban (1)                            0                0                   6\n",
       "                    Urban (1) class.error\n",
       "Isolated Rural (4)          0  0.21428571\n",
       "Mostly Rural (3)            0  0.14285714\n",
       "Rural and Urban (2)         0  0.03846154\n",
       "Urban (1)                  10  0.37500000"
      ]
     },
     "metadata": {},
     "output_type": "display_data"
    },
    {
     "data": {
      "text/plain": [
       "\n",
       "Call:\n",
       " randomForest(formula = data_train$ATTRIBUTE_UrbScore ~ ., data = data_train[,      6:1005], importance = TRUE, ntree = 500, na.omit = TRUE,      strata = top1000$ATTRIBUTE_UrbScore, sampsize = rep(min(table(top1000$ATTRIBUTE_UrbScore)),          nlevels(top1000$ATTRIBUTE_UrbScore))) \n",
       "               Type of random forest: classification\n",
       "                     Number of trees: 500\n",
       "No. of variables tried at each split: 31\n",
       "\n",
       "        OOB estimate of  error rate: 19.78%\n",
       "Confusion matrix:\n",
       "                    Isolated Rural (4) Mostly Rural (3) Rural and Urban (2)\n",
       "Isolated Rural (4)                  10                2                   2\n",
       "Mostly Rural (3)                     2               29                   4\n",
       "Rural and Urban (2)                  0                0                  26\n",
       "Urban (1)                            0                1                   7\n",
       "                    Urban (1) class.error\n",
       "Isolated Rural (4)          0   0.2857143\n",
       "Mostly Rural (3)            0   0.1714286\n",
       "Rural and Urban (2)         0   0.0000000\n",
       "Urban (1)                   8   0.5000000"
      ]
     },
     "metadata": {},
     "output_type": "display_data"
    },
    {
     "data": {
      "text/plain": [
       "\n",
       "Call:\n",
       " randomForest(formula = data_train$ATTRIBUTE_UrbScore ~ ., data = data_train[,      6:1005], importance = TRUE, ntree = 500, na.omit = TRUE,      strata = top1000$ATTRIBUTE_UrbScore, sampsize = rep(min(table(top1000$ATTRIBUTE_UrbScore)),          nlevels(top1000$ATTRIBUTE_UrbScore))) \n",
       "               Type of random forest: classification\n",
       "                     Number of trees: 500\n",
       "No. of variables tried at each split: 31\n",
       "\n",
       "        OOB estimate of  error rate: 18.68%\n",
       "Confusion matrix:\n",
       "                    Isolated Rural (4) Mostly Rural (3) Rural and Urban (2)\n",
       "Isolated Rural (4)                  11                1                   2\n",
       "Mostly Rural (3)                     1               30                   4\n",
       "Rural and Urban (2)                  0                0                  26\n",
       "Urban (1)                            0                1                   8\n",
       "                    Urban (1) class.error\n",
       "Isolated Rural (4)          0   0.2142857\n",
       "Mostly Rural (3)            0   0.1428571\n",
       "Rural and Urban (2)         0   0.0000000\n",
       "Urban (1)                   7   0.5625000"
      ]
     },
     "metadata": {},
     "output_type": "display_data"
    },
    {
     "data": {
      "text/plain": [
       "\n",
       "Call:\n",
       " randomForest(formula = data_train$ATTRIBUTE_UrbScore ~ ., data = data_train[,      6:1005], importance = TRUE, ntree = 500, na.omit = TRUE,      strata = top1000$ATTRIBUTE_UrbScore, sampsize = rep(min(table(top1000$ATTRIBUTE_UrbScore)),          nlevels(top1000$ATTRIBUTE_UrbScore))) \n",
       "               Type of random forest: classification\n",
       "                     Number of trees: 500\n",
       "No. of variables tried at each split: 31\n",
       "\n",
       "        OOB estimate of  error rate: 17.58%\n",
       "Confusion matrix:\n",
       "                    Isolated Rural (4) Mostly Rural (3) Rural and Urban (2)\n",
       "Isolated Rural (4)                  11                1                   2\n",
       "Mostly Rural (3)                     1               30                   4\n",
       "Rural and Urban (2)                  0                2                  24\n",
       "Urban (1)                            0                2                   4\n",
       "                    Urban (1) class.error\n",
       "Isolated Rural (4)          0  0.21428571\n",
       "Mostly Rural (3)            0  0.14285714\n",
       "Rural and Urban (2)         0  0.07692308\n",
       "Urban (1)                  10  0.37500000"
      ]
     },
     "metadata": {},
     "output_type": "display_data"
    },
    {
     "data": {
      "text/plain": [
       "\n",
       "Call:\n",
       " randomForest(formula = data_train$ATTRIBUTE_UrbScore ~ ., data = data_train[,      6:1005], importance = TRUE, ntree = 500, na.omit = TRUE,      strata = top1000$ATTRIBUTE_UrbScore, sampsize = rep(min(table(top1000$ATTRIBUTE_UrbScore)),          nlevels(top1000$ATTRIBUTE_UrbScore))) \n",
       "               Type of random forest: classification\n",
       "                     Number of trees: 500\n",
       "No. of variables tried at each split: 31\n",
       "\n",
       "        OOB estimate of  error rate: 14.29%\n",
       "Confusion matrix:\n",
       "                    Isolated Rural (4) Mostly Rural (3) Rural and Urban (2)\n",
       "Isolated Rural (4)                  11                1                   2\n",
       "Mostly Rural (3)                     1               30                   4\n",
       "Rural and Urban (2)                  0                0                  26\n",
       "Urban (1)                            0                1                   4\n",
       "                    Urban (1) class.error\n",
       "Isolated Rural (4)          0   0.2142857\n",
       "Mostly Rural (3)            0   0.1428571\n",
       "Rural and Urban (2)         0   0.0000000\n",
       "Urban (1)                  11   0.3125000"
      ]
     },
     "metadata": {},
     "output_type": "display_data"
    },
    {
     "data": {
      "text/plain": [
       "\n",
       "Call:\n",
       " randomForest(formula = data_train$ATTRIBUTE_UrbScore ~ ., data = data_train[,      6:1005], importance = TRUE, ntree = 500, na.omit = TRUE,      strata = top1000$ATTRIBUTE_UrbScore, sampsize = rep(min(table(top1000$ATTRIBUTE_UrbScore)),          nlevels(top1000$ATTRIBUTE_UrbScore))) \n",
       "               Type of random forest: classification\n",
       "                     Number of trees: 500\n",
       "No. of variables tried at each split: 31\n",
       "\n",
       "        OOB estimate of  error rate: 16.48%\n",
       "Confusion matrix:\n",
       "                    Isolated Rural (4) Mostly Rural (3) Rural and Urban (2)\n",
       "Isolated Rural (4)                  11                1                   2\n",
       "Mostly Rural (3)                     1               29                   5\n",
       "Rural and Urban (2)                  0                0                  26\n",
       "Urban (1)                            0                1                   5\n",
       "                    Urban (1) class.error\n",
       "Isolated Rural (4)          0   0.2142857\n",
       "Mostly Rural (3)            0   0.1714286\n",
       "Rural and Urban (2)         0   0.0000000\n",
       "Urban (1)                  10   0.3750000"
      ]
     },
     "metadata": {},
     "output_type": "display_data"
    },
    {
     "data": {
      "text/plain": [
       "\n",
       "Call:\n",
       " randomForest(formula = data_train$ATTRIBUTE_UrbScore ~ ., data = data_train[,      6:1005], importance = TRUE, ntree = 500, na.omit = TRUE,      strata = top1000$ATTRIBUTE_UrbScore, sampsize = rep(min(table(top1000$ATTRIBUTE_UrbScore)),          nlevels(top1000$ATTRIBUTE_UrbScore))) \n",
       "               Type of random forest: classification\n",
       "                     Number of trees: 500\n",
       "No. of variables tried at each split: 31\n",
       "\n",
       "        OOB estimate of  error rate: 17.58%\n",
       "Confusion matrix:\n",
       "                    Isolated Rural (4) Mostly Rural (3) Rural and Urban (2)\n",
       "Isolated Rural (4)                  12                1                   1\n",
       "Mostly Rural (3)                     1               30                   4\n",
       "Rural and Urban (2)                  0                0                  26\n",
       "Urban (1)                            0                2                   7\n",
       "                    Urban (1) class.error\n",
       "Isolated Rural (4)          0   0.1428571\n",
       "Mostly Rural (3)            0   0.1428571\n",
       "Rural and Urban (2)         0   0.0000000\n",
       "Urban (1)                   7   0.5625000"
      ]
     },
     "metadata": {},
     "output_type": "display_data"
    },
    {
     "data": {
      "text/plain": [
       "\n",
       "Call:\n",
       " randomForest(formula = data_train$ATTRIBUTE_UrbScore ~ ., data = data_train[,      6:1005], importance = TRUE, ntree = 500, na.omit = TRUE,      strata = top1000$ATTRIBUTE_UrbScore, sampsize = rep(min(table(top1000$ATTRIBUTE_UrbScore)),          nlevels(top1000$ATTRIBUTE_UrbScore))) \n",
       "               Type of random forest: classification\n",
       "                     Number of trees: 500\n",
       "No. of variables tried at each split: 31\n",
       "\n",
       "        OOB estimate of  error rate: 17.58%\n",
       "Confusion matrix:\n",
       "                    Isolated Rural (4) Mostly Rural (3) Rural and Urban (2)\n",
       "Isolated Rural (4)                  11                1                   2\n",
       "Mostly Rural (3)                     1               30                   4\n",
       "Rural and Urban (2)                  0                0                  25\n",
       "Urban (1)                            0                1                   6\n",
       "                    Urban (1) class.error\n",
       "Isolated Rural (4)          0  0.21428571\n",
       "Mostly Rural (3)            0  0.14285714\n",
       "Rural and Urban (2)         1  0.03846154\n",
       "Urban (1)                   9  0.43750000"
      ]
     },
     "metadata": {},
     "output_type": "display_data"
    }
   ],
   "source": [
    "rf_500trees_rep1 <- randomForest(data_train$ATTRIBUTE_UrbScore~., data=data_train[,6:1005],importance=TRUE,ntree=500,na.omit=TRUE,strata=top1000$ATTRIBUTE_UrbScore, sampsize=rep(min(table(top1000$ATTRIBUTE_UrbScore)),nlevels(top1000$ATTRIBUTE_UrbScore)))\n",
    "rf_500trees_rep1\n",
    "rf_500trees_rep2 <- randomForest(data_train$ATTRIBUTE_UrbScore~., data=data_train[,6:1005],importance=TRUE,ntree=500,na.omit=TRUE,strata=top1000$ATTRIBUTE_UrbScore, sampsize=rep(min(table(top1000$ATTRIBUTE_UrbScore)),nlevels(top1000$ATTRIBUTE_UrbScore)))\n",
    "rf_500trees_rep2\n",
    "rf_500trees_rep3 <- randomForest(data_train$ATTRIBUTE_UrbScore~., data=data_train[,6:1005],importance=TRUE,ntree=500,na.omit=TRUE,strata=top1000$ATTRIBUTE_UrbScore, sampsize=rep(min(table(top1000$ATTRIBUTE_UrbScore)),nlevels(top1000$ATTRIBUTE_UrbScore)))\n",
    "rf_500trees_rep3\n",
    "rf_500trees_rep4 <- randomForest(data_train$ATTRIBUTE_UrbScore~., data=data_train[,6:1005],importance=TRUE,ntree=500,na.omit=TRUE,strata=top1000$ATTRIBUTE_UrbScore, sampsize=rep(min(table(top1000$ATTRIBUTE_UrbScore)),nlevels(top1000$ATTRIBUTE_UrbScore)))\n",
    "rf_500trees_rep4\n",
    "rf_500trees_rep5 <- randomForest(data_train$ATTRIBUTE_UrbScore~., data=data_train[,6:1005],importance=TRUE,ntree=500,na.omit=TRUE,strata=top1000$ATTRIBUTE_UrbScore, sampsize=rep(min(table(top1000$ATTRIBUTE_UrbScore)),nlevels(top1000$ATTRIBUTE_UrbScore)))\n",
    "rf_500trees_rep5\n",
    "rf_500trees_rep6 <- randomForest(data_train$ATTRIBUTE_UrbScore~., data=data_train[,6:1005],importance=TRUE,ntree=500,na.omit=TRUE,strata=top1000$ATTRIBUTE_UrbScore, sampsize=rep(min(table(top1000$ATTRIBUTE_UrbScore)),nlevels(top1000$ATTRIBUTE_UrbScore)))\n",
    "rf_500trees_rep6\n",
    "rf_500trees_rep7 <- randomForest(data_train$ATTRIBUTE_UrbScore~., data=data_train[,6:1005],importance=TRUE,ntree=500,na.omit=TRUE,strata=top1000$ATTRIBUTE_UrbScore, sampsize=rep(min(table(top1000$ATTRIBUTE_UrbScore)),nlevels(top1000$ATTRIBUTE_UrbScore)))\n",
    "rf_500trees_rep7\n",
    "rf_500trees_rep8 <- randomForest(data_train$ATTRIBUTE_UrbScore~., data=data_train[,6:1005],importance=TRUE,ntree=500,na.omit=TRUE,strata=top1000$ATTRIBUTE_UrbScore, sampsize=rep(min(table(top1000$ATTRIBUTE_UrbScore)),nlevels(top1000$ATTRIBUTE_UrbScore)))\n",
    "rf_500trees_rep8\n",
    "rf_500trees_rep9 <- randomForest(data_train$ATTRIBUTE_UrbScore~., data=data_train[,6:1005],importance=TRUE,ntree=500,na.omit=TRUE,strata=top1000$ATTRIBUTE_UrbScore, sampsize=rep(min(table(top1000$ATTRIBUTE_UrbScore)),nlevels(top1000$ATTRIBUTE_UrbScore)))\n",
    "rf_500trees_rep9\n",
    "rf_500trees_rep10 <- randomForest(data_train$ATTRIBUTE_UrbScore~., data=data_train[,6:1005],importance=TRUE,ntree=500,na.omit=TRUE,strata=top1000$ATTRIBUTE_UrbScore, sampsize=rep(min(table(top1000$ATTRIBUTE_UrbScore)),nlevels(top1000$ATTRIBUTE_UrbScore)))\n",
    "rf_500trees_rep10\n",
    "rf_500trees_rep11 <- randomForest(data_train$ATTRIBUTE_UrbScore~., data=data_train[,6:1005],importance=TRUE,ntree=500,na.omit=TRUE,strata=top1000$ATTRIBUTE_UrbScore, sampsize=rep(min(table(top1000$ATTRIBUTE_UrbScore)),nlevels(top1000$ATTRIBUTE_UrbScore)))\n",
    "rf_500trees_rep11\n",
    "rf_500trees_rep12 <- randomForest(data_train$ATTRIBUTE_UrbScore~., data=data_train[,6:1005],importance=TRUE,ntree=500,na.omit=TRUE,strata=top1000$ATTRIBUTE_UrbScore, sampsize=rep(min(table(top1000$ATTRIBUTE_UrbScore)),nlevels(top1000$ATTRIBUTE_UrbScore)))\n",
    "rf_500trees_rep12\n",
    "rf_500trees_rep13 <- randomForest(data_train$ATTRIBUTE_UrbScore~., data=data_train[,6:1005],importance=TRUE,ntree=500,na.omit=TRUE,strata=top1000$ATTRIBUTE_UrbScore, sampsize=rep(min(table(top1000$ATTRIBUTE_UrbScore)),nlevels(top1000$ATTRIBUTE_UrbScore)))\n",
    "rf_500trees_rep13\n",
    "rf_500trees_rep14 <- randomForest(data_train$ATTRIBUTE_UrbScore~., data=data_train[,6:1005],importance=TRUE,ntree=500,na.omit=TRUE,strata=top1000$ATTRIBUTE_UrbScore, sampsize=rep(min(table(top1000$ATTRIBUTE_UrbScore)),nlevels(top1000$ATTRIBUTE_UrbScore)))\n",
    "rf_500trees_rep14\n",
    "rf_500trees_rep15 <- randomForest(data_train$ATTRIBUTE_UrbScore~., data=data_train[,6:1005],importance=TRUE,ntree=500,na.omit=TRUE,strata=top1000$ATTRIBUTE_UrbScore, sampsize=rep(min(table(top1000$ATTRIBUTE_UrbScore)),nlevels(top1000$ATTRIBUTE_UrbScore)))\n",
    "rf_500trees_rep15\n",
    "rf_500trees_rep16 <- randomForest(data_train$ATTRIBUTE_UrbScore~., data=data_train[,6:1005],importance=TRUE,ntree=500,na.omit=TRUE,strata=top1000$ATTRIBUTE_UrbScore, sampsize=rep(min(table(top1000$ATTRIBUTE_UrbScore)),nlevels(top1000$ATTRIBUTE_UrbScore)))\n",
    "rf_500trees_rep16\n",
    "rf_500trees_rep17 <- randomForest(data_train$ATTRIBUTE_UrbScore~., data=data_train[,6:1005],importance=TRUE,ntree=500,na.omit=TRUE,strata=top1000$ATTRIBUTE_UrbScore, sampsize=rep(min(table(top1000$ATTRIBUTE_UrbScore)),nlevels(top1000$ATTRIBUTE_UrbScore)))\n",
    "rf_500trees_rep17\n",
    "rf_500trees_rep18 <- randomForest(data_train$ATTRIBUTE_UrbScore~., data=data_train[,6:1005],importance=TRUE,ntree=500,na.omit=TRUE,strata=top1000$ATTRIBUTE_UrbScore, sampsize=rep(min(table(top1000$ATTRIBUTE_UrbScore)),nlevels(top1000$ATTRIBUTE_UrbScore)))\n",
    "rf_500trees_rep18\n",
    "rf_500trees_rep19 <- randomForest(data_train$ATTRIBUTE_UrbScore~., data=data_train[,6:1005],importance=TRUE,ntree=500,na.omit=TRUE,strata=top1000$ATTRIBUTE_UrbScore, sampsize=rep(min(table(top1000$ATTRIBUTE_UrbScore)),nlevels(top1000$ATTRIBUTE_UrbScore)))\n",
    "rf_500trees_rep19\n",
    "rf_500trees_rep20 <- randomForest(data_train$ATTRIBUTE_UrbScore~., data=data_train[,6:1005],importance=TRUE,ntree=500,na.omit=TRUE,strata=top1000$ATTRIBUTE_UrbScore, sampsize=rep(min(table(top1000$ATTRIBUTE_UrbScore)),nlevels(top1000$ATTRIBUTE_UrbScore)))\n",
    "rf_500trees_rep20"
   ]
  },
  {
   "cell_type": "code",
   "execution_count": 23,
   "metadata": {},
   "outputs": [
    {
     "data": {
      "text/plain": [
       "\n",
       "Call:\n",
       " randomForest(formula = data_train$ATTRIBUTE_UrbScore ~ ., data = data_train[,      6:1005], importance = TRUE, ntree = 1000, na.omit = TRUE,      strata = top1000$ATTRIBUTE_UrbScore, sampsize = rep(min(table(top1000$ATTRIBUTE_UrbScore)),          nlevels(top1000$ATTRIBUTE_UrbScore))) \n",
       "               Type of random forest: classification\n",
       "                     Number of trees: 1000\n",
       "No. of variables tried at each split: 31\n",
       "\n",
       "        OOB estimate of  error rate: 16.48%\n",
       "Confusion matrix:\n",
       "                    Isolated Rural (4) Mostly Rural (3) Rural and Urban (2)\n",
       "Isolated Rural (4)                  12                0                   2\n",
       "Mostly Rural (3)                     1               30                   4\n",
       "Rural and Urban (2)                  0                1                  25\n",
       "Urban (1)                            0                2                   5\n",
       "                    Urban (1) class.error\n",
       "Isolated Rural (4)          0  0.14285714\n",
       "Mostly Rural (3)            0  0.14285714\n",
       "Rural and Urban (2)         0  0.03846154\n",
       "Urban (1)                   9  0.43750000"
      ]
     },
     "metadata": {},
     "output_type": "display_data"
    },
    {
     "data": {
      "text/plain": [
       "\n",
       "Call:\n",
       " randomForest(formula = data_train$ATTRIBUTE_UrbScore ~ ., data = data_train[,      6:1005], importance = TRUE, ntree = 1000, na.omit = TRUE,      strata = top1000$ATTRIBUTE_UrbScore, sampsize = rep(min(table(top1000$ATTRIBUTE_UrbScore)),          nlevels(top1000$ATTRIBUTE_UrbScore))) \n",
       "               Type of random forest: classification\n",
       "                     Number of trees: 1000\n",
       "No. of variables tried at each split: 31\n",
       "\n",
       "        OOB estimate of  error rate: 17.58%\n",
       "Confusion matrix:\n",
       "                    Isolated Rural (4) Mostly Rural (3) Rural and Urban (2)\n",
       "Isolated Rural (4)                  11                1                   2\n",
       "Mostly Rural (3)                     2               29                   4\n",
       "Rural and Urban (2)                  0                0                  26\n",
       "Urban (1)                            0                2                   5\n",
       "                    Urban (1) class.error\n",
       "Isolated Rural (4)          0   0.2142857\n",
       "Mostly Rural (3)            0   0.1714286\n",
       "Rural and Urban (2)         0   0.0000000\n",
       "Urban (1)                   9   0.4375000"
      ]
     },
     "metadata": {},
     "output_type": "display_data"
    },
    {
     "data": {
      "text/plain": [
       "\n",
       "Call:\n",
       " randomForest(formula = data_train$ATTRIBUTE_UrbScore ~ ., data = data_train[,      6:1005], importance = TRUE, ntree = 1000, na.omit = TRUE,      strata = top1000$ATTRIBUTE_UrbScore, sampsize = rep(min(table(top1000$ATTRIBUTE_UrbScore)),          nlevels(top1000$ATTRIBUTE_UrbScore))) \n",
       "               Type of random forest: classification\n",
       "                     Number of trees: 1000\n",
       "No. of variables tried at each split: 31\n",
       "\n",
       "        OOB estimate of  error rate: 16.48%\n",
       "Confusion matrix:\n",
       "                    Isolated Rural (4) Mostly Rural (3) Rural and Urban (2)\n",
       "Isolated Rural (4)                  11                1                   2\n",
       "Mostly Rural (3)                     1               30                   4\n",
       "Rural and Urban (2)                  0                0                  26\n",
       "Urban (1)                            0                1                   6\n",
       "                    Urban (1) class.error\n",
       "Isolated Rural (4)          0   0.2142857\n",
       "Mostly Rural (3)            0   0.1428571\n",
       "Rural and Urban (2)         0   0.0000000\n",
       "Urban (1)                   9   0.4375000"
      ]
     },
     "metadata": {},
     "output_type": "display_data"
    },
    {
     "data": {
      "text/plain": [
       "\n",
       "Call:\n",
       " randomForest(formula = data_train$ATTRIBUTE_UrbScore ~ ., data = data_train[,      6:1005], importance = TRUE, ntree = 1000, na.omit = TRUE,      strata = top1000$ATTRIBUTE_UrbScore, sampsize = rep(min(table(top1000$ATTRIBUTE_UrbScore)),          nlevels(top1000$ATTRIBUTE_UrbScore))) \n",
       "               Type of random forest: classification\n",
       "                     Number of trees: 1000\n",
       "No. of variables tried at each split: 31\n",
       "\n",
       "        OOB estimate of  error rate: 15.38%\n",
       "Confusion matrix:\n",
       "                    Isolated Rural (4) Mostly Rural (3) Rural and Urban (2)\n",
       "Isolated Rural (4)                  11                1                   2\n",
       "Mostly Rural (3)                     1               30                   4\n",
       "Rural and Urban (2)                  0                0                  26\n",
       "Urban (1)                            0                1                   5\n",
       "                    Urban (1) class.error\n",
       "Isolated Rural (4)          0   0.2142857\n",
       "Mostly Rural (3)            0   0.1428571\n",
       "Rural and Urban (2)         0   0.0000000\n",
       "Urban (1)                  10   0.3750000"
      ]
     },
     "metadata": {},
     "output_type": "display_data"
    },
    {
     "data": {
      "text/plain": [
       "\n",
       "Call:\n",
       " randomForest(formula = data_train$ATTRIBUTE_UrbScore ~ ., data = data_train[,      6:1005], importance = TRUE, ntree = 1000, na.omit = TRUE,      strata = top1000$ATTRIBUTE_UrbScore, sampsize = rep(min(table(top1000$ATTRIBUTE_UrbScore)),          nlevels(top1000$ATTRIBUTE_UrbScore))) \n",
       "               Type of random forest: classification\n",
       "                     Number of trees: 1000\n",
       "No. of variables tried at each split: 31\n",
       "\n",
       "        OOB estimate of  error rate: 15.38%\n",
       "Confusion matrix:\n",
       "                    Isolated Rural (4) Mostly Rural (3) Rural and Urban (2)\n",
       "Isolated Rural (4)                  11                1                   2\n",
       "Mostly Rural (3)                     1               30                   4\n",
       "Rural and Urban (2)                  0                0                  26\n",
       "Urban (1)                            0                1                   5\n",
       "                    Urban (1) class.error\n",
       "Isolated Rural (4)          0   0.2142857\n",
       "Mostly Rural (3)            0   0.1428571\n",
       "Rural and Urban (2)         0   0.0000000\n",
       "Urban (1)                  10   0.3750000"
      ]
     },
     "metadata": {},
     "output_type": "display_data"
    },
    {
     "data": {
      "text/plain": [
       "\n",
       "Call:\n",
       " randomForest(formula = data_train$ATTRIBUTE_UrbScore ~ ., data = data_train[,      6:1005], importance = TRUE, ntree = 1000, na.omit = TRUE,      strata = top1000$ATTRIBUTE_UrbScore, sampsize = rep(min(table(top1000$ATTRIBUTE_UrbScore)),          nlevels(top1000$ATTRIBUTE_UrbScore))) \n",
       "               Type of random forest: classification\n",
       "                     Number of trees: 1000\n",
       "No. of variables tried at each split: 31\n",
       "\n",
       "        OOB estimate of  error rate: 14.29%\n",
       "Confusion matrix:\n",
       "                    Isolated Rural (4) Mostly Rural (3) Rural and Urban (2)\n",
       "Isolated Rural (4)                  11                1                   2\n",
       "Mostly Rural (3)                     1               30                   4\n",
       "Rural and Urban (2)                  0                0                  26\n",
       "Urban (1)                            0                1                   4\n",
       "                    Urban (1) class.error\n",
       "Isolated Rural (4)          0   0.2142857\n",
       "Mostly Rural (3)            0   0.1428571\n",
       "Rural and Urban (2)         0   0.0000000\n",
       "Urban (1)                  11   0.3125000"
      ]
     },
     "metadata": {},
     "output_type": "display_data"
    },
    {
     "data": {
      "text/plain": [
       "\n",
       "Call:\n",
       " randomForest(formula = data_train$ATTRIBUTE_UrbScore ~ ., data = data_train[,      6:1005], importance = TRUE, ntree = 1000, na.omit = TRUE,      strata = top1000$ATTRIBUTE_UrbScore, sampsize = rep(min(table(top1000$ATTRIBUTE_UrbScore)),          nlevels(top1000$ATTRIBUTE_UrbScore))) \n",
       "               Type of random forest: classification\n",
       "                     Number of trees: 1000\n",
       "No. of variables tried at each split: 31\n",
       "\n",
       "        OOB estimate of  error rate: 13.19%\n",
       "Confusion matrix:\n",
       "                    Isolated Rural (4) Mostly Rural (3) Rural and Urban (2)\n",
       "Isolated Rural (4)                  11                1                   2\n",
       "Mostly Rural (3)                     1               30                   4\n",
       "Rural and Urban (2)                  0                0                  26\n",
       "Urban (1)                            0                0                   4\n",
       "                    Urban (1) class.error\n",
       "Isolated Rural (4)          0   0.2142857\n",
       "Mostly Rural (3)            0   0.1428571\n",
       "Rural and Urban (2)         0   0.0000000\n",
       "Urban (1)                  12   0.2500000"
      ]
     },
     "metadata": {},
     "output_type": "display_data"
    },
    {
     "data": {
      "text/plain": [
       "\n",
       "Call:\n",
       " randomForest(formula = data_train$ATTRIBUTE_UrbScore ~ ., data = data_train[,      6:1005], importance = TRUE, ntree = 1000, na.omit = TRUE,      strata = top1000$ATTRIBUTE_UrbScore, sampsize = rep(min(table(top1000$ATTRIBUTE_UrbScore)),          nlevels(top1000$ATTRIBUTE_UrbScore))) \n",
       "               Type of random forest: classification\n",
       "                     Number of trees: 1000\n",
       "No. of variables tried at each split: 31\n",
       "\n",
       "        OOB estimate of  error rate: 14.29%\n",
       "Confusion matrix:\n",
       "                    Isolated Rural (4) Mostly Rural (3) Rural and Urban (2)\n",
       "Isolated Rural (4)                  11                1                   2\n",
       "Mostly Rural (3)                     1               30                   4\n",
       "Rural and Urban (2)                  0                1                  25\n",
       "Urban (1)                            0                1                   3\n",
       "                    Urban (1) class.error\n",
       "Isolated Rural (4)          0  0.21428571\n",
       "Mostly Rural (3)            0  0.14285714\n",
       "Rural and Urban (2)         0  0.03846154\n",
       "Urban (1)                  12  0.25000000"
      ]
     },
     "metadata": {},
     "output_type": "display_data"
    },
    {
     "data": {
      "text/plain": [
       "\n",
       "Call:\n",
       " randomForest(formula = data_train$ATTRIBUTE_UrbScore ~ ., data = data_train[,      6:1005], importance = TRUE, ntree = 1000, na.omit = TRUE,      strata = top1000$ATTRIBUTE_UrbScore, sampsize = rep(min(table(top1000$ATTRIBUTE_UrbScore)),          nlevels(top1000$ATTRIBUTE_UrbScore))) \n",
       "               Type of random forest: classification\n",
       "                     Number of trees: 1000\n",
       "No. of variables tried at each split: 31\n",
       "\n",
       "        OOB estimate of  error rate: 15.38%\n",
       "Confusion matrix:\n",
       "                    Isolated Rural (4) Mostly Rural (3) Rural and Urban (2)\n",
       "Isolated Rural (4)                  12                0                   2\n",
       "Mostly Rural (3)                     1               30                   4\n",
       "Rural and Urban (2)                  0                0                  26\n",
       "Urban (1)                            0                1                   6\n",
       "                    Urban (1) class.error\n",
       "Isolated Rural (4)          0   0.1428571\n",
       "Mostly Rural (3)            0   0.1428571\n",
       "Rural and Urban (2)         0   0.0000000\n",
       "Urban (1)                   9   0.4375000"
      ]
     },
     "metadata": {},
     "output_type": "display_data"
    },
    {
     "data": {
      "text/plain": [
       "\n",
       "Call:\n",
       " randomForest(formula = data_train$ATTRIBUTE_UrbScore ~ ., data = data_train[,      6:1005], importance = TRUE, ntree = 1000, na.omit = TRUE,      strata = top1000$ATTRIBUTE_UrbScore, sampsize = rep(min(table(top1000$ATTRIBUTE_UrbScore)),          nlevels(top1000$ATTRIBUTE_UrbScore))) \n",
       "               Type of random forest: classification\n",
       "                     Number of trees: 1000\n",
       "No. of variables tried at each split: 31\n",
       "\n",
       "        OOB estimate of  error rate: 15.38%\n",
       "Confusion matrix:\n",
       "                    Isolated Rural (4) Mostly Rural (3) Rural and Urban (2)\n",
       "Isolated Rural (4)                  11                1                   2\n",
       "Mostly Rural (3)                     1               30                   4\n",
       "Rural and Urban (2)                  0                0                  26\n",
       "Urban (1)                            0                2                   4\n",
       "                    Urban (1) class.error\n",
       "Isolated Rural (4)          0   0.2142857\n",
       "Mostly Rural (3)            0   0.1428571\n",
       "Rural and Urban (2)         0   0.0000000\n",
       "Urban (1)                  10   0.3750000"
      ]
     },
     "metadata": {},
     "output_type": "display_data"
    },
    {
     "data": {
      "text/plain": [
       "\n",
       "Call:\n",
       " randomForest(formula = data_train$ATTRIBUTE_UrbScore ~ ., data = data_train[,      6:1005], importance = TRUE, ntree = 1000, na.omit = TRUE,      strata = top1000$ATTRIBUTE_UrbScore, sampsize = rep(min(table(top1000$ATTRIBUTE_UrbScore)),          nlevels(top1000$ATTRIBUTE_UrbScore))) \n",
       "               Type of random forest: classification\n",
       "                     Number of trees: 1000\n",
       "No. of variables tried at each split: 31\n",
       "\n",
       "        OOB estimate of  error rate: 16.48%\n",
       "Confusion matrix:\n",
       "                    Isolated Rural (4) Mostly Rural (3) Rural and Urban (2)\n",
       "Isolated Rural (4)                  11                1                   2\n",
       "Mostly Rural (3)                     1               30                   4\n",
       "Rural and Urban (2)                  0                1                  24\n",
       "Urban (1)                            0                1                   4\n",
       "                    Urban (1) class.error\n",
       "Isolated Rural (4)          0  0.21428571\n",
       "Mostly Rural (3)            0  0.14285714\n",
       "Rural and Urban (2)         1  0.07692308\n",
       "Urban (1)                  11  0.31250000"
      ]
     },
     "metadata": {},
     "output_type": "display_data"
    },
    {
     "data": {
      "text/plain": [
       "\n",
       "Call:\n",
       " randomForest(formula = data_train$ATTRIBUTE_UrbScore ~ ., data = data_train[,      6:1005], importance = TRUE, ntree = 1000, na.omit = TRUE,      strata = top1000$ATTRIBUTE_UrbScore, sampsize = rep(min(table(top1000$ATTRIBUTE_UrbScore)),          nlevels(top1000$ATTRIBUTE_UrbScore))) \n",
       "               Type of random forest: classification\n",
       "                     Number of trees: 1000\n",
       "No. of variables tried at each split: 31\n",
       "\n",
       "        OOB estimate of  error rate: 15.38%\n",
       "Confusion matrix:\n",
       "                    Isolated Rural (4) Mostly Rural (3) Rural and Urban (2)\n",
       "Isolated Rural (4)                  11                1                   2\n",
       "Mostly Rural (3)                     1               30                   4\n",
       "Rural and Urban (2)                  0                0                  26\n",
       "Urban (1)                            0                1                   5\n",
       "                    Urban (1) class.error\n",
       "Isolated Rural (4)          0   0.2142857\n",
       "Mostly Rural (3)            0   0.1428571\n",
       "Rural and Urban (2)         0   0.0000000\n",
       "Urban (1)                  10   0.3750000"
      ]
     },
     "metadata": {},
     "output_type": "display_data"
    },
    {
     "data": {
      "text/plain": [
       "\n",
       "Call:\n",
       " randomForest(formula = data_train$ATTRIBUTE_UrbScore ~ ., data = data_train[,      6:1005], importance = TRUE, ntree = 1000, na.omit = TRUE,      strata = top1000$ATTRIBUTE_UrbScore, sampsize = rep(min(table(top1000$ATTRIBUTE_UrbScore)),          nlevels(top1000$ATTRIBUTE_UrbScore))) \n",
       "               Type of random forest: classification\n",
       "                     Number of trees: 1000\n",
       "No. of variables tried at each split: 31\n",
       "\n",
       "        OOB estimate of  error rate: 17.58%\n",
       "Confusion matrix:\n",
       "                    Isolated Rural (4) Mostly Rural (3) Rural and Urban (2)\n",
       "Isolated Rural (4)                  11                1                   2\n",
       "Mostly Rural (3)                     1               30                   4\n",
       "Rural and Urban (2)                  0                1                  25\n",
       "Urban (1)                            0                2                   5\n",
       "                    Urban (1) class.error\n",
       "Isolated Rural (4)          0  0.21428571\n",
       "Mostly Rural (3)            0  0.14285714\n",
       "Rural and Urban (2)         0  0.03846154\n",
       "Urban (1)                   9  0.43750000"
      ]
     },
     "metadata": {},
     "output_type": "display_data"
    },
    {
     "data": {
      "text/plain": [
       "\n",
       "Call:\n",
       " randomForest(formula = data_train$ATTRIBUTE_UrbScore ~ ., data = data_train[,      6:1005], importance = TRUE, ntree = 1000, na.omit = TRUE,      strata = top1000$ATTRIBUTE_UrbScore, sampsize = rep(min(table(top1000$ATTRIBUTE_UrbScore)),          nlevels(top1000$ATTRIBUTE_UrbScore))) \n",
       "               Type of random forest: classification\n",
       "                     Number of trees: 1000\n",
       "No. of variables tried at each split: 31\n",
       "\n",
       "        OOB estimate of  error rate: 15.38%\n",
       "Confusion matrix:\n",
       "                    Isolated Rural (4) Mostly Rural (3) Rural and Urban (2)\n",
       "Isolated Rural (4)                  11                1                   2\n",
       "Mostly Rural (3)                     1               30                   4\n",
       "Rural and Urban (2)                  0                0                  26\n",
       "Urban (1)                            0                1                   5\n",
       "                    Urban (1) class.error\n",
       "Isolated Rural (4)          0   0.2142857\n",
       "Mostly Rural (3)            0   0.1428571\n",
       "Rural and Urban (2)         0   0.0000000\n",
       "Urban (1)                  10   0.3750000"
      ]
     },
     "metadata": {},
     "output_type": "display_data"
    },
    {
     "data": {
      "text/plain": [
       "\n",
       "Call:\n",
       " randomForest(formula = data_train$ATTRIBUTE_UrbScore ~ ., data = data_train[,      6:1005], importance = TRUE, ntree = 1000, na.omit = TRUE,      strata = top1000$ATTRIBUTE_UrbScore, sampsize = rep(min(table(top1000$ATTRIBUTE_UrbScore)),          nlevels(top1000$ATTRIBUTE_UrbScore))) \n",
       "               Type of random forest: classification\n",
       "                     Number of trees: 1000\n",
       "No. of variables tried at each split: 31\n",
       "\n",
       "        OOB estimate of  error rate: 15.38%\n",
       "Confusion matrix:\n",
       "                    Isolated Rural (4) Mostly Rural (3) Rural and Urban (2)\n",
       "Isolated Rural (4)                  11                1                   2\n",
       "Mostly Rural (3)                     1               30                   4\n",
       "Rural and Urban (2)                  0                0                  26\n",
       "Urban (1)                            0                1                   5\n",
       "                    Urban (1) class.error\n",
       "Isolated Rural (4)          0   0.2142857\n",
       "Mostly Rural (3)            0   0.1428571\n",
       "Rural and Urban (2)         0   0.0000000\n",
       "Urban (1)                  10   0.3750000"
      ]
     },
     "metadata": {},
     "output_type": "display_data"
    },
    {
     "data": {
      "text/plain": [
       "\n",
       "Call:\n",
       " randomForest(formula = data_train$ATTRIBUTE_UrbScore ~ ., data = data_train[,      6:1005], importance = TRUE, ntree = 1000, na.omit = TRUE,      strata = top1000$ATTRIBUTE_UrbScore, sampsize = rep(min(table(top1000$ATTRIBUTE_UrbScore)),          nlevels(top1000$ATTRIBUTE_UrbScore))) \n",
       "               Type of random forest: classification\n",
       "                     Number of trees: 1000\n",
       "No. of variables tried at each split: 31\n",
       "\n",
       "        OOB estimate of  error rate: 15.38%\n",
       "Confusion matrix:\n",
       "                    Isolated Rural (4) Mostly Rural (3) Rural and Urban (2)\n",
       "Isolated Rural (4)                  11                1                   2\n",
       "Mostly Rural (3)                     1               30                   4\n",
       "Rural and Urban (2)                  0                0                  26\n",
       "Urban (1)                            0                1                   5\n",
       "                    Urban (1) class.error\n",
       "Isolated Rural (4)          0   0.2142857\n",
       "Mostly Rural (3)            0   0.1428571\n",
       "Rural and Urban (2)         0   0.0000000\n",
       "Urban (1)                  10   0.3750000"
      ]
     },
     "metadata": {},
     "output_type": "display_data"
    },
    {
     "data": {
      "text/plain": [
       "\n",
       "Call:\n",
       " randomForest(formula = data_train$ATTRIBUTE_UrbScore ~ ., data = data_train[,      6:1005], importance = TRUE, ntree = 1000, na.omit = TRUE,      strata = top1000$ATTRIBUTE_UrbScore, sampsize = rep(min(table(top1000$ATTRIBUTE_UrbScore)),          nlevels(top1000$ATTRIBUTE_UrbScore))) \n",
       "               Type of random forest: classification\n",
       "                     Number of trees: 1000\n",
       "No. of variables tried at each split: 31\n",
       "\n",
       "        OOB estimate of  error rate: 15.38%\n",
       "Confusion matrix:\n",
       "                    Isolated Rural (4) Mostly Rural (3) Rural and Urban (2)\n",
       "Isolated Rural (4)                  11                1                   2\n",
       "Mostly Rural (3)                     1               30                   4\n",
       "Rural and Urban (2)                  0                0                  26\n",
       "Urban (1)                            0                1                   5\n",
       "                    Urban (1) class.error\n",
       "Isolated Rural (4)          0   0.2142857\n",
       "Mostly Rural (3)            0   0.1428571\n",
       "Rural and Urban (2)         0   0.0000000\n",
       "Urban (1)                  10   0.3750000"
      ]
     },
     "metadata": {},
     "output_type": "display_data"
    },
    {
     "data": {
      "text/plain": [
       "\n",
       "Call:\n",
       " randomForest(formula = data_train$ATTRIBUTE_UrbScore ~ ., data = data_train[,      6:1005], importance = TRUE, ntree = 1000, na.omit = TRUE,      strata = top1000$ATTRIBUTE_UrbScore, sampsize = rep(min(table(top1000$ATTRIBUTE_UrbScore)),          nlevels(top1000$ATTRIBUTE_UrbScore))) \n",
       "               Type of random forest: classification\n",
       "                     Number of trees: 1000\n",
       "No. of variables tried at each split: 31\n",
       "\n",
       "        OOB estimate of  error rate: 19.78%\n",
       "Confusion matrix:\n",
       "                    Isolated Rural (4) Mostly Rural (3) Rural and Urban (2)\n",
       "Isolated Rural (4)                  11                1                   2\n",
       "Mostly Rural (3)                     2               29                   4\n",
       "Rural and Urban (2)                  0                0                  26\n",
       "Urban (1)                            0                2                   7\n",
       "                    Urban (1) class.error\n",
       "Isolated Rural (4)          0   0.2142857\n",
       "Mostly Rural (3)            0   0.1714286\n",
       "Rural and Urban (2)         0   0.0000000\n",
       "Urban (1)                   7   0.5625000"
      ]
     },
     "metadata": {},
     "output_type": "display_data"
    },
    {
     "data": {
      "text/plain": [
       "\n",
       "Call:\n",
       " randomForest(formula = data_train$ATTRIBUTE_UrbScore ~ ., data = data_train[,      6:1005], importance = TRUE, ntree = 1000, na.omit = TRUE,      strata = top1000$ATTRIBUTE_UrbScore, sampsize = rep(min(table(top1000$ATTRIBUTE_UrbScore)),          nlevels(top1000$ATTRIBUTE_UrbScore))) \n",
       "               Type of random forest: classification\n",
       "                     Number of trees: 1000\n",
       "No. of variables tried at each split: 31\n",
       "\n",
       "        OOB estimate of  error rate: 15.38%\n",
       "Confusion matrix:\n",
       "                    Isolated Rural (4) Mostly Rural (3) Rural and Urban (2)\n",
       "Isolated Rural (4)                  12                1                   1\n",
       "Mostly Rural (3)                     1               30                   4\n",
       "Rural and Urban (2)                  0                0                  26\n",
       "Urban (1)                            0                1                   6\n",
       "                    Urban (1) class.error\n",
       "Isolated Rural (4)          0   0.1428571\n",
       "Mostly Rural (3)            0   0.1428571\n",
       "Rural and Urban (2)         0   0.0000000\n",
       "Urban (1)                   9   0.4375000"
      ]
     },
     "metadata": {},
     "output_type": "display_data"
    },
    {
     "data": {
      "text/plain": [
       "\n",
       "Call:\n",
       " randomForest(formula = data_train$ATTRIBUTE_UrbScore ~ ., data = data_train[,      6:1005], importance = TRUE, ntree = 1000, na.omit = TRUE,      strata = top1000$ATTRIBUTE_UrbScore, sampsize = rep(min(table(top1000$ATTRIBUTE_UrbScore)),          nlevels(top1000$ATTRIBUTE_UrbScore))) \n",
       "               Type of random forest: classification\n",
       "                     Number of trees: 1000\n",
       "No. of variables tried at each split: 31\n",
       "\n",
       "        OOB estimate of  error rate: 14.29%\n",
       "Confusion matrix:\n",
       "                    Isolated Rural (4) Mostly Rural (3) Rural and Urban (2)\n",
       "Isolated Rural (4)                  11                1                   2\n",
       "Mostly Rural (3)                     1               30                   4\n",
       "Rural and Urban (2)                  0                0                  26\n",
       "Urban (1)                            0                1                   4\n",
       "                    Urban (1) class.error\n",
       "Isolated Rural (4)          0   0.2142857\n",
       "Mostly Rural (3)            0   0.1428571\n",
       "Rural and Urban (2)         0   0.0000000\n",
       "Urban (1)                  11   0.3125000"
      ]
     },
     "metadata": {},
     "output_type": "display_data"
    }
   ],
   "source": [
    "rf_1000trees_rep1 <- randomForest(data_train$ATTRIBUTE_UrbScore~., data=data_train[,6:1005],importance=TRUE,ntree=1000,na.omit=TRUE,strata=top1000$ATTRIBUTE_UrbScore, sampsize=rep(min(table(top1000$ATTRIBUTE_UrbScore)),nlevels(top1000$ATTRIBUTE_UrbScore)))\n",
    "rf_1000trees_rep1\n",
    "rf_1000trees_rep2 <- randomForest(data_train$ATTRIBUTE_UrbScore~., data=data_train[,6:1005],importance=TRUE,ntree=1000,na.omit=TRUE,strata=top1000$ATTRIBUTE_UrbScore, sampsize=rep(min(table(top1000$ATTRIBUTE_UrbScore)),nlevels(top1000$ATTRIBUTE_UrbScore)))\n",
    "rf_1000trees_rep2\n",
    "rf_1000trees_rep3 <- randomForest(data_train$ATTRIBUTE_UrbScore~., data=data_train[,6:1005],importance=TRUE,ntree=1000,na.omit=TRUE,strata=top1000$ATTRIBUTE_UrbScore, sampsize=rep(min(table(top1000$ATTRIBUTE_UrbScore)),nlevels(top1000$ATTRIBUTE_UrbScore)))\n",
    "rf_1000trees_rep3\n",
    "rf_1000trees_rep4 <- randomForest(data_train$ATTRIBUTE_UrbScore~., data=data_train[,6:1005],importance=TRUE,ntree=1000,na.omit=TRUE,strata=top1000$ATTRIBUTE_UrbScore, sampsize=rep(min(table(top1000$ATTRIBUTE_UrbScore)),nlevels(top1000$ATTRIBUTE_UrbScore)))\n",
    "rf_1000trees_rep4\n",
    "rf_1000trees_rep5 <- randomForest(data_train$ATTRIBUTE_UrbScore~., data=data_train[,6:1005],importance=TRUE,ntree=1000,na.omit=TRUE,strata=top1000$ATTRIBUTE_UrbScore, sampsize=rep(min(table(top1000$ATTRIBUTE_UrbScore)),nlevels(top1000$ATTRIBUTE_UrbScore)))\n",
    "rf_1000trees_rep5\n",
    "rf_1000trees_rep6 <- randomForest(data_train$ATTRIBUTE_UrbScore~., data=data_train[,6:1005],importance=TRUE,ntree=1000,na.omit=TRUE,strata=top1000$ATTRIBUTE_UrbScore, sampsize=rep(min(table(top1000$ATTRIBUTE_UrbScore)),nlevels(top1000$ATTRIBUTE_UrbScore)))\n",
    "rf_1000trees_rep6\n",
    "rf_1000trees_rep7 <- randomForest(data_train$ATTRIBUTE_UrbScore~., data=data_train[,6:1005],importance=TRUE,ntree=1000,na.omit=TRUE,strata=top1000$ATTRIBUTE_UrbScore, sampsize=rep(min(table(top1000$ATTRIBUTE_UrbScore)),nlevels(top1000$ATTRIBUTE_UrbScore)))\n",
    "rf_1000trees_rep7\n",
    "rf_1000trees_rep8 <- randomForest(data_train$ATTRIBUTE_UrbScore~., data=data_train[,6:1005],importance=TRUE,ntree=1000,na.omit=TRUE,strata=top1000$ATTRIBUTE_UrbScore, sampsize=rep(min(table(top1000$ATTRIBUTE_UrbScore)),nlevels(top1000$ATTRIBUTE_UrbScore)))\n",
    "rf_1000trees_rep8\n",
    "rf_1000trees_rep9 <- randomForest(data_train$ATTRIBUTE_UrbScore~., data=data_train[,6:1005],importance=TRUE,ntree=1000,na.omit=TRUE,strata=top1000$ATTRIBUTE_UrbScore, sampsize=rep(min(table(top1000$ATTRIBUTE_UrbScore)),nlevels(top1000$ATTRIBUTE_UrbScore)))\n",
    "rf_1000trees_rep9\n",
    "rf_1000trees_rep10 <- randomForest(data_train$ATTRIBUTE_UrbScore~., data=data_train[,6:1005],importance=TRUE,ntree=1000,na.omit=TRUE,strata=top1000$ATTRIBUTE_UrbScore, sampsize=rep(min(table(top1000$ATTRIBUTE_UrbScore)),nlevels(top1000$ATTRIBUTE_UrbScore)))\n",
    "rf_1000trees_rep10\n",
    "rf_1000trees_rep11 <- randomForest(data_train$ATTRIBUTE_UrbScore~., data=data_train[,6:1005],importance=TRUE,ntree=1000,na.omit=TRUE,strata=top1000$ATTRIBUTE_UrbScore, sampsize=rep(min(table(top1000$ATTRIBUTE_UrbScore)),nlevels(top1000$ATTRIBUTE_UrbScore)))\n",
    "rf_1000trees_rep11\n",
    "rf_1000trees_rep12 <- randomForest(data_train$ATTRIBUTE_UrbScore~., data=data_train[,6:1005],importance=TRUE,ntree=1000,na.omit=TRUE,strata=top1000$ATTRIBUTE_UrbScore, sampsize=rep(min(table(top1000$ATTRIBUTE_UrbScore)),nlevels(top1000$ATTRIBUTE_UrbScore)))\n",
    "rf_1000trees_rep12\n",
    "rf_1000trees_rep13 <- randomForest(data_train$ATTRIBUTE_UrbScore~., data=data_train[,6:1005],importance=TRUE,ntree=1000,na.omit=TRUE,strata=top1000$ATTRIBUTE_UrbScore, sampsize=rep(min(table(top1000$ATTRIBUTE_UrbScore)),nlevels(top1000$ATTRIBUTE_UrbScore)))\n",
    "rf_1000trees_rep13\n",
    "rf_1000trees_rep14 <- randomForest(data_train$ATTRIBUTE_UrbScore~., data=data_train[,6:1005],importance=TRUE,ntree=1000,na.omit=TRUE,strata=top1000$ATTRIBUTE_UrbScore, sampsize=rep(min(table(top1000$ATTRIBUTE_UrbScore)),nlevels(top1000$ATTRIBUTE_UrbScore)))\n",
    "rf_1000trees_rep14\n",
    "rf_1000trees_rep15 <- randomForest(data_train$ATTRIBUTE_UrbScore~., data=data_train[,6:1005],importance=TRUE,ntree=1000,na.omit=TRUE,strata=top1000$ATTRIBUTE_UrbScore, sampsize=rep(min(table(top1000$ATTRIBUTE_UrbScore)),nlevels(top1000$ATTRIBUTE_UrbScore)))\n",
    "rf_1000trees_rep15\n",
    "rf_1000trees_rep16 <- randomForest(data_train$ATTRIBUTE_UrbScore~., data=data_train[,6:1005],importance=TRUE,ntree=1000,na.omit=TRUE,strata=top1000$ATTRIBUTE_UrbScore, sampsize=rep(min(table(top1000$ATTRIBUTE_UrbScore)),nlevels(top1000$ATTRIBUTE_UrbScore)))\n",
    "rf_1000trees_rep16\n",
    "rf_1000trees_rep17 <- randomForest(data_train$ATTRIBUTE_UrbScore~., data=data_train[,6:1005],importance=TRUE,ntree=1000,na.omit=TRUE,strata=top1000$ATTRIBUTE_UrbScore, sampsize=rep(min(table(top1000$ATTRIBUTE_UrbScore)),nlevels(top1000$ATTRIBUTE_UrbScore)))\n",
    "rf_1000trees_rep17\n",
    "rf_1000trees_rep18 <- randomForest(data_train$ATTRIBUTE_UrbScore~., data=data_train[,6:1005],importance=TRUE,ntree=1000,na.omit=TRUE,strata=top1000$ATTRIBUTE_UrbScore, sampsize=rep(min(table(top1000$ATTRIBUTE_UrbScore)),nlevels(top1000$ATTRIBUTE_UrbScore)))\n",
    "rf_1000trees_rep18\n",
    "rf_1000trees_rep19 <- randomForest(data_train$ATTRIBUTE_UrbScore~., data=data_train[,6:1005],importance=TRUE,ntree=1000,na.omit=TRUE,strata=top1000$ATTRIBUTE_UrbScore, sampsize=rep(min(table(top1000$ATTRIBUTE_UrbScore)),nlevels(top1000$ATTRIBUTE_UrbScore)))\n",
    "rf_1000trees_rep19\n",
    "rf_1000trees_rep20 <- randomForest(data_train$ATTRIBUTE_UrbScore~., data=data_train[,6:1005],importance=TRUE,ntree=1000,na.omit=TRUE,strata=top1000$ATTRIBUTE_UrbScore, sampsize=rep(min(table(top1000$ATTRIBUTE_UrbScore)),nlevels(top1000$ATTRIBUTE_UrbScore)))\n",
    "rf_1000trees_rep20"
   ]
  },
  {
   "cell_type": "code",
   "execution_count": 24,
   "metadata": {},
   "outputs": [
    {
     "data": {
      "text/plain": [
       "\n",
       "Call:\n",
       " randomForest(formula = data_train$ATTRIBUTE_UrbScore ~ ., data = data_train[,      6:1005], importance = TRUE, ntree = 2000, na.omit = TRUE,      strata = top1000$ATTRIBUTE_UrbScore, sampsize = rep(min(table(top1000$ATTRIBUTE_UrbScore)),          nlevels(top1000$ATTRIBUTE_UrbScore))) \n",
       "               Type of random forest: classification\n",
       "                     Number of trees: 2000\n",
       "No. of variables tried at each split: 31\n",
       "\n",
       "        OOB estimate of  error rate: 15.38%\n",
       "Confusion matrix:\n",
       "                    Isolated Rural (4) Mostly Rural (3) Rural and Urban (2)\n",
       "Isolated Rural (4)                  11                1                   2\n",
       "Mostly Rural (3)                     1               30                   4\n",
       "Rural and Urban (2)                  0                0                  26\n",
       "Urban (1)                            0                1                   5\n",
       "                    Urban (1) class.error\n",
       "Isolated Rural (4)          0   0.2142857\n",
       "Mostly Rural (3)            0   0.1428571\n",
       "Rural and Urban (2)         0   0.0000000\n",
       "Urban (1)                  10   0.3750000"
      ]
     },
     "metadata": {},
     "output_type": "display_data"
    },
    {
     "data": {
      "text/plain": [
       "\n",
       "Call:\n",
       " randomForest(formula = data_train$ATTRIBUTE_UrbScore ~ ., data = data_train[,      6:1005], importance = TRUE, ntree = 2000, na.omit = TRUE,      strata = top1000$ATTRIBUTE_UrbScore, sampsize = rep(min(table(top1000$ATTRIBUTE_UrbScore)),          nlevels(top1000$ATTRIBUTE_UrbScore))) \n",
       "               Type of random forest: classification\n",
       "                     Number of trees: 2000\n",
       "No. of variables tried at each split: 31\n",
       "\n",
       "        OOB estimate of  error rate: 15.38%\n",
       "Confusion matrix:\n",
       "                    Isolated Rural (4) Mostly Rural (3) Rural and Urban (2)\n",
       "Isolated Rural (4)                  11                1                   2\n",
       "Mostly Rural (3)                     1               30                   4\n",
       "Rural and Urban (2)                  0                0                  26\n",
       "Urban (1)                            0                2                   4\n",
       "                    Urban (1) class.error\n",
       "Isolated Rural (4)          0   0.2142857\n",
       "Mostly Rural (3)            0   0.1428571\n",
       "Rural and Urban (2)         0   0.0000000\n",
       "Urban (1)                  10   0.3750000"
      ]
     },
     "metadata": {},
     "output_type": "display_data"
    },
    {
     "data": {
      "text/plain": [
       "\n",
       "Call:\n",
       " randomForest(formula = data_train$ATTRIBUTE_UrbScore ~ ., data = data_train[,      6:1005], importance = TRUE, ntree = 2000, na.omit = TRUE,      strata = top1000$ATTRIBUTE_UrbScore, sampsize = rep(min(table(top1000$ATTRIBUTE_UrbScore)),          nlevels(top1000$ATTRIBUTE_UrbScore))) \n",
       "               Type of random forest: classification\n",
       "                     Number of trees: 2000\n",
       "No. of variables tried at each split: 31\n",
       "\n",
       "        OOB estimate of  error rate: 14.29%\n",
       "Confusion matrix:\n",
       "                    Isolated Rural (4) Mostly Rural (3) Rural and Urban (2)\n",
       "Isolated Rural (4)                  11                1                   2\n",
       "Mostly Rural (3)                     1               30                   4\n",
       "Rural and Urban (2)                  0                0                  26\n",
       "Urban (1)                            0                1                   4\n",
       "                    Urban (1) class.error\n",
       "Isolated Rural (4)          0   0.2142857\n",
       "Mostly Rural (3)            0   0.1428571\n",
       "Rural and Urban (2)         0   0.0000000\n",
       "Urban (1)                  11   0.3125000"
      ]
     },
     "metadata": {},
     "output_type": "display_data"
    },
    {
     "data": {
      "text/plain": [
       "\n",
       "Call:\n",
       " randomForest(formula = data_train$ATTRIBUTE_UrbScore ~ ., data = data_train[,      6:1005], importance = TRUE, ntree = 2000, na.omit = TRUE,      strata = top1000$ATTRIBUTE_UrbScore, sampsize = rep(min(table(top1000$ATTRIBUTE_UrbScore)),          nlevels(top1000$ATTRIBUTE_UrbScore))) \n",
       "               Type of random forest: classification\n",
       "                     Number of trees: 2000\n",
       "No. of variables tried at each split: 31\n",
       "\n",
       "        OOB estimate of  error rate: 14.29%\n",
       "Confusion matrix:\n",
       "                    Isolated Rural (4) Mostly Rural (3) Rural and Urban (2)\n",
       "Isolated Rural (4)                  11                1                   2\n",
       "Mostly Rural (3)                     1               30                   4\n",
       "Rural and Urban (2)                  0                0                  26\n",
       "Urban (1)                            0                1                   4\n",
       "                    Urban (1) class.error\n",
       "Isolated Rural (4)          0   0.2142857\n",
       "Mostly Rural (3)            0   0.1428571\n",
       "Rural and Urban (2)         0   0.0000000\n",
       "Urban (1)                  11   0.3125000"
      ]
     },
     "metadata": {},
     "output_type": "display_data"
    },
    {
     "data": {
      "text/plain": [
       "\n",
       "Call:\n",
       " randomForest(formula = data_train$ATTRIBUTE_UrbScore ~ ., data = data_train[,      6:1005], importance = TRUE, ntree = 2000, na.omit = TRUE,      strata = top1000$ATTRIBUTE_UrbScore, sampsize = rep(min(table(top1000$ATTRIBUTE_UrbScore)),          nlevels(top1000$ATTRIBUTE_UrbScore))) \n",
       "               Type of random forest: classification\n",
       "                     Number of trees: 2000\n",
       "No. of variables tried at each split: 31\n",
       "\n",
       "        OOB estimate of  error rate: 14.29%\n",
       "Confusion matrix:\n",
       "                    Isolated Rural (4) Mostly Rural (3) Rural and Urban (2)\n",
       "Isolated Rural (4)                  11                1                   2\n",
       "Mostly Rural (3)                     1               30                   4\n",
       "Rural and Urban (2)                  0                0                  26\n",
       "Urban (1)                            0                1                   4\n",
       "                    Urban (1) class.error\n",
       "Isolated Rural (4)          0   0.2142857\n",
       "Mostly Rural (3)            0   0.1428571\n",
       "Rural and Urban (2)         0   0.0000000\n",
       "Urban (1)                  11   0.3125000"
      ]
     },
     "metadata": {},
     "output_type": "display_data"
    },
    {
     "data": {
      "text/plain": [
       "\n",
       "Call:\n",
       " randomForest(formula = data_train$ATTRIBUTE_UrbScore ~ ., data = data_train[,      6:1005], importance = TRUE, ntree = 2000, na.omit = TRUE,      strata = top1000$ATTRIBUTE_UrbScore, sampsize = rep(min(table(top1000$ATTRIBUTE_UrbScore)),          nlevels(top1000$ATTRIBUTE_UrbScore))) \n",
       "               Type of random forest: classification\n",
       "                     Number of trees: 2000\n",
       "No. of variables tried at each split: 31\n",
       "\n",
       "        OOB estimate of  error rate: 16.48%\n",
       "Confusion matrix:\n",
       "                    Isolated Rural (4) Mostly Rural (3) Rural and Urban (2)\n",
       "Isolated Rural (4)                  11                1                   2\n",
       "Mostly Rural (3)                     1               30                   4\n",
       "Rural and Urban (2)                  0                0                  26\n",
       "Urban (1)                            0                2                   5\n",
       "                    Urban (1) class.error\n",
       "Isolated Rural (4)          0   0.2142857\n",
       "Mostly Rural (3)            0   0.1428571\n",
       "Rural and Urban (2)         0   0.0000000\n",
       "Urban (1)                   9   0.4375000"
      ]
     },
     "metadata": {},
     "output_type": "display_data"
    },
    {
     "data": {
      "text/plain": [
       "\n",
       "Call:\n",
       " randomForest(formula = data_train$ATTRIBUTE_UrbScore ~ ., data = data_train[,      6:1005], importance = TRUE, ntree = 2000, na.omit = TRUE,      strata = top1000$ATTRIBUTE_UrbScore, sampsize = rep(min(table(top1000$ATTRIBUTE_UrbScore)),          nlevels(top1000$ATTRIBUTE_UrbScore))) \n",
       "               Type of random forest: classification\n",
       "                     Number of trees: 2000\n",
       "No. of variables tried at each split: 31\n",
       "\n",
       "        OOB estimate of  error rate: 15.38%\n",
       "Confusion matrix:\n",
       "                    Isolated Rural (4) Mostly Rural (3) Rural and Urban (2)\n",
       "Isolated Rural (4)                  11                1                   2\n",
       "Mostly Rural (3)                     1               30                   4\n",
       "Rural and Urban (2)                  0                0                  26\n",
       "Urban (1)                            0                1                   5\n",
       "                    Urban (1) class.error\n",
       "Isolated Rural (4)          0   0.2142857\n",
       "Mostly Rural (3)            0   0.1428571\n",
       "Rural and Urban (2)         0   0.0000000\n",
       "Urban (1)                  10   0.3750000"
      ]
     },
     "metadata": {},
     "output_type": "display_data"
    },
    {
     "data": {
      "text/plain": [
       "\n",
       "Call:\n",
       " randomForest(formula = data_train$ATTRIBUTE_UrbScore ~ ., data = data_train[,      6:1005], importance = TRUE, ntree = 2000, na.omit = TRUE,      strata = top1000$ATTRIBUTE_UrbScore, sampsize = rep(min(table(top1000$ATTRIBUTE_UrbScore)),          nlevels(top1000$ATTRIBUTE_UrbScore))) \n",
       "               Type of random forest: classification\n",
       "                     Number of trees: 2000\n",
       "No. of variables tried at each split: 31\n",
       "\n",
       "        OOB estimate of  error rate: 14.29%\n",
       "Confusion matrix:\n",
       "                    Isolated Rural (4) Mostly Rural (3) Rural and Urban (2)\n",
       "Isolated Rural (4)                  11                1                   2\n",
       "Mostly Rural (3)                     1               30                   4\n",
       "Rural and Urban (2)                  0                0                  26\n",
       "Urban (1)                            0                1                   4\n",
       "                    Urban (1) class.error\n",
       "Isolated Rural (4)          0   0.2142857\n",
       "Mostly Rural (3)            0   0.1428571\n",
       "Rural and Urban (2)         0   0.0000000\n",
       "Urban (1)                  11   0.3125000"
      ]
     },
     "metadata": {},
     "output_type": "display_data"
    },
    {
     "data": {
      "text/plain": [
       "\n",
       "Call:\n",
       " randomForest(formula = data_train$ATTRIBUTE_UrbScore ~ ., data = data_train[,      6:1005], importance = TRUE, ntree = 2000, na.omit = TRUE,      strata = top1000$ATTRIBUTE_UrbScore, sampsize = rep(min(table(top1000$ATTRIBUTE_UrbScore)),          nlevels(top1000$ATTRIBUTE_UrbScore))) \n",
       "               Type of random forest: classification\n",
       "                     Number of trees: 2000\n",
       "No. of variables tried at each split: 31\n",
       "\n",
       "        OOB estimate of  error rate: 15.38%\n",
       "Confusion matrix:\n",
       "                    Isolated Rural (4) Mostly Rural (3) Rural and Urban (2)\n",
       "Isolated Rural (4)                  11                1                   2\n",
       "Mostly Rural (3)                     1               30                   4\n",
       "Rural and Urban (2)                  0                0                  26\n",
       "Urban (1)                            0                2                   4\n",
       "                    Urban (1) class.error\n",
       "Isolated Rural (4)          0   0.2142857\n",
       "Mostly Rural (3)            0   0.1428571\n",
       "Rural and Urban (2)         0   0.0000000\n",
       "Urban (1)                  10   0.3750000"
      ]
     },
     "metadata": {},
     "output_type": "display_data"
    },
    {
     "data": {
      "text/plain": [
       "\n",
       "Call:\n",
       " randomForest(formula = data_train$ATTRIBUTE_UrbScore ~ ., data = data_train[,      6:1005], importance = TRUE, ntree = 2000, na.omit = TRUE,      strata = top1000$ATTRIBUTE_UrbScore, sampsize = rep(min(table(top1000$ATTRIBUTE_UrbScore)),          nlevels(top1000$ATTRIBUTE_UrbScore))) \n",
       "               Type of random forest: classification\n",
       "                     Number of trees: 2000\n",
       "No. of variables tried at each split: 31\n",
       "\n",
       "        OOB estimate of  error rate: 15.38%\n",
       "Confusion matrix:\n",
       "                    Isolated Rural (4) Mostly Rural (3) Rural and Urban (2)\n",
       "Isolated Rural (4)                  11                1                   2\n",
       "Mostly Rural (3)                     1               30                   4\n",
       "Rural and Urban (2)                  0                1                  25\n",
       "Urban (1)                            0                1                   4\n",
       "                    Urban (1) class.error\n",
       "Isolated Rural (4)          0  0.21428571\n",
       "Mostly Rural (3)            0  0.14285714\n",
       "Rural and Urban (2)         0  0.03846154\n",
       "Urban (1)                  11  0.31250000"
      ]
     },
     "metadata": {},
     "output_type": "display_data"
    },
    {
     "data": {
      "text/plain": [
       "\n",
       "Call:\n",
       " randomForest(formula = data_train$ATTRIBUTE_UrbScore ~ ., data = data_train[,      6:1005], importance = TRUE, ntree = 2000, na.omit = TRUE,      strata = top1000$ATTRIBUTE_UrbScore, sampsize = rep(min(table(top1000$ATTRIBUTE_UrbScore)),          nlevels(top1000$ATTRIBUTE_UrbScore))) \n",
       "               Type of random forest: classification\n",
       "                     Number of trees: 2000\n",
       "No. of variables tried at each split: 31\n",
       "\n",
       "        OOB estimate of  error rate: 15.38%\n",
       "Confusion matrix:\n",
       "                    Isolated Rural (4) Mostly Rural (3) Rural and Urban (2)\n",
       "Isolated Rural (4)                  11                1                   2\n",
       "Mostly Rural (3)                     2               29                   4\n",
       "Rural and Urban (2)                  0                0                  26\n",
       "Urban (1)                            0                1                   4\n",
       "                    Urban (1) class.error\n",
       "Isolated Rural (4)          0   0.2142857\n",
       "Mostly Rural (3)            0   0.1714286\n",
       "Rural and Urban (2)         0   0.0000000\n",
       "Urban (1)                  11   0.3125000"
      ]
     },
     "metadata": {},
     "output_type": "display_data"
    },
    {
     "data": {
      "text/plain": [
       "\n",
       "Call:\n",
       " randomForest(formula = data_train$ATTRIBUTE_UrbScore ~ ., data = data_train[,      6:1005], importance = TRUE, ntree = 2000, na.omit = TRUE,      strata = top1000$ATTRIBUTE_UrbScore, sampsize = rep(min(table(top1000$ATTRIBUTE_UrbScore)),          nlevels(top1000$ATTRIBUTE_UrbScore))) \n",
       "               Type of random forest: classification\n",
       "                     Number of trees: 2000\n",
       "No. of variables tried at each split: 31\n",
       "\n",
       "        OOB estimate of  error rate: 14.29%\n",
       "Confusion matrix:\n",
       "                    Isolated Rural (4) Mostly Rural (3) Rural and Urban (2)\n",
       "Isolated Rural (4)                  11                1                   2\n",
       "Mostly Rural (3)                     1               30                   4\n",
       "Rural and Urban (2)                  0                0                  26\n",
       "Urban (1)                            0                1                   4\n",
       "                    Urban (1) class.error\n",
       "Isolated Rural (4)          0   0.2142857\n",
       "Mostly Rural (3)            0   0.1428571\n",
       "Rural and Urban (2)         0   0.0000000\n",
       "Urban (1)                  11   0.3125000"
      ]
     },
     "metadata": {},
     "output_type": "display_data"
    },
    {
     "data": {
      "text/plain": [
       "\n",
       "Call:\n",
       " randomForest(formula = data_train$ATTRIBUTE_UrbScore ~ ., data = data_train[,      6:1005], importance = TRUE, ntree = 2000, na.omit = TRUE,      strata = top1000$ATTRIBUTE_UrbScore, sampsize = rep(min(table(top1000$ATTRIBUTE_UrbScore)),          nlevels(top1000$ATTRIBUTE_UrbScore))) \n",
       "               Type of random forest: classification\n",
       "                     Number of trees: 2000\n",
       "No. of variables tried at each split: 31\n",
       "\n",
       "        OOB estimate of  error rate: 16.48%\n",
       "Confusion matrix:\n",
       "                    Isolated Rural (4) Mostly Rural (3) Rural and Urban (2)\n",
       "Isolated Rural (4)                  11                1                   2\n",
       "Mostly Rural (3)                     1               30                   4\n",
       "Rural and Urban (2)                  0                2                  24\n",
       "Urban (1)                            0                1                   4\n",
       "                    Urban (1) class.error\n",
       "Isolated Rural (4)          0  0.21428571\n",
       "Mostly Rural (3)            0  0.14285714\n",
       "Rural and Urban (2)         0  0.07692308\n",
       "Urban (1)                  11  0.31250000"
      ]
     },
     "metadata": {},
     "output_type": "display_data"
    },
    {
     "data": {
      "text/plain": [
       "\n",
       "Call:\n",
       " randomForest(formula = data_train$ATTRIBUTE_UrbScore ~ ., data = data_train[,      6:1005], importance = TRUE, ntree = 2000, na.omit = TRUE,      strata = top1000$ATTRIBUTE_UrbScore, sampsize = rep(min(table(top1000$ATTRIBUTE_UrbScore)),          nlevels(top1000$ATTRIBUTE_UrbScore))) \n",
       "               Type of random forest: classification\n",
       "                     Number of trees: 2000\n",
       "No. of variables tried at each split: 31\n",
       "\n",
       "        OOB estimate of  error rate: 15.38%\n",
       "Confusion matrix:\n",
       "                    Isolated Rural (4) Mostly Rural (3) Rural and Urban (2)\n",
       "Isolated Rural (4)                  12                0                   2\n",
       "Mostly Rural (3)                     1               30                   4\n",
       "Rural and Urban (2)                  0                0                  26\n",
       "Urban (1)                            0                3                   4\n",
       "                    Urban (1) class.error\n",
       "Isolated Rural (4)          0   0.1428571\n",
       "Mostly Rural (3)            0   0.1428571\n",
       "Rural and Urban (2)         0   0.0000000\n",
       "Urban (1)                   9   0.4375000"
      ]
     },
     "metadata": {},
     "output_type": "display_data"
    },
    {
     "data": {
      "text/plain": [
       "\n",
       "Call:\n",
       " randomForest(formula = data_train$ATTRIBUTE_UrbScore ~ ., data = data_train[,      6:1005], importance = TRUE, ntree = 2000, na.omit = TRUE,      strata = top1000$ATTRIBUTE_UrbScore, sampsize = rep(min(table(top1000$ATTRIBUTE_UrbScore)),          nlevels(top1000$ATTRIBUTE_UrbScore))) \n",
       "               Type of random forest: classification\n",
       "                     Number of trees: 2000\n",
       "No. of variables tried at each split: 31\n",
       "\n",
       "        OOB estimate of  error rate: 15.38%\n",
       "Confusion matrix:\n",
       "                    Isolated Rural (4) Mostly Rural (3) Rural and Urban (2)\n",
       "Isolated Rural (4)                  11                1                   2\n",
       "Mostly Rural (3)                     1               30                   4\n",
       "Rural and Urban (2)                  0                0                  26\n",
       "Urban (1)                            0                2                   4\n",
       "                    Urban (1) class.error\n",
       "Isolated Rural (4)          0   0.2142857\n",
       "Mostly Rural (3)            0   0.1428571\n",
       "Rural and Urban (2)         0   0.0000000\n",
       "Urban (1)                  10   0.3750000"
      ]
     },
     "metadata": {},
     "output_type": "display_data"
    },
    {
     "data": {
      "text/plain": [
       "\n",
       "Call:\n",
       " randomForest(formula = data_train$ATTRIBUTE_UrbScore ~ ., data = data_train[,      6:1005], importance = TRUE, ntree = 2000, na.omit = TRUE,      strata = top1000$ATTRIBUTE_UrbScore, sampsize = rep(min(table(top1000$ATTRIBUTE_UrbScore)),          nlevels(top1000$ATTRIBUTE_UrbScore))) \n",
       "               Type of random forest: classification\n",
       "                     Number of trees: 2000\n",
       "No. of variables tried at each split: 31\n",
       "\n",
       "        OOB estimate of  error rate: 15.38%\n",
       "Confusion matrix:\n",
       "                    Isolated Rural (4) Mostly Rural (3) Rural and Urban (2)\n",
       "Isolated Rural (4)                  11                1                   2\n",
       "Mostly Rural (3)                     1               30                   4\n",
       "Rural and Urban (2)                  0                0                  26\n",
       "Urban (1)                            0                2                   4\n",
       "                    Urban (1) class.error\n",
       "Isolated Rural (4)          0   0.2142857\n",
       "Mostly Rural (3)            0   0.1428571\n",
       "Rural and Urban (2)         0   0.0000000\n",
       "Urban (1)                  10   0.3750000"
      ]
     },
     "metadata": {},
     "output_type": "display_data"
    },
    {
     "data": {
      "text/plain": [
       "\n",
       "Call:\n",
       " randomForest(formula = data_train$ATTRIBUTE_UrbScore ~ ., data = data_train[,      6:1005], importance = TRUE, ntree = 2000, na.omit = TRUE,      strata = top1000$ATTRIBUTE_UrbScore, sampsize = rep(min(table(top1000$ATTRIBUTE_UrbScore)),          nlevels(top1000$ATTRIBUTE_UrbScore))) \n",
       "               Type of random forest: classification\n",
       "                     Number of trees: 2000\n",
       "No. of variables tried at each split: 31\n",
       "\n",
       "        OOB estimate of  error rate: 14.29%\n",
       "Confusion matrix:\n",
       "                    Isolated Rural (4) Mostly Rural (3) Rural and Urban (2)\n",
       "Isolated Rural (4)                  11                1                   2\n",
       "Mostly Rural (3)                     1               30                   4\n",
       "Rural and Urban (2)                  0                0                  26\n",
       "Urban (1)                            0                1                   4\n",
       "                    Urban (1) class.error\n",
       "Isolated Rural (4)          0   0.2142857\n",
       "Mostly Rural (3)            0   0.1428571\n",
       "Rural and Urban (2)         0   0.0000000\n",
       "Urban (1)                  11   0.3125000"
      ]
     },
     "metadata": {},
     "output_type": "display_data"
    },
    {
     "data": {
      "text/plain": [
       "\n",
       "Call:\n",
       " randomForest(formula = data_train$ATTRIBUTE_UrbScore ~ ., data = data_train[,      6:1005], importance = TRUE, ntree = 2000, na.omit = TRUE,      strata = top1000$ATTRIBUTE_UrbScore, sampsize = rep(min(table(top1000$ATTRIBUTE_UrbScore)),          nlevels(top1000$ATTRIBUTE_UrbScore))) \n",
       "               Type of random forest: classification\n",
       "                     Number of trees: 2000\n",
       "No. of variables tried at each split: 31\n",
       "\n",
       "        OOB estimate of  error rate: 15.38%\n",
       "Confusion matrix:\n",
       "                    Isolated Rural (4) Mostly Rural (3) Rural and Urban (2)\n",
       "Isolated Rural (4)                  11                1                   2\n",
       "Mostly Rural (3)                     1               30                   4\n",
       "Rural and Urban (2)                  0                0                  26\n",
       "Urban (1)                            0                1                   5\n",
       "                    Urban (1) class.error\n",
       "Isolated Rural (4)          0   0.2142857\n",
       "Mostly Rural (3)            0   0.1428571\n",
       "Rural and Urban (2)         0   0.0000000\n",
       "Urban (1)                  10   0.3750000"
      ]
     },
     "metadata": {},
     "output_type": "display_data"
    },
    {
     "data": {
      "text/plain": [
       "\n",
       "Call:\n",
       " randomForest(formula = data_train$ATTRIBUTE_UrbScore ~ ., data = data_train[,      6:1005], importance = TRUE, ntree = 2000, na.omit = TRUE,      strata = top1000$ATTRIBUTE_UrbScore, sampsize = rep(min(table(top1000$ATTRIBUTE_UrbScore)),          nlevels(top1000$ATTRIBUTE_UrbScore))) \n",
       "               Type of random forest: classification\n",
       "                     Number of trees: 2000\n",
       "No. of variables tried at each split: 31\n",
       "\n",
       "        OOB estimate of  error rate: 14.29%\n",
       "Confusion matrix:\n",
       "                    Isolated Rural (4) Mostly Rural (3) Rural and Urban (2)\n",
       "Isolated Rural (4)                  11                1                   2\n",
       "Mostly Rural (3)                     1               30                   4\n",
       "Rural and Urban (2)                  0                0                  26\n",
       "Urban (1)                            0                1                   4\n",
       "                    Urban (1) class.error\n",
       "Isolated Rural (4)          0   0.2142857\n",
       "Mostly Rural (3)            0   0.1428571\n",
       "Rural and Urban (2)         0   0.0000000\n",
       "Urban (1)                  11   0.3125000"
      ]
     },
     "metadata": {},
     "output_type": "display_data"
    },
    {
     "data": {
      "text/plain": [
       "\n",
       "Call:\n",
       " randomForest(formula = data_train$ATTRIBUTE_UrbScore ~ ., data = data_train[,      6:1005], importance = TRUE, ntree = 2000, na.omit = TRUE,      strata = top1000$ATTRIBUTE_UrbScore, sampsize = rep(min(table(top1000$ATTRIBUTE_UrbScore)),          nlevels(top1000$ATTRIBUTE_UrbScore))) \n",
       "               Type of random forest: classification\n",
       "                     Number of trees: 2000\n",
       "No. of variables tried at each split: 31\n",
       "\n",
       "        OOB estimate of  error rate: 16.48%\n",
       "Confusion matrix:\n",
       "                    Isolated Rural (4) Mostly Rural (3) Rural and Urban (2)\n",
       "Isolated Rural (4)                  11                1                   2\n",
       "Mostly Rural (3)                     1               30                   4\n",
       "Rural and Urban (2)                  0                0                  26\n",
       "Urban (1)                            0                2                   5\n",
       "                    Urban (1) class.error\n",
       "Isolated Rural (4)          0   0.2142857\n",
       "Mostly Rural (3)            0   0.1428571\n",
       "Rural and Urban (2)         0   0.0000000\n",
       "Urban (1)                   9   0.4375000"
      ]
     },
     "metadata": {},
     "output_type": "display_data"
    }
   ],
   "source": [
    "rf_2000trees_rep1 <- randomForest(data_train$ATTRIBUTE_UrbScore~., data=data_train[,6:1005],importance=TRUE,ntree=2000,na.omit=TRUE,strata=top1000$ATTRIBUTE_UrbScore, sampsize=rep(min(table(top1000$ATTRIBUTE_UrbScore)),nlevels(top1000$ATTRIBUTE_UrbScore)))\n",
    "rf_2000trees_rep1\n",
    "rf_2000trees_rep2 <- randomForest(data_train$ATTRIBUTE_UrbScore~., data=data_train[,6:1005],importance=TRUE,ntree=2000,na.omit=TRUE,strata=top1000$ATTRIBUTE_UrbScore, sampsize=rep(min(table(top1000$ATTRIBUTE_UrbScore)),nlevels(top1000$ATTRIBUTE_UrbScore)))\n",
    "rf_2000trees_rep2\n",
    "rf_2000trees_rep3 <- randomForest(data_train$ATTRIBUTE_UrbScore~., data=data_train[,6:1005],importance=TRUE,ntree=2000,na.omit=TRUE,strata=top1000$ATTRIBUTE_UrbScore, sampsize=rep(min(table(top1000$ATTRIBUTE_UrbScore)),nlevels(top1000$ATTRIBUTE_UrbScore)))\n",
    "rf_2000trees_rep3\n",
    "rf_2000trees_rep4 <- randomForest(data_train$ATTRIBUTE_UrbScore~., data=data_train[,6:1005],importance=TRUE,ntree=2000,na.omit=TRUE,strata=top1000$ATTRIBUTE_UrbScore, sampsize=rep(min(table(top1000$ATTRIBUTE_UrbScore)),nlevels(top1000$ATTRIBUTE_UrbScore)))\n",
    "rf_2000trees_rep4\n",
    "rf_2000trees_rep5 <- randomForest(data_train$ATTRIBUTE_UrbScore~., data=data_train[,6:1005],importance=TRUE,ntree=2000,na.omit=TRUE,strata=top1000$ATTRIBUTE_UrbScore, sampsize=rep(min(table(top1000$ATTRIBUTE_UrbScore)),nlevels(top1000$ATTRIBUTE_UrbScore)))\n",
    "rf_2000trees_rep5\n",
    "rf_2000trees_rep6 <- randomForest(data_train$ATTRIBUTE_UrbScore~., data=data_train[,6:1005],importance=TRUE,ntree=2000,na.omit=TRUE,strata=top1000$ATTRIBUTE_UrbScore, sampsize=rep(min(table(top1000$ATTRIBUTE_UrbScore)),nlevels(top1000$ATTRIBUTE_UrbScore)))\n",
    "rf_2000trees_rep6\n",
    "rf_2000trees_rep7 <- randomForest(data_train$ATTRIBUTE_UrbScore~., data=data_train[,6:1005],importance=TRUE,ntree=2000,na.omit=TRUE,strata=top1000$ATTRIBUTE_UrbScore, sampsize=rep(min(table(top1000$ATTRIBUTE_UrbScore)),nlevels(top1000$ATTRIBUTE_UrbScore)))\n",
    "rf_2000trees_rep7\n",
    "rf_2000trees_rep8 <- randomForest(data_train$ATTRIBUTE_UrbScore~., data=data_train[,6:1005],importance=TRUE,ntree=2000,na.omit=TRUE,strata=top1000$ATTRIBUTE_UrbScore, sampsize=rep(min(table(top1000$ATTRIBUTE_UrbScore)),nlevels(top1000$ATTRIBUTE_UrbScore)))\n",
    "rf_2000trees_rep8\n",
    "rf_2000trees_rep9 <- randomForest(data_train$ATTRIBUTE_UrbScore~., data=data_train[,6:1005],importance=TRUE,ntree=2000,na.omit=TRUE,strata=top1000$ATTRIBUTE_UrbScore, sampsize=rep(min(table(top1000$ATTRIBUTE_UrbScore)),nlevels(top1000$ATTRIBUTE_UrbScore)))\n",
    "rf_2000trees_rep9\n",
    "rf_2000trees_rep10 <- randomForest(data_train$ATTRIBUTE_UrbScore~., data=data_train[,6:1005],importance=TRUE,ntree=2000,na.omit=TRUE,strata=top1000$ATTRIBUTE_UrbScore, sampsize=rep(min(table(top1000$ATTRIBUTE_UrbScore)),nlevels(top1000$ATTRIBUTE_UrbScore)))\n",
    "rf_2000trees_rep10\n",
    "rf_2000trees_rep11 <- randomForest(data_train$ATTRIBUTE_UrbScore~., data=data_train[,6:1005],importance=TRUE,ntree=2000,na.omit=TRUE,strata=top1000$ATTRIBUTE_UrbScore, sampsize=rep(min(table(top1000$ATTRIBUTE_UrbScore)),nlevels(top1000$ATTRIBUTE_UrbScore)))\n",
    "rf_2000trees_rep11\n",
    "rf_2000trees_rep12 <- randomForest(data_train$ATTRIBUTE_UrbScore~., data=data_train[,6:1005],importance=TRUE,ntree=2000,na.omit=TRUE,strata=top1000$ATTRIBUTE_UrbScore, sampsize=rep(min(table(top1000$ATTRIBUTE_UrbScore)),nlevels(top1000$ATTRIBUTE_UrbScore)))\n",
    "rf_2000trees_rep12\n",
    "rf_2000trees_rep13 <- randomForest(data_train$ATTRIBUTE_UrbScore~., data=data_train[,6:1005],importance=TRUE,ntree=2000,na.omit=TRUE,strata=top1000$ATTRIBUTE_UrbScore, sampsize=rep(min(table(top1000$ATTRIBUTE_UrbScore)),nlevels(top1000$ATTRIBUTE_UrbScore)))\n",
    "rf_2000trees_rep13\n",
    "rf_2000trees_rep14 <- randomForest(data_train$ATTRIBUTE_UrbScore~., data=data_train[,6:1005],importance=TRUE,ntree=2000,na.omit=TRUE,strata=top1000$ATTRIBUTE_UrbScore, sampsize=rep(min(table(top1000$ATTRIBUTE_UrbScore)),nlevels(top1000$ATTRIBUTE_UrbScore)))\n",
    "rf_2000trees_rep14\n",
    "rf_2000trees_rep15 <- randomForest(data_train$ATTRIBUTE_UrbScore~., data=data_train[,6:1005],importance=TRUE,ntree=2000,na.omit=TRUE,strata=top1000$ATTRIBUTE_UrbScore, sampsize=rep(min(table(top1000$ATTRIBUTE_UrbScore)),nlevels(top1000$ATTRIBUTE_UrbScore)))\n",
    "rf_2000trees_rep15\n",
    "rf_2000trees_rep16 <- randomForest(data_train$ATTRIBUTE_UrbScore~., data=data_train[,6:1005],importance=TRUE,ntree=2000,na.omit=TRUE,strata=top1000$ATTRIBUTE_UrbScore, sampsize=rep(min(table(top1000$ATTRIBUTE_UrbScore)),nlevels(top1000$ATTRIBUTE_UrbScore)))\n",
    "rf_2000trees_rep16\n",
    "rf_2000trees_rep17 <- randomForest(data_train$ATTRIBUTE_UrbScore~., data=data_train[,6:1005],importance=TRUE,ntree=2000,na.omit=TRUE,strata=top1000$ATTRIBUTE_UrbScore, sampsize=rep(min(table(top1000$ATTRIBUTE_UrbScore)),nlevels(top1000$ATTRIBUTE_UrbScore)))\n",
    "rf_2000trees_rep17\n",
    "rf_2000trees_rep18 <- randomForest(data_train$ATTRIBUTE_UrbScore~., data=data_train[,6:1005],importance=TRUE,ntree=2000,na.omit=TRUE,strata=top1000$ATTRIBUTE_UrbScore, sampsize=rep(min(table(top1000$ATTRIBUTE_UrbScore)),nlevels(top1000$ATTRIBUTE_UrbScore)))\n",
    "rf_2000trees_rep18\n",
    "rf_2000trees_rep19 <- randomForest(data_train$ATTRIBUTE_UrbScore~., data=data_train[,6:1005],importance=TRUE,ntree=2000,na.omit=TRUE,strata=top1000$ATTRIBUTE_UrbScore, sampsize=rep(min(table(top1000$ATTRIBUTE_UrbScore)),nlevels(top1000$ATTRIBUTE_UrbScore)))\n",
    "rf_2000trees_rep19\n",
    "rf_2000trees_rep20 <- randomForest(data_train$ATTRIBUTE_UrbScore~., data=data_train[,6:1005],importance=TRUE,ntree=2000,na.omit=TRUE,strata=top1000$ATTRIBUTE_UrbScore, sampsize=rep(min(table(top1000$ATTRIBUTE_UrbScore)),nlevels(top1000$ATTRIBUTE_UrbScore)))\n",
    "rf_2000trees_rep20"
   ]
  },
  {
   "cell_type": "code",
   "execution_count": 25,
   "metadata": {},
   "outputs": [
    {
     "data": {
      "text/plain": [
       "\n",
       "Call:\n",
       " randomForest(formula = data_train$ATTRIBUTE_UrbScore ~ ., data = data_train[,      6:1005], importance = TRUE, ntree = 5000, na.omit = TRUE,      strata = top1000$ATTRIBUTE_UrbScore, sampsize = rep(min(table(top1000$ATTRIBUTE_UrbScore)),          nlevels(top1000$ATTRIBUTE_UrbScore))) \n",
       "               Type of random forest: classification\n",
       "                     Number of trees: 5000\n",
       "No. of variables tried at each split: 31\n",
       "\n",
       "        OOB estimate of  error rate: 14.29%\n",
       "Confusion matrix:\n",
       "                    Isolated Rural (4) Mostly Rural (3) Rural and Urban (2)\n",
       "Isolated Rural (4)                  11                1                   2\n",
       "Mostly Rural (3)                     1               30                   4\n",
       "Rural and Urban (2)                  0                0                  26\n",
       "Urban (1)                            0                1                   4\n",
       "                    Urban (1) class.error\n",
       "Isolated Rural (4)          0   0.2142857\n",
       "Mostly Rural (3)            0   0.1428571\n",
       "Rural and Urban (2)         0   0.0000000\n",
       "Urban (1)                  11   0.3125000"
      ]
     },
     "metadata": {},
     "output_type": "display_data"
    },
    {
     "data": {
      "text/plain": [
       "\n",
       "Call:\n",
       " randomForest(formula = data_train$ATTRIBUTE_UrbScore ~ ., data = data_train[,      6:1005], importance = TRUE, ntree = 5000, na.omit = TRUE,      strata = top1000$ATTRIBUTE_UrbScore, sampsize = rep(min(table(top1000$ATTRIBUTE_UrbScore)),          nlevels(top1000$ATTRIBUTE_UrbScore))) \n",
       "               Type of random forest: classification\n",
       "                     Number of trees: 5000\n",
       "No. of variables tried at each split: 31\n",
       "\n",
       "        OOB estimate of  error rate: 15.38%\n",
       "Confusion matrix:\n",
       "                    Isolated Rural (4) Mostly Rural (3) Rural and Urban (2)\n",
       "Isolated Rural (4)                  11                1                   2\n",
       "Mostly Rural (3)                     1               30                   4\n",
       "Rural and Urban (2)                  0                0                  26\n",
       "Urban (1)                            0                1                   5\n",
       "                    Urban (1) class.error\n",
       "Isolated Rural (4)          0   0.2142857\n",
       "Mostly Rural (3)            0   0.1428571\n",
       "Rural and Urban (2)         0   0.0000000\n",
       "Urban (1)                  10   0.3750000"
      ]
     },
     "metadata": {},
     "output_type": "display_data"
    },
    {
     "data": {
      "text/plain": [
       "\n",
       "Call:\n",
       " randomForest(formula = data_train$ATTRIBUTE_UrbScore ~ ., data = data_train[,      6:1005], importance = TRUE, ntree = 5000, na.omit = TRUE,      strata = top1000$ATTRIBUTE_UrbScore, sampsize = rep(min(table(top1000$ATTRIBUTE_UrbScore)),          nlevels(top1000$ATTRIBUTE_UrbScore))) \n",
       "               Type of random forest: classification\n",
       "                     Number of trees: 5000\n",
       "No. of variables tried at each split: 31\n",
       "\n",
       "        OOB estimate of  error rate: 15.38%\n",
       "Confusion matrix:\n",
       "                    Isolated Rural (4) Mostly Rural (3) Rural and Urban (2)\n",
       "Isolated Rural (4)                  11                1                   2\n",
       "Mostly Rural (3)                     1               30                   4\n",
       "Rural and Urban (2)                  0                0                  26\n",
       "Urban (1)                            0                2                   4\n",
       "                    Urban (1) class.error\n",
       "Isolated Rural (4)          0   0.2142857\n",
       "Mostly Rural (3)            0   0.1428571\n",
       "Rural and Urban (2)         0   0.0000000\n",
       "Urban (1)                  10   0.3750000"
      ]
     },
     "metadata": {},
     "output_type": "display_data"
    },
    {
     "data": {
      "text/plain": [
       "\n",
       "Call:\n",
       " randomForest(formula = data_train$ATTRIBUTE_UrbScore ~ ., data = data_train[,      6:1005], importance = TRUE, ntree = 5000, na.omit = TRUE,      strata = top1000$ATTRIBUTE_UrbScore, sampsize = rep(min(table(top1000$ATTRIBUTE_UrbScore)),          nlevels(top1000$ATTRIBUTE_UrbScore))) \n",
       "               Type of random forest: classification\n",
       "                     Number of trees: 5000\n",
       "No. of variables tried at each split: 31\n",
       "\n",
       "        OOB estimate of  error rate: 15.38%\n",
       "Confusion matrix:\n",
       "                    Isolated Rural (4) Mostly Rural (3) Rural and Urban (2)\n",
       "Isolated Rural (4)                  11                1                   2\n",
       "Mostly Rural (3)                     1               30                   4\n",
       "Rural and Urban (2)                  0                0                  26\n",
       "Urban (1)                            0                2                   4\n",
       "                    Urban (1) class.error\n",
       "Isolated Rural (4)          0   0.2142857\n",
       "Mostly Rural (3)            0   0.1428571\n",
       "Rural and Urban (2)         0   0.0000000\n",
       "Urban (1)                  10   0.3750000"
      ]
     },
     "metadata": {},
     "output_type": "display_data"
    },
    {
     "data": {
      "text/plain": [
       "\n",
       "Call:\n",
       " randomForest(formula = data_train$ATTRIBUTE_UrbScore ~ ., data = data_train[,      6:1005], importance = TRUE, ntree = 5000, na.omit = TRUE,      strata = top1000$ATTRIBUTE_UrbScore, sampsize = rep(min(table(top1000$ATTRIBUTE_UrbScore)),          nlevels(top1000$ATTRIBUTE_UrbScore))) \n",
       "               Type of random forest: classification\n",
       "                     Number of trees: 5000\n",
       "No. of variables tried at each split: 31\n",
       "\n",
       "        OOB estimate of  error rate: 14.29%\n",
       "Confusion matrix:\n",
       "                    Isolated Rural (4) Mostly Rural (3) Rural and Urban (2)\n",
       "Isolated Rural (4)                  11                1                   2\n",
       "Mostly Rural (3)                     1               30                   4\n",
       "Rural and Urban (2)                  0                0                  26\n",
       "Urban (1)                            0                1                   4\n",
       "                    Urban (1) class.error\n",
       "Isolated Rural (4)          0   0.2142857\n",
       "Mostly Rural (3)            0   0.1428571\n",
       "Rural and Urban (2)         0   0.0000000\n",
       "Urban (1)                  11   0.3125000"
      ]
     },
     "metadata": {},
     "output_type": "display_data"
    },
    {
     "data": {
      "text/plain": [
       "\n",
       "Call:\n",
       " randomForest(formula = data_train$ATTRIBUTE_UrbScore ~ ., data = data_train[,      6:1005], importance = TRUE, ntree = 5000, na.omit = TRUE,      strata = top1000$ATTRIBUTE_UrbScore, sampsize = rep(min(table(top1000$ATTRIBUTE_UrbScore)),          nlevels(top1000$ATTRIBUTE_UrbScore))) \n",
       "               Type of random forest: classification\n",
       "                     Number of trees: 5000\n",
       "No. of variables tried at each split: 31\n",
       "\n",
       "        OOB estimate of  error rate: 14.29%\n",
       "Confusion matrix:\n",
       "                    Isolated Rural (4) Mostly Rural (3) Rural and Urban (2)\n",
       "Isolated Rural (4)                  11                1                   2\n",
       "Mostly Rural (3)                     1               30                   4\n",
       "Rural and Urban (2)                  0                0                  26\n",
       "Urban (1)                            0                1                   4\n",
       "                    Urban (1) class.error\n",
       "Isolated Rural (4)          0   0.2142857\n",
       "Mostly Rural (3)            0   0.1428571\n",
       "Rural and Urban (2)         0   0.0000000\n",
       "Urban (1)                  11   0.3125000"
      ]
     },
     "metadata": {},
     "output_type": "display_data"
    },
    {
     "data": {
      "text/plain": [
       "\n",
       "Call:\n",
       " randomForest(formula = data_train$ATTRIBUTE_UrbScore ~ ., data = data_train[,      6:1005], importance = TRUE, ntree = 5000, na.omit = TRUE,      strata = top1000$ATTRIBUTE_UrbScore, sampsize = rep(min(table(top1000$ATTRIBUTE_UrbScore)),          nlevels(top1000$ATTRIBUTE_UrbScore))) \n",
       "               Type of random forest: classification\n",
       "                     Number of trees: 5000\n",
       "No. of variables tried at each split: 31\n",
       "\n",
       "        OOB estimate of  error rate: 15.38%\n",
       "Confusion matrix:\n",
       "                    Isolated Rural (4) Mostly Rural (3) Rural and Urban (2)\n",
       "Isolated Rural (4)                  11                1                   2\n",
       "Mostly Rural (3)                     1               30                   4\n",
       "Rural and Urban (2)                  0                0                  26\n",
       "Urban (1)                            0                2                   4\n",
       "                    Urban (1) class.error\n",
       "Isolated Rural (4)          0   0.2142857\n",
       "Mostly Rural (3)            0   0.1428571\n",
       "Rural and Urban (2)         0   0.0000000\n",
       "Urban (1)                  10   0.3750000"
      ]
     },
     "metadata": {},
     "output_type": "display_data"
    },
    {
     "data": {
      "text/plain": [
       "\n",
       "Call:\n",
       " randomForest(formula = data_train$ATTRIBUTE_UrbScore ~ ., data = data_train[,      6:1005], importance = TRUE, ntree = 5000, na.omit = TRUE,      strata = top1000$ATTRIBUTE_UrbScore, sampsize = rep(min(table(top1000$ATTRIBUTE_UrbScore)),          nlevels(top1000$ATTRIBUTE_UrbScore))) \n",
       "               Type of random forest: classification\n",
       "                     Number of trees: 5000\n",
       "No. of variables tried at each split: 31\n",
       "\n",
       "        OOB estimate of  error rate: 15.38%\n",
       "Confusion matrix:\n",
       "                    Isolated Rural (4) Mostly Rural (3) Rural and Urban (2)\n",
       "Isolated Rural (4)                  11                1                   2\n",
       "Mostly Rural (3)                     1               30                   4\n",
       "Rural and Urban (2)                  0                0                  26\n",
       "Urban (1)                            0                2                   4\n",
       "                    Urban (1) class.error\n",
       "Isolated Rural (4)          0   0.2142857\n",
       "Mostly Rural (3)            0   0.1428571\n",
       "Rural and Urban (2)         0   0.0000000\n",
       "Urban (1)                  10   0.3750000"
      ]
     },
     "metadata": {},
     "output_type": "display_data"
    },
    {
     "data": {
      "text/plain": [
       "\n",
       "Call:\n",
       " randomForest(formula = data_train$ATTRIBUTE_UrbScore ~ ., data = data_train[,      6:1005], importance = TRUE, ntree = 5000, na.omit = TRUE,      strata = top1000$ATTRIBUTE_UrbScore, sampsize = rep(min(table(top1000$ATTRIBUTE_UrbScore)),          nlevels(top1000$ATTRIBUTE_UrbScore))) \n",
       "               Type of random forest: classification\n",
       "                     Number of trees: 5000\n",
       "No. of variables tried at each split: 31\n",
       "\n",
       "        OOB estimate of  error rate: 15.38%\n",
       "Confusion matrix:\n",
       "                    Isolated Rural (4) Mostly Rural (3) Rural and Urban (2)\n",
       "Isolated Rural (4)                  11                1                   2\n",
       "Mostly Rural (3)                     1               30                   4\n",
       "Rural and Urban (2)                  0                0                  26\n",
       "Urban (1)                            0                2                   4\n",
       "                    Urban (1) class.error\n",
       "Isolated Rural (4)          0   0.2142857\n",
       "Mostly Rural (3)            0   0.1428571\n",
       "Rural and Urban (2)         0   0.0000000\n",
       "Urban (1)                  10   0.3750000"
      ]
     },
     "metadata": {},
     "output_type": "display_data"
    },
    {
     "data": {
      "text/plain": [
       "\n",
       "Call:\n",
       " randomForest(formula = data_train$ATTRIBUTE_UrbScore ~ ., data = data_train[,      6:1005], importance = TRUE, ntree = 5000, na.omit = TRUE,      strata = top1000$ATTRIBUTE_UrbScore, sampsize = rep(min(table(top1000$ATTRIBUTE_UrbScore)),          nlevels(top1000$ATTRIBUTE_UrbScore))) \n",
       "               Type of random forest: classification\n",
       "                     Number of trees: 5000\n",
       "No. of variables tried at each split: 31\n",
       "\n",
       "        OOB estimate of  error rate: 14.29%\n",
       "Confusion matrix:\n",
       "                    Isolated Rural (4) Mostly Rural (3) Rural and Urban (2)\n",
       "Isolated Rural (4)                  11                1                   2\n",
       "Mostly Rural (3)                     1               30                   4\n",
       "Rural and Urban (2)                  0                0                  26\n",
       "Urban (1)                            0                1                   4\n",
       "                    Urban (1) class.error\n",
       "Isolated Rural (4)          0   0.2142857\n",
       "Mostly Rural (3)            0   0.1428571\n",
       "Rural and Urban (2)         0   0.0000000\n",
       "Urban (1)                  11   0.3125000"
      ]
     },
     "metadata": {},
     "output_type": "display_data"
    },
    {
     "data": {
      "text/plain": [
       "\n",
       "Call:\n",
       " randomForest(formula = data_train$ATTRIBUTE_UrbScore ~ ., data = data_train[,      6:1005], importance = TRUE, ntree = 5000, na.omit = TRUE,      strata = top1000$ATTRIBUTE_UrbScore, sampsize = rep(min(table(top1000$ATTRIBUTE_UrbScore)),          nlevels(top1000$ATTRIBUTE_UrbScore))) \n",
       "               Type of random forest: classification\n",
       "                     Number of trees: 5000\n",
       "No. of variables tried at each split: 31\n",
       "\n",
       "        OOB estimate of  error rate: 14.29%\n",
       "Confusion matrix:\n",
       "                    Isolated Rural (4) Mostly Rural (3) Rural and Urban (2)\n",
       "Isolated Rural (4)                  11                1                   2\n",
       "Mostly Rural (3)                     1               30                   4\n",
       "Rural and Urban (2)                  0                0                  26\n",
       "Urban (1)                            0                1                   4\n",
       "                    Urban (1) class.error\n",
       "Isolated Rural (4)          0   0.2142857\n",
       "Mostly Rural (3)            0   0.1428571\n",
       "Rural and Urban (2)         0   0.0000000\n",
       "Urban (1)                  11   0.3125000"
      ]
     },
     "metadata": {},
     "output_type": "display_data"
    },
    {
     "data": {
      "text/plain": [
       "\n",
       "Call:\n",
       " randomForest(formula = data_train$ATTRIBUTE_UrbScore ~ ., data = data_train[,      6:1005], importance = TRUE, ntree = 5000, na.omit = TRUE,      strata = top1000$ATTRIBUTE_UrbScore, sampsize = rep(min(table(top1000$ATTRIBUTE_UrbScore)),          nlevels(top1000$ATTRIBUTE_UrbScore))) \n",
       "               Type of random forest: classification\n",
       "                     Number of trees: 5000\n",
       "No. of variables tried at each split: 31\n",
       "\n",
       "        OOB estimate of  error rate: 14.29%\n",
       "Confusion matrix:\n",
       "                    Isolated Rural (4) Mostly Rural (3) Rural and Urban (2)\n",
       "Isolated Rural (4)                  11                1                   2\n",
       "Mostly Rural (3)                     1               30                   4\n",
       "Rural and Urban (2)                  0                0                  26\n",
       "Urban (1)                            0                1                   4\n",
       "                    Urban (1) class.error\n",
       "Isolated Rural (4)          0   0.2142857\n",
       "Mostly Rural (3)            0   0.1428571\n",
       "Rural and Urban (2)         0   0.0000000\n",
       "Urban (1)                  11   0.3125000"
      ]
     },
     "metadata": {},
     "output_type": "display_data"
    },
    {
     "data": {
      "text/plain": [
       "\n",
       "Call:\n",
       " randomForest(formula = data_train$ATTRIBUTE_UrbScore ~ ., data = data_train[,      6:1005], importance = TRUE, ntree = 5000, na.omit = TRUE,      strata = top1000$ATTRIBUTE_UrbScore, sampsize = rep(min(table(top1000$ATTRIBUTE_UrbScore)),          nlevels(top1000$ATTRIBUTE_UrbScore))) \n",
       "               Type of random forest: classification\n",
       "                     Number of trees: 5000\n",
       "No. of variables tried at each split: 31\n",
       "\n",
       "        OOB estimate of  error rate: 14.29%\n",
       "Confusion matrix:\n",
       "                    Isolated Rural (4) Mostly Rural (3) Rural and Urban (2)\n",
       "Isolated Rural (4)                  11                1                   2\n",
       "Mostly Rural (3)                     1               30                   4\n",
       "Rural and Urban (2)                  0                0                  26\n",
       "Urban (1)                            0                1                   4\n",
       "                    Urban (1) class.error\n",
       "Isolated Rural (4)          0   0.2142857\n",
       "Mostly Rural (3)            0   0.1428571\n",
       "Rural and Urban (2)         0   0.0000000\n",
       "Urban (1)                  11   0.3125000"
      ]
     },
     "metadata": {},
     "output_type": "display_data"
    },
    {
     "data": {
      "text/plain": [
       "\n",
       "Call:\n",
       " randomForest(formula = data_train$ATTRIBUTE_UrbScore ~ ., data = data_train[,      6:1005], importance = TRUE, ntree = 5000, na.omit = TRUE,      strata = top1000$ATTRIBUTE_UrbScore, sampsize = rep(min(table(top1000$ATTRIBUTE_UrbScore)),          nlevels(top1000$ATTRIBUTE_UrbScore))) \n",
       "               Type of random forest: classification\n",
       "                     Number of trees: 5000\n",
       "No. of variables tried at each split: 31\n",
       "\n",
       "        OOB estimate of  error rate: 15.38%\n",
       "Confusion matrix:\n",
       "                    Isolated Rural (4) Mostly Rural (3) Rural and Urban (2)\n",
       "Isolated Rural (4)                  11                1                   2\n",
       "Mostly Rural (3)                     1               30                   4\n",
       "Rural and Urban (2)                  0                0                  26\n",
       "Urban (1)                            0                2                   4\n",
       "                    Urban (1) class.error\n",
       "Isolated Rural (4)          0   0.2142857\n",
       "Mostly Rural (3)            0   0.1428571\n",
       "Rural and Urban (2)         0   0.0000000\n",
       "Urban (1)                  10   0.3750000"
      ]
     },
     "metadata": {},
     "output_type": "display_data"
    },
    {
     "data": {
      "text/plain": [
       "\n",
       "Call:\n",
       " randomForest(formula = data_train$ATTRIBUTE_UrbScore ~ ., data = data_train[,      6:1005], importance = TRUE, ntree = 5000, na.omit = TRUE,      strata = top1000$ATTRIBUTE_UrbScore, sampsize = rep(min(table(top1000$ATTRIBUTE_UrbScore)),          nlevels(top1000$ATTRIBUTE_UrbScore))) \n",
       "               Type of random forest: classification\n",
       "                     Number of trees: 5000\n",
       "No. of variables tried at each split: 31\n",
       "\n",
       "        OOB estimate of  error rate: 14.29%\n",
       "Confusion matrix:\n",
       "                    Isolated Rural (4) Mostly Rural (3) Rural and Urban (2)\n",
       "Isolated Rural (4)                  11                1                   2\n",
       "Mostly Rural (3)                     1               30                   4\n",
       "Rural and Urban (2)                  0                0                  26\n",
       "Urban (1)                            0                1                   4\n",
       "                    Urban (1) class.error\n",
       "Isolated Rural (4)          0   0.2142857\n",
       "Mostly Rural (3)            0   0.1428571\n",
       "Rural and Urban (2)         0   0.0000000\n",
       "Urban (1)                  11   0.3125000"
      ]
     },
     "metadata": {},
     "output_type": "display_data"
    },
    {
     "data": {
      "text/plain": [
       "\n",
       "Call:\n",
       " randomForest(formula = data_train$ATTRIBUTE_UrbScore ~ ., data = data_train[,      6:1005], importance = TRUE, ntree = 5000, na.omit = TRUE,      strata = top1000$ATTRIBUTE_UrbScore, sampsize = rep(min(table(top1000$ATTRIBUTE_UrbScore)),          nlevels(top1000$ATTRIBUTE_UrbScore))) \n",
       "               Type of random forest: classification\n",
       "                     Number of trees: 5000\n",
       "No. of variables tried at each split: 31\n",
       "\n",
       "        OOB estimate of  error rate: 14.29%\n",
       "Confusion matrix:\n",
       "                    Isolated Rural (4) Mostly Rural (3) Rural and Urban (2)\n",
       "Isolated Rural (4)                  11                1                   2\n",
       "Mostly Rural (3)                     1               30                   4\n",
       "Rural and Urban (2)                  0                0                  26\n",
       "Urban (1)                            0                1                   4\n",
       "                    Urban (1) class.error\n",
       "Isolated Rural (4)          0   0.2142857\n",
       "Mostly Rural (3)            0   0.1428571\n",
       "Rural and Urban (2)         0   0.0000000\n",
       "Urban (1)                  11   0.3125000"
      ]
     },
     "metadata": {},
     "output_type": "display_data"
    },
    {
     "data": {
      "text/plain": [
       "\n",
       "Call:\n",
       " randomForest(formula = data_train$ATTRIBUTE_UrbScore ~ ., data = data_train[,      6:1005], importance = TRUE, ntree = 5000, na.omit = TRUE,      strata = top1000$ATTRIBUTE_UrbScore, sampsize = rep(min(table(top1000$ATTRIBUTE_UrbScore)),          nlevels(top1000$ATTRIBUTE_UrbScore))) \n",
       "               Type of random forest: classification\n",
       "                     Number of trees: 5000\n",
       "No. of variables tried at each split: 31\n",
       "\n",
       "        OOB estimate of  error rate: 15.38%\n",
       "Confusion matrix:\n",
       "                    Isolated Rural (4) Mostly Rural (3) Rural and Urban (2)\n",
       "Isolated Rural (4)                  11                1                   2\n",
       "Mostly Rural (3)                     1               30                   4\n",
       "Rural and Urban (2)                  0                0                  26\n",
       "Urban (1)                            0                2                   4\n",
       "                    Urban (1) class.error\n",
       "Isolated Rural (4)          0   0.2142857\n",
       "Mostly Rural (3)            0   0.1428571\n",
       "Rural and Urban (2)         0   0.0000000\n",
       "Urban (1)                  10   0.3750000"
      ]
     },
     "metadata": {},
     "output_type": "display_data"
    },
    {
     "data": {
      "text/plain": [
       "\n",
       "Call:\n",
       " randomForest(formula = data_train$ATTRIBUTE_UrbScore ~ ., data = data_train[,      6:1005], importance = TRUE, ntree = 5000, na.omit = TRUE,      strata = top1000$ATTRIBUTE_UrbScore, sampsize = rep(min(table(top1000$ATTRIBUTE_UrbScore)),          nlevels(top1000$ATTRIBUTE_UrbScore))) \n",
       "               Type of random forest: classification\n",
       "                     Number of trees: 5000\n",
       "No. of variables tried at each split: 31\n",
       "\n",
       "        OOB estimate of  error rate: 14.29%\n",
       "Confusion matrix:\n",
       "                    Isolated Rural (4) Mostly Rural (3) Rural and Urban (2)\n",
       "Isolated Rural (4)                  11                1                   2\n",
       "Mostly Rural (3)                     1               30                   4\n",
       "Rural and Urban (2)                  0                0                  26\n",
       "Urban (1)                            0                1                   4\n",
       "                    Urban (1) class.error\n",
       "Isolated Rural (4)          0   0.2142857\n",
       "Mostly Rural (3)            0   0.1428571\n",
       "Rural and Urban (2)         0   0.0000000\n",
       "Urban (1)                  11   0.3125000"
      ]
     },
     "metadata": {},
     "output_type": "display_data"
    },
    {
     "data": {
      "text/plain": [
       "\n",
       "Call:\n",
       " randomForest(formula = data_train$ATTRIBUTE_UrbScore ~ ., data = data_train[,      6:1005], importance = TRUE, ntree = 5000, na.omit = TRUE,      strata = top1000$ATTRIBUTE_UrbScore, sampsize = rep(min(table(top1000$ATTRIBUTE_UrbScore)),          nlevels(top1000$ATTRIBUTE_UrbScore))) \n",
       "               Type of random forest: classification\n",
       "                     Number of trees: 5000\n",
       "No. of variables tried at each split: 31\n",
       "\n",
       "        OOB estimate of  error rate: 14.29%\n",
       "Confusion matrix:\n",
       "                    Isolated Rural (4) Mostly Rural (3) Rural and Urban (2)\n",
       "Isolated Rural (4)                  11                1                   2\n",
       "Mostly Rural (3)                     1               30                   4\n",
       "Rural and Urban (2)                  0                0                  26\n",
       "Urban (1)                            0                1                   4\n",
       "                    Urban (1) class.error\n",
       "Isolated Rural (4)          0   0.2142857\n",
       "Mostly Rural (3)            0   0.1428571\n",
       "Rural and Urban (2)         0   0.0000000\n",
       "Urban (1)                  11   0.3125000"
      ]
     },
     "metadata": {},
     "output_type": "display_data"
    },
    {
     "data": {
      "text/plain": [
       "\n",
       "Call:\n",
       " randomForest(formula = data_train$ATTRIBUTE_UrbScore ~ ., data = data_train[,      6:1005], importance = TRUE, ntree = 5000, na.omit = TRUE,      strata = top1000$ATTRIBUTE_UrbScore, sampsize = rep(min(table(top1000$ATTRIBUTE_UrbScore)),          nlevels(top1000$ATTRIBUTE_UrbScore))) \n",
       "               Type of random forest: classification\n",
       "                     Number of trees: 5000\n",
       "No. of variables tried at each split: 31\n",
       "\n",
       "        OOB estimate of  error rate: 14.29%\n",
       "Confusion matrix:\n",
       "                    Isolated Rural (4) Mostly Rural (3) Rural and Urban (2)\n",
       "Isolated Rural (4)                  11                1                   2\n",
       "Mostly Rural (3)                     1               30                   4\n",
       "Rural and Urban (2)                  0                0                  26\n",
       "Urban (1)                            0                1                   4\n",
       "                    Urban (1) class.error\n",
       "Isolated Rural (4)          0   0.2142857\n",
       "Mostly Rural (3)            0   0.1428571\n",
       "Rural and Urban (2)         0   0.0000000\n",
       "Urban (1)                  11   0.3125000"
      ]
     },
     "metadata": {},
     "output_type": "display_data"
    }
   ],
   "source": [
    "rf_5000trees_rep1 <- randomForest(data_train$ATTRIBUTE_UrbScore~., data=data_train[,6:1005],importance=TRUE,ntree=5000,na.omit=TRUE,strata=top1000$ATTRIBUTE_UrbScore, sampsize=rep(min(table(top1000$ATTRIBUTE_UrbScore)),nlevels(top1000$ATTRIBUTE_UrbScore)))\n",
    "rf_5000trees_rep1\n",
    "rf_5000trees_rep2 <- randomForest(data_train$ATTRIBUTE_UrbScore~., data=data_train[,6:1005],importance=TRUE,ntree=5000,na.omit=TRUE,strata=top1000$ATTRIBUTE_UrbScore, sampsize=rep(min(table(top1000$ATTRIBUTE_UrbScore)),nlevels(top1000$ATTRIBUTE_UrbScore)))\n",
    "rf_5000trees_rep2\n",
    "rf_5000trees_rep3 <- randomForest(data_train$ATTRIBUTE_UrbScore~., data=data_train[,6:1005],importance=TRUE,ntree=5000,na.omit=TRUE,strata=top1000$ATTRIBUTE_UrbScore, sampsize=rep(min(table(top1000$ATTRIBUTE_UrbScore)),nlevels(top1000$ATTRIBUTE_UrbScore)))\n",
    "rf_5000trees_rep3\n",
    "rf_5000trees_rep4 <- randomForest(data_train$ATTRIBUTE_UrbScore~., data=data_train[,6:1005],importance=TRUE,ntree=5000,na.omit=TRUE,strata=top1000$ATTRIBUTE_UrbScore, sampsize=rep(min(table(top1000$ATTRIBUTE_UrbScore)),nlevels(top1000$ATTRIBUTE_UrbScore)))\n",
    "rf_5000trees_rep4\n",
    "rf_5000trees_rep5 <- randomForest(data_train$ATTRIBUTE_UrbScore~., data=data_train[,6:1005],importance=TRUE,ntree=5000,na.omit=TRUE,strata=top1000$ATTRIBUTE_UrbScore, sampsize=rep(min(table(top1000$ATTRIBUTE_UrbScore)),nlevels(top1000$ATTRIBUTE_UrbScore)))\n",
    "rf_5000trees_rep5\n",
    "rf_5000trees_rep6 <- randomForest(data_train$ATTRIBUTE_UrbScore~., data=data_train[,6:1005],importance=TRUE,ntree=5000,na.omit=TRUE,strata=top1000$ATTRIBUTE_UrbScore, sampsize=rep(min(table(top1000$ATTRIBUTE_UrbScore)),nlevels(top1000$ATTRIBUTE_UrbScore)))\n",
    "rf_5000trees_rep6\n",
    "rf_5000trees_rep7 <- randomForest(data_train$ATTRIBUTE_UrbScore~., data=data_train[,6:1005],importance=TRUE,ntree=5000,na.omit=TRUE,strata=top1000$ATTRIBUTE_UrbScore, sampsize=rep(min(table(top1000$ATTRIBUTE_UrbScore)),nlevels(top1000$ATTRIBUTE_UrbScore)))\n",
    "rf_5000trees_rep7\n",
    "rf_5000trees_rep8 <- randomForest(data_train$ATTRIBUTE_UrbScore~., data=data_train[,6:1005],importance=TRUE,ntree=5000,na.omit=TRUE,strata=top1000$ATTRIBUTE_UrbScore, sampsize=rep(min(table(top1000$ATTRIBUTE_UrbScore)),nlevels(top1000$ATTRIBUTE_UrbScore)))\n",
    "rf_5000trees_rep8\n",
    "rf_5000trees_rep9 <- randomForest(data_train$ATTRIBUTE_UrbScore~., data=data_train[,6:1005],importance=TRUE,ntree=5000,na.omit=TRUE,strata=top1000$ATTRIBUTE_UrbScore, sampsize=rep(min(table(top1000$ATTRIBUTE_UrbScore)),nlevels(top1000$ATTRIBUTE_UrbScore)))\n",
    "rf_5000trees_rep9\n",
    "rf_5000trees_rep10 <- randomForest(data_train$ATTRIBUTE_UrbScore~., data=data_train[,6:1005],importance=TRUE,ntree=5000,na.omit=TRUE,strata=top1000$ATTRIBUTE_UrbScore, sampsize=rep(min(table(top1000$ATTRIBUTE_UrbScore)),nlevels(top1000$ATTRIBUTE_UrbScore)))\n",
    "rf_5000trees_rep10\n",
    "rf_5000trees_rep11 <- randomForest(data_train$ATTRIBUTE_UrbScore~., data=data_train[,6:1005],importance=TRUE,ntree=5000,na.omit=TRUE,strata=top1000$ATTRIBUTE_UrbScore, sampsize=rep(min(table(top1000$ATTRIBUTE_UrbScore)),nlevels(top1000$ATTRIBUTE_UrbScore)))\n",
    "rf_5000trees_rep11\n",
    "rf_5000trees_rep12 <- randomForest(data_train$ATTRIBUTE_UrbScore~., data=data_train[,6:1005],importance=TRUE,ntree=5000,na.omit=TRUE,strata=top1000$ATTRIBUTE_UrbScore, sampsize=rep(min(table(top1000$ATTRIBUTE_UrbScore)),nlevels(top1000$ATTRIBUTE_UrbScore)))\n",
    "rf_5000trees_rep12\n",
    "rf_5000trees_rep13 <- randomForest(data_train$ATTRIBUTE_UrbScore~., data=data_train[,6:1005],importance=TRUE,ntree=5000,na.omit=TRUE,strata=top1000$ATTRIBUTE_UrbScore, sampsize=rep(min(table(top1000$ATTRIBUTE_UrbScore)),nlevels(top1000$ATTRIBUTE_UrbScore)))\n",
    "rf_5000trees_rep13\n",
    "rf_5000trees_rep14 <- randomForest(data_train$ATTRIBUTE_UrbScore~., data=data_train[,6:1005],importance=TRUE,ntree=5000,na.omit=TRUE,strata=top1000$ATTRIBUTE_UrbScore, sampsize=rep(min(table(top1000$ATTRIBUTE_UrbScore)),nlevels(top1000$ATTRIBUTE_UrbScore)))\n",
    "rf_5000trees_rep14\n",
    "rf_5000trees_rep15 <- randomForest(data_train$ATTRIBUTE_UrbScore~., data=data_train[,6:1005],importance=TRUE,ntree=5000,na.omit=TRUE,strata=top1000$ATTRIBUTE_UrbScore, sampsize=rep(min(table(top1000$ATTRIBUTE_UrbScore)),nlevels(top1000$ATTRIBUTE_UrbScore)))\n",
    "rf_5000trees_rep15\n",
    "rf_5000trees_rep16 <- randomForest(data_train$ATTRIBUTE_UrbScore~., data=data_train[,6:1005],importance=TRUE,ntree=5000,na.omit=TRUE,strata=top1000$ATTRIBUTE_UrbScore, sampsize=rep(min(table(top1000$ATTRIBUTE_UrbScore)),nlevels(top1000$ATTRIBUTE_UrbScore)))\n",
    "rf_5000trees_rep16\n",
    "rf_5000trees_rep17 <- randomForest(data_train$ATTRIBUTE_UrbScore~., data=data_train[,6:1005],importance=TRUE,ntree=5000,na.omit=TRUE,strata=top1000$ATTRIBUTE_UrbScore, sampsize=rep(min(table(top1000$ATTRIBUTE_UrbScore)),nlevels(top1000$ATTRIBUTE_UrbScore)))\n",
    "rf_5000trees_rep17\n",
    "rf_5000trees_rep18 <- randomForest(data_train$ATTRIBUTE_UrbScore~., data=data_train[,6:1005],importance=TRUE,ntree=5000,na.omit=TRUE,strata=top1000$ATTRIBUTE_UrbScore, sampsize=rep(min(table(top1000$ATTRIBUTE_UrbScore)),nlevels(top1000$ATTRIBUTE_UrbScore)))\n",
    "rf_5000trees_rep18\n",
    "rf_5000trees_rep19 <- randomForest(data_train$ATTRIBUTE_UrbScore~., data=data_train[,6:1005],importance=TRUE,ntree=5000,na.omit=TRUE,strata=top1000$ATTRIBUTE_UrbScore, sampsize=rep(min(table(top1000$ATTRIBUTE_UrbScore)),nlevels(top1000$ATTRIBUTE_UrbScore)))\n",
    "rf_5000trees_rep19\n",
    "rf_5000trees_rep20 <- randomForest(data_train$ATTRIBUTE_UrbScore~., data=data_train[,6:1005],importance=TRUE,ntree=5000,na.omit=TRUE,strata=top1000$ATTRIBUTE_UrbScore, sampsize=rep(min(table(top1000$ATTRIBUTE_UrbScore)),nlevels(top1000$ATTRIBUTE_UrbScore)))\n",
    "rf_5000trees_rep20"
   ]
  },
  {
   "cell_type": "code",
   "execution_count": 27,
   "metadata": {
    "scrolled": true
   },
   "outputs": [
    {
     "data": {
      "text/plain": [
       "\n",
       "Call:\n",
       " randomForest(formula = data_train$ATTRIBUTE_UrbScore ~ ., data = data_train[,      6:1005], importance = TRUE, ntree = 200, na.omit = TRUE,      strata = top1000$ATTRIBUTE_UrbScore, sampsize = rep(min(table(top1000$ATTRIBUTE_UrbScore)),          nlevels(top1000$ATTRIBUTE_UrbScore))) \n",
       "               Type of random forest: classification\n",
       "                     Number of trees: 200\n",
       "No. of variables tried at each split: 31\n",
       "\n",
       "        OOB estimate of  error rate: 12.09%\n",
       "Confusion matrix:\n",
       "                    Isolated Rural (4) Mostly Rural (3) Rural and Urban (2)\n",
       "Isolated Rural (4)                  13                0                   1\n",
       "Mostly Rural (3)                     1               30                   4\n",
       "Rural and Urban (2)                  0                0                  26\n",
       "Urban (1)                            0                1                   4\n",
       "                    Urban (1) class.error\n",
       "Isolated Rural (4)          0  0.07142857\n",
       "Mostly Rural (3)            0  0.14285714\n",
       "Rural and Urban (2)         0  0.00000000\n",
       "Urban (1)                  11  0.31250000"
      ]
     },
     "metadata": {},
     "output_type": "display_data"
    }
   ],
   "source": [
    "###200 trees starts the plateau -- 100 trees had too many high OOB errors and 300 was more consistent with 200. Everything after 200 just narrows the range of OOB, but 200 represents when the ranges plateaued and had the rep with the smallest OOB.\n",
    "rf_200trees_rep16"
   ]
  },
  {
   "cell_type": "code",
   "execution_count": 37,
   "metadata": {},
   "outputs": [],
   "source": [
    "write.csv(rf_200trees_rep16$importance,\"RF_200trees_Rep16_top1000.csv\")\n",
    "###Open in Excel, sort descending by MeanDecreaseGini (Mean Decrease Gini refers to how important a variable is for estimating the target variable across all trees -- the higher the MeanDecreaseGini, the higher the mean variable importance)"
   ]
  },
  {
   "cell_type": "code",
   "execution_count": 30,
   "metadata": {},
   "outputs": [],
   "source": [
    "###Now we need to test the model.\n",
    "predicted_train <- predict(rf_200trees_rep16,newdata=data_train[,6:1005])"
   ]
  },
  {
   "cell_type": "code",
   "execution_count": 31,
   "metadata": {},
   "outputs": [],
   "source": [
    "actual_train <- data_train$ATTRIBUTE_UrbScore"
   ]
  },
  {
   "cell_type": "code",
   "execution_count": 32,
   "metadata": {},
   "outputs": [
    {
     "data": {
      "text/html": [
       "<style>\n",
       ".dl-inline {width: auto; margin:0; padding: 0}\n",
       ".dl-inline>dt, .dl-inline>dd {float: none; width: auto; display: inline-block}\n",
       ".dl-inline>dt::after {content: \":\\0020\"; padding-right: .5ex}\n",
       ".dl-inline>dt:not(:first-of-type) {padding-left: .5ex}\n",
       "</style><dl class=dl-inline><dt>1</dt><dd>Mostly Rural (3)</dd><dt>2</dt><dd>Mostly Rural (3)</dd><dt>3</dt><dd>Mostly Rural (3)</dd><dt>5</dt><dd>Mostly Rural (3)</dd><dt>6</dt><dd>Mostly Rural (3)</dd><dt>8</dt><dd>Mostly Rural (3)</dd><dt>10</dt><dd>Mostly Rural (3)</dd><dt>11</dt><dd>Mostly Rural (3)</dd><dt>12</dt><dd>Rural and Urban (2)</dd><dt>13</dt><dd>Rural and Urban (2)</dd><dt>14</dt><dd>Rural and Urban (2)</dd><dt>15</dt><dd>Rural and Urban (2)</dd><dt>16</dt><dd>Rural and Urban (2)</dd><dt>17</dt><dd>Rural and Urban (2)</dd><dt>18</dt><dd>Rural and Urban (2)</dd><dt>19</dt><dd>Rural and Urban (2)</dd><dt>20</dt><dd>Rural and Urban (2)</dd><dt>21</dt><dd>Rural and Urban (2)</dd><dt>23</dt><dd>Rural and Urban (2)</dd><dt>24</dt><dd>Rural and Urban (2)</dd><dt>25</dt><dd>Mostly Rural (3)</dd><dt>26</dt><dd>Mostly Rural (3)</dd><dt>28</dt><dd>Mostly Rural (3)</dd><dt>29</dt><dd>Mostly Rural (3)</dd><dt>30</dt><dd>Mostly Rural (3)</dd><dt>31</dt><dd>Mostly Rural (3)</dd><dt>32</dt><dd>Mostly Rural (3)</dd><dt>33</dt><dd>Mostly Rural (3)</dd><dt>34</dt><dd>Mostly Rural (3)</dd><dt>35</dt><dd>Mostly Rural (3)</dd><dt>36</dt><dd>Mostly Rural (3)</dd><dt>37</dt><dd>Mostly Rural (3)</dd><dt>38</dt><dd>Mostly Rural (3)</dd><dt>39</dt><dd>Mostly Rural (3)</dd><dt>40</dt><dd>Mostly Rural (3)</dd><dt>42</dt><dd>Mostly Rural (3)</dd><dt>43</dt><dd>Mostly Rural (3)</dd><dt>45</dt><dd>Mostly Rural (3)</dd><dt>46</dt><dd>Mostly Rural (3)</dd><dt>47</dt><dd>Mostly Rural (3)</dd><dt>48</dt><dd>Mostly Rural (3)</dd><dt>49</dt><dd>Mostly Rural (3)</dd><dt>50</dt><dd>Mostly Rural (3)</dd><dt>51</dt><dd>Mostly Rural (3)</dd><dt>52</dt><dd>Mostly Rural (3)</dd><dt>53</dt><dd>Mostly Rural (3)</dd><dt>54</dt><dd>Mostly Rural (3)</dd><dt>55</dt><dd>Urban (1)</dd><dt>56</dt><dd>Urban (1)</dd><dt>57</dt><dd>Urban (1)</dd><dt>58</dt><dd>Urban (1)</dd><dt>59</dt><dd>Urban (1)</dd><dt>60</dt><dd>Urban (1)</dd><dt>61</dt><dd>Urban (1)</dd><dt>63</dt><dd>Urban (1)</dd><dt>64</dt><dd>Urban (1)</dd><dt>66</dt><dd>Urban (1)</dd><dt>67</dt><dd>Urban (1)</dd><dt>68</dt><dd>Urban (1)</dd><dt>69</dt><dd>Urban (1)</dd><dt>70</dt><dd>Urban (1)</dd><dt>71</dt><dd>Urban (1)</dd><dt>72</dt><dd>Urban (1)</dd><dt>74</dt><dd>Isolated Rural (4)</dd><dt>75</dt><dd>Isolated Rural (4)</dd><dt>76</dt><dd>Isolated Rural (4)</dd><dt>77</dt><dd>Isolated Rural (4)</dd><dt>78</dt><dd>Isolated Rural (4)</dd><dt>79</dt><dd>Isolated Rural (4)</dd><dt>81</dt><dd>Isolated Rural (4)</dd><dt>82</dt><dd>Isolated Rural (4)</dd><dt>83</dt><dd>Isolated Rural (4)</dd><dt>84</dt><dd>Isolated Rural (4)</dd><dt>85</dt><dd>Isolated Rural (4)</dd><dt>86</dt><dd>Isolated Rural (4)</dd><dt>87</dt><dd>Isolated Rural (4)</dd><dt>88</dt><dd>Isolated Rural (4)</dd><dt>89</dt><dd>Rural and Urban (2)</dd><dt>90</dt><dd>Rural and Urban (2)</dd><dt>93</dt><dd>Rural and Urban (2)</dd><dt>94</dt><dd>Rural and Urban (2)</dd><dt>95</dt><dd>Rural and Urban (2)</dd><dt>96</dt><dd>Rural and Urban (2)</dd><dt>97</dt><dd>Rural and Urban (2)</dd><dt>98</dt><dd>Rural and Urban (2)</dd><dt>100</dt><dd>Rural and Urban (2)</dd><dt>101</dt><dd>Rural and Urban (2)</dd><dt>102</dt><dd>Rural and Urban (2)</dd><dt>103</dt><dd>Rural and Urban (2)</dd><dt>104</dt><dd>Rural and Urban (2)</dd><dt>105</dt><dd>Rural and Urban (2)</dd></dl>\n",
       "\n",
       "<details>\n",
       "\t<summary style=display:list-item;cursor:pointer>\n",
       "\t\t<strong>Levels</strong>:\n",
       "\t</summary>\n",
       "\t<style>\n",
       "\t.list-inline {list-style: none; margin:0; padding: 0}\n",
       "\t.list-inline>li {display: inline-block}\n",
       "\t.list-inline>li:not(:last-child)::after {content: \"\\00b7\"; padding: 0 .5ex}\n",
       "\t</style>\n",
       "\t<ol class=list-inline><li>'Isolated Rural (4)'</li><li>'Mostly Rural (3)'</li><li>'Rural and Urban (2)'</li><li>'Urban (1)'</li></ol>\n",
       "</details>"
      ],
      "text/latex": [
       "\\begin{description*}\n",
       "\\item[1] Mostly Rural (3)\n",
       "\\item[2] Mostly Rural (3)\n",
       "\\item[3] Mostly Rural (3)\n",
       "\\item[5] Mostly Rural (3)\n",
       "\\item[6] Mostly Rural (3)\n",
       "\\item[8] Mostly Rural (3)\n",
       "\\item[10] Mostly Rural (3)\n",
       "\\item[11] Mostly Rural (3)\n",
       "\\item[12] Rural and Urban (2)\n",
       "\\item[13] Rural and Urban (2)\n",
       "\\item[14] Rural and Urban (2)\n",
       "\\item[15] Rural and Urban (2)\n",
       "\\item[16] Rural and Urban (2)\n",
       "\\item[17] Rural and Urban (2)\n",
       "\\item[18] Rural and Urban (2)\n",
       "\\item[19] Rural and Urban (2)\n",
       "\\item[20] Rural and Urban (2)\n",
       "\\item[21] Rural and Urban (2)\n",
       "\\item[23] Rural and Urban (2)\n",
       "\\item[24] Rural and Urban (2)\n",
       "\\item[25] Mostly Rural (3)\n",
       "\\item[26] Mostly Rural (3)\n",
       "\\item[28] Mostly Rural (3)\n",
       "\\item[29] Mostly Rural (3)\n",
       "\\item[30] Mostly Rural (3)\n",
       "\\item[31] Mostly Rural (3)\n",
       "\\item[32] Mostly Rural (3)\n",
       "\\item[33] Mostly Rural (3)\n",
       "\\item[34] Mostly Rural (3)\n",
       "\\item[35] Mostly Rural (3)\n",
       "\\item[36] Mostly Rural (3)\n",
       "\\item[37] Mostly Rural (3)\n",
       "\\item[38] Mostly Rural (3)\n",
       "\\item[39] Mostly Rural (3)\n",
       "\\item[40] Mostly Rural (3)\n",
       "\\item[42] Mostly Rural (3)\n",
       "\\item[43] Mostly Rural (3)\n",
       "\\item[45] Mostly Rural (3)\n",
       "\\item[46] Mostly Rural (3)\n",
       "\\item[47] Mostly Rural (3)\n",
       "\\item[48] Mostly Rural (3)\n",
       "\\item[49] Mostly Rural (3)\n",
       "\\item[50] Mostly Rural (3)\n",
       "\\item[51] Mostly Rural (3)\n",
       "\\item[52] Mostly Rural (3)\n",
       "\\item[53] Mostly Rural (3)\n",
       "\\item[54] Mostly Rural (3)\n",
       "\\item[55] Urban (1)\n",
       "\\item[56] Urban (1)\n",
       "\\item[57] Urban (1)\n",
       "\\item[58] Urban (1)\n",
       "\\item[59] Urban (1)\n",
       "\\item[60] Urban (1)\n",
       "\\item[61] Urban (1)\n",
       "\\item[63] Urban (1)\n",
       "\\item[64] Urban (1)\n",
       "\\item[66] Urban (1)\n",
       "\\item[67] Urban (1)\n",
       "\\item[68] Urban (1)\n",
       "\\item[69] Urban (1)\n",
       "\\item[70] Urban (1)\n",
       "\\item[71] Urban (1)\n",
       "\\item[72] Urban (1)\n",
       "\\item[74] Isolated Rural (4)\n",
       "\\item[75] Isolated Rural (4)\n",
       "\\item[76] Isolated Rural (4)\n",
       "\\item[77] Isolated Rural (4)\n",
       "\\item[78] Isolated Rural (4)\n",
       "\\item[79] Isolated Rural (4)\n",
       "\\item[81] Isolated Rural (4)\n",
       "\\item[82] Isolated Rural (4)\n",
       "\\item[83] Isolated Rural (4)\n",
       "\\item[84] Isolated Rural (4)\n",
       "\\item[85] Isolated Rural (4)\n",
       "\\item[86] Isolated Rural (4)\n",
       "\\item[87] Isolated Rural (4)\n",
       "\\item[88] Isolated Rural (4)\n",
       "\\item[89] Rural and Urban (2)\n",
       "\\item[90] Rural and Urban (2)\n",
       "\\item[93] Rural and Urban (2)\n",
       "\\item[94] Rural and Urban (2)\n",
       "\\item[95] Rural and Urban (2)\n",
       "\\item[96] Rural and Urban (2)\n",
       "\\item[97] Rural and Urban (2)\n",
       "\\item[98] Rural and Urban (2)\n",
       "\\item[100] Rural and Urban (2)\n",
       "\\item[101] Rural and Urban (2)\n",
       "\\item[102] Rural and Urban (2)\n",
       "\\item[103] Rural and Urban (2)\n",
       "\\item[104] Rural and Urban (2)\n",
       "\\item[105] Rural and Urban (2)\n",
       "\\end{description*}\n",
       "\n",
       "\\emph{Levels}: \\begin{enumerate*}\n",
       "\\item 'Isolated Rural (4)'\n",
       "\\item 'Mostly Rural (3)'\n",
       "\\item 'Rural and Urban (2)'\n",
       "\\item 'Urban (1)'\n",
       "\\end{enumerate*}\n"
      ],
      "text/markdown": [
       "1\n",
       ":   Mostly Rural (3)2\n",
       ":   Mostly Rural (3)3\n",
       ":   Mostly Rural (3)5\n",
       ":   Mostly Rural (3)6\n",
       ":   Mostly Rural (3)8\n",
       ":   Mostly Rural (3)10\n",
       ":   Mostly Rural (3)11\n",
       ":   Mostly Rural (3)12\n",
       ":   Rural and Urban (2)13\n",
       ":   Rural and Urban (2)14\n",
       ":   Rural and Urban (2)15\n",
       ":   Rural and Urban (2)16\n",
       ":   Rural and Urban (2)17\n",
       ":   Rural and Urban (2)18\n",
       ":   Rural and Urban (2)19\n",
       ":   Rural and Urban (2)20\n",
       ":   Rural and Urban (2)21\n",
       ":   Rural and Urban (2)23\n",
       ":   Rural and Urban (2)24\n",
       ":   Rural and Urban (2)25\n",
       ":   Mostly Rural (3)26\n",
       ":   Mostly Rural (3)28\n",
       ":   Mostly Rural (3)29\n",
       ":   Mostly Rural (3)30\n",
       ":   Mostly Rural (3)31\n",
       ":   Mostly Rural (3)32\n",
       ":   Mostly Rural (3)33\n",
       ":   Mostly Rural (3)34\n",
       ":   Mostly Rural (3)35\n",
       ":   Mostly Rural (3)36\n",
       ":   Mostly Rural (3)37\n",
       ":   Mostly Rural (3)38\n",
       ":   Mostly Rural (3)39\n",
       ":   Mostly Rural (3)40\n",
       ":   Mostly Rural (3)42\n",
       ":   Mostly Rural (3)43\n",
       ":   Mostly Rural (3)45\n",
       ":   Mostly Rural (3)46\n",
       ":   Mostly Rural (3)47\n",
       ":   Mostly Rural (3)48\n",
       ":   Mostly Rural (3)49\n",
       ":   Mostly Rural (3)50\n",
       ":   Mostly Rural (3)51\n",
       ":   Mostly Rural (3)52\n",
       ":   Mostly Rural (3)53\n",
       ":   Mostly Rural (3)54\n",
       ":   Mostly Rural (3)55\n",
       ":   Urban (1)56\n",
       ":   Urban (1)57\n",
       ":   Urban (1)58\n",
       ":   Urban (1)59\n",
       ":   Urban (1)60\n",
       ":   Urban (1)61\n",
       ":   Urban (1)63\n",
       ":   Urban (1)64\n",
       ":   Urban (1)66\n",
       ":   Urban (1)67\n",
       ":   Urban (1)68\n",
       ":   Urban (1)69\n",
       ":   Urban (1)70\n",
       ":   Urban (1)71\n",
       ":   Urban (1)72\n",
       ":   Urban (1)74\n",
       ":   Isolated Rural (4)75\n",
       ":   Isolated Rural (4)76\n",
       ":   Isolated Rural (4)77\n",
       ":   Isolated Rural (4)78\n",
       ":   Isolated Rural (4)79\n",
       ":   Isolated Rural (4)81\n",
       ":   Isolated Rural (4)82\n",
       ":   Isolated Rural (4)83\n",
       ":   Isolated Rural (4)84\n",
       ":   Isolated Rural (4)85\n",
       ":   Isolated Rural (4)86\n",
       ":   Isolated Rural (4)87\n",
       ":   Isolated Rural (4)88\n",
       ":   Isolated Rural (4)89\n",
       ":   Rural and Urban (2)90\n",
       ":   Rural and Urban (2)93\n",
       ":   Rural and Urban (2)94\n",
       ":   Rural and Urban (2)95\n",
       ":   Rural and Urban (2)96\n",
       ":   Rural and Urban (2)97\n",
       ":   Rural and Urban (2)98\n",
       ":   Rural and Urban (2)100\n",
       ":   Rural and Urban (2)101\n",
       ":   Rural and Urban (2)102\n",
       ":   Rural and Urban (2)103\n",
       ":   Rural and Urban (2)104\n",
       ":   Rural and Urban (2)105\n",
       ":   Rural and Urban (2)\n",
       "\n",
       "\n",
       "**Levels**: 1. 'Isolated Rural (4)'\n",
       "2. 'Mostly Rural (3)'\n",
       "3. 'Rural and Urban (2)'\n",
       "4. 'Urban (1)'\n",
       "\n",
       "\n"
      ],
      "text/plain": [
       "                  1                   2                   3                   5 \n",
       "   Mostly Rural (3)    Mostly Rural (3)    Mostly Rural (3)    Mostly Rural (3) \n",
       "                  6                   8                  10                  11 \n",
       "   Mostly Rural (3)    Mostly Rural (3)    Mostly Rural (3)    Mostly Rural (3) \n",
       "                 12                  13                  14                  15 \n",
       "Rural and Urban (2) Rural and Urban (2) Rural and Urban (2) Rural and Urban (2) \n",
       "                 16                  17                  18                  19 \n",
       "Rural and Urban (2) Rural and Urban (2) Rural and Urban (2) Rural and Urban (2) \n",
       "                 20                  21                  23                  24 \n",
       "Rural and Urban (2) Rural and Urban (2) Rural and Urban (2) Rural and Urban (2) \n",
       "                 25                  26                  28                  29 \n",
       "   Mostly Rural (3)    Mostly Rural (3)    Mostly Rural (3)    Mostly Rural (3) \n",
       "                 30                  31                  32                  33 \n",
       "   Mostly Rural (3)    Mostly Rural (3)    Mostly Rural (3)    Mostly Rural (3) \n",
       "                 34                  35                  36                  37 \n",
       "   Mostly Rural (3)    Mostly Rural (3)    Mostly Rural (3)    Mostly Rural (3) \n",
       "                 38                  39                  40                  42 \n",
       "   Mostly Rural (3)    Mostly Rural (3)    Mostly Rural (3)    Mostly Rural (3) \n",
       "                 43                  45                  46                  47 \n",
       "   Mostly Rural (3)    Mostly Rural (3)    Mostly Rural (3)    Mostly Rural (3) \n",
       "                 48                  49                  50                  51 \n",
       "   Mostly Rural (3)    Mostly Rural (3)    Mostly Rural (3)    Mostly Rural (3) \n",
       "                 52                  53                  54                  55 \n",
       "   Mostly Rural (3)    Mostly Rural (3)    Mostly Rural (3)           Urban (1) \n",
       "                 56                  57                  58                  59 \n",
       "          Urban (1)           Urban (1)           Urban (1)           Urban (1) \n",
       "                 60                  61                  63                  64 \n",
       "          Urban (1)           Urban (1)           Urban (1)           Urban (1) \n",
       "                 66                  67                  68                  69 \n",
       "          Urban (1)           Urban (1)           Urban (1)           Urban (1) \n",
       "                 70                  71                  72                  74 \n",
       "          Urban (1)           Urban (1)           Urban (1)  Isolated Rural (4) \n",
       "                 75                  76                  77                  78 \n",
       " Isolated Rural (4)  Isolated Rural (4)  Isolated Rural (4)  Isolated Rural (4) \n",
       "                 79                  81                  82                  83 \n",
       " Isolated Rural (4)  Isolated Rural (4)  Isolated Rural (4)  Isolated Rural (4) \n",
       "                 84                  85                  86                  87 \n",
       " Isolated Rural (4)  Isolated Rural (4)  Isolated Rural (4)  Isolated Rural (4) \n",
       "                 88                  89                  90                  93 \n",
       " Isolated Rural (4) Rural and Urban (2) Rural and Urban (2) Rural and Urban (2) \n",
       "                 94                  95                  96                  97 \n",
       "Rural and Urban (2) Rural and Urban (2) Rural and Urban (2) Rural and Urban (2) \n",
       "                 98                 100                 101                 102 \n",
       "Rural and Urban (2) Rural and Urban (2) Rural and Urban (2) Rural and Urban (2) \n",
       "                103                 104                 105 \n",
       "Rural and Urban (2) Rural and Urban (2) Rural and Urban (2) \n",
       "4 Levels: Isolated Rural (4) Mostly Rural (3) ... Urban (1)"
      ]
     },
     "metadata": {},
     "output_type": "display_data"
    }
   ],
   "source": [
    "predicted_train"
   ]
  },
  {
   "cell_type": "code",
   "execution_count": 33,
   "metadata": {},
   "outputs": [
    {
     "data": {
      "text/html": [
       "<style>\n",
       ".list-inline {list-style: none; margin:0; padding: 0}\n",
       ".list-inline>li {display: inline-block}\n",
       ".list-inline>li:not(:last-child)::after {content: \"\\00b7\"; padding: 0 .5ex}\n",
       "</style>\n",
       "<ol class=list-inline><li>Mostly Rural (3)</li><li>Mostly Rural (3)</li><li>Mostly Rural (3)</li><li>Mostly Rural (3)</li><li>Mostly Rural (3)</li><li>Mostly Rural (3)</li><li>Mostly Rural (3)</li><li>Mostly Rural (3)</li><li>Rural and Urban (2)</li><li>Rural and Urban (2)</li><li>Rural and Urban (2)</li><li>Rural and Urban (2)</li><li>Rural and Urban (2)</li><li>Rural and Urban (2)</li><li>Rural and Urban (2)</li><li>Rural and Urban (2)</li><li>Rural and Urban (2)</li><li>Rural and Urban (2)</li><li>Rural and Urban (2)</li><li>Rural and Urban (2)</li><li>Mostly Rural (3)</li><li>Mostly Rural (3)</li><li>Mostly Rural (3)</li><li>Mostly Rural (3)</li><li>Mostly Rural (3)</li><li>Mostly Rural (3)</li><li>Mostly Rural (3)</li><li>Mostly Rural (3)</li><li>Mostly Rural (3)</li><li>Mostly Rural (3)</li><li>Mostly Rural (3)</li><li>Mostly Rural (3)</li><li>Mostly Rural (3)</li><li>Mostly Rural (3)</li><li>Mostly Rural (3)</li><li>Mostly Rural (3)</li><li>Mostly Rural (3)</li><li>Mostly Rural (3)</li><li>Mostly Rural (3)</li><li>Mostly Rural (3)</li><li>Mostly Rural (3)</li><li>Mostly Rural (3)</li><li>Mostly Rural (3)</li><li>Mostly Rural (3)</li><li>Mostly Rural (3)</li><li>Mostly Rural (3)</li><li>Mostly Rural (3)</li><li>Urban (1)</li><li>Urban (1)</li><li>Urban (1)</li><li>Urban (1)</li><li>Urban (1)</li><li>Urban (1)</li><li>Urban (1)</li><li>Urban (1)</li><li>Urban (1)</li><li>Urban (1)</li><li>Urban (1)</li><li>Urban (1)</li><li>Urban (1)</li><li>Urban (1)</li><li>Urban (1)</li><li>Urban (1)</li><li>Isolated Rural (4)</li><li>Isolated Rural (4)</li><li>Isolated Rural (4)</li><li>Isolated Rural (4)</li><li>Isolated Rural (4)</li><li>Isolated Rural (4)</li><li>Isolated Rural (4)</li><li>Isolated Rural (4)</li><li>Isolated Rural (4)</li><li>Isolated Rural (4)</li><li>Isolated Rural (4)</li><li>Isolated Rural (4)</li><li>Isolated Rural (4)</li><li>Isolated Rural (4)</li><li>Rural and Urban (2)</li><li>Rural and Urban (2)</li><li>Rural and Urban (2)</li><li>Rural and Urban (2)</li><li>Rural and Urban (2)</li><li>Rural and Urban (2)</li><li>Rural and Urban (2)</li><li>Rural and Urban (2)</li><li>Rural and Urban (2)</li><li>Rural and Urban (2)</li><li>Rural and Urban (2)</li><li>Rural and Urban (2)</li><li>Rural and Urban (2)</li><li>Rural and Urban (2)</li></ol>\n",
       "\n",
       "<details>\n",
       "\t<summary style=display:list-item;cursor:pointer>\n",
       "\t\t<strong>Levels</strong>:\n",
       "\t</summary>\n",
       "\t<style>\n",
       "\t.list-inline {list-style: none; margin:0; padding: 0}\n",
       "\t.list-inline>li {display: inline-block}\n",
       "\t.list-inline>li:not(:last-child)::after {content: \"\\00b7\"; padding: 0 .5ex}\n",
       "\t</style>\n",
       "\t<ol class=list-inline><li>'Isolated Rural (4)'</li><li>'Mostly Rural (3)'</li><li>'Rural and Urban (2)'</li><li>'Urban (1)'</li></ol>\n",
       "</details>"
      ],
      "text/latex": [
       "\\begin{enumerate*}\n",
       "\\item Mostly Rural (3)\n",
       "\\item Mostly Rural (3)\n",
       "\\item Mostly Rural (3)\n",
       "\\item Mostly Rural (3)\n",
       "\\item Mostly Rural (3)\n",
       "\\item Mostly Rural (3)\n",
       "\\item Mostly Rural (3)\n",
       "\\item Mostly Rural (3)\n",
       "\\item Rural and Urban (2)\n",
       "\\item Rural and Urban (2)\n",
       "\\item Rural and Urban (2)\n",
       "\\item Rural and Urban (2)\n",
       "\\item Rural and Urban (2)\n",
       "\\item Rural and Urban (2)\n",
       "\\item Rural and Urban (2)\n",
       "\\item Rural and Urban (2)\n",
       "\\item Rural and Urban (2)\n",
       "\\item Rural and Urban (2)\n",
       "\\item Rural and Urban (2)\n",
       "\\item Rural and Urban (2)\n",
       "\\item Mostly Rural (3)\n",
       "\\item Mostly Rural (3)\n",
       "\\item Mostly Rural (3)\n",
       "\\item Mostly Rural (3)\n",
       "\\item Mostly Rural (3)\n",
       "\\item Mostly Rural (3)\n",
       "\\item Mostly Rural (3)\n",
       "\\item Mostly Rural (3)\n",
       "\\item Mostly Rural (3)\n",
       "\\item Mostly Rural (3)\n",
       "\\item Mostly Rural (3)\n",
       "\\item Mostly Rural (3)\n",
       "\\item Mostly Rural (3)\n",
       "\\item Mostly Rural (3)\n",
       "\\item Mostly Rural (3)\n",
       "\\item Mostly Rural (3)\n",
       "\\item Mostly Rural (3)\n",
       "\\item Mostly Rural (3)\n",
       "\\item Mostly Rural (3)\n",
       "\\item Mostly Rural (3)\n",
       "\\item Mostly Rural (3)\n",
       "\\item Mostly Rural (3)\n",
       "\\item Mostly Rural (3)\n",
       "\\item Mostly Rural (3)\n",
       "\\item Mostly Rural (3)\n",
       "\\item Mostly Rural (3)\n",
       "\\item Mostly Rural (3)\n",
       "\\item Urban (1)\n",
       "\\item Urban (1)\n",
       "\\item Urban (1)\n",
       "\\item Urban (1)\n",
       "\\item Urban (1)\n",
       "\\item Urban (1)\n",
       "\\item Urban (1)\n",
       "\\item Urban (1)\n",
       "\\item Urban (1)\n",
       "\\item Urban (1)\n",
       "\\item Urban (1)\n",
       "\\item Urban (1)\n",
       "\\item Urban (1)\n",
       "\\item Urban (1)\n",
       "\\item Urban (1)\n",
       "\\item Urban (1)\n",
       "\\item Isolated Rural (4)\n",
       "\\item Isolated Rural (4)\n",
       "\\item Isolated Rural (4)\n",
       "\\item Isolated Rural (4)\n",
       "\\item Isolated Rural (4)\n",
       "\\item Isolated Rural (4)\n",
       "\\item Isolated Rural (4)\n",
       "\\item Isolated Rural (4)\n",
       "\\item Isolated Rural (4)\n",
       "\\item Isolated Rural (4)\n",
       "\\item Isolated Rural (4)\n",
       "\\item Isolated Rural (4)\n",
       "\\item Isolated Rural (4)\n",
       "\\item Isolated Rural (4)\n",
       "\\item Rural and Urban (2)\n",
       "\\item Rural and Urban (2)\n",
       "\\item Rural and Urban (2)\n",
       "\\item Rural and Urban (2)\n",
       "\\item Rural and Urban (2)\n",
       "\\item Rural and Urban (2)\n",
       "\\item Rural and Urban (2)\n",
       "\\item Rural and Urban (2)\n",
       "\\item Rural and Urban (2)\n",
       "\\item Rural and Urban (2)\n",
       "\\item Rural and Urban (2)\n",
       "\\item Rural and Urban (2)\n",
       "\\item Rural and Urban (2)\n",
       "\\item Rural and Urban (2)\n",
       "\\end{enumerate*}\n",
       "\n",
       "\\emph{Levels}: \\begin{enumerate*}\n",
       "\\item 'Isolated Rural (4)'\n",
       "\\item 'Mostly Rural (3)'\n",
       "\\item 'Rural and Urban (2)'\n",
       "\\item 'Urban (1)'\n",
       "\\end{enumerate*}\n"
      ],
      "text/markdown": [
       "1. Mostly Rural (3)\n",
       "2. Mostly Rural (3)\n",
       "3. Mostly Rural (3)\n",
       "4. Mostly Rural (3)\n",
       "5. Mostly Rural (3)\n",
       "6. Mostly Rural (3)\n",
       "7. Mostly Rural (3)\n",
       "8. Mostly Rural (3)\n",
       "9. Rural and Urban (2)\n",
       "10. Rural and Urban (2)\n",
       "11. Rural and Urban (2)\n",
       "12. Rural and Urban (2)\n",
       "13. Rural and Urban (2)\n",
       "14. Rural and Urban (2)\n",
       "15. Rural and Urban (2)\n",
       "16. Rural and Urban (2)\n",
       "17. Rural and Urban (2)\n",
       "18. Rural and Urban (2)\n",
       "19. Rural and Urban (2)\n",
       "20. Rural and Urban (2)\n",
       "21. Mostly Rural (3)\n",
       "22. Mostly Rural (3)\n",
       "23. Mostly Rural (3)\n",
       "24. Mostly Rural (3)\n",
       "25. Mostly Rural (3)\n",
       "26. Mostly Rural (3)\n",
       "27. Mostly Rural (3)\n",
       "28. Mostly Rural (3)\n",
       "29. Mostly Rural (3)\n",
       "30. Mostly Rural (3)\n",
       "31. Mostly Rural (3)\n",
       "32. Mostly Rural (3)\n",
       "33. Mostly Rural (3)\n",
       "34. Mostly Rural (3)\n",
       "35. Mostly Rural (3)\n",
       "36. Mostly Rural (3)\n",
       "37. Mostly Rural (3)\n",
       "38. Mostly Rural (3)\n",
       "39. Mostly Rural (3)\n",
       "40. Mostly Rural (3)\n",
       "41. Mostly Rural (3)\n",
       "42. Mostly Rural (3)\n",
       "43. Mostly Rural (3)\n",
       "44. Mostly Rural (3)\n",
       "45. Mostly Rural (3)\n",
       "46. Mostly Rural (3)\n",
       "47. Mostly Rural (3)\n",
       "48. Urban (1)\n",
       "49. Urban (1)\n",
       "50. Urban (1)\n",
       "51. Urban (1)\n",
       "52. Urban (1)\n",
       "53. Urban (1)\n",
       "54. Urban (1)\n",
       "55. Urban (1)\n",
       "56. Urban (1)\n",
       "57. Urban (1)\n",
       "58. Urban (1)\n",
       "59. Urban (1)\n",
       "60. Urban (1)\n",
       "61. Urban (1)\n",
       "62. Urban (1)\n",
       "63. Urban (1)\n",
       "64. Isolated Rural (4)\n",
       "65. Isolated Rural (4)\n",
       "66. Isolated Rural (4)\n",
       "67. Isolated Rural (4)\n",
       "68. Isolated Rural (4)\n",
       "69. Isolated Rural (4)\n",
       "70. Isolated Rural (4)\n",
       "71. Isolated Rural (4)\n",
       "72. Isolated Rural (4)\n",
       "73. Isolated Rural (4)\n",
       "74. Isolated Rural (4)\n",
       "75. Isolated Rural (4)\n",
       "76. Isolated Rural (4)\n",
       "77. Isolated Rural (4)\n",
       "78. Rural and Urban (2)\n",
       "79. Rural and Urban (2)\n",
       "80. Rural and Urban (2)\n",
       "81. Rural and Urban (2)\n",
       "82. Rural and Urban (2)\n",
       "83. Rural and Urban (2)\n",
       "84. Rural and Urban (2)\n",
       "85. Rural and Urban (2)\n",
       "86. Rural and Urban (2)\n",
       "87. Rural and Urban (2)\n",
       "88. Rural and Urban (2)\n",
       "89. Rural and Urban (2)\n",
       "90. Rural and Urban (2)\n",
       "91. Rural and Urban (2)\n",
       "\n",
       "\n",
       "\n",
       "**Levels**: 1. 'Isolated Rural (4)'\n",
       "2. 'Mostly Rural (3)'\n",
       "3. 'Rural and Urban (2)'\n",
       "4. 'Urban (1)'\n",
       "\n",
       "\n"
      ],
      "text/plain": [
       " [1] Mostly Rural (3)    Mostly Rural (3)    Mostly Rural (3)   \n",
       " [4] Mostly Rural (3)    Mostly Rural (3)    Mostly Rural (3)   \n",
       " [7] Mostly Rural (3)    Mostly Rural (3)    Rural and Urban (2)\n",
       "[10] Rural and Urban (2) Rural and Urban (2) Rural and Urban (2)\n",
       "[13] Rural and Urban (2) Rural and Urban (2) Rural and Urban (2)\n",
       "[16] Rural and Urban (2) Rural and Urban (2) Rural and Urban (2)\n",
       "[19] Rural and Urban (2) Rural and Urban (2) Mostly Rural (3)   \n",
       "[22] Mostly Rural (3)    Mostly Rural (3)    Mostly Rural (3)   \n",
       "[25] Mostly Rural (3)    Mostly Rural (3)    Mostly Rural (3)   \n",
       "[28] Mostly Rural (3)    Mostly Rural (3)    Mostly Rural (3)   \n",
       "[31] Mostly Rural (3)    Mostly Rural (3)    Mostly Rural (3)   \n",
       "[34] Mostly Rural (3)    Mostly Rural (3)    Mostly Rural (3)   \n",
       "[37] Mostly Rural (3)    Mostly Rural (3)    Mostly Rural (3)   \n",
       "[40] Mostly Rural (3)    Mostly Rural (3)    Mostly Rural (3)   \n",
       "[43] Mostly Rural (3)    Mostly Rural (3)    Mostly Rural (3)   \n",
       "[46] Mostly Rural (3)    Mostly Rural (3)    Urban (1)          \n",
       "[49] Urban (1)           Urban (1)           Urban (1)          \n",
       "[52] Urban (1)           Urban (1)           Urban (1)          \n",
       "[55] Urban (1)           Urban (1)           Urban (1)          \n",
       "[58] Urban (1)           Urban (1)           Urban (1)          \n",
       "[61] Urban (1)           Urban (1)           Urban (1)          \n",
       "[64] Isolated Rural (4)  Isolated Rural (4)  Isolated Rural (4) \n",
       "[67] Isolated Rural (4)  Isolated Rural (4)  Isolated Rural (4) \n",
       "[70] Isolated Rural (4)  Isolated Rural (4)  Isolated Rural (4) \n",
       "[73] Isolated Rural (4)  Isolated Rural (4)  Isolated Rural (4) \n",
       "[76] Isolated Rural (4)  Isolated Rural (4)  Rural and Urban (2)\n",
       "[79] Rural and Urban (2) Rural and Urban (2) Rural and Urban (2)\n",
       "[82] Rural and Urban (2) Rural and Urban (2) Rural and Urban (2)\n",
       "[85] Rural and Urban (2) Rural and Urban (2) Rural and Urban (2)\n",
       "[88] Rural and Urban (2) Rural and Urban (2) Rural and Urban (2)\n",
       "[91] Rural and Urban (2)\n",
       "4 Levels: Isolated Rural (4) Mostly Rural (3) ... Urban (1)"
      ]
     },
     "metadata": {},
     "output_type": "display_data"
    }
   ],
   "source": [
    "actual_train"
   ]
  },
  {
   "cell_type": "code",
   "execution_count": 34,
   "metadata": {},
   "outputs": [],
   "source": [
    "predicted <- predict(rf_200trees_rep16,newdata=data_test[,6:1005])\n",
    "actual <- data_test$ATTRIBUTE_UrbScore"
   ]
  },
  {
   "cell_type": "code",
   "execution_count": 35,
   "metadata": {},
   "outputs": [
    {
     "data": {
      "text/html": [
       "<style>\n",
       ".list-inline {list-style: none; margin:0; padding: 0}\n",
       ".list-inline>li {display: inline-block}\n",
       ".list-inline>li:not(:last-child)::after {content: \"\\00b7\"; padding: 0 .5ex}\n",
       "</style>\n",
       "<ol class=list-inline><li>Mostly Rural (3)</li><li>Mostly Rural (3)</li><li>Mostly Rural (3)</li><li>Rural and Urban (2)</li><li>Mostly Rural (3)</li><li>Mostly Rural (3)</li><li>Mostly Rural (3)</li><li>Urban (1)</li><li>Urban (1)</li><li>Isolated Rural (4)</li><li>Isolated Rural (4)</li><li>Rural and Urban (2)</li><li>Rural and Urban (2)</li><li>Rural and Urban (2)</li></ol>\n",
       "\n",
       "<details>\n",
       "\t<summary style=display:list-item;cursor:pointer>\n",
       "\t\t<strong>Levels</strong>:\n",
       "\t</summary>\n",
       "\t<style>\n",
       "\t.list-inline {list-style: none; margin:0; padding: 0}\n",
       "\t.list-inline>li {display: inline-block}\n",
       "\t.list-inline>li:not(:last-child)::after {content: \"\\00b7\"; padding: 0 .5ex}\n",
       "\t</style>\n",
       "\t<ol class=list-inline><li>'Isolated Rural (4)'</li><li>'Mostly Rural (3)'</li><li>'Rural and Urban (2)'</li><li>'Urban (1)'</li></ol>\n",
       "</details>"
      ],
      "text/latex": [
       "\\begin{enumerate*}\n",
       "\\item Mostly Rural (3)\n",
       "\\item Mostly Rural (3)\n",
       "\\item Mostly Rural (3)\n",
       "\\item Rural and Urban (2)\n",
       "\\item Mostly Rural (3)\n",
       "\\item Mostly Rural (3)\n",
       "\\item Mostly Rural (3)\n",
       "\\item Urban (1)\n",
       "\\item Urban (1)\n",
       "\\item Isolated Rural (4)\n",
       "\\item Isolated Rural (4)\n",
       "\\item Rural and Urban (2)\n",
       "\\item Rural and Urban (2)\n",
       "\\item Rural and Urban (2)\n",
       "\\end{enumerate*}\n",
       "\n",
       "\\emph{Levels}: \\begin{enumerate*}\n",
       "\\item 'Isolated Rural (4)'\n",
       "\\item 'Mostly Rural (3)'\n",
       "\\item 'Rural and Urban (2)'\n",
       "\\item 'Urban (1)'\n",
       "\\end{enumerate*}\n"
      ],
      "text/markdown": [
       "1. Mostly Rural (3)\n",
       "2. Mostly Rural (3)\n",
       "3. Mostly Rural (3)\n",
       "4. Rural and Urban (2)\n",
       "5. Mostly Rural (3)\n",
       "6. Mostly Rural (3)\n",
       "7. Mostly Rural (3)\n",
       "8. Urban (1)\n",
       "9. Urban (1)\n",
       "10. Isolated Rural (4)\n",
       "11. Isolated Rural (4)\n",
       "12. Rural and Urban (2)\n",
       "13. Rural and Urban (2)\n",
       "14. Rural and Urban (2)\n",
       "\n",
       "\n",
       "\n",
       "**Levels**: 1. 'Isolated Rural (4)'\n",
       "2. 'Mostly Rural (3)'\n",
       "3. 'Rural and Urban (2)'\n",
       "4. 'Urban (1)'\n",
       "\n",
       "\n"
      ],
      "text/plain": [
       " [1] Mostly Rural (3)    Mostly Rural (3)    Mostly Rural (3)   \n",
       " [4] Rural and Urban (2) Mostly Rural (3)    Mostly Rural (3)   \n",
       " [7] Mostly Rural (3)    Urban (1)           Urban (1)          \n",
       "[10] Isolated Rural (4)  Isolated Rural (4)  Rural and Urban (2)\n",
       "[13] Rural and Urban (2) Rural and Urban (2)\n",
       "4 Levels: Isolated Rural (4) Mostly Rural (3) ... Urban (1)"
      ]
     },
     "metadata": {},
     "output_type": "display_data"
    }
   ],
   "source": [
    "actual"
   ]
  },
  {
   "cell_type": "code",
   "execution_count": 36,
   "metadata": {},
   "outputs": [
    {
     "data": {
      "text/html": [
       "<style>\n",
       ".dl-inline {width: auto; margin:0; padding: 0}\n",
       ".dl-inline>dt, .dl-inline>dd {float: none; width: auto; display: inline-block}\n",
       ".dl-inline>dt::after {content: \":\\0020\"; padding-right: .5ex}\n",
       ".dl-inline>dt:not(:first-of-type) {padding-left: .5ex}\n",
       "</style><dl class=dl-inline><dt>4</dt><dd>Rural and Urban (2)</dd><dt>7</dt><dd>Rural and Urban (2)</dd><dt>9</dt><dd>Rural and Urban (2)</dd><dt>22</dt><dd>Rural and Urban (2)</dd><dt>27</dt><dd>Mostly Rural (3)</dd><dt>41</dt><dd>Mostly Rural (3)</dd><dt>44</dt><dd>Mostly Rural (3)</dd><dt>62</dt><dd>Urban (1)</dd><dt>65</dt><dd>Urban (1)</dd><dt>73</dt><dd>Isolated Rural (4)</dd><dt>80</dt><dd>Isolated Rural (4)</dd><dt>91</dt><dd>Mostly Rural (3)</dd><dt>92</dt><dd>Rural and Urban (2)</dd><dt>99</dt><dd>Rural and Urban (2)</dd></dl>\n",
       "\n",
       "<details>\n",
       "\t<summary style=display:list-item;cursor:pointer>\n",
       "\t\t<strong>Levels</strong>:\n",
       "\t</summary>\n",
       "\t<style>\n",
       "\t.list-inline {list-style: none; margin:0; padding: 0}\n",
       "\t.list-inline>li {display: inline-block}\n",
       "\t.list-inline>li:not(:last-child)::after {content: \"\\00b7\"; padding: 0 .5ex}\n",
       "\t</style>\n",
       "\t<ol class=list-inline><li>'Isolated Rural (4)'</li><li>'Mostly Rural (3)'</li><li>'Rural and Urban (2)'</li><li>'Urban (1)'</li></ol>\n",
       "</details>"
      ],
      "text/latex": [
       "\\begin{description*}\n",
       "\\item[4] Rural and Urban (2)\n",
       "\\item[7] Rural and Urban (2)\n",
       "\\item[9] Rural and Urban (2)\n",
       "\\item[22] Rural and Urban (2)\n",
       "\\item[27] Mostly Rural (3)\n",
       "\\item[41] Mostly Rural (3)\n",
       "\\item[44] Mostly Rural (3)\n",
       "\\item[62] Urban (1)\n",
       "\\item[65] Urban (1)\n",
       "\\item[73] Isolated Rural (4)\n",
       "\\item[80] Isolated Rural (4)\n",
       "\\item[91] Mostly Rural (3)\n",
       "\\item[92] Rural and Urban (2)\n",
       "\\item[99] Rural and Urban (2)\n",
       "\\end{description*}\n",
       "\n",
       "\\emph{Levels}: \\begin{enumerate*}\n",
       "\\item 'Isolated Rural (4)'\n",
       "\\item 'Mostly Rural (3)'\n",
       "\\item 'Rural and Urban (2)'\n",
       "\\item 'Urban (1)'\n",
       "\\end{enumerate*}\n"
      ],
      "text/markdown": [
       "4\n",
       ":   Rural and Urban (2)7\n",
       ":   Rural and Urban (2)9\n",
       ":   Rural and Urban (2)22\n",
       ":   Rural and Urban (2)27\n",
       ":   Mostly Rural (3)41\n",
       ":   Mostly Rural (3)44\n",
       ":   Mostly Rural (3)62\n",
       ":   Urban (1)65\n",
       ":   Urban (1)73\n",
       ":   Isolated Rural (4)80\n",
       ":   Isolated Rural (4)91\n",
       ":   Mostly Rural (3)92\n",
       ":   Rural and Urban (2)99\n",
       ":   Rural and Urban (2)\n",
       "\n",
       "\n",
       "**Levels**: 1. 'Isolated Rural (4)'\n",
       "2. 'Mostly Rural (3)'\n",
       "3. 'Rural and Urban (2)'\n",
       "4. 'Urban (1)'\n",
       "\n",
       "\n"
      ],
      "text/plain": [
       "                  4                   7                   9                  22 \n",
       "Rural and Urban (2) Rural and Urban (2) Rural and Urban (2) Rural and Urban (2) \n",
       "                 27                  41                  44                  62 \n",
       "   Mostly Rural (3)    Mostly Rural (3)    Mostly Rural (3)           Urban (1) \n",
       "                 65                  73                  80                  91 \n",
       "          Urban (1)  Isolated Rural (4)  Isolated Rural (4)    Mostly Rural (3) \n",
       "                 92                  99 \n",
       "Rural and Urban (2) Rural and Urban (2) \n",
       "4 Levels: Isolated Rural (4) Mostly Rural (3) ... Urban (1)"
      ]
     },
     "metadata": {},
     "output_type": "display_data"
    }
   ],
   "source": [
    "predicted"
   ]
  },
  {
   "cell_type": "code",
   "execution_count": 38,
   "metadata": {},
   "outputs": [
    {
     "data": {
      "text/plain": [
       "\n",
       "\tKruskal-Wallis rank sum test\n",
       "\n",
       "data:  top1000$X145.133654400397_0.321942673992674 by top1000$ATTRIBUTE_UrbScore\n",
       "Kruskal-Wallis chi-squared = 44.743, df = 3, p-value = 1.049e-09\n"
      ]
     },
     "metadata": {},
     "output_type": "display_data"
    }
   ],
   "source": [
    "kruskal.test(top1000$X145.133654400397_0.321942673992674~top1000$ATTRIBUTE_UrbScore)"
   ]
  },
  {
   "cell_type": "code",
   "execution_count": 39,
   "metadata": {},
   "outputs": [
    {
     "data": {
      "text/plain": [
       "\n",
       "\tKruskal-Wallis rank sum test\n",
       "\n",
       "data:  top1000$X379.295138249855_4.80429971751412 by top1000$ATTRIBUTE_UrbScore\n",
       "Kruskal-Wallis chi-squared = 55.682, df = 3, p-value = 4.911e-12\n"
      ]
     },
     "metadata": {},
     "output_type": "display_data"
    },
    {
     "data": {
      "text/plain": [
       "\n",
       "\tKruskal-Wallis rank sum test\n",
       "\n",
       "data:  top1000$X414.337287672953_4.40713949771689 by top1000$ATTRIBUTE_UrbScore\n",
       "Kruskal-Wallis chi-squared = 49.703, df = 3, p-value = 9.243e-11\n"
      ]
     },
     "metadata": {},
     "output_type": "display_data"
    },
    {
     "data": {
      "text/plain": [
       "\n",
       "\tKruskal-Wallis rank sum test\n",
       "\n",
       "data:  top1000$X235.165695099913_0.251319602272727 by top1000$ATTRIBUTE_UrbScore\n",
       "Kruskal-Wallis chi-squared = 33.709, df = 3, p-value = 2.282e-07\n"
      ]
     },
     "metadata": {},
     "output_type": "display_data"
    },
    {
     "data": {
      "text/plain": [
       "\n",
       "\tKruskal-Wallis rank sum test\n",
       "\n",
       "data:  top1000$X398.342358688081_4.7614578042328 by top1000$ATTRIBUTE_UrbScore\n",
       "Kruskal-Wallis chi-squared = 35.128, df = 3, p-value = 1.145e-07\n"
      ]
     },
     "metadata": {},
     "output_type": "display_data"
    },
    {
     "data": {
      "text/plain": [
       "\n",
       "\tKruskal-Wallis rank sum test\n",
       "\n",
       "data:  top1000$X414.337270243218_4.37871392694063 by top1000$ATTRIBUTE_UrbScore\n",
       "Kruskal-Wallis chi-squared = 49.4, df = 3, p-value = 1.072e-10\n"
      ]
     },
     "metadata": {},
     "output_type": "display_data"
    },
    {
     "data": {
      "text/plain": [
       "\n",
       "\tKruskal-Wallis rank sum test\n",
       "\n",
       "data:  top1000$X379.295594233212_4.82267054924242 by top1000$ATTRIBUTE_UrbScore\n",
       "Kruskal-Wallis chi-squared = 49.224, df = 3, p-value = 1.169e-10\n"
      ]
     },
     "metadata": {},
     "output_type": "display_data"
    },
    {
     "data": {
      "text/plain": [
       "\n",
       "\tKruskal-Wallis rank sum test\n",
       "\n",
       "data:  top1000$X379.296913101329_4.81113953488372 by top1000$ATTRIBUTE_UrbScore\n",
       "Kruskal-Wallis chi-squared = 48.639, df = 3, p-value = 1.557e-10\n"
      ]
     },
     "metadata": {},
     "output_type": "display_data"
    },
    {
     "data": {
      "text/plain": [
       "\n",
       "\tKruskal-Wallis rank sum test\n",
       "\n",
       "data:  top1000$X379.296057128384_4.80411335227272 by top1000$ATTRIBUTE_UrbScore\n",
       "Kruskal-Wallis chi-squared = 55.978, df = 3, p-value = 4.246e-12\n"
      ]
     },
     "metadata": {},
     "output_type": "display_data"
    },
    {
     "data": {
      "text/plain": [
       "\n",
       "\tKruskal-Wallis rank sum test\n",
       "\n",
       "data:  top1000$X398.342346933229_4.8293028 by top1000$ATTRIBUTE_UrbScore\n",
       "Kruskal-Wallis chi-squared = 35.578, df = 3, p-value = 9.194e-08\n"
      ]
     },
     "metadata": {},
     "output_type": "display_data"
    },
    {
     "data": {
      "text/plain": [
       "\n",
       "\tKruskal-Wallis rank sum test\n",
       "\n",
       "data:  top1000$X398.342152302508_4.84241002710027 by top1000$ATTRIBUTE_UrbScore\n",
       "Kruskal-Wallis chi-squared = 34.896, df = 3, p-value = 1.281e-07\n"
      ]
     },
     "metadata": {},
     "output_type": "display_data"
    },
    {
     "data": {
      "text/plain": [
       "\n",
       "\tKruskal-Wallis rank sum test\n",
       "\n",
       "data:  top1000$X276.108346920877_0.4109188697318 by top1000$ATTRIBUTE_UrbScore\n",
       "Kruskal-Wallis chi-squared = 40.421, df = 3, p-value = 8.677e-09\n"
      ]
     },
     "metadata": {},
     "output_type": "display_data"
    },
    {
     "ename": "ERROR",
     "evalue": "Error in model.frame.default(formula = top1000$X365.192441706216_0.5137984761904762 ~ : invalid type (NULL) for variable 'top1000$X365.192441706216_0.5137984761904762'\n",
     "output_type": "error",
     "traceback": [
      "Error in model.frame.default(formula = top1000$X365.192441706216_0.5137984761904762 ~ : invalid type (NULL) for variable 'top1000$X365.192441706216_0.5137984761904762'\nTraceback:\n",
      "1. kruskal.test(top1000$X365.192441706216_0.5137984761904762 ~ top1000$ATTRIBUTE_UrbScore)",
      "2. kruskal.test.formula(top1000$X365.192441706216_0.5137984761904762 ~ \n .     top1000$ATTRIBUTE_UrbScore)",
      "3. eval(m, parent.frame())",
      "4. eval(m, parent.frame())",
      "5. stats::model.frame(formula = top1000$X365.192441706216_0.5137984761904762 ~ \n .     top1000$ATTRIBUTE_UrbScore)",
      "6. model.frame.default(formula = top1000$X365.192441706216_0.5137984761904762 ~ \n .     top1000$ATTRIBUTE_UrbScore)"
     ]
    }
   ],
   "source": [
    "kruskal.test(top1000$X379.295138249855_4.80429971751412~top1000$ATTRIBUTE_UrbScore)\n",
    "kruskal.test(top1000$X414.337287672953_4.40713949771689~top1000$ATTRIBUTE_UrbScore)\n",
    "kruskal.test(top1000$X235.165695099913_0.251319602272727~top1000$ATTRIBUTE_UrbScore)\n",
    "kruskal.test(top1000$X398.342358688081_4.7614578042328~top1000$ATTRIBUTE_UrbScore)\n",
    "kruskal.test(top1000$X414.337270243218_4.37871392694063~top1000$ATTRIBUTE_UrbScore)\n",
    "kruskal.test(top1000$X379.295594233212_4.82267054924242~top1000$ATTRIBUTE_UrbScore)\n",
    "kruskal.test(top1000$X379.296913101329_4.81113953488372~top1000$ATTRIBUTE_UrbScore)\n",
    "kruskal.test(top1000$X379.296057128384_4.80411335227272~top1000$ATTRIBUTE_UrbScore)\n",
    "kruskal.test(top1000$X398.342346933229_4.8293028~top1000$ATTRIBUTE_UrbScore)\n",
    "kruskal.test(top1000$X398.342152302508_4.84241002710027~top1000$ATTRIBUTE_UrbScore)\n",
    "kruskal.test(top1000$X276.108346920877_0.4109188697318~top1000$ATTRIBUTE_UrbScore)\n",
    "kruskal.test(top1000$X365.192441706216_0.5137984761904762~top1000$ATTRIBUTE_UrbScore)\n",
    "kruskal.test(top1000$X363.211818018114_1.01789630738523~top1000$ATTRIBUTE_UrbScore)\n",
    "kruskal.test(top1000$X400.358213170862_4.83242817204301~top1000$ATTRIBUTE_UrbScore)\n",
    "kruskal.test(top1000$X305.1856385657_3.74409377289377~top1000$ATTRIBUTE_UrbScore)\n",
    "kruskal.test(top1000$X414.336823319763_4.4278940229885~top1000$ATTRIBUTE_UrbScore)\n",
    "kruskal.test(top1000$X593.33374965761_4.9792714559387~top1000$ATTRIBUTE_UrbScore)\n",
    "kruskal.test(top1000$X591.317798423742_4.51596906077348~top1000$ATTRIBUTE_UrbScore)\n",
    "kruskal.test(top1000$X145.133658820434_0.321295512820512~top1000$ATTRIBUTE_UrbScore)\n",
    "kruskal.test(top1000$X159.149246156106_0.359139071038251~top1000$ATTRIBUTE_UrbScore)\n",
    "kruskal.test(top1000$X276.108242735027_0.423188793103447~top1000$ATTRIBUTE_UrbScore)\n",
    "kruskal.test(top1000$X414.335099478176_4.49331014492753~top1000$ATTRIBUTE_UrbScore)\n",
    "kruskal.test(top1000$X286.176309545865_1.41021789077212~top1000$ATTRIBUTE_UrbScore)\n",
    "kruskal.test(top1000$X245.186405972577_3.27382050561797~top1000$ATTRIBUTE_UrbScore)\n",
    "kruskal.test(top1000$X363.212885760872_0.87442865497076~top1000$ATTRIBUTE_UrbScore)\n",
    "kruskal.test(top1000$X332.074122054216_0.359971264367816~top1000$ATTRIBUTE_UrbScore)\n",
    "kruskal.test(top1000$X286.176338916999_1.67650670391061~top1000$ATTRIBUTE_UrbScore)\n",
    "kruskal.test(top1000$X400.358507075654_4.83038877995642~top1000$ATTRIBUTE_UrbScore)\n",
    "kruskal.test(top1000$X398.342378405688_4.80704637096774~top1000$ATTRIBUTE_UrbScore)"
   ]
  },
  {
   "cell_type": "code",
   "execution_count": 41,
   "metadata": {},
   "outputs": [
    {
     "data": {
      "text/plain": [
       "\n",
       "\tKruskal-Wallis rank sum test\n",
       "\n",
       "data:  top1000$X365.192441706216_0.513798476190476 by top1000$ATTRIBUTE_UrbScore\n",
       "Kruskal-Wallis chi-squared = 36.029, df = 3, p-value = 7.385e-08\n"
      ]
     },
     "metadata": {},
     "output_type": "display_data"
    },
    {
     "data": {
      "text/plain": [
       "\n",
       "\tKruskal-Wallis rank sum test\n",
       "\n",
       "data:  top1000$X363.211818018114_1.01789630738523 by top1000$ATTRIBUTE_UrbScore\n",
       "Kruskal-Wallis chi-squared = 38.967, df = 3, p-value = 1.764e-08\n"
      ]
     },
     "metadata": {},
     "output_type": "display_data"
    },
    {
     "data": {
      "text/plain": [
       "\n",
       "\tKruskal-Wallis rank sum test\n",
       "\n",
       "data:  top1000$X400.358213170862_4.83242817204301 by top1000$ATTRIBUTE_UrbScore\n",
       "Kruskal-Wallis chi-squared = 31.051, df = 3, p-value = 8.293e-07\n"
      ]
     },
     "metadata": {},
     "output_type": "display_data"
    },
    {
     "data": {
      "text/plain": [
       "\n",
       "\tKruskal-Wallis rank sum test\n",
       "\n",
       "data:  top1000$X305.1856385657_3.74409377289377 by top1000$ATTRIBUTE_UrbScore\n",
       "Kruskal-Wallis chi-squared = 28.643, df = 3, p-value = 2.662e-06\n"
      ]
     },
     "metadata": {},
     "output_type": "display_data"
    },
    {
     "data": {
      "text/plain": [
       "\n",
       "\tKruskal-Wallis rank sum test\n",
       "\n",
       "data:  top1000$X414.336823319763_4.4278940229885 by top1000$ATTRIBUTE_UrbScore\n",
       "Kruskal-Wallis chi-squared = 44.504, df = 3, p-value = 1.179e-09\n"
      ]
     },
     "metadata": {},
     "output_type": "display_data"
    },
    {
     "data": {
      "text/plain": [
       "\n",
       "\tKruskal-Wallis rank sum test\n",
       "\n",
       "data:  top1000$X593.33374965761_4.9792714559387 by top1000$ATTRIBUTE_UrbScore\n",
       "Kruskal-Wallis chi-squared = 42.578, df = 3, p-value = 3.025e-09\n"
      ]
     },
     "metadata": {},
     "output_type": "display_data"
    },
    {
     "data": {
      "text/plain": [
       "\n",
       "\tKruskal-Wallis rank sum test\n",
       "\n",
       "data:  top1000$X591.317798423742_4.51596906077348 by top1000$ATTRIBUTE_UrbScore\n",
       "Kruskal-Wallis chi-squared = 32.335, df = 3, p-value = 4.447e-07\n"
      ]
     },
     "metadata": {},
     "output_type": "display_data"
    },
    {
     "data": {
      "text/plain": [
       "\n",
       "\tKruskal-Wallis rank sum test\n",
       "\n",
       "data:  top1000$X145.133658820434_0.321295512820512 by top1000$ATTRIBUTE_UrbScore\n",
       "Kruskal-Wallis chi-squared = 43.856, df = 3, p-value = 1.619e-09\n"
      ]
     },
     "metadata": {},
     "output_type": "display_data"
    },
    {
     "data": {
      "text/plain": [
       "\n",
       "\tKruskal-Wallis rank sum test\n",
       "\n",
       "data:  top1000$X159.149246156106_0.359139071038251 by top1000$ATTRIBUTE_UrbScore\n",
       "Kruskal-Wallis chi-squared = 42.196, df = 3, p-value = 3.646e-09\n"
      ]
     },
     "metadata": {},
     "output_type": "display_data"
    },
    {
     "data": {
      "text/plain": [
       "\n",
       "\tKruskal-Wallis rank sum test\n",
       "\n",
       "data:  top1000$X276.108242735027_0.423188793103447 by top1000$ATTRIBUTE_UrbScore\n",
       "Kruskal-Wallis chi-squared = 29.925, df = 3, p-value = 1.431e-06\n"
      ]
     },
     "metadata": {},
     "output_type": "display_data"
    },
    {
     "data": {
      "text/plain": [
       "\n",
       "\tKruskal-Wallis rank sum test\n",
       "\n",
       "data:  top1000$X414.335099478176_4.49331014492753 by top1000$ATTRIBUTE_UrbScore\n",
       "Kruskal-Wallis chi-squared = 42.151, df = 3, p-value = 3.726e-09\n"
      ]
     },
     "metadata": {},
     "output_type": "display_data"
    },
    {
     "data": {
      "text/plain": [
       "\n",
       "\tKruskal-Wallis rank sum test\n",
       "\n",
       "data:  top1000$X286.176309545865_1.41021789077212 by top1000$ATTRIBUTE_UrbScore\n",
       "Kruskal-Wallis chi-squared = 22.662, df = 3, p-value = 4.75e-05\n"
      ]
     },
     "metadata": {},
     "output_type": "display_data"
    },
    {
     "data": {
      "text/plain": [
       "\n",
       "\tKruskal-Wallis rank sum test\n",
       "\n",
       "data:  top1000$X245.186405972577_3.27382050561797 by top1000$ATTRIBUTE_UrbScore\n",
       "Kruskal-Wallis chi-squared = 40.409, df = 3, p-value = 8.728e-09\n"
      ]
     },
     "metadata": {},
     "output_type": "display_data"
    },
    {
     "data": {
      "text/plain": [
       "\n",
       "\tKruskal-Wallis rank sum test\n",
       "\n",
       "data:  top1000$X363.212885760872_0.87442865497076 by top1000$ATTRIBUTE_UrbScore\n",
       "Kruskal-Wallis chi-squared = 29.478, df = 3, p-value = 1.777e-06\n"
      ]
     },
     "metadata": {},
     "output_type": "display_data"
    },
    {
     "data": {
      "text/plain": [
       "\n",
       "\tKruskal-Wallis rank sum test\n",
       "\n",
       "data:  top1000$X332.074122054216_0.359971264367816 by top1000$ATTRIBUTE_UrbScore\n",
       "Kruskal-Wallis chi-squared = 36.336, df = 3, p-value = 6.358e-08\n"
      ]
     },
     "metadata": {},
     "output_type": "display_data"
    },
    {
     "data": {
      "text/plain": [
       "\n",
       "\tKruskal-Wallis rank sum test\n",
       "\n",
       "data:  top1000$X286.176338916999_1.67650670391061 by top1000$ATTRIBUTE_UrbScore\n",
       "Kruskal-Wallis chi-squared = 26.611, df = 3, p-value = 7.103e-06\n"
      ]
     },
     "metadata": {},
     "output_type": "display_data"
    },
    {
     "data": {
      "text/plain": [
       "\n",
       "\tKruskal-Wallis rank sum test\n",
       "\n",
       "data:  top1000$X400.358507075654_4.83038877995642 by top1000$ATTRIBUTE_UrbScore\n",
       "Kruskal-Wallis chi-squared = 22.604, df = 3, p-value = 4.883e-05\n"
      ]
     },
     "metadata": {},
     "output_type": "display_data"
    },
    {
     "data": {
      "text/plain": [
       "\n",
       "\tKruskal-Wallis rank sum test\n",
       "\n",
       "data:  top1000$X398.342378405688_4.80704637096774 by top1000$ATTRIBUTE_UrbScore\n",
       "Kruskal-Wallis chi-squared = 34.382, df = 3, p-value = 1.646e-07\n"
      ]
     },
     "metadata": {},
     "output_type": "display_data"
    }
   ],
   "source": [
    "kruskal.test(top1000$X365.192441706216_0.513798476190476~top1000$ATTRIBUTE_UrbScore)\n",
    "kruskal.test(top1000$X363.211818018114_1.01789630738523~top1000$ATTRIBUTE_UrbScore)\n",
    "kruskal.test(top1000$X400.358213170862_4.83242817204301~top1000$ATTRIBUTE_UrbScore)\n",
    "kruskal.test(top1000$X305.1856385657_3.74409377289377~top1000$ATTRIBUTE_UrbScore)\n",
    "kruskal.test(top1000$X414.336823319763_4.4278940229885~top1000$ATTRIBUTE_UrbScore)\n",
    "kruskal.test(top1000$X593.33374965761_4.9792714559387~top1000$ATTRIBUTE_UrbScore)\n",
    "kruskal.test(top1000$X591.317798423742_4.51596906077348~top1000$ATTRIBUTE_UrbScore)\n",
    "kruskal.test(top1000$X145.133658820434_0.321295512820512~top1000$ATTRIBUTE_UrbScore)\n",
    "kruskal.test(top1000$X159.149246156106_0.359139071038251~top1000$ATTRIBUTE_UrbScore)\n",
    "kruskal.test(top1000$X276.108242735027_0.423188793103447~top1000$ATTRIBUTE_UrbScore)\n",
    "kruskal.test(top1000$X414.335099478176_4.49331014492753~top1000$ATTRIBUTE_UrbScore)\n",
    "kruskal.test(top1000$X286.176309545865_1.41021789077212~top1000$ATTRIBUTE_UrbScore)\n",
    "kruskal.test(top1000$X245.186405972577_3.27382050561797~top1000$ATTRIBUTE_UrbScore)\n",
    "kruskal.test(top1000$X363.212885760872_0.87442865497076~top1000$ATTRIBUTE_UrbScore)\n",
    "kruskal.test(top1000$X332.074122054216_0.359971264367816~top1000$ATTRIBUTE_UrbScore)\n",
    "kruskal.test(top1000$X286.176338916999_1.67650670391061~top1000$ATTRIBUTE_UrbScore)\n",
    "kruskal.test(top1000$X400.358507075654_4.83038877995642~top1000$ATTRIBUTE_UrbScore)\n",
    "kruskal.test(top1000$X398.342378405688_4.80704637096774~top1000$ATTRIBUTE_UrbScore)"
   ]
  },
  {
   "cell_type": "code",
   "execution_count": 4,
   "metadata": {},
   "outputs": [
    {
     "data": {
      "text/plain": [
       "\n",
       "\tKruskal-Wallis rank sum test\n",
       "\n",
       "data:  top1000$X597.364572596365_5.31330051440329 by top1000$ATTRIBUTE_UrbScore\n",
       "Kruskal-Wallis chi-squared = 28.217, df = 3, p-value = 3.27e-06\n"
      ]
     },
     "metadata": {},
     "output_type": "display_data"
    }
   ],
   "source": [
    "kruskal.test(top1000$X597.364572596365_5.31330051440329~top1000$ATTRIBUTE_UrbScore)"
   ]
  },
  {
   "cell_type": "code",
   "execution_count": null,
   "metadata": {},
   "outputs": [],
   "source": []
  }
 ],
 "metadata": {
  "kernelspec": {
   "display_name": "R",
   "language": "R",
   "name": "ir"
  },
  "language_info": {
   "codemirror_mode": "r",
   "file_extension": ".r",
   "mimetype": "text/x-r-source",
   "name": "R",
   "pygments_lexer": "r",
   "version": "4.0.4"
  }
 },
 "nbformat": 4,
 "nbformat_minor": 4
}
