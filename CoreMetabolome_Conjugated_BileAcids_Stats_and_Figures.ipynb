{
 "cells": [
  {
   "cell_type": "code",
   "execution_count": 1,
   "metadata": {},
   "outputs": [],
   "source": [
    "setwd(\"E:/McCall_Lab/11.8.2019_UrbanizationRun2/Data_Repository/JupyterNotebook_Code/Conj_Bile_Acids/test\")"
   ]
  },
  {
   "cell_type": "code",
   "execution_count": 2,
   "metadata": {},
   "outputs": [],
   "source": [
    "###Reading in the normalized feature table to look for the conjugated bile acids.\n",
    "features<-read.csv(\"FBMN2_Msrun3_feats_transposed_3xFiltered_Corrected_TICnorm_forClusterApp.csv\")"
   ]
  },
  {
   "cell_type": "code",
   "execution_count": 3,
   "metadata": {},
   "outputs": [
    {
     "name": "stderr",
     "output_type": "stream",
     "text": [
      "Warning message:\n",
      "\"package 'ggplot2' was built under R version 4.0.5\"\n"
     ]
    }
   ],
   "source": [
    "###Eventually making abundance boxplots from these conj-BAs, so we need ggplot.\n",
    "library(ggplot2)"
   ]
  },
  {
   "cell_type": "code",
   "execution_count": 4,
   "metadata": {},
   "outputs": [],
   "source": [
    "###We want to color these plots by industrialization score (using the same color codes as our other figures).\n",
    "colors <- c(\"#FFFFCC\",\"#A1DAB4\",\"#41B6C4\",\"#225EA8\")\n",
    "names <- c(\"1\",\"2\",\"3\",\"4\")"
   ]
  },
  {
   "cell_type": "code",
   "execution_count": 5,
   "metadata": {},
   "outputs": [
    {
     "data": {
      "image/png": "[encoded data removed]",
      "text/plain": [
       "Plot with title \"\""
      ]
     },
     "metadata": {
      "image/png": {
       "height": 420,
       "width": 420
      }
     },
     "output_type": "display_data"
    }
   ],
   "source": [
    "###Can start creating boxplots. Starting with Phe-Chol to test the code. The m/z and RT information was collected elsewhere and used here.\n",
    "boxplot(features$X556.361589631028_5.56895890269151~features$ATTRIBUTE_Urbanization_Score,col=colors,names=names,xlab=\"\",ylab=\"Normalized Peak Area\",main=\"\",par(cex.lab=1.5),par(cex.axis=1.5))"
   ]
  },
  {
   "cell_type": "code",
   "execution_count": 6,
   "metadata": {},
   "outputs": [
    {
     "data": {
      "text/html": [
       "<strong>png:</strong> 2"
      ],
      "text/latex": [
       "\\textbf{png:} 2"
      ],
      "text/markdown": [
       "**png:** 2"
      ],
      "text/plain": [
       "png \n",
       "  2 "
      ]
     },
     "metadata": {},
     "output_type": "display_data"
    }
   ],
   "source": [
    "###Plot looks good, but doesn't save the figure. \n",
    "pdf(\"Phe-Chol_final.pdf\")\n",
    "boxplot(features$X556.361589631028_5.56895890269151~features$ATTRIBUTE_Urbanization_Score,col=colors,names=names,xlab=\"\",ylab=\"Normalized Peak Area\",main=\"\",par(cex.lab=1.5),par(cex.axis=1.5))\n",
    "dev.off()"
   ]
  },
  {
   "cell_type": "code",
   "execution_count": 8,
   "metadata": {
    "scrolled": true
   },
   "outputs": [
    {
     "name": "stderr",
     "output_type": "stream",
     "text": [
      "Installing package into 'C:/Users/jhaff/Documents/R/win-library/4.0'\n",
      "(as 'lib' is unspecified)\n",
      "\n",
      "also installing the dependencies 'rematch', 'cellranger', 'progress', 'broom', 'readxl', 'openxlsx', 'carData', 'abind', 'pbkrtest', 'rio', 'car', 'dunn.test', 'lmtest', 'sciplot'\n",
      "\n",
      "\n"
     ]
    },
    {
     "name": "stdout",
     "output_type": "stream",
     "text": [
      "package 'rematch' successfully unpacked and MD5 sums checked\n",
      "package 'cellranger' successfully unpacked and MD5 sums checked\n",
      "package 'progress' successfully unpacked and MD5 sums checked\n",
      "package 'broom' successfully unpacked and MD5 sums checked\n",
      "package 'readxl' successfully unpacked and MD5 sums checked\n",
      "package 'openxlsx' successfully unpacked and MD5 sums checked\n",
      "package 'carData' successfully unpacked and MD5 sums checked\n",
      "package 'abind' successfully unpacked and MD5 sums checked\n",
      "package 'pbkrtest' successfully unpacked and MD5 sums checked\n",
      "package 'rio' successfully unpacked and MD5 sums checked\n",
      "package 'car' successfully unpacked and MD5 sums checked\n",
      "package 'dunn.test' successfully unpacked and MD5 sums checked\n",
      "package 'lmtest' successfully unpacked and MD5 sums checked\n",
      "package 'sciplot' successfully unpacked and MD5 sums checked\n",
      "package 'FSA' successfully unpacked and MD5 sums checked\n",
      "\n",
      "The downloaded binary packages are in\n",
      "\tC:\\Users\\jhaff\\AppData\\Local\\Temp\\RtmpqeMR39\\downloaded_packages\n"
     ]
    },
    {
     "name": "stderr",
     "output_type": "stream",
     "text": [
      "Warning message:\n",
      "\"package 'FSA' was built under R version 4.0.5\"\n",
      "## FSA v0.8.32. See citation('FSA') if used in publication.\n",
      "## Run fishR() for related website and fishR('IFAR') for related book.\n",
      "\n"
     ]
    },
    {
     "data": {
      "text/plain": [
       "\n",
       "\tKruskal-Wallis rank sum test\n",
       "\n",
       "data:  features$X556.361589631028_5.56895890269151 by features$ATTRIBUTE_Urbanization_Score\n",
       "Kruskal-Wallis chi-squared = 29.335, df = 3, p-value = 1.904e-06\n"
      ]
     },
     "metadata": {},
     "output_type": "display_data"
    },
    {
     "data": {
      "text/plain": [
       "\n",
       "\tKruskal-Wallis rank sum test\n",
       "\n",
       "data:  features$X556.361589631028_5.56895890269151 by features$ATTRIBUTE_Population\n",
       "Kruskal-Wallis chi-squared = 29.809, df = 5, p-value = 1.608e-05\n"
      ]
     },
     "metadata": {},
     "output_type": "display_data"
    },
    {
     "name": "stderr",
     "output_type": "stream",
     "text": [
      "Warning message:\n",
      "\"features$ATTRIBUTE_Urbanization_Score was coerced to a factor.\"\n",
      "Dunn (1964) Kruskal-Wallis multiple comparison\n",
      "\n",
      "  p-values adjusted with the Benjamini-Hochberg method.\n",
      "\n",
      "\n"
     ]
    },
    {
     "data": {
      "text/plain": [
       "                                       Comparison          Z      P.unadj\n",
       "1     (1) Urban Industrial - (2) Rural Industrial  0.1064778 9.152033e-01\n",
       "2    (1) Urban Industrial - (3) Rural Traditional  4.0514553 5.090005e-05\n",
       "3    (2) Rural Industrial - (3) Rural Traditional  4.6358248 3.555171e-06\n",
       "4  (1) Urban Industrial - (4) Isolate Traditional  2.4691264 1.354434e-02\n",
       "5  (2) Rural Industrial - (4) Isolate Traditional  2.6379427 8.341067e-03\n",
       "6 (3) Rural Traditional - (4) Isolate Traditional -1.0081163 3.133986e-01\n",
       "         P.adj\n",
       "1 9.152033e-01\n",
       "2 1.527001e-04\n",
       "3 2.133102e-05\n",
       "4 2.031651e-02\n",
       "5 1.668213e-02\n",
       "6 3.760784e-01"
      ]
     },
     "metadata": {},
     "output_type": "display_data"
    },
    {
     "name": "stderr",
     "output_type": "stream",
     "text": [
      "Warning message:\n",
      "\"features$ATTRIBUTE_Population was coerced to a factor.\"\n",
      "Dunn (1964) Kruskal-Wallis multiple comparison\n",
      "\n",
      "  p-values adjusted with the Benjamini-Hochberg method.\n",
      "\n",
      "\n"
     ]
    },
    {
     "data": {
      "text/plain": [
       "                       Comparison          Z      P.unadj       P.adj\n",
       "1        Burkina Faso 3 - Guayabo -3.0355047 0.0024013351 0.009005007\n",
       "2         Burkina Faso 3 - Matses -0.7241215 0.4689911338 0.639533364\n",
       "3                Guayabo - Matses  2.5708634 0.0101445343 0.025361336\n",
       "4       Burkina Faso 3 - Norman 2 -2.9578568 0.0030978600 0.009293580\n",
       "5              Guayabo - Norman 2  0.3065381 0.7591949892 0.813423203\n",
       "6               Matses - Norman 2 -2.4691264 0.0135443382 0.025395634\n",
       "7  Burkina Faso 3 - Tambo de Mora -2.5601320 0.0104632403 0.022421229\n",
       "8         Guayabo - Tambo de Mora  0.6864499 0.4924294190 0.615536774\n",
       "9          Matses - Tambo de Mora -2.0298583 0.0423709416 0.070618236\n",
       "10       Norman 2 - Tambo de Mora  0.4179238 0.6760028181 0.780003252\n",
       "11      Burkina Faso 3 - Tunapuco  0.0525134 0.9581196193 0.958119619\n",
       "12             Guayabo - Tunapuco  3.8008719 0.0001441878 0.001081409\n",
       "13              Matses - Tunapuco  0.9759681 0.3290802839 0.493620426\n",
       "14            Norman 2 - Tunapuco  3.8589025 0.0001138974 0.001708460\n",
       "15       Tambo de Mora - Tunapuco  3.3242715 0.0008864984 0.004432492"
      ]
     },
     "metadata": {},
     "output_type": "display_data"
    }
   ],
   "source": [
    "###Should also perform Kruskal-Wallis and Dunn's tests to examine statistical significance. Examining both industrialization score and population.\n",
    "install.packages('FSA')\n",
    "library('FSA')\n",
    "kruskal.test(features$X556.361589631028_5.56895890269151~features$ATTRIBUTE_Urbanization_Score)\n",
    "kruskal.test(features$X556.361589631028_5.56895890269151~features$ATTRIBUTE_Population)\n",
    "dunnTest(features$X556.361589631028_5.56895890269151~features$ATTRIBUTE_Urbanization_Score,method=\"bh\")\n",
    "dunnTest(features$X556.361589631028_5.56895890269151~features$ATTRIBUTE_Population,method=\"bh\")"
   ]
  },
  {
   "cell_type": "code",
   "execution_count": 9,
   "metadata": {},
   "outputs": [
    {
     "data": {
      "image/png": "[encoded data removed]",
      "text/plain": [
       "Plot with title \"\""
      ]
     },
     "metadata": {
      "image/png": {
       "height": 420,
       "width": 420
      }
     },
     "output_type": "display_data"
    }
   ],
   "source": [
    "###The code all works, so it can be run for each of the conj-BAs. The code below uses Leu-Chol as another example.\n",
    "boxplot(features$X522.35285903723_5.37529238095238~features$ATTRIBUTE_Urbanization_Score,col=colors,xlab=\"\",ylab=\"Normalized Peak Area\",names=names,par(cex.lab=1.5),par(cex.axis=1.5),main=\"\")"
   ]
  },
  {
   "cell_type": "code",
   "execution_count": 10,
   "metadata": {},
   "outputs": [
    {
     "data": {
      "text/html": [
       "<strong>png:</strong> 2"
      ],
      "text/latex": [
       "\\textbf{png:} 2"
      ],
      "text/markdown": [
       "**png:** 2"
      ],
      "text/plain": [
       "png \n",
       "  2 "
      ]
     },
     "metadata": {},
     "output_type": "display_data"
    },
    {
     "data": {
      "text/plain": [
       "\n",
       "\tKruskal-Wallis rank sum test\n",
       "\n",
       "data:  features$X522.35285903723_5.37529238095238 by features$ATTRIBUTE_Urbanization_Score\n",
       "Kruskal-Wallis chi-squared = 34.328, df = 3, p-value = 1.689e-07\n"
      ]
     },
     "metadata": {},
     "output_type": "display_data"
    },
    {
     "data": {
      "text/plain": [
       "\n",
       "\tKruskal-Wallis rank sum test\n",
       "\n",
       "data:  features$X522.35285903723_5.37529238095238 by features$ATTRIBUTE_Population\n",
       "Kruskal-Wallis chi-squared = 35.768, df = 5, p-value = 1.057e-06\n"
      ]
     },
     "metadata": {},
     "output_type": "display_data"
    },
    {
     "name": "stderr",
     "output_type": "stream",
     "text": [
      "Warning message:\n",
      "\"features$ATTRIBUTE_Urbanization_Score was coerced to a factor.\"\n",
      "Dunn (1964) Kruskal-Wallis multiple comparison\n",
      "\n",
      "  p-values adjusted with the Benjamini-Hochberg method.\n",
      "\n",
      "\n"
     ]
    },
    {
     "data": {
      "text/plain": [
       "                                       Comparison         Z      P.unadj\n",
       "1     (1) Urban Industrial - (2) Rural Industrial 0.2231290 8.234351e-01\n",
       "2    (1) Urban Industrial - (3) Rural Traditional 3.9695217 7.201705e-05\n",
       "3    (2) Rural Industrial - (3) Rural Traditional 4.3946452 1.109538e-05\n",
       "4  (1) Urban Industrial - (4) Isolate Traditional 3.8672779 1.100570e-04\n",
       "5  (2) Rural Industrial - (4) Isolate Traditional 4.0774096 4.554022e-05\n",
       "6 (3) Rural Traditional - (4) Isolate Traditional 0.7001911 4.838080e-01\n",
       "         P.adj\n",
       "1 8.234351e-01\n",
       "2 1.440341e-04\n",
       "3 6.657228e-05\n",
       "4 1.650855e-04\n",
       "5 1.366207e-04\n",
       "6 5.805696e-01"
      ]
     },
     "metadata": {},
     "output_type": "display_data"
    },
    {
     "name": "stderr",
     "output_type": "stream",
     "text": [
      "Warning message:\n",
      "\"features$ATTRIBUTE_Population was coerced to a factor.\"\n",
      "Dunn (1964) Kruskal-Wallis multiple comparison\n",
      "\n",
      "  p-values adjusted with the Benjamini-Hochberg method.\n",
      "\n",
      "\n"
     ]
    },
    {
     "data": {
      "text/plain": [
       "                       Comparison          Z      P.unadj        P.adj\n",
       "1        Burkina Faso 3 - Guayabo -2.2219235 2.628848e-02 0.0492908980\n",
       "2         Burkina Faso 3 - Matses  1.2142650 2.246465e-01 0.3369698032\n",
       "3                Guayabo - Matses  3.7115206 2.060179e-04 0.0007725671\n",
       "4       Burkina Faso 3 - Norman 2 -2.2293016 2.579384e-02 0.0552725188\n",
       "5              Guayabo - Norman 2  0.1568599 8.753553e-01 0.8753552734\n",
       "6               Matses - Norman 2 -3.8672779 1.100570e-04 0.0008254275\n",
       "7  Burkina Faso 3 - Tambo de Mora -1.7886258 7.367510e-02 0.1227918339\n",
       "8         Guayabo - Tambo de Mora  0.5920900 5.537903e-01 0.6922379246\n",
       "9          Matses - Tambo de Mora -3.3524543 8.009847e-04 0.0020024617\n",
       "10       Norman 2 - Tambo de Mora  0.4762133 6.339224e-01 0.7314489576\n",
       "11      Burkina Faso 3 - Tunapuco  1.0437670 2.965932e-01 0.4044452553\n",
       "12             Guayabo - Tunapuco  3.8493438 1.184347e-04 0.0005921735\n",
       "13              Matses - Tunapuco -0.3478685 7.279389e-01 0.7799345754\n",
       "14            Norman 2 - Tunapuco  4.0956159 4.210475e-05 0.0006315712\n",
       "15       Tambo de Mora - Tunapuco  3.4918119 4.797560e-04 0.0014392679"
      ]
     },
     "metadata": {},
     "output_type": "display_data"
    }
   ],
   "source": [
    "pdf(\"Leu-Chol_final.pdf\")\n",
    "boxplot(features$X522.35285903723_5.37529238095238~features$ATTRIBUTE_Urbanization_Score,col=colors,xlab=\"\",ylab=\"Normalized Peak Area\",names=names,par(cex.lab=1.5),par(cex.axis=1.5),main=\"\")\n",
    "dev.off()\n",
    "kruskal.test(features$X522.35285903723_5.37529238095238~features$ATTRIBUTE_Urbanization_Score)\n",
    "kruskal.test(features$X522.35285903723_5.37529238095238~features$ATTRIBUTE_Population)\n",
    "dunnTest(features$X522.35285903723_5.37529238095238~features$ATTRIBUTE_Urbanization_Score,method=\"bh\")\n",
    "dunnTest(features$X522.35285903723_5.37529238095238~features$ATTRIBUTE_Population,method=\"bh\")"
   ]
  },
  {
   "cell_type": "code",
   "execution_count": 11,
   "metadata": {},
   "outputs": [],
   "source": [
    "###Can apply this code to any conj-BA in our data by replacing with the proper m/z and RT."
   ]
  },
  {
   "cell_type": "code",
   "execution_count": null,
   "metadata": {},
   "outputs": [],
   "source": []
  }
 ],
 "metadata": {
  "kernelspec": {
   "display_name": "R",
   "language": "R",
   "name": "ir"
  },
  "language_info": {
   "codemirror_mode": "r",
   "file_extension": ".r",
   "mimetype": "text/x-r-source",
   "name": "R",
   "pygments_lexer": "r",
   "version": "4.0.4"
  }
 },
 "nbformat": 4,
 "nbformat_minor": 4
}
