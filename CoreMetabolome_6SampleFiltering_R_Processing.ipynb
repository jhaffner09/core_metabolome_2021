{
 "cells": [
  {
   "cell_type": "code",
   "execution_count": 1,
   "metadata": {},
   "outputs": [],
   "source": [
    "###Accessing working directory.\n",
    "setwd(\"E:/McCall_Lab/Core_Metabolome/Pre_Aug2021_Revisions/Data_Repository/JupyterNotebook_Code/Data_Filtering_NA\")"
   ]
  },
  {
   "cell_type": "code",
   "execution_count": 2,
   "metadata": {},
   "outputs": [],
   "source": [
    "###Read in feature table output from MZmine, with blanks removed. Organized samples based on population (Norman, Guayabo, Tambo de Mora, Burkina Faso, Tunapuco, Matses)\n",
    "table <- read.csv(\"MSrun3_MZmine_output_6Filtered_Sorted_forR.csv\")"
   ]
  },
  {
   "cell_type": "code",
   "execution_count": 3,
   "metadata": {},
   "outputs": [
    {
     "data": {
      "text/html": [
       "<style>\n",
       ".list-inline {list-style: none; margin:0; padding: 0}\n",
       ".list-inline>li {display: inline-block}\n",
       ".list-inline>li:not(:last-child)::after {content: \"\\00b7\"; padding: 0 .5ex}\n",
       "</style>\n",
       "<ol class=list-inline><li>29732</li><li>108</li></ol>\n"
      ],
      "text/latex": [
       "\\begin{enumerate*}\n",
       "\\item 29732\n",
       "\\item 108\n",
       "\\end{enumerate*}\n"
      ],
      "text/markdown": [
       "1. 29732\n",
       "2. 108\n",
       "\n",
       "\n"
      ],
      "text/plain": [
       "[1] 29732   108"
      ]
     },
     "metadata": {},
     "output_type": "display_data"
    },
    {
     "data": {
      "text/html": [
       "<table class=\"dataframe\">\n",
       "<caption>A data.frame: 6 × 108</caption>\n",
       "<thead>\n",
       "\t<tr><th></th><th scope=col>row.ID</th><th scope=col>row.m.z</th><th scope=col>row.retention.time</th><th scope=col>NO07_NO2.mzXML</th><th scope=col>NO12_NO2.mzXML</th><th scope=col>NO05_NO2.mzXML</th><th scope=col>NO06_NO2.mzXML</th><th scope=col>NO01_N02.mzXML</th><th scope=col>NO09_NO2.mzXML</th><th scope=col>NO13_NO2.mzXML</th><th scope=col>...</th><th scope=col>SM11.mzXML</th><th scope=col>SM23.mzXML</th><th scope=col>SM34.mzXML</th><th scope=col>SM05.mzXML</th><th scope=col>SM33.mzXML</th><th scope=col>SM39.mzXML</th><th scope=col>SM10.mzXML</th><th scope=col>SM29.mzXML</th><th scope=col>SM30.mzXML</th><th scope=col>SM01.mzXML</th></tr>\n",
       "\t<tr><th></th><th scope=col>&lt;int&gt;</th><th scope=col>&lt;dbl&gt;</th><th scope=col>&lt;dbl&gt;</th><th scope=col>&lt;dbl&gt;</th><th scope=col>&lt;dbl&gt;</th><th scope=col>&lt;dbl&gt;</th><th scope=col>&lt;dbl&gt;</th><th scope=col>&lt;dbl&gt;</th><th scope=col>&lt;dbl&gt;</th><th scope=col>&lt;dbl&gt;</th><th scope=col>...</th><th scope=col>&lt;dbl&gt;</th><th scope=col>&lt;dbl&gt;</th><th scope=col>&lt;dbl&gt;</th><th scope=col>&lt;dbl&gt;</th><th scope=col>&lt;dbl&gt;</th><th scope=col>&lt;dbl&gt;</th><th scope=col>&lt;dbl&gt;</th><th scope=col>&lt;dbl&gt;</th><th scope=col>&lt;dbl&gt;</th><th scope=col>&lt;dbl&gt;</th></tr>\n",
       "</thead>\n",
       "<tbody>\n",
       "\t<tr><th scope=row>1</th><td>1</td><td>154.9903</td><td>12.2720016</td><td>5.06e+09</td><td>4.91e+09</td><td>4.45e+09</td><td>4.91e+09</td><td>5.11e+09</td><td>5.07e+09</td><td>5.27e+09</td><td>...</td><td>3.62e+09</td><td>3.91e+09</td><td>5.13e+09</td><td>3.93e+09</td><td>5.10e+09</td><td>5.28e+09</td><td>3.52e+09</td><td>5.30e+09</td><td>4.94e+09</td><td>4.72e+09</td></tr>\n",
       "\t<tr><th scope=row>2</th><td>2</td><td>182.9854</td><td>12.2656879</td><td>3.13e+09</td><td>3.01e+09</td><td>2.82e+09</td><td>3.05e+09</td><td>3.15e+09</td><td>3.11e+09</td><td>3.25e+09</td><td>...</td><td>2.19e+09</td><td>2.38e+09</td><td>3.17e+09</td><td>2.36e+09</td><td>3.13e+09</td><td>3.27e+09</td><td>2.15e+09</td><td>3.30e+09</td><td>3.01e+09</td><td>2.92e+09</td></tr>\n",
       "\t<tr><th scope=row>3</th><td>3</td><td>226.9516</td><td>12.0976729</td><td>8.71e+08</td><td>8.32e+08</td><td>8.55e+08</td><td>9.03e+08</td><td>8.90e+08</td><td>1.03e+09</td><td>9.66e+08</td><td>...</td><td>9.64e+08</td><td>9.58e+08</td><td>8.67e+08</td><td>1.02e+09</td><td>8.64e+08</td><td>9.03e+08</td><td>8.91e+08</td><td>9.12e+08</td><td>8.90e+08</td><td>9.34e+08</td></tr>\n",
       "\t<tr><th scope=row>4</th><td>4</td><td>139.9880</td><td>12.1786132</td><td>5.94e+08</td><td>5.70e+08</td><td>5.24e+08</td><td>5.67e+08</td><td>5.95e+08</td><td>5.80e+08</td><td>5.93e+08</td><td>...</td><td>4.13e+08</td><td>4.45e+08</td><td>5.98e+08</td><td>4.35e+08</td><td>5.79e+08</td><td>5.97e+08</td><td>4.11e+08</td><td>6.18e+08</td><td>5.68e+08</td><td>5.14e+08</td></tr>\n",
       "\t<tr><th scope=row>5</th><td>5</td><td>167.0129</td><td>12.2533067</td><td>1.04e+09</td><td>1.06e+09</td><td>1.10e+09</td><td>1.07e+09</td><td>1.03e+09</td><td>1.04e+09</td><td>1.07e+09</td><td>...</td><td>1.15e+09</td><td>1.14e+09</td><td>1.06e+09</td><td>1.16e+09</td><td>1.05e+09</td><td>1.08e+09</td><td>1.12e+09</td><td>1.05e+09</td><td>1.03e+09</td><td>1.14e+09</td></tr>\n",
       "\t<tr><th scope=row>6</th><td>6</td><td>113.9640</td><td> 0.2333254</td><td>2.23e+07</td><td>1.24e+08</td><td>1.11e+07</td><td>2.06e+07</td><td>1.99e+07</td><td>1.12e+07</td><td>2.72e+07</td><td>...</td><td>3.70e+07</td><td>3.04e+07</td><td>4.09e+07</td><td>2.68e+07</td><td>3.98e+07</td><td>2.14e+07</td><td>3.42e+07</td><td>1.23e+07</td><td>3.56e+07</td><td>3.60e+07</td></tr>\n",
       "</tbody>\n",
       "</table>\n"
      ],
      "text/latex": [
       "A data.frame: 6 × 108\n",
       "\\begin{tabular}{r|lllllllllllllllllllll}\n",
       "  & row.ID & row.m.z & row.retention.time & NO07\\_NO2.mzXML & NO12\\_NO2.mzXML & NO05\\_NO2.mzXML & NO06\\_NO2.mzXML & NO01\\_N02.mzXML & NO09\\_NO2.mzXML & NO13\\_NO2.mzXML & ... & SM11.mzXML & SM23.mzXML & SM34.mzXML & SM05.mzXML & SM33.mzXML & SM39.mzXML & SM10.mzXML & SM29.mzXML & SM30.mzXML & SM01.mzXML\\\\\n",
       "  & <int> & <dbl> & <dbl> & <dbl> & <dbl> & <dbl> & <dbl> & <dbl> & <dbl> & <dbl> & ... & <dbl> & <dbl> & <dbl> & <dbl> & <dbl> & <dbl> & <dbl> & <dbl> & <dbl> & <dbl>\\\\\n",
       "\\hline\n",
       "\t1 & 1 & 154.9903 & 12.2720016 & 5.06e+09 & 4.91e+09 & 4.45e+09 & 4.91e+09 & 5.11e+09 & 5.07e+09 & 5.27e+09 & ... & 3.62e+09 & 3.91e+09 & 5.13e+09 & 3.93e+09 & 5.10e+09 & 5.28e+09 & 3.52e+09 & 5.30e+09 & 4.94e+09 & 4.72e+09\\\\\n",
       "\t2 & 2 & 182.9854 & 12.2656879 & 3.13e+09 & 3.01e+09 & 2.82e+09 & 3.05e+09 & 3.15e+09 & 3.11e+09 & 3.25e+09 & ... & 2.19e+09 & 2.38e+09 & 3.17e+09 & 2.36e+09 & 3.13e+09 & 3.27e+09 & 2.15e+09 & 3.30e+09 & 3.01e+09 & 2.92e+09\\\\\n",
       "\t3 & 3 & 226.9516 & 12.0976729 & 8.71e+08 & 8.32e+08 & 8.55e+08 & 9.03e+08 & 8.90e+08 & 1.03e+09 & 9.66e+08 & ... & 9.64e+08 & 9.58e+08 & 8.67e+08 & 1.02e+09 & 8.64e+08 & 9.03e+08 & 8.91e+08 & 9.12e+08 & 8.90e+08 & 9.34e+08\\\\\n",
       "\t4 & 4 & 139.9880 & 12.1786132 & 5.94e+08 & 5.70e+08 & 5.24e+08 & 5.67e+08 & 5.95e+08 & 5.80e+08 & 5.93e+08 & ... & 4.13e+08 & 4.45e+08 & 5.98e+08 & 4.35e+08 & 5.79e+08 & 5.97e+08 & 4.11e+08 & 6.18e+08 & 5.68e+08 & 5.14e+08\\\\\n",
       "\t5 & 5 & 167.0129 & 12.2533067 & 1.04e+09 & 1.06e+09 & 1.10e+09 & 1.07e+09 & 1.03e+09 & 1.04e+09 & 1.07e+09 & ... & 1.15e+09 & 1.14e+09 & 1.06e+09 & 1.16e+09 & 1.05e+09 & 1.08e+09 & 1.12e+09 & 1.05e+09 & 1.03e+09 & 1.14e+09\\\\\n",
       "\t6 & 6 & 113.9640 &  0.2333254 & 2.23e+07 & 1.24e+08 & 1.11e+07 & 2.06e+07 & 1.99e+07 & 1.12e+07 & 2.72e+07 & ... & 3.70e+07 & 3.04e+07 & 4.09e+07 & 2.68e+07 & 3.98e+07 & 2.14e+07 & 3.42e+07 & 1.23e+07 & 3.56e+07 & 3.60e+07\\\\\n",
       "\\end{tabular}\n"
      ],
      "text/markdown": [
       "\n",
       "A data.frame: 6 × 108\n",
       "\n",
       "| <!--/--> | row.ID &lt;int&gt; | row.m.z &lt;dbl&gt; | row.retention.time &lt;dbl&gt; | NO07_NO2.mzXML &lt;dbl&gt; | NO12_NO2.mzXML &lt;dbl&gt; | NO05_NO2.mzXML &lt;dbl&gt; | NO06_NO2.mzXML &lt;dbl&gt; | NO01_N02.mzXML &lt;dbl&gt; | NO09_NO2.mzXML &lt;dbl&gt; | NO13_NO2.mzXML &lt;dbl&gt; | ... ... | SM11.mzXML &lt;dbl&gt; | SM23.mzXML &lt;dbl&gt; | SM34.mzXML &lt;dbl&gt; | SM05.mzXML &lt;dbl&gt; | SM33.mzXML &lt;dbl&gt; | SM39.mzXML &lt;dbl&gt; | SM10.mzXML &lt;dbl&gt; | SM29.mzXML &lt;dbl&gt; | SM30.mzXML &lt;dbl&gt; | SM01.mzXML &lt;dbl&gt; |\n",
       "|---|---|---|---|---|---|---|---|---|---|---|---|---|---|---|---|---|---|---|---|---|---|\n",
       "| 1 | 1 | 154.9903 | 12.2720016 | 5.06e+09 | 4.91e+09 | 4.45e+09 | 4.91e+09 | 5.11e+09 | 5.07e+09 | 5.27e+09 | ... | 3.62e+09 | 3.91e+09 | 5.13e+09 | 3.93e+09 | 5.10e+09 | 5.28e+09 | 3.52e+09 | 5.30e+09 | 4.94e+09 | 4.72e+09 |\n",
       "| 2 | 2 | 182.9854 | 12.2656879 | 3.13e+09 | 3.01e+09 | 2.82e+09 | 3.05e+09 | 3.15e+09 | 3.11e+09 | 3.25e+09 | ... | 2.19e+09 | 2.38e+09 | 3.17e+09 | 2.36e+09 | 3.13e+09 | 3.27e+09 | 2.15e+09 | 3.30e+09 | 3.01e+09 | 2.92e+09 |\n",
       "| 3 | 3 | 226.9516 | 12.0976729 | 8.71e+08 | 8.32e+08 | 8.55e+08 | 9.03e+08 | 8.90e+08 | 1.03e+09 | 9.66e+08 | ... | 9.64e+08 | 9.58e+08 | 8.67e+08 | 1.02e+09 | 8.64e+08 | 9.03e+08 | 8.91e+08 | 9.12e+08 | 8.90e+08 | 9.34e+08 |\n",
       "| 4 | 4 | 139.9880 | 12.1786132 | 5.94e+08 | 5.70e+08 | 5.24e+08 | 5.67e+08 | 5.95e+08 | 5.80e+08 | 5.93e+08 | ... | 4.13e+08 | 4.45e+08 | 5.98e+08 | 4.35e+08 | 5.79e+08 | 5.97e+08 | 4.11e+08 | 6.18e+08 | 5.68e+08 | 5.14e+08 |\n",
       "| 5 | 5 | 167.0129 | 12.2533067 | 1.04e+09 | 1.06e+09 | 1.10e+09 | 1.07e+09 | 1.03e+09 | 1.04e+09 | 1.07e+09 | ... | 1.15e+09 | 1.14e+09 | 1.06e+09 | 1.16e+09 | 1.05e+09 | 1.08e+09 | 1.12e+09 | 1.05e+09 | 1.03e+09 | 1.14e+09 |\n",
       "| 6 | 6 | 113.9640 |  0.2333254 | 2.23e+07 | 1.24e+08 | 1.11e+07 | 2.06e+07 | 1.99e+07 | 1.12e+07 | 2.72e+07 | ... | 3.70e+07 | 3.04e+07 | 4.09e+07 | 2.68e+07 | 3.98e+07 | 2.14e+07 | 3.42e+07 | 1.23e+07 | 3.56e+07 | 3.60e+07 |\n",
       "\n"
      ],
      "text/plain": [
       "  row.ID row.m.z  row.retention.time NO07_NO2.mzXML NO12_NO2.mzXML\n",
       "1 1      154.9903 12.2720016         5.06e+09       4.91e+09      \n",
       "2 2      182.9854 12.2656879         3.13e+09       3.01e+09      \n",
       "3 3      226.9516 12.0976729         8.71e+08       8.32e+08      \n",
       "4 4      139.9880 12.1786132         5.94e+08       5.70e+08      \n",
       "5 5      167.0129 12.2533067         1.04e+09       1.06e+09      \n",
       "6 6      113.9640  0.2333254         2.23e+07       1.24e+08      \n",
       "  NO05_NO2.mzXML NO06_NO2.mzXML NO01_N02.mzXML NO09_NO2.mzXML NO13_NO2.mzXML\n",
       "1 4.45e+09       4.91e+09       5.11e+09       5.07e+09       5.27e+09      \n",
       "2 2.82e+09       3.05e+09       3.15e+09       3.11e+09       3.25e+09      \n",
       "3 8.55e+08       9.03e+08       8.90e+08       1.03e+09       9.66e+08      \n",
       "4 5.24e+08       5.67e+08       5.95e+08       5.80e+08       5.93e+08      \n",
       "5 1.10e+09       1.07e+09       1.03e+09       1.04e+09       1.07e+09      \n",
       "6 1.11e+07       2.06e+07       1.99e+07       1.12e+07       2.72e+07      \n",
       "  ... SM11.mzXML SM23.mzXML SM34.mzXML SM05.mzXML SM33.mzXML SM39.mzXML\n",
       "1 ... 3.62e+09   3.91e+09   5.13e+09   3.93e+09   5.10e+09   5.28e+09  \n",
       "2 ... 2.19e+09   2.38e+09   3.17e+09   2.36e+09   3.13e+09   3.27e+09  \n",
       "3 ... 9.64e+08   9.58e+08   8.67e+08   1.02e+09   8.64e+08   9.03e+08  \n",
       "4 ... 4.13e+08   4.45e+08   5.98e+08   4.35e+08   5.79e+08   5.97e+08  \n",
       "5 ... 1.15e+09   1.14e+09   1.06e+09   1.16e+09   1.05e+09   1.08e+09  \n",
       "6 ... 3.70e+07   3.04e+07   4.09e+07   2.68e+07   3.98e+07   2.14e+07  \n",
       "  SM10.mzXML SM29.mzXML SM30.mzXML SM01.mzXML\n",
       "1 3.52e+09   5.30e+09   4.94e+09   4.72e+09  \n",
       "2 2.15e+09   3.30e+09   3.01e+09   2.92e+09  \n",
       "3 8.91e+08   9.12e+08   8.90e+08   9.34e+08  \n",
       "4 4.11e+08   6.18e+08   5.68e+08   5.14e+08  \n",
       "5 1.12e+09   1.05e+09   1.03e+09   1.14e+09  \n",
       "6 3.42e+07   1.23e+07   3.56e+07   3.60e+07  "
      ]
     },
     "metadata": {},
     "output_type": "display_data"
    }
   ],
   "source": [
    "###Checking the table is correct. Important to know the columns for each population, which this helps show.\n",
    "dim(table)\n",
    "head(table)"
   ]
  },
  {
   "cell_type": "code",
   "execution_count": 4,
   "metadata": {},
   "outputs": [],
   "source": [
    "###Now that table is read, we want to search for instances where metabolite features are found in at least six samples per population. The following code will search for these instances and output a vector of the indices for each row for each population. \n",
    "grep(\"TRUE\", apply(table[,4:21] == 0, 1, sum) <= 6) -> Pop1\n",
    "###Starting with Norman population (we know it extends from columns 4 through 21)."
   ]
  },
  {
   "cell_type": "code",
   "execution_count": 5,
   "metadata": {},
   "outputs": [],
   "source": [
    "###Performing this same function for each population group (again, we know the column boundaries)\n",
    "grep(\"TRUE\", apply(table[,22:34] == 0, 1, sum) <= 6) -> Pop2\n",
    "\n",
    "grep(\"TRUE\", apply(table[,35:51] == 0, 1, sum) <= 6) -> Pop3\n",
    "\n",
    "grep(\"TRUE\", apply(table[,52:62] == 0, 1, sum) <= 6) -> Pop4\n",
    "\n",
    "grep(\"TRUE\", apply(table[,63:92] == 0, 1, sum) <= 6) -> Pop5\n",
    "\n",
    "grep(\"TRUE\", apply(table[,93:108] == 0, 1, sum) <= 6) -> Pop6"
   ]
  },
  {
   "cell_type": "code",
   "execution_count": 6,
   "metadata": {},
   "outputs": [],
   "source": [
    "###Concatenate these vectors into a single vector, then find unique indices so no values are repeated.\n",
    "c(Pop1,Pop2,Pop3,Pop4,Pop5, Pop6) -> testFinal\n",
    "\n",
    "unique(testFinal) -> uniqueRownames"
   ]
  },
  {
   "cell_type": "code",
   "execution_count": 7,
   "metadata": {},
   "outputs": [],
   "source": [
    "###Use this last vector of unique row indices to pull out the rows from the first table into your final table. This will contain the metabolite features found in at least 6 samples per population.\n",
    "table[uniqueRownames, ] -> finalTable"
   ]
  },
  {
   "cell_type": "code",
   "execution_count": 8,
   "metadata": {},
   "outputs": [
    {
     "data": {
      "text/html": [
       "<style>\n",
       ".list-inline {list-style: none; margin:0; padding: 0}\n",
       ".list-inline>li {display: inline-block}\n",
       ".list-inline>li:not(:last-child)::after {content: \"\\00b7\"; padding: 0 .5ex}\n",
       "</style>\n",
       "<ol class=list-inline><li>23105</li><li>108</li></ol>\n"
      ],
      "text/latex": [
       "\\begin{enumerate*}\n",
       "\\item 23105\n",
       "\\item 108\n",
       "\\end{enumerate*}\n"
      ],
      "text/markdown": [
       "1. 23105\n",
       "2. 108\n",
       "\n",
       "\n"
      ],
      "text/plain": [
       "[1] 23105   108"
      ]
     },
     "metadata": {},
     "output_type": "display_data"
    },
    {
     "data": {
      "text/html": [
       "<table class=\"dataframe\">\n",
       "<caption>A data.frame: 6 × 108</caption>\n",
       "<thead>\n",
       "\t<tr><th></th><th scope=col>row.ID</th><th scope=col>row.m.z</th><th scope=col>row.retention.time</th><th scope=col>NO07_NO2.mzXML</th><th scope=col>NO12_NO2.mzXML</th><th scope=col>NO05_NO2.mzXML</th><th scope=col>NO06_NO2.mzXML</th><th scope=col>NO01_N02.mzXML</th><th scope=col>NO09_NO2.mzXML</th><th scope=col>NO13_NO2.mzXML</th><th scope=col>...</th><th scope=col>SM11.mzXML</th><th scope=col>SM23.mzXML</th><th scope=col>SM34.mzXML</th><th scope=col>SM05.mzXML</th><th scope=col>SM33.mzXML</th><th scope=col>SM39.mzXML</th><th scope=col>SM10.mzXML</th><th scope=col>SM29.mzXML</th><th scope=col>SM30.mzXML</th><th scope=col>SM01.mzXML</th></tr>\n",
       "\t<tr><th></th><th scope=col>&lt;int&gt;</th><th scope=col>&lt;dbl&gt;</th><th scope=col>&lt;dbl&gt;</th><th scope=col>&lt;dbl&gt;</th><th scope=col>&lt;dbl&gt;</th><th scope=col>&lt;dbl&gt;</th><th scope=col>&lt;dbl&gt;</th><th scope=col>&lt;dbl&gt;</th><th scope=col>&lt;dbl&gt;</th><th scope=col>&lt;dbl&gt;</th><th scope=col>...</th><th scope=col>&lt;dbl&gt;</th><th scope=col>&lt;dbl&gt;</th><th scope=col>&lt;dbl&gt;</th><th scope=col>&lt;dbl&gt;</th><th scope=col>&lt;dbl&gt;</th><th scope=col>&lt;dbl&gt;</th><th scope=col>&lt;dbl&gt;</th><th scope=col>&lt;dbl&gt;</th><th scope=col>&lt;dbl&gt;</th><th scope=col>&lt;dbl&gt;</th></tr>\n",
       "</thead>\n",
       "<tbody>\n",
       "\t<tr><th scope=row>1</th><td>1</td><td>154.9903</td><td>12.2720016</td><td>5.06e+09</td><td>4.91e+09</td><td>4.45e+09</td><td>4.91e+09</td><td>5.11e+09</td><td>5.07e+09</td><td>5.27e+09</td><td>...</td><td>3.62e+09</td><td>3.91e+09</td><td>5.13e+09</td><td>3.93e+09</td><td>5.10e+09</td><td>5.28e+09</td><td>3.52e+09</td><td>5.30e+09</td><td>4.94e+09</td><td>4.72e+09</td></tr>\n",
       "\t<tr><th scope=row>2</th><td>2</td><td>182.9854</td><td>12.2656879</td><td>3.13e+09</td><td>3.01e+09</td><td>2.82e+09</td><td>3.05e+09</td><td>3.15e+09</td><td>3.11e+09</td><td>3.25e+09</td><td>...</td><td>2.19e+09</td><td>2.38e+09</td><td>3.17e+09</td><td>2.36e+09</td><td>3.13e+09</td><td>3.27e+09</td><td>2.15e+09</td><td>3.30e+09</td><td>3.01e+09</td><td>2.92e+09</td></tr>\n",
       "\t<tr><th scope=row>3</th><td>3</td><td>226.9516</td><td>12.0976729</td><td>8.71e+08</td><td>8.32e+08</td><td>8.55e+08</td><td>9.03e+08</td><td>8.90e+08</td><td>1.03e+09</td><td>9.66e+08</td><td>...</td><td>9.64e+08</td><td>9.58e+08</td><td>8.67e+08</td><td>1.02e+09</td><td>8.64e+08</td><td>9.03e+08</td><td>8.91e+08</td><td>9.12e+08</td><td>8.90e+08</td><td>9.34e+08</td></tr>\n",
       "\t<tr><th scope=row>4</th><td>4</td><td>139.9880</td><td>12.1786132</td><td>5.94e+08</td><td>5.70e+08</td><td>5.24e+08</td><td>5.67e+08</td><td>5.95e+08</td><td>5.80e+08</td><td>5.93e+08</td><td>...</td><td>4.13e+08</td><td>4.45e+08</td><td>5.98e+08</td><td>4.35e+08</td><td>5.79e+08</td><td>5.97e+08</td><td>4.11e+08</td><td>6.18e+08</td><td>5.68e+08</td><td>5.14e+08</td></tr>\n",
       "\t<tr><th scope=row>5</th><td>5</td><td>167.0129</td><td>12.2533067</td><td>1.04e+09</td><td>1.06e+09</td><td>1.10e+09</td><td>1.07e+09</td><td>1.03e+09</td><td>1.04e+09</td><td>1.07e+09</td><td>...</td><td>1.15e+09</td><td>1.14e+09</td><td>1.06e+09</td><td>1.16e+09</td><td>1.05e+09</td><td>1.08e+09</td><td>1.12e+09</td><td>1.05e+09</td><td>1.03e+09</td><td>1.14e+09</td></tr>\n",
       "\t<tr><th scope=row>6</th><td>6</td><td>113.9640</td><td> 0.2333254</td><td>2.23e+07</td><td>1.24e+08</td><td>1.11e+07</td><td>2.06e+07</td><td>1.99e+07</td><td>1.12e+07</td><td>2.72e+07</td><td>...</td><td>3.70e+07</td><td>3.04e+07</td><td>4.09e+07</td><td>2.68e+07</td><td>3.98e+07</td><td>2.14e+07</td><td>3.42e+07</td><td>1.23e+07</td><td>3.56e+07</td><td>3.60e+07</td></tr>\n",
       "</tbody>\n",
       "</table>\n"
      ],
      "text/latex": [
       "A data.frame: 6 × 108\n",
       "\\begin{tabular}{r|lllllllllllllllllllll}\n",
       "  & row.ID & row.m.z & row.retention.time & NO07\\_NO2.mzXML & NO12\\_NO2.mzXML & NO05\\_NO2.mzXML & NO06\\_NO2.mzXML & NO01\\_N02.mzXML & NO09\\_NO2.mzXML & NO13\\_NO2.mzXML & ... & SM11.mzXML & SM23.mzXML & SM34.mzXML & SM05.mzXML & SM33.mzXML & SM39.mzXML & SM10.mzXML & SM29.mzXML & SM30.mzXML & SM01.mzXML\\\\\n",
       "  & <int> & <dbl> & <dbl> & <dbl> & <dbl> & <dbl> & <dbl> & <dbl> & <dbl> & <dbl> & ... & <dbl> & <dbl> & <dbl> & <dbl> & <dbl> & <dbl> & <dbl> & <dbl> & <dbl> & <dbl>\\\\\n",
       "\\hline\n",
       "\t1 & 1 & 154.9903 & 12.2720016 & 5.06e+09 & 4.91e+09 & 4.45e+09 & 4.91e+09 & 5.11e+09 & 5.07e+09 & 5.27e+09 & ... & 3.62e+09 & 3.91e+09 & 5.13e+09 & 3.93e+09 & 5.10e+09 & 5.28e+09 & 3.52e+09 & 5.30e+09 & 4.94e+09 & 4.72e+09\\\\\n",
       "\t2 & 2 & 182.9854 & 12.2656879 & 3.13e+09 & 3.01e+09 & 2.82e+09 & 3.05e+09 & 3.15e+09 & 3.11e+09 & 3.25e+09 & ... & 2.19e+09 & 2.38e+09 & 3.17e+09 & 2.36e+09 & 3.13e+09 & 3.27e+09 & 2.15e+09 & 3.30e+09 & 3.01e+09 & 2.92e+09\\\\\n",
       "\t3 & 3 & 226.9516 & 12.0976729 & 8.71e+08 & 8.32e+08 & 8.55e+08 & 9.03e+08 & 8.90e+08 & 1.03e+09 & 9.66e+08 & ... & 9.64e+08 & 9.58e+08 & 8.67e+08 & 1.02e+09 & 8.64e+08 & 9.03e+08 & 8.91e+08 & 9.12e+08 & 8.90e+08 & 9.34e+08\\\\\n",
       "\t4 & 4 & 139.9880 & 12.1786132 & 5.94e+08 & 5.70e+08 & 5.24e+08 & 5.67e+08 & 5.95e+08 & 5.80e+08 & 5.93e+08 & ... & 4.13e+08 & 4.45e+08 & 5.98e+08 & 4.35e+08 & 5.79e+08 & 5.97e+08 & 4.11e+08 & 6.18e+08 & 5.68e+08 & 5.14e+08\\\\\n",
       "\t5 & 5 & 167.0129 & 12.2533067 & 1.04e+09 & 1.06e+09 & 1.10e+09 & 1.07e+09 & 1.03e+09 & 1.04e+09 & 1.07e+09 & ... & 1.15e+09 & 1.14e+09 & 1.06e+09 & 1.16e+09 & 1.05e+09 & 1.08e+09 & 1.12e+09 & 1.05e+09 & 1.03e+09 & 1.14e+09\\\\\n",
       "\t6 & 6 & 113.9640 &  0.2333254 & 2.23e+07 & 1.24e+08 & 1.11e+07 & 2.06e+07 & 1.99e+07 & 1.12e+07 & 2.72e+07 & ... & 3.70e+07 & 3.04e+07 & 4.09e+07 & 2.68e+07 & 3.98e+07 & 2.14e+07 & 3.42e+07 & 1.23e+07 & 3.56e+07 & 3.60e+07\\\\\n",
       "\\end{tabular}\n"
      ],
      "text/markdown": [
       "\n",
       "A data.frame: 6 × 108\n",
       "\n",
       "| <!--/--> | row.ID &lt;int&gt; | row.m.z &lt;dbl&gt; | row.retention.time &lt;dbl&gt; | NO07_NO2.mzXML &lt;dbl&gt; | NO12_NO2.mzXML &lt;dbl&gt; | NO05_NO2.mzXML &lt;dbl&gt; | NO06_NO2.mzXML &lt;dbl&gt; | NO01_N02.mzXML &lt;dbl&gt; | NO09_NO2.mzXML &lt;dbl&gt; | NO13_NO2.mzXML &lt;dbl&gt; | ... ... | SM11.mzXML &lt;dbl&gt; | SM23.mzXML &lt;dbl&gt; | SM34.mzXML &lt;dbl&gt; | SM05.mzXML &lt;dbl&gt; | SM33.mzXML &lt;dbl&gt; | SM39.mzXML &lt;dbl&gt; | SM10.mzXML &lt;dbl&gt; | SM29.mzXML &lt;dbl&gt; | SM30.mzXML &lt;dbl&gt; | SM01.mzXML &lt;dbl&gt; |\n",
       "|---|---|---|---|---|---|---|---|---|---|---|---|---|---|---|---|---|---|---|---|---|---|\n",
       "| 1 | 1 | 154.9903 | 12.2720016 | 5.06e+09 | 4.91e+09 | 4.45e+09 | 4.91e+09 | 5.11e+09 | 5.07e+09 | 5.27e+09 | ... | 3.62e+09 | 3.91e+09 | 5.13e+09 | 3.93e+09 | 5.10e+09 | 5.28e+09 | 3.52e+09 | 5.30e+09 | 4.94e+09 | 4.72e+09 |\n",
       "| 2 | 2 | 182.9854 | 12.2656879 | 3.13e+09 | 3.01e+09 | 2.82e+09 | 3.05e+09 | 3.15e+09 | 3.11e+09 | 3.25e+09 | ... | 2.19e+09 | 2.38e+09 | 3.17e+09 | 2.36e+09 | 3.13e+09 | 3.27e+09 | 2.15e+09 | 3.30e+09 | 3.01e+09 | 2.92e+09 |\n",
       "| 3 | 3 | 226.9516 | 12.0976729 | 8.71e+08 | 8.32e+08 | 8.55e+08 | 9.03e+08 | 8.90e+08 | 1.03e+09 | 9.66e+08 | ... | 9.64e+08 | 9.58e+08 | 8.67e+08 | 1.02e+09 | 8.64e+08 | 9.03e+08 | 8.91e+08 | 9.12e+08 | 8.90e+08 | 9.34e+08 |\n",
       "| 4 | 4 | 139.9880 | 12.1786132 | 5.94e+08 | 5.70e+08 | 5.24e+08 | 5.67e+08 | 5.95e+08 | 5.80e+08 | 5.93e+08 | ... | 4.13e+08 | 4.45e+08 | 5.98e+08 | 4.35e+08 | 5.79e+08 | 5.97e+08 | 4.11e+08 | 6.18e+08 | 5.68e+08 | 5.14e+08 |\n",
       "| 5 | 5 | 167.0129 | 12.2533067 | 1.04e+09 | 1.06e+09 | 1.10e+09 | 1.07e+09 | 1.03e+09 | 1.04e+09 | 1.07e+09 | ... | 1.15e+09 | 1.14e+09 | 1.06e+09 | 1.16e+09 | 1.05e+09 | 1.08e+09 | 1.12e+09 | 1.05e+09 | 1.03e+09 | 1.14e+09 |\n",
       "| 6 | 6 | 113.9640 |  0.2333254 | 2.23e+07 | 1.24e+08 | 1.11e+07 | 2.06e+07 | 1.99e+07 | 1.12e+07 | 2.72e+07 | ... | 3.70e+07 | 3.04e+07 | 4.09e+07 | 2.68e+07 | 3.98e+07 | 2.14e+07 | 3.42e+07 | 1.23e+07 | 3.56e+07 | 3.60e+07 |\n",
       "\n"
      ],
      "text/plain": [
       "  row.ID row.m.z  row.retention.time NO07_NO2.mzXML NO12_NO2.mzXML\n",
       "1 1      154.9903 12.2720016         5.06e+09       4.91e+09      \n",
       "2 2      182.9854 12.2656879         3.13e+09       3.01e+09      \n",
       "3 3      226.9516 12.0976729         8.71e+08       8.32e+08      \n",
       "4 4      139.9880 12.1786132         5.94e+08       5.70e+08      \n",
       "5 5      167.0129 12.2533067         1.04e+09       1.06e+09      \n",
       "6 6      113.9640  0.2333254         2.23e+07       1.24e+08      \n",
       "  NO05_NO2.mzXML NO06_NO2.mzXML NO01_N02.mzXML NO09_NO2.mzXML NO13_NO2.mzXML\n",
       "1 4.45e+09       4.91e+09       5.11e+09       5.07e+09       5.27e+09      \n",
       "2 2.82e+09       3.05e+09       3.15e+09       3.11e+09       3.25e+09      \n",
       "3 8.55e+08       9.03e+08       8.90e+08       1.03e+09       9.66e+08      \n",
       "4 5.24e+08       5.67e+08       5.95e+08       5.80e+08       5.93e+08      \n",
       "5 1.10e+09       1.07e+09       1.03e+09       1.04e+09       1.07e+09      \n",
       "6 1.11e+07       2.06e+07       1.99e+07       1.12e+07       2.72e+07      \n",
       "  ... SM11.mzXML SM23.mzXML SM34.mzXML SM05.mzXML SM33.mzXML SM39.mzXML\n",
       "1 ... 3.62e+09   3.91e+09   5.13e+09   3.93e+09   5.10e+09   5.28e+09  \n",
       "2 ... 2.19e+09   2.38e+09   3.17e+09   2.36e+09   3.13e+09   3.27e+09  \n",
       "3 ... 9.64e+08   9.58e+08   8.67e+08   1.02e+09   8.64e+08   9.03e+08  \n",
       "4 ... 4.13e+08   4.45e+08   5.98e+08   4.35e+08   5.79e+08   5.97e+08  \n",
       "5 ... 1.15e+09   1.14e+09   1.06e+09   1.16e+09   1.05e+09   1.08e+09  \n",
       "6 ... 3.70e+07   3.04e+07   4.09e+07   2.68e+07   3.98e+07   2.14e+07  \n",
       "  SM10.mzXML SM29.mzXML SM30.mzXML SM01.mzXML\n",
       "1 3.52e+09   5.30e+09   4.94e+09   4.72e+09  \n",
       "2 2.15e+09   3.30e+09   3.01e+09   2.92e+09  \n",
       "3 8.91e+08   9.12e+08   8.90e+08   9.34e+08  \n",
       "4 4.11e+08   6.18e+08   5.68e+08   5.14e+08  \n",
       "5 1.12e+09   1.05e+09   1.03e+09   1.14e+09  \n",
       "6 3.42e+07   1.23e+07   3.56e+07   3.60e+07  "
      ]
     },
     "metadata": {},
     "output_type": "display_data"
    }
   ],
   "source": [
    "dim(finalTable)\n",
    "head(finalTable)"
   ]
  },
  {
   "cell_type": "code",
   "execution_count": null,
   "metadata": {},
   "outputs": [],
   "source": []
  }
 ],
 "metadata": {
  "kernelspec": {
   "display_name": "R",
   "language": "R",
   "name": "ir"
  },
  "language_info": {
   "codemirror_mode": "r",
   "file_extension": ".r",
   "mimetype": "text/x-r-source",
   "name": "R",
   "pygments_lexer": "r",
   "version": "4.0.4"
  }
 },
 "nbformat": 4,
 "nbformat_minor": 4
}
